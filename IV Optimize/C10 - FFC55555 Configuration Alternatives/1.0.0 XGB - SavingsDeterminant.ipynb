{
  "cells": [
    {
      "cell_type": "code",
      "execution_count": 1,
      "metadata": {
        "tags": [],
        "trusted": true
      },
      "outputs": [],
      "source": [
        "import numpy as np\n",
        "import xgboost as xgb\n",
        "from sklearn.model_selection import train_test_split\n",
        "from sklearn.metrics import mean_squared_error\n",
        "import pandas as pd\n",
        "import matplotlib.pyplot as plt\n",
        "from sklearn.metrics import r2_score\n",
        "from sklearn.model_selection import cross_val_score, KFold\n",
        "from xgboost import DMatrix\n"
      ]
    },
    {
      "cell_type": "markdown",
      "metadata": {},
      "source": [
        "### Input Data - Cleaned Dataset All"
      ]
    },
    {
      "cell_type": "code",
      "execution_count": 2,
      "metadata": {},
      "outputs": [
        {
          "name": "stdout",
          "output_type": "stream",
          "text": [
            "                  Date  425_pct_Al    Al2O3  M_Value  C4_pct_Eth  C4_pct_H2O  \\\n",
            "0  2012-05-16 16:00:00    6.307630  11.3300  3.50893    2.508420    21.96340   \n",
            "1  2012-05-16 18:00:00    6.308335  11.3750  3.50863    2.511135    21.96865   \n",
            "2  2012-05-16 19:00:00    6.309390  11.4425  3.50818    2.515210    21.97655   \n",
            "3  2012-05-16 20:00:00    6.310090  11.4875  3.50788    2.517925    21.98185   \n",
            "4  2012-05-16 21:00:00    6.310790  11.5325  3.50758    2.520640    21.98715   \n",
            "\n",
            "   HydWtr_pct_Ammonia  C4_pct_Hex  HydWtr_Na2O    Butanol  ...    FC55576  \\\n",
            "0            0.908765    0.659256     2.712180  54.858300  ...  334.94800   \n",
            "1            0.907643    0.659930     2.805415  54.858300  ...  334.94800   \n",
            "2            0.905959    0.660942     2.945270  54.858300  ...  334.94800   \n",
            "3            0.904837    0.661616     3.038505  51.190050  ...  332.47200   \n",
            "4            0.903715    0.662291     3.131740  48.744567  ...  338.63375   \n",
            "\n",
            "   FFC55553  FFC55555    LC55557    LC90366    LC90368   PI55020  TC55552  \\\n",
            "0  0.996975  0.751501  65.873400  61.011100  51.234400 -0.607993  177.188   \n",
            "1  0.996975  0.751501  65.873400  61.011100  51.234400 -0.607993  177.188   \n",
            "2  0.996975  0.751501  65.873400  61.011100  51.234400 -0.607993  177.188   \n",
            "3  0.998648  0.750505  65.957600  56.694400  50.868167 -0.626386  177.417   \n",
            "4  1.000349  0.750325  65.966425  55.181525  50.740225 -0.632433  177.459   \n",
            "\n",
            "      TI55021  Year  \n",
            "0  212.861000  2012  \n",
            "1  212.861000  2012  \n",
            "2  212.861000  2012  \n",
            "3  212.822333  2012  \n",
            "4  212.799750  2012  \n",
            "\n",
            "[5 rows x 28 columns]\n"
          ]
        }
      ],
      "source": [
        "\n",
        "# df_TagDesc = pd.read_csv(r'C:\\Users\\saust\\OneDrive\\Desktop\\GitRepo\\Project-OptiC4\\CSV\\Not for Processing\\TagDesc.csv')\n",
        "\n",
        "# df_All_1 = pd.read_csv(r'C:\\Users\\saust\\OneDrive\\Desktop\\GitRepo\\Project-OptiC4\\1 Preprocess\\Merge Data\\contData_all_Avg_1o2.csv')\n",
        "# df_All_2 = pd.read_csv(r'C:\\Users\\saust\\OneDrive\\Desktop\\GitRepo\\Project-OptiC4\\1 Preprocess\\Merge Data\\contData_all_Avg_2o2.csv')\n",
        "# # Concatenate (union) the dataframes\n",
        "# df_All = pd.concat([df_All_1, df_All_2], ignore_index=True)\n",
        "\n",
        "df_All = pd.read_csv(r'C:\\Users\\austinsh\\Project-OptiC4\\IV Optimize\\Testing Data\\Merge Data\\merged_data.csv')\n",
        "\n",
        "print(df_All.head())\n"
      ]
    },
    {
      "cell_type": "code",
      "execution_count": 3,
      "metadata": {
        "trusted": true
      },
      "outputs": [],
      "source": [
        "# Set max columns to display\n",
        "pd.set_option('display.max_columns', None)"
      ]
    },
    {
      "cell_type": "code",
      "execution_count": 4,
      "metadata": {},
      "outputs": [],
      "source": [
        "# # # List of columns to exclude from the XGboost feature selection results\n",
        "# exclude_columns = [\n",
        "#                     'TI40050',\n",
        "#                     'TC55555',\n",
        "#                     'LC55568',\n",
        "#                     'LC55557',\n",
        "#                     'Al2O3',\n",
        "#                     'LC55553',\n",
        "#                     'M_Value',\n",
        "#                     'FFC55553',\n",
        "#                     'DI55580',\n",
        "#                     'Al2O3',\n",
        "#                     'C4_pct_Hex',\n",
        "#                     'LC52572',\n",
        "\n",
        "# #                  'Date',\n",
        "# #                  'C4_pct_Hex', 'HydWtr_Na2O',\n",
        "# #                  'TC55555'  \n",
        "#                    ]\n",
        "\n",
        "# # # Create a new DataFrame without the excluded columnsd\n",
        "# df_All = df_All.drop(columns=exclude_columns)"
      ]
    },
    {
      "cell_type": "code",
      "execution_count": 5,
      "metadata": {},
      "outputs": [
        {
          "data": {
            "text/plain": [
              "Index(['Date', '425_pct_Al', 'Al2O3', 'M_Value', 'C4_pct_Eth', 'C4_pct_H2O',\n",
              "       'HydWtr_pct_Ammonia', 'C4_pct_Hex', 'HydWtr_Na2O', 'Butanol', 'Decanol',\n",
              "       'DI55102', 'DI55152', 'DI55580', 'FC55003', 'FC55009', 'FC55552',\n",
              "       'FC55569', 'FC55576', 'FFC55553', 'FFC55555', 'LC55557', 'LC90366',\n",
              "       'LC90368', 'PI55020', 'TC55552', 'TI55021', 'Year'],\n",
              "      dtype='object')"
            ]
          },
          "execution_count": 5,
          "metadata": {},
          "output_type": "execute_result"
        }
      ],
      "source": [
        "df_All.columns"
      ]
    },
    {
      "cell_type": "code",
      "execution_count": 6,
      "metadata": {},
      "outputs": [],
      "source": [
        "# df_All = df_All[df_All['Date'] > '2020-06-15 00:00:00']"
      ]
    },
    {
      "cell_type": "code",
      "execution_count": 7,
      "metadata": {},
      "outputs": [],
      "source": [
        "# df_All.drop('Date', axis=1, inplace=True)\n",
        "\n",
        "\n"
      ]
    },
    {
      "cell_type": "code",
      "execution_count": 8,
      "metadata": {},
      "outputs": [
        {
          "name": "stdout",
          "output_type": "stream",
          "text": [
            "         425_pct_Al         Al2O3       M_Value    C4_pct_Eth    C4_pct_H2O  \\\n",
            "count  47714.000000  47714.000000  47714.000000  47714.000000  47714.000000   \n",
            "mean       6.148541     11.355834      3.592181      1.210588     21.161871   \n",
            "std        0.255252      0.570302      0.177351      0.687390      2.756784   \n",
            "min        5.174085      9.531050      1.347070      0.064828      8.149630   \n",
            "25%        6.006720     11.084600      3.500671      0.627316     18.776275   \n",
            "50%        6.142755     11.483750      3.587543      1.107550     21.435250   \n",
            "75%        6.290847     11.701963      3.679920      1.674442     23.312362   \n",
            "max        7.134450     12.879900      5.827565     11.732650     34.572900   \n",
            "\n",
            "       HydWtr_pct_Ammonia    C4_pct_Hex   HydWtr_Na2O       Butanol  \\\n",
            "count        47714.000000  47714.000000  47714.000000  47714.000000   \n",
            "mean             0.970035      0.466893      0.807371      9.791394   \n",
            "std              0.149562      0.241990      0.696261      9.707619   \n",
            "min              0.374388      0.000065      0.002854      0.361524   \n",
            "25%              0.876725      0.348225      0.454690      3.857346   \n",
            "50%              0.940886      0.443541      0.663483      5.929648   \n",
            "75%              1.033061      0.541348      0.980213     11.318156   \n",
            "max              1.607320      3.120225     12.888450     56.890000   \n",
            "\n",
            "            Decanol       DI55102       DI55152       DI55580       FC55003  \\\n",
            "count  47714.000000  47714.000000  47714.000000  47714.000000  47714.000000   \n",
            "mean       3.064216      0.943877      0.932745      0.999486   6004.791090   \n",
            "std        1.525142      0.053908      0.030088      0.050508    762.171845   \n",
            "min        0.087500      0.800581      0.837560      0.849143   3139.415000   \n",
            "25%        1.877110      0.910338      0.912799      0.966121   5540.429062   \n",
            "50%        2.963439      0.950149      0.932673      0.998782   6019.237500   \n",
            "75%        4.076668      0.984691      0.952255      1.034763   6523.895000   \n",
            "max        7.970000      1.059549      1.024214      1.142216   8786.106250   \n",
            "\n",
            "            FC55009       FC55552       FC55569       FC55576      FFC55553  \\\n",
            "count  47714.000000  47714.000000  47714.000000  47714.000000  47714.000000   \n",
            "mean     840.289986  35990.386458   6606.291231    368.941410      1.000357   \n",
            "std      591.184454   4709.514474    379.773482    251.932860      0.036512   \n",
            "min        0.000000  18043.450000   5147.615000      0.000000      0.840301   \n",
            "25%      313.617268  34814.115625   6375.680625    185.908344      0.977486   \n",
            "50%      823.461687  37957.818750   6584.170625    338.371000      0.999037   \n",
            "75%     1314.318313  38999.900000   6814.792812    541.867500      1.019996   \n",
            "max     2627.221250  41922.012500   8078.870000   1057.340000      1.157945   \n",
            "\n",
            "           FFC55555       LC55557       LC90366       LC90368       PI55020  \\\n",
            "count  47714.000000  47714.000000  47714.000000  47714.000000  47714.000000   \n",
            "mean       0.771846     69.424299     46.362932     36.563289     -1.470132   \n",
            "std        0.022878      2.823207     29.012443     19.942436      1.110731   \n",
            "min        0.698679     60.354813      0.000000      0.118033     -4.728290   \n",
            "25%        0.759217     66.857769     21.400597     20.376931     -2.342105   \n",
            "50%        0.773396     70.052856     47.759581     41.591725     -1.479155   \n",
            "75%        0.788175     71.838028     77.038278     51.681016     -0.450932   \n",
            "max        0.855941     76.225175     87.901600     81.166888      1.486826   \n",
            "\n",
            "            TC55552       TI55021          Year  \n",
            "count  47714.000000  47714.000000  47714.000000  \n",
            "mean     168.949155    223.109576   2016.034476  \n",
            "std       15.090676      9.519751      2.349791  \n",
            "min      120.822750    210.532500   2012.000000  \n",
            "25%      155.874094    217.532375   2014.000000  \n",
            "50%      172.811188    220.270000   2016.000000  \n",
            "75%      180.821188    223.958937   2018.000000  \n",
            "max      199.818125    258.022500   2022.000000  \n"
          ]
        }
      ],
      "source": [
        "print(df_All.describe())"
      ]
    },
    {
      "cell_type": "code",
      "execution_count": 9,
      "metadata": {},
      "outputs": [],
      "source": [
        "# # Assuming your data is in filtered_df and you want to predict 'target_column_name'\n",
        "# df = df_All.drop(['Butanol', 'FC55009', 'PI55004', 'PI55020','TI55021'], axis=1)  # Replace 'target_column_name' with your target column's name\n",
        "# # y = df_All['Decanol']"
      ]
    },
    {
      "cell_type": "code",
      "execution_count": 10,
      "metadata": {},
      "outputs": [],
      "source": [
        "# # Keep only rows with specified IDs\n",
        "# feature_names = [\n",
        "# '425_pct_Al',\n",
        "# 'C4_pct_Eth',\n",
        "# 'C4_pct_H2O',\n",
        "# 'HydWtr_pct_Ammonia',\n",
        "# 'HydWtr_Na2O',\n",
        "# 'DI55102',\n",
        "# 'DI55152',\n",
        "# 'FC55003',\n",
        "# 'FC55009',\n",
        "# 'FC55552',\n",
        "# 'FC55569',\n",
        "# 'FC55576',\n",
        "# 'FFC55555',\n",
        "# 'LC90366',\n",
        "# 'LC90368',\n",
        "# 'PI55004',\n",
        "# 'PI55020',\n",
        "# 'TC55552',\n",
        "# 'TI55021'\n",
        "# ]\n",
        "    "
      ]
    },
    {
      "cell_type": "code",
      "execution_count": 11,
      "metadata": {},
      "outputs": [
        {
          "ename": "ValueError",
          "evalue": "Feature shape mismatch, expected: 18, got 19",
          "output_type": "error",
          "traceback": [
            "\u001b[1;31m---------------------------------------------------------------------------\u001b[0m",
            "\u001b[1;31mValueError\u001b[0m                                Traceback (most recent call last)",
            "Cell \u001b[1;32mIn[11], line 44\u001b[0m\n\u001b[0;32m     41\u001b[0m row_for_prediction[\u001b[38;5;124m'\u001b[39m\u001b[38;5;124mFFC55555\u001b[39m\u001b[38;5;124m'\u001b[39m] \u001b[38;5;241m=\u001b[39m row_for_prediction[\u001b[38;5;124m'\u001b[39m\u001b[38;5;124mFFC55555_adj\u001b[39m\u001b[38;5;124m'\u001b[39m]\n\u001b[0;32m     43\u001b[0m \u001b[38;5;66;03m# Process record through model C10 for Decanol\u001b[39;00m\n\u001b[1;32m---> 44\u001b[0m df_All\u001b[38;5;241m.\u001b[39mat[index, \u001b[38;5;124m'\u001b[39m\u001b[38;5;124mDecanol_adj\u001b[39m\u001b[38;5;124m'\u001b[39m] \u001b[38;5;241m=\u001b[39m \u001b[43mpredict_value\u001b[49m\u001b[43m(\u001b[49m\u001b[43mc10_model\u001b[49m\u001b[43m,\u001b[49m\u001b[43m \u001b[49m\u001b[43mrow_for_prediction\u001b[49m\u001b[43m,\u001b[49m\u001b[43m \u001b[49m\u001b[43mdecanol_feature_names\u001b[49m\u001b[43m)\u001b[49m\n\u001b[0;32m     46\u001b[0m \u001b[38;5;66;03m# Process record through model C4 for Butanol\u001b[39;00m\n\u001b[0;32m     47\u001b[0m df_All\u001b[38;5;241m.\u001b[39mat[index, \u001b[38;5;124m'\u001b[39m\u001b[38;5;124mButanol_adj\u001b[39m\u001b[38;5;124m'\u001b[39m] \u001b[38;5;241m=\u001b[39m predict_value(c4_model, row_for_prediction, butanol_feature_names)\n",
            "Cell \u001b[1;32mIn[11], line 20\u001b[0m, in \u001b[0;36mpredict_value\u001b[1;34m(model, row, feature_names)\u001b[0m\n\u001b[0;32m     17\u001b[0m \u001b[38;5;28;01mdef\u001b[39;00m \u001b[38;5;21mpredict_value\u001b[39m(model, row, feature_names):\n\u001b[0;32m     18\u001b[0m     \u001b[38;5;66;03m# Ensure 'row' is prepared correctly for your model\u001b[39;00m\n\u001b[0;32m     19\u001b[0m     data_for_prediction \u001b[38;5;241m=\u001b[39m row[feature_names]\u001b[38;5;241m.\u001b[39mvalues\u001b[38;5;241m.\u001b[39mreshape(\u001b[38;5;241m1\u001b[39m, \u001b[38;5;241m-\u001b[39m\u001b[38;5;241m1\u001b[39m)\n\u001b[1;32m---> 20\u001b[0m     prediction \u001b[38;5;241m=\u001b[39m \u001b[43mmodel\u001b[49m\u001b[38;5;241;43m.\u001b[39;49m\u001b[43mpredict\u001b[49m\u001b[43m(\u001b[49m\u001b[43mdata_for_prediction\u001b[49m\u001b[43m)\u001b[49m[\u001b[38;5;241m0\u001b[39m]\n\u001b[0;32m     21\u001b[0m     \u001b[38;5;28;01mreturn\u001b[39;00m prediction\n",
            "File \u001b[1;32mc:\\Users\\austinsh\\AppData\\Local\\Programs\\Python\\Python312\\Lib\\site-packages\\xgboost\\sklearn.py:1168\u001b[0m, in \u001b[0;36mXGBModel.predict\u001b[1;34m(self, X, output_margin, validate_features, base_margin, iteration_range)\u001b[0m\n\u001b[0;32m   1166\u001b[0m \u001b[38;5;28;01mif\u001b[39;00m \u001b[38;5;28mself\u001b[39m\u001b[38;5;241m.\u001b[39m_can_use_inplace_predict():\n\u001b[0;32m   1167\u001b[0m     \u001b[38;5;28;01mtry\u001b[39;00m:\n\u001b[1;32m-> 1168\u001b[0m         predts \u001b[38;5;241m=\u001b[39m \u001b[38;5;28;43mself\u001b[39;49m\u001b[38;5;241;43m.\u001b[39;49m\u001b[43mget_booster\u001b[49m\u001b[43m(\u001b[49m\u001b[43m)\u001b[49m\u001b[38;5;241;43m.\u001b[39;49m\u001b[43minplace_predict\u001b[49m\u001b[43m(\u001b[49m\n\u001b[0;32m   1169\u001b[0m \u001b[43m            \u001b[49m\u001b[43mdata\u001b[49m\u001b[38;5;241;43m=\u001b[39;49m\u001b[43mX\u001b[49m\u001b[43m,\u001b[49m\n\u001b[0;32m   1170\u001b[0m \u001b[43m            \u001b[49m\u001b[43miteration_range\u001b[49m\u001b[38;5;241;43m=\u001b[39;49m\u001b[43miteration_range\u001b[49m\u001b[43m,\u001b[49m\n\u001b[0;32m   1171\u001b[0m \u001b[43m            \u001b[49m\u001b[43mpredict_type\u001b[49m\u001b[38;5;241;43m=\u001b[39;49m\u001b[38;5;124;43m\"\u001b[39;49m\u001b[38;5;124;43mmargin\u001b[39;49m\u001b[38;5;124;43m\"\u001b[39;49m\u001b[43m \u001b[49m\u001b[38;5;28;43;01mif\u001b[39;49;00m\u001b[43m \u001b[49m\u001b[43moutput_margin\u001b[49m\u001b[43m \u001b[49m\u001b[38;5;28;43;01melse\u001b[39;49;00m\u001b[43m \u001b[49m\u001b[38;5;124;43m\"\u001b[39;49m\u001b[38;5;124;43mvalue\u001b[39;49m\u001b[38;5;124;43m\"\u001b[39;49m\u001b[43m,\u001b[49m\n\u001b[0;32m   1172\u001b[0m \u001b[43m            \u001b[49m\u001b[43mmissing\u001b[49m\u001b[38;5;241;43m=\u001b[39;49m\u001b[38;5;28;43mself\u001b[39;49m\u001b[38;5;241;43m.\u001b[39;49m\u001b[43mmissing\u001b[49m\u001b[43m,\u001b[49m\n\u001b[0;32m   1173\u001b[0m \u001b[43m            \u001b[49m\u001b[43mbase_margin\u001b[49m\u001b[38;5;241;43m=\u001b[39;49m\u001b[43mbase_margin\u001b[49m\u001b[43m,\u001b[49m\n\u001b[0;32m   1174\u001b[0m \u001b[43m            \u001b[49m\u001b[43mvalidate_features\u001b[49m\u001b[38;5;241;43m=\u001b[39;49m\u001b[43mvalidate_features\u001b[49m\u001b[43m,\u001b[49m\n\u001b[0;32m   1175\u001b[0m \u001b[43m        \u001b[49m\u001b[43m)\u001b[49m\n\u001b[0;32m   1176\u001b[0m         \u001b[38;5;28;01mif\u001b[39;00m _is_cupy_array(predts):\n\u001b[0;32m   1177\u001b[0m             \u001b[38;5;28;01mimport\u001b[39;00m \u001b[38;5;21;01mcupy\u001b[39;00m  \u001b[38;5;66;03m# pylint: disable=import-error\u001b[39;00m\n",
            "File \u001b[1;32mc:\\Users\\austinsh\\AppData\\Local\\Programs\\Python\\Python312\\Lib\\site-packages\\xgboost\\core.py:2428\u001b[0m, in \u001b[0;36mBooster.inplace_predict\u001b[1;34m(self, data, iteration_range, predict_type, missing, validate_features, base_margin, strict_shape)\u001b[0m\n\u001b[0;32m   2424\u001b[0m         \u001b[38;5;28;01mraise\u001b[39;00m \u001b[38;5;167;01mTypeError\u001b[39;00m(\n\u001b[0;32m   2425\u001b[0m             \u001b[38;5;124m\"\u001b[39m\u001b[38;5;124m`shape` attribute is required when `validate_features` is True.\u001b[39m\u001b[38;5;124m\"\u001b[39m\n\u001b[0;32m   2426\u001b[0m         )\n\u001b[0;32m   2427\u001b[0m     \u001b[38;5;28;01mif\u001b[39;00m \u001b[38;5;28mlen\u001b[39m(data\u001b[38;5;241m.\u001b[39mshape) \u001b[38;5;241m!=\u001b[39m \u001b[38;5;241m1\u001b[39m \u001b[38;5;129;01mand\u001b[39;00m \u001b[38;5;28mself\u001b[39m\u001b[38;5;241m.\u001b[39mnum_features() \u001b[38;5;241m!=\u001b[39m data\u001b[38;5;241m.\u001b[39mshape[\u001b[38;5;241m1\u001b[39m]:\n\u001b[1;32m-> 2428\u001b[0m         \u001b[38;5;28;01mraise\u001b[39;00m \u001b[38;5;167;01mValueError\u001b[39;00m(\n\u001b[0;32m   2429\u001b[0m             \u001b[38;5;124mf\u001b[39m\u001b[38;5;124m\"\u001b[39m\u001b[38;5;124mFeature shape mismatch, expected: \u001b[39m\u001b[38;5;132;01m{\u001b[39;00m\u001b[38;5;28mself\u001b[39m\u001b[38;5;241m.\u001b[39mnum_features()\u001b[38;5;132;01m}\u001b[39;00m\u001b[38;5;124m, \u001b[39m\u001b[38;5;124m\"\u001b[39m\n\u001b[0;32m   2430\u001b[0m             \u001b[38;5;124mf\u001b[39m\u001b[38;5;124m\"\u001b[39m\u001b[38;5;124mgot \u001b[39m\u001b[38;5;132;01m{\u001b[39;00mdata\u001b[38;5;241m.\u001b[39mshape[\u001b[38;5;241m1\u001b[39m]\u001b[38;5;132;01m}\u001b[39;00m\u001b[38;5;124m\"\u001b[39m\n\u001b[0;32m   2431\u001b[0m         )\n\u001b[0;32m   2433\u001b[0m \u001b[38;5;28;01mif\u001b[39;00m _is_np_array_like(data):\n\u001b[0;32m   2434\u001b[0m     \u001b[38;5;28;01mfrom\u001b[39;00m \u001b[38;5;21;01m.\u001b[39;00m\u001b[38;5;21;01mdata\u001b[39;00m \u001b[38;5;28;01mimport\u001b[39;00m _ensure_np_dtype\n",
            "\u001b[1;31mValueError\u001b[0m: Feature shape mismatch, expected: 18, got 19"
          ]
        }
      ],
      "source": [
        "import pickle\n",
        "\n",
        "# Load the trained XGBoost models\n",
        "with open(r'C:\\Users\\austinsh\\Project-OptiC4\\III Models\\3 Model C10\\5 Preprocessing - Slecected Features\\Updated Model\\C10_xgb_model.sav', 'rb') as model_file:\n",
        "    c10_model = pickle.load(model_file)\n",
        "with open(r'C:\\Users\\austinsh\\Project-OptiC4\\III Models\\3 Model C4\\5 Preprocessing - Slecected Features\\Updated Model\\C4_xgb_model.sav', 'rb') as model_file:\n",
        "    c4_model = pickle.load(model_file)\n",
        "with open(r'C:\\Users\\austinsh\\Project-OptiC4\\III Models\\3 Model STEAM - FC55569\\5 Preprocessing - Slecected Features\\Updated Model\\STEAM_xgb_model.sav', 'rb') as model_file:\n",
        "    steam_model = pickle.load(model_file)\n",
        "\n",
        "# Initialize the new columns in the original df\n",
        "df_All['FFC55555_adj'] = df_All['FFC55555']\n",
        "df_All['Decanol_adj'] = None  # Using None as a placeholder\n",
        "df_All['Butanol_adj'] = None  # Using None as a placeholder\n",
        "df_All['FC55569_adj'] = None  # Using None as a placeholder\n",
        "\n",
        "def predict_value(model, row, feature_names):\n",
        "    # Ensure 'row' is prepared correctly for your model\n",
        "    data_for_prediction = row[feature_names].values.reshape(1, -1)\n",
        "    prediction = model.predict(data_for_prediction)[0]\n",
        "    return prediction\n",
        "\n",
        "# Assume 'decanol_feature_names' and 'butanol_feature_names' are defined\n",
        "# You should define these lists based on the features your models expect\n",
        "decanol_feature_names = ['425_pct_Al', 'M_Value', 'C4_pct_Eth', 'C4_pct_H2O',\n",
        "       'HydWtr_pct_Ammonia', 'C4_pct_Hex', 'HydWtr_Na2O', 'Decanol', 'FC55003',\n",
        "       'FC55009', 'FC55552', 'FC55569', 'FFC55553', 'FFC55555', 'LC90366',\n",
        "       'LC90368', 'PI55020', 'TC55552', 'TI55021']  \n",
        "butanol_feature_names = ['425_pct_Al', 'C4_pct_Eth', 'C4_pct_H2O', 'HydWtr_pct_Ammonia',\n",
        "       'C4_pct_Hex', 'HydWtr_Na2O', 'Butanol', 'DI55102', 'DI55152', 'FC55552',\n",
        "       'FC55569', 'FC55576', 'FFC55553', 'FFC55555', 'LC55557', 'LC90366',\n",
        "       'LC90368', 'TC55552']\n",
        "steam_feature_names = ['425_pct_Al', 'Al2O3', 'C4_pct_Eth', 'C4_pct_H2O', 'C4_pct_Hex',\n",
        "       'FC55569', 'DI55102', 'DI55152', 'DI55580', 'FC55003', 'FC55576',\n",
        "       'FFC55555', 'LC90366', 'PI55020']\n",
        "\n",
        "# Your prediction and adjustment loop\n",
        "for index, row in df_All.iterrows():\n",
        "    # Adjust row for prediction if necessary\n",
        "    row_for_prediction = row.copy()\n",
        "    row_for_prediction['FFC55555'] = row_for_prediction['FFC55555_adj']\n",
        "    \n",
        "    # Process record through model C10 for Decanol\n",
        "    df_All.at[index, 'Decanol_adj'] = predict_value(c10_model, row_for_prediction, decanol_feature_names)\n",
        "    \n",
        "    # Process record through model C4 for Butanol\n",
        "    df_All.at[index, 'Butanol_adj'] = predict_value(c4_model, row_for_prediction, butanol_feature_names)\n",
        "\n",
        "    # Process record through Optimization Logic\n",
        "    while True:\n",
        "        decanol = df_All.at[index, 'Decanol_adj']\n",
        "        butanol = df_All.at[index, 'Butanol_adj']\n",
        "        ffc_adjusted = df_All.at[index, 'FFC55555_adj']\n",
        "\n",
        "        if decanol < 5:\n",
        "            if ffc_adjusted >= 0.66: # Can be adjusted to the lowest rC4 desired\n",
        "                df_All.at[index, 'FFC55555_adj'] -= 0.01\n",
        "            else:\n",
        "                break  # Next Record\n",
        "        else:\n",
        "            while decanol >= 5:\n",
        "                if df_All.at[index, 'FFC55555'] >= ffc_adjusted:\n",
        "                    break  # Next Record\n",
        "                else:\n",
        "                    if ffc_adjusted <= 1.19: # Can be adjusted to the highest rC4 desired\n",
        "                        df_All.at[index, 'FFC55555_adj'] += 0.01\n",
        "                    else:\n",
        "                        break\n",
        "            break\n",
        "\n",
        "        # Update predictions after adjustment\n",
        "        row_for_prediction['FFC55555'] = df_All.at[index, 'FFC55555_adj']\n",
        "        df_All.at[index, 'Decanol_adj'] = predict_value(c10_model, row_for_prediction, decanol_feature_names)\n",
        "        \n",
        "\n",
        "    # Update the FC55569_adj column with the output from the steam model\n",
        "    df_All.at[index, 'Butanol_adj'] = predict_value(c4_model, row_for_prediction, butanol_feature_names)\n",
        "    df_All.at[index, 'FC55569_adj'] = predict_value(steam_model, row_for_prediction, steam_feature_names)"
      ]
    },
    {
      "cell_type": "code",
      "execution_count": null,
      "metadata": {},
      "outputs": [],
      "source": []
    },
    {
      "cell_type": "code",
      "execution_count": null,
      "metadata": {},
      "outputs": [],
      "source": [
        "df_All.head()"
      ]
    }
  ],
  "metadata": {
    "kernelspec": {
      "display_name": "Python 3 (ipykernel)",
      "language": "python",
      "name": "python3"
    },
    "language_info": {
      "codemirror_mode": {
        "name": "ipython",
        "version": 3
      },
      "file_extension": ".py",
      "mimetype": "text/x-python",
      "name": "python",
      "nbconvert_exporter": "python",
      "pygments_lexer": "ipython3",
      "version": "3.12.1"
    }
  },
  "nbformat": 4,
  "nbformat_minor": 4
}
