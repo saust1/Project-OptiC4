{
  "cells": [
    {
      "cell_type": "code",
      "execution_count": 52,
      "metadata": {
        "tags": [],
        "trusted": true
      },
      "outputs": [],
      "source": [
        "# Import necessary libraries\n",
        "import pandas as pd\n",
        "from statsmodels.formula.api import ols\n",
        "import statsmodels.api as sm\n",
        "from sklearn.model_selection import train_test_split"
      ]
    },
    {
      "cell_type": "code",
      "execution_count": 53,
      "metadata": {},
      "outputs": [],
      "source": [
        "# url_df_All_1 = 'https://github.com/saust1/Project-OptiC4/blob/e358d5172ac0b8fbb6fba776c0fe0a2b523b8b5c/3%20Feature%20Selection/contData_all_Avg%20-%201o2.csv?raw=true'\n",
        "# url_df_All_2 = 'https://github.com/saust1/Project-OptiC4/blob/e358d5172ac0b8fbb6fba776c0fe0a2b523b8b5c/3%20Feature%20Selection/contData_all_Avg%20-%202o2.csv?raw=true'\n",
        "\n",
        "# df_All_1 = pd.read_csv(url_df_All_1, index_col=0)\n",
        "# df_All_2 = pd.read_csv(url_df_All_2, index_col=0)"
      ]
    },
    {
      "cell_type": "code",
      "execution_count": 54,
      "metadata": {},
      "outputs": [
        {
          "name": "stdout",
          "output_type": "stream",
          "text": [
            "   425_pct_Al  M_Value  C4_pct_Eth  C4_pct_H2O  HydWtr_pct_Ammonia   DI55152  \\\n",
            "0    6.307630  3.50893    2.508420    21.96340            0.908765  0.925255   \n",
            "1    6.308335  3.50863    2.511135    21.96865            0.907643  0.924281   \n",
            "2    6.309390  3.50818    2.515210    21.97655            0.905959  0.923773   \n",
            "3    6.310090  3.50788    2.517925    21.98185            0.904837  0.924103   \n",
            "4    6.310790  3.50758    2.520640    21.98715            0.903715  0.924258   \n",
            "\n",
            "    FC55003       FC55552      FC55569  FFC55553  FFC55555    LC55555  \\\n",
            "0  4919.290  41564.100000  6918.110000  0.996975  0.751501  59.968800   \n",
            "1  5039.445  41558.250000  6919.960000  0.998847  0.750588  59.932300   \n",
            "2  5268.620  41524.066667  6916.486667  0.998648  0.750505  60.002433   \n",
            "3  5349.320  41500.275000  6918.470000  1.000349  0.750325  60.015925   \n",
            "4  5563.165  41466.625000  6915.790000  1.000862  0.750021  60.020500   \n",
            "\n",
            "    PI55004   TC55552     TI55021    Butanol  \n",
            "0  1.306310  177.1880  212.861000  54.858300  \n",
            "1  1.181220  177.2505  212.699000  51.190050  \n",
            "2  1.216603  177.4170  212.822333  48.744567  \n",
            "3  1.206718  177.4590  212.799750  46.604750  \n",
            "4  1.163892  177.5490  212.853000  44.587220  \n"
          ]
        }
      ],
      "source": [
        "df_All_1 = pd.read_csv(r'C:\\Users\\saust\\OneDrive\\Desktop\\GitRepo\\Project-OptiC4\\1 Preprocess\\Merge Data\\contData_all_Avg_1o2.csv')\n",
        "df_All_2 = pd.read_csv(r'C:\\Users\\saust\\OneDrive\\Desktop\\GitRepo\\Project-OptiC4\\1 Preprocess\\Merge Data\\contData_all_Avg_2o2.csv')\n",
        "# Concatenate (union) the dataframes\n",
        "df_All = pd.concat([df_All_1, df_All_2], ignore_index=True)\n",
        "\n",
        "print(df_All.head())"
      ]
    },
    {
      "cell_type": "code",
      "execution_count": 55,
      "metadata": {},
      "outputs": [
        {
          "data": {
            "text/plain": [
              "Index(['425_pct_Al', 'M_Value', 'C4_pct_Eth', 'C4_pct_H2O',\n",
              "       'HydWtr_pct_Ammonia', 'DI55152', 'FC55003', 'FC55552', 'FC55569',\n",
              "       'FFC55553', 'FFC55555', 'LC55555', 'PI55004', 'TC55552', 'TI55021',\n",
              "       'Butanol'],\n",
              "      dtype='object')"
            ]
          },
          "execution_count": 55,
          "metadata": {},
          "output_type": "execute_result"
        }
      ],
      "source": [
        "df_All.columns"
      ]
    },
    {
      "cell_type": "code",
      "execution_count": 56,
      "metadata": {
        "trusted": true
      },
      "outputs": [],
      "source": [
        "# Set max columns to display\n",
        "pd.set_option('display.max_columns', None)"
      ]
    },
    {
      "cell_type": "code",
      "execution_count": 57,
      "metadata": {},
      "outputs": [],
      "source": [
        "# # List of columns to exclude to run XGboost feature selection\n",
        "# exclude_columns = ['Octanol', 'Hexanol', 'Ethanol', 'Decanol',\n",
        "       \n",
        "#        'TI52014', 'TI55013', 'TI55014', 'TI55015', 'TI55016', 'TI55017', 'TI55021', 'TI55023',\n",
        "#        'TC52015', 'FC52018', 'II52554', 'TI40050', 'VI52558B'\n",
        "#                    ]\n",
        "\n",
        "# # Create a new DataFrame without the excluded columnsd\n",
        "# df_All = df_All.drop(columns=exclude_columns)"
      ]
    },
    {
      "cell_type": "code",
      "execution_count": 58,
      "metadata": {},
      "outputs": [],
      "source": [
        "# df_All = df_All[df_All['Date'] > '2022-06-15 00:00:00']"
      ]
    },
    {
      "cell_type": "markdown",
      "metadata": {},
      "source": [
        "# Remaining Features after Correlation Analysis"
      ]
    },
    {
      "cell_type": "code",
      "execution_count": 59,
      "metadata": {},
      "outputs": [],
      "source": [
        "\n",
        "# selected_columns = ['425 %Al', 'Butanol', 'DI55102', 'DI55152', 'DI55580', 'FC42428',\n",
        "#        'FC55003', 'FC55552', 'FC55569', 'FC55576', 'FFC55553', 'FFC55555',\n",
        "#        'LC52572', 'LC55553', 'LC55555', 'LC55557', 'LC55568', 'LC90366',\n",
        "#        'LC90368', 'PI55004', 'PI55020', 'TC55552', 'TC55553', 'TC55555'\n",
        "#                    ]\n",
        "\n",
        "# existing_columns = [col for col in selected_columns if col in df_All.columns]\n",
        "# df_All = df_All[existing_columns]"
      ]
    },
    {
      "cell_type": "code",
      "execution_count": 60,
      "metadata": {},
      "outputs": [],
      "source": [
        "# First Iteration\n",
        "# selected_columns = ['Butanol PPM', '425 SAO Al', 'FC42428', 'FC55003', 'FC55102', 'FC55152', 'FFC55555',\n",
        "#        'LC55553', 'LC55557', 'LC55568', 'LC90366', 'TC55555']\n",
        "\n",
        "\n"
      ]
    },
    {
      "cell_type": "code",
      "execution_count": 61,
      "metadata": {},
      "outputs": [
        {
          "data": {
            "text/plain": [
              "Index(['425_pct_Al', 'M_Value', 'C4_pct_Eth', 'C4_pct_H2O',\n",
              "       'HydWtr_pct_Ammonia', 'DI55152', 'FC55003', 'FC55552', 'FC55569',\n",
              "       'FFC55553', 'FFC55555', 'LC55555', 'PI55004', 'TC55552', 'TI55021',\n",
              "       'Butanol'],\n",
              "      dtype='object')"
            ]
          },
          "execution_count": 61,
          "metadata": {},
          "output_type": "execute_result"
        }
      ],
      "source": [
        "df_All.columns"
      ]
    },
    {
      "cell_type": "code",
      "execution_count": 62,
      "metadata": {},
      "outputs": [],
      "source": [
        "# Splitting into train and test\n",
        "X = df_All.drop('Butanol', axis=1)  # Assuming 'target' is your target column\n",
        "y = df_All['Butanol']\n",
        "X_train, X_test, y_train, y_test = train_test_split(X, y, test_size=0.2, random_state=42)"
      ]
    },
    {
      "cell_type": "code",
      "execution_count": 63,
      "metadata": {},
      "outputs": [
        {
          "name": "stdout",
          "output_type": "stream",
          "text": [
            "                                 OLS Regression Results                                \n",
            "=======================================================================================\n",
            "Dep. Variable:                Butanol   R-squared (uncentered):                   0.565\n",
            "Model:                            OLS   Adj. R-squared (uncentered):              0.565\n",
            "Method:                 Least Squares   F-statistic:                              4877.\n",
            "Date:                Sun, 03 Dec 2023   Prob (F-statistic):                        0.00\n",
            "Time:                        19:33:51   Log-Likelihood:                     -2.0304e+05\n",
            "No. Observations:               56390   AIC:                                  4.061e+05\n",
            "Df Residuals:                   56375   BIC:                                  4.063e+05\n",
            "Df Model:                          15                                                  \n",
            "Covariance Type:            nonrobust                                                  \n",
            "======================================================================================\n",
            "                         coef    std err          t      P>|t|      [0.025      0.975]\n",
            "--------------------------------------------------------------------------------------\n",
            "425_pct_Al             0.3950      0.113      3.482      0.000       0.173       0.617\n",
            "M_Value                0.6513      0.221      2.947      0.003       0.218       1.084\n",
            "C4_pct_Eth            -0.7149      0.072     -9.996      0.000      -0.855      -0.575\n",
            "C4_pct_H2O             0.3801      0.017     22.425      0.000       0.347       0.413\n",
            "HydWtr_pct_Ammonia     0.8714      0.264      3.303      0.001       0.354       1.388\n",
            "DI55152               17.3680      1.196     14.517      0.000      15.023      19.713\n",
            "FC55003               -0.0010   5.63e-05    -18.322      0.000      -0.001      -0.001\n",
            "FC55552                0.0005   9.34e-06     50.908      0.000       0.000       0.000\n",
            "FC55569               -0.0036      0.000    -31.790      0.000      -0.004      -0.003\n",
            "FFC55553              35.3143      0.973     36.292      0.000      33.407      37.221\n",
            "FFC55555             -43.2244      1.640    -26.360      0.000     -46.438     -40.010\n",
            "LC55555                0.0350      0.005      7.130      0.000       0.025       0.045\n",
            "PI55004                0.3432      0.037      9.220      0.000       0.270       0.416\n",
            "TC55552                0.0514      0.003     19.212      0.000       0.046       0.057\n",
            "TI55021               -0.0884      0.005    -18.072      0.000      -0.098      -0.079\n",
            "==============================================================================\n",
            "Omnibus:                    21324.678   Durbin-Watson:                   0.017\n",
            "Prob(Omnibus):                  0.000   Jarque-Bera (JB):            73742.874\n",
            "Skew:                           1.950   Prob(JB):                         0.00\n",
            "Kurtosis:                       7.022   Cond. No.                     1.83e+06\n",
            "==============================================================================\n",
            "\n",
            "Notes:\n",
            "[1] R² is computed without centering (uncentered) since the model does not contain a constant.\n",
            "[2] Standard Errors assume that the covariance matrix of the errors is correctly specified.\n",
            "[3] The condition number is large, 1.83e+06. This might indicate that there are\n",
            "strong multicollinearity or other numerical problems.\n"
          ]
        }
      ],
      "source": [
        "#=============================================\n",
        "# TRAIN & EVALUATE REGRESSION MODEL\n",
        "#=============================================\n",
        "\n",
        "#fit simple linear regression model\n",
        "model = sm.OLS(y, X).fit()\n",
        "print(model.summary())"
      ]
    },
    {
      "cell_type": "code",
      "execution_count": 64,
      "metadata": {},
      "outputs": [
        {
          "name": "stdout",
          "output_type": "stream",
          "text": [
            "[]\n"
          ]
        }
      ],
      "source": [
        "# Convert summary to DataFrame\n",
        "summary_table = model.summary().tables[1]\n",
        "summary_df = pd.DataFrame(summary_table.data[1:], columns=summary_table.data[0])\n",
        "\n",
        "# Convert necessary columns to numeric\n",
        "numeric_cols = ['coef', 'std err', 't', 'P>|t|', '[0.025', '0.975]']\n",
        "summary_df[numeric_cols] = summary_df[numeric_cols].apply(pd.to_numeric, errors='coerce')\n",
        "\n",
        "# Apply the filter for insignificance and CI crossing zero\n",
        "threshold = 0.05\n",
        "filtered_df = summary_df[(summary_df['P>|t|'] > threshold) & ((summary_df['[0.025'] < 0) & (summary_df['0.975]'] > 0))]\n",
        "\n",
        "# Extracting the feature names\n",
        "insignificant_features = filtered_df.iloc[:, 0].tolist()  # First column contains feature names\n",
        "print(insignificant_features)\n"
      ]
    },
    {
      "cell_type": "code",
      "execution_count": 65,
      "metadata": {},
      "outputs": [
        {
          "name": "stdout",
          "output_type": "stream",
          "text": [
            "Empty DataFrame\n",
            "Columns: [, coef, std err, t, P>|t|, [0.025, 0.975]]\n",
            "Index: []\n"
          ]
        }
      ],
      "source": [
        "print(filtered_df)"
      ]
    },
    {
      "cell_type": "code",
      "execution_count": 66,
      "metadata": {},
      "outputs": [
        {
          "name": "stdout",
          "output_type": "stream",
          "text": [
            "\n",
            "Significant Features:\n",
            "['425_pct_Al', 'M_Value', 'C4_pct_Eth', 'C4_pct_H2O', 'HydWtr_pct_Ammonia', 'DI55152', 'FC55003', 'FC55569', 'FFC55553', 'FFC55555', 'LC55555', 'PI55004', 'TC55552', 'TI55021']\n"
          ]
        }
      ],
      "source": [
        "# Filter for significant features\n",
        "significant_df = summary_df[(summary_df['P>|t|'] <= threshold) & ((summary_df['[0.025'] > 0) | (summary_df['0.975]'] < 0))]\n",
        "significant_features = significant_df.iloc[:, 0].tolist()\n",
        "print(\"\\nSignificant Features:\")\n",
        "print(significant_features)"
      ]
    },
    {
      "cell_type": "code",
      "execution_count": 69,
      "metadata": {},
      "outputs": [
        {
          "ename": "ValueError",
          "evalue": "x and y must be the same size",
          "output_type": "error",
          "traceback": [
            "\u001b[1;31m---------------------------------------------------------------------------\u001b[0m",
            "\u001b[1;31mValueError\u001b[0m                                Traceback (most recent call last)",
            "\u001b[1;32mc:\\Users\\saust\\OneDrive\\Desktop\\GitRepo\\Project-OptiC4\\3 Feature Selection\\1.0.1 OLS_contData.ipynb Cell 17\u001b[0m line \u001b[0;36m1\n\u001b[0;32m      <a href='vscode-notebook-cell:/c%3A/Users/saust/OneDrive/Desktop/GitRepo/Project-OptiC4/3%20Feature%20Selection/1.0.1%20OLS_contData.ipynb#X22sZmlsZQ%3D%3D?line=8'>9</a>\u001b[0m predictions \u001b[39m=\u001b[39m model\u001b[39m.\u001b[39mpredict(X_sm)\n\u001b[0;32m     <a href='vscode-notebook-cell:/c%3A/Users/saust/OneDrive/Desktop/GitRepo/Project-OptiC4/3%20Feature%20Selection/1.0.1%20OLS_contData.ipynb#X22sZmlsZQ%3D%3D?line=10'>11</a>\u001b[0m \u001b[39m# Plotting\u001b[39;00m\n\u001b[1;32m---> <a href='vscode-notebook-cell:/c%3A/Users/saust/OneDrive/Desktop/GitRepo/Project-OptiC4/3%20Feature%20Selection/1.0.1%20OLS_contData.ipynb#X22sZmlsZQ%3D%3D?line=11'>12</a>\u001b[0m plt\u001b[39m.\u001b[39;49mscatter(X, y, alpha\u001b[39m=\u001b[39;49m\u001b[39m0.5\u001b[39;49m)  \u001b[39m# Scatter plot of the data\u001b[39;00m\n\u001b[0;32m     <a href='vscode-notebook-cell:/c%3A/Users/saust/OneDrive/Desktop/GitRepo/Project-OptiC4/3%20Feature%20Selection/1.0.1%20OLS_contData.ipynb#X22sZmlsZQ%3D%3D?line=12'>13</a>\u001b[0m plt\u001b[39m.\u001b[39mplot(X, predictions, color\u001b[39m=\u001b[39m\u001b[39m'\u001b[39m\u001b[39mred\u001b[39m\u001b[39m'\u001b[39m)  \u001b[39m# Regression line\u001b[39;00m\n\u001b[0;32m     <a href='vscode-notebook-cell:/c%3A/Users/saust/OneDrive/Desktop/GitRepo/Project-OptiC4/3%20Feature%20Selection/1.0.1%20OLS_contData.ipynb#X22sZmlsZQ%3D%3D?line=13'>14</a>\u001b[0m plt\u001b[39m.\u001b[39mtitle(\u001b[39m'\u001b[39m\u001b[39mScatter plot with Regression Line\u001b[39m\u001b[39m'\u001b[39m)\n",
            "File \u001b[1;32mc:\\Users\\saust\\anaconda3\\lib\\site-packages\\matplotlib\\pyplot.py:2835\u001b[0m, in \u001b[0;36mscatter\u001b[1;34m(x, y, s, c, marker, cmap, norm, vmin, vmax, alpha, linewidths, edgecolors, plotnonfinite, data, **kwargs)\u001b[0m\n\u001b[0;32m   2830\u001b[0m \u001b[39m@_copy_docstring_and_deprecators\u001b[39m(Axes\u001b[39m.\u001b[39mscatter)\n\u001b[0;32m   2831\u001b[0m \u001b[39mdef\u001b[39;00m \u001b[39mscatter\u001b[39m(\n\u001b[0;32m   2832\u001b[0m         x, y, s\u001b[39m=\u001b[39m\u001b[39mNone\u001b[39;00m, c\u001b[39m=\u001b[39m\u001b[39mNone\u001b[39;00m, marker\u001b[39m=\u001b[39m\u001b[39mNone\u001b[39;00m, cmap\u001b[39m=\u001b[39m\u001b[39mNone\u001b[39;00m, norm\u001b[39m=\u001b[39m\u001b[39mNone\u001b[39;00m,\n\u001b[0;32m   2833\u001b[0m         vmin\u001b[39m=\u001b[39m\u001b[39mNone\u001b[39;00m, vmax\u001b[39m=\u001b[39m\u001b[39mNone\u001b[39;00m, alpha\u001b[39m=\u001b[39m\u001b[39mNone\u001b[39;00m, linewidths\u001b[39m=\u001b[39m\u001b[39mNone\u001b[39;00m, \u001b[39m*\u001b[39m,\n\u001b[0;32m   2834\u001b[0m         edgecolors\u001b[39m=\u001b[39m\u001b[39mNone\u001b[39;00m, plotnonfinite\u001b[39m=\u001b[39m\u001b[39mFalse\u001b[39;00m, data\u001b[39m=\u001b[39m\u001b[39mNone\u001b[39;00m, \u001b[39m*\u001b[39m\u001b[39m*\u001b[39mkwargs):\n\u001b[1;32m-> 2835\u001b[0m     __ret \u001b[39m=\u001b[39m gca()\u001b[39m.\u001b[39mscatter(\n\u001b[0;32m   2836\u001b[0m         x, y, s\u001b[39m=\u001b[39ms, c\u001b[39m=\u001b[39mc, marker\u001b[39m=\u001b[39mmarker, cmap\u001b[39m=\u001b[39mcmap, norm\u001b[39m=\u001b[39mnorm,\n\u001b[0;32m   2837\u001b[0m         vmin\u001b[39m=\u001b[39mvmin, vmax\u001b[39m=\u001b[39mvmax, alpha\u001b[39m=\u001b[39malpha, linewidths\u001b[39m=\u001b[39mlinewidths,\n\u001b[0;32m   2838\u001b[0m         edgecolors\u001b[39m=\u001b[39medgecolors, plotnonfinite\u001b[39m=\u001b[39mplotnonfinite,\n\u001b[0;32m   2839\u001b[0m         \u001b[39m*\u001b[39m\u001b[39m*\u001b[39m({\u001b[39m\"\u001b[39m\u001b[39mdata\u001b[39m\u001b[39m\"\u001b[39m: data} \u001b[39mif\u001b[39;00m data \u001b[39mis\u001b[39;00m \u001b[39mnot\u001b[39;00m \u001b[39mNone\u001b[39;00m \u001b[39melse\u001b[39;00m {}), \u001b[39m*\u001b[39m\u001b[39m*\u001b[39mkwargs)\n\u001b[0;32m   2840\u001b[0m     sci(__ret)\n\u001b[0;32m   2841\u001b[0m     \u001b[39mreturn\u001b[39;00m __ret\n",
            "File \u001b[1;32mc:\\Users\\saust\\anaconda3\\lib\\site-packages\\matplotlib\\__init__.py:1442\u001b[0m, in \u001b[0;36m_preprocess_data.<locals>.inner\u001b[1;34m(ax, data, *args, **kwargs)\u001b[0m\n\u001b[0;32m   1439\u001b[0m \u001b[39m@functools\u001b[39m\u001b[39m.\u001b[39mwraps(func)\n\u001b[0;32m   1440\u001b[0m \u001b[39mdef\u001b[39;00m \u001b[39minner\u001b[39m(ax, \u001b[39m*\u001b[39margs, data\u001b[39m=\u001b[39m\u001b[39mNone\u001b[39;00m, \u001b[39m*\u001b[39m\u001b[39m*\u001b[39mkwargs):\n\u001b[0;32m   1441\u001b[0m     \u001b[39mif\u001b[39;00m data \u001b[39mis\u001b[39;00m \u001b[39mNone\u001b[39;00m:\n\u001b[1;32m-> 1442\u001b[0m         \u001b[39mreturn\u001b[39;00m func(ax, \u001b[39m*\u001b[39m\u001b[39mmap\u001b[39m(sanitize_sequence, args), \u001b[39m*\u001b[39m\u001b[39m*\u001b[39mkwargs)\n\u001b[0;32m   1444\u001b[0m     bound \u001b[39m=\u001b[39m new_sig\u001b[39m.\u001b[39mbind(ax, \u001b[39m*\u001b[39margs, \u001b[39m*\u001b[39m\u001b[39m*\u001b[39mkwargs)\n\u001b[0;32m   1445\u001b[0m     auto_label \u001b[39m=\u001b[39m (bound\u001b[39m.\u001b[39marguments\u001b[39m.\u001b[39mget(label_namer)\n\u001b[0;32m   1446\u001b[0m                   \u001b[39mor\u001b[39;00m bound\u001b[39m.\u001b[39mkwargs\u001b[39m.\u001b[39mget(label_namer))\n",
            "File \u001b[1;32mc:\\Users\\saust\\anaconda3\\lib\\site-packages\\matplotlib\\axes\\_axes.py:4584\u001b[0m, in \u001b[0;36mAxes.scatter\u001b[1;34m(self, x, y, s, c, marker, cmap, norm, vmin, vmax, alpha, linewidths, edgecolors, plotnonfinite, **kwargs)\u001b[0m\n\u001b[0;32m   4582\u001b[0m y \u001b[39m=\u001b[39m np\u001b[39m.\u001b[39mma\u001b[39m.\u001b[39mravel(y)\n\u001b[0;32m   4583\u001b[0m \u001b[39mif\u001b[39;00m x\u001b[39m.\u001b[39msize \u001b[39m!=\u001b[39m y\u001b[39m.\u001b[39msize:\n\u001b[1;32m-> 4584\u001b[0m     \u001b[39mraise\u001b[39;00m \u001b[39mValueError\u001b[39;00m(\u001b[39m\"\u001b[39m\u001b[39mx and y must be the same size\u001b[39m\u001b[39m\"\u001b[39m)\n\u001b[0;32m   4586\u001b[0m \u001b[39mif\u001b[39;00m s \u001b[39mis\u001b[39;00m \u001b[39mNone\u001b[39;00m:\n\u001b[0;32m   4587\u001b[0m     s \u001b[39m=\u001b[39m (\u001b[39m20\u001b[39m \u001b[39mif\u001b[39;00m mpl\u001b[39m.\u001b[39mrcParams[\u001b[39m'\u001b[39m\u001b[39m_internal.classic_mode\u001b[39m\u001b[39m'\u001b[39m] \u001b[39melse\u001b[39;00m\n\u001b[0;32m   4588\u001b[0m          mpl\u001b[39m.\u001b[39mrcParams[\u001b[39m'\u001b[39m\u001b[39mlines.markersize\u001b[39m\u001b[39m'\u001b[39m] \u001b[39m*\u001b[39m\u001b[39m*\u001b[39m \u001b[39m2.0\u001b[39m)\n",
            "\u001b[1;31mValueError\u001b[0m: x and y must be the same size"
          ]
        },
        {
          "data": {
            "image/png": "[encoded data removed]",
            "text/plain": [
              "<Figure size 640x480 with 1 Axes>"
            ]
          },
          "metadata": {},
          "output_type": "display_data"
        }
      ],
      "source": [
        "import matplotlib.pyplot as plt\n",
        "# Adding a constant to the model (for the intercept)\n",
        "X_sm = sm.add_constant(X)\n",
        "\n",
        "# Fit an OLS model\n",
        "model = sm.OLS(y, X_sm).fit()\n",
        "\n",
        "# Make predictions\n",
        "predictions = model.predict(X_sm)\n",
        "\n",
        "# Plotting\n",
        "plt.scatter(X, y, alpha=0.5)  # Scatter plot of the data\n",
        "plt.plot(X, predictions, color='red')  # Regression line\n",
        "plt.title('Scatter plot with Regression Line')\n",
        "plt.xlabel('X')\n",
        "plt.ylabel('y')\n",
        "plt.show()"
      ]
    }
  ],
  "metadata": {
    "kernelspec": {
      "display_name": "Python 3 (ipykernel)",
      "language": "python",
      "name": "python3"
    },
    "language_info": {
      "codemirror_mode": {
        "name": "ipython",
        "version": 3
      },
      "file_extension": ".py",
      "mimetype": "text/x-python",
      "name": "python",
      "nbconvert_exporter": "python",
      "pygments_lexer": "ipython3",
      "version": "3.10.9"
    }
  },
  "nbformat": 4,
  "nbformat_minor": 4
}
