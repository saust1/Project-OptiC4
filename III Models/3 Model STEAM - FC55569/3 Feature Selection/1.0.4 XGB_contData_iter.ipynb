{
  "cells": [
    {
      "cell_type": "code",
      "execution_count": 1,
      "metadata": {},
      "outputs": [],
      "source": [
        "# %pip install statsmodels\n",
        "# %pip install mlxtend\n",
        "# %pip install xgboost"
      ]
    },
    {
      "cell_type": "code",
      "execution_count": 2,
      "metadata": {
        "tags": [],
        "trusted": true
      },
      "outputs": [
        {
          "name": "stderr",
          "output_type": "stream",
          "text": [
            "C:\\Users\\austinsh\\AppData\\Local\\Temp\\ipykernel_35860\\526159370.py:2: DeprecationWarning: \n",
            "Pyarrow will become a required dependency of pandas in the next major release of pandas (pandas 3.0),\n",
            "(to allow more performant data types, such as the Arrow string type, and better interoperability with other libraries)\n",
            "but was not found to be installed on your system.\n",
            "If this would cause problems for you,\n",
            "please provide us feedback at https://github.com/pandas-dev/pandas/issues/54466\n",
            "        \n",
            "  import pandas as pd\n"
          ]
        }
      ],
      "source": [
        "# Import necessary libraries\n",
        "import pandas as pd\n",
        "import seaborn as sns\n",
        "import matplotlib.pyplot as plt\n",
        "from statsmodels.formula.api import ols\n",
        "import statsmodels.api as sm\n",
        "from sklearn.linear_model import LinearRegression\n",
        "from mlxtend.feature_selection import SequentialFeatureSelector as SFS\n",
        "from sklearn.model_selection import train_test_split\n",
        "import itertools\n",
        "import random\n",
        "from sklearn.metrics import r2_score, mean_squared_error, mean_absolute_error\n",
        "import xgboost as xgb\n",
        "from sklearn.model_selection import train_test_split\n",
        "import random\n",
        "import pandas as pd"
      ]
    },
    {
      "cell_type": "code",
      "execution_count": 3,
      "metadata": {},
      "outputs": [
        {
          "name": "stdout",
          "output_type": "stream",
          "text": [
            "                  Date  425_pct_Al     Al2O3  M_Value  C4_pct_Eth  C4_pct_H2O  \\\n",
            "0  2012-05-17 09:00:00    6.319560  11.41670  3.50773    2.554580     22.0531   \n",
            "1  2012-05-17 10:00:00    6.319915  11.40835  3.50797    2.555935     22.0557   \n",
            "2  2012-05-17 12:00:00    6.320970  11.39165  3.50869    2.560005     22.0636   \n",
            "3  2012-05-18 08:00:00    6.328690  11.39165  3.51401    2.540370     22.0604   \n",
            "4  2012-05-18 09:00:00    6.336060  11.40500  3.51910    2.514430     22.0484   \n",
            "\n",
            "   HydWtr_pct_Ammonia  C4_pct_Hex  HydWtr_Na2O  Butanol  ...   LC55557  \\\n",
            "0            0.867508    0.670721     3.354160  30.3662  ...  66.31395   \n",
            "1            0.864729    0.671059     3.306475  30.3662  ...  66.31395   \n",
            "2            0.856391    0.672071     3.163420  30.6785  ...  66.31395   \n",
            "3            0.811652    0.674174     2.238130  32.6454  ...  65.92560   \n",
            "4            0.773793    0.675408     1.391475  32.6454  ...  65.92560   \n",
            "\n",
            "    LC55568    LC90366   LC90368   PI55004   PI55020   TC55552   TC55555  \\\n",
            "0  40.25250  15.449150  49.26750  1.236360 -0.389406  179.0115  179.9940   \n",
            "1  40.25250  15.449150  49.26750  1.236360 -0.389406  179.0115  179.9940   \n",
            "2  40.25250  15.449150  49.26750  1.236360 -0.389406  179.0115  179.9940   \n",
            "3  39.88364   8.759814  48.51306  1.190342 -0.318266  180.7166  179.9338   \n",
            "4  39.88364   8.759814  48.51306  1.190342 -0.318266  180.7166  179.9338   \n",
            "\n",
            "    TI40050   TI55021  \n",
            "0  82.96565  213.8740  \n",
            "1  82.96565  213.8740  \n",
            "2  82.96565  213.8740  \n",
            "3  82.41662  214.5402  \n",
            "4  82.41662  214.5402  \n",
            "\n",
            "[5 rows x 33 columns]\n"
          ]
        }
      ],
      "source": [
        "\n",
        "df_TagDesc = pd.read_csv(r'C:\\Users\\austinsh\\Project-OptiC4\\II Data\\1 Collection\\CSV\\Not for Processing\\TagDesc.csv')\n",
        "\n",
        "# df_All_1 = pd.read_csv(r'C:\\Users\\saust\\OneDrive\\Desktop\\GitRepo\\Project-OptiC4\\1 Preprocess\\Merge Data\\contData_all_Avg_1o2.csv')\n",
        "# df_All_2 = pd.read_csv(r'C:\\Users\\saust\\OneDrive\\Desktop\\GitRepo\\Project-OptiC4\\1 Preprocess\\Merge Data\\contData_all_Avg_2o2.csv')\n",
        "# # Concatenate (union) the dataframes\n",
        "# df_All = pd.concat([df_All_1, df_All_2], ignore_index=True)\n",
        "\n",
        "df_All = pd.read_csv(r'C:\\Users\\austinsh\\Project-OptiC4\\III Models\\3 Model STEAM - FC55569\\3 Feature Selection\\filtered-out_5-9_corr.csv')\n",
        "\n",
        "print(df_All.head())"
      ]
    },
    {
      "cell_type": "code",
      "execution_count": 4,
      "metadata": {
        "trusted": true
      },
      "outputs": [],
      "source": [
        "# Set max columns to display\n",
        "pd.set_option('display.max_columns', None)"
      ]
    },
    {
      "cell_type": "code",
      "execution_count": 5,
      "metadata": {},
      "outputs": [],
      "source": [
        "# df_All = df_All[df_All['Date'] > '2022-06-15 00:00:00']"
      ]
    },
    {
      "cell_type": "code",
      "execution_count": 6,
      "metadata": {},
      "outputs": [],
      "source": [
        "# # List of columns to exclude to run XGboost feature selection\n",
        "exclude_columns = [ # OLS and SFS agree on these:\n",
        "                    'M_Value',\n",
        "                    'HydWtr_pct_Ammonia',\n",
        "                    'HydWtr_Na2O'\n",
        "                   ]\n",
        "\n",
        "# # Create a new DataFrame without the excluded columnsd\n",
        "df_All = df_All.drop(columns=exclude_columns)"
      ]
    },
    {
      "cell_type": "code",
      "execution_count": 7,
      "metadata": {},
      "outputs": [
        {
          "data": {
            "text/plain": [
              "Index(['Date', '425_pct_Al', 'Al2O3', 'C4_pct_Eth', 'C4_pct_H2O', 'C4_pct_Hex',\n",
              "       'Butanol', 'Decanol', 'DI55102', 'DI55152', 'DI55580', 'FC55003',\n",
              "       'FC55009', 'FC55552', 'FC55569', 'FC55576', 'FFC55553', 'FFC55555',\n",
              "       'LC52572', 'LC55553', 'LC55557', 'LC55568', 'LC90366', 'LC90368',\n",
              "       'PI55004', 'PI55020', 'TC55552', 'TC55555', 'TI40050', 'TI55021'],\n",
              "      dtype='object')"
            ]
          },
          "execution_count": 7,
          "metadata": {},
          "output_type": "execute_result"
        }
      ],
      "source": [
        "df_All.columns"
      ]
    },
    {
      "cell_type": "code",
      "execution_count": 8,
      "metadata": {},
      "outputs": [],
      "source": [
        "# # Splitting into train and test\n",
        "# X = df_All.drop('Butanol', axis=1)  # Assuming 'target' is your target column\n",
        "# y = df_All['Butanol']\n",
        "# X_train, X_test, y_train, y_test = train_test_split(X, y, test_size=0.2, random_state=42)"
      ]
    },
    {
      "cell_type": "code",
      "execution_count": 9,
      "metadata": {},
      "outputs": [],
      "source": [
        "def iterate_feature_rotations(df_all, target_column, test_size=0.2, random_state=42, num_random_iterations=30):\n",
        "    results = []\n",
        "    columns = [col for col in df_all.columns if col != target_column and col != 'Date']\n",
        "    random.seed(random_state)  # for reproducibility\n",
        "\n",
        "    for feature in columns:\n",
        "        for _ in range(num_random_iterations):\n",
        "            # Randomly order the remaining features\n",
        "            remaining_features = [f for f in columns if f != feature]\n",
        "            random.shuffle(remaining_features)\n",
        "\n",
        "            # Create a new ordered list of features\n",
        "            ordered_features = [feature] + remaining_features\n",
        "\n",
        "            reordered_df = df_all[ordered_features + [target_column]]\n",
        "\n",
        "            # Splitting into train and test for each permutation\n",
        "            X = reordered_df.drop(target_column, axis=1)\n",
        "            y = reordered_df[target_column]\n",
        "            X_train, X_test, y_train, y_test = train_test_split(X, y, test_size=test_size, random_state=random_state)\n",
        "\n",
        "            # Create and fit the XGBoost model\n",
        "            model = xgb.XGBRegressor(objective='reg:squarederror')\n",
        "            model.fit(X_train, y_train)\n",
        "\n",
        "            # Extract feature importances\n",
        "            feature_importances = model.get_booster().get_score(importance_type=\"weight\")\n",
        "\n",
        "            # Store the result with the permutation order and feature importances\n",
        "            results.append((ordered_features, feature_importances))\n",
        "\n",
        "    return results\n",
        "\n",
        "\n",
        "results = iterate_feature_rotations(df_All, 'FC55569')\n",
        "\n",
        "# Convert results to a DataFrame\n",
        "flattened_results = []\n",
        "for ordered_features, importances in results:\n",
        "    for feature, importance in importances.items():\n",
        "        flattened_results.append({\n",
        "            'Feature Rotation': ordered_features,\n",
        "            'Feature': feature,\n",
        "            'Importance': importance\n",
        "        })\n",
        "\n",
        "results_df = pd.DataFrame(flattened_results)\n"
      ]
    },
    {
      "cell_type": "code",
      "execution_count": 10,
      "metadata": {},
      "outputs": [
        {
          "name": "stdout",
          "output_type": "stream",
          "text": [
            "                                        Feature Rotation     Feature  \\\n",
            "0      [425_pct_Al, LC55553, FC55576, FC55003, TI5502...  425_pct_Al   \n",
            "1      [425_pct_Al, LC55553, FC55576, FC55003, TI5502...     LC55553   \n",
            "2      [425_pct_Al, LC55553, FC55576, FC55003, TI5502...     FC55576   \n",
            "3      [425_pct_Al, LC55553, FC55576, FC55003, TI5502...     FC55003   \n",
            "4      [425_pct_Al, LC55553, FC55576, FC55003, TI5502...     TI55021   \n",
            "...                                                  ...         ...   \n",
            "23515  [TI55021, PI55020, LC90368, FC55009, TC55555, ...       Al2O3   \n",
            "23516  [TI55021, PI55020, LC90368, FC55009, TC55555, ...  425_pct_Al   \n",
            "23517  [TI55021, PI55020, LC90368, FC55009, TC55555, ...     DI55580   \n",
            "23518  [TI55021, PI55020, LC90368, FC55009, TC55555, ...     DI55102   \n",
            "23519  [TI55021, PI55020, LC90368, FC55009, TC55555, ...     FC55003   \n",
            "\n",
            "       Importance  \n",
            "0           365.0  \n",
            "1           224.0  \n",
            "2           419.0  \n",
            "3           275.0  \n",
            "4           190.0  \n",
            "...           ...  \n",
            "23515       227.0  \n",
            "23516       160.0  \n",
            "23517       175.0  \n",
            "23518       191.0  \n",
            "23519       219.0  \n",
            "\n",
            "[23520 rows x 3 columns]\n"
          ]
        }
      ],
      "source": [
        "print(results_df)"
      ]
    },
    {
      "cell_type": "code",
      "execution_count": 11,
      "metadata": {},
      "outputs": [],
      "source": [
        "# Group by 'Feature' and calculate the average importance\n",
        "average_importances = results_df.groupby('Feature')['Importance'].mean()\n",
        "\n",
        "# Convert the Series to a DataFrame\n",
        "average_importances_df = average_importances.reset_index()\n",
        "\n",
        "# Rename the columns for clarity\n",
        "average_importances_df.columns = ['Feature', 'Average Importance']\n",
        "\n",
        "# Sort the DataFrame by 'Average Importance' in descending order\n",
        "average_importances_df = average_importances_df.sort_values(by='Average Importance', ascending=False)\n",
        "\n",
        "# # Display or save the DataFrame\n",
        "# print(average_importances_df)\n",
        "# # Or save it to a CSV file\n",
        "# # average_importances_df.to_csv('average_feature_importances.csv', index=False)\n"
      ]
    },
    {
      "cell_type": "code",
      "execution_count": 12,
      "metadata": {},
      "outputs": [
        {
          "name": "stdout",
          "output_type": "stream",
          "text": [
            "       Feature  Average Importance                Description\n",
            "0      FC55576          365.436905   CONDENSATE TO DESUPERHTR\n",
            "1   C4_pct_H2O          245.388095                        NaN\n",
            "2      FC55003          243.525000   DA-551 O/H H2O TO DC-551\n",
            "3        Al2O3          239.841667                        NaN\n",
            "4   C4_pct_Eth          238.179762                        NaN\n",
            "5   C4_pct_Hex          223.515476                        NaN\n",
            "6      DI55102          216.948810           HYDROL RX OUTLET\n",
            "7      DI55152          205.725000     2ND STG SEPR TO FA-560\n",
            "8      DI55580          200.254762   DA-554 BTMS SLURRY TO EX\n",
            "9      PI55020          197.004762        DA-554 TOP PRESSURE\n",
            "10    FFC55553          193.146429   DC551 H2O/ALKOXIDE RATIO\n",
            "11     TI40050          192.859524  CLARK AIR COMP INLET TEMP\n",
            "12     LC90368          190.553571       FB-658 ALKOXIDE TANK\n",
            "13  425_pct_Al          189.488095                        NaN\n",
            "14     TC55552          188.648810   DC-551 ALKOX  FD PREHEAT\n",
            "15     LC90366          182.675000         FB-657 SAO STORAGE\n",
            "16     TC55555          175.070238        EA-552 OUT  RECY C4\n",
            "17     FC55552          173.334524   ALK FD TO HYDR RX DC-551\n",
            "18     FC55009          171.033333    STM TO PA-551  RING HTR\n",
            "19     TI55021          170.471429             STEAM TO DA554\n",
            "20     Butanol          168.314286                        NaN\n",
            "21    FFC55555          167.792857   RECYC BUT/ALKOX FD RATIO\n",
            "22     PI55004          164.311905     DA-554 BOTTOM PRESSURE\n",
            "23     Decanol          159.301190                        NaN\n",
            "24     LC55557          153.946429        FA-554 SLURRY LEVEL\n",
            "25     LC55553          153.202381   DC551 HYDR RX SLURRY LEV\n",
            "26     LC52572          145.596429   FB-554 SLURRY SURGE TANK\n",
            "27     LC55568          137.433333    DA-554 C4 STRPR BOTTOMS\n"
          ]
        },
        {
          "name": "stderr",
          "output_type": "stream",
          "text": [
            "C:\\Users\\austinsh\\AppData\\Local\\Temp\\ipykernel_35860\\3091506829.py:9: SettingWithCopyWarning: \n",
            "A value is trying to be set on a copy of a slice from a DataFrame\n",
            "\n",
            "See the caveats in the documentation: https://pandas.pydata.org/pandas-docs/stable/user_guide/indexing.html#returning-a-view-versus-a-copy\n",
            "  final_df.rename(columns={'DESCRIPTION': 'Description'}, inplace=True)\n"
          ]
        }
      ],
      "source": [
        "# Merge the average_importances_df with df_TagDesc\n",
        "# Assuming 'ID' in df_TagDesc corresponds to 'Feature' in average_importances_df\n",
        "merged_df = average_importances_df.merge(df_TagDesc, left_on='Feature', right_on='ID', how='left')\n",
        "\n",
        "# Select only the required columns\n",
        "final_df = merged_df[['Feature', 'Average Importance', 'DESCRIPTION']]\n",
        "\n",
        "# Rename the 'DESCRIPTION' column to 'Description'\n",
        "final_df.rename(columns={'DESCRIPTION': 'Description'}, inplace=True)\n",
        "\n",
        "# Display or save the DataFrame\n",
        "print(final_df)\n",
        "# Or save it to a CSV file\n",
        "# final_df.to_csv('average_feature_importances_with_descriptions.csv', index=False)\n"
      ]
    },
    {
      "cell_type": "code",
      "execution_count": 13,
      "metadata": {},
      "outputs": [
        {
          "name": "stdout",
          "output_type": "stream",
          "text": [
            "2024-05-05 20:50:31.206362\n"
          ]
        }
      ],
      "source": [
        "from datetime import datetime\n",
        "\n",
        "# Get the current date and time\n",
        "current_date_time = datetime.now()\n",
        "\n",
        "# Print the current date and time\n",
        "print(current_date_time)\n"
      ]
    }
  ],
  "metadata": {
    "kernelspec": {
      "display_name": "Python 3 (ipykernel)",
      "language": "python",
      "name": "python3"
    },
    "language_info": {
      "codemirror_mode": {
        "name": "ipython",
        "version": 3
      },
      "file_extension": ".py",
      "mimetype": "text/x-python",
      "name": "python",
      "nbconvert_exporter": "python",
      "pygments_lexer": "ipython3",
      "version": "3.12.1"
    }
  },
  "nbformat": 4,
  "nbformat_minor": 4
}
