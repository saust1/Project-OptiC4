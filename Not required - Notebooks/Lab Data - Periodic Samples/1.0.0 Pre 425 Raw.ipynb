{
  "cells": [
    {
      "cell_type": "code",
      "execution_count": 26,
      "metadata": {
        "tags": [],
        "trusted": true
      },
      "outputs": [],
      "source": [
        "import pandas as pd\n",
        "# Set max columns to display\n",
        "pd.set_option('display.max_columns', None)\n",
        "import numpy as np\n",
        "from sklearn import preprocessing as pre\n",
        "import matplotlib.pyplot as plt\n",
        "import pandas as pd\n",
        "# Set max columns to display\n",
        "pd.set_option('display.max_columns', None)\n",
        "\n",
        "import numpy as np\n",
        "\n",
        "from sklearn import preprocessing as pre\n",
        "import matplotlib.pyplot as plt\n",
        "\n",
        "from scipy import stats"
      ]
    },
    {
      "cell_type": "code",
      "execution_count": 27,
      "metadata": {
        "tags": [],
        "trusted": true
      },
      "outputs": [],
      "source": [
        "\n",
        "# Importing CSV files\n",
        "\n",
        "df_AlCon = pd.read_csv(r\"C:\\Users\\saust\\OneDrive - Sasol\\1 Project rC4\\CSVs\\LIMS Actuals\\425 SAO Al_actual.csv\")\n",
        "\n"
      ]
    },
    {
      "cell_type": "code",
      "execution_count": 28,
      "metadata": {},
      "outputs": [
        {
          "name": "stdout",
          "output_type": "stream",
          "text": [
            "                  Date  425 SAO Al\n",
            "0  2012-05-13 05:00:00       6.249\n",
            "1  2012-05-20 05:00:00       6.367\n",
            "2  2012-05-27 05:00:00       6.183\n",
            "3  2012-06-03 05:00:00       6.257\n",
            "4  2012-06-17 05:00:00       6.479\n",
            "Data types in df_AlCon:\n",
            " Date           object\n",
            "425 SAO Al    float64\n",
            "dtype: object\n"
          ]
        }
      ],
      "source": [
        "print(df_AlCon.head())\n",
        "\n",
        "print(\"Data types in df_AlCon:\\n\", df_AlCon.dtypes)"
      ]
    },
    {
      "cell_type": "code",
      "execution_count": 29,
      "metadata": {},
      "outputs": [
        {
          "name": "stdout",
          "output_type": "stream",
          "text": [
            "Data types in df_AlCon:\n",
            " Date          datetime64[ns]\n",
            "425 SAO Al           float64\n",
            "dtype: object\n"
          ]
        }
      ],
      "source": [
        "\n",
        "# Convert the 'Date' column to datetime\n",
        "df_AlCon['Date'] = pd.to_datetime(df_AlCon['Date'])\n",
        "\n",
        "# Sort the dataframe by Date\n",
        "df_AlCon = df_AlCon.sort_values(by='Date')\n",
        "\n",
        "\n",
        "print(\"Data types in df_AlCon:\\n\", df_AlCon.dtypes)"
      ]
    },
    {
      "cell_type": "code",
      "execution_count": 30,
      "metadata": {},
      "outputs": [
        {
          "name": "stdout",
          "output_type": "stream",
          "text": [
            "        425 SAO Al\n",
            "count  2771.000000\n",
            "mean      6.055173\n",
            "std       0.482038\n",
            "min       0.037000\n",
            "25%       5.963000\n",
            "50%       6.107000\n",
            "75%       6.237500\n",
            "max       8.058000\n"
          ]
        }
      ],
      "source": [
        "print(df_AlCon.describe())\n",
        "#print(df_AlCon0.describe())\n"
      ]
    },
    {
      "cell_type": "code",
      "execution_count": 31,
      "metadata": {},
      "outputs": [
        {
          "name": "stdout",
          "output_type": "stream",
          "text": [
            "Rows removed from df_AlCon:\n",
            "Empty DataFrame\n",
            "Columns: [Date, 425 SAO Al]\n",
            "Index: []\n"
          ]
        }
      ],
      "source": [
        "# Filter rows where '425 SAO Al' column has values less than 0\n",
        "removed_rows = df_AlCon[df_AlCon['425 SAO Al'] < 0]\n",
        "\n",
        "# Display the removed rows\n",
        "print(\"Rows removed from df_AlCon:\")\n",
        "print(removed_rows)\n",
        "\n",
        "# Remove these rows from df_AlCon\n",
        "df_AlCon = df_AlCon.drop(removed_rows.index)\n"
      ]
    },
    {
      "cell_type": "code",
      "execution_count": 32,
      "metadata": {},
      "outputs": [
        {
          "data": {
            "image/png": "[encoded data removed]",
            "text/plain": [
              "<Figure size 640x480 with 1 Axes>"
            ]
          },
          "metadata": {},
          "output_type": "display_data"
        },
        {
          "name": "stdout",
          "output_type": "stream",
          "text": [
            "count    2770.000000\n",
            "mean        1.475812\n",
            "std         6.800593\n",
            "min         0.000000\n",
            "25%         1.000000\n",
            "50%         1.000000\n",
            "75%         1.000000\n",
            "max       298.000000\n",
            "Name: Date_Difference, dtype: float64\n",
            "0.0        49\n",
            "1.0      2484\n",
            "2.0       152\n",
            "3.0        27\n",
            "4.0        13\n",
            "5.0         6\n",
            "6.0         5\n",
            "7.0         9\n",
            "8.0         2\n",
            "9.0         1\n",
            "10.0        1\n",
            "12.0        2\n",
            "13.0        1\n",
            "14.0        1\n",
            "15.0        1\n",
            "16.0        1\n",
            "19.0        2\n",
            "20.0        1\n",
            "22.0        1\n",
            "23.0        1\n",
            "29.0        1\n",
            "32.0        1\n",
            "35.0        1\n",
            "44.0        1\n",
            "51.0        1\n",
            "52.0        1\n",
            "79.0        1\n",
            "99.0        1\n",
            "105.0       1\n",
            "298.0       1\n",
            "Name: Date_Difference, dtype: int64\n"
          ]
        }
      ],
      "source": [
        "#print(df_CDAlp['Date'])\n",
        "\n",
        "# # Sort the dataframe by Date\n",
        "# df_AlCon = df_AlCon.sort_values(by='Date')\n",
        "\n",
        "# Calculate the difference between consecutive dates\n",
        "df_AlCon['Date_Difference'] = df_AlCon['Date'].diff().dt.days\n",
        "\n",
        "# Drop the NaN value from the first row\n",
        "date_differences = df_AlCon['Date_Difference'].dropna()\n",
        "\n",
        "# Plot a histogram\n",
        "plt.hist(date_differences, bins=30, edgecolor='k', alpha=0.7)\n",
        "plt.title('Distribution of Days Between Dates')\n",
        "plt.xlabel('Days')\n",
        "plt.ylabel('Frequency')\n",
        "plt.show()\n",
        "\n",
        "# Display summary statistics\n",
        "print(date_differences.describe())\n",
        "\n",
        "# Get counts of each unique difference\n",
        "unique_diff_counts = df_AlCon['Date_Difference'].value_counts().sort_index()\n",
        "\n",
        "print(unique_diff_counts)"
      ]
    },
    {
      "cell_type": "code",
      "execution_count": 33,
      "metadata": {},
      "outputs": [
        {
          "name": "stdout",
          "output_type": "stream",
          "text": [
            "Gap of 14.0 days: 2012-06-03 to 2012-06-17\n",
            "Gap of 105.0 days: 2012-06-17 to 2012-09-30\n",
            "Gap of 23.0 days: 2012-10-01 to 2012-10-24\n",
            "Gap of 298.0 days: 2012-10-27 to 2013-08-21\n",
            "Gap of 44.0 days: 2014-04-18 to 2014-06-01\n",
            "Gap of 29.0 days: 2016-04-30 to 2016-05-29\n",
            "Gap of 35.0 days: 2017-08-02 to 2017-09-06\n",
            "Gap of 32.0 days: 2019-02-28 to 2019-04-01\n",
            "Gap of 19.0 days: 2020-06-26 to 2020-07-15\n",
            "Gap of 99.0 days: 2020-08-24 to 2020-12-01\n",
            "Gap of 15.0 days: 2020-12-29 to 2021-01-13\n",
            "Gap of 16.0 days: 2021-02-14 to 2021-03-02\n",
            "Gap of 12.0 days: 2021-09-20 to 2021-10-02\n",
            "Gap of 13.0 days: 2021-11-07 to 2021-11-20\n",
            "Gap of 12.0 days: 2021-11-20 to 2021-12-02\n",
            "Gap of 51.0 days: 2022-02-20 to 2022-04-12\n",
            "Gap of 20.0 days: 2022-07-09 to 2022-07-29\n",
            "Gap of 52.0 days: 2022-08-30 to 2022-10-21\n",
            "Gap of 79.0 days: 2022-10-21 to 2023-01-08\n",
            "Gap of 19.0 days: 2023-03-23 to 2023-04-11\n",
            "Gap of 22.0 days: 2023-07-07 to 2023-07-29\n"
          ]
        }
      ],
      "source": [
        "# Filter rows where the difference is greater than 10 days\n",
        "large_gaps = df_AlCon[df_AlCon['Date_Difference'] > 10]\n",
        "\n",
        "# Print the date pairs\n",
        "for idx, row in large_gaps.iterrows():\n",
        "    previous_date = row['Date'] - pd.Timedelta(days=row['Date_Difference'])\n",
        "    print(f\"Gap of {row['Date_Difference']} days: {previous_date.strftime('%Y-%m-%d')} to {row['Date'].strftime('%Y-%m-%d')}\")"
      ]
    },
    {
      "cell_type": "code",
      "execution_count": 34,
      "metadata": {},
      "outputs": [
        {
          "name": "stdout",
          "output_type": "stream",
          "text": [
            "Date                 425 SAO Al  Date_Difference\n",
            "2012-05-20 05:00:00  6.367       7.0                1\n",
            "2019-09-15 05:00:00  6.218       1.0                1\n",
            "2019-09-06 05:00:00  6.476       1.0                1\n",
            "2019-09-07 05:00:00  6.380       1.0                1\n",
            "2019-09-08 05:00:00  6.331       1.0                1\n",
            "                                                   ..\n",
            "2016-09-25 05:00:00  5.973       1.0                1\n",
            "2016-09-26 05:00:00  5.814       1.0                1\n",
            "2016-09-27 05:00:00  5.867       1.0                1\n",
            "2016-09-28 05:00:00  5.910       1.0                1\n",
            "2023-08-31 00:00:00  6.419       1.0                1\n",
            "Length: 2770, dtype: int64\n",
            "Series([], dtype: int64)\n"
          ]
        }
      ],
      "source": [
        "# Filter rows where the timestamp is on the hour (i.e., minute is 0)\n",
        "df_AlCon_on_hour = df_AlCon[df_AlCon['Date'].dt.minute == 0].copy()\n",
        "\n",
        "# Filter rows where the timestamp is not on the hour (i.e., minute is not 0)\n",
        "df_AlCon_off_hour = df_AlCon[df_AlCon['Date'].dt.minute != 0].copy()\n",
        "\n",
        "\n",
        "\n",
        "print(df_AlCon_on_hour.value_counts())\n",
        "print(df_AlCon_off_hour.value_counts())"
      ]
    },
    {
      "cell_type": "code",
      "execution_count": 35,
      "metadata": {},
      "outputs": [],
      "source": [
        "# def round_to_nearest_hour(timestamp):\n",
        "#     # List of target hours\n",
        "#     target_hours = [0, 5, 12, 17]\n",
        "    \n",
        "#     # Check if the timestamp is within 59 minutes of any target hour\n",
        "#     for hour in target_hours:\n",
        "#         if hour == 0:\n",
        "#             # Special case for 00:00\n",
        "#             lower_bound = timestamp.replace(hour=23, minute=59, second=0, microsecond=0)\n",
        "#             upper_bound = (timestamp + pd.Timedelta(days=1)).replace(hour=0, minute=59, second=0, microsecond=0)\n",
        "#         else:\n",
        "#             lower_bound = timestamp.replace(hour=hour-1, minute=59, second=0, microsecond=0)\n",
        "#             upper_bound = timestamp.replace(hour=hour, minute=59, second=0, microsecond=0)\n",
        "        \n",
        "#         if lower_bound <= timestamp <= upper_bound:\n",
        "#             if hour == 0:\n",
        "#                 # If rounding to 00:00, increment the day by 1\n",
        "#                 return (timestamp + pd.Timedelta(days=1)).replace(hour=0, minute=0, second=0, microsecond=0)\n",
        "#             else:\n",
        "#                 return timestamp.replace(hour=hour, minute=0, second=0, microsecond=0)\n",
        "    \n",
        "#     # For the remaining timestamps, round to the nearest hour\n",
        "#     if timestamp.minute >= 30:\n",
        "#         return (timestamp + pd.Timedelta(hours=1)).replace(minute=0, second=0, microsecond=0)\n",
        "#     else:\n",
        "#         return timestamp.replace(minute=0, second=0, microsecond=0)\n",
        "\n",
        "# # Apply the function to the 'Date' column of df_AlCon_off_hour and store the results in a new column 'RoundedDate'\n",
        "# df_AlCon_off_hour['RoundedDate'] = df_AlCon_off_hour['Date'].apply(round_to_nearest_hour)\n"
      ]
    },
    {
      "cell_type": "code",
      "execution_count": 36,
      "metadata": {},
      "outputs": [],
      "source": [
        "# # Apply the modified function to the 'Date' column of df_AlCon_off_hour\n",
        "# df_AlCon_off_hour['RoundedDate'] = df_AlCon_off_hour['Date'].apply(round_to_nearest_hour)\n",
        "\n",
        "# # Filter out the rows in df_AlCon_off_hour where the RoundedDate column has on-the-hour times\n",
        "# on_hour_rows = df_AlCon_off_hour[df_AlCon_off_hour['RoundedDate'].dt.minute == 0]\n",
        "\n",
        "# # Concatenate these rows to df_AlCon_on_hour\n",
        "# df_AlCon_on_hour = pd.concat([df_AlCon_on_hour, on_hour_rows])\n",
        "\n",
        "# # Remove these rows from df_AlCon_off_hour\n",
        "# df_AlCon_off_hour = df_AlCon_off_hour[df_AlCon_off_hour['RoundedDate'].dt.minute != 0]\n",
        "\n",
        "# # Sort df_AlCon_on_hour by 'Date' column\n",
        "# # RESET the Index\n",
        "# df_AlCon_on_hour = df_AlCon_on_hour.sort_values(by='Date').reset_index(drop=True)\n"
      ]
    },
    {
      "cell_type": "code",
      "execution_count": 37,
      "metadata": {},
      "outputs": [],
      "source": [
        "# # Fill empty values in 'RoundedDate' with values from 'Date'\n",
        "# df_AlCon_on_hour['RoundedDate'].fillna(df_AlCon_on_hour['Date'], inplace=True)\n",
        "\n",
        "# # Rename columns\n",
        "# df_AlCon_on_hour.rename(columns={'Date': 'DateSource', 'RoundedDate': 'Date'}, inplace=True)\n",
        "\n",
        "# df_AlCon = df_AlCon_on_hour[:]\n",
        "\n",
        "\n",
        "# Save df_AlCon_on_hour to a CSV file\n",
        "#df_AlCon_on_hour.to_csv('df_AlCon_on_hour.csv', index=False)\n",
        "\n",
        "# Save df_AlCon_off_hour to a CSV file\n",
        "#df_AlCon_off_hour.to_csv('df_AlCon_off_hour.csv', index=False)\n"
      ]
    },
    {
      "cell_type": "code",
      "execution_count": 38,
      "metadata": {},
      "outputs": [],
      "source": [
        "# # Check for matching dates\n",
        "# matching_dates = df_AlCon['Date'][df_AlCon['Date'].isin(df_CDAlp['Date'])]\n",
        "\n",
        "# # Print the matching dates and their count\n",
        "# print(\"Matching dates:\", matching_dates.unique())\n",
        "# print(\"Number of matching dates:\", len(matching_dates.unique()))\n"
      ]
    },
    {
      "cell_type": "code",
      "execution_count": 39,
      "metadata": {},
      "outputs": [],
      "source": [
        "\n",
        "# df_AlCon = df_AlCon.drop(\"DateSource\", axis=1)\n",
        "# # Assuming 'Date' is the name of the column you want to move to the first position\n",
        "# df_AlCon = df_AlCon[['Date'] + [col for col in df_AlCon.columns if col != 'Date']]\n",
        "\n"
      ]
    },
    {
      "cell_type": "code",
      "execution_count": 40,
      "metadata": {},
      "outputs": [
        {
          "name": "stdout",
          "output_type": "stream",
          "text": [
            "Sample dates from df_AlCon:\n",
            " 0   2012-05-13 05:00:00\n",
            "1   2012-05-20 05:00:00\n",
            "2   2012-05-27 05:00:00\n",
            "3   2012-06-03 05:00:00\n",
            "4   2012-06-17 05:00:00\n",
            "Name: Date, dtype: datetime64[ns]\n"
          ]
        }
      ],
      "source": [
        "print(\"Sample dates from df_AlCon:\\n\", df_AlCon['Date'].head())\n",
        "#print(\"\\nSample dates from df_CDAlp:\\n\", df_CDAlp['Date'].head())\n"
      ]
    },
    {
      "cell_type": "code",
      "execution_count": 41,
      "metadata": {},
      "outputs": [
        {
          "name": "stdout",
          "output_type": "stream",
          "text": [
            "Columns in df_AlCon: Index(['Date', '425 SAO Al', 'Date_Difference'], dtype='object')\n"
          ]
        }
      ],
      "source": [
        "print(\"Columns in df_AlCon:\", df_AlCon.columns)\n",
        "#print(\"Columns in df_CDAlp:\", df_CDAlp.columns)\n"
      ]
    },
    {
      "cell_type": "code",
      "execution_count": 42,
      "metadata": {},
      "outputs": [],
      "source": [
        "# Merge the dataframes based on the 'Date' column\n",
        "#df_AlCon = df_AlCon.merge(df_CDAlp[['Date', 'FC42428', 'FC03043213']], on='Date', how='left')\n"
      ]
    },
    {
      "cell_type": "code",
      "execution_count": 43,
      "metadata": {},
      "outputs": [
        {
          "name": "stdout",
          "output_type": "stream",
          "text": [
            "\n",
            "Unique times from df_AlCon:\n",
            "['05:00:00' '16:00:00' '03:00:00' '12:00:00' '18:00:00' '04:00:00'\n",
            " '10:00:00' '09:00:00' '23:00:00' '14:00:00' '11:00:00' '02:00:00'\n",
            " '15:00:00' '19:00:00' '17:00:00' '07:00:00' '08:00:00' '00:00:00']\n"
          ]
        }
      ],
      "source": [
        "# Extract unique hh:mm:ss from df_CDAlp's 'Date' column\n",
        "#df_CDDate = df_CDAlp['Date'].dt.strftime('%H:%M:%S').unique()\n",
        "\n",
        "# Extract unique hh:mm:ss from df_AlCon's 'Date' column\n",
        "df_AlConDate = df_AlCon['Date'].dt.strftime('%H:%M:%S').unique()\n",
        "\n",
        "# print(\"Unique times from df_CDAlp:\")\n",
        "# print(df_CDDate)\n",
        "\n",
        "print(\"\\nUnique times from df_AlCon:\")\n",
        "print(df_AlConDate)"
      ]
    },
    {
      "cell_type": "code",
      "execution_count": 44,
      "metadata": {},
      "outputs": [
        {
          "data": {
            "image/png": "[encoded data removed]",
            "text/plain": [
              "<Figure size 640x480 with 1 Axes>"
            ]
          },
          "metadata": {},
          "output_type": "display_data"
        }
      ],
      "source": [
        "\n",
        "\n",
        "# Assuming df_AlCon is your DataFrame with the 'wghtdAvg' column\n",
        "\n",
        "# Create a histogram of the 'wghtdAvg' column\n",
        "plt.hist(df_AlCon['425 SAO Al'], bins=20, edgecolor='k')  # You can adjust the number of bins as needed\n",
        "plt.title('Histogram of 425 SAO Al')\n",
        "plt.xlabel('425 SAO Al Values')\n",
        "plt.ylabel('Frequency')\n",
        "plt.grid(True)\n",
        "\n",
        "# Show the histogram\n",
        "plt.show()\n"
      ]
    },
    {
      "cell_type": "code",
      "execution_count": 45,
      "metadata": {},
      "outputs": [
        {
          "name": "stdout",
          "output_type": "stream",
          "text": [
            "                    Date  425 SAO Al  Date_Difference\n",
            "0    2012-05-13 05:00:00       6.249              NaN\n",
            "1    2012-05-20 05:00:00       6.367              7.0\n",
            "2    2012-05-27 05:00:00       6.183              7.0\n",
            "3    2012-06-03 05:00:00       6.257              7.0\n",
            "4    2012-06-17 05:00:00       6.479             14.0\n",
            "...                  ...         ...              ...\n",
            "2766 2023-08-27 00:00:00       6.285              1.0\n",
            "2767 2023-08-28 00:00:00       6.351              1.0\n",
            "2768 2023-08-29 00:00:00       6.462              1.0\n",
            "2769 2023-08-30 00:00:00       6.437              1.0\n",
            "2770 2023-08-31 00:00:00       6.419              1.0\n",
            "\n",
            "[2771 rows x 3 columns]\n"
          ]
        }
      ],
      "source": [
        "print(df_AlCon)"
      ]
    },
    {
      "cell_type": "code",
      "execution_count": 46,
      "metadata": {},
      "outputs": [
        {
          "name": "stdout",
          "output_type": "stream",
          "text": [
            "Number of duplicate rows in df_AlCon: 0\n",
            "Empty DataFrame\n",
            "Columns: [Date, 425 SAO Al, Date_Difference]\n",
            "Index: []\n"
          ]
        }
      ],
      "source": [
        "# Assuming df_AlCon is your DataFrame\n",
        "\n",
        "# Use the duplicated() method to find duplicate rows\n",
        "duplicate_rows = df_AlCon[df_AlCon.duplicated()]\n",
        "\n",
        "# Use the sum() method to count the number of duplicate rows\n",
        "num_duplicate_rows = len(duplicate_rows)\n",
        "\n",
        "# Print the count of duplicate rows\n",
        "print(\"Number of duplicate rows in df_AlCon:\", num_duplicate_rows)\n",
        "\n",
        "print(duplicate_rows)\n"
      ]
    },
    {
      "cell_type": "code",
      "execution_count": 47,
      "metadata": {},
      "outputs": [
        {
          "name": "stdout",
          "output_type": "stream",
          "text": [
            "                    Date  425 SAO Al  Date_Difference\n",
            "0    2012-05-20 05:00:00       6.367              7.0\n",
            "1    2012-05-27 05:00:00       6.183              7.0\n",
            "2    2012-06-03 05:00:00       6.257              7.0\n",
            "3    2012-06-17 05:00:00       6.479             14.0\n",
            "4    2012-09-30 16:00:00       6.106            105.0\n",
            "...                  ...         ...              ...\n",
            "2765 2023-08-27 00:00:00       6.285              1.0\n",
            "2766 2023-08-28 00:00:00       6.351              1.0\n",
            "2767 2023-08-29 00:00:00       6.462              1.0\n",
            "2768 2023-08-30 00:00:00       6.437              1.0\n",
            "2769 2023-08-31 00:00:00       6.419              1.0\n",
            "\n",
            "[2770 rows x 3 columns]\n"
          ]
        }
      ],
      "source": [
        "# Assuming df_AlCon is your DataFrame with a 'Date' column\n",
        "\n",
        "# Sort the DataFrame by the 'Date' column in ascending order\n",
        "df_AlCon.sort_values(by='Date', inplace=True)\n",
        "\n",
        "# Remove rows with NaN values in any column\n",
        "df_AlCon.dropna(inplace=True)\n",
        "\n",
        "# Reset the index to have a continuous index after removing rows\n",
        "df_AlCon.reset_index(drop=True, inplace=True)\n",
        "\n",
        "# Now, df_AlCon is sorted by date and has rows with NaN values removed\n",
        "\n",
        "print(df_AlCon)\n"
      ]
    },
    {
      "cell_type": "code",
      "execution_count": 48,
      "metadata": {},
      "outputs": [],
      "source": [
        "\n",
        "# This was used to explore the frequency of occurances by date\n",
        "\n",
        "# Assuming df_AlCon is your DataFrame with a 'Date' column\n",
        "\n",
        "# # Convert the 'Date' column to datetime if not already\n",
        "# df_AlCon['Date'] = pd.to_datetime(df_AlCon['Date'])\n",
        "\n",
        "# # Extract the date component from the 'Date' column\n",
        "# df_AlCon['Date_only'] = df_AlCon['Date'].dt.date\n",
        "\n",
        "# # Group the DataFrame by the 'Date_only' column and count the groups\n",
        "# count_per_day = df_AlCon.groupby('Date_only').size().reset_index(name='Count')\n",
        "\n",
        "# # Filter rows with a count greater than one\n",
        "# filtered_dates = count_per_day[count_per_day['Count'] > 1]\n",
        "\n",
        "# # Use the filtered dates to select rows from the original DataFrame df_AlCon\n",
        "# filtered_df = df_AlCon[df_AlCon['Date_only'].isin(filtered_dates['Date_only'])]\n",
        "\n",
        "# # Now, filtered_df contains rows with more than one occurrence in df_AlCon, including the time\n",
        "\n",
        "# # Print the result\n",
        "# print(filtered_df)\n",
        "\n",
        "# Save df_AlCon_on_hour to a CSV file\n",
        "# filtered_df.to_csv('filtered_df.csv', index=False)\n"
      ]
    },
    {
      "cell_type": "code",
      "execution_count": 49,
      "metadata": {},
      "outputs": [
        {
          "data": {
            "image/png": "[encoded data removed]",
            "text/plain": [
              "<Figure size 640x480 with 1 Axes>"
            ]
          },
          "metadata": {},
          "output_type": "display_data"
        }
      ],
      "source": [
        "import scipy.stats as stats\n",
        "\n",
        "# Create a normal Q-Q plot\n",
        "stats.probplot(df_AlCon['425 SAO Al'], dist=\"norm\", plot=plt)\n",
        "plt.title(\"Normal Q-Q plot\")\n",
        "plt.show()"
      ]
    },
    {
      "cell_type": "code",
      "execution_count": 50,
      "metadata": {},
      "outputs": [],
      "source": [
        "df_AlCon = df_AlCon.drop('Date_Difference', axis=1)\n",
        "\n",
        "\n",
        "# Save df_AlCon_on_hour to a CSV file\n",
        "df_AlCon.to_csv('df_AlCon.csv', index=False)"
      ]
    }
  ],
  "metadata": {
    "kernelspec": {
      "display_name": "base",
      "language": "python",
      "name": "python3"
    },
    "language_info": {
      "codemirror_mode": {
        "name": "ipython",
        "version": 3
      },
      "file_extension": ".py",
      "mimetype": "text/x-python",
      "name": "python",
      "nbconvert_exporter": "python",
      "pygments_lexer": "ipython3",
      "version": "3.10.9"
    }
  },
  "nbformat": 4,
  "nbformat_minor": 4
}
