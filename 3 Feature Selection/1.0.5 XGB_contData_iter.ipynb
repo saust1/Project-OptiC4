{
  "cells": [
    {
      "cell_type": "code",
      "execution_count": 1,
      "metadata": {},
      "outputs": [],
      "source": [
        "# %pip install statsmodels\n",
        "# %pip install mlxtend\n",
        "# %pip install xgboost"
      ]
    },
    {
      "cell_type": "code",
      "execution_count": 2,
      "metadata": {
        "tags": [],
        "trusted": true
      },
      "outputs": [],
      "source": [
        "# Import necessary libraries\n",
        "import pandas as pd\n",
        "import seaborn as sns\n",
        "import matplotlib.pyplot as plt\n",
        "from statsmodels.formula.api import ols\n",
        "import statsmodels.api as sm\n",
        "from sklearn.linear_model import LinearRegression\n",
        "from mlxtend.feature_selection import SequentialFeatureSelector as SFS\n",
        "from sklearn.model_selection import train_test_split\n",
        "import itertools\n",
        "import random\n",
        "from sklearn.metrics import r2_score, mean_squared_error, mean_absolute_error\n",
        "import xgboost as xgb\n",
        "from sklearn.model_selection import train_test_split\n",
        "import random\n",
        "import pandas as pd"
      ]
    },
    {
      "cell_type": "code",
      "execution_count": 3,
      "metadata": {},
      "outputs": [
        {
          "name": "stdout",
          "output_type": "stream",
          "text": [
            "    425 %Al    Butanol   Decanol    Ethanol   Hexanol   Octanol   AYC55580  \\\n",
            "0  6.319560  30.366200  1.030260  88.289900  1.365840  1.492120  18.297300   \n",
            "1  6.319915  30.678500  1.063260  89.685450  1.397135  1.548230  18.040650   \n",
            "2  6.328340  32.399333  1.647950  88.677200  1.994413  2.454430  16.637633   \n",
            "3  6.336760  32.845950  1.928805  87.080875  2.288335  2.897523  15.779400   \n",
            "4  6.337460  33.387025  2.352595  84.489175  2.734682  3.571185  15.199680   \n",
            "\n",
            "    DI55102   DI55152   DI55580  ...    TI40050   TI52014     TI55013  \\\n",
            "0  0.963347  0.924879  1.017340  ...  81.156900  131.0990  236.672000   \n",
            "1  0.965043  0.924515  1.014885  ...  82.965650  132.3490  230.501000   \n",
            "2  0.968107  0.929955  1.015593  ...  82.461167  133.0350  223.885667   \n",
            "3  0.969573  0.932388  1.014703  ...  83.676300  134.0690  219.719750   \n",
            "4  0.971022  0.934531  1.014094  ...  85.328040  134.8424  217.253200   \n",
            "\n",
            "      TI55014     TI55015   TI55016    TI55017  TI55021     TI55023  VI52558B  \n",
            "0  223.704000  216.905000  207.7370  205.81700  213.813  212.301000  4.969810  \n",
            "1  220.794000  216.033500  207.2460  205.70300  213.874  212.308500  4.616265  \n",
            "2  214.879667  209.812667  202.7230  201.16400  214.433  212.926667  4.741457  \n",
            "3  211.567250  206.503250  200.5075  199.00025  214.639  213.051250  4.436797  \n",
            "4  209.326600  204.214800  198.6922  197.25440  214.733  213.071400  4.304762  \n",
            "\n",
            "[5 rows x 49 columns]\n"
          ]
        }
      ],
      "source": [
        "\n",
        "df_All_1 = pd.read_csv(r'C:\\Users\\saust\\OneDrive\\Desktop\\GitRepo\\Project-OptiC4\\3 Feature Selection\\contData_all_Avg - 1o2.csv')\n",
        "df_All_2 = pd.read_csv(r'C:\\Users\\saust\\OneDrive\\Desktop\\GitRepo\\Project-OptiC4\\3 Feature Selection\\contData_all_Avg - 2o2.csv')\n",
        "# Concatenate (union) the dataframes\n",
        "df_All = pd.concat([df_All_1, df_All_2], ignore_index=True)\n",
        "\n",
        "print(df_All.head())"
      ]
    },
    {
      "cell_type": "code",
      "execution_count": 4,
      "metadata": {
        "trusted": true
      },
      "outputs": [],
      "source": [
        "# Set max columns to display\n",
        "pd.set_option('display.max_columns', None)"
      ]
    },
    {
      "cell_type": "code",
      "execution_count": 5,
      "metadata": {},
      "outputs": [],
      "source": [
        "# df_All = df_All[df_All['Date'] > '2022-06-15 00:00:00']"
      ]
    },
    {
      "cell_type": "code",
      "execution_count": 6,
      "metadata": {},
      "outputs": [],
      "source": [
        "selected_columns = ['425 %Al', 'Butanol',\n",
        "'FC55569',\n",
        "'TC55552',\n",
        "'FC55576',\n",
        "'LC90368',\n",
        "'DI55152',\n",
        "'LC90366',\n",
        "'FC55003',\n",
        "'TC55566',\n",
        "'FC42428',\n",
        "'FFC55553',\n",
        "'DI55102',\n",
        "'LC55557',\n",
        "'FFC55555']\n",
        "\n",
        "existing_columns = [col for col in selected_columns if col in df_All.columns]\n",
        "df_All = df_All[existing_columns]\n"
      ]
    },
    {
      "cell_type": "code",
      "execution_count": 7,
      "metadata": {},
      "outputs": [],
      "source": [
        "# # List of columns to exclude to run XGboost feature selection\n",
        "# exclude_columns = ['Octanol', 'Hexanol',\n",
        "#        'Ethanol', 'Decanol',\n",
        "       \n",
        "#        'TI52014', 'TI55013', 'TI55014', 'TI55015', 'TI55016', 'TI55017', 'TI55021', 'TI55023',\n",
        "#        'TC52015', 'FC52018', 'II52554', 'TI40050', 'VI52558B'\n",
        "\n",
        "#        # 'FC55102', 'FC55152', 'LC55557', 'LC55568', 'TC55555',\n",
        "\n",
        "#        # '425 SAO Al', 'FFC55553', 'LC52572', 'LC90366',\n",
        "\n",
        "#        # 'FC42428', 'LC55553',\n",
        "\n",
        "#        # 'FC55009'\n",
        "#                    ]\n",
        "\n",
        "# # Create a new DataFrame without the excluded columnsd\n",
        "# df_All = df_All.drop(columns=exclude_columns)"
      ]
    },
    {
      "cell_type": "code",
      "execution_count": 8,
      "metadata": {},
      "outputs": [
        {
          "data": {
            "text/plain": [
              "Index(['425 %Al', 'Butanol', 'FC55569', 'TC55552', 'FC55576', 'LC90368',\n",
              "       'DI55152', 'LC90366', 'FC55003', 'TC55566', 'FC42428', 'FFC55553',\n",
              "       'DI55102', 'LC55557', 'FFC55555'],\n",
              "      dtype='object')"
            ]
          },
          "execution_count": 8,
          "metadata": {},
          "output_type": "execute_result"
        }
      ],
      "source": [
        "df_All.columns"
      ]
    },
    {
      "cell_type": "code",
      "execution_count": 9,
      "metadata": {},
      "outputs": [],
      "source": [
        "# # Splitting into train and test\n",
        "# X = df_All.drop('Butanol', axis=1)  # Assuming 'target' is your target column\n",
        "# y = df_All['Butanol']\n",
        "# X_train, X_test, y_train, y_test = train_test_split(X, y, test_size=0.2, random_state=42)"
      ]
    },
    {
      "cell_type": "code",
      "execution_count": 10,
      "metadata": {},
      "outputs": [],
      "source": [
        "def iterate_feature_rotations(df_all, target_column, test_size=0.2, random_state=42, num_random_iterations=30):\n",
        "    results = []\n",
        "    columns = [col for col in df_all.columns if col != target_column]\n",
        "    random.seed(random_state)  # for reproducibility\n",
        "\n",
        "    for feature in columns:\n",
        "        for _ in range(num_random_iterations):\n",
        "            # Randomly order the remaining features\n",
        "            remaining_features = [f for f in columns if f != feature]\n",
        "            random.shuffle(remaining_features)\n",
        "\n",
        "            # Create a new ordered list of features\n",
        "            ordered_features = [feature] + remaining_features\n",
        "\n",
        "            reordered_df = df_all[ordered_features + [target_column]]\n",
        "\n",
        "            # Splitting into train and test for each permutation\n",
        "            X = reordered_df.drop(target_column, axis=1)\n",
        "            y = reordered_df[target_column]\n",
        "            X_train, X_test, y_train, y_test = train_test_split(X, y, test_size=test_size, random_state=random_state)\n",
        "\n",
        "            # Create and fit the XGBoost model\n",
        "            model = xgb.XGBRegressor(objective='reg:squarederror')\n",
        "            model.fit(X_train, y_train)\n",
        "\n",
        "            # Extract feature importances\n",
        "            feature_importances = model.get_booster().get_score(importance_type=\"weight\")\n",
        "\n",
        "            # Store the result with the permutation order and feature importances\n",
        "            results.append((ordered_features, feature_importances))\n",
        "\n",
        "    return results\n",
        "\n",
        "\n",
        "results = iterate_feature_rotations(df_All, 'Butanol')\n",
        "\n",
        "# Convert results to a DataFrame\n",
        "flattened_results = []\n",
        "for ordered_features, importances in results:\n",
        "    for feature, importance in importances.items():\n",
        "        flattened_results.append({\n",
        "            'Feature Rotation': ordered_features,\n",
        "            'Feature': feature,\n",
        "            'Importance': importance\n",
        "        })\n",
        "\n",
        "results_df = pd.DataFrame(flattened_results)\n"
      ]
    },
    {
      "cell_type": "code",
      "execution_count": 11,
      "metadata": {},
      "outputs": [
        {
          "name": "stdout",
          "output_type": "stream",
          "text": [
            "                                       Feature Rotation   Feature  Importance\n",
            "0     [425 %Al, TC55566, FC55003, FC55576, FFC55553,...   425 %Al       663.0\n",
            "1     [425 %Al, TC55566, FC55003, FC55576, FFC55553,...   TC55566       421.0\n",
            "2     [425 %Al, TC55566, FC55003, FC55576, FFC55553,...   FC55003       353.0\n",
            "3     [425 %Al, TC55566, FC55003, FC55576, FFC55553,...   FC55576       386.0\n",
            "4     [425 %Al, TC55566, FC55003, FC55576, FFC55553,...  FFC55553       365.0\n",
            "...                                                 ...       ...         ...\n",
            "5875  [FFC55555, DI55102, 425 %Al, FC55003, LC55557,...  FFC55553       334.0\n",
            "5876  [FFC55555, DI55102, 425 %Al, FC55003, LC55557,...   TC55552       345.0\n",
            "5877  [FFC55555, DI55102, 425 %Al, FC55003, LC55557,...   FC42428       316.0\n",
            "5878  [FFC55555, DI55102, 425 %Al, FC55003, LC55557,...   LC90366       339.0\n",
            "5879  [FFC55555, DI55102, 425 %Al, FC55003, LC55557,...   FC55576       341.0\n",
            "\n",
            "[5880 rows x 3 columns]\n"
          ]
        }
      ],
      "source": [
        "print(results_df)"
      ]
    },
    {
      "cell_type": "code",
      "execution_count": 12,
      "metadata": {},
      "outputs": [
        {
          "name": "stdout",
          "output_type": "stream",
          "text": [
            "     Feature  Average Importance\n",
            "0    425 %Al          423.269048\n",
            "11   LC90368          421.561905\n",
            "12   TC55552          400.516667\n",
            "2    DI55152          391.628571\n",
            "6    FC55576          390.671429\n",
            "5    FC55569          387.650000\n",
            "10   LC90366          382.573810\n",
            "7   FFC55553          375.380952\n",
            "1    DI55102          368.814286\n",
            "8   FFC55555          362.933333\n",
            "9    LC55557          361.216667\n",
            "3    FC42428          361.150000\n",
            "13   TC55566          344.464286\n",
            "4    FC55003          329.169048\n"
          ]
        }
      ],
      "source": [
        "# Group by 'Feature' and calculate the average importance\n",
        "average_importances = results_df.groupby('Feature')['Importance'].mean()\n",
        "\n",
        "# Convert the Series to a DataFrame\n",
        "average_importances_df = average_importances.reset_index()\n",
        "\n",
        "# Rename the columns for clarity\n",
        "average_importances_df.columns = ['Feature', 'Average Importance']\n",
        "\n",
        "# Sort the DataFrame by 'Average Importance' in descending order\n",
        "average_importances_df = average_importances_df.sort_values(by='Average Importance', ascending=False)\n",
        "\n",
        "# Display or save the DataFrame\n",
        "print(average_importances_df)\n",
        "# Or save it to a CSV file\n",
        "# average_importances_df.to_csv('average_feature_importances.csv', index=False)\n"
      ]
    }
  ],
  "metadata": {
    "kernelspec": {
      "display_name": "Python 3 (ipykernel)",
      "language": "python",
      "name": "python3"
    },
    "language_info": {
      "codemirror_mode": {
        "name": "ipython",
        "version": 3
      },
      "file_extension": ".py",
      "mimetype": "text/x-python",
      "name": "python",
      "nbconvert_exporter": "python",
      "pygments_lexer": "ipython3",
      "version": "3.10.9"
    }
  },
  "nbformat": 4,
  "nbformat_minor": 4
}
