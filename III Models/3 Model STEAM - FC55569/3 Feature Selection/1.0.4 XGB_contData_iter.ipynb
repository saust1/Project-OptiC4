{
  "cells": [
    {
      "cell_type": "code",
      "execution_count": 10,
      "metadata": {},
      "outputs": [],
      "source": [
        "# %pip install statsmodels\n",
        "# %pip install mlxtend\n",
        "# %pip install xgboost"
      ]
    },
    {
      "cell_type": "code",
      "execution_count": 11,
      "metadata": {
        "tags": [],
        "trusted": true
      },
      "outputs": [],
      "source": [
        "# Import necessary libraries\n",
        "import pandas as pd\n",
        "import seaborn as sns\n",
        "import matplotlib.pyplot as plt\n",
        "from statsmodels.formula.api import ols\n",
        "import statsmodels.api as sm\n",
        "from sklearn.linear_model import LinearRegression\n",
        "from mlxtend.feature_selection import SequentialFeatureSelector as SFS\n",
        "from sklearn.model_selection import train_test_split\n",
        "import itertools\n",
        "import random\n",
        "from sklearn.metrics import r2_score, mean_squared_error, mean_absolute_error\n",
        "import xgboost as xgb\n",
        "from sklearn.model_selection import train_test_split\n",
        "import random\n",
        "import pandas as pd"
      ]
    },
    {
      "cell_type": "code",
      "execution_count": 12,
      "metadata": {},
      "outputs": [
        {
          "name": "stdout",
          "output_type": "stream",
          "text": [
            "                  Date  425_pct_Al     Al2O3  M_Value  C4_pct_Eth  C4_pct_H2O  \\\n",
            "0  2012-05-17 09:00:00    6.319560  11.41670  3.50773    2.554580     22.0531   \n",
            "1  2012-05-17 10:00:00    6.319915  11.40835  3.50797    2.555935     22.0557   \n",
            "2  2012-05-17 12:00:00    6.320970  11.39165  3.50869    2.560005     22.0636   \n",
            "3  2012-05-18 08:00:00    6.328690  11.39165  3.51401    2.540370     22.0604   \n",
            "4  2012-05-18 09:00:00    6.336060  11.40500  3.51910    2.514430     22.0484   \n",
            "\n",
            "   HydWtr_pct_Ammonia  C4_pct_Hex  HydWtr_Na2O  Decanol   DI55102   DI55152  \\\n",
            "0            0.867508    0.670721     3.354160  1.03026  0.965043  0.924515   \n",
            "1            0.864729    0.671059     3.306475  1.03026  0.965043  0.924515   \n",
            "2            0.856391    0.672071     3.163420  1.06326  0.965043  0.924515   \n",
            "3            0.811652    0.674174     2.238130  1.51850  0.971625  0.933431   \n",
            "4            0.773793    0.675408     1.391475  1.51850  0.971625  0.933431   \n",
            "\n",
            "    DI55580   FC55003    FC55009   FC55552   FC55569  FC55576  FFC55553  \\\n",
            "0  1.014885  5308.885  1182.3935  40409.25  6924.645  322.177  1.049540   \n",
            "1  1.014885  5308.885  1182.3935  40409.25  6924.645  322.177  1.049540   \n",
            "2  1.014885  5308.885  1182.3935  40409.25  6924.645  322.177  1.049540   \n",
            "3  1.015146  5297.320   966.1866  40866.28  6918.194  329.701  1.050092   \n",
            "4  1.015146  5297.320   966.1866  40866.28  6918.194  329.701  1.050092   \n",
            "\n",
            "   FFC55555   LC52572   LC55553   LC55557   LC55568    LC90366   LC90368  \\\n",
            "0  0.751183  66.52320  62.92105  66.31395  40.25250  15.449150  49.26750   \n",
            "1  0.751183  66.52320  62.92105  66.31395  40.25250  15.449150  49.26750   \n",
            "2  0.751183  66.52320  62.92105  66.31395  40.25250  15.449150  49.26750   \n",
            "3  0.764579  66.50016  62.23534  65.92560  39.88364   8.759814  48.51306   \n",
            "4  0.764579  66.50016  62.23534  65.92560  39.88364   8.759814  48.51306   \n",
            "\n",
            "    PI55004   PI55020   TC55552   TC55555   TI40050   TI55021  \n",
            "0  1.236360 -0.389406  179.0115  179.9940  82.96565  213.8740  \n",
            "1  1.236360 -0.389406  179.0115  179.9940  82.96565  213.8740  \n",
            "2  1.236360 -0.389406  179.0115  179.9940  82.96565  213.8740  \n",
            "3  1.190342 -0.318266  180.7166  179.9338  82.41662  214.5402  \n",
            "4  1.190342 -0.318266  180.7166  179.9338  82.41662  214.5402  \n"
          ]
        }
      ],
      "source": [
        "\n",
        "df_TagDesc = pd.read_csv(r'C:\\Users\\austinsh\\Project-OptiC4\\II Data\\1 Collection\\CSV\\Not for Processing\\TagDesc.csv')\n",
        "\n",
        "# df_All_1 = pd.read_csv(r'C:\\Users\\saust\\OneDrive\\Desktop\\GitRepo\\Project-OptiC4\\1 Preprocess\\Merge Data\\contData_all_Avg_1o2.csv')\n",
        "# df_All_2 = pd.read_csv(r'C:\\Users\\saust\\OneDrive\\Desktop\\GitRepo\\Project-OptiC4\\1 Preprocess\\Merge Data\\contData_all_Avg_2o2.csv')\n",
        "# # Concatenate (union) the dataframes\n",
        "# df_All = pd.concat([df_All_1, df_All_2], ignore_index=True)\n",
        "\n",
        "df_All = pd.read_csv(r'C:\\Users\\austinsh\\Project-OptiC4\\III Models\\3 Model C10\\3 Feature Selection\\filtered-out_5-9_corr.csv')\n",
        "\n",
        "print(df_All.head())"
      ]
    },
    {
      "cell_type": "code",
      "execution_count": 13,
      "metadata": {
        "trusted": true
      },
      "outputs": [],
      "source": [
        "# Set max columns to display\n",
        "pd.set_option('display.max_columns', None)"
      ]
    },
    {
      "cell_type": "code",
      "execution_count": 14,
      "metadata": {},
      "outputs": [],
      "source": [
        "# df_All = df_All[df_All['Date'] > '2022-06-15 00:00:00']"
      ]
    },
    {
      "cell_type": "code",
      "execution_count": 15,
      "metadata": {},
      "outputs": [],
      "source": [
        "\n",
        "\n",
        "\n",
        "# # List of columns to exclude to run XGboost feature selection\n",
        "# exclude_columns = ['Octanol', 'Hexanol',\n",
        "#        'Ethanol', 'Decanol',\n",
        "       \n",
        "#        'TI52014', 'TI55013', 'TI55014', 'TI55015', 'TI55016', 'TI55017', 'TI55023',\n",
        "#        # , 'TI55021'\n",
        "\n",
        "#        'TC52015', 'FC52018', 'II52554', 'TI40050', 'VI52558B'\n",
        "\n",
        "#        # 'FC55102', 'FC55152', 'LC55557', 'LC55568', 'TC55555',\n",
        "\n",
        "#        # '425 SAO Al', 'FFC55553', 'LC52572', 'LC90366',\n",
        "\n",
        "#        # 'FC42428', 'LC55553',\n",
        "\n",
        "#        # 'FC55009'\n",
        "#                    ]\n",
        "\n",
        "# # Create a new DataFrame without the excluded columnsd\n",
        "# df_All = df_All.drop(columns=exclude_columns)"
      ]
    },
    {
      "cell_type": "code",
      "execution_count": 16,
      "metadata": {},
      "outputs": [
        {
          "data": {
            "text/plain": [
              "Index(['Date', '425_pct_Al', 'Al2O3', 'M_Value', 'C4_pct_Eth', 'C4_pct_H2O',\n",
              "       'HydWtr_pct_Ammonia', 'C4_pct_Hex', 'HydWtr_Na2O', 'Decanol', 'DI55102',\n",
              "       'DI55152', 'DI55580', 'FC55003', 'FC55009', 'FC55552', 'FC55569',\n",
              "       'FC55576', 'FFC55553', 'FFC55555', 'LC52572', 'LC55553', 'LC55557',\n",
              "       'LC55568', 'LC90366', 'LC90368', 'PI55004', 'PI55020', 'TC55552',\n",
              "       'TC55555', 'TI40050', 'TI55021'],\n",
              "      dtype='object')"
            ]
          },
          "execution_count": 16,
          "metadata": {},
          "output_type": "execute_result"
        }
      ],
      "source": [
        "df_All.columns"
      ]
    },
    {
      "cell_type": "code",
      "execution_count": 17,
      "metadata": {},
      "outputs": [],
      "source": [
        "# # Splitting into train and test\n",
        "# X = df_All.drop('Butanol', axis=1)  # Assuming 'target' is your target column\n",
        "# y = df_All['Butanol']\n",
        "# X_train, X_test, y_train, y_test = train_test_split(X, y, test_size=0.2, random_state=42)"
      ]
    },
    {
      "cell_type": "code",
      "execution_count": 18,
      "metadata": {},
      "outputs": [],
      "source": [
        "def iterate_feature_rotations(df_all, target_column, test_size=0.2, random_state=42, num_random_iterations=30):\n",
        "    results = []\n",
        "    columns = [col for col in df_all.columns if col != target_column and col != 'Date']\n",
        "    random.seed(random_state)  # for reproducibility\n",
        "\n",
        "    for feature in columns:\n",
        "        for _ in range(num_random_iterations):\n",
        "            # Randomly order the remaining features\n",
        "            remaining_features = [f for f in columns if f != feature]\n",
        "            random.shuffle(remaining_features)\n",
        "\n",
        "            # Create a new ordered list of features\n",
        "            ordered_features = [feature] + remaining_features\n",
        "\n",
        "            reordered_df = df_all[ordered_features + [target_column]]\n",
        "\n",
        "            # Splitting into train and test for each permutation\n",
        "            X = reordered_df.drop(target_column, axis=1)\n",
        "            y = reordered_df[target_column]\n",
        "            X_train, X_test, y_train, y_test = train_test_split(X, y, test_size=test_size, random_state=random_state)\n",
        "\n",
        "            # Create and fit the XGBoost model\n",
        "            model = xgb.XGBRegressor(objective='reg:squarederror')\n",
        "            model.fit(X_train, y_train)\n",
        "\n",
        "            # Extract feature importances\n",
        "            feature_importances = model.get_booster().get_score(importance_type=\"weight\")\n",
        "\n",
        "            # Store the result with the permutation order and feature importances\n",
        "            results.append((ordered_features, feature_importances))\n",
        "\n",
        "    return results\n",
        "\n",
        "\n",
        "results = iterate_feature_rotations(df_All, 'Decanol')\n",
        "\n",
        "# Convert results to a DataFrame\n",
        "flattened_results = []\n",
        "for ordered_features, importances in results:\n",
        "    for feature, importance in importances.items():\n",
        "        flattened_results.append({\n",
        "            'Feature Rotation': ordered_features,\n",
        "            'Feature': feature,\n",
        "            'Importance': importance\n",
        "        })\n",
        "\n",
        "results_df = pd.DataFrame(flattened_results)\n"
      ]
    },
    {
      "cell_type": "code",
      "execution_count": 19,
      "metadata": {},
      "outputs": [
        {
          "name": "stdout",
          "output_type": "stream",
          "text": [
            "                                        Feature Rotation     Feature  \\\n",
            "0      [425_pct_Al, LC55553, FC55576, FC55003, LC9036...  425_pct_Al   \n",
            "1      [425_pct_Al, LC55553, FC55576, FC55003, LC9036...     LC55553   \n",
            "2      [425_pct_Al, LC55553, FC55576, FC55003, LC9036...     FC55576   \n",
            "3      [425_pct_Al, LC55553, FC55576, FC55003, LC9036...     FC55003   \n",
            "4      [425_pct_Al, LC55553, FC55576, FC55003, LC9036...     LC90368   \n",
            "...                                                  ...         ...   \n",
            "26995  [TI55021, M_Value, DI55102, 425_pct_Al, FC5556...     LC90368   \n",
            "26996  [TI55021, M_Value, DI55102, 425_pct_Al, FC5556...     DI55580   \n",
            "26997  [TI55021, M_Value, DI55102, 425_pct_Al, FC5556...  C4_pct_Hex   \n",
            "26998  [TI55021, M_Value, DI55102, 425_pct_Al, FC5556...     LC55568   \n",
            "26999  [TI55021, M_Value, DI55102, 425_pct_Al, FC5556...     TC55552   \n",
            "\n",
            "       Importance  \n",
            "0           416.0  \n",
            "1           178.0  \n",
            "2           226.0  \n",
            "3           211.0  \n",
            "4           200.0  \n",
            "...           ...  \n",
            "26995       160.0  \n",
            "26996       141.0  \n",
            "26997       157.0  \n",
            "26998       105.0  \n",
            "26999       183.0  \n",
            "\n",
            "[27000 rows x 3 columns]\n"
          ]
        }
      ],
      "source": [
        "print(results_df)"
      ]
    },
    {
      "cell_type": "code",
      "execution_count": 20,
      "metadata": {},
      "outputs": [],
      "source": [
        "# Group by 'Feature' and calculate the average importance\n",
        "average_importances = results_df.groupby('Feature')['Importance'].mean()\n",
        "\n",
        "# Convert the Series to a DataFrame\n",
        "average_importances_df = average_importances.reset_index()\n",
        "\n",
        "# Rename the columns for clarity\n",
        "average_importances_df.columns = ['Feature', 'Average Importance']\n",
        "\n",
        "# Sort the DataFrame by 'Average Importance' in descending order\n",
        "average_importances_df = average_importances_df.sort_values(by='Average Importance', ascending=False)\n",
        "\n",
        "# # Display or save the DataFrame\n",
        "# print(average_importances_df)\n",
        "# # Or save it to a CSV file\n",
        "# # average_importances_df.to_csv('average_feature_importances.csv', index=False)\n"
      ]
    },
    {
      "cell_type": "code",
      "execution_count": 21,
      "metadata": {},
      "outputs": [
        {
          "name": "stdout",
          "output_type": "stream",
          "text": [
            "               Feature  Average Importance                Description\n",
            "0          HydWtr_Na2O          235.287778                        NaN\n",
            "1              FC55009          219.400000    STM TO PA-551  RING HTR\n",
            "2   HydWtr_pct_Ammonia          214.872222                        NaN\n",
            "3              DI55152          214.847778     2ND STG SEPR TO FA-560\n",
            "4              TC55552          213.675556   DC-551 ALKOX  FD PREHEAT\n",
            "5           C4_pct_H2O          202.543333                        NaN\n",
            "6              M_Value          201.976667                        NaN\n",
            "7              DI55102          199.338889           HYDROL RX OUTLET\n",
            "8              FC55552          190.743333   ALK FD TO HYDR RX DC-551\n",
            "9           425_pct_Al          189.736667                        NaN\n",
            "10            FFC55553          187.785556   DC551 H2O/ALKOXIDE RATIO\n",
            "11          C4_pct_Hex          187.164444                        NaN\n",
            "12          C4_pct_Eth          181.865556                        NaN\n",
            "13             PI55020          180.848889        DA-554 TOP PRESSURE\n",
            "14             LC90366          180.133333         FB-657 SAO STORAGE\n",
            "15             LC90368          179.692222       FB-658 ALKOXIDE TANK\n",
            "16             FC55569          172.470000     30# STM TO C4 STRIPPER\n",
            "17             TI55021          171.256667             STEAM TO DA554\n",
            "18             FC55003          167.426667   DA-551 O/H H2O TO DC-551\n",
            "19             LC52572          165.330000   FB-554 SLURRY SURGE TANK\n",
            "20             DI55580          163.997778   DA-554 BTMS SLURRY TO EX\n",
            "21             FC55576          161.040000   CONDENSATE TO DESUPERHTR\n",
            "22             PI55004          156.968889     DA-554 BOTTOM PRESSURE\n",
            "23            FFC55555          154.924444   RECYC BUT/ALKOX FD RATIO\n",
            "24             TI40050          153.204444  CLARK AIR COMP INLET TEMP\n",
            "25             TC55555          153.172222        EA-552 OUT  RECY C4\n",
            "26             LC55568          129.593333    DA-554 C4 STRPR BOTTOMS\n",
            "27             LC55557          127.490000        FA-554 SLURRY LEVEL\n",
            "28               Al2O3          125.623333                        NaN\n",
            "29             LC55553          117.590000   DC551 HYDR RX SLURRY LEV\n"
          ]
        },
        {
          "name": "stderr",
          "output_type": "stream",
          "text": [
            "C:\\Users\\austinsh\\AppData\\Local\\Temp\\ipykernel_53808\\3091506829.py:9: SettingWithCopyWarning: \n",
            "A value is trying to be set on a copy of a slice from a DataFrame\n",
            "\n",
            "See the caveats in the documentation: https://pandas.pydata.org/pandas-docs/stable/user_guide/indexing.html#returning-a-view-versus-a-copy\n",
            "  final_df.rename(columns={'DESCRIPTION': 'Description'}, inplace=True)\n"
          ]
        }
      ],
      "source": [
        "# Merge the average_importances_df with df_TagDesc\n",
        "# Assuming 'ID' in df_TagDesc corresponds to 'Feature' in average_importances_df\n",
        "merged_df = average_importances_df.merge(df_TagDesc, left_on='Feature', right_on='ID', how='left')\n",
        "\n",
        "# Select only the required columns\n",
        "final_df = merged_df[['Feature', 'Average Importance', 'DESCRIPTION']]\n",
        "\n",
        "# Rename the 'DESCRIPTION' column to 'Description'\n",
        "final_df.rename(columns={'DESCRIPTION': 'Description'}, inplace=True)\n",
        "\n",
        "# Display or save the DataFrame\n",
        "print(final_df)\n",
        "# Or save it to a CSV file\n",
        "# final_df.to_csv('average_feature_importances_with_descriptions.csv', index=False)\n"
      ]
    },
    {
      "cell_type": "code",
      "execution_count": 22,
      "metadata": {},
      "outputs": [
        {
          "name": "stdout",
          "output_type": "stream",
          "text": [
            "2024-03-21 03:35:44.918402\n"
          ]
        }
      ],
      "source": [
        "from datetime import datetime\n",
        "\n",
        "# Get the current date and time\n",
        "current_date_time = datetime.now()\n",
        "\n",
        "# Print the current date and time\n",
        "print(current_date_time)\n"
      ]
    }
  ],
  "metadata": {
    "kernelspec": {
      "display_name": "Python 3 (ipykernel)",
      "language": "python",
      "name": "python3"
    },
    "language_info": {
      "codemirror_mode": {
        "name": "ipython",
        "version": 3
      },
      "file_extension": ".py",
      "mimetype": "text/x-python",
      "name": "python",
      "nbconvert_exporter": "python",
      "pygments_lexer": "ipython3",
      "version": "3.12.1"
    }
  },
  "nbformat": 4,
  "nbformat_minor": 4
}
