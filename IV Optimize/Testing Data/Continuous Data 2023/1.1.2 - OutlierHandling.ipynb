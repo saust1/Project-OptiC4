{
  "cells": [
    {
      "cell_type": "code",
      "execution_count": null,
      "metadata": {},
      "outputs": [],
      "source": [
        "# %pip install seaborn"
      ]
    },
    {
      "cell_type": "code",
      "execution_count": null,
      "metadata": {
        "tags": [],
        "trusted": true
      },
      "outputs": [],
      "source": [
        "import pandas as pd\n",
        "import numpy as np\n",
        "import matplotlib.pyplot as plt\n",
        "import seaborn as sns"
      ]
    },
    {
      "cell_type": "code",
      "execution_count": null,
      "metadata": {
        "trusted": true
      },
      "outputs": [],
      "source": [
        "# Set max columns to display\n",
        "pd.set_option('display.max_columns', None)"
      ]
    },
    {
      "cell_type": "code",
      "execution_count": null,
      "metadata": {
        "notebookRunGroups": {
          "groupValue": ""
        }
      },
      "outputs": [],
      "source": [
        "#df_outlierHandling = pd.read_csv('/workspaces/codespaces-jupyter/Final Machine/Interpolated LIMS/df_outlierHandling.csv')\n",
        "\n",
        "df_outlierHandling = pd.read_csv(r'C:\\Users\\austinsh\\Project-OptiC4\\IV Optimize\\Testing Data\\Continuous Data 2023\\adjusted_Limits.csv')\n",
        "\n",
        "# Print descriptive statistics for df_outlierHandling\n",
        "df_outlierHandling.describe()"
      ]
    },
    {
      "cell_type": "code",
      "execution_count": null,
      "metadata": {},
      "outputs": [],
      "source": [
        "num_columns = df_outlierHandling.shape[1]\n",
        "print(\"Number of features:\", num_columns)"
      ]
    },
    {
      "cell_type": "code",
      "execution_count": null,
      "metadata": {},
      "outputs": [],
      "source": [
        "# # Assuming df_outlierHandling is your DataFrame\n",
        "# non_date_columns = df_outlierHandling.columns[df_outlierHandling.columns != 'Date']\n",
        "\n",
        "# # Drop rows where any value (excluding 'Date') is 0 or less\n",
        "# df_outlierHandling = df_outlierHandling.drop(df_outlierHandling[(df_outlierHandling[non_date_columns] <= 100).any(axis=1)].index)\n",
        "\n",
        "# df_outlierHandling\n",
        "\n"
      ]
    },
    {
      "cell_type": "code",
      "execution_count": null,
      "metadata": {},
      "outputs": [],
      "source": [
        "df_outlierHandling['Date'] = pd.to_datetime(df_outlierHandling['Date'])\n",
        "print(df_outlierHandling.dtypes)\n",
        "\n",
        "# Output after conversion:\n",
        "# date_datetime64    datetime64[ns]\n",
        "# date_object        datetime64[ns]\n",
        "# dtype: object\n"
      ]
    },
    {
      "cell_type": "code",
      "execution_count": null,
      "metadata": {},
      "outputs": [],
      "source": [
        "\n",
        "def plot_data(col, data):\n",
        "    # Check for datetime column\n",
        "    if pd.api.types.is_datetime64_any_dtype(data[col]):\n",
        "        print(f\"Skipping datetime column: {col}\")\n",
        "        return data[col], None\n",
        "\n",
        "    # Remove outliers (> 3 standard deviations from the mean)\n",
        "    mean_col = data[col].mean()\n",
        "    std_col = data[col].std()\n",
        "    filtered_col = data[col][((data[col] - mean_col) / std_col).abs() <= 3]\n",
        "\n",
        "    plt.figure(figsize=(15, 8))\n",
        "\n",
        "    plt.subplot(2, 2, 1)\n",
        "    sns.boxplot(x=data[col])\n",
        "    plt.title(f\"Boxplot of {col}\")\n",
        "\n",
        "    plt.subplot(2, 2, 2)\n",
        "    sns.scatterplot(x=data[col].index, y=data[col])\n",
        "    plt.title(f\"Scatter plot of {col}\")\n",
        "\n",
        "    plt.subplot(2, 2, 3)\n",
        "    sns.boxplot(x=filtered_col)\n",
        "    plt.title(f\"Boxplot of {col} (Outliers Removed)\")\n",
        "\n",
        "    plt.subplot(2, 2, 4)\n",
        "    sns.scatterplot(x=filtered_col.index, y=filtered_col)\n",
        "    plt.title(f\"Scatter plot of {col} (Outliers Removed)\")\n",
        "\n",
        "    plt.tight_layout()\n",
        "    plt.show()\n",
        "\n",
        "    return data[col], filtered_col\n",
        "\n",
        "# Initialize dictionaries to store data\n",
        "df_plotted = {}\n",
        "df_plotted_Outliers_removed = {}\n",
        "\n",
        "# Loop through each column to plot the data\n",
        "for col in df_outlierHandling.columns:\n",
        "    plotted, plotted_filtered = plot_data(col, df_outlierHandling)\n",
        "    df_plotted[col] = plotted\n",
        "    if plotted_filtered is not None:\n",
        "        df_plotted_Outliers_removed[col] = plotted_filtered\n",
        "\n",
        "# Convert the dictionaries to DataFrames\n",
        "df_plotted = pd.DataFrame(df_plotted)\n",
        "df_plotted_Outliers_removed = pd.DataFrame(df_plotted_Outliers_removed)\n",
        "\n",
        "# Ensure \"Date\" column is present in df_plotted_Outliers_removed\n",
        "if \"Date\" in df_outlierHandling.columns and \"Date\" not in df_plotted_Outliers_removed.columns:\n",
        "    df_plotted_Outliers_removed[\"Date\"] = df_outlierHandling[\"Date\"]\n"
      ]
    },
    {
      "cell_type": "code",
      "execution_count": null,
      "metadata": {},
      "outputs": [],
      "source": [
        "# def plot_data(col, data, remove_outliers=False):\n",
        "#     if pd.api.types.is_datetime64_any_dtype(data[col]):\n",
        "#         print(f\"Skipping datetime column: {col}\")\n",
        "#         return data[col], data[col]  # keep datetime columns as they are\n",
        "\n",
        "# def plot_data(col, data, remove_outliers=False):\n",
        "#     if pd.api.types.is_datetime64_any_dtype(data[col]):\n",
        "#         print(f\"Skipping datetime column: {col}\")\n",
        "#         return data[col], None  # keep datetime columns as they are\n",
        "\n",
        "#     # Remove outliers (> 3 standard deviations from the mean)\n",
        "#     mean_col = data[col].mean()\n",
        "#     std_col = data[col].std()\n",
        "#     filtered_col = data[col][((data[col] - mean_col) / std_col).abs() <= 3]\n",
        "\n",
        "#     plt.figure(figsize=(15, 8))\n",
        "\n",
        "#     plt.subplot(2, 2, 1)\n",
        "#     sns.boxplot(x=data[col])\n",
        "#     plt.title(f\"Boxplot of {col}\")\n",
        "\n",
        "#     plt.subplot(2, 2, 2)\n",
        "#     sns.scatterplot(x=data[col].index, y=data[col])\n",
        "#     plt.title(f\"Scatter plot of {col}\")\n",
        "\n",
        "#     plt.subplot(2, 2, 3)\n",
        "#     sns.boxplot(x=filtered_col)\n",
        "#     plt.title(f\"Boxplot of {col} (Outliers Removed)\")\n",
        "\n",
        "#     plt.subplot(2, 2, 4)\n",
        "#     sns.scatterplot(x=filtered_col.index, y=filtered_col)\n",
        "#     plt.title(f\"Scatter plot of {col} (Outliers Removed)\")\n",
        "\n",
        "#     plt.tight_layout()\n",
        "#     plt.show()\n",
        "\n",
        "#     return data[col], filtered_col\n",
        "\n",
        "# # Create empty dictionaries to hold the Series\n",
        "# df_plotted = {}\n",
        "# df_plotted_Outliers_removed = {}\n",
        "\n",
        "# # Loop through each column to plot the data\n",
        "# for col in df_outlierHandling.columns:\n",
        "#     plotted, plotted_filtered = plot_data(col, df_outlierHandling, remove_outliers=True)\n",
        "#     df_plotted[col] = plotted\n",
        "#     if plotted_filtered is not None:\n",
        "#         df_plotted_Outliers_removed[col] = plotted_filtered\n",
        "\n",
        "# # Convert the dictionaries to DataFrames\n",
        "# df_plotted = pd.DataFrame(df_plotted)\n",
        "# df_plotted_Outliers_removed = pd.DataFrame(df_plotted_Outliers_removed)\n",
        "\n",
        "\n"
      ]
    },
    {
      "cell_type": "code",
      "execution_count": null,
      "metadata": {},
      "outputs": [],
      "source": [
        "df_outlierHandling = df_plotted_Outliers_removed.copy()"
      ]
    },
    {
      "cell_type": "code",
      "execution_count": null,
      "metadata": {},
      "outputs": [],
      "source": [
        "# Calculate the statistics for each column in df_outlierHandling\n",
        "total_rows = len(df_outlierHandling)\n",
        "non_nan_count = df_outlierHandling.count()\n",
        "nan_count = df_outlierHandling.isnull().sum()\n",
        "nan_percentage = (nan_count / total_rows) * 100\n",
        "\n",
        "# Store these in a DataFrame\n",
        "nan_stats = pd.DataFrame({\n",
        "    'ID': df_outlierHandling.columns,\n",
        "    'total_rows': total_rows,\n",
        "    'non_nan_count': non_nan_count.values,\n",
        "    'nan_count': nan_count.values,\n",
        "    'nan_percentage': nan_percentage.values\n",
        "})\n",
        "\n",
        "print(nan_stats)\n",
        "\n",
        "## Plot\n",
        "#nan_stats.set_index('ID')['nan_percentage'].plot(kind='bar')\n",
        "#plt.ylabel('Percentage of NaNs')\n",
        "#plt.title('Percentage of NaNs in each column')\n",
        "#plt.show()\\"
      ]
    },
    {
      "cell_type": "code",
      "execution_count": null,
      "metadata": {},
      "outputs": [],
      "source": [
        "\n",
        "\n",
        "# Create a binary matrix to represent NaNs (1 for NaN, 0 for a number)\n",
        "nan_matrix = np.where(df_outlierHandling.isna(), 1, 0)\n",
        "\n",
        "fig, ax = plt.subplots(figsize=(15, 10))  # Adjust the size as needed\n",
        "cmap = plt.get_cmap('viridis', 2)  # We use a colormap that differentiates between 0 and 1 clearly\n",
        "\n",
        "# Plotting heatmap\n",
        "cax = ax.imshow(nan_matrix, cmap=cmap, aspect='auto')\n",
        "\n",
        "# Adding colorbar for reference\n",
        "plt.colorbar(cax, ticks=[0, 1], label='NaN Presence')\n",
        "plt.title(\"NaN Presence in Data (1 for NaN, 0 for Not NaN)\", pad=20)\n",
        "\n",
        "# To make the columns readable and vertical\n",
        "plt.xticks(range(df_outlierHandling.shape[1]), df_outlierHandling.columns, rotation=90)  # rotation set to 90 for vertical labels\n",
        "\n",
        "plt.xlabel('Columns')\n",
        "plt.ylabel('Row Index')\n",
        "\n",
        "plt.tight_layout()\n",
        "plt.show()\n"
      ]
    },
    {
      "cell_type": "code",
      "execution_count": null,
      "metadata": {},
      "outputs": [],
      "source": [
        "df_outlierHandling = df_outlierHandling.dropna().copy()\n",
        "\n"
      ]
    },
    {
      "cell_type": "code",
      "execution_count": null,
      "metadata": {},
      "outputs": [],
      "source": [
        "\n",
        "\n",
        "# Create a binary matrix to represent NaNs (1 for NaN, 0 for a number)\n",
        "nan_matrix = np.where(df_outlierHandling.isna(), 1, 0)\n",
        "\n",
        "fig, ax = plt.subplots(figsize=(15, 10))  # Adjust the size as needed\n",
        "cmap = plt.get_cmap('viridis', 2)  # We use a colormap that differentiates between 0 and 1 clearly\n",
        "\n",
        "# Plotting heatmap\n",
        "cax = ax.imshow(nan_matrix, cmap=cmap, aspect='auto')\n",
        "\n",
        "# Adding colorbar for reference\n",
        "plt.colorbar(cax, ticks=[0, 1], label='NaN Presence')\n",
        "plt.title(\"NaN Presence in Data (1 for NaN, 0 for Not NaN)\", pad=20)\n",
        "\n",
        "# To make the columns readable and vertical\n",
        "plt.xticks(range(df_outlierHandling.shape[1]), df_outlierHandling.columns, rotation=90)  # rotation set to 90 for vertical labels\n",
        "\n",
        "plt.xlabel('Columns')\n",
        "plt.ylabel('Row Index')\n",
        "\n",
        "plt.tight_layout()\n",
        "plt.show()\n"
      ]
    },
    {
      "cell_type": "code",
      "execution_count": null,
      "metadata": {},
      "outputs": [],
      "source": [
        "# Calculate the statistics for each column in df_outlierHandling\n",
        "total_rows = len(df_outlierHandling)\n",
        "non_nan_count = df_outlierHandling.count()\n",
        "nan_count = df_outlierHandling.isnull().sum()\n",
        "nan_percentage = (nan_count / total_rows) * 100\n",
        "\n",
        "# Store these in a DataFrame\n",
        "nan_stats = pd.DataFrame({\n",
        "    'ID': df_outlierHandling.columns,\n",
        "    'total_rows': total_rows,\n",
        "    'non_nan_count': non_nan_count.values,\n",
        "    'nan_count': nan_count.values,\n",
        "    'nan_percentage': nan_percentage.values\n",
        "})\n",
        "\n",
        "print(nan_stats)\n",
        "\n",
        "## Plot\n",
        "#nan_stats.set_index('ID')['nan_percentage'].plot(kind='bar')\n",
        "#plt.ylabel('Percentage of NaNs')\n",
        "#plt.title('Percentage of NaNs in each column')\n",
        "#plt.show()\\"
      ]
    },
    {
      "cell_type": "code",
      "execution_count": null,
      "metadata": {},
      "outputs": [],
      "source": [
        "# 40127  - All Tags included - 3/9/24\n",
        "\n",
        "num_columns = df_outlierHandling.shape[1]\n",
        "print(\"Number of features:\", num_columns)"
      ]
    },
    {
      "cell_type": "markdown",
      "metadata": {},
      "source": [
        "## Add Columns to Describe Butanol and Decanol Content\n",
        "\n",
        "Binary data must be added after Outlier handleing :) "
      ]
    },
    {
      "cell_type": "code",
      "execution_count": null,
      "metadata": {},
      "outputs": [],
      "source": [
        "# Add new column 'B', with 1 if 'A' > 25, else 0\n",
        "# df_outlierHandling['C4_Spec'] = np.where(df_outlierHandling['Butanol'] < 62, 1, 0)\n",
        "# df_outlierHandling['C10_Spec'] = np.where(df_outlierHandling['Decanol'] < 5, 1, 0)"
      ]
    },
    {
      "cell_type": "code",
      "execution_count": null,
      "metadata": {},
      "outputs": [],
      "source": [
        "df_outlierHandling.to_csv('contData_outliers_removed.csv', index=False)\n",
        "\n",
        "df_outlierHandling.columns"
      ]
    },
    {
      "cell_type": "code",
      "execution_count": null,
      "metadata": {},
      "outputs": [],
      "source": [
        "saoSelect = ['Date', '425_pct_Al', 'Al2O3', 'M_Value', \n",
        "             'C4_pct_Eth', 'C4_pct_H2O', 'HydWtr_pct_Ammonia', \n",
        "            'C4_pct_Hex','HydWtr_Na2O']\n",
        "\n",
        "fb554Select = ['Date', \n",
        "               'Butanol', \n",
        "               'Decanol',\n",
        "               'Ethanol',\n",
        "               'Hexanol',\n",
        "               'Octanol'\n",
        "               ]\n",
        "\n",
        "unitSelect = ['Date', \n",
        "              'DI55102', \n",
        "              'DI55152', \n",
        "              'DI55580', \n",
        "              'FC55003', \n",
        "              'FC55009', \n",
        "              'FC55552', \n",
        "              'FC55569', \n",
        "              'FC55576', \n",
        "              'FFC55553', \n",
        "              'FFC55555', \n",
        "              'LC55557', \n",
        "              'LC90366', \n",
        "              'LC90368', \n",
        "              'PI55020', \n",
        "              'TC55552', \n",
        "              'TI55021'\n",
        "              ]\n",
        "\n",
        "df_clean_425 = df_outlierHandling[saoSelect].copy()\n",
        "\n",
        "df_clean_554 = df_outlierHandling[fb554Select].copy()\n",
        "\n",
        "df_clean_unit = df_outlierHandling[unitSelect].copy()\n",
        "\n",
        "num_columns_425 = df_clean_425.shape[1]\n",
        "num_columns_554 = df_clean_554.shape[1]\n",
        "num_columns_unit = df_clean_unit.shape[1]\n",
        "num_columns_total = num_columns_554 + num_columns_425 + num_columns_unit\n",
        "\n",
        "\n",
        "print(\"Number of features:\", num_columns_total)\n",
        "\n",
        "print(\"Number of features - (['Date']*2):\", num_columns_total-2)\n"
      ]
    },
    {
      "cell_type": "code",
      "execution_count": null,
      "metadata": {},
      "outputs": [],
      "source": [
        "# df_clean_425.to_csv(r'C:\\Users\\steve\\OneDrive\\1. BAIUTEK\\Project-OptiC4\\1 Preprocess\\Continuous Data\\cont_425Data_clean.csv', index=False)\n",
        "\n",
        "# df_clean_554.to_csv(r'C:\\Users\\steve\\OneDrive\\1. BAIUTEK\\Project-OptiC4\\1 Preprocess\\Continuous Data\\cont_554Data_clean.csv', index=False)\n",
        "\n",
        "# df_clean_unit.to_csv(r'C:\\Users\\steve\\OneDrive\\1. BAIUTEK\\Project-OptiC4\\1 Preprocess\\Continuous Data\\cont_unitData_clean.csv', index=False)\n"
      ]
    },
    {
      "cell_type": "code",
      "execution_count": null,
      "metadata": {},
      "outputs": [],
      "source": [
        "# bordeCode\n",
        "\n",
        "df_clean_425.to_csv(r'C:\\Users\\austinsh\\Project-OptiC4\\IV Optimize\\Testing Data\\Continuous Data\\cont_425Data_clean.csv', index=False)\n",
        "\n",
        "df_clean_554.to_csv(r'C:\\Users\\austinsh\\Project-OptiC4\\IV Optimize\\Testing Data\\Continuous Data\\cont_554Data_clean.csv', index=False)\n",
        "\n",
        "df_clean_unit.to_csv(r'C:\\Users\\austinsh\\Project-OptiC4\\IV Optimize\\Testing Data\\Continuous Data\\cont_unitData_clean.csv', index=False)"
      ]
    },
    {
      "cell_type": "code",
      "execution_count": null,
      "metadata": {},
      "outputs": [],
      "source": []
    },
    {
      "cell_type": "markdown",
      "metadata": {},
      "source": []
    },
    {
      "cell_type": "code",
      "execution_count": null,
      "metadata": {},
      "outputs": [],
      "source": [
        "from datetime import datetime\n",
        "\n",
        "# Get the current date and time\n",
        "current_date_time = datetime.now()\n",
        "\n",
        "# Print the current date and time\n",
        "print(current_date_time)\n"
      ]
    }
  ],
  "metadata": {
    "kernelspec": {
      "display_name": "base",
      "language": "python",
      "name": "python3"
    },
    "language_info": {
      "codemirror_mode": {
        "name": "ipython",
        "version": 3
      },
      "file_extension": ".py",
      "mimetype": "text/x-python",
      "name": "python",
      "nbconvert_exporter": "python",
      "pygments_lexer": "ipython3",
      "version": "3.12.1"
    }
  },
  "nbformat": 4,
  "nbformat_minor": 4
}
