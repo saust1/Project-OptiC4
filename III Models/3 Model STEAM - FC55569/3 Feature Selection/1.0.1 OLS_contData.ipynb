{
  "cells": [
    {
      "cell_type": "code",
      "execution_count": 19,
      "metadata": {
        "tags": [],
        "trusted": true
      },
      "outputs": [],
      "source": [
        "# Import necessary libraries\n",
        "import pandas as pd\n",
        "from statsmodels.formula.api import ols\n",
        "import statsmodels.api as sm\n",
        "from sklearn.model_selection import train_test_split"
      ]
    },
    {
      "cell_type": "code",
      "execution_count": 20,
      "metadata": {},
      "outputs": [],
      "source": [
        "# url_df_All_1 = 'https://github.com/saust1/Project-OptiC4/blob/e358d5172ac0b8fbb6fba776c0fe0a2b523b8b5c/3%20Feature%20Selection/contData_all_Avg%20-%201o2.csv?raw=true'\n",
        "# url_df_All_2 = 'https://github.com/saust1/Project-OptiC4/blob/e358d5172ac0b8fbb6fba776c0fe0a2b523b8b5c/3%20Feature%20Selection/contData_all_Avg%20-%202o2.csv?raw=true'\n",
        "\n",
        "# df_All_1 = pd.read_csv(url_df_All_1, index_col=0)\n",
        "# df_All_2 = pd.read_csv(url_df_All_2, index_col=0)"
      ]
    },
    {
      "cell_type": "code",
      "execution_count": 21,
      "metadata": {},
      "outputs": [],
      "source": [
        "# df_All_1 = pd.read_csv(r'C:\\Users\\saust\\OneDrive\\Desktop\\GitRepo\\Project-OptiC4\\1 Preprocess\\Merge Data\\contData_all_Avg_1o2.csv')\n",
        "# df_All_2 = pd.read_csv(r'C:\\Users\\saust\\OneDrive\\Desktop\\GitRepo\\Project-OptiC4\\1 Preprocess\\Merge Data\\contData_all_Avg_2o2.csv')\n",
        "# # Concatenate (union) the dataframes\n",
        "# df_All = pd.concat([df_All_1, df_All_2], ignore_index=True)\n",
        "\n",
        "# print(df_All.head())"
      ]
    },
    {
      "cell_type": "code",
      "execution_count": 22,
      "metadata": {},
      "outputs": [
        {
          "name": "stdout",
          "output_type": "stream",
          "text": [
            "                  Date  425_pct_Al     Al2O3  M_Value  C4_pct_Eth  C4_pct_H2O  \\\n",
            "0  2012-05-17 09:00:00    6.319560  11.41670  3.50773    2.554580     22.0531   \n",
            "1  2012-05-17 10:00:00    6.319915  11.40835  3.50797    2.555935     22.0557   \n",
            "2  2012-05-17 12:00:00    6.320970  11.39165  3.50869    2.560005     22.0636   \n",
            "3  2012-05-18 08:00:00    6.328690  11.39165  3.51401    2.540370     22.0604   \n",
            "4  2012-05-18 09:00:00    6.336060  11.40500  3.51910    2.514430     22.0484   \n",
            "\n",
            "   HydWtr_pct_Ammonia  C4_pct_Hex  HydWtr_Na2O  Butanol  Decanol   DI55102  \\\n",
            "0            0.867508    0.670721     3.354160  30.3662  1.03026  0.965043   \n",
            "1            0.864729    0.671059     3.306475  30.3662  1.03026  0.965043   \n",
            "2            0.856391    0.672071     3.163420  30.6785  1.06326  0.965043   \n",
            "3            0.811652    0.674174     2.238130  32.6454  1.51850  0.971625   \n",
            "4            0.773793    0.675408     1.391475  32.6454  1.51850  0.971625   \n",
            "\n",
            "    DI55152   DI55580   FC55003    FC55009   FC55552   FC55569  FC55576  \\\n",
            "0  0.924515  1.014885  5308.885  1182.3935  40409.25  6924.645  322.177   \n",
            "1  0.924515  1.014885  5308.885  1182.3935  40409.25  6924.645  322.177   \n",
            "2  0.924515  1.014885  5308.885  1182.3935  40409.25  6924.645  322.177   \n",
            "3  0.933431  1.015146  5297.320   966.1866  40866.28  6918.194  329.701   \n",
            "4  0.933431  1.015146  5297.320   966.1866  40866.28  6918.194  329.701   \n",
            "\n",
            "   FFC55553  FFC55555   LC52572   LC55553   LC55557   LC55568    LC90366  \\\n",
            "0  1.049540  0.751183  66.52320  62.92105  66.31395  40.25250  15.449150   \n",
            "1  1.049540  0.751183  66.52320  62.92105  66.31395  40.25250  15.449150   \n",
            "2  1.049540  0.751183  66.52320  62.92105  66.31395  40.25250  15.449150   \n",
            "3  1.050092  0.764579  66.50016  62.23534  65.92560  39.88364   8.759814   \n",
            "4  1.050092  0.764579  66.50016  62.23534  65.92560  39.88364   8.759814   \n",
            "\n",
            "    LC90368   PI55004   PI55020   TC55552   TC55555   TI40050   TI55021  \n",
            "0  49.26750  1.236360 -0.389406  179.0115  179.9940  82.96565  213.8740  \n",
            "1  49.26750  1.236360 -0.389406  179.0115  179.9940  82.96565  213.8740  \n",
            "2  49.26750  1.236360 -0.389406  179.0115  179.9940  82.96565  213.8740  \n",
            "3  48.51306  1.190342 -0.318266  180.7166  179.9338  82.41662  214.5402  \n",
            "4  48.51306  1.190342 -0.318266  180.7166  179.9338  82.41662  214.5402  \n"
          ]
        }
      ],
      "source": [
        "df_All = pd.read_csv(r'C:\\Users\\austinsh\\Project-OptiC4\\III Models\\3 Model STEAM - FC55569\\3 Feature Selection\\filtered-out_5-9_corr.csv')\n",
        "\n",
        "print(df_All.head())"
      ]
    },
    {
      "cell_type": "code",
      "execution_count": 23,
      "metadata": {},
      "outputs": [
        {
          "data": {
            "text/plain": [
              "Index(['Date', '425_pct_Al', 'Al2O3', 'M_Value', 'C4_pct_Eth', 'C4_pct_H2O',\n",
              "       'HydWtr_pct_Ammonia', 'C4_pct_Hex', 'HydWtr_Na2O', 'Butanol', 'Decanol',\n",
              "       'DI55102', 'DI55152', 'DI55580', 'FC55003', 'FC55009', 'FC55552',\n",
              "       'FC55569', 'FC55576', 'FFC55553', 'FFC55555', 'LC52572', 'LC55553',\n",
              "       'LC55557', 'LC55568', 'LC90366', 'LC90368', 'PI55004', 'PI55020',\n",
              "       'TC55552', 'TC55555', 'TI40050', 'TI55021'],\n",
              "      dtype='object')"
            ]
          },
          "execution_count": 23,
          "metadata": {},
          "output_type": "execute_result"
        }
      ],
      "source": [
        "df_All.columns"
      ]
    },
    {
      "cell_type": "code",
      "execution_count": 24,
      "metadata": {
        "trusted": true
      },
      "outputs": [],
      "source": [
        "# Set max columns to display\n",
        "pd.set_option('display.max_columns', None)"
      ]
    },
    {
      "cell_type": "code",
      "execution_count": 25,
      "metadata": {},
      "outputs": [],
      "source": [
        "# # List of columns to exclude to run XGboost feature selection\n",
        "# exclude_columns = ['Octanol', 'Hexanol', 'Ethanol', 'Decanol',\n",
        "       \n",
        "#        'TI52014', 'TI55013', 'TI55014', 'TI55015', 'TI55016', 'TI55017', 'TI55021', 'TI55023',\n",
        "#        'TC52015', 'FC52018', 'II52554', 'TI40050', 'VI52558B'\n",
        "#                    ]\n",
        "\n",
        "# # Create a new DataFrame without the excluded columnsd\n",
        "# df_All = df_All.drop(columns=exclude_columns)"
      ]
    },
    {
      "cell_type": "code",
      "execution_count": 26,
      "metadata": {},
      "outputs": [],
      "source": [
        "# df_All = df_All[df_All['Date'] > '2022-06-15 00:00:00']"
      ]
    },
    {
      "cell_type": "markdown",
      "metadata": {},
      "source": [
        "# Remaining Features after Correlation Analysis"
      ]
    },
    {
      "cell_type": "code",
      "execution_count": 27,
      "metadata": {},
      "outputs": [],
      "source": [
        "\n",
        "# selected_columns = ['425 %Al', 'Butanol', 'DI55102', 'DI55152', 'DI55580', 'FC42428',\n",
        "#        'FC55003', 'FC55552', 'FC55569', 'FC55576', 'FFC55553', 'FFC55555',\n",
        "#        'LC52572', 'LC55553', 'LC55555', 'LC55557', 'LC55568', 'LC90366',\n",
        "#        'LC90368', 'PI55004', 'PI55020', 'TC55552', 'TC55553', 'TC55555'\n",
        "#                    ]\n",
        "\n",
        "# existing_columns = [col for col in selected_columns if col in df_All.columns]\n",
        "# df_All = df_All[existing_columns]"
      ]
    },
    {
      "cell_type": "code",
      "execution_count": 28,
      "metadata": {},
      "outputs": [],
      "source": [
        "# First Iteration\n",
        "# selected_columns = ['Butanol PPM', '425 SAO Al', 'FC42428', 'FC55003', 'FC55102', 'FC55152', 'FFC55555',\n",
        "#        'LC55553', 'LC55557', 'LC55568', 'LC90366', 'TC55555']\n",
        "\n",
        "\n"
      ]
    },
    {
      "cell_type": "code",
      "execution_count": 29,
      "metadata": {},
      "outputs": [
        {
          "data": {
            "text/plain": [
              "Index(['Date', '425_pct_Al', 'Al2O3', 'M_Value', 'C4_pct_Eth', 'C4_pct_H2O',\n",
              "       'HydWtr_pct_Ammonia', 'C4_pct_Hex', 'HydWtr_Na2O', 'Butanol', 'Decanol',\n",
              "       'DI55102', 'DI55152', 'DI55580', 'FC55003', 'FC55009', 'FC55552',\n",
              "       'FC55569', 'FC55576', 'FFC55553', 'FFC55555', 'LC52572', 'LC55553',\n",
              "       'LC55557', 'LC55568', 'LC90366', 'LC90368', 'PI55004', 'PI55020',\n",
              "       'TC55552', 'TC55555', 'TI40050', 'TI55021'],\n",
              "      dtype='object')"
            ]
          },
          "execution_count": 29,
          "metadata": {},
          "output_type": "execute_result"
        }
      ],
      "source": [
        "df_All.columns"
      ]
    },
    {
      "cell_type": "code",
      "execution_count": 30,
      "metadata": {},
      "outputs": [],
      "source": [
        "# Splitting into train and test\n",
        "X = df_All.drop(['FC55569', 'Date'], axis=1)  # Assuming 'target' is your target column\n",
        "y = df_All['FC55569']\n",
        "X_train, X_test, y_train, y_test = train_test_split(X, y, test_size=0.2, random_state=42)"
      ]
    },
    {
      "cell_type": "code",
      "execution_count": 31,
      "metadata": {},
      "outputs": [],
      "source": [
        "# # Ensure all columns are numeric and handle missing values\n",
        "# # For example, to fill missing values with the mean of each column:\n",
        "# X = X.apply(lambda col: pd.to_numeric(col, errors='coerce')).fillna(X.mean())\n",
        "# y = pd.to_numeric(y, errors='coerce').fillna(y.mean())\n",
        "\n",
        "# Adding a constant to the model (if you haven't already)\n",
        "X = sm.add_constant(X)\n",
        "\n",
        "# Now, split your dataset into train and test again to ensure clean separation\n",
        "X_train, X_test, y_train, y_test = train_test_split(X, y, test_size=0.2, random_state=42)\n"
      ]
    },
    {
      "cell_type": "code",
      "execution_count": 32,
      "metadata": {},
      "outputs": [
        {
          "name": "stdout",
          "output_type": "stream",
          "text": [
            "                            OLS Regression Results                            \n",
            "==============================================================================\n",
            "Dep. Variable:                FC55569   R-squared:                       0.585\n",
            "Model:                            OLS   Adj. R-squared:                  0.585\n",
            "Method:                 Least Squares   F-statistic:                     1826.\n",
            "Date:                Sun, 05 May 2024   Prob (F-statistic):               0.00\n",
            "Time:                        20:20:43   Log-Likelihood:            -2.7624e+05\n",
            "No. Observations:               40127   AIC:                         5.525e+05\n",
            "Df Residuals:                   40095   BIC:                         5.528e+05\n",
            "Df Model:                          31                                         \n",
            "Covariance Type:            nonrobust                                         \n",
            "======================================================================================\n",
            "                         coef    std err          t      P>|t|      [0.025      0.975]\n",
            "--------------------------------------------------------------------------------------\n",
            "const               8390.4515    196.462     42.708      0.000    8005.381    8775.522\n",
            "425_pct_Al           -27.6542      6.192     -4.466      0.000     -39.791     -15.518\n",
            "Al2O3               -174.7446      3.148    -55.510      0.000    -180.915    -168.574\n",
            "M_Value               -1.8250      7.772     -0.235      0.814     -17.059      13.409\n",
            "C4_pct_Eth           184.9566      2.502     73.924      0.000     180.053     189.861\n",
            "C4_pct_H2O            51.8809      0.619     83.805      0.000      50.668      53.094\n",
            "HydWtr_pct_Ammonia    -0.8456      8.587     -0.098      0.922     -17.676      15.985\n",
            "C4_pct_Hex          -151.0566      5.624    -26.860      0.000    -162.080    -140.034\n",
            "HydWtr_Na2O           -1.8761      1.794     -1.046      0.296      -5.392       1.640\n",
            "Butanol               -1.7760      0.155    -11.488      0.000      -2.079      -1.473\n",
            "Decanol               -8.4633      1.102     -7.681      0.000     -10.623      -6.304\n",
            "DI55102              302.4853     34.489      8.771      0.000     234.886     370.084\n",
            "DI55152             4676.8994     68.997     67.784      0.000    4541.663    4812.136\n",
            "DI55580            -1485.4499     33.252    -44.672      0.000   -1550.625   -1420.275\n",
            "FC55003                0.1545      0.002     76.135      0.000       0.151       0.158\n",
            "FC55009               -0.0709      0.003    -27.188      0.000      -0.076      -0.066\n",
            "FC55552                0.0064      0.000     17.686      0.000       0.006       0.007\n",
            "FC55576               -0.7055      0.006   -122.458      0.000      -0.717      -0.694\n",
            "FFC55553            -301.0493     40.931     -7.355      0.000    -381.274    -220.824\n",
            "FFC55555           -1407.0554     63.138    -22.285      0.000   -1530.807   -1283.303\n",
            "LC52572                7.7544      0.562     13.793      0.000       6.652       8.856\n",
            "LC55553               -8.5141      0.234    -36.400      0.000      -8.973      -8.056\n",
            "LC55557                3.4735      0.637      5.456      0.000       2.226       4.721\n",
            "LC55568              -12.3691      1.108    -11.163      0.000     -14.541     -10.197\n",
            "LC90366               -1.4885      0.048    -31.105      0.000      -1.582      -1.395\n",
            "LC90368                0.0697      0.075      0.933      0.351      -0.077       0.216\n",
            "PI55004               40.4279      1.597     25.323      0.000      37.299      43.557\n",
            "PI55020              -58.5320      1.597    -36.658      0.000     -61.662     -55.402\n",
            "TC55552                0.2505      0.094      2.659      0.008       0.066       0.435\n",
            "TC55555              -10.8598      0.931    -11.659      0.000     -12.685      -9.034\n",
            "TI40050                3.0174      0.105     28.652      0.000       2.811       3.224\n",
            "TI55021               -6.8937      0.180    -38.298      0.000      -7.247      -6.541\n",
            "==============================================================================\n",
            "Omnibus:                     2687.171   Durbin-Watson:                   0.009\n",
            "Prob(Omnibus):                  0.000   Jarque-Bera (JB):             8198.105\n",
            "Skew:                           0.336   Prob(JB):                         0.00\n",
            "Kurtosis:                       5.110   Cond. No.                     6.21e+06\n",
            "==============================================================================\n",
            "\n",
            "Notes:\n",
            "[1] Standard Errors assume that the covariance matrix of the errors is correctly specified.\n",
            "[2] The condition number is large, 6.21e+06. This might indicate that there are\n",
            "strong multicollinearity or other numerical problems.\n"
          ]
        }
      ],
      "source": [
        "#=============================================\n",
        "# TRAIN & EVALUATE REGRESSION MODEL\n",
        "#=============================================\n",
        "\n",
        "#fit simple linear regression model\n",
        "model = sm.OLS(y, X).fit()\n",
        "print(model.summary())"
      ]
    },
    {
      "cell_type": "code",
      "execution_count": 33,
      "metadata": {},
      "outputs": [
        {
          "name": "stdout",
          "output_type": "stream",
          "text": [
            "['M_Value', 'HydWtr_pct_Ammonia', 'HydWtr_Na2O', 'LC90368']\n"
          ]
        }
      ],
      "source": [
        "# Convert summary to DataFrame\n",
        "summary_table = model.summary().tables[1]\n",
        "summary_df = pd.DataFrame(summary_table.data[1:], columns=summary_table.data[0])\n",
        "\n",
        "# Convert necessary columns to numeric\n",
        "numeric_cols = ['coef', 'std err', 't', 'P>|t|', '[0.025', '0.975]']\n",
        "summary_df[numeric_cols] = summary_df[numeric_cols].apply(pd.to_numeric, errors='coerce')\n",
        "\n",
        "# Apply the filter for insignificance and CI crossing zero\n",
        "threshold = 0.05\n",
        "filtered_df = summary_df[(summary_df['P>|t|'] > threshold) & ((summary_df['[0.025'] < 0) & (summary_df['0.975]'] > 0))]\n",
        "\n",
        "# Extracting the feature names\n",
        "insignificant_features = filtered_df.iloc[:, 0].tolist()  # First column contains feature names\n",
        "print(insignificant_features)\n"
      ]
    },
    {
      "cell_type": "code",
      "execution_count": 34,
      "metadata": {},
      "outputs": [
        {
          "name": "stdout",
          "output_type": "stream",
          "text": [
            "                          coef  std err      t  P>|t|  [0.025  0.975]\n",
            "3              M_Value -1.8250    7.772 -0.235  0.814 -17.059  13.409\n",
            "6   HydWtr_pct_Ammonia -0.8456    8.587 -0.098  0.922 -17.676  15.985\n",
            "8          HydWtr_Na2O -1.8761    1.794 -1.046  0.296  -5.392   1.640\n",
            "25             LC90368  0.0697    0.075  0.933  0.351  -0.077   0.216\n"
          ]
        }
      ],
      "source": [
        "print(filtered_df)"
      ]
    },
    {
      "cell_type": "code",
      "execution_count": 35,
      "metadata": {},
      "outputs": [
        {
          "name": "stdout",
          "output_type": "stream",
          "text": [
            "\n",
            "Significant Features:\n",
            "['const', '425_pct_Al', 'Al2O3', 'C4_pct_Eth', 'C4_pct_H2O', 'C4_pct_Hex', 'Butanol', 'Decanol', 'DI55102', 'DI55152', 'DI55580', 'FC55003', 'FC55009', 'FC55552', 'FC55576', 'FFC55553', 'FFC55555', 'LC52572', 'LC55553', 'LC55557', 'LC55568', 'LC90366', 'PI55004', 'PI55020', 'TC55552', 'TC55555', 'TI40050', 'TI55021']\n"
          ]
        }
      ],
      "source": [
        "# Filter for significant features\n",
        "significant_df = summary_df[(summary_df['P>|t|'] <= threshold) & ((summary_df['[0.025'] > 0) | (summary_df['0.975]'] < 0))]\n",
        "significant_features = significant_df.iloc[:, 0].tolist()\n",
        "print(\"\\nSignificant Features:\")\n",
        "print(significant_features)"
      ]
    },
    {
      "cell_type": "code",
      "execution_count": 36,
      "metadata": {},
      "outputs": [
        {
          "name": "stdout",
          "output_type": "stream",
          "text": [
            "2024-05-05 20:20:43.598802\n"
          ]
        }
      ],
      "source": [
        "from datetime import datetime\n",
        "\n",
        "# Get the current date and time\n",
        "current_date_time = datetime.now()\n",
        "\n",
        "# Print the current date and time\n",
        "print(current_date_time)\n"
      ]
    }
  ],
  "metadata": {
    "kernelspec": {
      "display_name": "Python 3 (ipykernel)",
      "language": "python",
      "name": "python3"
    },
    "language_info": {
      "codemirror_mode": {
        "name": "ipython",
        "version": 3
      },
      "file_extension": ".py",
      "mimetype": "text/x-python",
      "name": "python",
      "nbconvert_exporter": "python",
      "pygments_lexer": "ipython3",
      "version": "3.12.1"
    }
  },
  "nbformat": 4,
  "nbformat_minor": 4
}
