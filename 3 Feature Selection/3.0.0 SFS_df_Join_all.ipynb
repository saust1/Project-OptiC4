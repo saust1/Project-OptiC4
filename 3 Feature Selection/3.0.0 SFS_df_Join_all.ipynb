{
  "cells": [
    {
      "cell_type": "code",
      "execution_count": 26,
      "metadata": {
        "tags": [],
        "trusted": true
      },
      "outputs": [],
      "source": [
        "# Import necessary libraries\n",
        "import pandas as pd\n",
        "import seaborn as sns\n",
        "import matplotlib.pyplot as plt\n",
        "from statsmodels.formula.api import ols\n",
        "import statsmodels.api as sm\n",
        "from sklearn.linear_model import LinearRegression\n",
        "from mlxtend.feature_selection import SequentialFeatureSelector as SFS\n",
        "from sklearn.model_selection import train_test_split"
      ]
    },
    {
      "cell_type": "code",
      "execution_count": 27,
      "metadata": {},
      "outputs": [],
      "source": [
        "#df_All = pd.read_csv(r\"C:\\Users\\saust\\OneDrive - Sasol\\1 Project rC4\\Jupyter Notebooks\\Report 10-20-23 No Fluff\\df_All_Avg.csv\")\n",
        "\n",
        "df_All = pd.read_csv('df_Join_all.csv')\n",
        "\n",
        "\n",
        "#df_All = pd.read_csv(r\"C:\\Users\\saust\\OneDrive\\Desktop\\CodeSpace DLs\\102423\\Project rC4\\3 Final Machine Butanol\\df_CDCA6.csv\")\n"
      ]
    },
    {
      "cell_type": "code",
      "execution_count": 28,
      "metadata": {
        "trusted": true
      },
      "outputs": [],
      "source": [
        "# Set max columns to display\n",
        "pd.set_option('display.max_columns', None)"
      ]
    },
    {
      "cell_type": "code",
      "execution_count": 29,
      "metadata": {},
      "outputs": [],
      "source": [
        "# df_All = df_All[df_All['Date'] > '2022-06-15 00:00:00']"
      ]
    },
    {
      "cell_type": "code",
      "execution_count": 30,
      "metadata": {},
      "outputs": [],
      "source": [
        "# List of columns to exclude to run XGboost feature selection\n",
        "exclude_columns = ['Unnamed: 0', '%Al2O3_bM', 'Octanol PPM ', 'Hexanol PPM ',\n",
        "       'Ethanol PPM ', 'Dodecanol PPM ', 'Decanol PPM ', '%nC8OH', '%nC6OH', '%nC12OH', '%nC10OH ',\n",
        "       \n",
        "       'TI52014', 'TI55013', 'TI55014', 'TI55015', 'TI55016', 'TI55017', 'TI55021', 'TI55023',\n",
        "       'TC52015', 'FC52018', 'II52554', 'TI40050', 'VI52558B'\n",
        "\n",
        "       # 'FC55102', 'FC55152', 'LC55557', 'LC55568', 'TC55555',\n",
        "\n",
        "       # '425 SAO Al', 'FFC55553', 'LC52572', 'LC90366',\n",
        "\n",
        "       # 'FC42428', 'LC55553',\n",
        "\n",
        "       # 'FC55009'\n",
        "                   ]\n",
        "\n",
        "# Create a new DataFrame without the excluded columnsd\n",
        "df_All = df_All.drop(columns=exclude_columns)"
      ]
    },
    {
      "cell_type": "code",
      "execution_count": 31,
      "metadata": {},
      "outputs": [
        {
          "data": {
            "text/plain": [
              "Index(['425 SAO Al', 'Butanol PPM', 'AYC55580', 'DI55102', 'DI55152',\n",
              "       'DI55580', 'FC42428', 'FC55003', 'FC55009', 'FC55102', 'FC55152',\n",
              "       'FC55552', 'FC55555', 'FC55569', 'FC55576', 'FFC55553', 'FFC55555',\n",
              "       'FYC55553', 'LC52572', 'LC55553', 'LC55555', 'LC55557', 'LC55568',\n",
              "       'LC90366', 'LC90368', 'PI55004', 'PI55020', 'PI55560', 'TC55552',\n",
              "       'TC55553', 'TC55555', 'TC55566'],\n",
              "      dtype='object')"
            ]
          },
          "execution_count": 31,
          "metadata": {},
          "output_type": "execute_result"
        }
      ],
      "source": [
        "df_All.columns"
      ]
    },
    {
      "cell_type": "code",
      "execution_count": 32,
      "metadata": {},
      "outputs": [],
      "source": [
        "# Splitting into train and test\n",
        "X = df_All.drop('Butanol PPM', axis=1)  # Assuming 'target' is your target column\n",
        "y = df_All['Butanol PPM']\n",
        "X_train, X_test, y_train, y_test = train_test_split(X, y, test_size=0.2, random_state=42)"
      ]
    },
    {
      "cell_type": "code",
      "execution_count": 33,
      "metadata": {},
      "outputs": [],
      "source": [
        "# Create a linear regression model\n",
        "linreg = LinearRegression()\n",
        "\n",
        "# Create a SequentialFeatureSelector object\n",
        "sfs = SFS(linreg, \n",
        "          k_features='best', \n",
        "          forward=True, \n",
        "          floating=True, \n",
        "          scoring='r2',\n",
        "          cv=5)\n",
        "\n",
        "# Fit the model\n",
        "sfs = sfs.fit(X_train, y_train)\n",
        "\n",
        "# Get the selected feature names\n",
        "selected_features = X_train.columns[list(sfs.k_feature_idx_)]\n",
        "\n",
        "# Build the final model using selected features\n",
        "final_model = linreg.fit(X_train[selected_features], y_train)\n",
        "\n",
        "# Optionally, evaluate the model on the test set\n",
        "y_pred = final_model.predict(X_test[selected_features])"
      ]
    },
    {
      "cell_type": "code",
      "execution_count": 34,
      "metadata": {},
      "outputs": [
        {
          "name": "stdout",
          "output_type": "stream",
          "text": [
            "Selected Features:\n",
            "Index(['425 SAO Al', 'FC42428', 'FC55003', 'FC55102', 'FC55152', 'FFC55555',\n",
            "       'LC55553', 'LC55557', 'LC55568', 'LC90366', 'TC55555'],\n",
            "      dtype='object')\n",
            "\n",
            "Model Coefficients:\n",
            "425 SAO Al: 25.17775577108802\n",
            "FC42428: -0.0053502077679223785\n",
            "FC55003: -0.08707793224835761\n",
            "FC55102: 0.009690441504333165\n",
            "FC55152: -0.00645465176065053\n",
            "FFC55555: -1225.499580989331\n",
            "LC55553: -3.790123484445094\n",
            "LC55557: 7.708962492130608\n",
            "LC55568: 22.260326246079796\n",
            "LC90366: -0.9876116671266065\n",
            "TC55555: 11.143149287396222\n",
            "\n",
            "R-squared on Training Set: 0.019324370488962517\n",
            "R-squared on Test Set: -0.16325654916601962\n"
          ]
        }
      ],
      "source": [
        "# Get the selected feature names\n",
        "selected_features = X_train.columns[list(sfs.k_feature_idx_)]\n",
        "print(\"Selected Features:\")\n",
        "print(selected_features)\n",
        "\n",
        "# Display the coefficients of the final model\n",
        "print(\"\\nModel Coefficients:\")\n",
        "for i, feature in enumerate(selected_features):\n",
        "    print(f\"{feature}: {final_model.coef_[i]}\")\n",
        "\n",
        "# Display the R-squared value for the training set\n",
        "r_squared_train = final_model.score(X_train[selected_features], y_train)\n",
        "print(f\"\\nR-squared on Training Set: {r_squared_train}\")\n",
        "\n",
        "# Optionally, if you evaluated the model on a test set\n",
        "r_squared_test = final_model.score(X_test[selected_features], y_test)\n",
        "print(f\"R-squared on Test Set: {r_squared_test}\")\n"
      ]
    },
    {
      "cell_type": "code",
      "execution_count": 35,
      "metadata": {},
      "outputs": [],
      "source": [
        "# Selected Features:\n",
        "\n",
        "# Inputs\n",
        "# Index(['425 SAO Al', 'Butanol PPM', 'AYC55580', 'DI55102', 'DI55152',\n",
        "#        'DI55580', 'FC42428', 'FC52018', 'FC55003', 'FC55009', 'FC55552',\n",
        "#        'FC55555', 'FC55569', 'FC55576', 'FFC55553', 'FFC55555', 'FYC55553',\n",
        "#        'II52554', 'LC52572', 'LC55553', 'LC55555', 'LC90366', 'LC90368',\n",
        "#        'PI55004', 'PI55020', 'PI55560', 'TC52015', 'TC55552', 'TC55553',\n",
        "#        'TC55566', 'TI40050', 'VI52558B'],\n",
        "#       dtype='object')\n",
        "\n",
        "\n",
        "# Outputs\n",
        "# Index(['425 SAO Al', 'DI55152', 'FC55003', 'FFC55553', 'FFC55555', 'LC52572',\n",
        "#        'LC55553', 'LC90366'],\n",
        "#       dtype='object')\n",
        "\n",
        "# Model Coefficients:\n",
        "# 425 SAO Al: 30.01864005274383\n",
        "# DI55152: 1078.681652177451\n",
        "# FC55003: -0.08189077298629854\n",
        "# FFC55553: 230.42968080660927\n",
        "# FFC55555: -1435.533507758162\n",
        "# LC52572: 5.674969686451699\n",
        "# LC55553: -4.451261642303086\n",
        "# LC90366: -0.9625483988093393\n",
        "\n",
        "# R-squared on Training Set: 0.019547345671827254\n",
        "# R-squared on Test Set: -0.1724414726438832"
      ]
    },
    {
      "cell_type": "code",
      "execution_count": 36,
      "metadata": {},
      "outputs": [],
      "source": [
        "# Selected Features:\n",
        "\n",
        "# Input\n",
        "# Index(['425 SAO Al', 'Butanol PPM', 'AYC55580', 'DI55102', 'DI55152',\n",
        "#        'DI55580', 'FC42428', 'FC52018', 'FC55003', 'FC55009', 'FC55102',\n",
        "#        'FC55152', 'FC55552', 'FC55555', 'FC55569', 'FC55576', 'FFC55553',\n",
        "#        'FFC55555', 'FYC55553', 'II52554', 'LC52572', 'LC55553', 'LC55555',\n",
        "#        'LC55557', 'LC55568', 'LC90366', 'LC90368', 'PI55004', 'PI55020',\n",
        "#        'PI55560', 'TC52015', 'TC55552', 'TC55553', 'TC55555', 'TC55566',\n",
        "#        'TI40050', 'VI52558B'],\n",
        "#       dtype='object')\n",
        "\n",
        "# Output\n",
        "# Index(['425 SAO Al', 'FC42428', 'FC55003', 'FC55102', 'FC55152', 'FFC55555',\n",
        "#        'LC55553', 'LC55557', 'LC55568', 'LC90366', 'TC55555'],\n",
        "#       dtype='object')\n",
        "\n",
        "# Model Coefficients:\n",
        "# 425 SAO Al: 25.17775577108802\n",
        "# FC42428: -0.0053502077679223785\n",
        "# FC55003: -0.08707793224835761\n",
        "# FC55102: 0.009690441504333165\n",
        "# FC55152: -0.00645465176065053\n",
        "# FFC55555: -1225.499580989331\n",
        "# LC55553: -3.790123484445094\n",
        "# LC55557: 7.708962492130608\n",
        "# LC55568: 22.260326246079796\n",
        "# LC90366: -0.9876116671266065\n",
        "# TC55555: 11.143149287396222\n",
        "\n",
        "# R-squared on Training Set: 0.019324370488962517\n",
        "# R-squared on Test Set: -0.16325654916601962"
      ]
    }
  ],
  "metadata": {
    "kernelspec": {
      "display_name": "Python 3 (ipykernel)",
      "language": "python",
      "name": "python3"
    },
    "language_info": {
      "codemirror_mode": {
        "name": "ipython",
        "version": 3
      },
      "file_extension": ".py",
      "mimetype": "text/x-python",
      "name": "python",
      "nbconvert_exporter": "python",
      "pygments_lexer": "ipython3",
      "version": "3.10.13"
    }
  },
  "nbformat": 4,
  "nbformat_minor": 4
}
