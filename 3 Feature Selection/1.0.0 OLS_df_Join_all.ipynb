{
  "cells": [
    {
      "cell_type": "code",
      "execution_count": 1,
      "metadata": {
        "tags": [],
        "trusted": true
      },
      "outputs": [],
      "source": [
        "# Import necessary libraries\n",
        "import pandas as pd\n",
        "import seaborn as sns\n",
        "import matplotlib.pyplot as plt\n",
        "from statsmodels.formula.api import ols\n",
        "import statsmodels.api as sm\n",
        "from sklearn.model_selection import train_test_split"
      ]
    },
    {
      "cell_type": "code",
      "execution_count": 7,
      "metadata": {},
      "outputs": [],
      "source": [
        "#df_All = pd.read_csv(r\"C:\\Users\\saust\\OneDrive - Sasol\\1 Project rC4\\Jupyter Notebooks\\Report 10-20-23 No Fluff\\df_All_Avg.csv\")\n",
        "\n",
        "# df_All = pd.read_csv('3 Feature Selection/df_Join_all.csv')\n",
        "url_df_All_1 = 'https://github.com/saust1/Project-OptiC4/blob/e358d5172ac0b8fbb6fba776c0fe0a2b523b8b5c/3%20Feature%20Selection/contData_all_Avg%20-%201o2.csv?raw=true'\n",
        "url_df_All_2 = 'https://github.com/saust1/Project-OptiC4/blob/e358d5172ac0b8fbb6fba776c0fe0a2b523b8b5c/3%20Feature%20Selection/contData_all_Avg%20-%202o2.csv?raw=true'\n",
        "\n",
        "df_All_1 = pd.read_csv(url_df_All_1, index_col=0)\n",
        "df_All_2 = pd.read_csv(url_df_All_2, index_col=0)\n",
        "\n",
        "\n",
        "#df_All = pd.read_csv(r\"C:\\Users\\saust\\OneDrive\\Desktop\\CodeSpace DLs\\102423\\Project rC4\\3 Final Machine Butanol\\df_CDCA6.csv\")\n"
      ]
    },
    {
      "cell_type": "code",
      "execution_count": 9,
      "metadata": {},
      "outputs": [
        {
          "name": "stdout",
          "output_type": "stream",
          "text": [
            "     Butanol   Decanol    Ethanol   Hexanol   Octanol   AYC55580   DI55102  \\\n",
            "0  30.366200  1.030260  88.289900  1.365840  1.492120  18.297300  0.963347   \n",
            "1  30.678500  1.063260  89.685450  1.397135  1.548230  18.040650  0.965043   \n",
            "2  32.399333  1.647950  88.677200  1.994413  2.454430  16.637633  0.968107   \n",
            "3  32.845950  1.928805  87.080875  2.288335  2.897523  15.779400  0.969573   \n",
            "4  33.387025  2.352595  84.489175  2.734682  3.571185  15.199680  0.971022   \n",
            "\n",
            "    DI55152   DI55580      FC42428  ...    TI40050   TI52014     TI55013  \\\n",
            "0  0.924879  1.017340  40773.90000  ...  81.156900  131.0990  236.672000   \n",
            "1  0.924515  1.014885  40816.90000  ...  82.965650  132.3490  230.501000   \n",
            "2  0.929955  1.015593  41080.96667  ...  82.461167  133.0350  223.885667   \n",
            "3  0.932388  1.014703  41606.60000  ...  83.676300  134.0690  219.719750   \n",
            "4  0.934531  1.014094  41722.12000  ...  85.328040  134.8424  217.253200   \n",
            "\n",
            "      TI55014     TI55015   TI55016    TI55017  TI55021     TI55023  VI52558B  \n",
            "0  223.704000  216.905000  207.7370  205.81700  213.813  212.301000  4.969810  \n",
            "1  220.794000  216.033500  207.2460  205.70300  213.874  212.308500  4.616265  \n",
            "2  214.879667  209.812667  202.7230  201.16400  214.433  212.926667  4.741457  \n",
            "3  211.567250  206.503250  200.5075  199.00025  214.639  213.051250  4.436797  \n",
            "4  209.326600  204.214800  198.6922  197.25440  214.733  213.071400  4.304762  \n",
            "\n",
            "[5 rows x 48 columns]\n"
          ]
        }
      ],
      "source": [
        "# Concatenate (union) the dataframes\n",
        "df_All = pd.concat([df_All_1, df_All_2], ignore_index=True)\n",
        "\n",
        "print(df_All.head())"
      ]
    },
    {
      "cell_type": "code",
      "execution_count": 19,
      "metadata": {},
      "outputs": [
        {
          "data": {
            "text/plain": [
              "Index(['Butanol', 'AYC55580', 'DI55102', 'DI55152', 'DI55580', 'FC42428',\n",
              "       'FC55003', 'FC55009', 'FC55102', 'FC55152', 'FC55552', 'FC55555',\n",
              "       'FC55569', 'FC55576', 'FFC55553', 'FFC55555', 'FYC55553', 'LC52572',\n",
              "       'LC55553', 'LC55555', 'LC55557', 'LC55568', 'LC90366', 'LC90368',\n",
              "       'PI55004', 'PI55020', 'PI55560', 'TC55552', 'TC55553', 'TC55555',\n",
              "       'TC55566'],\n",
              "      dtype='object')"
            ]
          },
          "execution_count": 19,
          "metadata": {},
          "output_type": "execute_result"
        }
      ],
      "source": [
        "df_All.columns"
      ]
    },
    {
      "cell_type": "code",
      "execution_count": 10,
      "metadata": {
        "trusted": true
      },
      "outputs": [],
      "source": [
        "# Set max columns to display\n",
        "pd.set_option('display.max_columns', None)"
      ]
    },
    {
      "cell_type": "code",
      "execution_count": 11,
      "metadata": {},
      "outputs": [],
      "source": [
        "# List of columns to exclude to run XGboost feature selection\n",
        "exclude_columns = ['Octanol', 'Hexanol', 'Ethanol', 'Decanol',\n",
        "       \n",
        "       'TI52014', 'TI55013', 'TI55014', 'TI55015', 'TI55016', 'TI55017', 'TI55021', 'TI55023',\n",
        "       'TC52015', 'FC52018', 'II52554', 'TI40050', 'VI52558B'\n",
        "                   ]\n",
        "\n",
        "# Create a new DataFrame without the excluded columnsd\n",
        "df_All = df_All.drop(columns=exclude_columns)"
      ]
    },
    {
      "cell_type": "code",
      "execution_count": 27,
      "metadata": {},
      "outputs": [],
      "source": [
        "# df_All = df_All[df_All['Date'] > '2022-06-15 00:00:00']"
      ]
    },
    {
      "cell_type": "code",
      "execution_count": 12,
      "metadata": {},
      "outputs": [],
      "source": [
        "\n",
        "# selected_columns = ['Butanol', # '425 %Al', 'TC55552', 'DI55102', 'FC55569', 'DI55152',\n",
        "# #        'FC55576', 'TI55017', 'FC42428', 'AYC55580', 'LC55555', 'TI55023',\n",
        "# #        'FFC55553', 'FC55555', 'FC55009', 'LC55557', 'LC55553', 'FC55003',\n",
        "# #        'FFC55555'\n",
        "# # #                      ^^^^ From XGB with all variables as continous ^^^^\n",
        "\n",
        "# 'Butanol PPM',\n",
        "#                     '425 SAO Al', 'FFC55555', 'FC55003', 'FC55569',\t\n",
        "#                     'TC55555', 'LC55568', 'DI55152',\t\n",
        "#                     'FC55009', 'FC55102',\t\n",
        "#                     'LC55553', 'LC55557', 'LC90366'\n",
        "#                     ]\n",
        "\n",
        "# existing_columns = [col for col in selected_columns if col in df_All.columns]\n",
        "# df_All = df_All[existing_columns]"
      ]
    },
    {
      "cell_type": "code",
      "execution_count": 29,
      "metadata": {},
      "outputs": [],
      "source": [
        "# First Iteration\n",
        "# selected_columns = ['Butanol PPM', '425 SAO Al', 'FC42428', 'FC55003', 'FC55102', 'FC55152', 'FFC55555',\n",
        "#        'LC55553', 'LC55557', 'LC55568', 'LC90366', 'TC55555']\n",
        "\n",
        "\n"
      ]
    },
    {
      "cell_type": "code",
      "execution_count": 12,
      "metadata": {},
      "outputs": [
        {
          "data": {
            "text/plain": [
              "Index(['Butanol', 'AYC55580', 'DI55102', 'DI55152', 'DI55580', 'FC42428',\n",
              "       'FC55003', 'FC55009', 'FC55102', 'FC55152', 'FC55552', 'FC55555',\n",
              "       'FC55569', 'FC55576', 'FFC55553', 'FFC55555', 'FYC55553', 'LC52572',\n",
              "       'LC55553', 'LC55555', 'LC55557', 'LC55568', 'LC90366', 'LC90368',\n",
              "       'PI55004', 'PI55020', 'PI55560', 'TC55552', 'TC55553', 'TC55555',\n",
              "       'TC55566'],\n",
              "      dtype='object')"
            ]
          },
          "execution_count": 12,
          "metadata": {},
          "output_type": "execute_result"
        }
      ],
      "source": [
        "df_All.columns"
      ]
    },
    {
      "cell_type": "code",
      "execution_count": 13,
      "metadata": {},
      "outputs": [],
      "source": [
        "# Splitting into train and test\n",
        "X = df_All.drop('Butanol', axis=1)  # Assuming 'target' is your target column\n",
        "y = df_All['Butanol']\n",
        "X_train, X_test, y_train, y_test = train_test_split(X, y, test_size=0.2, random_state=42)"
      ]
    },
    {
      "cell_type": "code",
      "execution_count": 14,
      "metadata": {},
      "outputs": [
        {
          "name": "stdout",
          "output_type": "stream",
          "text": [
            "                                 OLS Regression Results                                \n",
            "=======================================================================================\n",
            "Dep. Variable:                Butanol   R-squared (uncentered):                   0.611\n",
            "Model:                            OLS   Adj. R-squared (uncentered):              0.611\n",
            "Method:                 Least Squares   F-statistic:                              2576.\n",
            "Date:                Fri, 01 Dec 2023   Prob (F-statistic):                        0.00\n",
            "Time:                        16:44:09   Log-Likelihood:                     -1.7104e+05\n",
            "No. Observations:               49239   AIC:                                  3.421e+05\n",
            "Df Residuals:                   49209   BIC:                                  3.424e+05\n",
            "Df Model:                          30                                                  \n",
            "Covariance Type:            nonrobust                                                  \n",
            "==============================================================================\n",
            "                 coef    std err          t      P>|t|      [0.025      0.975]\n",
            "------------------------------------------------------------------------------\n",
            "AYC55580       0.1683      0.017     10.173      0.000       0.136       0.201\n",
            "DI55102       25.7661      0.854     30.184      0.000      24.093      27.439\n",
            "DI55152       -1.7927      1.470     -1.219      0.223      -4.674       1.089\n",
            "DI55580        0.1236      1.537      0.080      0.936      -2.890       3.137\n",
            "FC42428    -9.368e-05   1.35e-05     -6.937      0.000      -0.000   -6.72e-05\n",
            "FC55003       -0.0007   6.07e-05    -10.764      0.000      -0.001      -0.001\n",
            "FC55009        0.0009   8.99e-05      9.870      0.000       0.001       0.001\n",
            "FC55102    -3.604e-06   2.06e-05     -0.175      0.861    -4.4e-05    3.68e-05\n",
            "FC55152        0.0004   3.05e-05     12.372      0.000       0.000       0.000\n",
            "FC55552       -0.0004      0.000     -2.908      0.004      -0.001      -0.000\n",
            "FC55555       -0.0010      0.000     -3.683      0.000      -0.001      -0.000\n",
            "FC55569       -0.0030      0.000    -21.843      0.000      -0.003      -0.003\n",
            "FC55576        0.0054      0.000     29.400      0.000       0.005       0.006\n",
            "FFC55553     -48.4180      6.555     -7.387      0.000     -61.266     -35.570\n",
            "FFC55555      -0.2801      9.469     -0.030      0.976     -18.839      18.279\n",
            "FYC55553       0.0012      0.000      6.156      0.000       0.001       0.002\n",
            "LC52572        0.1495      0.017      8.627      0.000       0.116       0.183\n",
            "LC55553       -0.1470      0.007    -21.905      0.000      -0.160      -0.134\n",
            "LC55555        0.1312      0.005     25.168      0.000       0.121       0.141\n",
            "LC55557       -0.3374      0.016    -20.473      0.000      -0.370      -0.305\n",
            "LC55568        0.3220      0.033      9.726      0.000       0.257       0.387\n",
            "LC90366       -0.0202      0.001    -13.918      0.000      -0.023      -0.017\n",
            "LC90368        0.0325      0.002     15.103      0.000       0.028       0.037\n",
            "PI55004       -0.5311      0.106     -5.020      0.000      -0.738      -0.324\n",
            "PI55020        1.1314      0.047     24.093      0.000       1.039       1.223\n",
            "PI55560        0.4960      0.129      3.850      0.000       0.243       0.749\n",
            "TC55552        0.0322      0.003      9.802      0.000       0.026       0.039\n",
            "TC55553       -0.0073      0.003     -2.745      0.006      -0.013      -0.002\n",
            "TC55555        0.1893      0.024      7.779      0.000       0.142       0.237\n",
            "TC55566        0.0436      0.005      9.590      0.000       0.035       0.053\n",
            "==============================================================================\n",
            "Omnibus:                    23355.583   Durbin-Watson:                   0.039\n",
            "Prob(Omnibus):                  0.000   Jarque-Bera (JB):           129957.169\n",
            "Skew:                           2.284   Prob(JB):                         0.00\n",
            "Kurtosis:                       9.517   Cond. No.                     2.87e+07\n",
            "==============================================================================\n",
            "\n",
            "Notes:\n",
            "[1] R² is computed without centering (uncentered) since the model does not contain a constant.\n",
            "[2] Standard Errors assume that the covariance matrix of the errors is correctly specified.\n",
            "[3] The condition number is large, 2.87e+07. This might indicate that there are\n",
            "strong multicollinearity or other numerical problems.\n"
          ]
        }
      ],
      "source": [
        "#=============================================\n",
        "# TRAIN & EVALUATE REGRESSION MODEL\n",
        "#=============================================\n",
        "\n",
        "#fit simple linear regression model\n",
        "model = sm.OLS(y, X).fit()\n",
        "print(model.summary())"
      ]
    },
    {
      "cell_type": "code",
      "execution_count": 15,
      "metadata": {},
      "outputs": [
        {
          "name": "stdout",
          "output_type": "stream",
          "text": [
            "['DI55152', 'DI55580', 'FC55102', 'FFC55555']\n"
          ]
        }
      ],
      "source": [
        "# Convert summary to DataFrame\n",
        "summary_table = model.summary().tables[1]\n",
        "summary_df = pd.DataFrame(summary_table.data[1:], columns=summary_table.data[0])\n",
        "\n",
        "# Convert necessary columns to numeric\n",
        "numeric_cols = ['coef', 'std err', 't', 'P>|t|', '[0.025', '0.975]']\n",
        "summary_df[numeric_cols] = summary_df[numeric_cols].apply(pd.to_numeric, errors='coerce')\n",
        "\n",
        "# Apply the filter for insignificance and CI crossing zero\n",
        "threshold = 0.05\n",
        "filtered_df = summary_df[(summary_df['P>|t|'] > threshold) & ((summary_df['[0.025'] < 0) & (summary_df['0.975]'] > 0))]\n",
        "\n",
        "# Extracting the feature names\n",
        "insignificant_features = filtered_df.iloc[:, 0].tolist()  # First column contains feature names\n",
        "print(insignificant_features)\n"
      ]
    },
    {
      "cell_type": "code",
      "execution_count": 16,
      "metadata": {},
      "outputs": [
        {
          "name": "stdout",
          "output_type": "stream",
          "text": [
            "                  coef   std err      t  P>|t|     [0.025     0.975]\n",
            "2    DI55152 -1.792700  1.470000 -1.219  0.223  -4.674000   1.089000\n",
            "3    DI55580  0.123600  1.537000  0.080  0.936  -2.890000   3.137000\n",
            "7    FC55102 -0.000004  0.000021 -0.175  0.861  -0.000044   0.000037\n",
            "14  FFC55555 -0.280100  9.469000 -0.030  0.976 -18.839000  18.279000\n"
          ]
        }
      ],
      "source": [
        "print(filtered_df)"
      ]
    },
    {
      "cell_type": "code",
      "execution_count": 17,
      "metadata": {},
      "outputs": [
        {
          "name": "stdout",
          "output_type": "stream",
          "text": [
            "\n",
            "Significant Features:\n",
            "['AYC55580', 'DI55102', 'FC42428', 'FC55003', 'FC55009', 'FC55569', 'FC55576', 'FFC55553', 'FYC55553', 'LC52572', 'LC55553', 'LC55555', 'LC55557', 'LC55568', 'LC90366', 'LC90368', 'PI55004', 'PI55020', 'PI55560', 'TC55552', 'TC55553', 'TC55555', 'TC55566']\n"
          ]
        }
      ],
      "source": [
        "# Filter for significant features\n",
        "significant_df = summary_df[(summary_df['P>|t|'] <= threshold) & ((summary_df['[0.025'] > 0) | (summary_df['0.975]'] < 0))]\n",
        "significant_features = significant_df.iloc[:, 0].tolist()\n",
        "print(\"\\nSignificant Features:\")\n",
        "print(significant_features)"
      ]
    }
  ],
  "metadata": {
    "kernelspec": {
      "display_name": "Python 3 (ipykernel)",
      "language": "python",
      "name": "python3"
    },
    "language_info": {
      "codemirror_mode": {
        "name": "ipython",
        "version": 3
      },
      "file_extension": ".py",
      "mimetype": "text/x-python",
      "name": "python",
      "nbconvert_exporter": "python",
      "pygments_lexer": "ipython3",
      "version": "3.10.9"
    }
  },
  "nbformat": 4,
  "nbformat_minor": 4
}
