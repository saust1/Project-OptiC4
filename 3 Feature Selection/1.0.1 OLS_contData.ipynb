{
  "cells": [
    {
      "cell_type": "code",
      "execution_count": 12,
      "metadata": {
        "tags": [],
        "trusted": true
      },
      "outputs": [],
      "source": [
        "# Import necessary libraries\n",
        "import pandas as pd\n",
        "from statsmodels.formula.api import ols\n",
        "import statsmodels.api as sm\n",
        "from sklearn.model_selection import train_test_split"
      ]
    },
    {
      "cell_type": "code",
      "execution_count": 13,
      "metadata": {},
      "outputs": [],
      "source": [
        "# url_df_All_1 = 'https://github.com/saust1/Project-OptiC4/blob/e358d5172ac0b8fbb6fba776c0fe0a2b523b8b5c/3%20Feature%20Selection/contData_all_Avg%20-%201o2.csv?raw=true'\n",
        "# url_df_All_2 = 'https://github.com/saust1/Project-OptiC4/blob/e358d5172ac0b8fbb6fba776c0fe0a2b523b8b5c/3%20Feature%20Selection/contData_all_Avg%20-%202o2.csv?raw=true'\n",
        "\n",
        "# df_All_1 = pd.read_csv(url_df_All_1, index_col=0)\n",
        "# df_All_2 = pd.read_csv(url_df_All_2, index_col=0)"
      ]
    },
    {
      "cell_type": "code",
      "execution_count": 14,
      "metadata": {},
      "outputs": [
        {
          "name": "stdout",
          "output_type": "stream",
          "text": [
            "    425 %Al    Butanol   Decanol    Ethanol   Hexanol   Octanol   AYC55580  \\\n",
            "0  6.319560  30.366200  1.030260  88.289900  1.365840  1.492120  18.297300   \n",
            "1  6.319915  30.678500  1.063260  89.685450  1.397135  1.548230  18.040650   \n",
            "2  6.328340  32.399333  1.647950  88.677200  1.994413  2.454430  16.637633   \n",
            "3  6.336760  32.845950  1.928805  87.080875  2.288335  2.897523  15.779400   \n",
            "4  6.337460  33.387025  2.352595  84.489175  2.734682  3.571185  15.199680   \n",
            "\n",
            "    DI55102   DI55152   DI55580      FC42428      FC52018    FC55003  \\\n",
            "0  0.963347  0.924879  1.017340  40773.90000  42583.40000  5622.8300   \n",
            "1  0.965043  0.924515  1.014885  40816.90000  44547.30000  5308.8850   \n",
            "2  0.968107  0.929955  1.015593  41080.96667  45105.73333  5489.7400   \n",
            "3  0.969573  0.932388  1.014703  41606.60000  45413.77500  5709.1825   \n",
            "4  0.971022  0.934531  1.014094  41722.12000  45547.02000  5653.1640   \n",
            "\n",
            "       FC55009      FC55102      FC55152   FC55552      FC55555      FC55569  \\\n",
            "0  1770.180000  54668.30000  48447.40000  40424.10  30465.70000  6928.310000   \n",
            "1  1182.393500  56315.80000  51242.20000  40409.25  30406.75000  6924.645000   \n",
            "2   988.753333  55482.66667  50152.73333  40606.30  30908.93333  6925.813333   \n",
            "3   862.683250  53522.02500  48242.85000  39171.20  29965.95000  6920.290000   \n",
            "4   794.212400  52775.74000  47829.90000  39099.64  30056.26000  6916.018000   \n",
            "\n",
            "    FC55576  FFC55553  FFC55555     FYC55553     II52554    LC52572  \\\n",
            "0  329.7610  1.045930  0.752379  42478.80000  228.724000  66.534100   \n",
            "1  322.1770  1.049540  0.751183  42511.25000  237.562000  66.523200   \n",
            "2  324.9680  1.050217  0.761243  42628.66667  240.325333  66.500500   \n",
            "3  331.7720  1.050780  0.766600  41075.47500  241.663250  66.336525   \n",
            "4  336.2358  1.051672  0.770305  40994.10000  242.179800  65.981980   \n",
            "\n",
            "     LC55553    LC55555    LC55557    LC55568    LC90366    LC90368   PI55004  \\\n",
            "0  62.176800  60.362200  65.484000  40.136500  16.706900  49.278800  1.044590   \n",
            "1  62.921050  60.446750  66.313950  40.252500  15.449150  49.267500  1.236360   \n",
            "2  62.651867  60.350800  66.212233  40.059967  10.931340  48.643200  1.189883   \n",
            "3  62.526325  60.118475  65.893675  39.835675   8.674930  48.382975  1.343838   \n",
            "4  62.293540  60.150020  66.212620  40.179880   7.325074  48.332800  1.535224   \n",
            "\n",
            "    PI55020   PI55560    TC52015     TC55552     TC55553   TC55555   TC55566  \\\n",
            "0 -0.437499 -0.264240  74.632500  178.773000  235.047000  179.6930  211.7810   \n",
            "1 -0.389406 -0.279771  78.195800  179.011500  213.937500  179.9940  211.7810   \n",
            "2 -0.377156 -0.106293  77.691633  180.276667  205.221667  180.0530  212.3670   \n",
            "3 -0.366302 -0.057496  79.090850  180.993250  198.353500  180.5790  212.4105   \n",
            "4 -0.327278 -0.047609  81.854140  181.511000  195.641600  180.2476  212.4664   \n",
            "\n",
            "     TI40050   TI52014     TI55013     TI55014     TI55015   TI55016  \\\n",
            "0  81.156900  131.0990  236.672000  223.704000  216.905000  207.7370   \n",
            "1  82.965650  132.3490  230.501000  220.794000  216.033500  207.2460   \n",
            "2  82.461167  133.0350  223.885667  214.879667  209.812667  202.7230   \n",
            "3  83.676300  134.0690  219.719750  211.567250  206.503250  200.5075   \n",
            "4  85.328040  134.8424  217.253200  209.326600  204.214800  198.6922   \n",
            "\n",
            "     TI55017  TI55021     TI55023  VI52558B  \n",
            "0  205.81700  213.813  212.301000  4.969810  \n",
            "1  205.70300  213.874  212.308500  4.616265  \n",
            "2  201.16400  214.433  212.926667  4.741457  \n",
            "3  199.00025  214.639  213.051250  4.436797  \n",
            "4  197.25440  214.733  213.071400  4.304762  \n"
          ]
        }
      ],
      "source": [
        "\n",
        "df_All_1 = pd.read_csv(r'C:\\Users\\saust\\OneDrive\\Desktop\\GitRepo\\Project-OptiC4\\3 Feature Selection\\contData_all_Avg - 1o2.csv')\n",
        "df_All_2 = pd.read_csv(r'C:\\Users\\saust\\OneDrive\\Desktop\\GitRepo\\Project-OptiC4\\3 Feature Selection\\contData_all_Avg - 2o2.csv')\n",
        "# Concatenate (union) the dataframes\n",
        "df_All = pd.concat([df_All_1, df_All_2], ignore_index=True)\n",
        "\n",
        "print(df_All.head())"
      ]
    },
    {
      "cell_type": "code",
      "execution_count": 15,
      "metadata": {},
      "outputs": [
        {
          "data": {
            "text/plain": [
              "Index(['425 %Al', 'Butanol', 'Decanol', 'Ethanol', 'Hexanol', 'Octanol',\n",
              "       'AYC55580', 'DI55102', 'DI55152', 'DI55580', 'FC42428', 'FC52018',\n",
              "       'FC55003', 'FC55009', 'FC55102', 'FC55152', 'FC55552', 'FC55555',\n",
              "       'FC55569', 'FC55576', 'FFC55553', 'FFC55555', 'FYC55553', 'II52554',\n",
              "       'LC52572', 'LC55553', 'LC55555', 'LC55557', 'LC55568', 'LC90366',\n",
              "       'LC90368', 'PI55004', 'PI55020', 'PI55560', 'TC52015', 'TC55552',\n",
              "       'TC55553', 'TC55555', 'TC55566', 'TI40050', 'TI52014', 'TI55013',\n",
              "       'TI55014', 'TI55015', 'TI55016', 'TI55017', 'TI55021', 'TI55023',\n",
              "       'VI52558B'],\n",
              "      dtype='object')"
            ]
          },
          "execution_count": 15,
          "metadata": {},
          "output_type": "execute_result"
        }
      ],
      "source": [
        "df_All.columns"
      ]
    },
    {
      "cell_type": "code",
      "execution_count": 16,
      "metadata": {
        "trusted": true
      },
      "outputs": [],
      "source": [
        "# Set max columns to display\n",
        "pd.set_option('display.max_columns', None)"
      ]
    },
    {
      "cell_type": "code",
      "execution_count": 17,
      "metadata": {},
      "outputs": [],
      "source": [
        "# # List of columns to exclude to run XGboost feature selection\n",
        "# exclude_columns = ['Octanol', 'Hexanol', 'Ethanol', 'Decanol',\n",
        "       \n",
        "#        'TI52014', 'TI55013', 'TI55014', 'TI55015', 'TI55016', 'TI55017', 'TI55021', 'TI55023',\n",
        "#        'TC52015', 'FC52018', 'II52554', 'TI40050', 'VI52558B'\n",
        "#                    ]\n",
        "\n",
        "# # Create a new DataFrame without the excluded columnsd\n",
        "# df_All = df_All.drop(columns=exclude_columns)"
      ]
    },
    {
      "cell_type": "code",
      "execution_count": 18,
      "metadata": {},
      "outputs": [],
      "source": [
        "# df_All = df_All[df_All['Date'] > '2022-06-15 00:00:00']"
      ]
    },
    {
      "cell_type": "markdown",
      "metadata": {},
      "source": [
        "# Remaining Features after Correlation Analysis"
      ]
    },
    {
      "cell_type": "code",
      "execution_count": 19,
      "metadata": {},
      "outputs": [],
      "source": [
        "\n",
        "selected_columns = ['425 %Al', 'Butanol', 'DI55102', 'DI55152', 'DI55580', 'FC42428',\n",
        "       'FC55003', 'FC55552', 'FC55569', 'FC55576', 'FFC55553', 'FFC55555',\n",
        "       'LC52572', 'LC55553', 'LC55555', 'LC55557', 'LC55568', 'LC90366',\n",
        "       'LC90368', 'PI55004', 'PI55020', 'TC55552', 'TC55553', 'TC55555'\n",
        "                   ]\n",
        "\n",
        "existing_columns = [col for col in selected_columns if col in df_All.columns]\n",
        "df_All = df_All[existing_columns]"
      ]
    },
    {
      "cell_type": "code",
      "execution_count": 20,
      "metadata": {},
      "outputs": [],
      "source": [
        "# First Iteration\n",
        "# selected_columns = ['Butanol PPM', '425 SAO Al', 'FC42428', 'FC55003', 'FC55102', 'FC55152', 'FFC55555',\n",
        "#        'LC55553', 'LC55557', 'LC55568', 'LC90366', 'TC55555']\n",
        "\n",
        "\n"
      ]
    },
    {
      "cell_type": "code",
      "execution_count": 21,
      "metadata": {},
      "outputs": [
        {
          "data": {
            "text/plain": [
              "Index(['425 %Al', 'Butanol', 'DI55102', 'DI55152', 'DI55580', 'FC42428',\n",
              "       'FC55003', 'FC55552', 'FC55569', 'FC55576', 'FFC55553', 'FFC55555',\n",
              "       'LC52572', 'LC55553', 'LC55555', 'LC55557', 'LC55568', 'LC90366',\n",
              "       'LC90368', 'PI55004', 'PI55020', 'TC55552', 'TC55553', 'TC55555'],\n",
              "      dtype='object')"
            ]
          },
          "execution_count": 21,
          "metadata": {},
          "output_type": "execute_result"
        }
      ],
      "source": [
        "df_All.columns"
      ]
    },
    {
      "cell_type": "code",
      "execution_count": 22,
      "metadata": {},
      "outputs": [],
      "source": [
        "# Splitting into train and test\n",
        "X = df_All.drop('Butanol', axis=1)  # Assuming 'target' is your target column\n",
        "y = df_All['Butanol']\n",
        "X_train, X_test, y_train, y_test = train_test_split(X, y, test_size=0.2, random_state=42)"
      ]
    },
    {
      "cell_type": "code",
      "execution_count": 23,
      "metadata": {},
      "outputs": [
        {
          "name": "stdout",
          "output_type": "stream",
          "text": [
            "                                 OLS Regression Results                                \n",
            "=======================================================================================\n",
            "Dep. Variable:                Butanol   R-squared (uncentered):                   0.606\n",
            "Model:                            OLS   Adj. R-squared (uncentered):              0.606\n",
            "Method:                 Least Squares   F-statistic:                              3295.\n",
            "Date:                Fri, 01 Dec 2023   Prob (F-statistic):                        0.00\n",
            "Time:                        22:14:38   Log-Likelihood:                     -1.7134e+05\n",
            "No. Observations:               49239   AIC:                                  3.427e+05\n",
            "Df Residuals:                   49216   BIC:                                  3.429e+05\n",
            "Df Model:                          23                                                  \n",
            "Covariance Type:            nonrobust                                                  \n",
            "==============================================================================\n",
            "                 coef    std err          t      P>|t|      [0.025      0.975]\n",
            "------------------------------------------------------------------------------\n",
            "425 %Al       -0.0430      0.148     -0.290      0.772      -0.334       0.248\n",
            "DI55102       24.7319      0.793     31.183      0.000      23.177      26.286\n",
            "DI55152       -2.3942      1.337     -1.791      0.073      -5.014       0.226\n",
            "DI55580       11.2075      0.873     12.831      0.000       9.496      12.920\n",
            "FC42428    -9.186e-05   1.33e-05     -6.887      0.000      -0.000   -6.57e-05\n",
            "FC55003       -0.0008   5.36e-05    -14.317      0.000      -0.001      -0.001\n",
            "FC55552        0.0004   1.55e-05     27.928      0.000       0.000       0.000\n",
            "FC55569       -0.0023      0.000    -18.614      0.000      -0.003      -0.002\n",
            "FC55576        0.0063      0.000     36.815      0.000       0.006       0.007\n",
            "FFC55553       2.8616      1.098      2.606      0.009       0.709       5.014\n",
            "FFC55555     -37.2707      1.780    -20.934      0.000     -40.760     -33.781\n",
            "LC52572        0.1458      0.017      8.633      0.000       0.113       0.179\n",
            "LC55553       -0.1631      0.007    -24.597      0.000      -0.176      -0.150\n",
            "LC55555        0.1124      0.005     23.652      0.000       0.103       0.122\n",
            "LC55557       -0.2748      0.016    -17.428      0.000      -0.306      -0.244\n",
            "LC55568        0.3037      0.032      9.588      0.000       0.242       0.366\n",
            "LC90366       -0.0207      0.001    -14.351      0.000      -0.023      -0.018\n",
            "LC90368        0.0334      0.002     15.357      0.000       0.029       0.038\n",
            "PI55004       -0.2651      0.041     -6.519      0.000      -0.345      -0.185\n",
            "PI55020        1.3477      0.042     32.421      0.000       1.266       1.429\n",
            "TC55552        0.0463      0.003     17.228      0.000       0.041       0.052\n",
            "TC55553        0.0269      0.002     16.138      0.000       0.024       0.030\n",
            "TC55555       -0.0037      0.014     -0.258      0.797      -0.032       0.024\n",
            "==============================================================================\n",
            "Omnibus:                    23142.948   Durbin-Watson:                   0.039\n",
            "Prob(Omnibus):                  0.000   Jarque-Bera (JB):           125913.311\n",
            "Skew:                           2.269   Prob(JB):                         0.00\n",
            "Kurtosis:                       9.386   Cond. No.                     2.80e+06\n",
            "==============================================================================\n",
            "\n",
            "Notes:\n",
            "[1] R² is computed without centering (uncentered) since the model does not contain a constant.\n",
            "[2] Standard Errors assume that the covariance matrix of the errors is correctly specified.\n",
            "[3] The condition number is large, 2.8e+06. This might indicate that there are\n",
            "strong multicollinearity or other numerical problems.\n"
          ]
        }
      ],
      "source": [
        "#=============================================\n",
        "# TRAIN & EVALUATE REGRESSION MODEL\n",
        "#=============================================\n",
        "\n",
        "#fit simple linear regression model\n",
        "model = sm.OLS(y, X).fit()\n",
        "print(model.summary())"
      ]
    },
    {
      "cell_type": "code",
      "execution_count": 24,
      "metadata": {},
      "outputs": [
        {
          "name": "stdout",
          "output_type": "stream",
          "text": [
            "['425 %Al', 'DI55152', 'TC55555']\n"
          ]
        }
      ],
      "source": [
        "# Convert summary to DataFrame\n",
        "summary_table = model.summary().tables[1]\n",
        "summary_df = pd.DataFrame(summary_table.data[1:], columns=summary_table.data[0])\n",
        "\n",
        "# Convert necessary columns to numeric\n",
        "numeric_cols = ['coef', 'std err', 't', 'P>|t|', '[0.025', '0.975]']\n",
        "summary_df[numeric_cols] = summary_df[numeric_cols].apply(pd.to_numeric, errors='coerce')\n",
        "\n",
        "# Apply the filter for insignificance and CI crossing zero\n",
        "threshold = 0.05\n",
        "filtered_df = summary_df[(summary_df['P>|t|'] > threshold) & ((summary_df['[0.025'] < 0) & (summary_df['0.975]'] > 0))]\n",
        "\n",
        "# Extracting the feature names\n",
        "insignificant_features = filtered_df.iloc[:, 0].tolist()  # First column contains feature names\n",
        "print(insignificant_features)\n"
      ]
    },
    {
      "cell_type": "code",
      "execution_count": 25,
      "metadata": {},
      "outputs": [
        {
          "name": "stdout",
          "output_type": "stream",
          "text": [
            "               coef  std err      t  P>|t|  [0.025  0.975]\n",
            "0   425 %Al -0.0430    0.148 -0.290  0.772  -0.334   0.248\n",
            "2   DI55152 -2.3942    1.337 -1.791  0.073  -5.014   0.226\n",
            "22  TC55555 -0.0037    0.014 -0.258  0.797  -0.032   0.024\n"
          ]
        }
      ],
      "source": [
        "print(filtered_df)"
      ]
    },
    {
      "cell_type": "code",
      "execution_count": 26,
      "metadata": {},
      "outputs": [
        {
          "name": "stdout",
          "output_type": "stream",
          "text": [
            "\n",
            "Significant Features:\n",
            "['DI55102', 'DI55580', 'FC42428', 'FC55003', 'FC55569', 'FC55576', 'FFC55553', 'FFC55555', 'LC52572', 'LC55553', 'LC55555', 'LC55557', 'LC55568', 'LC90366', 'LC90368', 'PI55004', 'PI55020', 'TC55552', 'TC55553']\n"
          ]
        }
      ],
      "source": [
        "# Filter for significant features\n",
        "significant_df = summary_df[(summary_df['P>|t|'] <= threshold) & ((summary_df['[0.025'] > 0) | (summary_df['0.975]'] < 0))]\n",
        "significant_features = significant_df.iloc[:, 0].tolist()\n",
        "print(\"\\nSignificant Features:\")\n",
        "print(significant_features)"
      ]
    }
  ],
  "metadata": {
    "kernelspec": {
      "display_name": "Python 3 (ipykernel)",
      "language": "python",
      "name": "python3"
    },
    "language_info": {
      "codemirror_mode": {
        "name": "ipython",
        "version": 3
      },
      "file_extension": ".py",
      "mimetype": "text/x-python",
      "name": "python",
      "nbconvert_exporter": "python",
      "pygments_lexer": "ipython3",
      "version": "3.10.9"
    }
  },
  "nbformat": 4,
  "nbformat_minor": 4
}
