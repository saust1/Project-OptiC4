{
  "cells": [
    {
      "cell_type": "code",
      "execution_count": 2,
      "metadata": {
        "metadata": {}
      },
      "outputs": [],
      "source": [
        "# %pip install sklearn"
      ]
    },
    {
      "cell_type": "code",
      "execution_count": 3,
      "metadata": {
        "metadata": {},
        "tags": [],
        "trusted": true
      },
      "outputs": [],
      "source": [
        "import numpy as np\n",
        "import xgboost as xgb\n",
        "# from sklearn.model_selection import train_test_split\n",
        "# from sklearn.metrics import mean_squared_error\n",
        "import pandas as pd\n",
        "import matplotlib.pyplot as plt\n",
        "# from sklearn.metrics import r2_score\n",
        "# from sklearn.model_selection import cross_val_score, KFold\n",
        "from xgboost import DMatrix\n"
      ]
    },
    {
      "cell_type": "markdown",
      "metadata": {},
      "source": [
        "### Input Data - Cleaned Dataset All"
      ]
    },
    {
      "cell_type": "code",
      "execution_count": 4,
      "metadata": {
        "metadata": {}
      },
      "outputs": [],
      "source": [
        "\n",
        "# df_TagDesc = pd.read_csv(r'C:\\Users\\saust\\OneDrive\\Desktop\\GitRepo\\Project-OptiC4\\CSV\\Not for Processing\\TagDesc.csv')\n",
        "\n",
        "# df_All_1 = pd.read_csv(r'C:\\Users\\saust\\OneDrive\\Desktop\\GitRepo\\Project-OptiC4\\1 Preprocess\\Merge Data\\contData_all_Avg_1o2.csv')\n",
        "# df_All_2 = pd.read_csv(r'C:\\Users\\saust\\OneDrive\\Desktop\\GitRepo\\Project-OptiC4\\1 Preprocess\\Merge Data\\contData_all_Avg_2o2.csv')\n",
        "# # Concatenate (union) the dataframes\n",
        "# df_All = pd.concat([df_All_1, df_All_2], ignore_index=True)\n",
        "\n",
        "df_rC4_1_75 = pd.read_csv(r'C:\\Users\\steve\\OneDrive\\1. BAIUTEK\\Project-OptiC4\\IV Optimize\\Statistical Testing Sets\\rC4_1_75.csv')\n",
        "df_rC4_5_75 = pd.read_csv(r'C:\\Users\\steve\\OneDrive\\1. BAIUTEK\\Project-OptiC4\\IV Optimize\\Statistical Testing Sets\\rC4_5_75.csv')\n",
        "\n",
        "\n"
      ]
    },
    {
      "cell_type": "code",
      "execution_count": 5,
      "metadata": {
        "metadata": {}
      },
      "outputs": [
        {
          "name": "stdout",
          "output_type": "stream",
          "text": [
            "<class 'pandas.core.frame.DataFrame'>\n",
            "RangeIndex: 47882 entries, 0 to 47881\n",
            "Data columns (total 26 columns):\n",
            " #   Column              Non-Null Count  Dtype  \n",
            "---  ------              --------------  -----  \n",
            " 0   Date                47882 non-null  object \n",
            " 1   425_pct_Al          47882 non-null  float64\n",
            " 2   C4_pct_Eth          47882 non-null  float64\n",
            " 3   C4_pct_H2O          47882 non-null  float64\n",
            " 4   HydWtr_pct_Ammonia  47882 non-null  float64\n",
            " 5   HydWtr_Na2O         47882 non-null  float64\n",
            " 6   Butanol             47882 non-null  float64\n",
            " 7   Decanol             47882 non-null  float64\n",
            " 8   DI55102             47882 non-null  float64\n",
            " 9   DI55152             47882 non-null  float64\n",
            " 10  FC55003             47882 non-null  float64\n",
            " 11  FC55009             47882 non-null  float64\n",
            " 12  FC55552             47882 non-null  float64\n",
            " 13  FC55569             47882 non-null  float64\n",
            " 14  FC55576             47882 non-null  float64\n",
            " 15  FFC55555            47882 non-null  float64\n",
            " 16  LC55557             47882 non-null  float64\n",
            " 17  LC90366             47882 non-null  float64\n",
            " 18  LC90368             47882 non-null  float64\n",
            " 19  PI55004             47882 non-null  float64\n",
            " 20  PI55020             47882 non-null  float64\n",
            " 21  TC55552             47882 non-null  float64\n",
            " 22  TI55021             47882 non-null  float64\n",
            " 23  FFC55555_adj        47882 non-null  float64\n",
            " 24  Decanol_adj         47882 non-null  float64\n",
            " 25  Butanol_adj         47882 non-null  float64\n",
            "dtypes: float64(25), object(1)\n",
            "memory usage: 9.5+ MB\n",
            "None\n",
            "<class 'pandas.core.frame.DataFrame'>\n",
            "RangeIndex: 47882 entries, 0 to 47881\n",
            "Data columns (total 26 columns):\n",
            " #   Column              Non-Null Count  Dtype  \n",
            "---  ------              --------------  -----  \n",
            " 0   Date                47882 non-null  object \n",
            " 1   425_pct_Al          47882 non-null  float64\n",
            " 2   C4_pct_Eth          47882 non-null  float64\n",
            " 3   C4_pct_H2O          47882 non-null  float64\n",
            " 4   HydWtr_pct_Ammonia  47882 non-null  float64\n",
            " 5   HydWtr_Na2O         47882 non-null  float64\n",
            " 6   Butanol             47882 non-null  float64\n",
            " 7   Decanol             47882 non-null  float64\n",
            " 8   DI55102             47882 non-null  float64\n",
            " 9   DI55152             47882 non-null  float64\n",
            " 10  FC55003             47882 non-null  float64\n",
            " 11  FC55009             47882 non-null  float64\n",
            " 12  FC55552             47882 non-null  float64\n",
            " 13  FC55569             47882 non-null  float64\n",
            " 14  FC55576             47882 non-null  float64\n",
            " 15  FFC55555            47882 non-null  float64\n",
            " 16  LC55557             47882 non-null  float64\n",
            " 17  LC90366             47882 non-null  float64\n",
            " 18  LC90368             47882 non-null  float64\n",
            " 19  PI55004             47882 non-null  float64\n",
            " 20  PI55020             47882 non-null  float64\n",
            " 21  TC55552             47882 non-null  float64\n",
            " 22  TI55021             47882 non-null  float64\n",
            " 23  FFC55555_adj        47882 non-null  float64\n",
            " 24  Decanol_adj         47882 non-null  float64\n",
            " 25  Butanol_adj         47882 non-null  float64\n",
            "dtypes: float64(25), object(1)\n",
            "memory usage: 9.5+ MB\n",
            "None\n"
          ]
        }
      ],
      "source": [
        "print(df_rC4_1_75.info())\n",
        "print(df_rC4_5_75.info())"
      ]
    },
    {
      "cell_type": "code",
      "execution_count": 6,
      "metadata": {
        "metadata": {}
      },
      "outputs": [
        {
          "name": "stdout",
          "output_type": "stream",
          "text": [
            "                  Date  425_pct_Al  C4_pct_Eth  C4_pct_H2O  \\\n",
            "0  2012-05-16 16:00:00    6.307630    2.508420    21.96340   \n",
            "1  2012-05-16 18:00:00    6.308335    2.511135    21.96865   \n",
            "2  2012-05-16 19:00:00    6.309390    2.515210    21.97655   \n",
            "3  2012-05-16 20:00:00    6.310090    2.517925    21.98185   \n",
            "4  2012-05-16 21:00:00    6.310790    2.520640    21.98715   \n",
            "\n",
            "   HydWtr_pct_Ammonia  HydWtr_Na2O    Butanol   Decanol   DI55102   DI55152  \\\n",
            "0            0.908765     2.712180  54.858300  0.722511  0.970496  0.925255   \n",
            "1            0.907643     2.805415  54.858300  0.722511  0.970496  0.925255   \n",
            "2            0.905959     2.945270  54.858300  0.722511  0.970496  0.925255   \n",
            "3            0.904837     3.038505  51.190050  0.733904  0.970653  0.923773   \n",
            "4            0.903715     3.131740  48.744567  0.741499  0.970307  0.924103   \n",
            "\n",
            "   ...    LC55557    LC90366    LC90368   PI55004   PI55020  TC55552  \\\n",
            "0  ...  65.873400  61.011100  51.234400  1.306310 -0.607993  177.188   \n",
            "1  ...  65.873400  61.011100  51.234400  1.306310 -0.607993  177.188   \n",
            "2  ...  65.873400  61.011100  51.234400  1.306310 -0.607993  177.188   \n",
            "3  ...  65.957600  56.694400  50.868167  1.216603 -0.626386  177.417   \n",
            "4  ...  65.966425  55.181525  50.740225  1.206718 -0.632433  177.459   \n",
            "\n",
            "      TI55021  FFC55555_adj  Decanol_adj  Butanol_adj  \n",
            "0  212.861000      0.751501     1.126204    56.398544  \n",
            "1  212.861000      0.751501     1.126828    55.225777  \n",
            "2  212.861000      0.751501     1.121570    54.979150  \n",
            "3  212.822333      0.750505     1.085587    48.963017  \n",
            "4  212.799750      0.750325     1.081224    48.607920  \n",
            "\n",
            "[5 rows x 26 columns]\n",
            "                  Date  425_pct_Al  C4_pct_Eth  C4_pct_H2O  \\\n",
            "0  2012-05-16 16:00:00    6.307630    2.508420    21.96340   \n",
            "1  2012-05-16 18:00:00    6.308335    2.511135    21.96865   \n",
            "2  2012-05-16 19:00:00    6.309390    2.515210    21.97655   \n",
            "3  2012-05-16 20:00:00    6.310090    2.517925    21.98185   \n",
            "4  2012-05-16 21:00:00    6.310790    2.520640    21.98715   \n",
            "\n",
            "   HydWtr_pct_Ammonia  HydWtr_Na2O    Butanol   Decanol   DI55102   DI55152  \\\n",
            "0            0.908765     2.712180  54.858300  0.722511  0.970496  0.925255   \n",
            "1            0.907643     2.805415  54.858300  0.722511  0.970496  0.925255   \n",
            "2            0.905959     2.945270  54.858300  0.722511  0.970496  0.925255   \n",
            "3            0.904837     3.038505  51.190050  0.733904  0.970653  0.923773   \n",
            "4            0.903715     3.131740  48.744567  0.741499  0.970307  0.924103   \n",
            "\n",
            "   ...    LC55557    LC90366    LC90368   PI55004   PI55020  TC55552  \\\n",
            "0  ...  65.873400  61.011100  51.234400  1.306310 -0.607993  177.188   \n",
            "1  ...  65.873400  61.011100  51.234400  1.306310 -0.607993  177.188   \n",
            "2  ...  65.873400  61.011100  51.234400  1.306310 -0.607993  177.188   \n",
            "3  ...  65.957600  56.694400  50.868167  1.216603 -0.626386  177.417   \n",
            "4  ...  65.966425  55.181525  50.740225  1.206718 -0.632433  177.459   \n",
            "\n",
            "      TI55021  FFC55555_adj  Decanol_adj  Butanol_adj  \n",
            "0  212.861000      0.751501     1.126204    56.398544  \n",
            "1  212.861000      0.751501     1.126828    55.225777  \n",
            "2  212.861000      0.751501     1.121570    54.979150  \n",
            "3  212.822333      0.750505     1.085587    48.963017  \n",
            "4  212.799750      0.750325     1.081224    48.607920  \n",
            "\n",
            "[5 rows x 26 columns]\n"
          ]
        }
      ],
      "source": [
        "print(df_rC4_1_75.head())\n",
        "print(df_rC4_5_75.head())"
      ]
    },
    {
      "cell_type": "markdown",
      "metadata": {},
      "source": [
        "# 1 75"
      ]
    },
    {
      "cell_type": "code",
      "execution_count": 7,
      "metadata": {
        "metadata": {}
      },
      "outputs": [],
      "source": [
        "# Calculate the differences and create new columns\n",
        "df_rC4_1_75['FFC55555_diff'] = df_rC4_1_75['FFC55555'] - df_rC4_1_75['FFC55555_adj']\n",
        "df_rC4_1_75['Butanol_diff'] = df_rC4_1_75['Butanol'] - df_rC4_1_75['Butanol_adj']\n",
        "df_rC4_1_75['Decanol_diff'] = df_rC4_1_75['Decanol'] - df_rC4_1_75['Decanol_adj']\n",
        "df_rC4_1_75['rC4_diff'] = (df_rC4_1_75['FFC55555']*df_rC4_1_75[''])-(df_rC4_1_75['FFC55555_adj']*df_rC4_1_75['']))"
      ]
    },
    {
      "cell_type": "code",
      "execution_count": 9,
      "metadata": {
        "metadata": {}
      },
      "outputs": [],
      "source": [
        "\n",
        "df_rC4_1_75['Date'] = pd.to_datetime(df_rC4_1_75['Date'])\n",
        "df_rC4_1_75.set_index('Date', inplace=True)\n"
      ]
    },
    {
      "cell_type": "code",
      "execution_count": 16,
      "metadata": {
        "metadata": {}
      },
      "outputs": [],
      "source": [
        "# Sum up the hourly data to get daily totals for each component\n",
        "daily_totals_1_75 = df_rC4_1_75[['Butanol_diff', 'Decanol_diff']].resample('D').sum()"
      ]
    },
    {
      "cell_type": "code",
      "execution_count": 17,
      "metadata": {
        "metadata": {}
      },
      "outputs": [
        {
          "name": "stdout",
          "output_type": "stream",
          "text": [
            "Estimated Annual Production for Butanol_diff: -5747.595241433343\n",
            "Estimated Annual Production for Decanol_diff: -1410.6846121160122\n"
          ]
        }
      ],
      "source": [
        "# Calculate the average daily production\n",
        "average_daily_totals_1_75 = daily_totals_1_75.mean()\n",
        "\n",
        "# Count the actual number of days with data\n",
        "actual_days_with_data = daily_totals_1_75.dropna().shape[0]  # dropna() ensures you count only the days with data\n",
        "\n",
        "# Estimate annual production based on actual data days\n",
        "estimated_annual_production_butanol_1_75 = average_daily_totals_1_75['Butanol_diff'] * actual_days_with_data\n",
        "estimated_annual_production_decanol_1_75 = average_daily_totals_1_75['Decanol_diff'] * actual_days_with_data\n",
        "\n",
        "\n",
        "print(f\"Estimated Annual Production for Butanol_diff: {estimated_annual_production_butanol_1_75}\")\n",
        "print(f\"Estimated Annual Production for Decanol_diff: {estimated_annual_production_decanol_1_75}\")"
      ]
    },
    {
      "cell_type": "markdown",
      "metadata": {},
      "source": [
        "# 5 75"
      ]
    },
    {
      "cell_type": "code",
      "execution_count": 8,
      "metadata": {
        "metadata": {}
      },
      "outputs": [],
      "source": [
        "# Calculate the differences and create new columns\n",
        "df_rC4_5_75['FFC55555_diff'] = df_rC4_5_75['FFC55555'] - df_rC4_5_75['FFC55555_adj']\n",
        "df_rC4_5_75['Butanol_diff'] = df_rC4_5_75['Butanol'] - df_rC4_5_75['Butanol_adj']\n",
        "df_rC4_5_75['Decanol_diff'] = df_rC4_5_75['Decanol'] - df_rC4_5_75['Decanol_adj']"
      ]
    },
    {
      "cell_type": "code",
      "execution_count": 11,
      "metadata": {
        "metadata": {}
      },
      "outputs": [],
      "source": [
        "df_rC4_5_75['Date'] = pd.to_datetime(df_rC4_5_75['Date'])\n",
        "df_rC4_5_75.set_index('Date', inplace=True)"
      ]
    },
    {
      "cell_type": "code",
      "execution_count": 12,
      "metadata": {
        "metadata": {}
      },
      "outputs": [],
      "source": [
        "# Sum up the hourly data to get daily totals for each component\n",
        "daily_totals = df_rC4_5_75[['Butanol_diff', 'Decanol_diff']].resample('D').sum()"
      ]
    },
    {
      "cell_type": "code",
      "execution_count": 14,
      "metadata": {
        "metadata": {}
      },
      "outputs": [
        {
          "name": "stdout",
          "output_type": "stream",
          "text": [
            "Estimated Annual Production for Butanol_diff: -56850.36319843343\n",
            "Estimated Annual Production for Decanol_diff: -1910.1647709560118\n"
          ]
        }
      ],
      "source": [
        "# Calculate the average daily production\n",
        "average_daily_totals = daily_totals.mean()\n",
        "\n",
        "# Count the actual number of days with data\n",
        "actual_days_with_data = daily_totals.dropna().shape[0]  # dropna() ensures you count only the days with data\n",
        "\n",
        "# Estimate annual production based on actual data days\n",
        "estimated_annual_production_butanol = average_daily_totals['Butanol_diff'] * actual_days_with_data\n",
        "estimated_annual_production_decanol = average_daily_totals['Decanol_diff'] * actual_days_with_data\n",
        "\n",
        "\n",
        "print(f\"Estimated Annual Production for Butanol_diff: {estimated_annual_production_butanol}\")\n",
        "print(f\"Estimated Annual Production for Decanol_diff: {estimated_annual_production_decanol}\")"
      ]
    }
  ],
  "metadata": {
    "kernelspec": {
      "display_name": "Python 3 (ipykernel)",
      "language": "python",
      "name": "python3"
    },
    "language_info": {
      "codemirror_mode": {
        "name": "ipython",
        "version": 3
      },
      "file_extension": ".py",
      "mimetype": "text/x-python",
      "name": "python",
      "nbconvert_exporter": "python",
      "pygments_lexer": "ipython3",
      "version": "3.12.1"
    }
  },
  "nbformat": 4,
  "nbformat_minor": 4
}
