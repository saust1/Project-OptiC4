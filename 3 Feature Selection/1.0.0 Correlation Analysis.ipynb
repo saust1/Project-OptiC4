{
 "cells": [
  {
   "cell_type": "code",
   "execution_count": 272,
   "metadata": {},
   "outputs": [],
   "source": [
    "import pandas as pd\n",
    "# Set max columns to display\n",
    "pd.set_option('display.max_columns', None)\n",
    "\n",
    "import numpy as np\n",
    "from sklearn import preprocessing as pre\n",
    "import matplotlib.pyplot as plt\n",
    "from scipy import stats\n",
    "import seaborn as sns\n",
    "import plotly.express as px"
   ]
  },
  {
   "cell_type": "code",
   "execution_count": 273,
   "metadata": {},
   "outputs": [
    {
     "name": "stdout",
     "output_type": "stream",
     "text": [
      "    425 %Al    Butanol   Decanol    Ethanol   Hexanol   Octanol   AYC55580  \\\n",
      "0  6.319560  30.366200  1.030260  88.289900  1.365840  1.492120  18.297300   \n",
      "1  6.319915  30.678500  1.063260  89.685450  1.397135  1.548230  18.040650   \n",
      "2  6.328340  32.399333  1.647950  88.677200  1.994413  2.454430  16.637633   \n",
      "3  6.336760  32.845950  1.928805  87.080875  2.288335  2.897523  15.779400   \n",
      "4  6.337460  33.387025  2.352595  84.489175  2.734682  3.571185  15.199680   \n",
      "\n",
      "    DI55102   DI55152   DI55580      FC42428      FC52018    FC55003  \\\n",
      "0  0.963347  0.924879  1.017340  40773.90000  42583.40000  5622.8300   \n",
      "1  0.965043  0.924515  1.014885  40816.90000  44547.30000  5308.8850   \n",
      "2  0.968107  0.929955  1.015593  41080.96667  45105.73333  5489.7400   \n",
      "3  0.969573  0.932388  1.014703  41606.60000  45413.77500  5709.1825   \n",
      "4  0.971022  0.934531  1.014094  41722.12000  45547.02000  5653.1640   \n",
      "\n",
      "       FC55009      FC55102      FC55152   FC55552      FC55555      FC55569  \\\n",
      "0  1770.180000  54668.30000  48447.40000  40424.10  30465.70000  6928.310000   \n",
      "1  1182.393500  56315.80000  51242.20000  40409.25  30406.75000  6924.645000   \n",
      "2   988.753333  55482.66667  50152.73333  40606.30  30908.93333  6925.813333   \n",
      "3   862.683250  53522.02500  48242.85000  39171.20  29965.95000  6920.290000   \n",
      "4   794.212400  52775.74000  47829.90000  39099.64  30056.26000  6916.018000   \n",
      "\n",
      "    FC55576  FFC55553  FFC55555     FYC55553     II52554    LC52572  \\\n",
      "0  329.7610  1.045930  0.752379  42478.80000  228.724000  66.534100   \n",
      "1  322.1770  1.049540  0.751183  42511.25000  237.562000  66.523200   \n",
      "2  324.9680  1.050217  0.761243  42628.66667  240.325333  66.500500   \n",
      "3  331.7720  1.050780  0.766600  41075.47500  241.663250  66.336525   \n",
      "4  336.2358  1.051672  0.770305  40994.10000  242.179800  65.981980   \n",
      "\n",
      "     LC55553    LC55555    LC55557    LC55568    LC90366    LC90368   PI55004  \\\n",
      "0  62.176800  60.362200  65.484000  40.136500  16.706900  49.278800  1.044590   \n",
      "1  62.921050  60.446750  66.313950  40.252500  15.449150  49.267500  1.236360   \n",
      "2  62.651867  60.350800  66.212233  40.059967  10.931340  48.643200  1.189883   \n",
      "3  62.526325  60.118475  65.893675  39.835675   8.674930  48.382975  1.343838   \n",
      "4  62.293540  60.150020  66.212620  40.179880   7.325074  48.332800  1.535224   \n",
      "\n",
      "    PI55020   PI55560    TC52015     TC55552     TC55553   TC55555   TC55566  \\\n",
      "0 -0.437499 -0.264240  74.632500  178.773000  235.047000  179.6930  211.7810   \n",
      "1 -0.389406 -0.279771  78.195800  179.011500  213.937500  179.9940  211.7810   \n",
      "2 -0.377156 -0.106293  77.691633  180.276667  205.221667  180.0530  212.3670   \n",
      "3 -0.366302 -0.057496  79.090850  180.993250  198.353500  180.5790  212.4105   \n",
      "4 -0.327278 -0.047609  81.854140  181.511000  195.641600  180.2476  212.4664   \n",
      "\n",
      "     TI40050   TI52014     TI55013     TI55014     TI55015   TI55016  \\\n",
      "0  81.156900  131.0990  236.672000  223.704000  216.905000  207.7370   \n",
      "1  82.965650  132.3490  230.501000  220.794000  216.033500  207.2460   \n",
      "2  82.461167  133.0350  223.885667  214.879667  209.812667  202.7230   \n",
      "3  83.676300  134.0690  219.719750  211.567250  206.503250  200.5075   \n",
      "4  85.328040  134.8424  217.253200  209.326600  204.214800  198.6922   \n",
      "\n",
      "     TI55017  TI55021     TI55023  VI52558B  \n",
      "0  205.81700  213.813  212.301000  4.969810  \n",
      "1  205.70300  213.874  212.308500  4.616265  \n",
      "2  201.16400  214.433  212.926667  4.741457  \n",
      "3  199.00025  214.639  213.051250  4.436797  \n",
      "4  197.25440  214.733  213.071400  4.304762  \n"
     ]
    }
   ],
   "source": [
    "\n",
    "df_All_1 = pd.read_csv(r'C:\\Users\\saust\\OneDrive\\Desktop\\GitRepo\\Project-OptiC4\\3 Feature Selection\\contData_all_Avg - 1o2.csv')\n",
    "df_All_2 = pd.read_csv(r'C:\\Users\\saust\\OneDrive\\Desktop\\GitRepo\\Project-OptiC4\\3 Feature Selection\\contData_all_Avg - 2o2.csv')\n",
    "# Concatenate (union) the dataframes\n",
    "df_All = pd.concat([df_All_1, df_All_2], ignore_index=True)\n",
    "\n",
    "print(df_All.head())"
   ]
  },
  {
   "cell_type": "code",
   "execution_count": 274,
   "metadata": {},
   "outputs": [],
   "source": [
    "\n",
    "TagDesc = pd.read_csv(r\"C:\\Users\\saust\\OneDrive\\Desktop\\GitRepo\\Project-OptiC4\\CSV\\Not for Processing\\TagDesc.csv\")\n",
    "# df_All = pd.read_csv(r\"C:\\Users\\saust\\OneDrive - Sasol\\1 Project rC4\\Jupyter Notebooks\\Report 10-19-23\\df_AlConCD554.csv\")\n",
    "#df_All = pd.read_csv(r\"C:\\Users\\saust\\OneDrive\\Desktop\\CodeSpace DLs\\102423\\Project rC4\\5 Engineered Features\\3 - EF - Feature Selection\\df_CDFI.csv\")\n",
    "\n",
    "\n",
    "# FScore = pd.read_csv(r\"C:\\Users\\saust\\OneDrive\\Desktop\\CodeSpace DLs\\102423\\Project rC4\\5 Engineered Features\\3 - EF - Feature Selection\\FScore_on_Butanol_310.csv\")\n",
    "\n",
    "# df_All = pd.read_csv('/workspaces/codespaces-jupyter/ProjectrC4/df_AlConCD554.csv')"
   ]
  },
  {
   "cell_type": "code",
   "execution_count": 275,
   "metadata": {},
   "outputs": [],
   "source": [
    "# List of columns to exclude to run XGboost feature selection\n",
    "exclude_columns = [\n",
    "       \n",
    "       # Sample data of the same time introcuces Data leakage\n",
    "       'Octanol', 'Hexanol', 'Ethanol', 'Decanol',\n",
    "\n",
    "       # Highly correlated to TC's\n",
    "       'TI52014', 'TI55013', 'TI55014', 'TI55015', 'TI55016', 'TI55017', 'TI55021', 'TI55023', 'TI40050',\n",
    "       \n",
    "       # Niro Functions\n",
    "       'TC52015', 'FC52018', 'II52554', 'VI52558B',\n",
    "       \n",
    "       # .9 to .8 Correlations\n",
    "       'FC55555',  # First Drop - Highest correlated variable    #Almost 1 with FC55552 - as determined by Ratio controller    \n",
    "       'PI55560',   # Exlude middle pressure - Include -> PI5500: btm pressure \n",
    "       'FYC55553',  # Calculates by other varibales (inherently correlated) - Include -> FC55552 - leading influecner \n",
    "       'FC55152', 'FC55102', # Both are deritives of FC55552\n",
    "       'AYC55580',  # Is calculated - DI55580 measures the process directly\n",
    "       \n",
    "       # .7 Correlations\n",
    "       # FC55552 --> FC42428 = 0.70526 / not comfortable droping either at this time\n",
    "\n",
    "       # .6 Correlations\n",
    "       'TC55566',  # Is a Downstream requirement - TC55552 occurs upstream (DC-551 ALKOX  FD PREHEAT)\n",
    "\n",
    "       # .5 Correlations\n",
    "       'FC55009' # Receives its SP from TC55553\n",
    "\n",
    "                   ]\n",
    "\n",
    "# Create a new DataFrame without the excluded columnsd\n",
    "df_All = df_All.drop(columns=exclude_columns)"
   ]
  },
  {
   "cell_type": "markdown",
   "metadata": {},
   "source": [
    "# Check Basic Information:"
   ]
  },
  {
   "cell_type": "code",
   "execution_count": 276,
   "metadata": {},
   "outputs": [
    {
     "name": "stdout",
     "output_type": "stream",
     "text": [
      "<class 'pandas.core.frame.DataFrame'>\n",
      "RangeIndex: 49239 entries, 0 to 49238\n",
      "Data columns (total 24 columns):\n",
      " #   Column    Non-Null Count  Dtype  \n",
      "---  ------    --------------  -----  \n",
      " 0   425 %Al   49239 non-null  float64\n",
      " 1   Butanol   49239 non-null  float64\n",
      " 2   DI55102   49239 non-null  float64\n",
      " 3   DI55152   49239 non-null  float64\n",
      " 4   DI55580   49239 non-null  float64\n",
      " 5   FC42428   49239 non-null  float64\n",
      " 6   FC55003   49239 non-null  float64\n",
      " 7   FC55552   49239 non-null  float64\n",
      " 8   FC55569   49239 non-null  float64\n",
      " 9   FC55576   49239 non-null  float64\n",
      " 10  FFC55553  49239 non-null  float64\n",
      " 11  FFC55555  49239 non-null  float64\n",
      " 12  LC52572   49239 non-null  float64\n",
      " 13  LC55553   49239 non-null  float64\n",
      " 14  LC55555   49239 non-null  float64\n",
      " 15  LC55557   49239 non-null  float64\n",
      " 16  LC55568   49239 non-null  float64\n",
      " 17  LC90366   49239 non-null  float64\n",
      " 18  LC90368   49239 non-null  float64\n",
      " 19  PI55004   49239 non-null  float64\n",
      " 20  PI55020   49239 non-null  float64\n",
      " 21  TC55552   49239 non-null  float64\n",
      " 22  TC55553   49239 non-null  float64\n",
      " 23  TC55555   49239 non-null  float64\n",
      "dtypes: float64(24)\n",
      "memory usage: 9.0 MB\n"
     ]
    },
    {
     "data": {
      "text/html": [
       "<div>\n",
       "<style scoped>\n",
       "    .dataframe tbody tr th:only-of-type {\n",
       "        vertical-align: middle;\n",
       "    }\n",
       "\n",
       "    .dataframe tbody tr th {\n",
       "        vertical-align: top;\n",
       "    }\n",
       "\n",
       "    .dataframe thead th {\n",
       "        text-align: right;\n",
       "    }\n",
       "</style>\n",
       "<table border=\"1\" class=\"dataframe\">\n",
       "  <thead>\n",
       "    <tr style=\"text-align: right;\">\n",
       "      <th></th>\n",
       "      <th>425 %Al</th>\n",
       "      <th>Butanol</th>\n",
       "      <th>DI55102</th>\n",
       "      <th>DI55152</th>\n",
       "      <th>DI55580</th>\n",
       "      <th>FC42428</th>\n",
       "      <th>FC55003</th>\n",
       "      <th>FC55552</th>\n",
       "      <th>FC55569</th>\n",
       "      <th>FC55576</th>\n",
       "      <th>FFC55553</th>\n",
       "      <th>FFC55555</th>\n",
       "      <th>LC52572</th>\n",
       "      <th>LC55553</th>\n",
       "      <th>LC55555</th>\n",
       "      <th>LC55557</th>\n",
       "      <th>LC55568</th>\n",
       "      <th>LC90366</th>\n",
       "      <th>LC90368</th>\n",
       "      <th>PI55004</th>\n",
       "      <th>PI55020</th>\n",
       "      <th>TC55552</th>\n",
       "      <th>TC55553</th>\n",
       "      <th>TC55555</th>\n",
       "    </tr>\n",
       "  </thead>\n",
       "  <tbody>\n",
       "    <tr>\n",
       "      <th>0</th>\n",
       "      <td>6.319560</td>\n",
       "      <td>30.366200</td>\n",
       "      <td>0.963347</td>\n",
       "      <td>0.924879</td>\n",
       "      <td>1.017340</td>\n",
       "      <td>40773.90000</td>\n",
       "      <td>5622.8300</td>\n",
       "      <td>40424.10</td>\n",
       "      <td>6928.310000</td>\n",
       "      <td>329.7610</td>\n",
       "      <td>1.045930</td>\n",
       "      <td>0.752379</td>\n",
       "      <td>66.534100</td>\n",
       "      <td>62.176800</td>\n",
       "      <td>60.362200</td>\n",
       "      <td>65.484000</td>\n",
       "      <td>40.136500</td>\n",
       "      <td>16.706900</td>\n",
       "      <td>49.278800</td>\n",
       "      <td>1.044590</td>\n",
       "      <td>-0.437499</td>\n",
       "      <td>178.773000</td>\n",
       "      <td>235.047000</td>\n",
       "      <td>179.6930</td>\n",
       "    </tr>\n",
       "    <tr>\n",
       "      <th>1</th>\n",
       "      <td>6.319915</td>\n",
       "      <td>30.678500</td>\n",
       "      <td>0.965043</td>\n",
       "      <td>0.924515</td>\n",
       "      <td>1.014885</td>\n",
       "      <td>40816.90000</td>\n",
       "      <td>5308.8850</td>\n",
       "      <td>40409.25</td>\n",
       "      <td>6924.645000</td>\n",
       "      <td>322.1770</td>\n",
       "      <td>1.049540</td>\n",
       "      <td>0.751183</td>\n",
       "      <td>66.523200</td>\n",
       "      <td>62.921050</td>\n",
       "      <td>60.446750</td>\n",
       "      <td>66.313950</td>\n",
       "      <td>40.252500</td>\n",
       "      <td>15.449150</td>\n",
       "      <td>49.267500</td>\n",
       "      <td>1.236360</td>\n",
       "      <td>-0.389406</td>\n",
       "      <td>179.011500</td>\n",
       "      <td>213.937500</td>\n",
       "      <td>179.9940</td>\n",
       "    </tr>\n",
       "    <tr>\n",
       "      <th>2</th>\n",
       "      <td>6.328340</td>\n",
       "      <td>32.399333</td>\n",
       "      <td>0.968107</td>\n",
       "      <td>0.929955</td>\n",
       "      <td>1.015593</td>\n",
       "      <td>41080.96667</td>\n",
       "      <td>5489.7400</td>\n",
       "      <td>40606.30</td>\n",
       "      <td>6925.813333</td>\n",
       "      <td>324.9680</td>\n",
       "      <td>1.050217</td>\n",
       "      <td>0.761243</td>\n",
       "      <td>66.500500</td>\n",
       "      <td>62.651867</td>\n",
       "      <td>60.350800</td>\n",
       "      <td>66.212233</td>\n",
       "      <td>40.059967</td>\n",
       "      <td>10.931340</td>\n",
       "      <td>48.643200</td>\n",
       "      <td>1.189883</td>\n",
       "      <td>-0.377156</td>\n",
       "      <td>180.276667</td>\n",
       "      <td>205.221667</td>\n",
       "      <td>180.0530</td>\n",
       "    </tr>\n",
       "    <tr>\n",
       "      <th>3</th>\n",
       "      <td>6.336760</td>\n",
       "      <td>32.845950</td>\n",
       "      <td>0.969573</td>\n",
       "      <td>0.932388</td>\n",
       "      <td>1.014703</td>\n",
       "      <td>41606.60000</td>\n",
       "      <td>5709.1825</td>\n",
       "      <td>39171.20</td>\n",
       "      <td>6920.290000</td>\n",
       "      <td>331.7720</td>\n",
       "      <td>1.050780</td>\n",
       "      <td>0.766600</td>\n",
       "      <td>66.336525</td>\n",
       "      <td>62.526325</td>\n",
       "      <td>60.118475</td>\n",
       "      <td>65.893675</td>\n",
       "      <td>39.835675</td>\n",
       "      <td>8.674930</td>\n",
       "      <td>48.382975</td>\n",
       "      <td>1.343838</td>\n",
       "      <td>-0.366302</td>\n",
       "      <td>180.993250</td>\n",
       "      <td>198.353500</td>\n",
       "      <td>180.5790</td>\n",
       "    </tr>\n",
       "    <tr>\n",
       "      <th>4</th>\n",
       "      <td>6.337460</td>\n",
       "      <td>33.387025</td>\n",
       "      <td>0.971022</td>\n",
       "      <td>0.934531</td>\n",
       "      <td>1.014094</td>\n",
       "      <td>41722.12000</td>\n",
       "      <td>5653.1640</td>\n",
       "      <td>39099.64</td>\n",
       "      <td>6916.018000</td>\n",
       "      <td>336.2358</td>\n",
       "      <td>1.051672</td>\n",
       "      <td>0.770305</td>\n",
       "      <td>65.981980</td>\n",
       "      <td>62.293540</td>\n",
       "      <td>60.150020</td>\n",
       "      <td>66.212620</td>\n",
       "      <td>40.179880</td>\n",
       "      <td>7.325074</td>\n",
       "      <td>48.332800</td>\n",
       "      <td>1.535224</td>\n",
       "      <td>-0.327278</td>\n",
       "      <td>181.511000</td>\n",
       "      <td>195.641600</td>\n",
       "      <td>180.2476</td>\n",
       "    </tr>\n",
       "  </tbody>\n",
       "</table>\n",
       "</div>"
      ],
      "text/plain": [
       "    425 %Al    Butanol   DI55102   DI55152   DI55580      FC42428    FC55003  \\\n",
       "0  6.319560  30.366200  0.963347  0.924879  1.017340  40773.90000  5622.8300   \n",
       "1  6.319915  30.678500  0.965043  0.924515  1.014885  40816.90000  5308.8850   \n",
       "2  6.328340  32.399333  0.968107  0.929955  1.015593  41080.96667  5489.7400   \n",
       "3  6.336760  32.845950  0.969573  0.932388  1.014703  41606.60000  5709.1825   \n",
       "4  6.337460  33.387025  0.971022  0.934531  1.014094  41722.12000  5653.1640   \n",
       "\n",
       "    FC55552      FC55569   FC55576  FFC55553  FFC55555    LC52572    LC55553  \\\n",
       "0  40424.10  6928.310000  329.7610  1.045930  0.752379  66.534100  62.176800   \n",
       "1  40409.25  6924.645000  322.1770  1.049540  0.751183  66.523200  62.921050   \n",
       "2  40606.30  6925.813333  324.9680  1.050217  0.761243  66.500500  62.651867   \n",
       "3  39171.20  6920.290000  331.7720  1.050780  0.766600  66.336525  62.526325   \n",
       "4  39099.64  6916.018000  336.2358  1.051672  0.770305  65.981980  62.293540   \n",
       "\n",
       "     LC55555    LC55557    LC55568    LC90366    LC90368   PI55004   PI55020  \\\n",
       "0  60.362200  65.484000  40.136500  16.706900  49.278800  1.044590 -0.437499   \n",
       "1  60.446750  66.313950  40.252500  15.449150  49.267500  1.236360 -0.389406   \n",
       "2  60.350800  66.212233  40.059967  10.931340  48.643200  1.189883 -0.377156   \n",
       "3  60.118475  65.893675  39.835675   8.674930  48.382975  1.343838 -0.366302   \n",
       "4  60.150020  66.212620  40.179880   7.325074  48.332800  1.535224 -0.327278   \n",
       "\n",
       "      TC55552     TC55553   TC55555  \n",
       "0  178.773000  235.047000  179.6930  \n",
       "1  179.011500  213.937500  179.9940  \n",
       "2  180.276667  205.221667  180.0530  \n",
       "3  180.993250  198.353500  180.5790  \n",
       "4  181.511000  195.641600  180.2476  "
      ]
     },
     "execution_count": 276,
     "metadata": {},
     "output_type": "execute_result"
    }
   ],
   "source": [
    "\n",
    "\n",
    "df_All.info() #to check the data types, non-null counts, and memory usage.\n",
    "df_All.head() #to examine the first few rows of the dataset."
   ]
  },
  {
   "cell_type": "markdown",
   "metadata": {},
   "source": [
    "# Summary Statistics:"
   ]
  },
  {
   "cell_type": "code",
   "execution_count": 277,
   "metadata": {},
   "outputs": [
    {
     "data": {
      "text/html": [
       "<div>\n",
       "<style scoped>\n",
       "    .dataframe tbody tr th:only-of-type {\n",
       "        vertical-align: middle;\n",
       "    }\n",
       "\n",
       "    .dataframe tbody tr th {\n",
       "        vertical-align: top;\n",
       "    }\n",
       "\n",
       "    .dataframe thead th {\n",
       "        text-align: right;\n",
       "    }\n",
       "</style>\n",
       "<table border=\"1\" class=\"dataframe\">\n",
       "  <thead>\n",
       "    <tr style=\"text-align: right;\">\n",
       "      <th></th>\n",
       "      <th>425 %Al</th>\n",
       "      <th>Butanol</th>\n",
       "      <th>DI55102</th>\n",
       "      <th>DI55152</th>\n",
       "      <th>DI55580</th>\n",
       "      <th>FC42428</th>\n",
       "      <th>FC55003</th>\n",
       "      <th>FC55552</th>\n",
       "      <th>FC55569</th>\n",
       "      <th>FC55576</th>\n",
       "      <th>FFC55553</th>\n",
       "      <th>FFC55555</th>\n",
       "      <th>LC52572</th>\n",
       "      <th>LC55553</th>\n",
       "      <th>LC55555</th>\n",
       "      <th>LC55557</th>\n",
       "      <th>LC55568</th>\n",
       "      <th>LC90366</th>\n",
       "      <th>LC90368</th>\n",
       "      <th>PI55004</th>\n",
       "      <th>PI55020</th>\n",
       "      <th>TC55552</th>\n",
       "      <th>TC55553</th>\n",
       "      <th>TC55555</th>\n",
       "    </tr>\n",
       "  </thead>\n",
       "  <tbody>\n",
       "    <tr>\n",
       "      <th>count</th>\n",
       "      <td>49239.000000</td>\n",
       "      <td>49239.000000</td>\n",
       "      <td>49239.000000</td>\n",
       "      <td>49239.000000</td>\n",
       "      <td>49239.000000</td>\n",
       "      <td>49239.000000</td>\n",
       "      <td>49239.000000</td>\n",
       "      <td>49239.000000</td>\n",
       "      <td>49239.000000</td>\n",
       "      <td>49239.000000</td>\n",
       "      <td>49239.000000</td>\n",
       "      <td>49239.000000</td>\n",
       "      <td>49239.000000</td>\n",
       "      <td>49239.000000</td>\n",
       "      <td>49239.000000</td>\n",
       "      <td>49239.000000</td>\n",
       "      <td>49239.000000</td>\n",
       "      <td>49239.000000</td>\n",
       "      <td>49239.000000</td>\n",
       "      <td>49239.000000</td>\n",
       "      <td>49239.000000</td>\n",
       "      <td>49239.000000</td>\n",
       "      <td>49239.000000</td>\n",
       "      <td>49239.000000</td>\n",
       "    </tr>\n",
       "    <tr>\n",
       "      <th>mean</th>\n",
       "      <td>6.128382</td>\n",
       "      <td>8.938060</td>\n",
       "      <td>0.929931</td>\n",
       "      <td>0.941467</td>\n",
       "      <td>0.997996</td>\n",
       "      <td>35927.743355</td>\n",
       "      <td>5961.207018</td>\n",
       "      <td>36376.905162</td>\n",
       "      <td>6597.603766</td>\n",
       "      <td>370.782576</td>\n",
       "      <td>0.993808</td>\n",
       "      <td>0.774193</td>\n",
       "      <td>63.062007</td>\n",
       "      <td>63.507380</td>\n",
       "      <td>57.983777</td>\n",
       "      <td>69.791916</td>\n",
       "      <td>41.094421</td>\n",
       "      <td>47.197146</td>\n",
       "      <td>38.307375</td>\n",
       "      <td>2.224342</td>\n",
       "      <td>-1.479487</td>\n",
       "      <td>168.734200</td>\n",
       "      <td>182.709401</td>\n",
       "      <td>180.979496</td>\n",
       "    </tr>\n",
       "    <tr>\n",
       "      <th>std</th>\n",
       "      <td>0.258963</td>\n",
       "      <td>8.759664</td>\n",
       "      <td>0.067055</td>\n",
       "      <td>0.039434</td>\n",
       "      <td>0.049639</td>\n",
       "      <td>4957.199185</td>\n",
       "      <td>755.225407</td>\n",
       "      <td>3911.714945</td>\n",
       "      <td>354.077661</td>\n",
       "      <td>250.999270</td>\n",
       "      <td>0.038780</td>\n",
       "      <td>0.022786</td>\n",
       "      <td>2.379834</td>\n",
       "      <td>6.845503</td>\n",
       "      <td>10.548250</td>\n",
       "      <td>2.972439</td>\n",
       "      <td>1.267912</td>\n",
       "      <td>28.003793</td>\n",
       "      <td>20.202085</td>\n",
       "      <td>1.146045</td>\n",
       "      <td>1.070333</td>\n",
       "      <td>15.133759</td>\n",
       "      <td>27.420831</td>\n",
       "      <td>1.442948</td>\n",
       "    </tr>\n",
       "    <tr>\n",
       "      <th>min</th>\n",
       "      <td>5.085695</td>\n",
       "      <td>0.361524</td>\n",
       "      <td>0.794570</td>\n",
       "      <td>0.820011</td>\n",
       "      <td>0.845520</td>\n",
       "      <td>17367.337500</td>\n",
       "      <td>3136.851250</td>\n",
       "      <td>19859.750000</td>\n",
       "      <td>5227.756250</td>\n",
       "      <td>0.000000</td>\n",
       "      <td>0.825233</td>\n",
       "      <td>0.698977</td>\n",
       "      <td>53.960450</td>\n",
       "      <td>42.918213</td>\n",
       "      <td>39.513463</td>\n",
       "      <td>60.445813</td>\n",
       "      <td>32.926262</td>\n",
       "      <td>0.000000</td>\n",
       "      <td>0.118033</td>\n",
       "      <td>0.058151</td>\n",
       "      <td>-4.614894</td>\n",
       "      <td>121.490875</td>\n",
       "      <td>131.866500</td>\n",
       "      <td>178.943750</td>\n",
       "    </tr>\n",
       "    <tr>\n",
       "      <th>25%</th>\n",
       "      <td>5.989670</td>\n",
       "      <td>3.710000</td>\n",
       "      <td>0.892381</td>\n",
       "      <td>0.915246</td>\n",
       "      <td>0.966598</td>\n",
       "      <td>33975.381250</td>\n",
       "      <td>5490.615000</td>\n",
       "      <td>35271.768750</td>\n",
       "      <td>6379.216250</td>\n",
       "      <td>190.819625</td>\n",
       "      <td>0.970126</td>\n",
       "      <td>0.759779</td>\n",
       "      <td>61.824531</td>\n",
       "      <td>60.054700</td>\n",
       "      <td>49.511819</td>\n",
       "      <td>67.987944</td>\n",
       "      <td>40.835825</td>\n",
       "      <td>23.552054</td>\n",
       "      <td>23.290450</td>\n",
       "      <td>1.306537</td>\n",
       "      <td>-2.303582</td>\n",
       "      <td>156.098687</td>\n",
       "      <td>163.335125</td>\n",
       "      <td>179.977875</td>\n",
       "    </tr>\n",
       "    <tr>\n",
       "      <th>50%</th>\n",
       "      <td>6.131580</td>\n",
       "      <td>5.704607</td>\n",
       "      <td>0.940508</td>\n",
       "      <td>0.937841</td>\n",
       "      <td>0.997425</td>\n",
       "      <td>37702.600000</td>\n",
       "      <td>5977.093750</td>\n",
       "      <td>37932.387500</td>\n",
       "      <td>6573.695000</td>\n",
       "      <td>340.938500</td>\n",
       "      <td>0.991813</td>\n",
       "      <td>0.778917</td>\n",
       "      <td>63.320400</td>\n",
       "      <td>65.205862</td>\n",
       "      <td>60.034613</td>\n",
       "      <td>70.074462</td>\n",
       "      <td>41.255237</td>\n",
       "      <td>49.845937</td>\n",
       "      <td>43.945575</td>\n",
       "      <td>2.008314</td>\n",
       "      <td>-1.486482</td>\n",
       "      <td>172.376000</td>\n",
       "      <td>176.618875</td>\n",
       "      <td>180.061500</td>\n",
       "    </tr>\n",
       "    <tr>\n",
       "      <th>75%</th>\n",
       "      <td>6.271303</td>\n",
       "      <td>10.096646</td>\n",
       "      <td>0.980741</td>\n",
       "      <td>0.961515</td>\n",
       "      <td>1.032216</td>\n",
       "      <td>39316.200000</td>\n",
       "      <td>6486.138125</td>\n",
       "      <td>38984.393750</td>\n",
       "      <td>6801.608125</td>\n",
       "      <td>524.029688</td>\n",
       "      <td>1.012375</td>\n",
       "      <td>0.789956</td>\n",
       "      <td>64.904506</td>\n",
       "      <td>68.057325</td>\n",
       "      <td>66.939406</td>\n",
       "      <td>71.955481</td>\n",
       "      <td>41.493594</td>\n",
       "      <td>73.482550</td>\n",
       "      <td>53.481931</td>\n",
       "      <td>2.989508</td>\n",
       "      <td>-0.504678</td>\n",
       "      <td>180.775750</td>\n",
       "      <td>200.880063</td>\n",
       "      <td>181.989125</td>\n",
       "    </tr>\n",
       "    <tr>\n",
       "      <th>max</th>\n",
       "      <td>7.170805</td>\n",
       "      <td>55.772500</td>\n",
       "      <td>1.066724</td>\n",
       "      <td>1.062941</td>\n",
       "      <td>1.131526</td>\n",
       "      <td>46225.862500</td>\n",
       "      <td>8724.858750</td>\n",
       "      <td>41922.012500</td>\n",
       "      <td>7982.280000</td>\n",
       "      <td>1133.776250</td>\n",
       "      <td>1.152818</td>\n",
       "      <td>0.849271</td>\n",
       "      <td>71.429825</td>\n",
       "      <td>78.015237</td>\n",
       "      <td>78.551250</td>\n",
       "      <td>79.127337</td>\n",
       "      <td>48.429475</td>\n",
       "      <td>87.901600</td>\n",
       "      <td>81.156950</td>\n",
       "      <td>6.171575</td>\n",
       "      <td>1.184724</td>\n",
       "      <td>201.847250</td>\n",
       "      <td>245.420125</td>\n",
       "      <td>186.049250</td>\n",
       "    </tr>\n",
       "  </tbody>\n",
       "</table>\n",
       "</div>"
      ],
      "text/plain": [
       "            425 %Al       Butanol       DI55102       DI55152       DI55580  \\\n",
       "count  49239.000000  49239.000000  49239.000000  49239.000000  49239.000000   \n",
       "mean       6.128382      8.938060      0.929931      0.941467      0.997996   \n",
       "std        0.258963      8.759664      0.067055      0.039434      0.049639   \n",
       "min        5.085695      0.361524      0.794570      0.820011      0.845520   \n",
       "25%        5.989670      3.710000      0.892381      0.915246      0.966598   \n",
       "50%        6.131580      5.704607      0.940508      0.937841      0.997425   \n",
       "75%        6.271303     10.096646      0.980741      0.961515      1.032216   \n",
       "max        7.170805     55.772500      1.066724      1.062941      1.131526   \n",
       "\n",
       "            FC42428       FC55003       FC55552       FC55569       FC55576  \\\n",
       "count  49239.000000  49239.000000  49239.000000  49239.000000  49239.000000   \n",
       "mean   35927.743355   5961.207018  36376.905162   6597.603766    370.782576   \n",
       "std     4957.199185    755.225407   3911.714945    354.077661    250.999270   \n",
       "min    17367.337500   3136.851250  19859.750000   5227.756250      0.000000   \n",
       "25%    33975.381250   5490.615000  35271.768750   6379.216250    190.819625   \n",
       "50%    37702.600000   5977.093750  37932.387500   6573.695000    340.938500   \n",
       "75%    39316.200000   6486.138125  38984.393750   6801.608125    524.029688   \n",
       "max    46225.862500   8724.858750  41922.012500   7982.280000   1133.776250   \n",
       "\n",
       "           FFC55553      FFC55555       LC52572       LC55553       LC55555  \\\n",
       "count  49239.000000  49239.000000  49239.000000  49239.000000  49239.000000   \n",
       "mean       0.993808      0.774193     63.062007     63.507380     57.983777   \n",
       "std        0.038780      0.022786      2.379834      6.845503     10.548250   \n",
       "min        0.825233      0.698977     53.960450     42.918213     39.513463   \n",
       "25%        0.970126      0.759779     61.824531     60.054700     49.511819   \n",
       "50%        0.991813      0.778917     63.320400     65.205862     60.034613   \n",
       "75%        1.012375      0.789956     64.904506     68.057325     66.939406   \n",
       "max        1.152818      0.849271     71.429825     78.015237     78.551250   \n",
       "\n",
       "            LC55557       LC55568       LC90366       LC90368       PI55004  \\\n",
       "count  49239.000000  49239.000000  49239.000000  49239.000000  49239.000000   \n",
       "mean      69.791916     41.094421     47.197146     38.307375      2.224342   \n",
       "std        2.972439      1.267912     28.003793     20.202085      1.146045   \n",
       "min       60.445813     32.926262      0.000000      0.118033      0.058151   \n",
       "25%       67.987944     40.835825     23.552054     23.290450      1.306537   \n",
       "50%       70.074462     41.255237     49.845937     43.945575      2.008314   \n",
       "75%       71.955481     41.493594     73.482550     53.481931      2.989508   \n",
       "max       79.127337     48.429475     87.901600     81.156950      6.171575   \n",
       "\n",
       "            PI55020       TC55552       TC55553       TC55555  \n",
       "count  49239.000000  49239.000000  49239.000000  49239.000000  \n",
       "mean      -1.479487    168.734200    182.709401    180.979496  \n",
       "std        1.070333     15.133759     27.420831      1.442948  \n",
       "min       -4.614894    121.490875    131.866500    178.943750  \n",
       "25%       -2.303582    156.098687    163.335125    179.977875  \n",
       "50%       -1.486482    172.376000    176.618875    180.061500  \n",
       "75%       -0.504678    180.775750    200.880063    181.989125  \n",
       "max        1.184724    201.847250    245.420125    186.049250  "
      ]
     },
     "execution_count": 277,
     "metadata": {},
     "output_type": "execute_result"
    }
   ],
   "source": [
    "\n",
    "\n",
    "df_All.describe() #to get summary statistics for numeric columns.\n"
   ]
  },
  {
   "cell_type": "markdown",
   "metadata": {},
   "source": [
    "# Check for Missing Values:"
   ]
  },
  {
   "cell_type": "code",
   "execution_count": 278,
   "metadata": {},
   "outputs": [
    {
     "data": {
      "text/plain": [
       "425 %Al     0\n",
       "Butanol     0\n",
       "DI55102     0\n",
       "DI55152     0\n",
       "DI55580     0\n",
       "FC42428     0\n",
       "FC55003     0\n",
       "FC55552     0\n",
       "FC55569     0\n",
       "FC55576     0\n",
       "FFC55553    0\n",
       "FFC55555    0\n",
       "LC52572     0\n",
       "LC55553     0\n",
       "LC55555     0\n",
       "LC55557     0\n",
       "LC55568     0\n",
       "LC90366     0\n",
       "LC90368     0\n",
       "PI55004     0\n",
       "PI55020     0\n",
       "TC55552     0\n",
       "TC55553     0\n",
       "TC55555     0\n",
       "dtype: int64"
      ]
     },
     "execution_count": 278,
     "metadata": {},
     "output_type": "execute_result"
    }
   ],
   "source": [
    "\n",
    "\n",
    "df_All.isnull().sum() #to check the number of missing values in each column.\n"
   ]
  },
  {
   "cell_type": "markdown",
   "metadata": {},
   "source": [
    "# Correlation Analysis:"
   ]
  },
  {
   "cell_type": "code",
   "execution_count": 279,
   "metadata": {},
   "outputs": [
    {
     "data": {
      "image/png": "[encoded data removed]",
      "text/plain": [
       "<Figure size 640x480 with 2 Axes>"
      ]
     },
     "metadata": {},
     "output_type": "display_data"
    }
   ],
   "source": [
    "correlation_matrix = df_All.corr(numeric_only = True)\n",
    "\n",
    "sns.heatmap(correlation_matrix, annot=False, cmap='coolwarm', fmt=\".2f\")\n",
    "plt.show()\n",
    "# Calculate and visualize correlations between numeric variables using a correlation matrix or heatmap.\n",
    "# Identify strong positive/negative correlations."
   ]
  },
  {
   "cell_type": "code",
   "execution_count": 280,
   "metadata": {},
   "outputs": [
    {
     "data": {
      "image/png": "[encoded data removed]",
      "text/plain": [
       "<Figure size 640x480 with 2 Axes>"
      ]
     },
     "metadata": {},
     "output_type": "display_data"
    }
   ],
   "source": [
    "strong_corr = correlation_matrix[abs(correlation_matrix) > 0.5]\n",
    "\n",
    "sns.heatmap(strong_corr, annot=False, cmap='coolwarm', fmt=\".2f\")\n",
    "plt.show()"
   ]
  },
  {
   "cell_type": "code",
   "execution_count": 281,
   "metadata": {},
   "outputs": [
    {
     "data": {
      "application/vnd.plotly.v1+json": {
       "config": {
        "plotlyServerURL": "https://plot.ly"
       },
       "data": [
        {
         "coloraxis": "coloraxis",
         "hovertemplate": "Features: %{x}<br>Features: %{y}<br>Correlation: %{z}<extra></extra>",
         "name": "0",
         "type": "heatmap",
         "x": [
          "425 %Al",
          "Butanol",
          "DI55102",
          "DI55152",
          "DI55580",
          "FC42428",
          "FC55003",
          "FC55552",
          "FC55569",
          "FC55576",
          "FFC55553",
          "FFC55555",
          "LC52572",
          "LC55553",
          "LC55555",
          "LC55557",
          "LC55568",
          "LC90366",
          "LC90368",
          "PI55004",
          "PI55020",
          "TC55552",
          "TC55553",
          "TC55555"
         ],
         "xaxis": "x",
         "y": [
          "425 %Al",
          "Butanol",
          "DI55102",
          "DI55152",
          "DI55580",
          "FC42428",
          "FC55003",
          "FC55552",
          "FC55569",
          "FC55576",
          "FFC55553",
          "FFC55555",
          "LC52572",
          "LC55553",
          "LC55555",
          "LC55557",
          "LC55568",
          "LC90366",
          "LC90368",
          "PI55004",
          "PI55020",
          "TC55552",
          "TC55553",
          "TC55555"
         ],
         "yaxis": "y",
         "z": [
          [
           1,
           0,
           0,
           0,
           0,
           0,
           0,
           0,
           0,
           0,
           0,
           0,
           0,
           0,
           0,
           0,
           0,
           0,
           0,
           0,
           0,
           0,
           0,
           0
          ],
          [
           0,
           1,
           0,
           0,
           0,
           0,
           0,
           0,
           0,
           0,
           0,
           0,
           0,
           0,
           0,
           0,
           0,
           0,
           0,
           0,
           0,
           0,
           0,
           0
          ],
          [
           0,
           0,
           1,
           0,
           0,
           0,
           0,
           0,
           0,
           0,
           0,
           0,
           0,
           0,
           0,
           0,
           0,
           0,
           0,
           0,
           0,
           0,
           0,
           0
          ],
          [
           0,
           0,
           0,
           1,
           0,
           0,
           0,
           0,
           0,
           0,
           0,
           0,
           0,
           0,
           0,
           0,
           0,
           0,
           0,
           0,
           0,
           0,
           0,
           0
          ],
          [
           0,
           0,
           0,
           0,
           1,
           0,
           0,
           0,
           0,
           0,
           0,
           0,
           0,
           0,
           0,
           0,
           0,
           0,
           0,
           0,
           0,
           0,
           0,
           0
          ],
          [
           0,
           0,
           0,
           0,
           0,
           1,
           0,
           0.7052596946553749,
           0,
           0,
           0,
           0,
           0,
           0,
           0,
           0,
           0,
           0,
           0,
           0,
           0,
           0,
           0,
           0
          ],
          [
           0,
           0,
           0,
           0,
           0,
           0,
           1,
           0,
           0,
           0,
           0,
           0,
           0,
           0,
           0,
           0,
           0,
           0,
           0,
           0,
           0,
           0,
           0,
           0
          ],
          [
           0,
           0,
           0,
           0,
           0,
           0.7052596946553749,
           0,
           1,
           0,
           0,
           0,
           0,
           0,
           0,
           0,
           0,
           0,
           0,
           0,
           0,
           0,
           0,
           0,
           0
          ],
          [
           0,
           0,
           0,
           0,
           0,
           0,
           0,
           0,
           1,
           0,
           0,
           0,
           0,
           0,
           0,
           0,
           0,
           0,
           0,
           0,
           0,
           0,
           0,
           0
          ],
          [
           0,
           0,
           0,
           0,
           0,
           0,
           0,
           0,
           0,
           1,
           0,
           0,
           0,
           0,
           0,
           0,
           0,
           0,
           0,
           0,
           0,
           0,
           0,
           0
          ],
          [
           0,
           0,
           0,
           0,
           0,
           0,
           0,
           0,
           0,
           0,
           1,
           0,
           0,
           0,
           0,
           0,
           0,
           0,
           0,
           0,
           0,
           0,
           0,
           0
          ],
          [
           0,
           0,
           0,
           0,
           0,
           0,
           0,
           0,
           0,
           0,
           0,
           1,
           0,
           0,
           0,
           0,
           0,
           0,
           0,
           0,
           0,
           0,
           0,
           0
          ],
          [
           0,
           0,
           0,
           0,
           0,
           0,
           0,
           0,
           0,
           0,
           0,
           0,
           1,
           0,
           0,
           0,
           0,
           0,
           0,
           0,
           0,
           0,
           0,
           0
          ],
          [
           0,
           0,
           0,
           0,
           0,
           0,
           0,
           0,
           0,
           0,
           0,
           0,
           0,
           1,
           0,
           0,
           0,
           0,
           0,
           0,
           0,
           0,
           0,
           0
          ],
          [
           0,
           0,
           0,
           0,
           0,
           0,
           0,
           0,
           0,
           0,
           0,
           0,
           0,
           0,
           1,
           0,
           0,
           0,
           0,
           0,
           0,
           0,
           0,
           0
          ],
          [
           0,
           0,
           0,
           0,
           0,
           0,
           0,
           0,
           0,
           0,
           0,
           0,
           0,
           0,
           0,
           1,
           0,
           0,
           0,
           0,
           0,
           0,
           0,
           0
          ],
          [
           0,
           0,
           0,
           0,
           0,
           0,
           0,
           0,
           0,
           0,
           0,
           0,
           0,
           0,
           0,
           0,
           1,
           0,
           0,
           0,
           0,
           0,
           0,
           0
          ],
          [
           0,
           0,
           0,
           0,
           0,
           0,
           0,
           0,
           0,
           0,
           0,
           0,
           0,
           0,
           0,
           0,
           0,
           1,
           0,
           0,
           0,
           0,
           0,
           0
          ],
          [
           0,
           0,
           0,
           0,
           0,
           0,
           0,
           0,
           0,
           0,
           0,
           0,
           0,
           0,
           0,
           0,
           0,
           0,
           1,
           0,
           0,
           0,
           0,
           0
          ],
          [
           0,
           0,
           0,
           0,
           0,
           0,
           0,
           0,
           0,
           0,
           0,
           0,
           0,
           0,
           0,
           0,
           0,
           0,
           0,
           1,
           0,
           0,
           0,
           0
          ],
          [
           0,
           0,
           0,
           0,
           0,
           0,
           0,
           0,
           0,
           0,
           0,
           0,
           0,
           0,
           0,
           0,
           0,
           0,
           0,
           0,
           1,
           0,
           0,
           0
          ],
          [
           0,
           0,
           0,
           0,
           0,
           0,
           0,
           0,
           0,
           0,
           0,
           0,
           0,
           0,
           0,
           0,
           0,
           0,
           0,
           0,
           0,
           1,
           0,
           0
          ],
          [
           0,
           0,
           0,
           0,
           0,
           0,
           0,
           0,
           0,
           0,
           0,
           0,
           0,
           0,
           0,
           0,
           0,
           0,
           0,
           0,
           0,
           0,
           1,
           0
          ],
          [
           0,
           0,
           0,
           0,
           0,
           0,
           0,
           0,
           0,
           0,
           0,
           0,
           0,
           0,
           0,
           0,
           0,
           0,
           0,
           0,
           0,
           0,
           0,
           1
          ]
         ]
        }
       ],
       "layout": {
        "coloraxis": {
         "colorbar": {
          "title": {
           "text": "Correlation"
          }
         },
         "colorscale": [
          [
           0,
           "#440154"
          ],
          [
           0.1111111111111111,
           "#482878"
          ],
          [
           0.2222222222222222,
           "#3e4989"
          ],
          [
           0.3333333333333333,
           "#31688e"
          ],
          [
           0.4444444444444444,
           "#26828e"
          ],
          [
           0.5555555555555556,
           "#1f9e89"
          ],
          [
           0.6666666666666666,
           "#35b779"
          ],
          [
           0.7777777777777778,
           "#6ece58"
          ],
          [
           0.8888888888888888,
           "#b5de2b"
          ],
          [
           1,
           "#fde725"
          ]
         ]
        },
        "height": 800,
        "template": {
         "data": {
          "bar": [
           {
            "error_x": {
             "color": "#2a3f5f"
            },
            "error_y": {
             "color": "#2a3f5f"
            },
            "marker": {
             "line": {
              "color": "#E5ECF6",
              "width": 0.5
             },
             "pattern": {
              "fillmode": "overlay",
              "size": 10,
              "solidity": 0.2
             }
            },
            "type": "bar"
           }
          ],
          "barpolar": [
           {
            "marker": {
             "line": {
              "color": "#E5ECF6",
              "width": 0.5
             },
             "pattern": {
              "fillmode": "overlay",
              "size": 10,
              "solidity": 0.2
             }
            },
            "type": "barpolar"
           }
          ],
          "carpet": [
           {
            "aaxis": {
             "endlinecolor": "#2a3f5f",
             "gridcolor": "white",
             "linecolor": "white",
             "minorgridcolor": "white",
             "startlinecolor": "#2a3f5f"
            },
            "baxis": {
             "endlinecolor": "#2a3f5f",
             "gridcolor": "white",
             "linecolor": "white",
             "minorgridcolor": "white",
             "startlinecolor": "#2a3f5f"
            },
            "type": "carpet"
           }
          ],
          "choropleth": [
           {
            "colorbar": {
             "outlinewidth": 0,
             "ticks": ""
            },
            "type": "choropleth"
           }
          ],
          "contour": [
           {
            "colorbar": {
             "outlinewidth": 0,
             "ticks": ""
            },
            "colorscale": [
             [
              0,
              "#0d0887"
             ],
             [
              0.1111111111111111,
              "#46039f"
             ],
             [
              0.2222222222222222,
              "#7201a8"
             ],
             [
              0.3333333333333333,
              "#9c179e"
             ],
             [
              0.4444444444444444,
              "#bd3786"
             ],
             [
              0.5555555555555556,
              "#d8576b"
             ],
             [
              0.6666666666666666,
              "#ed7953"
             ],
             [
              0.7777777777777778,
              "#fb9f3a"
             ],
             [
              0.8888888888888888,
              "#fdca26"
             ],
             [
              1,
              "#f0f921"
             ]
            ],
            "type": "contour"
           }
          ],
          "contourcarpet": [
           {
            "colorbar": {
             "outlinewidth": 0,
             "ticks": ""
            },
            "type": "contourcarpet"
           }
          ],
          "heatmap": [
           {
            "colorbar": {
             "outlinewidth": 0,
             "ticks": ""
            },
            "colorscale": [
             [
              0,
              "#0d0887"
             ],
             [
              0.1111111111111111,
              "#46039f"
             ],
             [
              0.2222222222222222,
              "#7201a8"
             ],
             [
              0.3333333333333333,
              "#9c179e"
             ],
             [
              0.4444444444444444,
              "#bd3786"
             ],
             [
              0.5555555555555556,
              "#d8576b"
             ],
             [
              0.6666666666666666,
              "#ed7953"
             ],
             [
              0.7777777777777778,
              "#fb9f3a"
             ],
             [
              0.8888888888888888,
              "#fdca26"
             ],
             [
              1,
              "#f0f921"
             ]
            ],
            "type": "heatmap"
           }
          ],
          "heatmapgl": [
           {
            "colorbar": {
             "outlinewidth": 0,
             "ticks": ""
            },
            "colorscale": [
             [
              0,
              "#0d0887"
             ],
             [
              0.1111111111111111,
              "#46039f"
             ],
             [
              0.2222222222222222,
              "#7201a8"
             ],
             [
              0.3333333333333333,
              "#9c179e"
             ],
             [
              0.4444444444444444,
              "#bd3786"
             ],
             [
              0.5555555555555556,
              "#d8576b"
             ],
             [
              0.6666666666666666,
              "#ed7953"
             ],
             [
              0.7777777777777778,
              "#fb9f3a"
             ],
             [
              0.8888888888888888,
              "#fdca26"
             ],
             [
              1,
              "#f0f921"
             ]
            ],
            "type": "heatmapgl"
           }
          ],
          "histogram": [
           {
            "marker": {
             "pattern": {
              "fillmode": "overlay",
              "size": 10,
              "solidity": 0.2
             }
            },
            "type": "histogram"
           }
          ],
          "histogram2d": [
           {
            "colorbar": {
             "outlinewidth": 0,
             "ticks": ""
            },
            "colorscale": [
             [
              0,
              "#0d0887"
             ],
             [
              0.1111111111111111,
              "#46039f"
             ],
             [
              0.2222222222222222,
              "#7201a8"
             ],
             [
              0.3333333333333333,
              "#9c179e"
             ],
             [
              0.4444444444444444,
              "#bd3786"
             ],
             [
              0.5555555555555556,
              "#d8576b"
             ],
             [
              0.6666666666666666,
              "#ed7953"
             ],
             [
              0.7777777777777778,
              "#fb9f3a"
             ],
             [
              0.8888888888888888,
              "#fdca26"
             ],
             [
              1,
              "#f0f921"
             ]
            ],
            "type": "histogram2d"
           }
          ],
          "histogram2dcontour": [
           {
            "colorbar": {
             "outlinewidth": 0,
             "ticks": ""
            },
            "colorscale": [
             [
              0,
              "#0d0887"
             ],
             [
              0.1111111111111111,
              "#46039f"
             ],
             [
              0.2222222222222222,
              "#7201a8"
             ],
             [
              0.3333333333333333,
              "#9c179e"
             ],
             [
              0.4444444444444444,
              "#bd3786"
             ],
             [
              0.5555555555555556,
              "#d8576b"
             ],
             [
              0.6666666666666666,
              "#ed7953"
             ],
             [
              0.7777777777777778,
              "#fb9f3a"
             ],
             [
              0.8888888888888888,
              "#fdca26"
             ],
             [
              1,
              "#f0f921"
             ]
            ],
            "type": "histogram2dcontour"
           }
          ],
          "mesh3d": [
           {
            "colorbar": {
             "outlinewidth": 0,
             "ticks": ""
            },
            "type": "mesh3d"
           }
          ],
          "parcoords": [
           {
            "line": {
             "colorbar": {
              "outlinewidth": 0,
              "ticks": ""
             }
            },
            "type": "parcoords"
           }
          ],
          "pie": [
           {
            "automargin": true,
            "type": "pie"
           }
          ],
          "scatter": [
           {
            "fillpattern": {
             "fillmode": "overlay",
             "size": 10,
             "solidity": 0.2
            },
            "type": "scatter"
           }
          ],
          "scatter3d": [
           {
            "line": {
             "colorbar": {
              "outlinewidth": 0,
              "ticks": ""
             }
            },
            "marker": {
             "colorbar": {
              "outlinewidth": 0,
              "ticks": ""
             }
            },
            "type": "scatter3d"
           }
          ],
          "scattercarpet": [
           {
            "marker": {
             "colorbar": {
              "outlinewidth": 0,
              "ticks": ""
             }
            },
            "type": "scattercarpet"
           }
          ],
          "scattergeo": [
           {
            "marker": {
             "colorbar": {
              "outlinewidth": 0,
              "ticks": ""
             }
            },
            "type": "scattergeo"
           }
          ],
          "scattergl": [
           {
            "marker": {
             "colorbar": {
              "outlinewidth": 0,
              "ticks": ""
             }
            },
            "type": "scattergl"
           }
          ],
          "scattermapbox": [
           {
            "marker": {
             "colorbar": {
              "outlinewidth": 0,
              "ticks": ""
             }
            },
            "type": "scattermapbox"
           }
          ],
          "scatterpolar": [
           {
            "marker": {
             "colorbar": {
              "outlinewidth": 0,
              "ticks": ""
             }
            },
            "type": "scatterpolar"
           }
          ],
          "scatterpolargl": [
           {
            "marker": {
             "colorbar": {
              "outlinewidth": 0,
              "ticks": ""
             }
            },
            "type": "scatterpolargl"
           }
          ],
          "scatterternary": [
           {
            "marker": {
             "colorbar": {
              "outlinewidth": 0,
              "ticks": ""
             }
            },
            "type": "scatterternary"
           }
          ],
          "surface": [
           {
            "colorbar": {
             "outlinewidth": 0,
             "ticks": ""
            },
            "colorscale": [
             [
              0,
              "#0d0887"
             ],
             [
              0.1111111111111111,
              "#46039f"
             ],
             [
              0.2222222222222222,
              "#7201a8"
             ],
             [
              0.3333333333333333,
              "#9c179e"
             ],
             [
              0.4444444444444444,
              "#bd3786"
             ],
             [
              0.5555555555555556,
              "#d8576b"
             ],
             [
              0.6666666666666666,
              "#ed7953"
             ],
             [
              0.7777777777777778,
              "#fb9f3a"
             ],
             [
              0.8888888888888888,
              "#fdca26"
             ],
             [
              1,
              "#f0f921"
             ]
            ],
            "type": "surface"
           }
          ],
          "table": [
           {
            "cells": {
             "fill": {
              "color": "#EBF0F8"
             },
             "line": {
              "color": "white"
             }
            },
            "header": {
             "fill": {
              "color": "#C8D4E3"
             },
             "line": {
              "color": "white"
             }
            },
            "type": "table"
           }
          ]
         },
         "layout": {
          "annotationdefaults": {
           "arrowcolor": "#2a3f5f",
           "arrowhead": 0,
           "arrowwidth": 1
          },
          "autotypenumbers": "strict",
          "coloraxis": {
           "colorbar": {
            "outlinewidth": 0,
            "ticks": ""
           }
          },
          "colorscale": {
           "diverging": [
            [
             0,
             "#8e0152"
            ],
            [
             0.1,
             "#c51b7d"
            ],
            [
             0.2,
             "#de77ae"
            ],
            [
             0.3,
             "#f1b6da"
            ],
            [
             0.4,
             "#fde0ef"
            ],
            [
             0.5,
             "#f7f7f7"
            ],
            [
             0.6,
             "#e6f5d0"
            ],
            [
             0.7,
             "#b8e186"
            ],
            [
             0.8,
             "#7fbc41"
            ],
            [
             0.9,
             "#4d9221"
            ],
            [
             1,
             "#276419"
            ]
           ],
           "sequential": [
            [
             0,
             "#0d0887"
            ],
            [
             0.1111111111111111,
             "#46039f"
            ],
            [
             0.2222222222222222,
             "#7201a8"
            ],
            [
             0.3333333333333333,
             "#9c179e"
            ],
            [
             0.4444444444444444,
             "#bd3786"
            ],
            [
             0.5555555555555556,
             "#d8576b"
            ],
            [
             0.6666666666666666,
             "#ed7953"
            ],
            [
             0.7777777777777778,
             "#fb9f3a"
            ],
            [
             0.8888888888888888,
             "#fdca26"
            ],
            [
             1,
             "#f0f921"
            ]
           ],
           "sequentialminus": [
            [
             0,
             "#0d0887"
            ],
            [
             0.1111111111111111,
             "#46039f"
            ],
            [
             0.2222222222222222,
             "#7201a8"
            ],
            [
             0.3333333333333333,
             "#9c179e"
            ],
            [
             0.4444444444444444,
             "#bd3786"
            ],
            [
             0.5555555555555556,
             "#d8576b"
            ],
            [
             0.6666666666666666,
             "#ed7953"
            ],
            [
             0.7777777777777778,
             "#fb9f3a"
            ],
            [
             0.8888888888888888,
             "#fdca26"
            ],
            [
             1,
             "#f0f921"
            ]
           ]
          },
          "colorway": [
           "#636efa",
           "#EF553B",
           "#00cc96",
           "#ab63fa",
           "#FFA15A",
           "#19d3f3",
           "#FF6692",
           "#B6E880",
           "#FF97FF",
           "#FECB52"
          ],
          "font": {
           "color": "#2a3f5f"
          },
          "geo": {
           "bgcolor": "white",
           "lakecolor": "white",
           "landcolor": "#E5ECF6",
           "showlakes": true,
           "showland": true,
           "subunitcolor": "white"
          },
          "hoverlabel": {
           "align": "left"
          },
          "hovermode": "closest",
          "mapbox": {
           "style": "light"
          },
          "paper_bgcolor": "white",
          "plot_bgcolor": "#E5ECF6",
          "polar": {
           "angularaxis": {
            "gridcolor": "white",
            "linecolor": "white",
            "ticks": ""
           },
           "bgcolor": "#E5ECF6",
           "radialaxis": {
            "gridcolor": "white",
            "linecolor": "white",
            "ticks": ""
           }
          },
          "scene": {
           "xaxis": {
            "backgroundcolor": "#E5ECF6",
            "gridcolor": "white",
            "gridwidth": 2,
            "linecolor": "white",
            "showbackground": true,
            "ticks": "",
            "zerolinecolor": "white"
           },
           "yaxis": {
            "backgroundcolor": "#E5ECF6",
            "gridcolor": "white",
            "gridwidth": 2,
            "linecolor": "white",
            "showbackground": true,
            "ticks": "",
            "zerolinecolor": "white"
           },
           "zaxis": {
            "backgroundcolor": "#E5ECF6",
            "gridcolor": "white",
            "gridwidth": 2,
            "linecolor": "white",
            "showbackground": true,
            "ticks": "",
            "zerolinecolor": "white"
           }
          },
          "shapedefaults": {
           "line": {
            "color": "#2a3f5f"
           }
          },
          "ternary": {
           "aaxis": {
            "gridcolor": "white",
            "linecolor": "white",
            "ticks": ""
           },
           "baxis": {
            "gridcolor": "white",
            "linecolor": "white",
            "ticks": ""
           },
           "bgcolor": "#E5ECF6",
           "caxis": {
            "gridcolor": "white",
            "linecolor": "white",
            "ticks": ""
           }
          },
          "title": {
           "x": 0.05
          },
          "xaxis": {
           "automargin": true,
           "gridcolor": "white",
           "linecolor": "white",
           "ticks": "",
           "title": {
            "standoff": 15
           },
           "zerolinecolor": "white",
           "zerolinewidth": 2
          },
          "yaxis": {
           "automargin": true,
           "gridcolor": "white",
           "linecolor": "white",
           "ticks": "",
           "title": {
            "standoff": 15
           },
           "zerolinecolor": "white",
           "zerolinewidth": 2
          }
         }
        },
        "title": {
         "text": "Correlation Matrix"
        },
        "width": 800,
        "xaxis": {
         "anchor": "y",
         "constrain": "domain",
         "domain": [
          0,
          1
         ],
         "scaleanchor": "y",
         "side": "bottom",
         "title": {
          "text": "Features"
         }
        },
        "yaxis": {
         "anchor": "x",
         "autorange": "reversed",
         "constrain": "domain",
         "domain": [
          0,
          1
         ],
         "title": {
          "text": "Features"
         }
        }
       }
      }
     },
     "metadata": {},
     "output_type": "display_data"
    }
   ],
   "source": [
    "threshold = 0.5\n",
    "correlation_matrix = df_All.corr(numeric_only=True)\n",
    "correlation_matrix = correlation_matrix[abs(correlation_matrix) > threshold].fillna(0)\n",
    "\n",
    "\n",
    "\n",
    "fig = px.imshow(correlation_matrix, \n",
    "                color_continuous_scale='Viridis',\n",
    "                labels=dict(x=\"Features\", y=\"Features\", color=\"Correlation\"),\n",
    "                title=\"Correlation Matrix\")\n",
    "\n",
    "fig.update_xaxes(title_text='Features', side='bottom')\n",
    "fig.update_layout(width=800, height=800)\n",
    "\n",
    "fig.show()\n",
    "\n"
   ]
  },
  {
   "cell_type": "code",
   "execution_count": 282,
   "metadata": {},
   "outputs": [],
   "source": [
    "upper_triangle = np.triu(np.ones(correlation_matrix.shape), k=1).astype(bool)\n"
   ]
  },
  {
   "cell_type": "code",
   "execution_count": 283,
   "metadata": {},
   "outputs": [
    {
     "name": "stdout",
     "output_type": "stream",
     "text": [
      "  Pair_ID Variable  Correlation               DESCRIPTION\n",
      "1    c1v2  FC55552      0.70526  ALK FD TO HYDR RX DC-551\n",
      "0    c1v1  FC42428      0.70526  STRIPPED ALKOXIDE TO 658\n"
     ]
    }
   ],
   "source": [
    "# Get indices of upper triangle where correlations are above threshold\n",
    "indices = np.where((np.abs(correlation_matrix) > threshold) & (upper_triangle))\n",
    "\n",
    "# Convert these indices to lists\n",
    "rows, cols = indices[0].tolist(), indices[1].tolist()\n",
    "\n",
    "# Construct pairs and fetch corresponding values 'DESCRIPTION'\n",
    "\n",
    "\n",
    "data = []\n",
    "correlation_id = 1  # Start the unique identifier for each correlation pair\n",
    "\n",
    "for row, col in zip(rows, cols):\n",
    "    # Ensure v1 is always lexicographically smaller than v2\n",
    "    v1, v2 = sorted([correlation_matrix.columns[row], correlation_matrix.columns[col]])\n",
    "    \n",
    "    # Skip if this pair has already been processed\n",
    "    if any(x[1] == v1 and x[2] == v2 for x in data):\n",
    "        continue\n",
    "\n",
    "    correlation_value = correlation_matrix.loc[v1, v2]\n",
    "    \n",
    "    # Fetch other required values for v1\n",
    "    # importance1 = FScore[FScore['Feature'] == v1]['Importance'].values[0] if not FScore[FScore['Feature'] == v1].empty else \"N/A\"\n",
    "    DESCRIPTION1 = TagDesc[TagDesc['ID'] == v1]['DESCRIPTION'].values[0] if not TagDesc[TagDesc['ID'] == v1].empty else \"####### UPDATE DESCRIPTION\"\n",
    "    \n",
    "    # Fetch other required values for v2\n",
    "    # importance2 = FScore[FScore['Feature'] == v2]['Importance'].values[0] if not FScore[FScore['Feature'] == v2].empty else \"N/A\"\n",
    "    DESCRIPTION2 = TagDesc[TagDesc['ID'] == v2]['DESCRIPTION'].values[0] if not TagDesc[TagDesc['ID'] == v2].empty else \"####### UPDATE DESCRIPTION\"\n",
    "    \n",
    "    # Append data for v1 and then v2\n",
    "    data.append(['c' + str(correlation_id) + 'v1', v1, correlation_value, DESCRIPTION1])#, importance1\n",
    "    data.append(['c' + str(correlation_id) + 'v2', v2, correlation_value, DESCRIPTION2])#, importance2\n",
    "    \n",
    "    correlation_id += 1  # Increment the identifier for the next unique correlation pair\n",
    "\n",
    "final_df = pd.DataFrame(data, columns=['Pair_ID', 'Variable', 'Correlation', 'DESCRIPTION'])#, 'Importance',\n",
    "\n",
    "sorted_df = final_df.sort_values(by='Pair_ID', ascending=False)\n",
    "print(sorted_df)\n"
   ]
  },
  {
   "cell_type": "code",
   "execution_count": 284,
   "metadata": {},
   "outputs": [
    {
     "name": "stdout",
     "output_type": "stream",
     "text": [
      "  Pair_ID Variable  Correlation               DESCRIPTION\n",
      "1    c1v2  FC55552      0.70526  ALK FD TO HYDR RX DC-551\n",
      "0    c1v1  FC42428      0.70526  STRIPPED ALKOXIDE TO 658\n"
     ]
    }
   ],
   "source": [
    "sorted_df = final_df.sort_values(by='Variable', ascending=False)\n",
    "print(sorted_df)\n"
   ]
  },
  {
   "cell_type": "code",
   "execution_count": 285,
   "metadata": {},
   "outputs": [],
   "source": [
    "# # Group by the first 3 characters of Pair_ID (i.e., cX) and sort within the groups by Importance\n",
    "# final_df['Group'] = final_df['Pair_ID'].str[:3]\n",
    "# sorted_df = final_df.groupby('Group').apply(lambda x: x.sort_values('Importance', ascending=False)).reset_index(drop=True)\n",
    "\n",
    "# # Drop the temporary 'Group' column\n",
    "# sorted_df.drop('Group', axis=1, inplace=True)\n",
    "\n",
    "# print(sorted_df)\n"
   ]
  },
  {
   "cell_type": "code",
   "execution_count": 286,
   "metadata": {},
   "outputs": [],
   "source": [
    "# sorted_df = final_df.sort_values(by='Importance', ascending=False)\n",
    "# print(sorted_df)"
   ]
  },
  {
   "cell_type": "code",
   "execution_count": 287,
   "metadata": {},
   "outputs": [],
   "source": [
    "# If you want to save df_CDFI to a .csv file:\n",
    "sorted_df.to_csv('sorted_df.csv', index=False)"
   ]
  },
  {
   "cell_type": "markdown",
   "metadata": {},
   "source": [
    "### No CSV Output\n",
    "\n",
    "Next page starts will all data inputs and uses only those below\n",
    "\n",
    "LIMS data lables need to be refomatted to input style or they will be left out"
   ]
  },
  {
   "cell_type": "code",
   "execution_count": 288,
   "metadata": {},
   "outputs": [
    {
     "data": {
      "text/plain": [
       "Index(['425 %Al', 'Butanol', 'DI55102', 'DI55152', 'DI55580', 'FC42428',\n",
       "       'FC55003', 'FC55552', 'FC55569', 'FC55576', 'FFC55553', 'FFC55555',\n",
       "       'LC52572', 'LC55553', 'LC55555', 'LC55557', 'LC55568', 'LC90366',\n",
       "       'LC90368', 'PI55004', 'PI55020', 'TC55552', 'TC55553', 'TC55555'],\n",
       "      dtype='object')"
      ]
     },
     "execution_count": 288,
     "metadata": {},
     "output_type": "execute_result"
    }
   ],
   "source": [
    "df_All.columns\n",
    "# Data Visualization:\n",
    "\n",
    "# Create various plots (histograms, bar charts, scatter plots, etc.) to visualize the distribution of data and relationships between variables.\n",
    "# Use libraries like Matplotlib or Seaborn for data visualization."
   ]
  },
  {
   "cell_type": "code",
   "execution_count": 289,
   "metadata": {},
   "outputs": [
    {
     "name": "stdout",
     "output_type": "stream",
     "text": [
      "Number of features: 24\n"
     ]
    }
   ],
   "source": [
    "num_columns = df_All.shape[1]\n",
    "print(\"Number of features:\", num_columns)"
   ]
  }
 ],
 "metadata": {
  "kernelspec": {
   "display_name": "Python 3",
   "language": "python",
   "name": "python3"
  },
  "language_info": {
   "codemirror_mode": {
    "name": "ipython",
    "version": 3
   },
   "file_extension": ".py",
   "mimetype": "text/x-python",
   "name": "python",
   "nbconvert_exporter": "python",
   "pygments_lexer": "ipython3",
   "version": "3.10.9"
  }
 },
 "nbformat": 4,
 "nbformat_minor": 2
}
