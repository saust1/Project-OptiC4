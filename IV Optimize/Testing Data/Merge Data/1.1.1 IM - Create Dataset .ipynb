{
  "cells": [
    {
      "cell_type": "code",
      "execution_count": 1,
      "metadata": {
        "tags": [],
        "trusted": true
      },
      "outputs": [
        {
          "name": "stderr",
          "output_type": "stream",
          "text": [
            "C:\\Users\\austinsh\\AppData\\Local\\Temp\\ipykernel_16456\\1304120184.py:1: DeprecationWarning: \n",
            "Pyarrow will become a required dependency of pandas in the next major release of pandas (pandas 3.0),\n",
            "(to allow more performant data types, such as the Arrow string type, and better interoperability with other libraries)\n",
            "but was not found to be installed on your system.\n",
            "If this would cause problems for you,\n",
            "please provide us feedback at https://github.com/pandas-dev/pandas/issues/54466\n",
            "        \n",
            "  import pandas as pd\n"
          ]
        }
      ],
      "source": [
        "import pandas as pd\n",
        "# Set max columns to display\n",
        "pd.set_option('display.max_columns', None)\n",
        "\n",
        "import numpy as np\n",
        "from sklearn import preprocessing as pre\n",
        "import matplotlib.pyplot as plt\n",
        "from scipy import stats\n",
        "import statsmodels.api as sm\n",
        "from sklearn.model_selection import train_test_split\n",
        "from sklearn.metrics import mean_squared_error, r2_score\n",
        "\n"
      ]
    },
    {
      "cell_type": "code",
      "execution_count": 2,
      "metadata": {
        "tags": [],
        "trusted": true
      },
      "outputs": [],
      "source": [
        "\n",
        "# # Importing CSV files\n",
        "# df_CDunit = pd.read_csv('https://raw.githubusercontent.com/saust1/Project-OptiC4/main/1%20Preprocess/Continuous%20Data/cont_554Data_clean.csv')\n",
        "# df_AlCon = pd.read_csv('https://raw.githubusercontent.com/saust1/Project-OptiC4/main/1%20Preprocess/Continuous%20Data/cont_425Data_clean.csv')\n",
        "# df_FB554 = pd.read_csv('https://raw.githubusercontent.com/saust1/Project-OptiC4/main/1%20Preprocess/Continuous%20Data/cont_unitData_clean.csv')\n"
      ]
    },
    {
      "cell_type": "code",
      "execution_count": 3,
      "metadata": {},
      "outputs": [],
      "source": [
        "# # Importing CSV files\n",
        "# bordeCode directory\n",
        "df_CDunit = pd.read_csv(r'C:\\Users\\austinsh\\Project-OptiC4\\IV Optimize\\Testing Data\\Continuous Data 2023\\cont_unitData_clean.csv')\n",
        "df_AlCon = pd.read_csv(r'C:\\Users\\austinsh\\Project-OptiC4\\IV Optimize\\Testing Data\\Continuous Data 2023\\cont_425Data_clean.csv')\n",
        "df_FB554 = pd.read_csv(r'C:\\Users\\austinsh\\Project-OptiC4\\IV Optimize\\Testing Data\\Continuous Data 2023\\cont_554Data_clean.csv')\n",
        "\n"
      ]
    },
    {
      "cell_type": "code",
      "execution_count": 4,
      "metadata": {
        "tags": [],
        "trusted": true
      },
      "outputs": [
        {
          "name": "stdout",
          "output_type": "stream",
          "text": [
            "           DI55102      DI55152      DI55580      FC55003      FC55009  \\\n",
            "count  4863.000000  4863.000000  4863.000000  4863.000000  4863.000000   \n",
            "mean      0.825533     1.022945     0.970547  5915.277415  1110.353856   \n",
            "std       0.055241     0.025410     0.036531   704.302443   366.916357   \n",
            "min       0.750013     0.965978     0.873708  3495.310000    59.931500   \n",
            "25%       0.794854     1.001015     0.941198  5447.270000   865.216500   \n",
            "50%       0.794860     1.026990     0.983524  5890.350000  1084.950000   \n",
            "75%       0.862055     1.046290     0.998387  6403.680000  1326.785000   \n",
            "max       0.999487     1.071690     1.030410  8369.130000  2244.140000   \n",
            "\n",
            "            FC55552      FC55569      FC55576     FFC55553     FFC55555  \\\n",
            "count   4863.000000  4863.000000  4863.000000  4863.000000  4863.000000   \n",
            "mean   34708.236973  6521.006597   374.621914     0.918578     0.786579   \n",
            "std     3406.599218   336.992674   189.402749     0.045267     0.013370   \n",
            "min    23523.500000  5477.780000     0.138046     0.796049     0.744077   \n",
            "25%    32989.700000  6308.805000   232.452000     0.889723     0.779083   \n",
            "50%    36027.100000  6442.550000   387.397000     0.920461     0.781080   \n",
            "75%    37448.800000  6727.735000   498.710500     0.950629     0.799594   \n",
            "max    43342.900000  7567.070000   890.725000     1.049780     0.830030   \n",
            "\n",
            "           LC55557      LC90366      LC90368      PI55020      TC55552  \\\n",
            "count  4863.000000  4863.000000  4863.000000  4863.000000  4863.000000   \n",
            "mean     71.191804    58.480030    57.366992    -0.457334   165.665512   \n",
            "std       6.619247    10.558086    11.208154     0.622692    11.251458   \n",
            "min      52.161300    28.690700    28.170900    -2.468400   137.535000   \n",
            "25%      63.094850    50.152950    49.068200    -0.810843   160.038500   \n",
            "50%      74.959200    60.856700    60.383700    -0.325274   164.894000   \n",
            "75%      76.908200    66.593600    65.878000    -0.001736   175.117500   \n",
            "max      82.875700    78.844100    77.101700     1.386530   199.243000   \n",
            "\n",
            "           TI55021  \n",
            "count  4863.000000  \n",
            "mean    225.747036  \n",
            "std       3.420773  \n",
            "min     215.852000  \n",
            "25%     222.839500  \n",
            "50%     226.165000  \n",
            "75%     228.229500  \n",
            "max     235.343000  \n",
            "        425_pct_Al        Al2O3      M_Value   C4_pct_Eth   C4_pct_H2O  \\\n",
            "count  4863.000000  4863.000000  4863.000000  4863.000000  4863.000000   \n",
            "mean      6.222920    11.538166     3.633756     1.802088    18.017181   \n",
            "std       0.267239     0.423523     0.098093     0.393309     1.446226   \n",
            "min       5.014820    10.762400     3.339330     0.554000    13.980000   \n",
            "25%       6.124655    11.198350     3.567620     1.466635    17.014350   \n",
            "50%       6.266540    11.561900     3.626290     1.769500    17.794600   \n",
            "75%       6.378175    11.939900     3.706825     2.014315    18.740600   \n",
            "max       6.865290    12.201500     3.901390     3.047460    22.732800   \n",
            "\n",
            "       HydWtr_pct_Ammonia   C4_pct_Hex  HydWtr_Na2O  \n",
            "count         4863.000000  4863.000000  4863.000000  \n",
            "mean             0.948237     0.378258     1.689323  \n",
            "std              0.115516     0.112933     1.733939  \n",
            "min              0.649250     0.041967     0.000000  \n",
            "25%              0.871500     0.300553     1.060425  \n",
            "50%              0.931875     0.375000     1.676910  \n",
            "75%              1.021615     0.454165     1.884270  \n",
            "max              1.374520     0.673000    24.397300  \n",
            "           Butanol      Decanol      Ethanol      Hexanol      Octanol\n",
            "count  4863.000000  4863.000000  4863.000000  4863.000000  4863.000000\n",
            "mean     13.817716     2.727750    19.764155     1.513835     2.152780\n",
            "std      17.474692     1.502229    21.074383     0.747292     1.138754\n",
            "min       0.900000     0.000000     0.610000     0.000000     0.540000\n",
            "25%       2.186670     1.563330     3.881670     0.955000     1.290000\n",
            "50%       3.980000     2.158330    10.096700     1.210000     1.660000\n",
            "75%      20.658350     3.750000    28.243300     2.060000     3.055000\n",
            "max      74.770000     7.768330    87.580000     3.909320     5.729400\n"
          ]
        }
      ],
      "source": [
        "print(df_CDunit.describe())\n",
        "print(df_AlCon.describe())\n",
        "print(df_FB554.describe())\n"
      ]
    },
    {
      "cell_type": "code",
      "execution_count": 5,
      "metadata": {},
      "outputs": [
        {
          "name": "stdout",
          "output_type": "stream",
          "text": [
            "Data type for 'Date' column in df_CDunit: object\n",
            "Data type for 'Date' column in df_FB554: object\n",
            "Data type for 'Date' column in df_AlCon: object\n"
          ]
        }
      ],
      "source": [
        "print(\"Data type for 'Date' column in df_CDunit:\", df_CDunit['Date'].dtypes)\n",
        "print(\"Data type for 'Date' column in df_FB554:\", df_FB554['Date'].dtypes)\n",
        "print(\"Data type for 'Date' column in df_AlCon:\", df_AlCon['Date'].dtypes)\n"
      ]
    },
    {
      "cell_type": "code",
      "execution_count": 6,
      "metadata": {},
      "outputs": [],
      "source": [
        "df_CDunit['Date'] = pd.to_datetime(df_CDunit['Date'], errors='coerce')\n",
        "df_FB554['Date'] = pd.to_datetime(df_FB554['Date'], errors='coerce')\n",
        "df_AlCon['Date'] = pd.to_datetime(df_AlCon['Date'], errors='coerce')\n"
      ]
    },
    {
      "cell_type": "code",
      "execution_count": 7,
      "metadata": {},
      "outputs": [
        {
          "name": "stdout",
          "output_type": "stream",
          "text": [
            "Data type for 'Date' column in df_CDunit: datetime64[ns]\n",
            "Data type for 'Date' column in df_FB554: datetime64[ns]\n",
            "Data type for 'Date' column in df_AlCon: datetime64[ns]\n"
          ]
        }
      ],
      "source": [
        "print(\"Data type for 'Date' column in df_CDunit:\", df_CDunit['Date'].dtypes)\n",
        "print(\"Data type for 'Date' column in df_FB554:\", df_FB554['Date'].dtypes)\n",
        "print(\"Data type for 'Date' column in df_AlCon:\", df_AlCon['Date'].dtypes)\n"
      ]
    },
    {
      "cell_type": "code",
      "execution_count": 8,
      "metadata": {},
      "outputs": [
        {
          "name": "stdout",
          "output_type": "stream",
          "text": [
            "Index(['Date', 'DI55102', 'DI55152', 'DI55580', 'FC55003', 'FC55009',\n",
            "       'FC55552', 'FC55569', 'FC55576', 'FFC55553', 'FFC55555', 'LC55557',\n",
            "       'LC90366', 'LC90368', 'PI55020', 'TC55552', 'TI55021'],\n",
            "      dtype='object')\n",
            "Index(['Date', 'Butanol', 'Decanol', 'Ethanol', 'Hexanol', 'Octanol'], dtype='object')\n",
            "Index(['Date', '425_pct_Al', 'Al2O3', 'M_Value', 'C4_pct_Eth', 'C4_pct_H2O',\n",
            "       'HydWtr_pct_Ammonia', 'C4_pct_Hex', 'HydWtr_Na2O'],\n",
            "      dtype='object')\n"
          ]
        }
      ],
      "source": [
        "print(df_CDunit.columns)\n",
        "print(df_FB554.columns)\n",
        "print(df_AlCon.columns)\n"
      ]
    },
    {
      "cell_type": "code",
      "execution_count": 9,
      "metadata": {},
      "outputs": [],
      "source": [
        "def apply_rolling_average_to_df(df, rolling_size):\n",
        "    # Ensure 'Date' is the index if it's not already\n",
        "    if df.index.name != 'Date':\n",
        "        df = df.set_index('Date')\n",
        "\n",
        "    # Apply rolling average to all columns\n",
        "    rolled_df = df.rolling(window=rolling_size, min_periods=1).mean()\n",
        "\n",
        "    # Reset index to make 'Date' a column again\n",
        "    rolled_df = rolled_df.reset_index()\n",
        "\n",
        "    return rolled_df\n",
        "\n"
      ]
    },
    {
      "cell_type": "code",
      "execution_count": 10,
      "metadata": {},
      "outputs": [],
      "source": [
        "def apply_time_shift_by_hours(df, shift_hours):\n",
        "    \"\"\"\n",
        "    Shifts the DataFrame's datetime index by the specified number of hours.\n",
        "\n",
        "    :param df: DataFrame with 'Date' as its datetime index or column.\n",
        "    :param shift_hours: Number of hours to shift. Can be positive (forward) or negative (backward).\n",
        "    :return: Shifted DataFrame.\n",
        "    \"\"\"\n",
        "    # Convert 'Date' to datetime and set as index if it's not already\n",
        "    if df.index.name != 'Date':\n",
        "        df['Date'] = pd.to_datetime(df['Date'], errors='coerce')\n",
        "        df = df.set_index('Date')\n",
        "\n",
        "    # Ensure the index is a DatetimeIndex\n",
        "    df.index = pd.to_datetime(df.index)\n",
        "\n",
        "    # Shift the DataFrame's index by the specified number of hours\n",
        "    df.index = df.index + pd.Timedelta(hours=shift_hours)\n",
        "\n",
        "    return df"
      ]
    },
    {
      "cell_type": "code",
      "execution_count": 11,
      "metadata": {},
      "outputs": [],
      "source": [
        "# # Usage Examples\n",
        "# shift_hours_AlCon = 1  # Negative shift for df_AlCon (e.g., -5 hours backward)\n",
        "# shift_hours_FB554 = 5   # Positive shift for df_FB554 (e.g., 5 hours forward)\n",
        "\n",
        "# shifted_df_AlCon = apply_time_shift_by_hours(df_AlCon, shift_hours_AlCon)\n",
        "# print(\"Shifted df_AlCon:\")\n",
        "# print(shifted_df_AlCon.head())\n",
        "\n",
        "# shifted_df_FB554 = apply_time_shift_by_hours(df_FB554, shift_hours_FB554)\n",
        "# print(\"\\nShifted df_FB554:\")\n",
        "# print(shifted_df_FB554.head())"
      ]
    },
    {
      "cell_type": "code",
      "execution_count": 12,
      "metadata": {},
      "outputs": [],
      "source": [
        "def join_df_FB554_to_df_CDunit(df_CDunit, df_FB554):\n",
        "    # Reset index if 'Date' is the index\n",
        "    if df_CDunit.index.name == 'Date':\n",
        "        df_CDunit = df_CDunit.reset_index()\n",
        "    if df_FB554.index.name == 'Date':\n",
        "        df_FB554 = df_FB554.reset_index()\n",
        "\n",
        "    # Ensure 'Date' columns are datetime objects and sort DataFrames\n",
        "    df_CDunit['Date'] = pd.to_datetime(df_CDunit['Date'], errors='coerce')\n",
        "    df_FB554['Date'] = pd.to_datetime(df_FB554['Date'], errors='coerce')\n",
        "\n",
        "    df_CDunit = df_CDunit.dropna(subset=['Date']).sort_values('Date')\n",
        "    df_FB554 = df_FB554.dropna(subset=['Date']).sort_values('Date')\n",
        "\n",
        "    # Perform merge_asof\n",
        "    combined_df = pd.merge_asof(df_FB554, df_CDunit, on='Date', direction='nearest')\n",
        "\n",
        "    return combined_df\n",
        "\n",
        "def join_df_AlCon_to_combined_df(combined_df, df_AlCon):\n",
        "    # Reset index if 'Date' is the index\n",
        "    if combined_df.index.name == 'Date':\n",
        "        combined_df = combined_df.reset_index()\n",
        "    if df_AlCon.index.name == 'Date':\n",
        "        df_AlCon = df_AlCon.reset_index()\n",
        "\n",
        "    # Ensure 'Date' columns are datetime objects and sort DataFrames\n",
        "    combined_df['Date'] = pd.to_datetime(combined_df['Date'], errors='coerce')\n",
        "    df_AlCon['Date'] = pd.to_datetime(df_AlCon['Date'], errors='coerce')\n",
        "\n",
        "    combined_df = combined_df.dropna(subset=['Date']).sort_values('Date')\n",
        "    df_AlCon = df_AlCon.dropna(subset=['Date']).sort_values('Date')\n",
        "\n",
        "    # Perform merge_asof\n",
        "    combined_df_all = pd.merge_asof(df_AlCon, combined_df, on='Date', direction='nearest')\n",
        "    \n",
        "    return combined_df_all\n"
      ]
    },
    {
      "cell_type": "code",
      "execution_count": 13,
      "metadata": {},
      "outputs": [
        {
          "name": "stdout",
          "output_type": "stream",
          "text": [
            "Data type for 'Date' column in df_CDunit: datetime64[ns]\n",
            "Data type for 'Date' column in df_FB554: datetime64[ns]\n",
            "Data type for 'Date' column in df_AlCon: datetime64[ns]\n"
          ]
        }
      ],
      "source": [
        "print(\"Data type for 'Date' column in df_CDunit:\", df_CDunit['Date'].dtypes)\n",
        "print(\"Data type for 'Date' column in df_FB554:\", df_FB554['Date'].dtypes)\n",
        "print(\"Data type for 'Date' column in df_AlCon:\", df_AlCon['Date'].dtypes)\n",
        "\n"
      ]
    },
    {
      "cell_type": "code",
      "execution_count": 14,
      "metadata": {},
      "outputs": [],
      "source": [
        "def process_data_limited():\n",
        "    # Apply the specific rolling average directly\n",
        "    rolled_df_CDunit = apply_rolling_average_to_df(df_CDunit, 8)\n",
        "    rolled_df_FB554 = apply_rolling_average_to_df(df_FB554, 4)\n",
        "    rolled_df_AlCon = apply_rolling_average_to_df(df_AlCon, 2)\n",
        "\n",
        "    # Apply the specific time shifts directly\n",
        "    rolled_df_AlCon_shifted = apply_time_shift_by_hours(rolled_df_AlCon, -1) # Assuming apply_time_shift_by_hours handles negative shifts correctly\n",
        "    rolled_df_FB554_shifted = apply_time_shift_by_hours(rolled_df_FB554, 1)\n",
        "\n",
        "    # Combine df_CDunit and df_FB554 to create combined_df\n",
        "    combined_df = join_df_FB554_to_df_CDunit(rolled_df_CDunit, rolled_df_FB554_shifted)\n",
        "\n",
        "    # Combine combined_df with rolled_df_AlCon to create combined_df_all\n",
        "    combined_df_all = join_df_AlCon_to_combined_df(combined_df, rolled_df_AlCon_shifted)\n",
        "\n",
        "    # At this point, combined_df_all is the DataFrame with the data processed by the specified shifts and averages\n",
        "    return combined_df_all\n"
      ]
    },
    {
      "cell_type": "code",
      "execution_count": 15,
      "metadata": {},
      "outputs": [
        {
          "name": "stdout",
          "output_type": "stream",
          "text": [
            "                 Date  425_pct_Al     Al2O3   M_Value  C4_pct_Eth  C4_pct_H2O  \\\n",
            "0 2023-01-01 03:00:00    6.159550  10.76240  3.901390    2.077530    21.50120   \n",
            "1 2023-01-01 09:00:00    6.159750  10.76285  3.893505    2.123750    21.55375   \n",
            "2 2023-01-01 10:00:00    6.159985  10.76340  3.884305    2.177670    21.61510   \n",
            "3 2023-01-01 18:00:00    6.160285  10.76415  3.843085    2.246995    21.69400   \n",
            "4 2023-01-01 23:00:00    6.160715  10.76520  3.772120    2.347140    21.80795   \n",
            "\n",
            "   HydWtr_pct_Ammonia  C4_pct_Hex  HydWtr_Na2O   Butanol   Decanol    Ethanol  \\\n",
            "0            1.229850    0.387521     3.528950  3.268330  1.755000  12.803300   \n",
            "1            1.212805    0.399834     3.239975  3.569165  1.614165  13.817500   \n",
            "2            1.190910    0.414198     2.880790  3.569165  1.614165  13.817500   \n",
            "3            1.147270    0.432667     2.248915  3.674583  1.750417  14.145400   \n",
            "4            1.084235    0.459344     1.336206  3.675000  1.855417  13.964575   \n",
            "\n",
            "    Hexanol   Octanol   DI55102   DI55152   DI55580      FC55003   FC55009  \\\n",
            "0  0.955000  1.131670  0.794854  1.036050  1.025130  6004.100000  1548.140   \n",
            "1  0.960834  1.052501  0.794854  1.036240  1.025323  5205.556667  1186.100   \n",
            "2  0.960834  1.052501  0.794854  1.036240  1.025323  5205.556667  1186.100   \n",
            "3  1.007082  1.129586  0.794854  1.036412  1.025825  5154.950000  1256.780   \n",
            "4  1.055832  1.200418  0.794854  1.036742  1.026116  5322.356000  1329.426   \n",
            "\n",
            "        FC55552   FC55569   FC55576  FFC55553  FFC55555    LC55557    LC90366  \\\n",
            "0  37103.500000  6348.740  3.615110  0.900075  0.768297  66.293000  55.829200   \n",
            "1  37025.766667  6346.200  5.432285  0.913374  0.770656  66.084333  55.331633   \n",
            "2  37025.766667  6346.200  5.432285  0.913374  0.770656  66.084333  55.331633   \n",
            "3  37021.525000  6349.200  8.516539  0.912495  0.770907  66.056000  55.008975   \n",
            "4  37012.960000  6348.614  7.042021  0.911921  0.770362  66.066580  54.647740   \n",
            "\n",
            "     LC90368   PI55020     TC55552     TI55021  \n",
            "0  55.811500 -1.065310  169.012000  223.161000  \n",
            "1  55.368433 -1.055726  169.252333  222.737333  \n",
            "2  55.368433 -1.055726  169.252333  222.737333  \n",
            "3  55.024700 -1.105172  169.469000  222.352500  \n",
            "4  54.650880 -1.195370  169.571000  222.047200  \n"
          ]
        }
      ],
      "source": [
        "# Make sure all your helper functions and initial DataFrames (df_CDunit, df_FB554, df_AlCon) are correctly defined\n",
        "\n",
        "# Now, call the modified process_data function to get the processed DataFrame\n",
        "final_dataset = process_data_limited()\n",
        "\n",
        "# Inspect the final_dataset\n",
        "print(final_dataset.head())  # Print the first few rows to inspect the dataset\n"
      ]
    },
    {
      "cell_type": "code",
      "execution_count": 16,
      "metadata": {},
      "outputs": [
        {
          "name": "stdout",
          "output_type": "stream",
          "text": [
            "                                Date   425_pct_Al        Al2O3      M_Value  \\\n",
            "count                           4863  4863.000000  4863.000000  4863.000000   \n",
            "mean   2023-07-18 16:10:46.267736064     6.222890    11.538018     3.633789   \n",
            "min              2023-01-01 03:00:00     5.020410    10.762400     3.340825   \n",
            "25%              2023-04-22 19:00:00     6.124507    11.198225     3.567775   \n",
            "50%              2023-07-24 21:00:00     6.266860    11.561850     3.626065   \n",
            "75%              2023-10-29 15:30:00     6.378610    11.939825     3.706710   \n",
            "max              2023-12-31 22:00:00     6.850010    12.201400     3.901390   \n",
            "std                              NaN     0.266864     0.423541     0.097989   \n",
            "\n",
            "        C4_pct_Eth   C4_pct_H2O  HydWtr_pct_Ammonia   C4_pct_Hex  HydWtr_Na2O  \\\n",
            "count  4863.000000  4863.000000         4863.000000  4863.000000  4863.000000   \n",
            "mean      1.802102    18.017469            0.948256     0.378261     1.689514   \n",
            "min       0.565000    13.995000            0.653169     0.042287     0.000000   \n",
            "25%       1.466838    17.014225            0.871547     0.300427     1.062673   \n",
            "50%       1.769575    17.800200            0.931711     0.375172     1.679105   \n",
            "75%       2.014327    18.745375            1.020632     0.454056     1.884772   \n",
            "max       3.045115    22.718500            1.368775     0.672360    24.214600   \n",
            "std       0.393184     1.441296            0.115171     0.112879     1.725531   \n",
            "\n",
            "           Butanol      Decanol      Ethanol      Hexanol      Octanol  \\\n",
            "count  4863.000000  4863.000000  4863.000000  4863.000000  4863.000000   \n",
            "mean     13.928301     2.731687    19.804682     1.515900     2.155129   \n",
            "min       0.915417     0.236667     0.675417     0.382500     0.577917   \n",
            "25%       2.204166     1.565000     3.945417     0.957500     1.293541   \n",
            "50%       4.099168     2.170000    10.310000     1.215000     1.666667   \n",
            "75%      20.968537     3.776457    28.405625     2.068750     3.063750   \n",
            "max      72.060425     7.683750    86.855000     3.765000     5.607500   \n",
            "std      17.315615     1.491233    20.970677     0.742988     1.133283   \n",
            "\n",
            "           DI55102      DI55152      DI55580      FC55003      FC55009  \\\n",
            "count  4863.000000  4863.000000  4863.000000  4863.000000  4863.000000   \n",
            "mean      0.825497     1.022949     0.970579  5914.217326  1110.244491   \n",
            "min       0.750019     0.966412     0.881688  3877.890000    61.518175   \n",
            "25%       0.794854     1.001092     0.941028  5479.241250   883.497938   \n",
            "50%       0.794859     1.027056     0.983864  5859.160000  1083.701375   \n",
            "75%       0.862050     1.046182     0.998389  6392.133750  1321.758125   \n",
            "max       0.999251     1.065310     1.027066  7978.512500  2184.681250   \n",
            "std       0.054841     0.025341     0.036463   639.105569   345.426984   \n",
            "\n",
            "            FC55552      FC55569      FC55576     FFC55553     FFC55555  \\\n",
            "count   4863.000000  4863.000000  4863.000000  4863.000000  4863.000000   \n",
            "mean   34704.047501  6520.384046   374.604484     0.918552     0.786572   \n",
            "min    24820.162500  5496.946250     2.599191     0.818402     0.759255   \n",
            "25%    32984.243750  6310.682500   233.910562     0.889976     0.779434   \n",
            "50%    35995.137500  6438.708750   387.177500     0.920250     0.780445   \n",
            "75%    37422.412500  6725.718125   496.905438     0.950398     0.799761   \n",
            "max    38991.037500  7556.065000   831.366625     1.020693     0.824664   \n",
            "std     3317.370726   331.472825   186.549316     0.044702     0.013071   \n",
            "\n",
            "           LC55557      LC90366      LC90368      PI55020      TC55552  \\\n",
            "count  4863.000000  4863.000000  4863.000000  4863.000000  4863.000000   \n",
            "mean     71.200291    58.488584    57.379232    -0.457583   165.666667   \n",
            "min      59.133813    33.763000    28.541313    -2.326252   137.881750   \n",
            "25%      63.016500    50.247619    49.088600    -0.784764   160.101437   \n",
            "50%      74.918475    60.831375    60.366825    -0.309474   164.913875   \n",
            "75%      76.859131    66.618650    65.869563    -0.022586   175.211625   \n",
            "max      80.088975    78.601937    76.573538     0.564246   188.672500   \n",
            "std       6.541713    10.481267    11.140409     0.554251    11.163375   \n",
            "\n",
            "           TI55021  \n",
            "count  4863.000000  \n",
            "mean    225.741677  \n",
            "min     218.812875  \n",
            "25%     222.838188  \n",
            "50%     226.273250  \n",
            "75%     228.144000  \n",
            "max     234.588625  \n",
            "std       3.300229  \n"
          ]
        }
      ],
      "source": [
        "# Inspect the final_dataset\n",
        "print(final_dataset.describe())  # Print the first few rows to inspect the dataset"
      ]
    },
    {
      "cell_type": "code",
      "execution_count": 17,
      "metadata": {},
      "outputs": [
        {
          "name": "stdout",
          "output_type": "stream",
          "text": [
            "Year\n",
            "2023    4863\n",
            "Name: count, dtype: int64\n"
          ]
        }
      ],
      "source": [
        "import pandas as pd\n",
        "\n",
        "# Assuming the 'Date' column is a string, you can extract the year using the str accessor\n",
        "# final_dataset['Year'] = final_dataset['Date'].str[:4]\n",
        "\n",
        "# Alternatively, if the 'Date' column is already a datetime object, you can extract the year directly\n",
        "final_dataset['Year'] = final_dataset['Date'].dt.year\n",
        "\n",
        "# Now count the records for each year\n",
        "record_counts_by_year = final_dataset['Year'].value_counts().sort_index()\n",
        "\n",
        "# Output the results\n",
        "print(record_counts_by_year)\n"
      ]
    },
    {
      "cell_type": "code",
      "execution_count": 18,
      "metadata": {},
      "outputs": [],
      "source": [
        "# Save DataFrame to CSV file in the same directory as the Jupyter Notebook\n",
        "# model_results.to_csv('merged_data'.csv', index=False)\n",
        "                     \n",
        "# Save DataFrame to CSV file in the same directory as the Jupyter Notebook\n",
        "# df_CD.to_csv(r'C:\\Users\\steve\\OneDrive\\1. BAIUTEK\\Project-OptiC4\\1 Preprocess\\Continuous Data\\contData_all.csv', index=False)            \n",
        "\n",
        "final_dataset.to_csv(r'C:\\Users\\austinsh\\Project-OptiC4\\IV Optimize\\Testing Data\\Continuous Data 2023\\merged_data.csv', index=False)\n"
      ]
    },
    {
      "cell_type": "code",
      "execution_count": 19,
      "metadata": {},
      "outputs": [
        {
          "name": "stdout",
          "output_type": "stream",
          "text": [
            "2024-05-07 02:05:11.778789\n"
          ]
        }
      ],
      "source": [
        "from datetime import datetime\n",
        "\n",
        "# Get the current date and time\n",
        "current_date_time = datetime.now()\n",
        "\n",
        "# Print the current date and time\n",
        "print(current_date_time)\n"
      ]
    }
  ],
  "metadata": {
    "kernelspec": {
      "display_name": "base",
      "language": "python",
      "name": "python3"
    },
    "language_info": {
      "codemirror_mode": {
        "name": "ipython",
        "version": 3
      },
      "file_extension": ".py",
      "mimetype": "text/x-python",
      "name": "python",
      "nbconvert_exporter": "python",
      "pygments_lexer": "ipython3",
      "version": "3.12.1"
    }
  },
  "nbformat": 4,
  "nbformat_minor": 4
}
