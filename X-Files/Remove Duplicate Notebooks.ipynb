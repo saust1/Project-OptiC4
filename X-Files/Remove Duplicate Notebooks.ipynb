{
 "cells": [
  {
   "cell_type": "code",
   "execution_count": 1,
   "metadata": {},
   "outputs": [],
   "source": [
    "import os\n",
    "import json\n",
    "\n",
    "def read_notebook(path):\n",
    "    with open(path, 'r', encoding='utf-8') as file:\n",
    "        return json.load(file)\n",
    "\n",
    "def check_duplicates(root_directory):\n",
    "    notebooks = {}\n",
    "    duplicates = []\n",
    "\n",
    "    for directory, _, files in os.walk(root_directory):\n",
    "        for filename in files:\n",
    "            if filename.endswith('.ipynb'):\n",
    "                path = os.path.join(directory, filename)\n",
    "                notebook_content = read_notebook(path)\n",
    "                content_hash = hash(str(notebook_content))  # Simple hashing\n",
    "\n",
    "                if content_hash in notebooks:\n",
    "                    duplicates.append((notebooks[content_hash], path))\n",
    "                else:\n",
    "                    notebooks[content_hash] = path\n",
    "\n",
    "    return duplicates\n",
    "\n",
    "root_directory = (r\"C:\\Users\\saust\\OneDrive - Sasol\\1 Project rC4\\Jupyter Notebooks\\1 - Previous\\1 Preprocess\")\n",
    "duplicates = check_duplicates(root_directory)\n",
    "\n",
    "for dup in duplicates:\n",
    "    print(f\"Duplicate notebooks: {dup[0]} and {dup[1]}\")\n"
   ]
  },
  {
   "cell_type": "code",
   "execution_count": 8,
   "metadata": {},
   "outputs": [
    {
     "name": "stdout",
     "output_type": "stream",
     "text": [
      "Deleted duplicate notebook: C:\\Users\\saust\\OneDrive - Sasol\\1 Project rC4\\Jupyter Notebooks\\0 - Current\\1 Preprocess\\Merge Data\\3.0.0 PreprocessingMD.ipynb\n",
      "Deleted duplicate notebook: C:\\Users\\saust\\OneDrive - Sasol\\1 Project rC4\\Jupyter Notebooks\\0 - Current\\1 Preprocess\\Merge Data\\3.1.0 PreprocessingMD.ipynb\n",
      "Deleted duplicate notebook: C:\\Users\\saust\\OneDrive - Sasol\\1 Project rC4\\Jupyter Notebooks\\0 - Current\\2 EDA\\1.1.2 FSPreCD - QPlots.ipynb\n",
      "Deleted duplicate notebook: C:\\Users\\saust\\OneDrive - Sasol\\1 Project rC4\\Jupyter Notebooks\\0 - Current\\4 Model Selection\\4.0.0  Iterative Multiple Regression.ipynb\n",
      "Deleted duplicate notebook: C:\\Users\\saust\\OneDrive - Sasol\\1 Project rC4\\Jupyter Notebooks\\1 - Previous\\1 Preprocess\\Original Down sample - ProjectrC4\\stby3.0.0 PreprocessingMD copy.ipynb\n",
      "Deleted duplicate notebook: C:\\Users\\saust\\OneDrive - Sasol\\1 Project rC4\\Jupyter Notebooks\\1 - Previous\\1 Preprocess\\Original Down sample - ProjectrC4\\x3.1.0 PreprocessingMD.ipynb\n",
      "Deleted duplicate notebook: C:\\Users\\saust\\OneDrive - Sasol\\1 Project rC4\\Jupyter Notebooks\\1 - Previous\\3 Feature Selection\\3.x.x .ipynb\n",
      "Deleted duplicate notebook: C:\\Users\\saust\\OneDrive - Sasol\\1 Project rC4\\Jupyter Notebooks\\1 - Previous\\4 Model Selection\\7.0.0 Iterative Multiple Regression (2).ipynb\n",
      "Deleted duplicate notebook: C:\\Users\\saust\\OneDrive - Sasol\\1 Project rC4\\Jupyter Notebooks\\1 - Previous\\4 Model Selection\\7.2.1 GB -  XGB (2).ipynb\n",
      "Deleted duplicate notebook: C:\\Users\\saust\\OneDrive - Sasol\\1 Project rC4\\Jupyter Notebooks\\1 - Previous\\7  API\\8.0.0 API - GB -  XGB.ipynb\n",
      "Deleted duplicate notebook: C:\\Users\\saust\\OneDrive - Sasol\\1 Project rC4\\Jupyter Notebooks\\1 - Previous\\7  API\\8.0.0 API Request - GB -  XGB (2).ipynb\n",
      "Deleted duplicate notebook: C:\\Users\\saust\\OneDrive - Sasol\\1 Project rC4\\Jupyter Notebooks\\1 - Previous\\9 Miscelaneous\\9 - 7.0.0 Multiple Regression Iteration All.ipynb\n",
      "Deleted duplicate notebook: C:\\Users\\saust\\OneDrive - Sasol\\1 Project rC4\\Jupyter Notebooks\\1 - Previous\\9 Miscelaneous\\z1.0.6 --- Temperal Dependency.ipynb\n"
     ]
    },
    {
     "data": {
      "text/plain": [
       "['C:\\\\Users\\\\saust\\\\OneDrive - Sasol\\\\1 Project rC4\\\\Jupyter Notebooks\\\\0 - Current\\\\1 Preprocess\\\\Merge Data\\\\3.0.0 PreprocessingMD.ipynb',\n",
       " 'C:\\\\Users\\\\saust\\\\OneDrive - Sasol\\\\1 Project rC4\\\\Jupyter Notebooks\\\\0 - Current\\\\1 Preprocess\\\\Merge Data\\\\3.1.0 PreprocessingMD.ipynb',\n",
       " 'C:\\\\Users\\\\saust\\\\OneDrive - Sasol\\\\1 Project rC4\\\\Jupyter Notebooks\\\\0 - Current\\\\2 EDA\\\\1.1.2 FSPreCD - QPlots.ipynb',\n",
       " 'C:\\\\Users\\\\saust\\\\OneDrive - Sasol\\\\1 Project rC4\\\\Jupyter Notebooks\\\\0 - Current\\\\4 Model Selection\\\\4.0.0  Iterative Multiple Regression.ipynb',\n",
       " 'C:\\\\Users\\\\saust\\\\OneDrive - Sasol\\\\1 Project rC4\\\\Jupyter Notebooks\\\\1 - Previous\\\\1 Preprocess\\\\Original Down sample - ProjectrC4\\\\stby3.0.0 PreprocessingMD copy.ipynb',\n",
       " 'C:\\\\Users\\\\saust\\\\OneDrive - Sasol\\\\1 Project rC4\\\\Jupyter Notebooks\\\\1 - Previous\\\\1 Preprocess\\\\Original Down sample - ProjectrC4\\\\x3.1.0 PreprocessingMD.ipynb',\n",
       " 'C:\\\\Users\\\\saust\\\\OneDrive - Sasol\\\\1 Project rC4\\\\Jupyter Notebooks\\\\1 - Previous\\\\3 Feature Selection\\\\3.x.x .ipynb',\n",
       " 'C:\\\\Users\\\\saust\\\\OneDrive - Sasol\\\\1 Project rC4\\\\Jupyter Notebooks\\\\1 - Previous\\\\4 Model Selection\\\\7.0.0 Iterative Multiple Regression (2).ipynb',\n",
       " 'C:\\\\Users\\\\saust\\\\OneDrive - Sasol\\\\1 Project rC4\\\\Jupyter Notebooks\\\\1 - Previous\\\\4 Model Selection\\\\7.2.1 GB -  XGB (2).ipynb',\n",
       " 'C:\\\\Users\\\\saust\\\\OneDrive - Sasol\\\\1 Project rC4\\\\Jupyter Notebooks\\\\1 - Previous\\\\7  API\\\\8.0.0 API - GB -  XGB.ipynb',\n",
       " 'C:\\\\Users\\\\saust\\\\OneDrive - Sasol\\\\1 Project rC4\\\\Jupyter Notebooks\\\\1 - Previous\\\\7  API\\\\8.0.0 API Request - GB -  XGB (2).ipynb',\n",
       " 'C:\\\\Users\\\\saust\\\\OneDrive - Sasol\\\\1 Project rC4\\\\Jupyter Notebooks\\\\1 - Previous\\\\9 Miscelaneous\\\\9 - 7.0.0 Multiple Regression Iteration All.ipynb',\n",
       " 'C:\\\\Users\\\\saust\\\\OneDrive - Sasol\\\\1 Project rC4\\\\Jupyter Notebooks\\\\1 - Previous\\\\9 Miscelaneous\\\\z1.0.6 --- Temperal Dependency.ipynb']"
      ]
     },
     "execution_count": 8,
     "metadata": {},
     "output_type": "execute_result"
    }
   ],
   "source": [
    "import os\n",
    "import json\n",
    "import shutil\n",
    "\n",
    "def read_notebook(path):\n",
    "    with open(path, 'r', encoding='utf-8') as file:\n",
    "        return json.load(file)\n",
    "\n",
    "def delete_duplicates(root_directory):\n",
    "    notebooks = {}\n",
    "    duplicates = []\n",
    "\n",
    "    for directory, _, files in os.walk(root_directory):\n",
    "        for filename in files:\n",
    "            if filename.endswith('.ipynb'):\n",
    "                path = os.path.join(directory, filename)\n",
    "                notebook_content = read_notebook(path)\n",
    "                content_hash = hash(str(notebook_content))  # Simple hashing\n",
    "\n",
    "                if content_hash in notebooks:\n",
    "                    duplicates.append(path)\n",
    "                    os.remove(path)  # Delete the duplicate file\n",
    "                    print(f\"Deleted duplicate notebook: {path}\")\n",
    "                else:\n",
    "                    notebooks[content_hash] = path\n",
    "\n",
    "    return duplicates\n",
    "\n",
    "root_directory = (r\"C:\\Users\\saust\\OneDrive - Sasol\\1 Project rC4\\Jupyter Notebooks\")\n",
    "delete_duplicates(root_directory)\n"
   ]
  }
 ],
 "metadata": {
  "kernelspec": {
   "display_name": "base",
   "language": "python",
   "name": "python3"
  },
  "language_info": {
   "codemirror_mode": {
    "name": "ipython",
    "version": 3
   },
   "file_extension": ".py",
   "mimetype": "text/x-python",
   "name": "python",
   "nbconvert_exporter": "python",
   "pygments_lexer": "ipython3",
   "version": "3.10.9"
  }
 },
 "nbformat": 4,
 "nbformat_minor": 2
}
