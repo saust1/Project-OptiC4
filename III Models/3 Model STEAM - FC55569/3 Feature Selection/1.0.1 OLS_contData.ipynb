{
  "cells": [
    {
      "cell_type": "code",
      "execution_count": 13,
      "metadata": {
        "tags": [],
        "trusted": true
      },
      "outputs": [],
      "source": [
        "# Import necessary libraries\n",
        "import pandas as pd\n",
        "from statsmodels.formula.api import ols\n",
        "import statsmodels.api as sm\n",
        "from sklearn.model_selection import train_test_split"
      ]
    },
    {
      "cell_type": "code",
      "execution_count": 14,
      "metadata": {},
      "outputs": [],
      "source": [
        "# url_df_All_1 = 'https://github.com/saust1/Project-OptiC4/blob/e358d5172ac0b8fbb6fba776c0fe0a2b523b8b5c/3%20Feature%20Selection/contData_all_Avg%20-%201o2.csv?raw=true'\n",
        "# url_df_All_2 = 'https://github.com/saust1/Project-OptiC4/blob/e358d5172ac0b8fbb6fba776c0fe0a2b523b8b5c/3%20Feature%20Selection/contData_all_Avg%20-%202o2.csv?raw=true'\n",
        "\n",
        "# df_All_1 = pd.read_csv(url_df_All_1, index_col=0)\n",
        "# df_All_2 = pd.read_csv(url_df_All_2, index_col=0)"
      ]
    },
    {
      "cell_type": "code",
      "execution_count": 15,
      "metadata": {},
      "outputs": [],
      "source": [
        "# df_All_1 = pd.read_csv(r'C:\\Users\\saust\\OneDrive\\Desktop\\GitRepo\\Project-OptiC4\\1 Preprocess\\Merge Data\\contData_all_Avg_1o2.csv')\n",
        "# df_All_2 = pd.read_csv(r'C:\\Users\\saust\\OneDrive\\Desktop\\GitRepo\\Project-OptiC4\\1 Preprocess\\Merge Data\\contData_all_Avg_2o2.csv')\n",
        "# # Concatenate (union) the dataframes\n",
        "# df_All = pd.concat([df_All_1, df_All_2], ignore_index=True)\n",
        "\n",
        "# print(df_All.head())"
      ]
    },
    {
      "cell_type": "code",
      "execution_count": 16,
      "metadata": {},
      "outputs": [
        {
          "name": "stdout",
          "output_type": "stream",
          "text": [
            "                  Date  425_pct_Al     Al2O3  M_Value  C4_pct_Eth  C4_pct_H2O  \\\n",
            "0  2012-05-17 09:00:00    6.319560  11.41670  3.50773    2.554580     22.0531   \n",
            "1  2012-05-17 10:00:00    6.319915  11.40835  3.50797    2.555935     22.0557   \n",
            "2  2012-05-17 12:00:00    6.320970  11.39165  3.50869    2.560005     22.0636   \n",
            "3  2012-05-18 08:00:00    6.328690  11.39165  3.51401    2.540370     22.0604   \n",
            "4  2012-05-18 09:00:00    6.336060  11.40500  3.51910    2.514430     22.0484   \n",
            "\n",
            "   HydWtr_pct_Ammonia  C4_pct_Hex  HydWtr_Na2O  Decanol   DI55102   DI55152  \\\n",
            "0            0.867508    0.670721     3.354160  1.03026  0.965043  0.924515   \n",
            "1            0.864729    0.671059     3.306475  1.03026  0.965043  0.924515   \n",
            "2            0.856391    0.672071     3.163420  1.06326  0.965043  0.924515   \n",
            "3            0.811652    0.674174     2.238130  1.51850  0.971625  0.933431   \n",
            "4            0.773793    0.675408     1.391475  1.51850  0.971625  0.933431   \n",
            "\n",
            "    DI55580   FC55003    FC55009   FC55552   FC55569  FC55576  FFC55553  \\\n",
            "0  1.014885  5308.885  1182.3935  40409.25  6924.645  322.177  1.049540   \n",
            "1  1.014885  5308.885  1182.3935  40409.25  6924.645  322.177  1.049540   \n",
            "2  1.014885  5308.885  1182.3935  40409.25  6924.645  322.177  1.049540   \n",
            "3  1.015146  5297.320   966.1866  40866.28  6918.194  329.701  1.050092   \n",
            "4  1.015146  5297.320   966.1866  40866.28  6918.194  329.701  1.050092   \n",
            "\n",
            "   FFC55555   LC52572   LC55553   LC55557   LC55568    LC90366   LC90368  \\\n",
            "0  0.751183  66.52320  62.92105  66.31395  40.25250  15.449150  49.26750   \n",
            "1  0.751183  66.52320  62.92105  66.31395  40.25250  15.449150  49.26750   \n",
            "2  0.751183  66.52320  62.92105  66.31395  40.25250  15.449150  49.26750   \n",
            "3  0.764579  66.50016  62.23534  65.92560  39.88364   8.759814  48.51306   \n",
            "4  0.764579  66.50016  62.23534  65.92560  39.88364   8.759814  48.51306   \n",
            "\n",
            "    PI55004   PI55020   TC55552   TC55555   TI40050   TI55021  \n",
            "0  1.236360 -0.389406  179.0115  179.9940  82.96565  213.8740  \n",
            "1  1.236360 -0.389406  179.0115  179.9940  82.96565  213.8740  \n",
            "2  1.236360 -0.389406  179.0115  179.9940  82.96565  213.8740  \n",
            "3  1.190342 -0.318266  180.7166  179.9338  82.41662  214.5402  \n",
            "4  1.190342 -0.318266  180.7166  179.9338  82.41662  214.5402  \n"
          ]
        }
      ],
      "source": [
        "df_All = pd.read_csv(r'C:\\Users\\austinsh\\Project-OptiC4\\III Models\\3 Model C10\\3 Feature Selection\\filtered-out_5-9_corr.csv')\n",
        "\n",
        "print(df_All.head())"
      ]
    },
    {
      "cell_type": "code",
      "execution_count": 17,
      "metadata": {},
      "outputs": [
        {
          "data": {
            "text/plain": [
              "Index(['Date', '425_pct_Al', 'Al2O3', 'M_Value', 'C4_pct_Eth', 'C4_pct_H2O',\n",
              "       'HydWtr_pct_Ammonia', 'C4_pct_Hex', 'HydWtr_Na2O', 'Decanol', 'DI55102',\n",
              "       'DI55152', 'DI55580', 'FC55003', 'FC55009', 'FC55552', 'FC55569',\n",
              "       'FC55576', 'FFC55553', 'FFC55555', 'LC52572', 'LC55553', 'LC55557',\n",
              "       'LC55568', 'LC90366', 'LC90368', 'PI55004', 'PI55020', 'TC55552',\n",
              "       'TC55555', 'TI40050', 'TI55021'],\n",
              "      dtype='object')"
            ]
          },
          "execution_count": 17,
          "metadata": {},
          "output_type": "execute_result"
        }
      ],
      "source": [
        "df_All.columns"
      ]
    },
    {
      "cell_type": "code",
      "execution_count": 18,
      "metadata": {
        "trusted": true
      },
      "outputs": [],
      "source": [
        "# Set max columns to display\n",
        "pd.set_option('display.max_columns', None)"
      ]
    },
    {
      "cell_type": "code",
      "execution_count": 19,
      "metadata": {},
      "outputs": [],
      "source": [
        "# # List of columns to exclude to run XGboost feature selection\n",
        "# exclude_columns = ['Octanol', 'Hexanol', 'Ethanol', 'Decanol',\n",
        "       \n",
        "#        'TI52014', 'TI55013', 'TI55014', 'TI55015', 'TI55016', 'TI55017', 'TI55021', 'TI55023',\n",
        "#        'TC52015', 'FC52018', 'II52554', 'TI40050', 'VI52558B'\n",
        "#                    ]\n",
        "\n",
        "# # Create a new DataFrame without the excluded columnsd\n",
        "# df_All = df_All.drop(columns=exclude_columns)"
      ]
    },
    {
      "cell_type": "code",
      "execution_count": 20,
      "metadata": {},
      "outputs": [],
      "source": [
        "# df_All = df_All[df_All['Date'] > '2022-06-15 00:00:00']"
      ]
    },
    {
      "cell_type": "markdown",
      "metadata": {},
      "source": [
        "# Remaining Features after Correlation Analysis"
      ]
    },
    {
      "cell_type": "code",
      "execution_count": 21,
      "metadata": {},
      "outputs": [],
      "source": [
        "\n",
        "# selected_columns = ['425 %Al', 'Butanol', 'DI55102', 'DI55152', 'DI55580', 'FC42428',\n",
        "#        'FC55003', 'FC55552', 'FC55569', 'FC55576', 'FFC55553', 'FFC55555',\n",
        "#        'LC52572', 'LC55553', 'LC55555', 'LC55557', 'LC55568', 'LC90366',\n",
        "#        'LC90368', 'PI55004', 'PI55020', 'TC55552', 'TC55553', 'TC55555'\n",
        "#                    ]\n",
        "\n",
        "# existing_columns = [col for col in selected_columns if col in df_All.columns]\n",
        "# df_All = df_All[existing_columns]"
      ]
    },
    {
      "cell_type": "code",
      "execution_count": 22,
      "metadata": {},
      "outputs": [],
      "source": [
        "# First Iteration\n",
        "# selected_columns = ['Butanol PPM', '425 SAO Al', 'FC42428', 'FC55003', 'FC55102', 'FC55152', 'FFC55555',\n",
        "#        'LC55553', 'LC55557', 'LC55568', 'LC90366', 'TC55555']\n",
        "\n",
        "\n"
      ]
    },
    {
      "cell_type": "code",
      "execution_count": 23,
      "metadata": {},
      "outputs": [
        {
          "data": {
            "text/plain": [
              "Index(['Date', '425_pct_Al', 'Al2O3', 'M_Value', 'C4_pct_Eth', 'C4_pct_H2O',\n",
              "       'HydWtr_pct_Ammonia', 'C4_pct_Hex', 'HydWtr_Na2O', 'Decanol', 'DI55102',\n",
              "       'DI55152', 'DI55580', 'FC55003', 'FC55009', 'FC55552', 'FC55569',\n",
              "       'FC55576', 'FFC55553', 'FFC55555', 'LC52572', 'LC55553', 'LC55557',\n",
              "       'LC55568', 'LC90366', 'LC90368', 'PI55004', 'PI55020', 'TC55552',\n",
              "       'TC55555', 'TI40050', 'TI55021'],\n",
              "      dtype='object')"
            ]
          },
          "execution_count": 23,
          "metadata": {},
          "output_type": "execute_result"
        }
      ],
      "source": [
        "df_All.columns"
      ]
    },
    {
      "cell_type": "code",
      "execution_count": 24,
      "metadata": {},
      "outputs": [],
      "source": [
        "# Splitting into train and test\n",
        "X = df_All.drop(['Decanol', 'Date'], axis=1)  # Assuming 'target' is your target column\n",
        "y = df_All['Decanol']\n",
        "X_train, X_test, y_train, y_test = train_test_split(X, y, test_size=0.2, random_state=42)"
      ]
    },
    {
      "cell_type": "code",
      "execution_count": 25,
      "metadata": {},
      "outputs": [],
      "source": [
        "# # Ensure all columns are numeric and handle missing values\n",
        "# # For example, to fill missing values with the mean of each column:\n",
        "# X = X.apply(lambda col: pd.to_numeric(col, errors='coerce')).fillna(X.mean())\n",
        "# y = pd.to_numeric(y, errors='coerce').fillna(y.mean())\n",
        "\n",
        "# Adding a constant to the model (if you haven't already)\n",
        "X = sm.add_constant(X)\n",
        "\n",
        "# Now, split your dataset into train and test again to ensure clean separation\n",
        "X_train, X_test, y_train, y_test = train_test_split(X, y, test_size=0.2, random_state=42)\n"
      ]
    },
    {
      "cell_type": "code",
      "execution_count": 26,
      "metadata": {},
      "outputs": [
        {
          "name": "stdout",
          "output_type": "stream",
          "text": [
            "                            OLS Regression Results                            \n",
            "==============================================================================\n",
            "Dep. Variable:                Decanol   R-squared:                       0.482\n",
            "Model:                            OLS   Adj. R-squared:                  0.482\n",
            "Method:                 Least Squares   F-statistic:                     1243.\n",
            "Date:                Thu, 21 Mar 2024   Prob (F-statistic):               0.00\n",
            "Time:                        03:17:00   Log-Likelihood:                -60030.\n",
            "No. Observations:               40127   AIC:                         1.201e+05\n",
            "Df Residuals:                   40096   BIC:                         1.204e+05\n",
            "Df Model:                          30                                         \n",
            "Covariance Type:            nonrobust                                         \n",
            "======================================================================================\n",
            "                         coef    std err          t      P>|t|      [0.025      0.975]\n",
            "--------------------------------------------------------------------------------------\n",
            "const                 18.0133      0.911     19.763      0.000      16.227      19.800\n",
            "425_pct_Al            -0.1361      0.028     -4.814      0.000      -0.192      -0.081\n",
            "Al2O3                 -0.1256      0.015     -8.425      0.000      -0.155      -0.096\n",
            "M_Value               -1.3965      0.035    -40.103      0.000      -1.465      -1.328\n",
            "C4_pct_Eth            -0.1954      0.012    -16.136      0.000      -0.219      -0.172\n",
            "C4_pct_H2O             0.0237      0.003      7.738      0.000       0.018       0.030\n",
            "HydWtr_pct_Ammonia    -0.5056      0.039    -12.935      0.000      -0.582      -0.429\n",
            "C4_pct_Hex             0.2944      0.026     11.406      0.000       0.244       0.345\n",
            "HydWtr_Na2O           -0.0449      0.008     -5.495      0.000      -0.061      -0.029\n",
            "DI55102                0.5138      0.157      3.277      0.001       0.206       0.821\n",
            "DI55152                4.2780      0.332     12.877      0.000       3.627       4.929\n",
            "DI55580                0.0250      0.156      0.161      0.872      -0.280       0.330\n",
            "FC55003               -0.0001   9.85e-06    -11.271      0.000      -0.000   -9.17e-05\n",
            "FC55009               -0.0010   1.09e-05    -87.060      0.000      -0.001      -0.001\n",
            "FC55552             6.504e-05   1.61e-06     40.358      0.000    6.19e-05    6.82e-05\n",
            "FC55569               -0.0002   2.28e-05     -9.317      0.000      -0.000      -0.000\n",
            "FC55576               -0.0001   3.07e-05     -4.271      0.000      -0.000    -7.1e-05\n",
            "FFC55553              -6.6795      0.184    -36.393      0.000      -7.039      -6.320\n",
            "FFC55555               1.7943      0.289      6.201      0.000       1.227       2.361\n",
            "LC52572                0.0207      0.003      8.037      0.000       0.016       0.026\n",
            "LC55553                0.0267      0.001     24.982      0.000       0.025       0.029\n",
            "LC55557                0.0048      0.003      1.670      0.095      -0.001       0.011\n",
            "LC55568                0.0850      0.005     16.833      0.000       0.075       0.095\n",
            "LC90366               -0.0065      0.000    -29.567      0.000      -0.007      -0.006\n",
            "LC90368                0.0060      0.000     17.734      0.000       0.005       0.007\n",
            "PI55004                0.0200      0.007      2.713      0.007       0.006       0.034\n",
            "PI55020                0.0321      0.007      4.371      0.000       0.018       0.047\n",
            "TC55552               -0.0262      0.000    -64.746      0.000      -0.027      -0.025\n",
            "TC55555               -0.0370      0.004     -8.700      0.000      -0.045      -0.029\n",
            "TI40050                0.0042      0.000      8.734      0.000       0.003       0.005\n",
            "TI55021               -0.0093      0.001    -11.145      0.000      -0.011      -0.008\n",
            "==============================================================================\n",
            "Omnibus:                     4080.755   Durbin-Watson:                   0.031\n",
            "Prob(Omnibus):                  0.000   Jarque-Bera (JB):             6712.882\n",
            "Skew:                           0.732   Prob(JB):                         0.00\n",
            "Kurtosis:                       4.367   Cond. No.                     6.41e+06\n",
            "==============================================================================\n",
            "\n",
            "Notes:\n",
            "[1] Standard Errors assume that the covariance matrix of the errors is correctly specified.\n",
            "[2] The condition number is large, 6.41e+06. This might indicate that there are\n",
            "strong multicollinearity or other numerical problems.\n"
          ]
        }
      ],
      "source": [
        "#=============================================\n",
        "# TRAIN & EVALUATE REGRESSION MODEL\n",
        "#=============================================\n",
        "\n",
        "#fit simple linear regression model\n",
        "model = sm.OLS(y, X).fit()\n",
        "print(model.summary())"
      ]
    },
    {
      "cell_type": "code",
      "execution_count": 27,
      "metadata": {},
      "outputs": [
        {
          "name": "stdout",
          "output_type": "stream",
          "text": [
            "['DI55580', 'LC55557']\n"
          ]
        }
      ],
      "source": [
        "# Convert summary to DataFrame\n",
        "summary_table = model.summary().tables[1]\n",
        "summary_df = pd.DataFrame(summary_table.data[1:], columns=summary_table.data[0])\n",
        "\n",
        "# Convert necessary columns to numeric\n",
        "numeric_cols = ['coef', 'std err', 't', 'P>|t|', '[0.025', '0.975]']\n",
        "summary_df[numeric_cols] = summary_df[numeric_cols].apply(pd.to_numeric, errors='coerce')\n",
        "\n",
        "# Apply the filter for insignificance and CI crossing zero\n",
        "threshold = 0.05\n",
        "filtered_df = summary_df[(summary_df['P>|t|'] > threshold) & ((summary_df['[0.025'] < 0) & (summary_df['0.975]'] > 0))]\n",
        "\n",
        "# Extracting the feature names\n",
        "insignificant_features = filtered_df.iloc[:, 0].tolist()  # First column contains feature names\n",
        "print(insignificant_features)\n"
      ]
    },
    {
      "cell_type": "code",
      "execution_count": 28,
      "metadata": {},
      "outputs": [
        {
          "name": "stdout",
          "output_type": "stream",
          "text": [
            "               coef  std err      t  P>|t|  [0.025  0.975]\n",
            "11  DI55580  0.0250    0.156  0.161  0.872  -0.280   0.330\n",
            "21  LC55557  0.0048    0.003  1.670  0.095  -0.001   0.011\n"
          ]
        }
      ],
      "source": [
        "print(filtered_df)"
      ]
    },
    {
      "cell_type": "code",
      "execution_count": 29,
      "metadata": {},
      "outputs": [
        {
          "name": "stdout",
          "output_type": "stream",
          "text": [
            "\n",
            "Significant Features:\n",
            "['const', '425_pct_Al', 'Al2O3', 'M_Value', 'C4_pct_Eth', 'C4_pct_H2O', 'HydWtr_pct_Ammonia', 'C4_pct_Hex', 'HydWtr_Na2O', 'DI55102', 'DI55152', 'FC55003', 'FC55009', 'FC55552', 'FC55576', 'FFC55553', 'FFC55555', 'LC52572', 'LC55553', 'LC55568', 'LC90366', 'LC90368', 'PI55004', 'PI55020', 'TC55552', 'TC55555', 'TI40050', 'TI55021']\n"
          ]
        }
      ],
      "source": [
        "# Filter for significant features\n",
        "significant_df = summary_df[(summary_df['P>|t|'] <= threshold) & ((summary_df['[0.025'] > 0) | (summary_df['0.975]'] < 0))]\n",
        "significant_features = significant_df.iloc[:, 0].tolist()\n",
        "print(\"\\nSignificant Features:\")\n",
        "print(significant_features)"
      ]
    },
    {
      "cell_type": "code",
      "execution_count": 30,
      "metadata": {},
      "outputs": [
        {
          "name": "stdout",
          "output_type": "stream",
          "text": [
            "2024-03-21 03:17:00.860825\n"
          ]
        }
      ],
      "source": [
        "from datetime import datetime\n",
        "\n",
        "# Get the current date and time\n",
        "current_date_time = datetime.now()\n",
        "\n",
        "# Print the current date and time\n",
        "print(current_date_time)\n"
      ]
    }
  ],
  "metadata": {
    "kernelspec": {
      "display_name": "Python 3 (ipykernel)",
      "language": "python",
      "name": "python3"
    },
    "language_info": {
      "codemirror_mode": {
        "name": "ipython",
        "version": 3
      },
      "file_extension": ".py",
      "mimetype": "text/x-python",
      "name": "python",
      "nbconvert_exporter": "python",
      "pygments_lexer": "ipython3",
      "version": "3.12.1"
    }
  },
  "nbformat": 4,
  "nbformat_minor": 4
}
