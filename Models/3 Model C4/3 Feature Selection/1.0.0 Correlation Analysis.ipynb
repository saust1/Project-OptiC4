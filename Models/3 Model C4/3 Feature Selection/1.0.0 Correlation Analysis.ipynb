{
 "cells": [
  {
   "cell_type": "code",
   "execution_count": 56,
   "metadata": {},
   "outputs": [],
   "source": [
    "import pandas as pd\n",
    "# Set max columns to display\n",
    "pd.set_option('display.max_columns', None)\n",
    "\n",
    "import numpy as np\n",
    "from sklearn import preprocessing as pre\n",
    "import matplotlib.pyplot as plt\n",
    "from scipy import stats\n",
    "import seaborn as sns\n",
    "import plotly.express as px"
   ]
  },
  {
   "cell_type": "code",
   "execution_count": 57,
   "metadata": {},
   "outputs": [
    {
     "name": "stdout",
     "output_type": "stream",
     "text": [
      "   425_pct_Al  M_Value  C4_pct_Eth  C4_pct_H2O  HydWtr_pct_Ammonia   DI55152  \\\n",
      "0    6.307630  3.50893    2.508420    21.96340            0.908765  0.925255   \n",
      "1    6.308335  3.50863    2.511135    21.96865            0.907643  0.924281   \n",
      "2    6.309390  3.50818    2.515210    21.97655            0.905959  0.923773   \n",
      "3    6.310090  3.50788    2.517925    21.98185            0.904837  0.924103   \n",
      "4    6.310790  3.50758    2.520640    21.98715            0.903715  0.924258   \n",
      "\n",
      "    FC55003       FC55552      FC55569  FFC55553  FFC55555    LC55555  \\\n",
      "0  4919.290  41564.100000  6918.110000  0.996975  0.751501  59.968800   \n",
      "1  5039.445  41558.250000  6919.960000  0.998847  0.750588  59.932300   \n",
      "2  5268.620  41524.066667  6916.486667  0.998648  0.750505  60.002433   \n",
      "3  5349.320  41500.275000  6918.470000  1.000349  0.750325  60.015925   \n",
      "4  5563.165  41466.625000  6915.790000  1.000862  0.750021  60.020500   \n",
      "\n",
      "    PI55004   TC55552     TI55021    Butanol  \n",
      "0  1.306310  177.1880  212.861000  54.858300  \n",
      "1  1.181220  177.2505  212.699000  51.190050  \n",
      "2  1.216603  177.4170  212.822333  48.744567  \n",
      "3  1.206718  177.4590  212.799750  46.604750  \n",
      "4  1.163892  177.5490  212.853000  44.587220  \n"
     ]
    }
   ],
   "source": [
    "\n",
    "df_All_1 = pd.read_csv(r'C:\\Users\\saust\\OneDrive\\Desktop\\GitRepo\\Project-OptiC4\\1 Preprocess\\Merge Data\\contData_all_Avg_1o2.csv')\n",
    "df_All_2 = pd.read_csv(r'C:\\Users\\saust\\OneDrive\\Desktop\\GitRepo\\Project-OptiC4\\1 Preprocess\\Merge Data\\contData_all_Avg_2o2.csv')\n",
    "# Concatenate (union) the dataframes\n",
    "df_All = pd.concat([df_All_1, df_All_2], ignore_index=True)\n",
    "\n",
    "print(df_All.head())"
   ]
  },
  {
   "cell_type": "code",
   "execution_count": 58,
   "metadata": {},
   "outputs": [],
   "source": [
    "\n",
    "TagDesc = pd.read_csv(r\"C:\\Users\\saust\\OneDrive\\Desktop\\GitRepo\\Project-OptiC4\\CSV\\Not for Processing\\TagDesc.csv\")\n",
    "# df_All = pd.read_csv(r\"C:\\Users\\saust\\OneDrive - Sasol\\1 Project rC4\\Jupyter Notebooks\\Report 10-19-23\\df_AlConCD554.csv\")\n",
    "#df_All = pd.read_csv(r\"C:\\Users\\saust\\OneDrive\\Desktop\\CodeSpace DLs\\102423\\Project rC4\\5 Engineered Features\\3 - EF - Feature Selection\\df_CDFI.csv\")\n",
    "\n",
    "\n",
    "# FScore = pd.read_csv(r\"C:\\Users\\saust\\OneDrive\\Desktop\\CodeSpace DLs\\102423\\Project rC4\\5 Engineered Features\\3 - EF - Feature Selection\\FScore_on_Butanol_310.csv\")\n",
    "\n",
    "# df_All = pd.read_csv('/workspaces/codespaces-jupyter/ProjectrC4/df_AlConCD554.csv')"
   ]
  },
  {
   "cell_type": "code",
   "execution_count": 59,
   "metadata": {},
   "outputs": [],
   "source": [
    "# # List of columns to exclude to run XGboost feature selection\n",
    "# exclude_columns = [\n",
    "       \n",
    "#        # Sample data of the same time introcuces Data leakage\n",
    "#        'Octanol', 'Hexanol', 'Ethanol', 'Decanol',\n",
    "\n",
    "#        # Highly correlated to TC's\n",
    "#        # \"Normally the Exctraction temperature is run within a few degrees of the hydrolysis temperature.\"(Alumina Unit Effect p10) \n",
    "#        'TI52014', 'TI55013', 'TI55014', 'TI55015', 'TI55016', 'TI55017', 'TI55023', 'TI40050',\n",
    "\n",
    "#        # , 'TI55021'\n",
    "       \n",
    "#        # Niro Functions\n",
    "#        'TC52015', 'FC52018', 'II52554', 'VI52558B',\n",
    "       \n",
    "#        # .9 to .8 Correlations\n",
    "#        'FC55555',  # First Drop - Highest correlated variable    #Almost 1 with FC55552 - as determined by Ratio controller    \n",
    "#        'PI55560',   # Exlude middle pressure - Include -> PI5500: btm pressure \n",
    "#        'FYC55553',  # Calculates by other varibales (inherently correlated) - Include -> FC55552 - leading influecner \n",
    "#        'FC55152', 'FC55102', # Both are deritives of FC55552\n",
    "#        'AYC55580',  # Is calculated - DI55580 measures the process directly\n",
    "       \n",
    "#        # .7 Correlations\n",
    "#        # FC55552 --> FC42428 = 0.70526 / not comfortable droping either at this time\n",
    "\n",
    "#        # .6 Correlations\n",
    "#        'TC55566',  # Slurry coolers are a Downstream requirement - TC55552 occurs upstream (DC-551 ALKOX  FD PREHEAT)\n",
    "\n",
    "#        # .5 Correlations\n",
    "#        'FC55009' # Receives its SP from TC55553\n",
    "\n",
    "#                    ]\n",
    "\n",
    "# # Create a new DataFrame without the excluded columnsd\n",
    "# df_All = df_All.drop(columns=exclude_columns)"
   ]
  },
  {
   "cell_type": "markdown",
   "metadata": {},
   "source": [
    "# Check Basic Information:"
   ]
  },
  {
   "cell_type": "code",
   "execution_count": 60,
   "metadata": {},
   "outputs": [
    {
     "name": "stdout",
     "output_type": "stream",
     "text": [
      "<class 'pandas.core.frame.DataFrame'>\n",
      "RangeIndex: 56390 entries, 0 to 56389\n",
      "Data columns (total 16 columns):\n",
      " #   Column              Non-Null Count  Dtype  \n",
      "---  ------              --------------  -----  \n",
      " 0   425_pct_Al          56390 non-null  float64\n",
      " 1   M_Value             56390 non-null  float64\n",
      " 2   C4_pct_Eth          56390 non-null  float64\n",
      " 3   C4_pct_H2O          56390 non-null  float64\n",
      " 4   HydWtr_pct_Ammonia  56390 non-null  float64\n",
      " 5   DI55152             56390 non-null  float64\n",
      " 6   FC55003             56390 non-null  float64\n",
      " 7   FC55552             56390 non-null  float64\n",
      " 8   FC55569             56390 non-null  float64\n",
      " 9   FFC55553            56390 non-null  float64\n",
      " 10  FFC55555            56390 non-null  float64\n",
      " 11  LC55555             56390 non-null  float64\n",
      " 12  PI55004             56390 non-null  float64\n",
      " 13  TC55552             56390 non-null  float64\n",
      " 14  TI55021             56390 non-null  float64\n",
      " 15  Butanol             56390 non-null  float64\n",
      "dtypes: float64(16)\n",
      "memory usage: 6.9 MB\n"
     ]
    },
    {
     "data": {
      "text/html": [
       "<div>\n",
       "<style scoped>\n",
       "    .dataframe tbody tr th:only-of-type {\n",
       "        vertical-align: middle;\n",
       "    }\n",
       "\n",
       "    .dataframe tbody tr th {\n",
       "        vertical-align: top;\n",
       "    }\n",
       "\n",
       "    .dataframe thead th {\n",
       "        text-align: right;\n",
       "    }\n",
       "</style>\n",
       "<table border=\"1\" class=\"dataframe\">\n",
       "  <thead>\n",
       "    <tr style=\"text-align: right;\">\n",
       "      <th></th>\n",
       "      <th>425_pct_Al</th>\n",
       "      <th>M_Value</th>\n",
       "      <th>C4_pct_Eth</th>\n",
       "      <th>C4_pct_H2O</th>\n",
       "      <th>HydWtr_pct_Ammonia</th>\n",
       "      <th>DI55152</th>\n",
       "      <th>FC55003</th>\n",
       "      <th>FC55552</th>\n",
       "      <th>FC55569</th>\n",
       "      <th>FFC55553</th>\n",
       "      <th>FFC55555</th>\n",
       "      <th>LC55555</th>\n",
       "      <th>PI55004</th>\n",
       "      <th>TC55552</th>\n",
       "      <th>TI55021</th>\n",
       "      <th>Butanol</th>\n",
       "    </tr>\n",
       "  </thead>\n",
       "  <tbody>\n",
       "    <tr>\n",
       "      <th>0</th>\n",
       "      <td>6.307630</td>\n",
       "      <td>3.50893</td>\n",
       "      <td>2.508420</td>\n",
       "      <td>21.96340</td>\n",
       "      <td>0.908765</td>\n",
       "      <td>0.925255</td>\n",
       "      <td>4919.290</td>\n",
       "      <td>41564.100000</td>\n",
       "      <td>6918.110000</td>\n",
       "      <td>0.996975</td>\n",
       "      <td>0.751501</td>\n",
       "      <td>59.968800</td>\n",
       "      <td>1.306310</td>\n",
       "      <td>177.1880</td>\n",
       "      <td>212.861000</td>\n",
       "      <td>54.858300</td>\n",
       "    </tr>\n",
       "    <tr>\n",
       "      <th>1</th>\n",
       "      <td>6.308335</td>\n",
       "      <td>3.50863</td>\n",
       "      <td>2.511135</td>\n",
       "      <td>21.96865</td>\n",
       "      <td>0.907643</td>\n",
       "      <td>0.924281</td>\n",
       "      <td>5039.445</td>\n",
       "      <td>41558.250000</td>\n",
       "      <td>6919.960000</td>\n",
       "      <td>0.998847</td>\n",
       "      <td>0.750588</td>\n",
       "      <td>59.932300</td>\n",
       "      <td>1.181220</td>\n",
       "      <td>177.2505</td>\n",
       "      <td>212.699000</td>\n",
       "      <td>51.190050</td>\n",
       "    </tr>\n",
       "    <tr>\n",
       "      <th>2</th>\n",
       "      <td>6.309390</td>\n",
       "      <td>3.50818</td>\n",
       "      <td>2.515210</td>\n",
       "      <td>21.97655</td>\n",
       "      <td>0.905959</td>\n",
       "      <td>0.923773</td>\n",
       "      <td>5268.620</td>\n",
       "      <td>41524.066667</td>\n",
       "      <td>6916.486667</td>\n",
       "      <td>0.998648</td>\n",
       "      <td>0.750505</td>\n",
       "      <td>60.002433</td>\n",
       "      <td>1.216603</td>\n",
       "      <td>177.4170</td>\n",
       "      <td>212.822333</td>\n",
       "      <td>48.744567</td>\n",
       "    </tr>\n",
       "    <tr>\n",
       "      <th>3</th>\n",
       "      <td>6.310090</td>\n",
       "      <td>3.50788</td>\n",
       "      <td>2.517925</td>\n",
       "      <td>21.98185</td>\n",
       "      <td>0.904837</td>\n",
       "      <td>0.924103</td>\n",
       "      <td>5349.320</td>\n",
       "      <td>41500.275000</td>\n",
       "      <td>6918.470000</td>\n",
       "      <td>1.000349</td>\n",
       "      <td>0.750325</td>\n",
       "      <td>60.015925</td>\n",
       "      <td>1.206718</td>\n",
       "      <td>177.4590</td>\n",
       "      <td>212.799750</td>\n",
       "      <td>46.604750</td>\n",
       "    </tr>\n",
       "    <tr>\n",
       "      <th>4</th>\n",
       "      <td>6.310790</td>\n",
       "      <td>3.50758</td>\n",
       "      <td>2.520640</td>\n",
       "      <td>21.98715</td>\n",
       "      <td>0.903715</td>\n",
       "      <td>0.924258</td>\n",
       "      <td>5563.165</td>\n",
       "      <td>41466.625000</td>\n",
       "      <td>6915.790000</td>\n",
       "      <td>1.000862</td>\n",
       "      <td>0.750021</td>\n",
       "      <td>60.020500</td>\n",
       "      <td>1.163892</td>\n",
       "      <td>177.5490</td>\n",
       "      <td>212.853000</td>\n",
       "      <td>44.587220</td>\n",
       "    </tr>\n",
       "  </tbody>\n",
       "</table>\n",
       "</div>"
      ],
      "text/plain": [
       "   425_pct_Al  M_Value  C4_pct_Eth  C4_pct_H2O  HydWtr_pct_Ammonia   DI55152  \\\n",
       "0    6.307630  3.50893    2.508420    21.96340            0.908765  0.925255   \n",
       "1    6.308335  3.50863    2.511135    21.96865            0.907643  0.924281   \n",
       "2    6.309390  3.50818    2.515210    21.97655            0.905959  0.923773   \n",
       "3    6.310090  3.50788    2.517925    21.98185            0.904837  0.924103   \n",
       "4    6.310790  3.50758    2.520640    21.98715            0.903715  0.924258   \n",
       "\n",
       "    FC55003       FC55552      FC55569  FFC55553  FFC55555    LC55555  \\\n",
       "0  4919.290  41564.100000  6918.110000  0.996975  0.751501  59.968800   \n",
       "1  5039.445  41558.250000  6919.960000  0.998847  0.750588  59.932300   \n",
       "2  5268.620  41524.066667  6916.486667  0.998648  0.750505  60.002433   \n",
       "3  5349.320  41500.275000  6918.470000  1.000349  0.750325  60.015925   \n",
       "4  5563.165  41466.625000  6915.790000  1.000862  0.750021  60.020500   \n",
       "\n",
       "    PI55004   TC55552     TI55021    Butanol  \n",
       "0  1.306310  177.1880  212.861000  54.858300  \n",
       "1  1.181220  177.2505  212.699000  51.190050  \n",
       "2  1.216603  177.4170  212.822333  48.744567  \n",
       "3  1.206718  177.4590  212.799750  46.604750  \n",
       "4  1.163892  177.5490  212.853000  44.587220  "
      ]
     },
     "execution_count": 60,
     "metadata": {},
     "output_type": "execute_result"
    }
   ],
   "source": [
    "\n",
    "\n",
    "df_All.info() #to check the data types, non-null counts, and memory usage.\n",
    "df_All.head() #to examine the first few rows of the dataset."
   ]
  },
  {
   "cell_type": "markdown",
   "metadata": {},
   "source": [
    "# Summary Statistics:"
   ]
  },
  {
   "cell_type": "code",
   "execution_count": 61,
   "metadata": {},
   "outputs": [
    {
     "data": {
      "text/html": [
       "<div>\n",
       "<style scoped>\n",
       "    .dataframe tbody tr th:only-of-type {\n",
       "        vertical-align: middle;\n",
       "    }\n",
       "\n",
       "    .dataframe tbody tr th {\n",
       "        vertical-align: top;\n",
       "    }\n",
       "\n",
       "    .dataframe thead th {\n",
       "        text-align: right;\n",
       "    }\n",
       "</style>\n",
       "<table border=\"1\" class=\"dataframe\">\n",
       "  <thead>\n",
       "    <tr style=\"text-align: right;\">\n",
       "      <th></th>\n",
       "      <th>425_pct_Al</th>\n",
       "      <th>M_Value</th>\n",
       "      <th>C4_pct_Eth</th>\n",
       "      <th>C4_pct_H2O</th>\n",
       "      <th>HydWtr_pct_Ammonia</th>\n",
       "      <th>DI55152</th>\n",
       "      <th>FC55003</th>\n",
       "      <th>FC55552</th>\n",
       "      <th>FC55569</th>\n",
       "      <th>FFC55553</th>\n",
       "      <th>FFC55555</th>\n",
       "      <th>LC55555</th>\n",
       "      <th>PI55004</th>\n",
       "      <th>TC55552</th>\n",
       "      <th>TI55021</th>\n",
       "      <th>Butanol</th>\n",
       "    </tr>\n",
       "  </thead>\n",
       "  <tbody>\n",
       "    <tr>\n",
       "      <th>count</th>\n",
       "      <td>56390.000000</td>\n",
       "      <td>56390.000000</td>\n",
       "      <td>56390.000000</td>\n",
       "      <td>56390.000000</td>\n",
       "      <td>56390.000000</td>\n",
       "      <td>56390.000000</td>\n",
       "      <td>56390.000000</td>\n",
       "      <td>56390.000000</td>\n",
       "      <td>56390.000000</td>\n",
       "      <td>56390.000000</td>\n",
       "      <td>56390.000000</td>\n",
       "      <td>56390.000000</td>\n",
       "      <td>56390.000000</td>\n",
       "      <td>56390.000000</td>\n",
       "      <td>56390.000000</td>\n",
       "      <td>56390.000000</td>\n",
       "    </tr>\n",
       "    <tr>\n",
       "      <th>mean</th>\n",
       "      <td>6.111431</td>\n",
       "      <td>3.604671</td>\n",
       "      <td>1.288459</td>\n",
       "      <td>20.732024</td>\n",
       "      <td>0.968766</td>\n",
       "      <td>0.944868</td>\n",
       "      <td>5942.937622</td>\n",
       "      <td>36148.032931</td>\n",
       "      <td>6596.636662</td>\n",
       "      <td>0.993235</td>\n",
       "      <td>0.774738</td>\n",
       "      <td>58.799548</td>\n",
       "      <td>2.277041</td>\n",
       "      <td>168.524551</td>\n",
       "      <td>223.213167</td>\n",
       "      <td>9.544883</td>\n",
       "    </tr>\n",
       "    <tr>\n",
       "      <th>std</th>\n",
       "      <td>0.320365</td>\n",
       "      <td>0.172066</td>\n",
       "      <td>0.705428</td>\n",
       "      <td>2.861318</td>\n",
       "      <td>0.145111</td>\n",
       "      <td>0.043131</td>\n",
       "      <td>791.822524</td>\n",
       "      <td>4240.706992</td>\n",
       "      <td>371.398963</td>\n",
       "      <td>0.039962</td>\n",
       "      <td>0.023119</td>\n",
       "      <td>10.599735</td>\n",
       "      <td>1.198043</td>\n",
       "      <td>14.978153</td>\n",
       "      <td>8.797813</td>\n",
       "      <td>9.451850</td>\n",
       "    </tr>\n",
       "    <tr>\n",
       "      <th>min</th>\n",
       "      <td>0.252306</td>\n",
       "      <td>1.461875</td>\n",
       "      <td>0.086948</td>\n",
       "      <td>7.932310</td>\n",
       "      <td>0.390025</td>\n",
       "      <td>0.815428</td>\n",
       "      <td>2991.532500</td>\n",
       "      <td>18869.325000</td>\n",
       "      <td>5192.802500</td>\n",
       "      <td>0.814484</td>\n",
       "      <td>0.697983</td>\n",
       "      <td>39.179775</td>\n",
       "      <td>0.031410</td>\n",
       "      <td>120.497500</td>\n",
       "      <td>207.956750</td>\n",
       "      <td>0.424417</td>\n",
       "    </tr>\n",
       "    <tr>\n",
       "      <th>25%</th>\n",
       "      <td>5.985006</td>\n",
       "      <td>3.507271</td>\n",
       "      <td>0.681404</td>\n",
       "      <td>18.310450</td>\n",
       "      <td>0.877197</td>\n",
       "      <td>0.915588</td>\n",
       "      <td>5444.710625</td>\n",
       "      <td>35004.118750</td>\n",
       "      <td>6367.107500</td>\n",
       "      <td>0.969975</td>\n",
       "      <td>0.759845</td>\n",
       "      <td>49.929306</td>\n",
       "      <td>1.322199</td>\n",
       "      <td>156.055250</td>\n",
       "      <td>217.939000</td>\n",
       "      <td>3.660641</td>\n",
       "    </tr>\n",
       "    <tr>\n",
       "      <th>50%</th>\n",
       "      <td>6.129580</td>\n",
       "      <td>3.596178</td>\n",
       "      <td>1.299502</td>\n",
       "      <td>20.678075</td>\n",
       "      <td>0.942339</td>\n",
       "      <td>0.939580</td>\n",
       "      <td>5958.680000</td>\n",
       "      <td>37874.750000</td>\n",
       "      <td>6577.327500</td>\n",
       "      <td>0.991165</td>\n",
       "      <td>0.779151</td>\n",
       "      <td>60.116213</td>\n",
       "      <td>2.036633</td>\n",
       "      <td>171.937125</td>\n",
       "      <td>220.944750</td>\n",
       "      <td>5.804167</td>\n",
       "    </tr>\n",
       "    <tr>\n",
       "      <th>75%</th>\n",
       "      <td>6.269913</td>\n",
       "      <td>3.696815</td>\n",
       "      <td>1.727776</td>\n",
       "      <td>22.972850</td>\n",
       "      <td>1.036024</td>\n",
       "      <td>0.966767</td>\n",
       "      <td>6485.384375</td>\n",
       "      <td>38974.875000</td>\n",
       "      <td>6805.105000</td>\n",
       "      <td>1.011792</td>\n",
       "      <td>0.790104</td>\n",
       "      <td>67.949369</td>\n",
       "      <td>3.060584</td>\n",
       "      <td>180.593875</td>\n",
       "      <td>224.788125</td>\n",
       "      <td>11.233729</td>\n",
       "    </tr>\n",
       "    <tr>\n",
       "      <th>max</th>\n",
       "      <td>8.020685</td>\n",
       "      <td>5.827565</td>\n",
       "      <td>8.711360</td>\n",
       "      <td>33.731050</td>\n",
       "      <td>1.598385</td>\n",
       "      <td>1.064850</td>\n",
       "      <td>8892.395000</td>\n",
       "      <td>42079.525000</td>\n",
       "      <td>8045.972500</td>\n",
       "      <td>1.153682</td>\n",
       "      <td>0.855093</td>\n",
       "      <td>79.265400</td>\n",
       "      <td>6.313537</td>\n",
       "      <td>212.425000</td>\n",
       "      <td>256.500500</td>\n",
       "      <td>56.575000</td>\n",
       "    </tr>\n",
       "  </tbody>\n",
       "</table>\n",
       "</div>"
      ],
      "text/plain": [
       "         425_pct_Al       M_Value    C4_pct_Eth    C4_pct_H2O  \\\n",
       "count  56390.000000  56390.000000  56390.000000  56390.000000   \n",
       "mean       6.111431      3.604671      1.288459     20.732024   \n",
       "std        0.320365      0.172066      0.705428      2.861318   \n",
       "min        0.252306      1.461875      0.086948      7.932310   \n",
       "25%        5.985006      3.507271      0.681404     18.310450   \n",
       "50%        6.129580      3.596178      1.299502     20.678075   \n",
       "75%        6.269913      3.696815      1.727776     22.972850   \n",
       "max        8.020685      5.827565      8.711360     33.731050   \n",
       "\n",
       "       HydWtr_pct_Ammonia       DI55152       FC55003       FC55552  \\\n",
       "count        56390.000000  56390.000000  56390.000000  56390.000000   \n",
       "mean             0.968766      0.944868   5942.937622  36148.032931   \n",
       "std              0.145111      0.043131    791.822524   4240.706992   \n",
       "min              0.390025      0.815428   2991.532500  18869.325000   \n",
       "25%              0.877197      0.915588   5444.710625  35004.118750   \n",
       "50%              0.942339      0.939580   5958.680000  37874.750000   \n",
       "75%              1.036024      0.966767   6485.384375  38974.875000   \n",
       "max              1.598385      1.064850   8892.395000  42079.525000   \n",
       "\n",
       "            FC55569      FFC55553      FFC55555       LC55555       PI55004  \\\n",
       "count  56390.000000  56390.000000  56390.000000  56390.000000  56390.000000   \n",
       "mean    6596.636662      0.993235      0.774738     58.799548      2.277041   \n",
       "std      371.398963      0.039962      0.023119     10.599735      1.198043   \n",
       "min     5192.802500      0.814484      0.697983     39.179775      0.031410   \n",
       "25%     6367.107500      0.969975      0.759845     49.929306      1.322199   \n",
       "50%     6577.327500      0.991165      0.779151     60.116213      2.036633   \n",
       "75%     6805.105000      1.011792      0.790104     67.949369      3.060584   \n",
       "max     8045.972500      1.153682      0.855093     79.265400      6.313537   \n",
       "\n",
       "            TC55552       TI55021       Butanol  \n",
       "count  56390.000000  56390.000000  56390.000000  \n",
       "mean     168.524551    223.213167      9.544883  \n",
       "std       14.978153      8.797813      9.451850  \n",
       "min      120.497500    207.956750      0.424417  \n",
       "25%      156.055250    217.939000      3.660641  \n",
       "50%      171.937125    220.944750      5.804167  \n",
       "75%      180.593875    224.788125     11.233729  \n",
       "max      212.425000    256.500500     56.575000  "
      ]
     },
     "execution_count": 61,
     "metadata": {},
     "output_type": "execute_result"
    }
   ],
   "source": [
    "\n",
    "\n",
    "df_All.describe() #to get summary statistics for numeric columns.\n"
   ]
  },
  {
   "cell_type": "markdown",
   "metadata": {},
   "source": [
    "# Check for Missing Values:"
   ]
  },
  {
   "cell_type": "code",
   "execution_count": 62,
   "metadata": {},
   "outputs": [
    {
     "data": {
      "text/plain": [
       "425_pct_Al            0\n",
       "M_Value               0\n",
       "C4_pct_Eth            0\n",
       "C4_pct_H2O            0\n",
       "HydWtr_pct_Ammonia    0\n",
       "DI55152               0\n",
       "FC55003               0\n",
       "FC55552               0\n",
       "FC55569               0\n",
       "FFC55553              0\n",
       "FFC55555              0\n",
       "LC55555               0\n",
       "PI55004               0\n",
       "TC55552               0\n",
       "TI55021               0\n",
       "Butanol               0\n",
       "dtype: int64"
      ]
     },
     "execution_count": 62,
     "metadata": {},
     "output_type": "execute_result"
    }
   ],
   "source": [
    "\n",
    "\n",
    "df_All.isnull().sum() #to check the number of missing values in each column.\n"
   ]
  },
  {
   "cell_type": "markdown",
   "metadata": {},
   "source": [
    "# Correlation Analysis:"
   ]
  },
  {
   "cell_type": "code",
   "execution_count": 63,
   "metadata": {},
   "outputs": [
    {
     "data": {
      "image/png": "[encoded data removed]",
      "text/plain": [
       "<Figure size 640x480 with 2 Axes>"
      ]
     },
     "metadata": {},
     "output_type": "display_data"
    }
   ],
   "source": [
    "correlation_matrix = df_All.corr(numeric_only = True)\n",
    "\n",
    "sns.heatmap(correlation_matrix, annot=False, cmap='coolwarm', fmt=\".2f\")\n",
    "plt.show()\n",
    "# Calculate and visualize correlations between numeric variables using a correlation matrix or heatmap.\n",
    "# Identify strong positive/negative correlations."
   ]
  },
  {
   "cell_type": "code",
   "execution_count": 64,
   "metadata": {},
   "outputs": [
    {
     "data": {
      "image/png": "[encoded data removed]",
      "text/plain": [
       "<Figure size 640x480 with 2 Axes>"
      ]
     },
     "metadata": {},
     "output_type": "display_data"
    }
   ],
   "source": [
    "strong_corr = correlation_matrix[abs(correlation_matrix) > 0.5]\n",
    "\n",
    "sns.heatmap(strong_corr, annot=False, cmap='coolwarm', fmt=\".2f\")\n",
    "plt.show()"
   ]
  },
  {
   "cell_type": "code",
   "execution_count": 65,
   "metadata": {},
   "outputs": [
    {
     "data": {
      "application/vnd.plotly.v1+json": {
       "config": {
        "plotlyServerURL": "https://plot.ly"
       },
       "data": [
        {
         "coloraxis": "coloraxis",
         "hovertemplate": "Features: %{x}<br>Features: %{y}<br>Correlation: %{z}<extra></extra>",
         "name": "0",
         "type": "heatmap",
         "x": [
          "425_pct_Al",
          "M_Value",
          "C4_pct_Eth",
          "C4_pct_H2O",
          "HydWtr_pct_Ammonia",
          "DI55152",
          "FC55003",
          "FC55552",
          "FC55569",
          "FFC55553",
          "FFC55555",
          "LC55555",
          "PI55004",
          "TC55552",
          "TI55021",
          "Butanol"
         ],
         "xaxis": "x",
         "y": [
          "425_pct_Al",
          "M_Value",
          "C4_pct_Eth",
          "C4_pct_H2O",
          "HydWtr_pct_Ammonia",
          "DI55152",
          "FC55003",
          "FC55552",
          "FC55569",
          "FFC55553",
          "FFC55555",
          "LC55555",
          "PI55004",
          "TC55552",
          "TI55021",
          "Butanol"
         ],
         "yaxis": "y",
         "z": [
          [
           1,
           0,
           0,
           0,
           0,
           0,
           0,
           0,
           0,
           0,
           0,
           0,
           0,
           0,
           0,
           0
          ],
          [
           0,
           1,
           0,
           0,
           0,
           0,
           0,
           0,
           0,
           0,
           0,
           0,
           0,
           0,
           0,
           0
          ],
          [
           0,
           0,
           1,
           0,
           0,
           0,
           0,
           0,
           0,
           0,
           0,
           0,
           0,
           0,
           0,
           0
          ],
          [
           0,
           0,
           0,
           1,
           0,
           0,
           0,
           0,
           0,
           0,
           0,
           0,
           0,
           0,
           0,
           0
          ],
          [
           0,
           0,
           0,
           0,
           1,
           0,
           0,
           0,
           0,
           0,
           0,
           0,
           0,
           0,
           0,
           0
          ],
          [
           0,
           0,
           0,
           0,
           0,
           1,
           0,
           0,
           0,
           0,
           0,
           0,
           0,
           0,
           0,
           0
          ],
          [
           0,
           0,
           0,
           0,
           0,
           0,
           1,
           0,
           0,
           0,
           0,
           0,
           0,
           0,
           0,
           0
          ],
          [
           0,
           0,
           0,
           0,
           0,
           0,
           0,
           1,
           0,
           0,
           0,
           0,
           0,
           0,
           0,
           0
          ],
          [
           0,
           0,
           0,
           0,
           0,
           0,
           0,
           0,
           1,
           0,
           0,
           0,
           0,
           0,
           0,
           0
          ],
          [
           0,
           0,
           0,
           0,
           0,
           0,
           0,
           0,
           0,
           1,
           0,
           0,
           0,
           0,
           0,
           0
          ],
          [
           0,
           0,
           0,
           0,
           0,
           0,
           0,
           0,
           0,
           0,
           1,
           0,
           0,
           0,
           0,
           0
          ],
          [
           0,
           0,
           0,
           0,
           0,
           0,
           0,
           0,
           0,
           0,
           0,
           1,
           0,
           0,
           0,
           0
          ],
          [
           0,
           0,
           0,
           0,
           0,
           0,
           0,
           0,
           0,
           0,
           0,
           0,
           1,
           0,
           0,
           0
          ],
          [
           0,
           0,
           0,
           0,
           0,
           0,
           0,
           0,
           0,
           0,
           0,
           0,
           0,
           1,
           0,
           0
          ],
          [
           0,
           0,
           0,
           0,
           0,
           0,
           0,
           0,
           0,
           0,
           0,
           0,
           0,
           0,
           1,
           0
          ],
          [
           0,
           0,
           0,
           0,
           0,
           0,
           0,
           0,
           0,
           0,
           0,
           0,
           0,
           0,
           0,
           1
          ]
         ]
        }
       ],
       "layout": {
        "coloraxis": {
         "colorbar": {
          "title": {
           "text": "Correlation"
          }
         },
         "colorscale": [
          [
           0,
           "#440154"
          ],
          [
           0.1111111111111111,
           "#482878"
          ],
          [
           0.2222222222222222,
           "#3e4989"
          ],
          [
           0.3333333333333333,
           "#31688e"
          ],
          [
           0.4444444444444444,
           "#26828e"
          ],
          [
           0.5555555555555556,
           "#1f9e89"
          ],
          [
           0.6666666666666666,
           "#35b779"
          ],
          [
           0.7777777777777778,
           "#6ece58"
          ],
          [
           0.8888888888888888,
           "#b5de2b"
          ],
          [
           1,
           "#fde725"
          ]
         ]
        },
        "height": 800,
        "template": {
         "data": {
          "bar": [
           {
            "error_x": {
             "color": "#2a3f5f"
            },
            "error_y": {
             "color": "#2a3f5f"
            },
            "marker": {
             "line": {
              "color": "#E5ECF6",
              "width": 0.5
             },
             "pattern": {
              "fillmode": "overlay",
              "size": 10,
              "solidity": 0.2
             }
            },
            "type": "bar"
           }
          ],
          "barpolar": [
           {
            "marker": {
             "line": {
              "color": "#E5ECF6",
              "width": 0.5
             },
             "pattern": {
              "fillmode": "overlay",
              "size": 10,
              "solidity": 0.2
             }
            },
            "type": "barpolar"
           }
          ],
          "carpet": [
           {
            "aaxis": {
             "endlinecolor": "#2a3f5f",
             "gridcolor": "white",
             "linecolor": "white",
             "minorgridcolor": "white",
             "startlinecolor": "#2a3f5f"
            },
            "baxis": {
             "endlinecolor": "#2a3f5f",
             "gridcolor": "white",
             "linecolor": "white",
             "minorgridcolor": "white",
             "startlinecolor": "#2a3f5f"
            },
            "type": "carpet"
           }
          ],
          "choropleth": [
           {
            "colorbar": {
             "outlinewidth": 0,
             "ticks": ""
            },
            "type": "choropleth"
           }
          ],
          "contour": [
           {
            "colorbar": {
             "outlinewidth": 0,
             "ticks": ""
            },
            "colorscale": [
             [
              0,
              "#0d0887"
             ],
             [
              0.1111111111111111,
              "#46039f"
             ],
             [
              0.2222222222222222,
              "#7201a8"
             ],
             [
              0.3333333333333333,
              "#9c179e"
             ],
             [
              0.4444444444444444,
              "#bd3786"
             ],
             [
              0.5555555555555556,
              "#d8576b"
             ],
             [
              0.6666666666666666,
              "#ed7953"
             ],
             [
              0.7777777777777778,
              "#fb9f3a"
             ],
             [
              0.8888888888888888,
              "#fdca26"
             ],
             [
              1,
              "#f0f921"
             ]
            ],
            "type": "contour"
           }
          ],
          "contourcarpet": [
           {
            "colorbar": {
             "outlinewidth": 0,
             "ticks": ""
            },
            "type": "contourcarpet"
           }
          ],
          "heatmap": [
           {
            "colorbar": {
             "outlinewidth": 0,
             "ticks": ""
            },
            "colorscale": [
             [
              0,
              "#0d0887"
             ],
             [
              0.1111111111111111,
              "#46039f"
             ],
             [
              0.2222222222222222,
              "#7201a8"
             ],
             [
              0.3333333333333333,
              "#9c179e"
             ],
             [
              0.4444444444444444,
              "#bd3786"
             ],
             [
              0.5555555555555556,
              "#d8576b"
             ],
             [
              0.6666666666666666,
              "#ed7953"
             ],
             [
              0.7777777777777778,
              "#fb9f3a"
             ],
             [
              0.8888888888888888,
              "#fdca26"
             ],
             [
              1,
              "#f0f921"
             ]
            ],
            "type": "heatmap"
           }
          ],
          "heatmapgl": [
           {
            "colorbar": {
             "outlinewidth": 0,
             "ticks": ""
            },
            "colorscale": [
             [
              0,
              "#0d0887"
             ],
             [
              0.1111111111111111,
              "#46039f"
             ],
             [
              0.2222222222222222,
              "#7201a8"
             ],
             [
              0.3333333333333333,
              "#9c179e"
             ],
             [
              0.4444444444444444,
              "#bd3786"
             ],
             [
              0.5555555555555556,
              "#d8576b"
             ],
             [
              0.6666666666666666,
              "#ed7953"
             ],
             [
              0.7777777777777778,
              "#fb9f3a"
             ],
             [
              0.8888888888888888,
              "#fdca26"
             ],
             [
              1,
              "#f0f921"
             ]
            ],
            "type": "heatmapgl"
           }
          ],
          "histogram": [
           {
            "marker": {
             "pattern": {
              "fillmode": "overlay",
              "size": 10,
              "solidity": 0.2
             }
            },
            "type": "histogram"
           }
          ],
          "histogram2d": [
           {
            "colorbar": {
             "outlinewidth": 0,
             "ticks": ""
            },
            "colorscale": [
             [
              0,
              "#0d0887"
             ],
             [
              0.1111111111111111,
              "#46039f"
             ],
             [
              0.2222222222222222,
              "#7201a8"
             ],
             [
              0.3333333333333333,
              "#9c179e"
             ],
             [
              0.4444444444444444,
              "#bd3786"
             ],
             [
              0.5555555555555556,
              "#d8576b"
             ],
             [
              0.6666666666666666,
              "#ed7953"
             ],
             [
              0.7777777777777778,
              "#fb9f3a"
             ],
             [
              0.8888888888888888,
              "#fdca26"
             ],
             [
              1,
              "#f0f921"
             ]
            ],
            "type": "histogram2d"
           }
          ],
          "histogram2dcontour": [
           {
            "colorbar": {
             "outlinewidth": 0,
             "ticks": ""
            },
            "colorscale": [
             [
              0,
              "#0d0887"
             ],
             [
              0.1111111111111111,
              "#46039f"
             ],
             [
              0.2222222222222222,
              "#7201a8"
             ],
             [
              0.3333333333333333,
              "#9c179e"
             ],
             [
              0.4444444444444444,
              "#bd3786"
             ],
             [
              0.5555555555555556,
              "#d8576b"
             ],
             [
              0.6666666666666666,
              "#ed7953"
             ],
             [
              0.7777777777777778,
              "#fb9f3a"
             ],
             [
              0.8888888888888888,
              "#fdca26"
             ],
             [
              1,
              "#f0f921"
             ]
            ],
            "type": "histogram2dcontour"
           }
          ],
          "mesh3d": [
           {
            "colorbar": {
             "outlinewidth": 0,
             "ticks": ""
            },
            "type": "mesh3d"
           }
          ],
          "parcoords": [
           {
            "line": {
             "colorbar": {
              "outlinewidth": 0,
              "ticks": ""
             }
            },
            "type": "parcoords"
           }
          ],
          "pie": [
           {
            "automargin": true,
            "type": "pie"
           }
          ],
          "scatter": [
           {
            "fillpattern": {
             "fillmode": "overlay",
             "size": 10,
             "solidity": 0.2
            },
            "type": "scatter"
           }
          ],
          "scatter3d": [
           {
            "line": {
             "colorbar": {
              "outlinewidth": 0,
              "ticks": ""
             }
            },
            "marker": {
             "colorbar": {
              "outlinewidth": 0,
              "ticks": ""
             }
            },
            "type": "scatter3d"
           }
          ],
          "scattercarpet": [
           {
            "marker": {
             "colorbar": {
              "outlinewidth": 0,
              "ticks": ""
             }
            },
            "type": "scattercarpet"
           }
          ],
          "scattergeo": [
           {
            "marker": {
             "colorbar": {
              "outlinewidth": 0,
              "ticks": ""
             }
            },
            "type": "scattergeo"
           }
          ],
          "scattergl": [
           {
            "marker": {
             "colorbar": {
              "outlinewidth": 0,
              "ticks": ""
             }
            },
            "type": "scattergl"
           }
          ],
          "scattermapbox": [
           {
            "marker": {
             "colorbar": {
              "outlinewidth": 0,
              "ticks": ""
             }
            },
            "type": "scattermapbox"
           }
          ],
          "scatterpolar": [
           {
            "marker": {
             "colorbar": {
              "outlinewidth": 0,
              "ticks": ""
             }
            },
            "type": "scatterpolar"
           }
          ],
          "scatterpolargl": [
           {
            "marker": {
             "colorbar": {
              "outlinewidth": 0,
              "ticks": ""
             }
            },
            "type": "scatterpolargl"
           }
          ],
          "scatterternary": [
           {
            "marker": {
             "colorbar": {
              "outlinewidth": 0,
              "ticks": ""
             }
            },
            "type": "scatterternary"
           }
          ],
          "surface": [
           {
            "colorbar": {
             "outlinewidth": 0,
             "ticks": ""
            },
            "colorscale": [
             [
              0,
              "#0d0887"
             ],
             [
              0.1111111111111111,
              "#46039f"
             ],
             [
              0.2222222222222222,
              "#7201a8"
             ],
             [
              0.3333333333333333,
              "#9c179e"
             ],
             [
              0.4444444444444444,
              "#bd3786"
             ],
             [
              0.5555555555555556,
              "#d8576b"
             ],
             [
              0.6666666666666666,
              "#ed7953"
             ],
             [
              0.7777777777777778,
              "#fb9f3a"
             ],
             [
              0.8888888888888888,
              "#fdca26"
             ],
             [
              1,
              "#f0f921"
             ]
            ],
            "type": "surface"
           }
          ],
          "table": [
           {
            "cells": {
             "fill": {
              "color": "#EBF0F8"
             },
             "line": {
              "color": "white"
             }
            },
            "header": {
             "fill": {
              "color": "#C8D4E3"
             },
             "line": {
              "color": "white"
             }
            },
            "type": "table"
           }
          ]
         },
         "layout": {
          "annotationdefaults": {
           "arrowcolor": "#2a3f5f",
           "arrowhead": 0,
           "arrowwidth": 1
          },
          "autotypenumbers": "strict",
          "coloraxis": {
           "colorbar": {
            "outlinewidth": 0,
            "ticks": ""
           }
          },
          "colorscale": {
           "diverging": [
            [
             0,
             "#8e0152"
            ],
            [
             0.1,
             "#c51b7d"
            ],
            [
             0.2,
             "#de77ae"
            ],
            [
             0.3,
             "#f1b6da"
            ],
            [
             0.4,
             "#fde0ef"
            ],
            [
             0.5,
             "#f7f7f7"
            ],
            [
             0.6,
             "#e6f5d0"
            ],
            [
             0.7,
             "#b8e186"
            ],
            [
             0.8,
             "#7fbc41"
            ],
            [
             0.9,
             "#4d9221"
            ],
            [
             1,
             "#276419"
            ]
           ],
           "sequential": [
            [
             0,
             "#0d0887"
            ],
            [
             0.1111111111111111,
             "#46039f"
            ],
            [
             0.2222222222222222,
             "#7201a8"
            ],
            [
             0.3333333333333333,
             "#9c179e"
            ],
            [
             0.4444444444444444,
             "#bd3786"
            ],
            [
             0.5555555555555556,
             "#d8576b"
            ],
            [
             0.6666666666666666,
             "#ed7953"
            ],
            [
             0.7777777777777778,
             "#fb9f3a"
            ],
            [
             0.8888888888888888,
             "#fdca26"
            ],
            [
             1,
             "#f0f921"
            ]
           ],
           "sequentialminus": [
            [
             0,
             "#0d0887"
            ],
            [
             0.1111111111111111,
             "#46039f"
            ],
            [
             0.2222222222222222,
             "#7201a8"
            ],
            [
             0.3333333333333333,
             "#9c179e"
            ],
            [
             0.4444444444444444,
             "#bd3786"
            ],
            [
             0.5555555555555556,
             "#d8576b"
            ],
            [
             0.6666666666666666,
             "#ed7953"
            ],
            [
             0.7777777777777778,
             "#fb9f3a"
            ],
            [
             0.8888888888888888,
             "#fdca26"
            ],
            [
             1,
             "#f0f921"
            ]
           ]
          },
          "colorway": [
           "#636efa",
           "#EF553B",
           "#00cc96",
           "#ab63fa",
           "#FFA15A",
           "#19d3f3",
           "#FF6692",
           "#B6E880",
           "#FF97FF",
           "#FECB52"
          ],
          "font": {
           "color": "#2a3f5f"
          },
          "geo": {
           "bgcolor": "white",
           "lakecolor": "white",
           "landcolor": "#E5ECF6",
           "showlakes": true,
           "showland": true,
           "subunitcolor": "white"
          },
          "hoverlabel": {
           "align": "left"
          },
          "hovermode": "closest",
          "mapbox": {
           "style": "light"
          },
          "paper_bgcolor": "white",
          "plot_bgcolor": "#E5ECF6",
          "polar": {
           "angularaxis": {
            "gridcolor": "white",
            "linecolor": "white",
            "ticks": ""
           },
           "bgcolor": "#E5ECF6",
           "radialaxis": {
            "gridcolor": "white",
            "linecolor": "white",
            "ticks": ""
           }
          },
          "scene": {
           "xaxis": {
            "backgroundcolor": "#E5ECF6",
            "gridcolor": "white",
            "gridwidth": 2,
            "linecolor": "white",
            "showbackground": true,
            "ticks": "",
            "zerolinecolor": "white"
           },
           "yaxis": {
            "backgroundcolor": "#E5ECF6",
            "gridcolor": "white",
            "gridwidth": 2,
            "linecolor": "white",
            "showbackground": true,
            "ticks": "",
            "zerolinecolor": "white"
           },
           "zaxis": {
            "backgroundcolor": "#E5ECF6",
            "gridcolor": "white",
            "gridwidth": 2,
            "linecolor": "white",
            "showbackground": true,
            "ticks": "",
            "zerolinecolor": "white"
           }
          },
          "shapedefaults": {
           "line": {
            "color": "#2a3f5f"
           }
          },
          "ternary": {
           "aaxis": {
            "gridcolor": "white",
            "linecolor": "white",
            "ticks": ""
           },
           "baxis": {
            "gridcolor": "white",
            "linecolor": "white",
            "ticks": ""
           },
           "bgcolor": "#E5ECF6",
           "caxis": {
            "gridcolor": "white",
            "linecolor": "white",
            "ticks": ""
           }
          },
          "title": {
           "x": 0.05
          },
          "xaxis": {
           "automargin": true,
           "gridcolor": "white",
           "linecolor": "white",
           "ticks": "",
           "title": {
            "standoff": 15
           },
           "zerolinecolor": "white",
           "zerolinewidth": 2
          },
          "yaxis": {
           "automargin": true,
           "gridcolor": "white",
           "linecolor": "white",
           "ticks": "",
           "title": {
            "standoff": 15
           },
           "zerolinecolor": "white",
           "zerolinewidth": 2
          }
         }
        },
        "title": {
         "text": "Correlation Matrix"
        },
        "width": 800,
        "xaxis": {
         "anchor": "y",
         "constrain": "domain",
         "domain": [
          0,
          1
         ],
         "scaleanchor": "y",
         "side": "bottom",
         "title": {
          "text": "Features"
         }
        },
        "yaxis": {
         "anchor": "x",
         "autorange": "reversed",
         "constrain": "domain",
         "domain": [
          0,
          1
         ],
         "title": {
          "text": "Features"
         }
        }
       }
      }
     },
     "metadata": {},
     "output_type": "display_data"
    }
   ],
   "source": [
    "threshold = 0.9\n",
    "correlation_matrix = df_All.corr(numeric_only=True)\n",
    "correlation_matrix = correlation_matrix[abs(correlation_matrix) > threshold].fillna(0)\n",
    "\n",
    "\n",
    "\n",
    "fig = px.imshow(correlation_matrix, \n",
    "                color_continuous_scale='Viridis',\n",
    "                labels=dict(x=\"Features\", y=\"Features\", color=\"Correlation\"),\n",
    "                title=\"Correlation Matrix\")\n",
    "\n",
    "fig.update_xaxes(title_text='Features', side='bottom')\n",
    "fig.update_layout(width=800, height=800)\n",
    "\n",
    "fig.show()\n",
    "\n"
   ]
  },
  {
   "cell_type": "code",
   "execution_count": 66,
   "metadata": {},
   "outputs": [],
   "source": [
    "upper_triangle = np.triu(np.ones(correlation_matrix.shape), k=1).astype(bool)\n"
   ]
  },
  {
   "cell_type": "code",
   "execution_count": 67,
   "metadata": {},
   "outputs": [
    {
     "name": "stdout",
     "output_type": "stream",
     "text": [
      "Empty DataFrame\n",
      "Columns: [Pair_ID, Variable, Correlation, DESCRIPTION]\n",
      "Index: []\n"
     ]
    }
   ],
   "source": [
    "# Get indices of upper triangle where correlations are above threshold\n",
    "indices = np.where((np.abs(correlation_matrix) > threshold) & (upper_triangle))\n",
    "\n",
    "# Convert these indices to lists\n",
    "rows, cols = indices[0].tolist(), indices[1].tolist()\n",
    "\n",
    "# Construct pairs and fetch corresponding values 'DESCRIPTION'\n",
    "\n",
    "\n",
    "data = []\n",
    "correlation_id = 1  # Start the unique identifier for each correlation pair\n",
    "\n",
    "for row, col in zip(rows, cols):\n",
    "    # Ensure v1 is always lexicographically smaller than v2\n",
    "    v1, v2 = sorted([correlation_matrix.columns[row], correlation_matrix.columns[col]])\n",
    "    \n",
    "    # Skip if this pair has already been processed\n",
    "    if any(x[1] == v1 and x[2] == v2 for x in data):\n",
    "        continue\n",
    "\n",
    "    correlation_value = correlation_matrix.loc[v1, v2]\n",
    "    \n",
    "    # Fetch other required values for v1\n",
    "    # importance1 = FScore[FScore['Feature'] == v1]['Importance'].values[0] if not FScore[FScore['Feature'] == v1].empty else \"N/A\"\n",
    "    DESCRIPTION1 = TagDesc[TagDesc['ID'] == v1]['DESCRIPTION'].values[0] if not TagDesc[TagDesc['ID'] == v1].empty else \"####### UPDATE DESCRIPTION\"\n",
    "    \n",
    "    # Fetch other required values for v2\n",
    "    # importance2 = FScore[FScore['Feature'] == v2]['Importance'].values[0] if not FScore[FScore['Feature'] == v2].empty else \"N/A\"\n",
    "    DESCRIPTION2 = TagDesc[TagDesc['ID'] == v2]['DESCRIPTION'].values[0] if not TagDesc[TagDesc['ID'] == v2].empty else \"####### UPDATE DESCRIPTION\"\n",
    "    \n",
    "    # Append data for v1 and then v2\n",
    "    data.append(['c' + str(correlation_id) + 'v1', v1, correlation_value, DESCRIPTION1])#, importance1\n",
    "    data.append(['c' + str(correlation_id) + 'v2', v2, correlation_value, DESCRIPTION2])#, importance2\n",
    "    \n",
    "    correlation_id += 1  # Increment the identifier for the next unique correlation pair\n",
    "\n",
    "final_df = pd.DataFrame(data, columns=['Pair_ID', 'Variable', 'Correlation', 'DESCRIPTION'])#, 'Importance',\n",
    "\n",
    "sorted_df = final_df.sort_values(by='Pair_ID', ascending=False)\n",
    "print(sorted_df)\n"
   ]
  },
  {
   "cell_type": "code",
   "execution_count": 68,
   "metadata": {},
   "outputs": [
    {
     "name": "stdout",
     "output_type": "stream",
     "text": [
      "Empty DataFrame\n",
      "Columns: [Pair_ID, Variable, Correlation, DESCRIPTION]\n",
      "Index: []\n"
     ]
    }
   ],
   "source": [
    "sorted_df = final_df.sort_values(by='Variable', ascending=False)\n",
    "print(sorted_df)\n"
   ]
  },
  {
   "cell_type": "code",
   "execution_count": 69,
   "metadata": {},
   "outputs": [],
   "source": [
    "# # Group by the first 3 characters of Pair_ID (i.e., cX) and sort within the groups by Importance\n",
    "# final_df['Group'] = final_df['Pair_ID'].str[:3]\n",
    "# sorted_df = final_df.groupby('Group').apply(lambda x: x.sort_values('Importance', ascending=False)).reset_index(drop=True)\n",
    "\n",
    "# # Drop the temporary 'Group' column\n",
    "# sorted_df.drop('Group', axis=1, inplace=True)\n",
    "\n",
    "# print(sorted_df)\n"
   ]
  },
  {
   "cell_type": "code",
   "execution_count": 70,
   "metadata": {},
   "outputs": [],
   "source": [
    "# sorted_df = final_df.sort_values(by='Importance', ascending=False)\n",
    "# print(sorted_df)"
   ]
  },
  {
   "cell_type": "code",
   "execution_count": 71,
   "metadata": {},
   "outputs": [],
   "source": [
    "# If you want to save df_CDFI to a .csv file:\n",
    "sorted_df.to_csv('sorted_df.csv', index=False)"
   ]
  },
  {
   "cell_type": "markdown",
   "metadata": {},
   "source": [
    "### No CSV Output\n",
    "\n",
    "Next page starts will all data inputs and uses only those below\n",
    "\n",
    "LIMS data lables need to be refomatted to input style or they will be left out"
   ]
  },
  {
   "cell_type": "code",
   "execution_count": 72,
   "metadata": {},
   "outputs": [
    {
     "data": {
      "text/plain": [
       "Index(['425_pct_Al', 'M_Value', 'C4_pct_Eth', 'C4_pct_H2O',\n",
       "       'HydWtr_pct_Ammonia', 'DI55152', 'FC55003', 'FC55552', 'FC55569',\n",
       "       'FFC55553', 'FFC55555', 'LC55555', 'PI55004', 'TC55552', 'TI55021',\n",
       "       'Butanol'],\n",
       "      dtype='object')"
      ]
     },
     "execution_count": 72,
     "metadata": {},
     "output_type": "execute_result"
    }
   ],
   "source": [
    "df_All.columns\n",
    "# Data Visualization:\n",
    "\n",
    "# Create various plots (histograms, bar charts, scatter plots, etc.) to visualize the distribution of data and relationships between variables.\n",
    "# Use libraries like Matplotlib or Seaborn for data visualization."
   ]
  },
  {
   "cell_type": "code",
   "execution_count": 73,
   "metadata": {},
   "outputs": [
    {
     "name": "stdout",
     "output_type": "stream",
     "text": [
      "Number of features: 16\n"
     ]
    }
   ],
   "source": [
    "num_columns = df_All.shape[1]\n",
    "print(\"Number of features:\", num_columns)"
   ]
  }
 ],
 "metadata": {
  "kernelspec": {
   "display_name": "Python 3",
   "language": "python",
   "name": "python3"
  },
  "language_info": {
   "codemirror_mode": {
    "name": "ipython",
    "version": 3
   },
   "file_extension": ".py",
   "mimetype": "text/x-python",
   "name": "python",
   "nbconvert_exporter": "python",
   "pygments_lexer": "ipython3",
   "version": "3.10.9"
  }
 },
 "nbformat": 4,
 "nbformat_minor": 2
}
