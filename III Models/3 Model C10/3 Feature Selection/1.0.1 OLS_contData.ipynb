{
  "cells": [
    {
      "cell_type": "code",
      "execution_count": 1,
      "metadata": {
        "tags": [],
        "trusted": true
      },
      "outputs": [
        {
          "name": "stderr",
          "output_type": "stream",
          "text": [
            "C:\\Users\\austinsh\\AppData\\Local\\Temp\\ipykernel_28044\\3619633928.py:2: DeprecationWarning: \n",
            "Pyarrow will become a required dependency of pandas in the next major release of pandas (pandas 3.0),\n",
            "(to allow more performant data types, such as the Arrow string type, and better interoperability with other libraries)\n",
            "but was not found to be installed on your system.\n",
            "If this would cause problems for you,\n",
            "please provide us feedback at https://github.com/pandas-dev/pandas/issues/54466\n",
            "        \n",
            "  import pandas as pd\n"
          ]
        }
      ],
      "source": [
        "# Import necessary libraries\n",
        "import pandas as pd\n",
        "from statsmodels.formula.api import ols\n",
        "import statsmodels.api as sm\n",
        "from sklearn.model_selection import train_test_split"
      ]
    },
    {
      "cell_type": "code",
      "execution_count": 2,
      "metadata": {},
      "outputs": [],
      "source": [
        "# url_df_All_1 = 'https://github.com/saust1/Project-OptiC4/blob/e358d5172ac0b8fbb6fba776c0fe0a2b523b8b5c/3%20Feature%20Selection/contData_all_Avg%20-%201o2.csv?raw=true'\n",
        "# url_df_All_2 = 'https://github.com/saust1/Project-OptiC4/blob/e358d5172ac0b8fbb6fba776c0fe0a2b523b8b5c/3%20Feature%20Selection/contData_all_Avg%20-%202o2.csv?raw=true'\n",
        "\n",
        "# df_All_1 = pd.read_csv(url_df_All_1, index_col=0)\n",
        "# df_All_2 = pd.read_csv(url_df_All_2, index_col=0)"
      ]
    },
    {
      "cell_type": "code",
      "execution_count": 3,
      "metadata": {},
      "outputs": [],
      "source": [
        "# df_All_1 = pd.read_csv(r'C:\\Users\\saust\\OneDrive\\Desktop\\GitRepo\\Project-OptiC4\\1 Preprocess\\Merge Data\\contData_all_Avg_1o2.csv')\n",
        "# df_All_2 = pd.read_csv(r'C:\\Users\\saust\\OneDrive\\Desktop\\GitRepo\\Project-OptiC4\\1 Preprocess\\Merge Data\\contData_all_Avg_2o2.csv')\n",
        "# # Concatenate (union) the dataframes\n",
        "# df_All = pd.concat([df_All_1, df_All_2], ignore_index=True)\n",
        "\n",
        "# print(df_All.head())"
      ]
    },
    {
      "cell_type": "code",
      "execution_count": 4,
      "metadata": {},
      "outputs": [
        {
          "name": "stdout",
          "output_type": "stream",
          "text": [
            "                  Date  425_pct_Al     Al2O3  M_Value  C4_pct_Eth  C4_pct_H2O  \\\n",
            "0  2012-05-17 09:00:00    6.319560  11.41670  3.50773    2.554580     22.0531   \n",
            "1  2012-05-17 10:00:00    6.319915  11.40835  3.50797    2.555935     22.0557   \n",
            "2  2012-05-17 12:00:00    6.320970  11.39165  3.50869    2.560005     22.0636   \n",
            "3  2012-05-18 08:00:00    6.328690  11.39165  3.51401    2.540370     22.0604   \n",
            "4  2012-05-18 09:00:00    6.336060  11.40500  3.51910    2.514430     22.0484   \n",
            "\n",
            "   HydWtr_pct_Ammonia  C4_pct_Hex  HydWtr_Na2O  Butanol  ...    LC90366  \\\n",
            "0            0.867508    0.670721     3.354160  30.3662  ...  15.449150   \n",
            "1            0.864729    0.671059     3.306475  30.3662  ...  15.449150   \n",
            "2            0.856391    0.672071     3.163420  30.6785  ...  15.449150   \n",
            "3            0.811652    0.674174     2.238130  32.6454  ...   8.759814   \n",
            "4            0.773793    0.675408     1.391475  32.6454  ...   8.759814   \n",
            "\n",
            "    LC90368   PI55004   PI55020   TC55552   TC55553   TC55555   TI40050  \\\n",
            "0  49.26750  1.236360 -0.389406  179.0115  213.9375  179.9940  82.96565   \n",
            "1  49.26750  1.236360 -0.389406  179.0115  213.9375  179.9940  82.96565   \n",
            "2  49.26750  1.236360 -0.389406  179.0115  213.9375  179.9940  82.96565   \n",
            "3  48.51306  1.190342 -0.318266  180.7166  201.0680  179.9338  82.41662   \n",
            "4  48.51306  1.190342 -0.318266  180.7166  201.0680  179.9338  82.41662   \n",
            "\n",
            "    TI55021   TI55023  \n",
            "0  213.8740  212.3085  \n",
            "1  213.8740  212.3085  \n",
            "2  213.8740  212.3085  \n",
            "3  214.5402  212.9866  \n",
            "4  214.5402  212.9866  \n",
            "\n",
            "[5 rows x 33 columns]\n"
          ]
        }
      ],
      "source": [
        "df_All = pd.read_csv(r'C:\\Users\\austinsh\\Project-OptiC4\\III Models\\3 Model C4\\3 Feature Selection\\filtered-out_5-9_corr.csv')\n",
        "\n",
        "print(df_All.head())"
      ]
    },
    {
      "cell_type": "code",
      "execution_count": 5,
      "metadata": {},
      "outputs": [
        {
          "data": {
            "text/plain": [
              "Index(['Date', '425_pct_Al', 'Al2O3', 'M_Value', 'C4_pct_Eth', 'C4_pct_H2O',\n",
              "       'HydWtr_pct_Ammonia', 'C4_pct_Hex', 'HydWtr_Na2O', 'Butanol', 'DI55102',\n",
              "       'DI55152', 'DI55580', 'FC55003', 'FC55552', 'FC55569', 'FC55576',\n",
              "       'FFC55553', 'FFC55555', 'LC52572', 'LC55553', 'LC55557', 'LC55568',\n",
              "       'LC90366', 'LC90368', 'PI55004', 'PI55020', 'TC55552', 'TC55553',\n",
              "       'TC55555', 'TI40050', 'TI55021', 'TI55023'],\n",
              "      dtype='object')"
            ]
          },
          "execution_count": 5,
          "metadata": {},
          "output_type": "execute_result"
        }
      ],
      "source": [
        "df_All.columns"
      ]
    },
    {
      "cell_type": "code",
      "execution_count": 6,
      "metadata": {
        "trusted": true
      },
      "outputs": [],
      "source": [
        "# Set max columns to display\n",
        "pd.set_option('display.max_columns', None)"
      ]
    },
    {
      "cell_type": "code",
      "execution_count": 7,
      "metadata": {},
      "outputs": [],
      "source": [
        "# # List of columns to exclude to run XGboost feature selection\n",
        "# exclude_columns = ['Octanol', 'Hexanol', 'Ethanol', 'Decanol',\n",
        "       \n",
        "#        'TI52014', 'TI55013', 'TI55014', 'TI55015', 'TI55016', 'TI55017', 'TI55021', 'TI55023',\n",
        "#        'TC52015', 'FC52018', 'II52554', 'TI40050', 'VI52558B'\n",
        "#                    ]\n",
        "\n",
        "# # Create a new DataFrame without the excluded columnsd\n",
        "# df_All = df_All.drop(columns=exclude_columns)"
      ]
    },
    {
      "cell_type": "code",
      "execution_count": 8,
      "metadata": {},
      "outputs": [],
      "source": [
        "# df_All = df_All[df_All['Date'] > '2022-06-15 00:00:00']"
      ]
    },
    {
      "cell_type": "markdown",
      "metadata": {},
      "source": [
        "# Remaining Features after Correlation Analysis"
      ]
    },
    {
      "cell_type": "code",
      "execution_count": 9,
      "metadata": {},
      "outputs": [],
      "source": [
        "\n",
        "# selected_columns = ['425 %Al', 'Butanol', 'DI55102', 'DI55152', 'DI55580', 'FC42428',\n",
        "#        'FC55003', 'FC55552', 'FC55569', 'FC55576', 'FFC55553', 'FFC55555',\n",
        "#        'LC52572', 'LC55553', 'LC55555', 'LC55557', 'LC55568', 'LC90366',\n",
        "#        'LC90368', 'PI55004', 'PI55020', 'TC55552', 'TC55553', 'TC55555'\n",
        "#                    ]\n",
        "\n",
        "# existing_columns = [col for col in selected_columns if col in df_All.columns]\n",
        "# df_All = df_All[existing_columns]"
      ]
    },
    {
      "cell_type": "code",
      "execution_count": 10,
      "metadata": {},
      "outputs": [],
      "source": [
        "# First Iteration\n",
        "# selected_columns = ['Butanol PPM', '425 SAO Al', 'FC42428', 'FC55003', 'FC55102', 'FC55152', 'FFC55555',\n",
        "#        'LC55553', 'LC55557', 'LC55568', 'LC90366', 'TC55555']\n",
        "\n",
        "\n"
      ]
    },
    {
      "cell_type": "code",
      "execution_count": 11,
      "metadata": {},
      "outputs": [
        {
          "data": {
            "text/plain": [
              "Index(['Date', '425_pct_Al', 'Al2O3', 'M_Value', 'C4_pct_Eth', 'C4_pct_H2O',\n",
              "       'HydWtr_pct_Ammonia', 'C4_pct_Hex', 'HydWtr_Na2O', 'Butanol', 'DI55102',\n",
              "       'DI55152', 'DI55580', 'FC55003', 'FC55552', 'FC55569', 'FC55576',\n",
              "       'FFC55553', 'FFC55555', 'LC52572', 'LC55553', 'LC55557', 'LC55568',\n",
              "       'LC90366', 'LC90368', 'PI55004', 'PI55020', 'TC55552', 'TC55553',\n",
              "       'TC55555', 'TI40050', 'TI55021', 'TI55023'],\n",
              "      dtype='object')"
            ]
          },
          "execution_count": 11,
          "metadata": {},
          "output_type": "execute_result"
        }
      ],
      "source": [
        "df_All.columns"
      ]
    },
    {
      "cell_type": "code",
      "execution_count": 12,
      "metadata": {},
      "outputs": [],
      "source": [
        "# Splitting into train and test\n",
        "X = df_All.drop(['Butanol', 'Date'], axis=1)  # Assuming 'target' is your target column\n",
        "y = df_All['Butanol']\n",
        "X_train, X_test, y_train, y_test = train_test_split(X, y, test_size=0.2, random_state=42)"
      ]
    },
    {
      "cell_type": "code",
      "execution_count": 13,
      "metadata": {},
      "outputs": [],
      "source": [
        "# # Ensure all columns are numeric and handle missing values\n",
        "# # For example, to fill missing values with the mean of each column:\n",
        "# X = X.apply(lambda col: pd.to_numeric(col, errors='coerce')).fillna(X.mean())\n",
        "# y = pd.to_numeric(y, errors='coerce').fillna(y.mean())\n",
        "\n",
        "# Adding a constant to the model (if you haven't already)\n",
        "X = sm.add_constant(X)\n",
        "\n",
        "# Now, split your dataset into train and test again to ensure clean separation\n",
        "X_train, X_test, y_train, y_test = train_test_split(X, y, test_size=0.2, random_state=42)\n"
      ]
    },
    {
      "cell_type": "code",
      "execution_count": 14,
      "metadata": {},
      "outputs": [
        {
          "name": "stdout",
          "output_type": "stream",
          "text": [
            "                            OLS Regression Results                            \n",
            "==============================================================================\n",
            "Dep. Variable:                Butanol   R-squared:                       0.242\n",
            "Model:                            OLS   Adj. R-squared:                  0.241\n",
            "Method:                 Least Squares   F-statistic:                     413.0\n",
            "Date:                Tue, 19 Mar 2024   Prob (F-statistic):               0.00\n",
            "Time:                        17:56:01   Log-Likelihood:            -1.3877e+05\n",
            "No. Observations:               40127   AIC:                         2.776e+05\n",
            "Df Residuals:                   40095   BIC:                         2.779e+05\n",
            "Df Model:                          31                                         \n",
            "Covariance Type:            nonrobust                                         \n",
            "======================================================================================\n",
            "                         coef    std err          t      P>|t|      [0.025      0.975]\n",
            "--------------------------------------------------------------------------------------\n",
            "const                -63.2112     14.222     -4.445      0.000     -91.086     -35.336\n",
            "425_pct_Al             1.2698      0.203      6.255      0.000       0.872       1.668\n",
            "Al2O3                 -1.0809      0.109     -9.927      0.000      -1.294      -0.868\n",
            "M_Value               -0.4727      0.249     -1.899      0.058      -0.961       0.015\n",
            "C4_pct_Eth            -1.7417      0.089    -19.601      0.000      -1.916      -1.568\n",
            "C4_pct_H2O             0.2836      0.023     12.508      0.000       0.239       0.328\n",
            "HydWtr_pct_Ammonia     2.9993      0.278     10.782      0.000       2.454       3.544\n",
            "C4_pct_Hex            -2.4595      0.184    -13.373      0.000      -2.820      -2.099\n",
            "HydWtr_Na2O           -1.0022      0.058    -17.229      0.000      -1.116      -0.888\n",
            "DI55102               25.3149      1.120     22.597      0.000      23.119      27.511\n",
            "DI55152                6.5115      2.426      2.684      0.007       1.756      11.267\n",
            "DI55580                5.4343      1.124      4.837      0.000       3.232       7.636\n",
            "FC55003               -0.0017   7.13e-05    -23.559      0.000      -0.002      -0.002\n",
            "FC55552                0.0004   1.13e-05     37.532      0.000       0.000       0.000\n",
            "FC55569               -0.0020      0.000    -12.022      0.000      -0.002      -0.002\n",
            "FC55576                0.0040      0.000     18.251      0.000       0.004       0.004\n",
            "FFC55553              14.6438      1.314     11.144      0.000      12.068      17.219\n",
            "FFC55555             -28.5335      2.070    -13.784      0.000     -32.591     -24.476\n",
            "LC52572                0.1472      0.019      7.903      0.000       0.111       0.184\n",
            "LC55553               -0.1844      0.008    -24.219      0.000      -0.199      -0.169\n",
            "LC55557               -0.2639      0.021    -12.781      0.000      -0.304      -0.223\n",
            "LC55568                0.3654      0.036     10.141      0.000       0.295       0.436\n",
            "LC90366               -0.0256      0.002    -16.428      0.000      -0.029      -0.023\n",
            "LC90368                0.0165      0.002      6.805      0.000       0.012       0.021\n",
            "PI55004                0.0438      0.186      0.235      0.814      -0.321       0.409\n",
            "PI55020                1.5098      0.053     28.615      0.000       1.406       1.613\n",
            "TC55552                0.0448      0.003     15.343      0.000       0.039       0.051\n",
            "TC55553                0.0321      0.002     15.450      0.000       0.028       0.036\n",
            "TC55555                0.4280      0.030     14.161      0.000       0.369       0.487\n",
            "TI40050               -0.0575      0.003    -16.514      0.000      -0.064      -0.051\n",
            "TI55021               -0.0784      0.006    -13.160      0.000      -0.090      -0.067\n",
            "TI55023               -0.0408      0.060     -0.679      0.497      -0.159       0.077\n",
            "==============================================================================\n",
            "Omnibus:                    18053.831   Durbin-Watson:                   0.053\n",
            "Prob(Omnibus):                  0.000   Jarque-Bera (JB):            93433.896\n",
            "Skew:                           2.171   Prob(JB):                         0.00\n",
            "Kurtosis:                       9.085   Cond. No.                     1.40e+07\n",
            "==============================================================================\n",
            "\n",
            "Notes:\n",
            "[1] Standard Errors assume that the covariance matrix of the errors is correctly specified.\n",
            "[2] The condition number is large, 1.4e+07. This might indicate that there are\n",
            "strong multicollinearity or other numerical problems.\n"
          ]
        }
      ],
      "source": [
        "#=============================================\n",
        "# TRAIN & EVALUATE REGRESSION MODEL\n",
        "#=============================================\n",
        "\n",
        "#fit simple linear regression model\n",
        "model = sm.OLS(y, X).fit()\n",
        "print(model.summary())"
      ]
    },
    {
      "cell_type": "code",
      "execution_count": 15,
      "metadata": {},
      "outputs": [
        {
          "name": "stdout",
          "output_type": "stream",
          "text": [
            "['M_Value', 'PI55004', 'TI55023']\n"
          ]
        }
      ],
      "source": [
        "# Convert summary to DataFrame\n",
        "summary_table = model.summary().tables[1]\n",
        "summary_df = pd.DataFrame(summary_table.data[1:], columns=summary_table.data[0])\n",
        "\n",
        "# Convert necessary columns to numeric\n",
        "numeric_cols = ['coef', 'std err', 't', 'P>|t|', '[0.025', '0.975]']\n",
        "summary_df[numeric_cols] = summary_df[numeric_cols].apply(pd.to_numeric, errors='coerce')\n",
        "\n",
        "# Apply the filter for insignificance and CI crossing zero\n",
        "threshold = 0.05\n",
        "filtered_df = summary_df[(summary_df['P>|t|'] > threshold) & ((summary_df['[0.025'] < 0) & (summary_df['0.975]'] > 0))]\n",
        "\n",
        "# Extracting the feature names\n",
        "insignificant_features = filtered_df.iloc[:, 0].tolist()  # First column contains feature names\n",
        "print(insignificant_features)\n"
      ]
    },
    {
      "cell_type": "code",
      "execution_count": 16,
      "metadata": {},
      "outputs": [
        {
          "name": "stdout",
          "output_type": "stream",
          "text": [
            "               coef  std err      t  P>|t|  [0.025  0.975]\n",
            "3   M_Value -0.4727    0.249 -1.899  0.058  -0.961   0.015\n",
            "24  PI55004  0.0438    0.186  0.235  0.814  -0.321   0.409\n",
            "31  TI55023 -0.0408    0.060 -0.679  0.497  -0.159   0.077\n"
          ]
        }
      ],
      "source": [
        "print(filtered_df)"
      ]
    },
    {
      "cell_type": "code",
      "execution_count": 17,
      "metadata": {},
      "outputs": [
        {
          "name": "stdout",
          "output_type": "stream",
          "text": [
            "\n",
            "Significant Features:\n",
            "['const', '425_pct_Al', 'Al2O3', 'C4_pct_Eth', 'C4_pct_H2O', 'HydWtr_pct_Ammonia', 'C4_pct_Hex', 'HydWtr_Na2O', 'DI55102', 'DI55152', 'DI55580', 'FC55003', 'FC55569', 'FC55576', 'FFC55553', 'FFC55555', 'LC52572', 'LC55553', 'LC55557', 'LC55568', 'LC90366', 'LC90368', 'PI55020', 'TC55552', 'TC55553', 'TC55555', 'TI40050', 'TI55021']\n"
          ]
        }
      ],
      "source": [
        "# Filter for significant features\n",
        "significant_df = summary_df[(summary_df['P>|t|'] <= threshold) & ((summary_df['[0.025'] > 0) | (summary_df['0.975]'] < 0))]\n",
        "significant_features = significant_df.iloc[:, 0].tolist()\n",
        "print(\"\\nSignificant Features:\")\n",
        "print(significant_features)"
      ]
    },
    {
      "cell_type": "code",
      "execution_count": 1,
      "metadata": {},
      "outputs": [
        {
          "name": "stdout",
          "output_type": "stream",
          "text": [
            "2024-03-19 19:59:18.517148\n"
          ]
        }
      ],
      "source": [
        "from datetime import datetime\n",
        "\n",
        "# Get the current date and time\n",
        "current_date_time = datetime.now()\n",
        "\n",
        "# Print the current date and time\n",
        "print(current_date_time)\n"
      ]
    }
  ],
  "metadata": {
    "kernelspec": {
      "display_name": "Python 3 (ipykernel)",
      "language": "python",
      "name": "python3"
    },
    "language_info": {
      "codemirror_mode": {
        "name": "ipython",
        "version": 3
      },
      "file_extension": ".py",
      "mimetype": "text/x-python",
      "name": "python",
      "nbconvert_exporter": "python",
      "pygments_lexer": "ipython3",
      "version": "3.12.1"
    }
  },
  "nbformat": 4,
  "nbformat_minor": 4
}
