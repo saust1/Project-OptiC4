{
  "cells": [
    {
      "cell_type": "code",
      "execution_count": 1,
      "metadata": {
        "tags": [],
        "trusted": true
      },
      "outputs": [
        {
          "name": "stderr",
          "output_type": "stream",
          "text": [
            "C:\\Users\\austinsh\\AppData\\Local\\Temp\\ipykernel_3656\\1304120184.py:1: DeprecationWarning: \n",
            "Pyarrow will become a required dependency of pandas in the next major release of pandas (pandas 3.0),\n",
            "(to allow more performant data types, such as the Arrow string type, and better interoperability with other libraries)\n",
            "but was not found to be installed on your system.\n",
            "If this would cause problems for you,\n",
            "please provide us feedback at https://github.com/pandas-dev/pandas/issues/54466\n",
            "        \n",
            "  import pandas as pd\n"
          ]
        }
      ],
      "source": [
        "import pandas as pd\n",
        "# Set max columns to display\n",
        "pd.set_option('display.max_columns', None)\n",
        "\n",
        "import numpy as np\n",
        "from sklearn import preprocessing as pre\n",
        "import matplotlib.pyplot as plt\n",
        "from scipy import stats\n",
        "import statsmodels.api as sm\n",
        "from sklearn.model_selection import train_test_split\n",
        "from sklearn.metrics import mean_squared_error, r2_score\n",
        "\n"
      ]
    },
    {
      "cell_type": "code",
      "execution_count": 2,
      "metadata": {
        "tags": [],
        "trusted": true
      },
      "outputs": [],
      "source": [
        "\n",
        "# # Importing CSV files\n",
        "# df_CDunit = pd.read_csv('https://raw.githubusercontent.com/saust1/Project-OptiC4/main/1%20Preprocess/Continuous%20Data/cont_554Data_clean.csv')\n",
        "# df_AlCon = pd.read_csv('https://raw.githubusercontent.com/saust1/Project-OptiC4/main/1%20Preprocess/Continuous%20Data/cont_425Data_clean.csv')\n",
        "# df_FB554 = pd.read_csv('https://raw.githubusercontent.com/saust1/Project-OptiC4/main/1%20Preprocess/Continuous%20Data/cont_unitData_clean.csv')\n"
      ]
    },
    {
      "cell_type": "code",
      "execution_count": 3,
      "metadata": {},
      "outputs": [],
      "source": [
        "# # Importing CSV files\n",
        "# bordeCode directory\n",
        "df_CDunit = pd.read_csv(r'C:\\Users\\austinsh\\Project-OptiC4\\IV Optimize\\Testing Data\\Continuous Data\\cont_unitData_clean.csv')\n",
        "df_AlCon = pd.read_csv(r'C:\\Users\\austinsh\\Project-OptiC4\\IV Optimize\\Testing Data\\Continuous Data\\cont_425Data_clean.csv')\n",
        "df_FB554 = pd.read_csv(r'C:\\Users\\austinsh\\Project-OptiC4\\IV Optimize\\Testing Data\\Continuous Data\\cont_554Data_clean.csv')\n",
        "\n"
      ]
    },
    {
      "cell_type": "code",
      "execution_count": 4,
      "metadata": {
        "tags": [],
        "trusted": true
      },
      "outputs": [
        {
          "name": "stdout",
          "output_type": "stream",
          "text": [
            "            DI55102       DI55152       DI55580       FC55003       FC55009  \\\n",
            "count  47714.000000  47714.000000  47714.000000  47714.000000  47714.000000   \n",
            "mean       0.943832      0.932738      0.999463   6004.739389    840.214589   \n",
            "std        0.054113      0.030251      0.050624    845.117946    612.586244   \n",
            "min        0.800002      0.836900      0.848476   2868.570000      0.000000   \n",
            "25%        0.909931      0.912513      0.965970   5491.450000    289.946250   \n",
            "50%        0.950101      0.932759      0.998735   6021.665000    825.158000   \n",
            "75%        0.984713      0.952295      1.034800   6565.487500   1318.492500   \n",
            "max        1.061510      1.025180      1.144600   9134.330000   2674.790000   \n",
            "\n",
            "            FC55552       FC55569       FC55576      FFC55553      FFC55555  \\\n",
            "count  47714.000000  47714.000000  47714.000000  47714.000000  47714.000000   \n",
            "mean   35995.032821   6606.136206    368.910092      1.000340      0.771854   \n",
            "std     4921.171720    384.746947    256.284600      0.037281      0.023072   \n",
            "min    18029.300000   5135.670000      0.000000      0.814458      0.689689   \n",
            "25%    34961.300000   6371.867500    191.452250      0.976744      0.758391   \n",
            "50%    37962.350000   6583.970000    340.012000      0.998601      0.773203   \n",
            "75%    39023.500000   6817.807500    544.386250      1.019930      0.787810   \n",
            "max    52000.000000   8114.690000   1132.440000      1.176560      0.857842   \n",
            "\n",
            "            LC55557       LC90366       LC90368       PI55020       TC55552  \\\n",
            "count  47714.000000  47714.000000  47714.000000  47714.000000  47714.000000   \n",
            "mean      69.424024     46.362035     36.559125     -1.470629    168.953437   \n",
            "std        2.899641     29.061580     19.983490      1.142284     15.270151   \n",
            "min       60.072000      0.000000      0.006367     -4.903500    119.719000   \n",
            "25%       66.787225     21.311900     20.294325     -2.350363    155.825000   \n",
            "50%       70.068800     47.763800     41.550450     -1.455730    172.919500   \n",
            "75%       71.687350     77.121050     51.670200     -0.446875    180.976000   \n",
            "max       78.477100     87.901600     81.210800      2.030470    202.625000   \n",
            "\n",
            "            TI55021  \n",
            "count  47714.000000  \n",
            "mean     223.109193  \n",
            "std        9.857823  \n",
            "min      205.103000  \n",
            "25%      217.456000  \n",
            "50%      220.237000  \n",
            "75%      223.975000  \n",
            "max      258.469000  \n",
            "         425_pct_Al         Al2O3       M_Value    C4_pct_Eth    C4_pct_H2O  \\\n",
            "count  47714.000000  47714.000000  47714.000000  47714.000000  47714.000000   \n",
            "mean       6.148529     11.355821      3.592182      1.210577     21.161850   \n",
            "std        0.255454      0.570376      0.178180      0.688121      2.757489   \n",
            "min        5.173540      9.528660      1.299580      0.035042      8.012620   \n",
            "25%        6.006733     11.084700      3.500682      0.627362     18.776600   \n",
            "50%        6.142750     11.483700      3.587500      1.107635     21.434350   \n",
            "75%        6.290807     11.701900      3.679918      1.673828     23.312025   \n",
            "max        7.136170     12.880700      5.831770     12.110300     34.783400   \n",
            "\n",
            "       HydWtr_pct_Ammonia    C4_pct_Hex   HydWtr_Na2O  \n",
            "count        47714.000000  47714.000000  47714.000000  \n",
            "mean             0.970036      0.466890      0.807344  \n",
            "std              0.149990      0.242331      0.699166  \n",
            "min              0.366569      0.000060      0.000000  \n",
            "25%              0.876656      0.348183      0.454378  \n",
            "50%              0.940852      0.443506      0.663665  \n",
            "75%              1.033120      0.541296      0.980206  \n",
            "max              1.610430      3.147610     13.026300  \n",
            "            Butanol       Decanol\n",
            "count  47714.000000  47714.000000\n",
            "mean       9.660308      3.060604\n",
            "std        9.860698      1.540151\n",
            "min        0.000000      0.000000\n",
            "25%        3.835363      1.860000\n",
            "50%        5.870000      2.953330\n",
            "75%       10.888350      4.080457\n",
            "max       57.667300      8.029860\n"
          ]
        }
      ],
      "source": [
        "print(df_CDunit.describe())\n",
        "print(df_AlCon.describe())\n",
        "print(df_FB554.describe())\n"
      ]
    },
    {
      "cell_type": "code",
      "execution_count": 5,
      "metadata": {},
      "outputs": [
        {
          "name": "stdout",
          "output_type": "stream",
          "text": [
            "Data type for 'Date' column in df_CDunit: object\n",
            "Data type for 'Date' column in df_FB554: object\n",
            "Data type for 'Date' column in df_AlCon: object\n"
          ]
        }
      ],
      "source": [
        "print(\"Data type for 'Date' column in df_CDunit:\", df_CDunit['Date'].dtypes)\n",
        "print(\"Data type for 'Date' column in df_FB554:\", df_FB554['Date'].dtypes)\n",
        "print(\"Data type for 'Date' column in df_AlCon:\", df_AlCon['Date'].dtypes)\n"
      ]
    },
    {
      "cell_type": "code",
      "execution_count": 6,
      "metadata": {},
      "outputs": [],
      "source": [
        "df_CDunit['Date'] = pd.to_datetime(df_CDunit['Date'], errors='coerce')\n",
        "df_FB554['Date'] = pd.to_datetime(df_FB554['Date'], errors='coerce')\n",
        "df_AlCon['Date'] = pd.to_datetime(df_AlCon['Date'], errors='coerce')\n"
      ]
    },
    {
      "cell_type": "code",
      "execution_count": 7,
      "metadata": {},
      "outputs": [
        {
          "name": "stdout",
          "output_type": "stream",
          "text": [
            "Data type for 'Date' column in df_CDunit: datetime64[ns]\n",
            "Data type for 'Date' column in df_FB554: datetime64[ns]\n",
            "Data type for 'Date' column in df_AlCon: datetime64[ns]\n"
          ]
        }
      ],
      "source": [
        "print(\"Data type for 'Date' column in df_CDunit:\", df_CDunit['Date'].dtypes)\n",
        "print(\"Data type for 'Date' column in df_FB554:\", df_FB554['Date'].dtypes)\n",
        "print(\"Data type for 'Date' column in df_AlCon:\", df_AlCon['Date'].dtypes)\n"
      ]
    },
    {
      "cell_type": "code",
      "execution_count": 8,
      "metadata": {},
      "outputs": [
        {
          "name": "stdout",
          "output_type": "stream",
          "text": [
            "Index(['Date', 'DI55102', 'DI55152', 'DI55580', 'FC55003', 'FC55009',\n",
            "       'FC55552', 'FC55569', 'FC55576', 'FFC55553', 'FFC55555', 'LC55557',\n",
            "       'LC90366', 'LC90368', 'PI55020', 'TC55552', 'TI55021'],\n",
            "      dtype='object')\n",
            "Index(['Date', 'Butanol', 'Decanol'], dtype='object')\n",
            "Index(['Date', '425_pct_Al', 'Al2O3', 'M_Value', 'C4_pct_Eth', 'C4_pct_H2O',\n",
            "       'HydWtr_pct_Ammonia', 'C4_pct_Hex', 'HydWtr_Na2O'],\n",
            "      dtype='object')\n"
          ]
        }
      ],
      "source": [
        "print(df_CDunit.columns)\n",
        "print(df_FB554.columns)\n",
        "print(df_AlCon.columns)\n"
      ]
    },
    {
      "cell_type": "code",
      "execution_count": 9,
      "metadata": {},
      "outputs": [],
      "source": [
        "def apply_rolling_average_to_df(df, rolling_size):\n",
        "    # Ensure 'Date' is the index if it's not already\n",
        "    if df.index.name != 'Date':\n",
        "        df = df.set_index('Date')\n",
        "\n",
        "    # Apply rolling average to all columns\n",
        "    rolled_df = df.rolling(window=rolling_size, min_periods=1).mean()\n",
        "\n",
        "    # Reset index to make 'Date' a column again\n",
        "    rolled_df = rolled_df.reset_index()\n",
        "\n",
        "    return rolled_df\n",
        "\n"
      ]
    },
    {
      "cell_type": "code",
      "execution_count": 10,
      "metadata": {},
      "outputs": [],
      "source": [
        "def apply_time_shift_by_hours(df, shift_hours):\n",
        "    \"\"\"\n",
        "    Shifts the DataFrame's datetime index by the specified number of hours.\n",
        "\n",
        "    :param df: DataFrame with 'Date' as its datetime index or column.\n",
        "    :param shift_hours: Number of hours to shift. Can be positive (forward) or negative (backward).\n",
        "    :return: Shifted DataFrame.\n",
        "    \"\"\"\n",
        "    # Convert 'Date' to datetime and set as index if it's not already\n",
        "    if df.index.name != 'Date':\n",
        "        df['Date'] = pd.to_datetime(df['Date'], errors='coerce')\n",
        "        df = df.set_index('Date')\n",
        "\n",
        "    # Ensure the index is a DatetimeIndex\n",
        "    df.index = pd.to_datetime(df.index)\n",
        "\n",
        "    # Shift the DataFrame's index by the specified number of hours\n",
        "    df.index = df.index + pd.Timedelta(hours=shift_hours)\n",
        "\n",
        "    return df"
      ]
    },
    {
      "cell_type": "code",
      "execution_count": 11,
      "metadata": {},
      "outputs": [],
      "source": [
        "# # Usage Examples\n",
        "# shift_hours_AlCon = 1  # Negative shift for df_AlCon (e.g., -5 hours backward)\n",
        "# shift_hours_FB554 = 5   # Positive shift for df_FB554 (e.g., 5 hours forward)\n",
        "\n",
        "# shifted_df_AlCon = apply_time_shift_by_hours(df_AlCon, shift_hours_AlCon)\n",
        "# print(\"Shifted df_AlCon:\")\n",
        "# print(shifted_df_AlCon.head())\n",
        "\n",
        "# shifted_df_FB554 = apply_time_shift_by_hours(df_FB554, shift_hours_FB554)\n",
        "# print(\"\\nShifted df_FB554:\")\n",
        "# print(shifted_df_FB554.head())"
      ]
    },
    {
      "cell_type": "code",
      "execution_count": 12,
      "metadata": {},
      "outputs": [],
      "source": [
        "def join_df_FB554_to_df_CDunit(df_CDunit, df_FB554):\n",
        "    # Reset index if 'Date' is the index\n",
        "    if df_CDunit.index.name == 'Date':\n",
        "        df_CDunit = df_CDunit.reset_index()\n",
        "    if df_FB554.index.name == 'Date':\n",
        "        df_FB554 = df_FB554.reset_index()\n",
        "\n",
        "    # Ensure 'Date' columns are datetime objects and sort DataFrames\n",
        "    df_CDunit['Date'] = pd.to_datetime(df_CDunit['Date'], errors='coerce')\n",
        "    df_FB554['Date'] = pd.to_datetime(df_FB554['Date'], errors='coerce')\n",
        "\n",
        "    df_CDunit = df_CDunit.dropna(subset=['Date']).sort_values('Date')\n",
        "    df_FB554 = df_FB554.dropna(subset=['Date']).sort_values('Date')\n",
        "\n",
        "    # Perform merge_asof\n",
        "    combined_df = pd.merge_asof(df_FB554, df_CDunit, on='Date', direction='nearest')\n",
        "\n",
        "    return combined_df\n",
        "\n",
        "def join_df_AlCon_to_combined_df(combined_df, df_AlCon):\n",
        "    # Reset index if 'Date' is the index\n",
        "    if combined_df.index.name == 'Date':\n",
        "        combined_df = combined_df.reset_index()\n",
        "    if df_AlCon.index.name == 'Date':\n",
        "        df_AlCon = df_AlCon.reset_index()\n",
        "\n",
        "    # Ensure 'Date' columns are datetime objects and sort DataFrames\n",
        "    combined_df['Date'] = pd.to_datetime(combined_df['Date'], errors='coerce')\n",
        "    df_AlCon['Date'] = pd.to_datetime(df_AlCon['Date'], errors='coerce')\n",
        "\n",
        "    combined_df = combined_df.dropna(subset=['Date']).sort_values('Date')\n",
        "    df_AlCon = df_AlCon.dropna(subset=['Date']).sort_values('Date')\n",
        "\n",
        "    # Perform merge_asof\n",
        "    combined_df_all = pd.merge_asof(df_AlCon, combined_df, on='Date', direction='nearest')\n",
        "    \n",
        "    return combined_df_all\n"
      ]
    },
    {
      "cell_type": "code",
      "execution_count": 13,
      "metadata": {},
      "outputs": [
        {
          "name": "stdout",
          "output_type": "stream",
          "text": [
            "Data type for 'Date' column in df_CDunit: datetime64[ns]\n",
            "Data type for 'Date' column in df_FB554: datetime64[ns]\n",
            "Data type for 'Date' column in df_AlCon: datetime64[ns]\n"
          ]
        }
      ],
      "source": [
        "print(\"Data type for 'Date' column in df_CDunit:\", df_CDunit['Date'].dtypes)\n",
        "print(\"Data type for 'Date' column in df_FB554:\", df_FB554['Date'].dtypes)\n",
        "print(\"Data type for 'Date' column in df_AlCon:\", df_AlCon['Date'].dtypes)\n",
        "\n"
      ]
    },
    {
      "cell_type": "code",
      "execution_count": 14,
      "metadata": {},
      "outputs": [],
      "source": [
        "def process_data_limited():\n",
        "    # Apply the specific rolling average directly\n",
        "    rolled_df_CDunit = apply_rolling_average_to_df(df_CDunit, 8)\n",
        "    rolled_df_FB554 = apply_rolling_average_to_df(df_FB554, 4)\n",
        "    rolled_df_AlCon = apply_rolling_average_to_df(df_AlCon, 2)\n",
        "\n",
        "    # Apply the specific time shifts directly\n",
        "    rolled_df_AlCon_shifted = apply_time_shift_by_hours(rolled_df_AlCon, -1) # Assuming apply_time_shift_by_hours handles negative shifts correctly\n",
        "    rolled_df_FB554_shifted = apply_time_shift_by_hours(rolled_df_FB554, 1)\n",
        "\n",
        "    # Combine df_CDunit and df_FB554 to create combined_df\n",
        "    combined_df = join_df_FB554_to_df_CDunit(rolled_df_CDunit, rolled_df_FB554_shifted)\n",
        "\n",
        "    # Combine combined_df with rolled_df_AlCon to create combined_df_all\n",
        "    combined_df_all = join_df_AlCon_to_combined_df(combined_df, rolled_df_AlCon_shifted)\n",
        "\n",
        "    # At this point, combined_df_all is the DataFrame with the data processed by the specified shifts and averages\n",
        "    return combined_df_all\n"
      ]
    },
    {
      "cell_type": "code",
      "execution_count": 15,
      "metadata": {},
      "outputs": [
        {
          "name": "stdout",
          "output_type": "stream",
          "text": [
            "                 Date  425_pct_Al    Al2O3  M_Value  C4_pct_Eth  C4_pct_H2O  \\\n",
            "0 2012-05-16 16:00:00    6.307630  11.3300  3.50893    2.508420    21.96340   \n",
            "1 2012-05-16 18:00:00    6.308335  11.3750  3.50863    2.511135    21.96865   \n",
            "2 2012-05-16 19:00:00    6.309390  11.4425  3.50818    2.515210    21.97655   \n",
            "3 2012-05-16 20:00:00    6.310090  11.4875  3.50788    2.517925    21.98185   \n",
            "4 2012-05-16 21:00:00    6.310790  11.5325  3.50758    2.520640    21.98715   \n",
            "\n",
            "   HydWtr_pct_Ammonia  C4_pct_Hex  HydWtr_Na2O    Butanol   Decanol   DI55102  \\\n",
            "0            0.908765    0.659256     2.712180  54.858300  0.722511  0.970496   \n",
            "1            0.907643    0.659930     2.805415  54.858300  0.722511  0.970496   \n",
            "2            0.905959    0.660942     2.945270  54.858300  0.722511  0.970496   \n",
            "3            0.904837    0.661616     3.038505  51.190050  0.733904  0.970653   \n",
            "4            0.903715    0.662291     3.131740  48.744567  0.741499  0.970307   \n",
            "\n",
            "    DI55152   DI55580  FC55003      FC55009       FC55552      FC55569  \\\n",
            "0  0.925255  1.017330  4919.29  1528.010000  41564.100000  6918.110000   \n",
            "1  0.925255  1.017330  4919.29  1528.010000  41564.100000  6918.110000   \n",
            "2  0.925255  1.017330  4919.29  1528.010000  41564.100000  6918.110000   \n",
            "3  0.923773  1.018137  5268.62  1516.963333  41524.066667  6916.486667   \n",
            "4  0.924103  1.018477  5349.32  1515.782500  41500.275000  6918.470000   \n",
            "\n",
            "     FC55576  FFC55553  FFC55555    LC55557    LC90366    LC90368   PI55020  \\\n",
            "0  334.94800  0.996975  0.751501  65.873400  61.011100  51.234400 -0.607993   \n",
            "1  334.94800  0.996975  0.751501  65.873400  61.011100  51.234400 -0.607993   \n",
            "2  334.94800  0.996975  0.751501  65.873400  61.011100  51.234400 -0.607993   \n",
            "3  332.47200  0.998648  0.750505  65.957600  56.694400  50.868167 -0.626386   \n",
            "4  338.63375  1.000349  0.750325  65.966425  55.181525  50.740225 -0.632433   \n",
            "\n",
            "   TC55552     TI55021  \n",
            "0  177.188  212.861000  \n",
            "1  177.188  212.861000  \n",
            "2  177.188  212.861000  \n",
            "3  177.417  212.822333  \n",
            "4  177.459  212.799750  \n"
          ]
        }
      ],
      "source": [
        "# Make sure all your helper functions and initial DataFrames (df_CDunit, df_FB554, df_AlCon) are correctly defined\n",
        "\n",
        "# Now, call the modified process_data function to get the processed DataFrame\n",
        "final_dataset = process_data_limited()\n",
        "\n",
        "# Inspect the final_dataset\n",
        "print(final_dataset.head())  # Print the first few rows to inspect the dataset\n"
      ]
    },
    {
      "cell_type": "code",
      "execution_count": 16,
      "metadata": {},
      "outputs": [
        {
          "name": "stdout",
          "output_type": "stream",
          "text": [
            "                                Date    425_pct_Al         Al2O3  \\\n",
            "count                          47714  47714.000000  47714.000000   \n",
            "mean   2016-07-09 15:30:57.643458816      6.148541     11.355834   \n",
            "min              2012-05-16 16:00:00      5.174085      9.531050   \n",
            "25%              2014-08-02 21:15:00      6.006720     11.084600   \n",
            "50%              2016-07-31 07:30:00      6.142755     11.483750   \n",
            "75%              2018-05-27 12:45:00      6.290847     11.701963   \n",
            "max              2022-03-24 11:00:00      7.134450     12.879900   \n",
            "std                              NaN      0.255252      0.570302   \n",
            "\n",
            "            M_Value    C4_pct_Eth    C4_pct_H2O  HydWtr_pct_Ammonia  \\\n",
            "count  47714.000000  47714.000000  47714.000000        47714.000000   \n",
            "mean       3.592181      1.210588     21.161871            0.970035   \n",
            "min        1.347070      0.064828      8.149630            0.374388   \n",
            "25%        3.500671      0.627316     18.776275            0.876725   \n",
            "50%        3.587543      1.107550     21.435250            0.940886   \n",
            "75%        3.679920      1.674442     23.312362            1.033061   \n",
            "max        5.827565     11.732650     34.572900            1.607320   \n",
            "std        0.177351      0.687390      2.756784            0.149562   \n",
            "\n",
            "         C4_pct_Hex   HydWtr_Na2O       Butanol       Decanol       DI55102  \\\n",
            "count  47714.000000  47714.000000  47714.000000  47714.000000  47714.000000   \n",
            "mean       0.466893      0.807371      9.791394      3.064216      0.943877   \n",
            "min        0.000065      0.002854      0.361524      0.087500      0.800581   \n",
            "25%        0.348225      0.454690      3.857346      1.877110      0.910338   \n",
            "50%        0.443541      0.663483      5.929648      2.963439      0.950149   \n",
            "75%        0.541348      0.980213     11.318156      4.076668      0.984691   \n",
            "max        3.120225     12.888450     56.890000      7.970000      1.059549   \n",
            "std        0.241990      0.696261      9.707619      1.525142      0.053908   \n",
            "\n",
            "            DI55152       DI55580       FC55003       FC55009       FC55552  \\\n",
            "count  47714.000000  47714.000000  47714.000000  47714.000000  47714.000000   \n",
            "mean       0.932745      0.999486   6004.791090    840.289986  35990.386458   \n",
            "min        0.837560      0.849143   3139.415000      0.000000  18043.450000   \n",
            "25%        0.912799      0.966121   5540.429062    313.617268  34814.115625   \n",
            "50%        0.932673      0.998782   6019.237500    823.461687  37957.818750   \n",
            "75%        0.952255      1.034763   6523.895000   1314.318313  38999.900000   \n",
            "max        1.024214      1.142216   8786.106250   2627.221250  41922.012500   \n",
            "std        0.030088      0.050508    762.171845    591.184454   4709.514474   \n",
            "\n",
            "            FC55569       FC55576      FFC55553      FFC55555       LC55557  \\\n",
            "count  47714.000000  47714.000000  47714.000000  47714.000000  47714.000000   \n",
            "mean    6606.291231    368.941410      1.000357      0.771846     69.424299   \n",
            "min     5147.615000      0.000000      0.840301      0.698679     60.354812   \n",
            "25%     6375.680625    185.908344      0.977486      0.759217     66.857769   \n",
            "50%     6584.170625    338.371000      0.999037      0.773396     70.052856   \n",
            "75%     6814.792812    541.867500      1.019996      0.788175     71.838028   \n",
            "max     8078.870000   1057.340000      1.157945      0.855941     76.225175   \n",
            "std      379.773482    251.932860      0.036512      0.022878      2.823207   \n",
            "\n",
            "            LC90366       LC90368       PI55020       TC55552       TI55021  \n",
            "count  47714.000000  47714.000000  47714.000000  47714.000000  47714.000000  \n",
            "mean      46.362932     36.563289     -1.470132    168.949155    223.109576  \n",
            "min        0.000000      0.118033     -4.728290    120.822750    210.532500  \n",
            "25%       21.400597     20.376931     -2.342105    155.874094    217.532375  \n",
            "50%       47.759581     41.591725     -1.479155    172.811188    220.270000  \n",
            "75%       77.038278     51.681016     -0.450932    180.821187    223.958937  \n",
            "max       87.901600     81.166888      1.486826    199.818125    258.022500  \n",
            "std       29.012443     19.942436      1.110731     15.090676      9.519751  \n"
          ]
        }
      ],
      "source": [
        "# Inspect the final_dataset\n",
        "print(final_dataset.describe())  # Print the first few rows to inspect the dataset"
      ]
    },
    {
      "cell_type": "code",
      "execution_count": 17,
      "metadata": {},
      "outputs": [
        {
          "name": "stdout",
          "output_type": "stream",
          "text": [
            "Year\n",
            "2012    2151\n",
            "2013    6740\n",
            "2014    5852\n",
            "2015    5972\n",
            "2016    6251\n",
            "2017    6046\n",
            "2018    6281\n",
            "2019    4871\n",
            "2020    3188\n",
            "2022     362\n",
            "Name: count, dtype: int64\n"
          ]
        }
      ],
      "source": [
        "import pandas as pd\n",
        "\n",
        "# Assuming the 'Date' column is a string, you can extract the year using the str accessor\n",
        "# final_dataset['Year'] = final_dataset['Date'].str[:4]\n",
        "\n",
        "# Alternatively, if the 'Date' column is already a datetime object, you can extract the year directly\n",
        "final_dataset['Year'] = final_dataset['Date'].dt.year\n",
        "\n",
        "# Now count the records for each year\n",
        "record_counts_by_year = final_dataset['Year'].value_counts().sort_index()\n",
        "\n",
        "# Output the results\n",
        "print(record_counts_by_year)\n"
      ]
    },
    {
      "cell_type": "code",
      "execution_count": 19,
      "metadata": {},
      "outputs": [],
      "source": [
        "# Save DataFrame to CSV file in the same directory as the Jupyter Notebook\n",
        "# model_results.to_csv('merged_data'.csv', index=False)\n",
        "                     \n",
        "# Save DataFrame to CSV file in the same directory as the Jupyter Notebook\n",
        "# df_CD.to_csv(r'C:\\Users\\steve\\OneDrive\\1. BAIUTEK\\Project-OptiC4\\1 Preprocess\\Continuous Data\\contData_all.csv', index=False)            \n",
        "\n",
        "final_dataset.to_csv(r'C:\\Users\\austinsh\\Project-OptiC4\\IV Optimize\\Testing Data\\Merge Data\\merged_data.csv', index=False)\n"
      ]
    },
    {
      "cell_type": "code",
      "execution_count": 20,
      "metadata": {},
      "outputs": [
        {
          "name": "stdout",
          "output_type": "stream",
          "text": [
            "2024-05-07 00:04:45.385081\n"
          ]
        }
      ],
      "source": [
        "from datetime import datetime\n",
        "\n",
        "# Get the current date and time\n",
        "current_date_time = datetime.now()\n",
        "\n",
        "# Print the current date and time\n",
        "print(current_date_time)\n"
      ]
    }
  ],
  "metadata": {
    "kernelspec": {
      "display_name": "base",
      "language": "python",
      "name": "python3"
    },
    "language_info": {
      "codemirror_mode": {
        "name": "ipython",
        "version": 3
      },
      "file_extension": ".py",
      "mimetype": "text/x-python",
      "name": "python",
      "nbconvert_exporter": "python",
      "pygments_lexer": "ipython3",
      "version": "3.12.1"
    }
  },
  "nbformat": 4,
  "nbformat_minor": 4
}
