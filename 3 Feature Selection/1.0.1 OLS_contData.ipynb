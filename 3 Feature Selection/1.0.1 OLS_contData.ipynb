{
  "cells": [
    {
      "cell_type": "code",
      "execution_count": 37,
      "metadata": {
        "tags": [],
        "trusted": true
      },
      "outputs": [],
      "source": [
        "# Import necessary libraries\n",
        "import pandas as pd\n",
        "from statsmodels.formula.api import ols\n",
        "import statsmodels.api as sm\n",
        "from sklearn.model_selection import train_test_split"
      ]
    },
    {
      "cell_type": "code",
      "execution_count": 38,
      "metadata": {},
      "outputs": [],
      "source": [
        "# url_df_All_1 = 'https://github.com/saust1/Project-OptiC4/blob/e358d5172ac0b8fbb6fba776c0fe0a2b523b8b5c/3%20Feature%20Selection/contData_all_Avg%20-%201o2.csv?raw=true'\n",
        "# url_df_All_2 = 'https://github.com/saust1/Project-OptiC4/blob/e358d5172ac0b8fbb6fba776c0fe0a2b523b8b5c/3%20Feature%20Selection/contData_all_Avg%20-%202o2.csv?raw=true'\n",
        "\n",
        "# df_All_1 = pd.read_csv(url_df_All_1, index_col=0)\n",
        "# df_All_2 = pd.read_csv(url_df_All_2, index_col=0)"
      ]
    },
    {
      "cell_type": "code",
      "execution_count": 39,
      "metadata": {},
      "outputs": [
        {
          "name": "stdout",
          "output_type": "stream",
          "text": [
            "   425_pct_Al  M_Value  C4_pct_Eth  C4_pct_H2O  C4_pct_Hex  \\\n",
            "0    6.307630  3.50893    2.508420    21.96340    0.659256   \n",
            "1    6.308335  3.50863    2.511135    21.96865    0.659930   \n",
            "2    6.309390  3.50818    2.515210    21.97655    0.660942   \n",
            "3    6.310090  3.50788    2.517925    21.98185    0.661616   \n",
            "4    6.310790  3.50758    2.520640    21.98715    0.662291   \n",
            "\n",
            "   HydWtr_pct_Ammonia  HydWtr_Na2O   DI55152   FC55003       FC55552  \\\n",
            "0            0.908765     2.712180  0.925255  4919.290  41564.100000   \n",
            "1            0.907643     2.805415  0.924281  5039.445  41558.250000   \n",
            "2            0.905959     2.945270  0.923773  5268.620  41524.066667   \n",
            "3            0.904837     3.038505  0.924103  5349.320  41500.275000   \n",
            "4            0.903715     3.131740  0.924258  5563.165  41466.625000   \n",
            "\n",
            "       FC55569  FFC55553  FFC55555    LC55555   PI55004   TC55552     TC55555  \\\n",
            "0  6918.110000  0.996975  0.751501  59.968800  1.306310  177.1880  180.125000   \n",
            "1  6919.960000  0.998847  0.750588  59.932300  1.181220  177.2505  180.053000   \n",
            "2  6916.486667  0.998648  0.750505  60.002433  1.216603  177.4170  180.001667   \n",
            "3  6918.470000  1.000349  0.750325  60.015925  1.206718  177.4590  180.010750   \n",
            "4  6915.790000  1.000862  0.750021  60.020500  1.163892  177.5490  179.939500   \n",
            "\n",
            "      TI55021    Butanol  \n",
            "0  212.861000  54.858300  \n",
            "1  212.699000  51.190050  \n",
            "2  212.822333  48.744567  \n",
            "3  212.799750  46.604750  \n",
            "4  212.853000  44.587220  \n"
          ]
        }
      ],
      "source": [
        "df_All_1 = pd.read_csv(r'C:\\Users\\saust\\OneDrive\\Desktop\\GitRepo\\Project-OptiC4\\1 Preprocess\\Merge Data\\contData_all_Avg_1o2.csv')\n",
        "df_All_2 = pd.read_csv(r'C:\\Users\\saust\\OneDrive\\Desktop\\GitRepo\\Project-OptiC4\\1 Preprocess\\Merge Data\\contData_all_Avg_2o2.csv')\n",
        "# Concatenate (union) the dataframes\n",
        "df_All = pd.concat([df_All_1, df_All_2], ignore_index=True)\n",
        "\n",
        "print(df_All.head())"
      ]
    },
    {
      "cell_type": "code",
      "execution_count": 40,
      "metadata": {},
      "outputs": [
        {
          "data": {
            "text/plain": [
              "Index(['425_pct_Al', 'M_Value', 'C4_pct_Eth', 'C4_pct_H2O', 'C4_pct_Hex',\n",
              "       'HydWtr_pct_Ammonia', 'HydWtr_Na2O', 'DI55152', 'FC55003', 'FC55552',\n",
              "       'FC55569', 'FFC55553', 'FFC55555', 'LC55555', 'PI55004', 'TC55552',\n",
              "       'TC55555', 'TI55021', 'Butanol'],\n",
              "      dtype='object')"
            ]
          },
          "execution_count": 40,
          "metadata": {},
          "output_type": "execute_result"
        }
      ],
      "source": [
        "df_All.columns"
      ]
    },
    {
      "cell_type": "code",
      "execution_count": 41,
      "metadata": {
        "trusted": true
      },
      "outputs": [],
      "source": [
        "# Set max columns to display\n",
        "pd.set_option('display.max_columns', None)"
      ]
    },
    {
      "cell_type": "code",
      "execution_count": 42,
      "metadata": {},
      "outputs": [],
      "source": [
        "# # List of columns to exclude to run XGboost feature selection\n",
        "# exclude_columns = ['Octanol', 'Hexanol', 'Ethanol', 'Decanol',\n",
        "       \n",
        "#        'TI52014', 'TI55013', 'TI55014', 'TI55015', 'TI55016', 'TI55017', 'TI55021', 'TI55023',\n",
        "#        'TC52015', 'FC52018', 'II52554', 'TI40050', 'VI52558B'\n",
        "#                    ]\n",
        "\n",
        "# # Create a new DataFrame without the excluded columnsd\n",
        "# df_All = df_All.drop(columns=exclude_columns)"
      ]
    },
    {
      "cell_type": "code",
      "execution_count": 43,
      "metadata": {},
      "outputs": [],
      "source": [
        "# df_All = df_All[df_All['Date'] > '2022-06-15 00:00:00']"
      ]
    },
    {
      "cell_type": "markdown",
      "metadata": {},
      "source": [
        "# Remaining Features after Correlation Analysis"
      ]
    },
    {
      "cell_type": "code",
      "execution_count": 44,
      "metadata": {},
      "outputs": [],
      "source": [
        "\n",
        "# selected_columns = ['425 %Al', 'Butanol', 'DI55102', 'DI55152', 'DI55580', 'FC42428',\n",
        "#        'FC55003', 'FC55552', 'FC55569', 'FC55576', 'FFC55553', 'FFC55555',\n",
        "#        'LC52572', 'LC55553', 'LC55555', 'LC55557', 'LC55568', 'LC90366',\n",
        "#        'LC90368', 'PI55004', 'PI55020', 'TC55552', 'TC55553', 'TC55555'\n",
        "#                    ]\n",
        "\n",
        "# existing_columns = [col for col in selected_columns if col in df_All.columns]\n",
        "# df_All = df_All[existing_columns]"
      ]
    },
    {
      "cell_type": "code",
      "execution_count": 45,
      "metadata": {},
      "outputs": [],
      "source": [
        "# First Iteration\n",
        "# selected_columns = ['Butanol PPM', '425 SAO Al', 'FC42428', 'FC55003', 'FC55102', 'FC55152', 'FFC55555',\n",
        "#        'LC55553', 'LC55557', 'LC55568', 'LC90366', 'TC55555']\n",
        "\n",
        "\n"
      ]
    },
    {
      "cell_type": "code",
      "execution_count": 46,
      "metadata": {},
      "outputs": [
        {
          "data": {
            "text/plain": [
              "Index(['425_pct_Al', 'M_Value', 'C4_pct_Eth', 'C4_pct_H2O', 'C4_pct_Hex',\n",
              "       'HydWtr_pct_Ammonia', 'HydWtr_Na2O', 'DI55152', 'FC55003', 'FC55552',\n",
              "       'FC55569', 'FFC55553', 'FFC55555', 'LC55555', 'PI55004', 'TC55552',\n",
              "       'TC55555', 'TI55021', 'Butanol'],\n",
              "      dtype='object')"
            ]
          },
          "execution_count": 46,
          "metadata": {},
          "output_type": "execute_result"
        }
      ],
      "source": [
        "df_All.columns"
      ]
    },
    {
      "cell_type": "code",
      "execution_count": 47,
      "metadata": {},
      "outputs": [],
      "source": [
        "# Splitting into train and test\n",
        "X = df_All.drop('Butanol', axis=1)  # Assuming 'target' is your target column\n",
        "y = df_All['Butanol']\n",
        "X_train, X_test, y_train, y_test = train_test_split(X, y, test_size=0.2, random_state=42)"
      ]
    },
    {
      "cell_type": "code",
      "execution_count": 48,
      "metadata": {},
      "outputs": [
        {
          "name": "stdout",
          "output_type": "stream",
          "text": [
            "                                 OLS Regression Results                                \n",
            "=======================================================================================\n",
            "Dep. Variable:                Butanol   R-squared (uncentered):                   0.573\n",
            "Model:                            OLS   Adj. R-squared (uncentered):              0.573\n",
            "Method:                 Least Squares   F-statistic:                              4084.\n",
            "Date:                Sat, 02 Dec 2023   Prob (F-statistic):                        0.00\n",
            "Time:                        21:34:05   Log-Likelihood:                     -1.9605e+05\n",
            "No. Observations:               54701   AIC:                                  3.921e+05\n",
            "Df Residuals:                   54683   BIC:                                  3.923e+05\n",
            "Df Model:                          18                                                  \n",
            "Covariance Type:            nonrobust                                                  \n",
            "======================================================================================\n",
            "                         coef    std err          t      P>|t|      [0.025      0.975]\n",
            "--------------------------------------------------------------------------------------\n",
            "425_pct_Al            -0.2725      0.125     -2.182      0.029      -0.517      -0.028\n",
            "M_Value               -1.9299      0.237     -8.158      0.000      -2.394      -1.466\n",
            "C4_pct_Eth            -0.3853      0.078     -4.969      0.000      -0.537      -0.233\n",
            "C4_pct_H2O             0.3113      0.017     17.978      0.000       0.277       0.345\n",
            "C4_pct_Hex            -2.1298      0.171    -12.442      0.000      -2.465      -1.794\n",
            "HydWtr_pct_Ammonia     0.1330      0.266      0.500      0.617      -0.388       0.654\n",
            "HydWtr_Na2O           -0.7432      0.051    -14.436      0.000      -0.844      -0.642\n",
            "DI55152                9.9540      1.230      8.095      0.000       7.544      12.364\n",
            "FC55003               -0.0011   5.72e-05    -19.802      0.000      -0.001      -0.001\n",
            "FC55552                0.0005   9.66e-06     46.740      0.000       0.000       0.000\n",
            "FC55569               -0.0038      0.000    -33.048      0.000      -0.004      -0.004\n",
            "FFC55553              27.9641      1.039     26.912      0.000      25.927      30.001\n",
            "FFC55555             -57.5995      1.788    -32.206      0.000     -61.105     -54.094\n",
            "LC55555                0.0455      0.005      9.045      0.000       0.036       0.055\n",
            "PI55004                0.2176      0.037      5.831      0.000       0.144       0.291\n",
            "TC55552                0.0530      0.003     19.503      0.000       0.048       0.058\n",
            "TC55555                0.3016      0.014     21.800      0.000       0.275       0.329\n",
            "TI55021               -0.1358      0.005    -26.082      0.000      -0.146      -0.126\n",
            "==============================================================================\n",
            "Omnibus:                    21306.228   Durbin-Watson:                   0.017\n",
            "Prob(Omnibus):                  0.000   Jarque-Bera (JB):            77034.496\n",
            "Skew:                           1.994   Prob(JB):                         0.00\n",
            "Kurtosis:                       7.231   Cond. No.                     1.89e+06\n",
            "==============================================================================\n",
            "\n",
            "Notes:\n",
            "[1] R² is computed without centering (uncentered) since the model does not contain a constant.\n",
            "[2] Standard Errors assume that the covariance matrix of the errors is correctly specified.\n",
            "[3] The condition number is large, 1.89e+06. This might indicate that there are\n",
            "strong multicollinearity or other numerical problems.\n"
          ]
        }
      ],
      "source": [
        "#=============================================\n",
        "# TRAIN & EVALUATE REGRESSION MODEL\n",
        "#=============================================\n",
        "\n",
        "#fit simple linear regression model\n",
        "model = sm.OLS(y, X).fit()\n",
        "print(model.summary())"
      ]
    },
    {
      "cell_type": "code",
      "execution_count": 49,
      "metadata": {},
      "outputs": [
        {
          "name": "stdout",
          "output_type": "stream",
          "text": [
            "['HydWtr_pct_Ammonia']\n"
          ]
        }
      ],
      "source": [
        "# Convert summary to DataFrame\n",
        "summary_table = model.summary().tables[1]\n",
        "summary_df = pd.DataFrame(summary_table.data[1:], columns=summary_table.data[0])\n",
        "\n",
        "# Convert necessary columns to numeric\n",
        "numeric_cols = ['coef', 'std err', 't', 'P>|t|', '[0.025', '0.975]']\n",
        "summary_df[numeric_cols] = summary_df[numeric_cols].apply(pd.to_numeric, errors='coerce')\n",
        "\n",
        "# Apply the filter for insignificance and CI crossing zero\n",
        "threshold = 0.05\n",
        "filtered_df = summary_df[(summary_df['P>|t|'] > threshold) & ((summary_df['[0.025'] < 0) & (summary_df['0.975]'] > 0))]\n",
        "\n",
        "# Extracting the feature names\n",
        "insignificant_features = filtered_df.iloc[:, 0].tolist()  # First column contains feature names\n",
        "print(insignificant_features)\n"
      ]
    },
    {
      "cell_type": "code",
      "execution_count": 50,
      "metadata": {},
      "outputs": [
        {
          "name": "stdout",
          "output_type": "stream",
          "text": [
            "                        coef  std err    t  P>|t|  [0.025  0.975]\n",
            "5  HydWtr_pct_Ammonia  0.133    0.266  0.5  0.617  -0.388   0.654\n"
          ]
        }
      ],
      "source": [
        "print(filtered_df)"
      ]
    },
    {
      "cell_type": "code",
      "execution_count": 51,
      "metadata": {},
      "outputs": [
        {
          "name": "stdout",
          "output_type": "stream",
          "text": [
            "\n",
            "Significant Features:\n",
            "['425_pct_Al', 'M_Value', 'C4_pct_Eth', 'C4_pct_H2O', 'C4_pct_Hex', 'HydWtr_Na2O', 'DI55152', 'FC55003', 'FC55569', 'FFC55553', 'FFC55555', 'LC55555', 'PI55004', 'TC55552', 'TC55555', 'TI55021']\n"
          ]
        }
      ],
      "source": [
        "# Filter for significant features\n",
        "significant_df = summary_df[(summary_df['P>|t|'] <= threshold) & ((summary_df['[0.025'] > 0) | (summary_df['0.975]'] < 0))]\n",
        "significant_features = significant_df.iloc[:, 0].tolist()\n",
        "print(\"\\nSignificant Features:\")\n",
        "print(significant_features)"
      ]
    }
  ],
  "metadata": {
    "kernelspec": {
      "display_name": "Python 3 (ipykernel)",
      "language": "python",
      "name": "python3"
    },
    "language_info": {
      "codemirror_mode": {
        "name": "ipython",
        "version": 3
      },
      "file_extension": ".py",
      "mimetype": "text/x-python",
      "name": "python",
      "nbconvert_exporter": "python",
      "pygments_lexer": "ipython3",
      "version": "3.10.9"
    }
  },
  "nbformat": 4,
  "nbformat_minor": 4
}
