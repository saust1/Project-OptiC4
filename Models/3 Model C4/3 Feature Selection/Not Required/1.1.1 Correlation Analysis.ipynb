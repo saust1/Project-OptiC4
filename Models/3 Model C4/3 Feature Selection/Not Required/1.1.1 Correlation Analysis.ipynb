{
 "cells": [
  {
   "cell_type": "code",
   "execution_count": 19,
   "metadata": {},
   "outputs": [],
   "source": [
    "import pandas as pd\n",
    "# Set max columns to display\n",
    "pd.set_option('display.max_columns', None)\n",
    "\n",
    "import numpy as np\n",
    "from sklearn import preprocessing as pre\n",
    "import matplotlib.pyplot as plt\n",
    "from scipy import stats\n",
    "import seaborn as sns\n",
    "import plotly.express as px"
   ]
  },
  {
   "cell_type": "code",
   "execution_count": 20,
   "metadata": {},
   "outputs": [],
   "source": [
    "\n",
    "TagDesc = pd.read_csv(r\"C:\\Users\\saust\\OneDrive\\Desktop\\CodeSpace DLs\\102423\\Project rC4\\5 Engineered Features\\1 - EF - CSV Inputs\\TagDesc.csv\")\n",
    "# df_CDCO = pd.read_csv(r\"C:\\Users\\saust\\OneDrive - Sasol\\1 Project rC4\\Jupyter Notebooks\\Report 10-19-23\\df_AlConCD554.csv\")\n",
    "df_CDCO = pd.read_csv(r\"C:\\Users\\saust\\OneDrive\\Desktop\\CodeSpace DLs\\102423\\Project rC4\\5 Engineered Features\\3 - EF - Feature Selection\\df_CDFI.csv\")\n",
    "\n",
    "\n",
    "FScore = pd.read_csv(r\"C:\\Users\\saust\\OneDrive\\Desktop\\CodeSpace DLs\\102423\\Project rC4\\5 Engineered Features\\3 - EF - Feature Selection\\FScore_on_Butanol_310.csv\")\n",
    "\n",
    "# df_CDCO = pd.read_csv('/workspaces/codespaces-jupyter/ProjectrC4/df_AlConCD554.csv')"
   ]
  },
  {
   "cell_type": "markdown",
   "metadata": {},
   "source": [
    "# Check Basic Information:"
   ]
  },
  {
   "cell_type": "code",
   "execution_count": 21,
   "metadata": {},
   "outputs": [
    {
     "name": "stdout",
     "output_type": "stream",
     "text": [
      "<class 'pandas.core.frame.DataFrame'>\n",
      "RangeIndex: 56692 entries, 0 to 56691\n",
      "Data columns (total 34 columns):\n",
      " #   Column    Non-Null Count  Dtype  \n",
      "---  ------    --------------  -----  \n",
      " 0   Butanol   56692 non-null  float64\n",
      " 1   425 %Al   56692 non-null  float64\n",
      " 2   DI55102   56692 non-null  float64\n",
      " 3   DI55152   56692 non-null  float64\n",
      " 4   TC55552   56692 non-null  float64\n",
      " 5   FC55569   56692 non-null  float64\n",
      " 6   AYC55580  56692 non-null  float64\n",
      " 7   FC55576   56692 non-null  float64\n",
      " 8   FC42428   56692 non-null  float64\n",
      " 9   FC55003   56692 non-null  float64\n",
      " 10  DI55580   56692 non-null  float64\n",
      " 11  FFC55553  56692 non-null  float64\n",
      " 12  FC55009   56692 non-null  float64\n",
      " 13  TI55023   56692 non-null  float64\n",
      " 14  LC55557   56692 non-null  float64\n",
      " 15  LC55555   56692 non-null  float64\n",
      " 16  TI55017   56692 non-null  float64\n",
      " 17  LC55553   56692 non-null  float64\n",
      " 18  FC55555   56692 non-null  float64\n",
      " 19  TI55021   56692 non-null  float64\n",
      " 20  FC55102   56692 non-null  float64\n",
      " 21  FFC55555  56692 non-null  float64\n",
      " 22  FYC55553  56692 non-null  float64\n",
      " 23  FC55552   56692 non-null  float64\n",
      " 24  TC55553   56692 non-null  float64\n",
      " 25  FC55152   56692 non-null  float64\n",
      " 26  TC55555   56692 non-null  float64\n",
      " 27  TI55013   56692 non-null  float64\n",
      " 28  LC55568   56692 non-null  float64\n",
      " 29  TI55014   56692 non-null  float64\n",
      " 30  TI55015   56692 non-null  float64\n",
      " 31  TI55016   56692 non-null  float64\n",
      " 32  Date      56692 non-null  object \n",
      " 33  Decanol   56692 non-null  float64\n",
      "dtypes: float64(33), object(1)\n",
      "memory usage: 14.7+ MB\n"
     ]
    },
    {
     "data": {
      "text/html": [
       "<div>\n",
       "<style scoped>\n",
       "    .dataframe tbody tr th:only-of-type {\n",
       "        vertical-align: middle;\n",
       "    }\n",
       "\n",
       "    .dataframe tbody tr th {\n",
       "        vertical-align: top;\n",
       "    }\n",
       "\n",
       "    .dataframe thead th {\n",
       "        text-align: right;\n",
       "    }\n",
       "</style>\n",
       "<table border=\"1\" class=\"dataframe\">\n",
       "  <thead>\n",
       "    <tr style=\"text-align: right;\">\n",
       "      <th></th>\n",
       "      <th>Butanol</th>\n",
       "      <th>425 %Al</th>\n",
       "      <th>DI55102</th>\n",
       "      <th>DI55152</th>\n",
       "      <th>TC55552</th>\n",
       "      <th>FC55569</th>\n",
       "      <th>AYC55580</th>\n",
       "      <th>FC55576</th>\n",
       "      <th>FC42428</th>\n",
       "      <th>FC55003</th>\n",
       "      <th>DI55580</th>\n",
       "      <th>FFC55553</th>\n",
       "      <th>FC55009</th>\n",
       "      <th>TI55023</th>\n",
       "      <th>LC55557</th>\n",
       "      <th>LC55555</th>\n",
       "      <th>TI55017</th>\n",
       "      <th>LC55553</th>\n",
       "      <th>FC55555</th>\n",
       "      <th>TI55021</th>\n",
       "      <th>FC55102</th>\n",
       "      <th>FFC55555</th>\n",
       "      <th>FYC55553</th>\n",
       "      <th>FC55552</th>\n",
       "      <th>TC55553</th>\n",
       "      <th>FC55152</th>\n",
       "      <th>TC55555</th>\n",
       "      <th>TI55013</th>\n",
       "      <th>LC55568</th>\n",
       "      <th>TI55014</th>\n",
       "      <th>TI55015</th>\n",
       "      <th>TI55016</th>\n",
       "      <th>Date</th>\n",
       "      <th>Decanol</th>\n",
       "    </tr>\n",
       "  </thead>\n",
       "  <tbody>\n",
       "    <tr>\n",
       "      <th>0</th>\n",
       "      <td>58.5265</td>\n",
       "      <td>6.30693</td>\n",
       "      <td>0.969806</td>\n",
       "      <td>0.924181</td>\n",
       "      <td>177.188</td>\n",
       "      <td>6912.68</td>\n",
       "      <td>18.2020</td>\n",
       "      <td>341.221</td>\n",
       "      <td>39317.7</td>\n",
       "      <td>5017.59</td>\n",
       "      <td>1.01691</td>\n",
       "      <td>1.000020</td>\n",
       "      <td>1518.05</td>\n",
       "      <td>211.484</td>\n",
       "      <td>65.8159</td>\n",
       "      <td>59.9547</td>\n",
       "      <td>205.694</td>\n",
       "      <td>62.1299</td>\n",
       "      <td>31160.5</td>\n",
       "      <td>213.032</td>\n",
       "      <td>54720.8</td>\n",
       "      <td>0.750930</td>\n",
       "      <td>41313.6</td>\n",
       "      <td>41388.8</td>\n",
       "      <td>231.718</td>\n",
       "      <td>51377.3</td>\n",
       "      <td>180.140</td>\n",
       "      <td>234.999</td>\n",
       "      <td>39.6806</td>\n",
       "      <td>222.832</td>\n",
       "      <td>216.755</td>\n",
       "      <td>207.387</td>\n",
       "      <td>2012-05-16 16:00:00</td>\n",
       "      <td>0.711118</td>\n",
       "    </tr>\n",
       "    <tr>\n",
       "      <th>1</th>\n",
       "      <td>54.8583</td>\n",
       "      <td>6.30763</td>\n",
       "      <td>0.970496</td>\n",
       "      <td>0.925255</td>\n",
       "      <td>177.188</td>\n",
       "      <td>6918.11</td>\n",
       "      <td>18.2349</td>\n",
       "      <td>334.948</td>\n",
       "      <td>39979.0</td>\n",
       "      <td>4919.29</td>\n",
       "      <td>1.01733</td>\n",
       "      <td>0.996975</td>\n",
       "      <td>1528.01</td>\n",
       "      <td>211.346</td>\n",
       "      <td>65.8734</td>\n",
       "      <td>59.9688</td>\n",
       "      <td>205.700</td>\n",
       "      <td>61.5982</td>\n",
       "      <td>31166.9</td>\n",
       "      <td>212.861</td>\n",
       "      <td>54646.6</td>\n",
       "      <td>0.751501</td>\n",
       "      <td>41342.9</td>\n",
       "      <td>41564.1</td>\n",
       "      <td>232.537</td>\n",
       "      <td>51163.5</td>\n",
       "      <td>180.125</td>\n",
       "      <td>235.083</td>\n",
       "      <td>39.8793</td>\n",
       "      <td>222.581</td>\n",
       "      <td>216.510</td>\n",
       "      <td>207.269</td>\n",
       "      <td>2012-05-16 17:00:00</td>\n",
       "      <td>0.722511</td>\n",
       "    </tr>\n",
       "    <tr>\n",
       "      <th>2</th>\n",
       "      <td>47.5218</td>\n",
       "      <td>6.30904</td>\n",
       "      <td>0.969785</td>\n",
       "      <td>0.923308</td>\n",
       "      <td>177.313</td>\n",
       "      <td>6921.81</td>\n",
       "      <td>18.3104</td>\n",
       "      <td>324.050</td>\n",
       "      <td>40392.9</td>\n",
       "      <td>5159.60</td>\n",
       "      <td>1.01852</td>\n",
       "      <td>1.000720</td>\n",
       "      <td>1527.23</td>\n",
       "      <td>210.831</td>\n",
       "      <td>65.7718</td>\n",
       "      <td>59.8958</td>\n",
       "      <td>205.491</td>\n",
       "      <td>62.0092</td>\n",
       "      <td>31123.6</td>\n",
       "      <td>212.537</td>\n",
       "      <td>55039.2</td>\n",
       "      <td>0.749676</td>\n",
       "      <td>41517.7</td>\n",
       "      <td>41552.4</td>\n",
       "      <td>231.454</td>\n",
       "      <td>50434.9</td>\n",
       "      <td>179.981</td>\n",
       "      <td>235.012</td>\n",
       "      <td>39.7428</td>\n",
       "      <td>222.588</td>\n",
       "      <td>216.395</td>\n",
       "      <td>207.153</td>\n",
       "      <td>2012-05-16 19:00:00</td>\n",
       "      <td>0.745297</td>\n",
       "    </tr>\n",
       "    <tr>\n",
       "      <th>3</th>\n",
       "      <td>43.8536</td>\n",
       "      <td>6.30974</td>\n",
       "      <td>0.971677</td>\n",
       "      <td>0.922757</td>\n",
       "      <td>177.750</td>\n",
       "      <td>6909.54</td>\n",
       "      <td>18.3399</td>\n",
       "      <td>338.418</td>\n",
       "      <td>39405.8</td>\n",
       "      <td>5726.97</td>\n",
       "      <td>1.01856</td>\n",
       "      <td>0.998250</td>\n",
       "      <td>1495.65</td>\n",
       "      <td>211.151</td>\n",
       "      <td>66.2276</td>\n",
       "      <td>60.1427</td>\n",
       "      <td>204.892</td>\n",
       "      <td>61.8406</td>\n",
       "      <td>31152.9</td>\n",
       "      <td>213.069</td>\n",
       "      <td>54010.4</td>\n",
       "      <td>0.750338</td>\n",
       "      <td>41475.9</td>\n",
       "      <td>41455.7</td>\n",
       "      <td>229.980</td>\n",
       "      <td>51182.1</td>\n",
       "      <td>179.899</td>\n",
       "      <td>234.275</td>\n",
       "      <td>39.9667</td>\n",
       "      <td>221.842</td>\n",
       "      <td>215.496</td>\n",
       "      <td>206.713</td>\n",
       "      <td>2012-05-16 20:00:00</td>\n",
       "      <td>0.756689</td>\n",
       "    </tr>\n",
       "    <tr>\n",
       "      <th>4</th>\n",
       "      <td>40.1853</td>\n",
       "      <td>6.31044</td>\n",
       "      <td>0.969270</td>\n",
       "      <td>0.925092</td>\n",
       "      <td>177.585</td>\n",
       "      <td>6924.42</td>\n",
       "      <td>18.4314</td>\n",
       "      <td>357.119</td>\n",
       "      <td>39867.5</td>\n",
       "      <td>5591.42</td>\n",
       "      <td>1.01950</td>\n",
       "      <td>1.005450</td>\n",
       "      <td>1512.24</td>\n",
       "      <td>210.879</td>\n",
       "      <td>65.9929</td>\n",
       "      <td>60.0564</td>\n",
       "      <td>204.576</td>\n",
       "      <td>62.0640</td>\n",
       "      <td>31088.2</td>\n",
       "      <td>212.732</td>\n",
       "      <td>54184.4</td>\n",
       "      <td>0.749787</td>\n",
       "      <td>41741.3</td>\n",
       "      <td>41428.9</td>\n",
       "      <td>229.427</td>\n",
       "      <td>49512.4</td>\n",
       "      <td>180.038</td>\n",
       "      <td>233.552</td>\n",
       "      <td>39.6826</td>\n",
       "      <td>221.257</td>\n",
       "      <td>215.288</td>\n",
       "      <td>206.328</td>\n",
       "      <td>2012-05-16 21:00:00</td>\n",
       "      <td>0.768082</td>\n",
       "    </tr>\n",
       "  </tbody>\n",
       "</table>\n",
       "</div>"
      ],
      "text/plain": [
       "   Butanol  425 %Al   DI55102   DI55152  TC55552  FC55569  AYC55580  FC55576  \\\n",
       "0  58.5265  6.30693  0.969806  0.924181  177.188  6912.68   18.2020  341.221   \n",
       "1  54.8583  6.30763  0.970496  0.925255  177.188  6918.11   18.2349  334.948   \n",
       "2  47.5218  6.30904  0.969785  0.923308  177.313  6921.81   18.3104  324.050   \n",
       "3  43.8536  6.30974  0.971677  0.922757  177.750  6909.54   18.3399  338.418   \n",
       "4  40.1853  6.31044  0.969270  0.925092  177.585  6924.42   18.4314  357.119   \n",
       "\n",
       "   FC42428  FC55003  DI55580  FFC55553  FC55009  TI55023  LC55557  LC55555  \\\n",
       "0  39317.7  5017.59  1.01691  1.000020  1518.05  211.484  65.8159  59.9547   \n",
       "1  39979.0  4919.29  1.01733  0.996975  1528.01  211.346  65.8734  59.9688   \n",
       "2  40392.9  5159.60  1.01852  1.000720  1527.23  210.831  65.7718  59.8958   \n",
       "3  39405.8  5726.97  1.01856  0.998250  1495.65  211.151  66.2276  60.1427   \n",
       "4  39867.5  5591.42  1.01950  1.005450  1512.24  210.879  65.9929  60.0564   \n",
       "\n",
       "   TI55017  LC55553  FC55555  TI55021  FC55102  FFC55555  FYC55553  FC55552  \\\n",
       "0  205.694  62.1299  31160.5  213.032  54720.8  0.750930   41313.6  41388.8   \n",
       "1  205.700  61.5982  31166.9  212.861  54646.6  0.751501   41342.9  41564.1   \n",
       "2  205.491  62.0092  31123.6  212.537  55039.2  0.749676   41517.7  41552.4   \n",
       "3  204.892  61.8406  31152.9  213.069  54010.4  0.750338   41475.9  41455.7   \n",
       "4  204.576  62.0640  31088.2  212.732  54184.4  0.749787   41741.3  41428.9   \n",
       "\n",
       "   TC55553  FC55152  TC55555  TI55013  LC55568  TI55014  TI55015  TI55016  \\\n",
       "0  231.718  51377.3  180.140  234.999  39.6806  222.832  216.755  207.387   \n",
       "1  232.537  51163.5  180.125  235.083  39.8793  222.581  216.510  207.269   \n",
       "2  231.454  50434.9  179.981  235.012  39.7428  222.588  216.395  207.153   \n",
       "3  229.980  51182.1  179.899  234.275  39.9667  221.842  215.496  206.713   \n",
       "4  229.427  49512.4  180.038  233.552  39.6826  221.257  215.288  206.328   \n",
       "\n",
       "                  Date   Decanol  \n",
       "0  2012-05-16 16:00:00  0.711118  \n",
       "1  2012-05-16 17:00:00  0.722511  \n",
       "2  2012-05-16 19:00:00  0.745297  \n",
       "3  2012-05-16 20:00:00  0.756689  \n",
       "4  2012-05-16 21:00:00  0.768082  "
      ]
     },
     "execution_count": 21,
     "metadata": {},
     "output_type": "execute_result"
    }
   ],
   "source": [
    "\n",
    "\n",
    "df_CDCO.info() #to check the data types, non-null counts, and memory usage.\n",
    "df_CDCO.head() #to examine the first few rows of the dataset."
   ]
  },
  {
   "cell_type": "markdown",
   "metadata": {},
   "source": [
    "# Summary Statistics:"
   ]
  },
  {
   "cell_type": "code",
   "execution_count": 22,
   "metadata": {},
   "outputs": [
    {
     "data": {
      "text/html": [
       "<div>\n",
       "<style scoped>\n",
       "    .dataframe tbody tr th:only-of-type {\n",
       "        vertical-align: middle;\n",
       "    }\n",
       "\n",
       "    .dataframe tbody tr th {\n",
       "        vertical-align: top;\n",
       "    }\n",
       "\n",
       "    .dataframe thead th {\n",
       "        text-align: right;\n",
       "    }\n",
       "</style>\n",
       "<table border=\"1\" class=\"dataframe\">\n",
       "  <thead>\n",
       "    <tr style=\"text-align: right;\">\n",
       "      <th></th>\n",
       "      <th>Butanol</th>\n",
       "      <th>425 %Al</th>\n",
       "      <th>DI55102</th>\n",
       "      <th>DI55152</th>\n",
       "      <th>TC55552</th>\n",
       "      <th>FC55569</th>\n",
       "      <th>AYC55580</th>\n",
       "      <th>FC55576</th>\n",
       "      <th>FC42428</th>\n",
       "      <th>FC55003</th>\n",
       "      <th>DI55580</th>\n",
       "      <th>FFC55553</th>\n",
       "      <th>FC55009</th>\n",
       "      <th>TI55023</th>\n",
       "      <th>LC55557</th>\n",
       "      <th>LC55555</th>\n",
       "      <th>TI55017</th>\n",
       "      <th>LC55553</th>\n",
       "      <th>FC55555</th>\n",
       "      <th>TI55021</th>\n",
       "      <th>FC55102</th>\n",
       "      <th>FFC55555</th>\n",
       "      <th>FYC55553</th>\n",
       "      <th>FC55552</th>\n",
       "      <th>TC55553</th>\n",
       "      <th>FC55152</th>\n",
       "      <th>TC55555</th>\n",
       "      <th>TI55013</th>\n",
       "      <th>LC55568</th>\n",
       "      <th>TI55014</th>\n",
       "      <th>TI55015</th>\n",
       "      <th>TI55016</th>\n",
       "      <th>Decanol</th>\n",
       "    </tr>\n",
       "  </thead>\n",
       "  <tbody>\n",
       "    <tr>\n",
       "      <th>count</th>\n",
       "      <td>56692.000000</td>\n",
       "      <td>56692.000000</td>\n",
       "      <td>56692.000000</td>\n",
       "      <td>56692.000000</td>\n",
       "      <td>56692.000000</td>\n",
       "      <td>56692.000000</td>\n",
       "      <td>56692.000000</td>\n",
       "      <td>56692.000000</td>\n",
       "      <td>56692.000000</td>\n",
       "      <td>56692.000000</td>\n",
       "      <td>56692.000000</td>\n",
       "      <td>56692.000000</td>\n",
       "      <td>5.669200e+04</td>\n",
       "      <td>56692.000000</td>\n",
       "      <td>56692.000000</td>\n",
       "      <td>56692.000000</td>\n",
       "      <td>56692.000000</td>\n",
       "      <td>56692.000000</td>\n",
       "      <td>56692.000000</td>\n",
       "      <td>56692.000000</td>\n",
       "      <td>56692.000000</td>\n",
       "      <td>56692.000000</td>\n",
       "      <td>56692.000000</td>\n",
       "      <td>56692.000000</td>\n",
       "      <td>56692.000000</td>\n",
       "      <td>56692.000000</td>\n",
       "      <td>56692.000000</td>\n",
       "      <td>56692.000000</td>\n",
       "      <td>56692.000000</td>\n",
       "      <td>56692.000000</td>\n",
       "      <td>56692.000000</td>\n",
       "      <td>56692.000000</td>\n",
       "      <td>56692.000000</td>\n",
       "    </tr>\n",
       "    <tr>\n",
       "      <th>mean</th>\n",
       "      <td>10.159097</td>\n",
       "      <td>6.102568</td>\n",
       "      <td>0.929183</td>\n",
       "      <td>0.948213</td>\n",
       "      <td>167.848708</td>\n",
       "      <td>6542.683482</td>\n",
       "      <td>11.190763</td>\n",
       "      <td>423.616848</td>\n",
       "      <td>34949.282507</td>\n",
       "      <td>5943.587725</td>\n",
       "      <td>0.998448</td>\n",
       "      <td>0.983235</td>\n",
       "      <td>8.642095e+02</td>\n",
       "      <td>218.923414</td>\n",
       "      <td>69.335227</td>\n",
       "      <td>59.583652</td>\n",
       "      <td>186.704144</td>\n",
       "      <td>63.743198</td>\n",
       "      <td>27838.228893</td>\n",
       "      <td>223.571121</td>\n",
       "      <td>44454.232553</td>\n",
       "      <td>0.774375</td>\n",
       "      <td>35311.748813</td>\n",
       "      <td>35943.898723</td>\n",
       "      <td>182.968327</td>\n",
       "      <td>40322.298418</td>\n",
       "      <td>181.033535</td>\n",
       "      <td>202.065783</td>\n",
       "      <td>40.721731</td>\n",
       "      <td>198.001684</td>\n",
       "      <td>195.621123</td>\n",
       "      <td>190.901237</td>\n",
       "      <td>2.783139</td>\n",
       "    </tr>\n",
       "    <tr>\n",
       "      <th>std</th>\n",
       "      <td>10.766912</td>\n",
       "      <td>0.307167</td>\n",
       "      <td>0.066439</td>\n",
       "      <td>0.043248</td>\n",
       "      <td>15.014702</td>\n",
       "      <td>380.329468</td>\n",
       "      <td>4.140405</td>\n",
       "      <td>260.435270</td>\n",
       "      <td>5665.289174</td>\n",
       "      <td>836.963231</td>\n",
       "      <td>0.044181</td>\n",
       "      <td>0.056070</td>\n",
       "      <td>5.951287e+02</td>\n",
       "      <td>4.063504</td>\n",
       "      <td>3.271572</td>\n",
       "      <td>10.709861</td>\n",
       "      <td>9.778964</td>\n",
       "      <td>6.403442</td>\n",
       "      <td>3535.683915</td>\n",
       "      <td>9.366356</td>\n",
       "      <td>6565.359850</td>\n",
       "      <td>0.021944</td>\n",
       "      <td>4632.175030</td>\n",
       "      <td>4437.551046</td>\n",
       "      <td>27.965747</td>\n",
       "      <td>5678.432470</td>\n",
       "      <td>1.495460</td>\n",
       "      <td>17.610521</td>\n",
       "      <td>1.660907</td>\n",
       "      <td>13.633101</td>\n",
       "      <td>13.590375</td>\n",
       "      <td>9.102679</td>\n",
       "      <td>1.600426</td>\n",
       "    </tr>\n",
       "    <tr>\n",
       "      <th>min</th>\n",
       "      <td>0.010000</td>\n",
       "      <td>4.573810</td>\n",
       "      <td>0.794535</td>\n",
       "      <td>0.820425</td>\n",
       "      <td>119.869000</td>\n",
       "      <td>5096.080000</td>\n",
       "      <td>0.000862</td>\n",
       "      <td>0.000548</td>\n",
       "      <td>14573.800000</td>\n",
       "      <td>2925.430000</td>\n",
       "      <td>0.860904</td>\n",
       "      <td>0.265390</td>\n",
       "      <td>3.150000e-18</td>\n",
       "      <td>206.472000</td>\n",
       "      <td>59.038000</td>\n",
       "      <td>27.970000</td>\n",
       "      <td>159.702000</td>\n",
       "      <td>43.548000</td>\n",
       "      <td>14214.900000</td>\n",
       "      <td>206.365000</td>\n",
       "      <td>20039.100000</td>\n",
       "      <td>0.694477</td>\n",
       "      <td>17321.200000</td>\n",
       "      <td>18590.000000</td>\n",
       "      <td>110.534000</td>\n",
       "      <td>19146.400000</td>\n",
       "      <td>175.746000</td>\n",
       "      <td>152.818000</td>\n",
       "      <td>31.616100</td>\n",
       "      <td>161.810000</td>\n",
       "      <td>158.581000</td>\n",
       "      <td>164.278000</td>\n",
       "      <td>0.000976</td>\n",
       "    </tr>\n",
       "    <tr>\n",
       "      <th>25%</th>\n",
       "      <td>3.725195</td>\n",
       "      <td>5.969493</td>\n",
       "      <td>0.889793</td>\n",
       "      <td>0.917749</td>\n",
       "      <td>156.235000</td>\n",
       "      <td>6295.522500</td>\n",
       "      <td>9.382740</td>\n",
       "      <td>244.604000</td>\n",
       "      <td>31670.025000</td>\n",
       "      <td>5425.580000</td>\n",
       "      <td>0.967603</td>\n",
       "      <td>0.959998</td>\n",
       "      <td>4.091148e+02</td>\n",
       "      <td>215.731000</td>\n",
       "      <td>66.227375</td>\n",
       "      <td>49.938100</td>\n",
       "      <td>179.370000</td>\n",
       "      <td>61.246825</td>\n",
       "      <td>26770.325000</td>\n",
       "      <td>217.963000</td>\n",
       "      <td>40968.975000</td>\n",
       "      <td>0.759903</td>\n",
       "      <td>33117.150000</td>\n",
       "      <td>34869.500000</td>\n",
       "      <td>162.691750</td>\n",
       "      <td>38155.075000</td>\n",
       "      <td>179.971000</td>\n",
       "      <td>187.962000</td>\n",
       "      <td>40.100000</td>\n",
       "      <td>187.148750</td>\n",
       "      <td>184.999750</td>\n",
       "      <td>183.515750</td>\n",
       "      <td>1.493330</td>\n",
       "    </tr>\n",
       "    <tr>\n",
       "      <th>50%</th>\n",
       "      <td>5.920780</td>\n",
       "      <td>6.120565</td>\n",
       "      <td>0.938533</td>\n",
       "      <td>0.942326</td>\n",
       "      <td>170.625000</td>\n",
       "      <td>6529.010000</td>\n",
       "      <td>10.709550</td>\n",
       "      <td>379.134000</td>\n",
       "      <td>37037.650000</td>\n",
       "      <td>5963.340000</td>\n",
       "      <td>0.995945</td>\n",
       "      <td>0.988710</td>\n",
       "      <td>8.416325e+02</td>\n",
       "      <td>218.255500</td>\n",
       "      <td>69.966300</td>\n",
       "      <td>61.884700</td>\n",
       "      <td>185.770500</td>\n",
       "      <td>65.277550</td>\n",
       "      <td>28947.000000</td>\n",
       "      <td>221.217000</td>\n",
       "      <td>45941.200000</td>\n",
       "      <td>0.778141</td>\n",
       "      <td>36832.650000</td>\n",
       "      <td>37688.050000</td>\n",
       "      <td>177.601500</td>\n",
       "      <td>41440.150000</td>\n",
       "      <td>180.142000</td>\n",
       "      <td>200.253500</td>\n",
       "      <td>41.081550</td>\n",
       "      <td>196.757000</td>\n",
       "      <td>194.396000</td>\n",
       "      <td>189.936000</td>\n",
       "      <td>2.560000</td>\n",
       "    </tr>\n",
       "    <tr>\n",
       "      <th>75%</th>\n",
       "      <td>11.642100</td>\n",
       "      <td>6.267622</td>\n",
       "      <td>0.979955</td>\n",
       "      <td>0.974824</td>\n",
       "      <td>179.313000</td>\n",
       "      <td>6767.337500</td>\n",
       "      <td>12.928750</td>\n",
       "      <td>617.744000</td>\n",
       "      <td>39151.750000</td>\n",
       "      <td>6506.837500</td>\n",
       "      <td>1.027960</td>\n",
       "      <td>1.010652</td>\n",
       "      <td>1.317453e+03</td>\n",
       "      <td>221.765000</td>\n",
       "      <td>71.768800</td>\n",
       "      <td>68.106400</td>\n",
       "      <td>193.388250</td>\n",
       "      <td>67.964225</td>\n",
       "      <td>30036.300000</td>\n",
       "      <td>225.275000</td>\n",
       "      <td>48822.325000</td>\n",
       "      <td>0.789695</td>\n",
       "      <td>38552.225000</td>\n",
       "      <td>38952.225000</td>\n",
       "      <td>202.014250</td>\n",
       "      <td>43872.400000</td>\n",
       "      <td>182.027000</td>\n",
       "      <td>214.675250</td>\n",
       "      <td>41.480300</td>\n",
       "      <td>207.498250</td>\n",
       "      <td>205.106500</td>\n",
       "      <td>197.160250</td>\n",
       "      <td>3.863330</td>\n",
       "    </tr>\n",
       "    <tr>\n",
       "      <th>max</th>\n",
       "      <td>60.346700</td>\n",
       "      <td>7.571230</td>\n",
       "      <td>1.068230</td>\n",
       "      <td>1.065410</td>\n",
       "      <td>207.426000</td>\n",
       "      <td>8014.950000</td>\n",
       "      <td>23.835600</td>\n",
       "      <td>1206.820000</td>\n",
       "      <td>49372.900000</td>\n",
       "      <td>8973.580000</td>\n",
       "      <td>1.125220</td>\n",
       "      <td>1.475490</td>\n",
       "      <td>2.655410e+03</td>\n",
       "      <td>232.208000</td>\n",
       "      <td>79.508200</td>\n",
       "      <td>85.261600</td>\n",
       "      <td>212.051000</td>\n",
       "      <td>82.753500</td>\n",
       "      <td>34638.100000</td>\n",
       "      <td>260.685000</td>\n",
       "      <td>62848.200000</td>\n",
       "      <td>0.853283</td>\n",
       "      <td>50427.700000</td>\n",
       "      <td>46356.900000</td>\n",
       "      <td>261.360000</td>\n",
       "      <td>58808.700000</td>\n",
       "      <td>186.453000</td>\n",
       "      <td>250.439000</td>\n",
       "      <td>49.295100</td>\n",
       "      <td>234.651000</td>\n",
       "      <td>233.318000</td>\n",
       "      <td>216.644000</td>\n",
       "      <td>7.923330</td>\n",
       "    </tr>\n",
       "  </tbody>\n",
       "</table>\n",
       "</div>"
      ],
      "text/plain": [
       "            Butanol       425 %Al       DI55102       DI55152       TC55552  \\\n",
       "count  56692.000000  56692.000000  56692.000000  56692.000000  56692.000000   \n",
       "mean      10.159097      6.102568      0.929183      0.948213    167.848708   \n",
       "std       10.766912      0.307167      0.066439      0.043248     15.014702   \n",
       "min        0.010000      4.573810      0.794535      0.820425    119.869000   \n",
       "25%        3.725195      5.969493      0.889793      0.917749    156.235000   \n",
       "50%        5.920780      6.120565      0.938533      0.942326    170.625000   \n",
       "75%       11.642100      6.267622      0.979955      0.974824    179.313000   \n",
       "max       60.346700      7.571230      1.068230      1.065410    207.426000   \n",
       "\n",
       "            FC55569      AYC55580       FC55576       FC42428       FC55003  \\\n",
       "count  56692.000000  56692.000000  56692.000000  56692.000000  56692.000000   \n",
       "mean    6542.683482     11.190763    423.616848  34949.282507   5943.587725   \n",
       "std      380.329468      4.140405    260.435270   5665.289174    836.963231   \n",
       "min     5096.080000      0.000862      0.000548  14573.800000   2925.430000   \n",
       "25%     6295.522500      9.382740    244.604000  31670.025000   5425.580000   \n",
       "50%     6529.010000     10.709550    379.134000  37037.650000   5963.340000   \n",
       "75%     6767.337500     12.928750    617.744000  39151.750000   6506.837500   \n",
       "max     8014.950000     23.835600   1206.820000  49372.900000   8973.580000   \n",
       "\n",
       "            DI55580      FFC55553       FC55009       TI55023       LC55557  \\\n",
       "count  56692.000000  56692.000000  5.669200e+04  56692.000000  56692.000000   \n",
       "mean       0.998448      0.983235  8.642095e+02    218.923414     69.335227   \n",
       "std        0.044181      0.056070  5.951287e+02      4.063504      3.271572   \n",
       "min        0.860904      0.265390  3.150000e-18    206.472000     59.038000   \n",
       "25%        0.967603      0.959998  4.091148e+02    215.731000     66.227375   \n",
       "50%        0.995945      0.988710  8.416325e+02    218.255500     69.966300   \n",
       "75%        1.027960      1.010652  1.317453e+03    221.765000     71.768800   \n",
       "max        1.125220      1.475490  2.655410e+03    232.208000     79.508200   \n",
       "\n",
       "            LC55555       TI55017       LC55553       FC55555       TI55021  \\\n",
       "count  56692.000000  56692.000000  56692.000000  56692.000000  56692.000000   \n",
       "mean      59.583652    186.704144     63.743198  27838.228893    223.571121   \n",
       "std       10.709861      9.778964      6.403442   3535.683915      9.366356   \n",
       "min       27.970000    159.702000     43.548000  14214.900000    206.365000   \n",
       "25%       49.938100    179.370000     61.246825  26770.325000    217.963000   \n",
       "50%       61.884700    185.770500     65.277550  28947.000000    221.217000   \n",
       "75%       68.106400    193.388250     67.964225  30036.300000    225.275000   \n",
       "max       85.261600    212.051000     82.753500  34638.100000    260.685000   \n",
       "\n",
       "            FC55102      FFC55555      FYC55553       FC55552       TC55553  \\\n",
       "count  56692.000000  56692.000000  56692.000000  56692.000000  56692.000000   \n",
       "mean   44454.232553      0.774375  35311.748813  35943.898723    182.968327   \n",
       "std     6565.359850      0.021944   4632.175030   4437.551046     27.965747   \n",
       "min    20039.100000      0.694477  17321.200000  18590.000000    110.534000   \n",
       "25%    40968.975000      0.759903  33117.150000  34869.500000    162.691750   \n",
       "50%    45941.200000      0.778141  36832.650000  37688.050000    177.601500   \n",
       "75%    48822.325000      0.789695  38552.225000  38952.225000    202.014250   \n",
       "max    62848.200000      0.853283  50427.700000  46356.900000    261.360000   \n",
       "\n",
       "            FC55152       TC55555       TI55013       LC55568       TI55014  \\\n",
       "count  56692.000000  56692.000000  56692.000000  56692.000000  56692.000000   \n",
       "mean   40322.298418    181.033535    202.065783     40.721731    198.001684   \n",
       "std     5678.432470      1.495460     17.610521      1.660907     13.633101   \n",
       "min    19146.400000    175.746000    152.818000     31.616100    161.810000   \n",
       "25%    38155.075000    179.971000    187.962000     40.100000    187.148750   \n",
       "50%    41440.150000    180.142000    200.253500     41.081550    196.757000   \n",
       "75%    43872.400000    182.027000    214.675250     41.480300    207.498250   \n",
       "max    58808.700000    186.453000    250.439000     49.295100    234.651000   \n",
       "\n",
       "            TI55015       TI55016       Decanol  \n",
       "count  56692.000000  56692.000000  56692.000000  \n",
       "mean     195.621123    190.901237      2.783139  \n",
       "std       13.590375      9.102679      1.600426  \n",
       "min      158.581000    164.278000      0.000976  \n",
       "25%      184.999750    183.515750      1.493330  \n",
       "50%      194.396000    189.936000      2.560000  \n",
       "75%      205.106500    197.160250      3.863330  \n",
       "max      233.318000    216.644000      7.923330  "
      ]
     },
     "execution_count": 22,
     "metadata": {},
     "output_type": "execute_result"
    }
   ],
   "source": [
    "\n",
    "\n",
    "df_CDCO.describe() #to get summary statistics for numeric columns.\n"
   ]
  },
  {
   "cell_type": "markdown",
   "metadata": {},
   "source": [
    "# Check for Missing Values:"
   ]
  },
  {
   "cell_type": "code",
   "execution_count": 23,
   "metadata": {},
   "outputs": [
    {
     "data": {
      "text/plain": [
       "Butanol     0\n",
       "425 %Al     0\n",
       "DI55102     0\n",
       "DI55152     0\n",
       "TC55552     0\n",
       "FC55569     0\n",
       "AYC55580    0\n",
       "FC55576     0\n",
       "FC42428     0\n",
       "FC55003     0\n",
       "DI55580     0\n",
       "FFC55553    0\n",
       "FC55009     0\n",
       "TI55023     0\n",
       "LC55557     0\n",
       "LC55555     0\n",
       "TI55017     0\n",
       "LC55553     0\n",
       "FC55555     0\n",
       "TI55021     0\n",
       "FC55102     0\n",
       "FFC55555    0\n",
       "FYC55553    0\n",
       "FC55552     0\n",
       "TC55553     0\n",
       "FC55152     0\n",
       "TC55555     0\n",
       "TI55013     0\n",
       "LC55568     0\n",
       "TI55014     0\n",
       "TI55015     0\n",
       "TI55016     0\n",
       "Date        0\n",
       "Decanol     0\n",
       "dtype: int64"
      ]
     },
     "execution_count": 23,
     "metadata": {},
     "output_type": "execute_result"
    }
   ],
   "source": [
    "\n",
    "\n",
    "df_CDCO.isnull().sum() #to check the number of missing values in each column.\n"
   ]
  },
  {
   "cell_type": "markdown",
   "metadata": {},
   "source": [
    "# Correlation Analysis:"
   ]
  },
  {
   "cell_type": "code",
   "execution_count": 24,
   "metadata": {},
   "outputs": [
    {
     "data": {
      "image/png": "[encoded data removed]",
      "text/plain": [
       "<Figure size 640x480 with 2 Axes>"
      ]
     },
     "metadata": {},
     "output_type": "display_data"
    }
   ],
   "source": [
    "correlation_matrix = df_CDCO.corr(numeric_only = True)\n",
    "\n",
    "sns.heatmap(correlation_matrix, annot=False, cmap='coolwarm', fmt=\".2f\")\n",
    "plt.show()\n",
    "# Calculate and visualize correlations between numeric variables using a correlation matrix or heatmap.\n",
    "# Identify strong positive/negative correlations."
   ]
  },
  {
   "cell_type": "code",
   "execution_count": 25,
   "metadata": {},
   "outputs": [
    {
     "ename": "SyntaxError",
     "evalue": "'[' was never closed (2390085626.py, line 1)",
     "output_type": "error",
     "traceback": [
      "\u001b[1;36m  Cell \u001b[1;32mIn[25], line 1\u001b[1;36m\u001b[0m\n\u001b[1;33m    strong_corr = correlation_matrix[abs(correlation_matrix) > 0.9\u001b[0m\n\u001b[1;37m                                    ^\u001b[0m\n\u001b[1;31mSyntaxError\u001b[0m\u001b[1;31m:\u001b[0m '[' was never closed\n"
     ]
    }
   ],
   "source": [
    "strong_corr = correlation_matrix[abs(correlation_matrix) > 0.9\n",
    "\n",
    "sns.heatmap(strong_corr, annot=False, cmap='coolwarm', fmt=\".2f\")\n",
    "plt.show()"
   ]
  },
  {
   "cell_type": "code",
   "execution_count": null,
   "metadata": {},
   "outputs": [
    {
     "data": {
      "application/vnd.plotly.v1+json": {
       "config": {
        "plotlyServerURL": "https://plot.ly"
       },
       "data": [
        {
         "coloraxis": "coloraxis",
         "hovertemplate": "Features: %{x}<br>Features: %{y}<br>Correlation: %{z}<extra></extra>",
         "name": "0",
         "type": "heatmap",
         "x": [
          "Butanol",
          "425 %Al",
          "DI55152",
          "FC55003",
          "DI55102",
          "FC55569",
          "AYC55580",
          "FC42428",
          "TC55552",
          "FC55009",
          "FC55576",
          "FFC55553",
          "LC55553",
          "LC55555",
          "TC55555",
          "TI55023",
          "LC55557",
          "FYC55553",
          "TI55021",
          "FFC55555",
          "FC55555",
          "FC55552",
          "DI55580",
          "TI55017",
          "TC55553",
          "FC55102",
          "FC55152",
          "LC55568",
          "TI55013",
          "TI55015",
          "TI55014",
          "TI55016",
          "Decanol"
         ],
         "xaxis": "x",
         "y": [
          "Butanol",
          "425 %Al",
          "DI55152",
          "FC55003",
          "DI55102",
          "FC55569",
          "AYC55580",
          "FC42428",
          "TC55552",
          "FC55009",
          "FC55576",
          "FFC55553",
          "LC55553",
          "LC55555",
          "TC55555",
          "TI55023",
          "LC55557",
          "FYC55553",
          "TI55021",
          "FFC55555",
          "FC55555",
          "FC55552",
          "DI55580",
          "TI55017",
          "TC55553",
          "FC55102",
          "FC55152",
          "LC55568",
          "TI55013",
          "TI55015",
          "TI55014",
          "TI55016",
          "Decanol"
         ],
         "yaxis": "y",
         "z": [
          [
           1,
           0,
           0,
           0,
           0,
           0,
           0,
           0,
           0,
           0,
           0,
           0,
           0,
           0,
           0,
           0,
           0,
           0,
           0,
           0,
           0,
           0,
           0,
           0,
           0,
           0,
           0,
           0,
           0,
           0,
           0,
           0,
           0
          ],
          [
           0,
           1,
           0,
           0,
           0,
           0,
           0,
           0,
           0,
           0,
           0,
           0,
           0,
           0,
           0,
           0,
           0,
           0,
           0,
           0,
           0,
           0,
           0,
           0,
           0,
           0,
           0,
           0,
           0,
           0,
           0,
           0,
           0
          ],
          [
           0,
           0,
           1,
           0,
           0,
           0,
           0,
           0,
           0,
           0,
           0,
           0,
           0,
           0,
           0,
           0,
           0,
           0,
           0,
           0,
           0,
           0,
           0,
           0,
           0,
           0,
           0,
           0,
           0,
           0,
           0,
           0,
           0
          ],
          [
           0,
           0,
           0,
           1,
           0,
           0,
           0,
           0,
           0,
           0,
           0,
           0,
           0,
           0,
           0,
           0,
           0,
           0,
           0,
           0,
           0,
           0,
           0,
           0,
           0,
           0,
           0,
           0,
           0,
           0,
           0,
           0,
           0
          ],
          [
           0,
           0,
           0,
           0,
           1,
           0,
           0,
           0,
           0,
           0,
           0,
           0,
           0,
           0,
           0,
           0,
           0,
           0,
           0,
           0,
           0,
           0,
           0,
           0,
           0,
           0,
           0,
           0,
           0,
           0,
           0,
           0,
           0
          ],
          [
           0,
           0,
           0,
           0,
           0,
           1,
           0,
           0,
           0,
           0,
           0,
           0,
           0,
           0,
           0,
           0,
           0,
           0,
           0,
           0,
           0,
           0,
           0,
           0,
           0,
           0,
           0,
           0,
           0,
           0,
           0,
           0,
           0
          ],
          [
           0,
           0,
           0,
           0,
           0,
           0,
           1,
           0,
           0,
           0,
           0,
           0,
           0,
           0,
           0,
           0,
           0,
           0,
           0,
           0,
           0,
           0,
           0,
           0,
           0,
           0,
           0,
           0,
           0,
           0,
           0,
           0,
           0
          ],
          [
           0,
           0,
           0,
           0,
           0,
           0,
           0,
           1,
           0,
           0,
           0,
           0,
           0,
           0,
           0,
           0,
           0,
           0,
           0,
           0,
           0,
           0,
           0,
           0,
           0,
           0,
           0,
           0,
           0,
           0,
           0,
           0,
           0
          ],
          [
           0,
           0,
           0,
           0,
           0,
           0,
           0,
           0,
           1,
           0,
           0,
           0,
           0,
           0,
           0,
           0,
           0,
           0,
           0,
           0,
           0,
           0,
           0,
           0,
           0,
           0,
           0,
           0,
           0,
           0,
           0,
           0,
           0
          ],
          [
           0,
           0,
           0,
           0,
           0,
           0,
           0,
           0,
           0,
           1,
           0,
           0,
           0,
           0,
           0,
           0,
           0,
           0,
           0,
           0,
           0,
           0,
           0,
           0,
           0,
           0,
           0,
           0,
           0,
           0,
           0,
           0,
           0
          ],
          [
           0,
           0,
           0,
           0,
           0,
           0,
           0,
           0,
           0,
           0,
           1,
           0,
           0,
           0,
           0,
           0,
           0,
           0,
           0,
           0,
           0,
           0,
           0,
           0,
           0,
           0,
           0,
           0,
           0,
           0,
           0,
           0,
           0
          ],
          [
           0,
           0,
           0,
           0,
           0,
           0,
           0,
           0,
           0,
           0,
           0,
           1,
           0,
           0,
           0,
           0,
           0,
           0,
           0,
           0,
           0,
           0,
           0,
           0,
           0,
           0,
           0,
           0,
           0,
           0,
           0,
           0,
           0
          ],
          [
           0,
           0,
           0,
           0,
           0,
           0,
           0,
           0,
           0,
           0,
           0,
           0,
           1,
           0,
           0,
           0,
           0,
           0,
           0,
           0,
           0,
           0,
           0,
           0,
           0,
           0,
           0,
           0,
           0,
           0,
           0,
           0,
           0
          ],
          [
           0,
           0,
           0,
           0,
           0,
           0,
           0,
           0,
           0,
           0,
           0,
           0,
           0,
           1,
           0,
           0,
           0,
           0,
           0,
           0,
           0,
           0,
           0,
           0,
           0,
           0,
           0,
           0,
           0,
           0,
           0,
           0,
           0
          ],
          [
           0,
           0,
           0,
           0,
           0,
           0,
           0,
           0,
           0,
           0,
           0,
           0,
           0,
           0,
           1,
           0,
           0,
           0,
           0,
           0,
           0,
           0,
           0,
           0,
           0,
           0,
           0,
           0,
           0,
           0,
           0,
           0,
           0
          ],
          [
           0,
           0,
           0,
           0,
           0,
           0,
           0,
           0,
           0,
           0,
           0,
           0,
           0,
           0,
           0,
           1,
           0,
           0,
           0,
           0,
           0,
           0,
           0,
           0,
           0,
           0,
           0,
           0,
           0,
           0,
           0,
           0,
           0
          ],
          [
           0,
           0,
           0,
           0,
           0,
           0,
           0,
           0,
           0,
           0,
           0,
           0,
           0,
           0,
           0,
           0,
           1,
           0,
           0,
           0,
           0,
           0,
           0,
           0,
           0,
           0,
           0,
           0,
           0,
           0,
           0,
           0,
           0
          ],
          [
           0,
           0,
           0,
           0,
           0,
           0,
           0,
           0,
           0,
           0,
           0,
           0,
           0,
           0,
           0,
           0,
           0,
           1,
           0,
           0,
           0,
           0,
           0,
           0,
           0,
           0,
           0,
           0,
           0,
           0,
           0,
           0,
           0
          ],
          [
           0,
           0,
           0,
           0,
           0,
           0,
           0,
           0,
           0,
           0,
           0,
           0,
           0,
           0,
           0,
           0,
           0,
           0,
           1,
           0,
           0,
           0,
           0,
           0,
           0,
           0,
           0,
           0,
           0,
           0,
           0,
           0,
           0
          ],
          [
           0,
           0,
           0,
           0,
           0,
           0,
           0,
           0,
           0,
           0,
           0,
           0,
           0,
           0,
           0,
           0,
           0,
           0,
           0,
           1,
           0,
           0,
           0,
           0,
           0,
           0,
           0,
           0,
           0,
           0,
           0,
           0,
           0
          ],
          [
           0,
           0,
           0,
           0,
           0,
           0,
           0,
           0,
           0,
           0,
           0,
           0,
           0,
           0,
           0,
           0,
           0,
           0,
           0,
           0,
           1,
           0.9750474904899303,
           0,
           0,
           0,
           0,
           0,
           0,
           0,
           0,
           0,
           0,
           0
          ],
          [
           0,
           0,
           0,
           0,
           0,
           0,
           0,
           0,
           0,
           0,
           0,
           0,
           0,
           0,
           0,
           0,
           0,
           0,
           0,
           0,
           0.9750474904899303,
           1,
           0,
           0,
           0,
           0,
           0,
           0,
           0,
           0,
           0,
           0,
           0
          ],
          [
           0,
           0,
           0,
           0,
           0,
           0,
           0,
           0,
           0,
           0,
           0,
           0,
           0,
           0,
           0,
           0,
           0,
           0,
           0,
           0,
           0,
           0,
           1,
           0,
           0,
           0,
           0,
           0,
           0,
           0,
           0,
           0,
           0
          ],
          [
           0,
           0,
           0,
           0,
           0,
           0,
           0,
           0,
           0,
           0,
           0,
           0,
           0,
           0,
           0,
           0,
           0,
           0,
           0,
           0,
           0,
           0,
           0,
           1,
           0,
           0,
           0,
           0,
           0.9174285223155333,
           0.9281717334621297,
           0.9266988073312362,
           0.9317737031450497,
           0
          ],
          [
           0,
           0,
           0,
           0,
           0,
           0,
           0,
           0,
           0,
           0,
           0,
           0,
           0,
           0,
           0,
           0,
           0,
           0,
           0,
           0,
           0,
           0,
           0,
           0,
           1,
           0,
           0,
           0,
           0.9596125873680862,
           0.9599250592711609,
           0.9682930043438114,
           0.9594076416375813,
           0
          ],
          [
           0,
           0,
           0,
           0,
           0,
           0,
           0,
           0,
           0,
           0,
           0,
           0,
           0,
           0,
           0,
           0,
           0,
           0,
           0,
           0,
           0,
           0,
           0,
           0,
           0,
           1,
           0,
           0,
           0,
           0,
           0,
           0,
           0
          ],
          [
           0,
           0,
           0,
           0,
           0,
           0,
           0,
           0,
           0,
           0,
           0,
           0,
           0,
           0,
           0,
           0,
           0,
           0,
           0,
           0,
           0,
           0,
           0,
           0,
           0,
           0,
           1,
           0,
           0,
           0,
           0,
           0,
           0
          ],
          [
           0,
           0,
           0,
           0,
           0,
           0,
           0,
           0,
           0,
           0,
           0,
           0,
           0,
           0,
           0,
           0,
           0,
           0,
           0,
           0,
           0,
           0,
           0,
           0,
           0,
           0,
           0,
           1,
           0,
           0,
           0,
           0,
           0
          ],
          [
           0,
           0,
           0,
           0,
           0,
           0,
           0,
           0,
           0,
           0,
           0,
           0,
           0,
           0,
           0,
           0,
           0,
           0,
           0,
           0,
           0,
           0,
           0,
           0.9174285223155333,
           0.9596125873680862,
           0,
           0,
           0,
           1,
           0.9820061411711576,
           0.9889504701261531,
           0.9831830705587215,
           0
          ],
          [
           0,
           0,
           0,
           0,
           0,
           0,
           0,
           0,
           0,
           0,
           0,
           0,
           0,
           0,
           0,
           0,
           0,
           0,
           0,
           0,
           0,
           0,
           0,
           0.9281717334621297,
           0.9599250592711609,
           0,
           0,
           0,
           0.9820061411711576,
           1,
           0.9935613747941447,
           0.9904033342223216,
           0
          ],
          [
           0,
           0,
           0,
           0,
           0,
           0,
           0,
           0,
           0,
           0,
           0,
           0,
           0,
           0,
           0,
           0,
           0,
           0,
           0,
           0,
           0,
           0,
           0,
           0.9266988073312362,
           0.9682930043438114,
           0,
           0,
           0,
           0.9889504701261531,
           0.9935613747941447,
           1,
           0.9963387990198939,
           0
          ],
          [
           0,
           0,
           0,
           0,
           0,
           0,
           0,
           0,
           0,
           0,
           0,
           0,
           0,
           0,
           0,
           0,
           0,
           0,
           0,
           0,
           0,
           0,
           0,
           0.9317737031450497,
           0.9594076416375813,
           0,
           0,
           0,
           0.9831830705587215,
           0.9904033342223216,
           0.9963387990198939,
           1,
           0
          ],
          [
           0,
           0,
           0,
           0,
           0,
           0,
           0,
           0,
           0,
           0,
           0,
           0,
           0,
           0,
           0,
           0,
           0,
           0,
           0,
           0,
           0,
           0,
           0,
           0,
           0,
           0,
           0,
           0,
           0,
           0,
           0,
           0,
           1
          ]
         ]
        }
       ],
       "layout": {
        "coloraxis": {
         "colorbar": {
          "title": {
           "text": "Correlation"
          }
         },
         "colorscale": [
          [
           0,
           "#440154"
          ],
          [
           0.1111111111111111,
           "#482878"
          ],
          [
           0.2222222222222222,
           "#3e4989"
          ],
          [
           0.3333333333333333,
           "#31688e"
          ],
          [
           0.4444444444444444,
           "#26828e"
          ],
          [
           0.5555555555555556,
           "#1f9e89"
          ],
          [
           0.6666666666666666,
           "#35b779"
          ],
          [
           0.7777777777777778,
           "#6ece58"
          ],
          [
           0.8888888888888888,
           "#b5de2b"
          ],
          [
           1,
           "#fde725"
          ]
         ]
        },
        "height": 800,
        "template": {
         "data": {
          "bar": [
           {
            "error_x": {
             "color": "#2a3f5f"
            },
            "error_y": {
             "color": "#2a3f5f"
            },
            "marker": {
             "line": {
              "color": "#E5ECF6",
              "width": 0.5
             },
             "pattern": {
              "fillmode": "overlay",
              "size": 10,
              "solidity": 0.2
             }
            },
            "type": "bar"
           }
          ],
          "barpolar": [
           {
            "marker": {
             "line": {
              "color": "#E5ECF6",
              "width": 0.5
             },
             "pattern": {
              "fillmode": "overlay",
              "size": 10,
              "solidity": 0.2
             }
            },
            "type": "barpolar"
           }
          ],
          "carpet": [
           {
            "aaxis": {
             "endlinecolor": "#2a3f5f",
             "gridcolor": "white",
             "linecolor": "white",
             "minorgridcolor": "white",
             "startlinecolor": "#2a3f5f"
            },
            "baxis": {
             "endlinecolor": "#2a3f5f",
             "gridcolor": "white",
             "linecolor": "white",
             "minorgridcolor": "white",
             "startlinecolor": "#2a3f5f"
            },
            "type": "carpet"
           }
          ],
          "choropleth": [
           {
            "colorbar": {
             "outlinewidth": 0,
             "ticks": ""
            },
            "type": "choropleth"
           }
          ],
          "contour": [
           {
            "colorbar": {
             "outlinewidth": 0,
             "ticks": ""
            },
            "colorscale": [
             [
              0,
              "#0d0887"
             ],
             [
              0.1111111111111111,
              "#46039f"
             ],
             [
              0.2222222222222222,
              "#7201a8"
             ],
             [
              0.3333333333333333,
              "#9c179e"
             ],
             [
              0.4444444444444444,
              "#bd3786"
             ],
             [
              0.5555555555555556,
              "#d8576b"
             ],
             [
              0.6666666666666666,
              "#ed7953"
             ],
             [
              0.7777777777777778,
              "#fb9f3a"
             ],
             [
              0.8888888888888888,
              "#fdca26"
             ],
             [
              1,
              "#f0f921"
             ]
            ],
            "type": "contour"
           }
          ],
          "contourcarpet": [
           {
            "colorbar": {
             "outlinewidth": 0,
             "ticks": ""
            },
            "type": "contourcarpet"
           }
          ],
          "heatmap": [
           {
            "colorbar": {
             "outlinewidth": 0,
             "ticks": ""
            },
            "colorscale": [
             [
              0,
              "#0d0887"
             ],
             [
              0.1111111111111111,
              "#46039f"
             ],
             [
              0.2222222222222222,
              "#7201a8"
             ],
             [
              0.3333333333333333,
              "#9c179e"
             ],
             [
              0.4444444444444444,
              "#bd3786"
             ],
             [
              0.5555555555555556,
              "#d8576b"
             ],
             [
              0.6666666666666666,
              "#ed7953"
             ],
             [
              0.7777777777777778,
              "#fb9f3a"
             ],
             [
              0.8888888888888888,
              "#fdca26"
             ],
             [
              1,
              "#f0f921"
             ]
            ],
            "type": "heatmap"
           }
          ],
          "heatmapgl": [
           {
            "colorbar": {
             "outlinewidth": 0,
             "ticks": ""
            },
            "colorscale": [
             [
              0,
              "#0d0887"
             ],
             [
              0.1111111111111111,
              "#46039f"
             ],
             [
              0.2222222222222222,
              "#7201a8"
             ],
             [
              0.3333333333333333,
              "#9c179e"
             ],
             [
              0.4444444444444444,
              "#bd3786"
             ],
             [
              0.5555555555555556,
              "#d8576b"
             ],
             [
              0.6666666666666666,
              "#ed7953"
             ],
             [
              0.7777777777777778,
              "#fb9f3a"
             ],
             [
              0.8888888888888888,
              "#fdca26"
             ],
             [
              1,
              "#f0f921"
             ]
            ],
            "type": "heatmapgl"
           }
          ],
          "histogram": [
           {
            "marker": {
             "pattern": {
              "fillmode": "overlay",
              "size": 10,
              "solidity": 0.2
             }
            },
            "type": "histogram"
           }
          ],
          "histogram2d": [
           {
            "colorbar": {
             "outlinewidth": 0,
             "ticks": ""
            },
            "colorscale": [
             [
              0,
              "#0d0887"
             ],
             [
              0.1111111111111111,
              "#46039f"
             ],
             [
              0.2222222222222222,
              "#7201a8"
             ],
             [
              0.3333333333333333,
              "#9c179e"
             ],
             [
              0.4444444444444444,
              "#bd3786"
             ],
             [
              0.5555555555555556,
              "#d8576b"
             ],
             [
              0.6666666666666666,
              "#ed7953"
             ],
             [
              0.7777777777777778,
              "#fb9f3a"
             ],
             [
              0.8888888888888888,
              "#fdca26"
             ],
             [
              1,
              "#f0f921"
             ]
            ],
            "type": "histogram2d"
           }
          ],
          "histogram2dcontour": [
           {
            "colorbar": {
             "outlinewidth": 0,
             "ticks": ""
            },
            "colorscale": [
             [
              0,
              "#0d0887"
             ],
             [
              0.1111111111111111,
              "#46039f"
             ],
             [
              0.2222222222222222,
              "#7201a8"
             ],
             [
              0.3333333333333333,
              "#9c179e"
             ],
             [
              0.4444444444444444,
              "#bd3786"
             ],
             [
              0.5555555555555556,
              "#d8576b"
             ],
             [
              0.6666666666666666,
              "#ed7953"
             ],
             [
              0.7777777777777778,
              "#fb9f3a"
             ],
             [
              0.8888888888888888,
              "#fdca26"
             ],
             [
              1,
              "#f0f921"
             ]
            ],
            "type": "histogram2dcontour"
           }
          ],
          "mesh3d": [
           {
            "colorbar": {
             "outlinewidth": 0,
             "ticks": ""
            },
            "type": "mesh3d"
           }
          ],
          "parcoords": [
           {
            "line": {
             "colorbar": {
              "outlinewidth": 0,
              "ticks": ""
             }
            },
            "type": "parcoords"
           }
          ],
          "pie": [
           {
            "automargin": true,
            "type": "pie"
           }
          ],
          "scatter": [
           {
            "fillpattern": {
             "fillmode": "overlay",
             "size": 10,
             "solidity": 0.2
            },
            "type": "scatter"
           }
          ],
          "scatter3d": [
           {
            "line": {
             "colorbar": {
              "outlinewidth": 0,
              "ticks": ""
             }
            },
            "marker": {
             "colorbar": {
              "outlinewidth": 0,
              "ticks": ""
             }
            },
            "type": "scatter3d"
           }
          ],
          "scattercarpet": [
           {
            "marker": {
             "colorbar": {
              "outlinewidth": 0,
              "ticks": ""
             }
            },
            "type": "scattercarpet"
           }
          ],
          "scattergeo": [
           {
            "marker": {
             "colorbar": {
              "outlinewidth": 0,
              "ticks": ""
             }
            },
            "type": "scattergeo"
           }
          ],
          "scattergl": [
           {
            "marker": {
             "colorbar": {
              "outlinewidth": 0,
              "ticks": ""
             }
            },
            "type": "scattergl"
           }
          ],
          "scattermapbox": [
           {
            "marker": {
             "colorbar": {
              "outlinewidth": 0,
              "ticks": ""
             }
            },
            "type": "scattermapbox"
           }
          ],
          "scatterpolar": [
           {
            "marker": {
             "colorbar": {
              "outlinewidth": 0,
              "ticks": ""
             }
            },
            "type": "scatterpolar"
           }
          ],
          "scatterpolargl": [
           {
            "marker": {
             "colorbar": {
              "outlinewidth": 0,
              "ticks": ""
             }
            },
            "type": "scatterpolargl"
           }
          ],
          "scatterternary": [
           {
            "marker": {
             "colorbar": {
              "outlinewidth": 0,
              "ticks": ""
             }
            },
            "type": "scatterternary"
           }
          ],
          "surface": [
           {
            "colorbar": {
             "outlinewidth": 0,
             "ticks": ""
            },
            "colorscale": [
             [
              0,
              "#0d0887"
             ],
             [
              0.1111111111111111,
              "#46039f"
             ],
             [
              0.2222222222222222,
              "#7201a8"
             ],
             [
              0.3333333333333333,
              "#9c179e"
             ],
             [
              0.4444444444444444,
              "#bd3786"
             ],
             [
              0.5555555555555556,
              "#d8576b"
             ],
             [
              0.6666666666666666,
              "#ed7953"
             ],
             [
              0.7777777777777778,
              "#fb9f3a"
             ],
             [
              0.8888888888888888,
              "#fdca26"
             ],
             [
              1,
              "#f0f921"
             ]
            ],
            "type": "surface"
           }
          ],
          "table": [
           {
            "cells": {
             "fill": {
              "color": "#EBF0F8"
             },
             "line": {
              "color": "white"
             }
            },
            "header": {
             "fill": {
              "color": "#C8D4E3"
             },
             "line": {
              "color": "white"
             }
            },
            "type": "table"
           }
          ]
         },
         "layout": {
          "annotationdefaults": {
           "arrowcolor": "#2a3f5f",
           "arrowhead": 0,
           "arrowwidth": 1
          },
          "autotypenumbers": "strict",
          "coloraxis": {
           "colorbar": {
            "outlinewidth": 0,
            "ticks": ""
           }
          },
          "colorscale": {
           "diverging": [
            [
             0,
             "#8e0152"
            ],
            [
             0.1,
             "#c51b7d"
            ],
            [
             0.2,
             "#de77ae"
            ],
            [
             0.3,
             "#f1b6da"
            ],
            [
             0.4,
             "#fde0ef"
            ],
            [
             0.5,
             "#f7f7f7"
            ],
            [
             0.6,
             "#e6f5d0"
            ],
            [
             0.7,
             "#b8e186"
            ],
            [
             0.8,
             "#7fbc41"
            ],
            [
             0.9,
             "#4d9221"
            ],
            [
             1,
             "#276419"
            ]
           ],
           "sequential": [
            [
             0,
             "#0d0887"
            ],
            [
             0.1111111111111111,
             "#46039f"
            ],
            [
             0.2222222222222222,
             "#7201a8"
            ],
            [
             0.3333333333333333,
             "#9c179e"
            ],
            [
             0.4444444444444444,
             "#bd3786"
            ],
            [
             0.5555555555555556,
             "#d8576b"
            ],
            [
             0.6666666666666666,
             "#ed7953"
            ],
            [
             0.7777777777777778,
             "#fb9f3a"
            ],
            [
             0.8888888888888888,
             "#fdca26"
            ],
            [
             1,
             "#f0f921"
            ]
           ],
           "sequentialminus": [
            [
             0,
             "#0d0887"
            ],
            [
             0.1111111111111111,
             "#46039f"
            ],
            [
             0.2222222222222222,
             "#7201a8"
            ],
            [
             0.3333333333333333,
             "#9c179e"
            ],
            [
             0.4444444444444444,
             "#bd3786"
            ],
            [
             0.5555555555555556,
             "#d8576b"
            ],
            [
             0.6666666666666666,
             "#ed7953"
            ],
            [
             0.7777777777777778,
             "#fb9f3a"
            ],
            [
             0.8888888888888888,
             "#fdca26"
            ],
            [
             1,
             "#f0f921"
            ]
           ]
          },
          "colorway": [
           "#636efa",
           "#EF553B",
           "#00cc96",
           "#ab63fa",
           "#FFA15A",
           "#19d3f3",
           "#FF6692",
           "#B6E880",
           "#FF97FF",
           "#FECB52"
          ],
          "font": {
           "color": "#2a3f5f"
          },
          "geo": {
           "bgcolor": "white",
           "lakecolor": "white",
           "landcolor": "#E5ECF6",
           "showlakes": true,
           "showland": true,
           "subunitcolor": "white"
          },
          "hoverlabel": {
           "align": "left"
          },
          "hovermode": "closest",
          "mapbox": {
           "style": "light"
          },
          "paper_bgcolor": "white",
          "plot_bgcolor": "#E5ECF6",
          "polar": {
           "angularaxis": {
            "gridcolor": "white",
            "linecolor": "white",
            "ticks": ""
           },
           "bgcolor": "#E5ECF6",
           "radialaxis": {
            "gridcolor": "white",
            "linecolor": "white",
            "ticks": ""
           }
          },
          "scene": {
           "xaxis": {
            "backgroundcolor": "#E5ECF6",
            "gridcolor": "white",
            "gridwidth": 2,
            "linecolor": "white",
            "showbackground": true,
            "ticks": "",
            "zerolinecolor": "white"
           },
           "yaxis": {
            "backgroundcolor": "#E5ECF6",
            "gridcolor": "white",
            "gridwidth": 2,
            "linecolor": "white",
            "showbackground": true,
            "ticks": "",
            "zerolinecolor": "white"
           },
           "zaxis": {
            "backgroundcolor": "#E5ECF6",
            "gridcolor": "white",
            "gridwidth": 2,
            "linecolor": "white",
            "showbackground": true,
            "ticks": "",
            "zerolinecolor": "white"
           }
          },
          "shapedefaults": {
           "line": {
            "color": "#2a3f5f"
           }
          },
          "ternary": {
           "aaxis": {
            "gridcolor": "white",
            "linecolor": "white",
            "ticks": ""
           },
           "baxis": {
            "gridcolor": "white",
            "linecolor": "white",
            "ticks": ""
           },
           "bgcolor": "#E5ECF6",
           "caxis": {
            "gridcolor": "white",
            "linecolor": "white",
            "ticks": ""
           }
          },
          "title": {
           "x": 0.05
          },
          "xaxis": {
           "automargin": true,
           "gridcolor": "white",
           "linecolor": "white",
           "ticks": "",
           "title": {
            "standoff": 15
           },
           "zerolinecolor": "white",
           "zerolinewidth": 2
          },
          "yaxis": {
           "automargin": true,
           "gridcolor": "white",
           "linecolor": "white",
           "ticks": "",
           "title": {
            "standoff": 15
           },
           "zerolinecolor": "white",
           "zerolinewidth": 2
          }
         }
        },
        "title": {
         "text": "Correlation Matrix"
        },
        "width": 800,
        "xaxis": {
         "anchor": "y",
         "constrain": "domain",
         "domain": [
          0,
          1
         ],
         "scaleanchor": "y",
         "side": "bottom",
         "title": {
          "text": "Features"
         }
        },
        "yaxis": {
         "anchor": "x",
         "autorange": "reversed",
         "constrain": "domain",
         "domain": [
          0,
          1
         ],
         "title": {
          "text": "Features"
         }
        }
       }
      }
     },
     "metadata": {},
     "output_type": "display_data"
    }
   ],
   "source": [
    "\n",
    "threshold = 0.9\n",
    "correlation_matrix = df_CDCO.corr(numeric_only=True)\n",
    "correlation_matrix = correlation_matrix[abs(correlation_matrix) > threshold].fillna(0)\n",
    "\n",
    "\n",
    "\n",
    "fig = px.imshow(correlation_matrix, \n",
    "                color_continuous_scale='Viridis',\n",
    "                labels=dict(x=\"Features\", y=\"Features\", color=\"Correlation\"),\n",
    "                title=\"Correlation Matrix\")\n",
    "\n",
    "fig.update_xaxes(title_text='Features', side='bottom')\n",
    "fig.update_layout(width=800, height=800)\n",
    "\n",
    "fig.show()\n",
    "\n"
   ]
  },
  {
   "cell_type": "code",
   "execution_count": null,
   "metadata": {},
   "outputs": [],
   "source": [
    "upper_triangle = np.triu(np.ones(correlation_matrix.shape), k=1).astype(bool)\n"
   ]
  },
  {
   "cell_type": "code",
   "execution_count": null,
   "metadata": {},
   "outputs": [
    {
     "name": "stdout",
     "output_type": "stream",
     "text": [
      "   Pair_ID Variable  Correlation  Importance                 DESCRIPTION\n",
      "0     c1v1  FC55552     0.975047       117.0    ALK FD TO HYDR RX DC-551\n",
      "1     c1v2  FC55555     0.975047       120.0  ####### UPDATE DESCRIPTION\n",
      "2     c2v1  TI55013     0.917429        67.0    DC-551  HYDR RX SLURRY O\n",
      "3     c2v2  TI55017     0.917429       117.0        FA-554 SLURRY OUTLET\n",
      "4     c3v1  TI55015     0.928172        62.0     FA-552 1ST STG SEP BTMS\n",
      "5     c3v2  TI55017     0.928172       117.0        FA-554 SLURRY OUTLET\n",
      "6     c4v1  TI55014     0.926699        51.0    FA-553  1ST STG MIX DRUM\n",
      "7     c4v2  TI55017     0.926699       117.0        FA-554 SLURRY OUTLET\n",
      "8     c5v1  TI55016     0.931774        37.0       FA-551  2ND STG MIXER\n",
      "9     c5v2  TI55017     0.931774       117.0        FA-554 SLURRY OUTLET\n",
      "10    c6v1  TC55553     0.959613       107.0     DC-551 HYDR H2O PREHEAT\n",
      "11    c6v2  TI55013     0.959613        67.0    DC-551  HYDR RX SLURRY O\n",
      "12    c7v1  TC55553     0.959925       107.0     DC-551 HYDR H2O PREHEAT\n",
      "13    c7v2  TI55015     0.959925        62.0     FA-552 1ST STG SEP BTMS\n",
      "14    c8v1  TC55553     0.968293       107.0     DC-551 HYDR H2O PREHEAT\n",
      "15    c8v2  TI55014     0.968293        51.0    FA-553  1ST STG MIX DRUM\n",
      "16    c9v1  TC55553     0.959408       107.0     DC-551 HYDR H2O PREHEAT\n",
      "17    c9v2  TI55016     0.959408        37.0       FA-551  2ND STG MIXER\n",
      "18   c10v1  TI55013     0.982006        67.0    DC-551  HYDR RX SLURRY O\n",
      "19   c10v2  TI55015     0.982006        62.0     FA-552 1ST STG SEP BTMS\n",
      "20   c11v1  TI55013     0.988950        67.0    DC-551  HYDR RX SLURRY O\n",
      "21   c11v2  TI55014     0.988950        51.0    FA-553  1ST STG MIX DRUM\n",
      "22   c12v1  TI55013     0.983183        67.0    DC-551  HYDR RX SLURRY O\n",
      "23   c12v2  TI55016     0.983183        37.0       FA-551  2ND STG MIXER\n",
      "24   c13v1  TI55014     0.993561        51.0    FA-553  1ST STG MIX DRUM\n",
      "25   c13v2  TI55015     0.993561        62.0     FA-552 1ST STG SEP BTMS\n",
      "26   c14v1  TI55015     0.990403        62.0     FA-552 1ST STG SEP BTMS\n",
      "27   c14v2  TI55016     0.990403        37.0       FA-551  2ND STG MIXER\n",
      "28   c15v1  TI55014     0.996339        51.0    FA-553  1ST STG MIX DRUM\n",
      "29   c15v2  TI55016     0.996339        37.0       FA-551  2ND STG MIXER\n"
     ]
    }
   ],
   "source": [
    "# Get indices of upper triangle where correlations are above threshold\n",
    "indices = np.where((np.abs(correlation_matrix) > threshold) & (upper_triangle))\n",
    "\n",
    "# Convert these indices to lists\n",
    "rows, cols = indices[0].tolist(), indices[1].tolist()\n",
    "\n",
    "# Construct pairs and fetch corresponding values 'DESCRIPTION'\n",
    "\n",
    "\n",
    "data = []\n",
    "correlation_id = 1  # Start the unique identifier for each correlation pair\n",
    "\n",
    "for row, col in zip(rows, cols):\n",
    "    # Ensure v1 is always lexicographically smaller than v2\n",
    "    v1, v2 = sorted([correlation_matrix.columns[row], correlation_matrix.columns[col]])\n",
    "    \n",
    "    # Skip if this pair has already been processed\n",
    "    if any(x[1] == v1 and x[2] == v2 for x in data):\n",
    "        continue\n",
    "\n",
    "    correlation_value = correlation_matrix.loc[v1, v2]\n",
    "    \n",
    "    # Fetch other required values for v1\n",
    "    importance1 = FScore[FScore['Feature'] == v1]['Importance'].values[0] if not FScore[FScore['Feature'] == v1].empty else \"N/A\"\n",
    "    DESCRIPTION1 = TagDesc[TagDesc['ID'] == v1]['DESCRIPTION'].values[0] if not TagDesc[TagDesc['ID'] == v1].empty else \"####### UPDATE DESCRIPTION\"\n",
    "    \n",
    "    # Fetch other required values for v2\n",
    "    importance2 = FScore[FScore['Feature'] == v2]['Importance'].values[0] if not FScore[FScore['Feature'] == v2].empty else \"N/A\"\n",
    "    DESCRIPTION2 = TagDesc[TagDesc['ID'] == v2]['DESCRIPTION'].values[0] if not TagDesc[TagDesc['ID'] == v2].empty else \"####### UPDATE DESCRIPTION\"\n",
    "    \n",
    "    # Append data for v1 and then v2\n",
    "    data.append(['c' + str(correlation_id) + 'v1', v1, correlation_value, importance1, DESCRIPTION1])\n",
    "    data.append(['c' + str(correlation_id) + 'v2', v2, correlation_value, importance2, DESCRIPTION2])\n",
    "    \n",
    "    correlation_id += 1  # Increment the identifier for the next unique correlation pair\n",
    "\n",
    "final_df = pd.DataFrame(data, columns=['Pair_ID', 'Variable', 'Correlation', 'Importance', 'DESCRIPTION'])\n",
    "print(final_df)\n"
   ]
  },
  {
   "cell_type": "code",
   "execution_count": null,
   "metadata": {},
   "outputs": [
    {
     "name": "stdout",
     "output_type": "stream",
     "text": [
      "   Pair_ID Variable  Correlation  Importance                 DESCRIPTION\n",
      "0    c10v1  TI55013     0.982006        67.0    DC-551  HYDR RX SLURRY O\n",
      "1    c10v2  TI55015     0.982006        62.0     FA-552 1ST STG SEP BTMS\n",
      "2    c11v1  TI55013     0.988950        67.0    DC-551  HYDR RX SLURRY O\n",
      "3    c11v2  TI55014     0.988950        51.0    FA-553  1ST STG MIX DRUM\n",
      "4    c12v1  TI55013     0.983183        67.0    DC-551  HYDR RX SLURRY O\n",
      "5    c12v2  TI55016     0.983183        37.0       FA-551  2ND STG MIXER\n",
      "6    c13v2  TI55015     0.993561        62.0     FA-552 1ST STG SEP BTMS\n",
      "7    c13v1  TI55014     0.993561        51.0    FA-553  1ST STG MIX DRUM\n",
      "8    c14v1  TI55015     0.990403        62.0     FA-552 1ST STG SEP BTMS\n",
      "9    c14v2  TI55016     0.990403        37.0       FA-551  2ND STG MIXER\n",
      "10   c15v1  TI55014     0.996339        51.0    FA-553  1ST STG MIX DRUM\n",
      "11   c15v2  TI55016     0.996339        37.0       FA-551  2ND STG MIXER\n",
      "12    c1v2  FC55555     0.975047       120.0  ####### UPDATE DESCRIPTION\n",
      "13    c1v1  FC55552     0.975047       117.0    ALK FD TO HYDR RX DC-551\n",
      "14    c2v2  TI55017     0.917429       117.0        FA-554 SLURRY OUTLET\n",
      "15    c2v1  TI55013     0.917429        67.0    DC-551  HYDR RX SLURRY O\n",
      "16    c3v2  TI55017     0.928172       117.0        FA-554 SLURRY OUTLET\n",
      "17    c3v1  TI55015     0.928172        62.0     FA-552 1ST STG SEP BTMS\n",
      "18    c4v2  TI55017     0.926699       117.0        FA-554 SLURRY OUTLET\n",
      "19    c4v1  TI55014     0.926699        51.0    FA-553  1ST STG MIX DRUM\n",
      "20    c5v2  TI55017     0.931774       117.0        FA-554 SLURRY OUTLET\n",
      "21    c5v1  TI55016     0.931774        37.0       FA-551  2ND STG MIXER\n",
      "22    c6v1  TC55553     0.959613       107.0     DC-551 HYDR H2O PREHEAT\n",
      "23    c6v2  TI55013     0.959613        67.0    DC-551  HYDR RX SLURRY O\n",
      "24    c7v1  TC55553     0.959925       107.0     DC-551 HYDR H2O PREHEAT\n",
      "25    c7v2  TI55015     0.959925        62.0     FA-552 1ST STG SEP BTMS\n",
      "26    c8v1  TC55553     0.968293       107.0     DC-551 HYDR H2O PREHEAT\n",
      "27    c8v2  TI55014     0.968293        51.0    FA-553  1ST STG MIX DRUM\n",
      "28    c9v1  TC55553     0.959408       107.0     DC-551 HYDR H2O PREHEAT\n",
      "29    c9v2  TI55016     0.959408        37.0       FA-551  2ND STG MIXER\n"
     ]
    }
   ],
   "source": [
    "# Group by the first 3 characters of Pair_ID (i.e., cX) and sort within the groups by Importance\n",
    "final_df['Group'] = final_df['Pair_ID'].str[:3]\n",
    "sorted_df = final_df.groupby('Group').apply(lambda x: x.sort_values('Importance', ascending=False)).reset_index(drop=True)\n",
    "\n",
    "# Drop the temporary 'Group' column\n",
    "sorted_df.drop('Group', axis=1, inplace=True)\n",
    "\n",
    "print(sorted_df)\n"
   ]
  },
  {
   "cell_type": "code",
   "execution_count": null,
   "metadata": {},
   "outputs": [
    {
     "name": "stdout",
     "output_type": "stream",
     "text": [
      "   Pair_ID Variable  Correlation  Importance                 DESCRIPTION Group\n",
      "29   c15v2  TI55016     0.996339        37.0       FA-551  2ND STG MIXER   c15\n",
      "28   c15v1  TI55014     0.996339        51.0    FA-553  1ST STG MIX DRUM   c15\n",
      "25   c13v2  TI55015     0.993561        62.0     FA-552 1ST STG SEP BTMS   c13\n",
      "24   c13v1  TI55014     0.993561        51.0    FA-553  1ST STG MIX DRUM   c13\n",
      "27   c14v2  TI55016     0.990403        37.0       FA-551  2ND STG MIXER   c14\n",
      "26   c14v1  TI55015     0.990403        62.0     FA-552 1ST STG SEP BTMS   c14\n",
      "21   c11v2  TI55014     0.988950        51.0    FA-553  1ST STG MIX DRUM   c11\n",
      "20   c11v1  TI55013     0.988950        67.0    DC-551  HYDR RX SLURRY O   c11\n",
      "23   c12v2  TI55016     0.983183        37.0       FA-551  2ND STG MIXER   c12\n",
      "22   c12v1  TI55013     0.983183        67.0    DC-551  HYDR RX SLURRY O   c12\n",
      "19   c10v2  TI55015     0.982006        62.0     FA-552 1ST STG SEP BTMS   c10\n",
      "18   c10v1  TI55013     0.982006        67.0    DC-551  HYDR RX SLURRY O   c10\n",
      "1     c1v2  FC55555     0.975047       120.0  ####### UPDATE DESCRIPTION   c1v\n",
      "0     c1v1  FC55552     0.975047       117.0    ALK FD TO HYDR RX DC-551   c1v\n",
      "14    c8v1  TC55553     0.968293       107.0     DC-551 HYDR H2O PREHEAT   c8v\n",
      "15    c8v2  TI55014     0.968293        51.0    FA-553  1ST STG MIX DRUM   c8v\n",
      "13    c7v2  TI55015     0.959925        62.0     FA-552 1ST STG SEP BTMS   c7v\n",
      "12    c7v1  TC55553     0.959925       107.0     DC-551 HYDR H2O PREHEAT   c7v\n",
      "11    c6v2  TI55013     0.959613        67.0    DC-551  HYDR RX SLURRY O   c6v\n",
      "10    c6v1  TC55553     0.959613       107.0     DC-551 HYDR H2O PREHEAT   c6v\n",
      "16    c9v1  TC55553     0.959408       107.0     DC-551 HYDR H2O PREHEAT   c9v\n",
      "17    c9v2  TI55016     0.959408        37.0       FA-551  2ND STG MIXER   c9v\n",
      "9     c5v2  TI55017     0.931774       117.0        FA-554 SLURRY OUTLET   c5v\n",
      "8     c5v1  TI55016     0.931774        37.0       FA-551  2ND STG MIXER   c5v\n",
      "5     c3v2  TI55017     0.928172       117.0        FA-554 SLURRY OUTLET   c3v\n",
      "4     c3v1  TI55015     0.928172        62.0     FA-552 1ST STG SEP BTMS   c3v\n",
      "7     c4v2  TI55017     0.926699       117.0        FA-554 SLURRY OUTLET   c4v\n",
      "6     c4v1  TI55014     0.926699        51.0    FA-553  1ST STG MIX DRUM   c4v\n",
      "3     c2v2  TI55017     0.917429       117.0        FA-554 SLURRY OUTLET   c2v\n",
      "2     c2v1  TI55013     0.917429        67.0    DC-551  HYDR RX SLURRY O   c2v\n"
     ]
    }
   ],
   "source": [
    "sorted_df = final_df.sort_values(by='Correlation', ascending=False)\n",
    "print(sorted_df)\n"
   ]
  },
  {
   "cell_type": "code",
   "execution_count": null,
   "metadata": {},
   "outputs": [
    {
     "name": "stdout",
     "output_type": "stream",
     "text": [
      "   Pair_ID Variable  Correlation  Importance                 DESCRIPTION Group\n",
      "1     c1v2  FC55555     0.975047       120.0  ####### UPDATE DESCRIPTION   c1v\n",
      "0     c1v1  FC55552     0.975047       117.0    ALK FD TO HYDR RX DC-551   c1v\n",
      "3     c2v2  TI55017     0.917429       117.0        FA-554 SLURRY OUTLET   c2v\n",
      "5     c3v2  TI55017     0.928172       117.0        FA-554 SLURRY OUTLET   c3v\n",
      "7     c4v2  TI55017     0.926699       117.0        FA-554 SLURRY OUTLET   c4v\n",
      "9     c5v2  TI55017     0.931774       117.0        FA-554 SLURRY OUTLET   c5v\n",
      "12    c7v1  TC55553     0.959925       107.0     DC-551 HYDR H2O PREHEAT   c7v\n",
      "16    c9v1  TC55553     0.959408       107.0     DC-551 HYDR H2O PREHEAT   c9v\n",
      "10    c6v1  TC55553     0.959613       107.0     DC-551 HYDR H2O PREHEAT   c6v\n",
      "14    c8v1  TC55553     0.968293       107.0     DC-551 HYDR H2O PREHEAT   c8v\n",
      "20   c11v1  TI55013     0.988950        67.0    DC-551  HYDR RX SLURRY O   c11\n",
      "18   c10v1  TI55013     0.982006        67.0    DC-551  HYDR RX SLURRY O   c10\n",
      "11    c6v2  TI55013     0.959613        67.0    DC-551  HYDR RX SLURRY O   c6v\n",
      "22   c12v1  TI55013     0.983183        67.0    DC-551  HYDR RX SLURRY O   c12\n",
      "2     c2v1  TI55013     0.917429        67.0    DC-551  HYDR RX SLURRY O   c2v\n",
      "13    c7v2  TI55015     0.959925        62.0     FA-552 1ST STG SEP BTMS   c7v\n",
      "26   c14v1  TI55015     0.990403        62.0     FA-552 1ST STG SEP BTMS   c14\n",
      "25   c13v2  TI55015     0.993561        62.0     FA-552 1ST STG SEP BTMS   c13\n",
      "4     c3v1  TI55015     0.928172        62.0     FA-552 1ST STG SEP BTMS   c3v\n",
      "19   c10v2  TI55015     0.982006        62.0     FA-552 1ST STG SEP BTMS   c10\n",
      "28   c15v1  TI55014     0.996339        51.0    FA-553  1ST STG MIX DRUM   c15\n",
      "24   c13v1  TI55014     0.993561        51.0    FA-553  1ST STG MIX DRUM   c13\n",
      "15    c8v2  TI55014     0.968293        51.0    FA-553  1ST STG MIX DRUM   c8v\n",
      "21   c11v2  TI55014     0.988950        51.0    FA-553  1ST STG MIX DRUM   c11\n",
      "6     c4v1  TI55014     0.926699        51.0    FA-553  1ST STG MIX DRUM   c4v\n",
      "23   c12v2  TI55016     0.983183        37.0       FA-551  2ND STG MIXER   c12\n",
      "17    c9v2  TI55016     0.959408        37.0       FA-551  2ND STG MIXER   c9v\n",
      "8     c5v1  TI55016     0.931774        37.0       FA-551  2ND STG MIXER   c5v\n",
      "27   c14v2  TI55016     0.990403        37.0       FA-551  2ND STG MIXER   c14\n",
      "29   c15v2  TI55016     0.996339        37.0       FA-551  2ND STG MIXER   c15\n"
     ]
    }
   ],
   "source": [
    "sorted_df = final_df.sort_values(by='Importance', ascending=False)\n",
    "print(sorted_df)"
   ]
  },
  {
   "cell_type": "code",
   "execution_count": null,
   "metadata": {},
   "outputs": [],
   "source": [
    "# If you want to save df_CDFI to a .csv file:\n",
    "sorted_df.to_csv('sorted_df.csv', index=False)"
   ]
  },
  {
   "cell_type": "markdown",
   "metadata": {},
   "source": [
    "### No CSV Output\n",
    "\n",
    "Next page starts will all data inputs and uses only those below\n",
    "\n",
    "LIMS data lables need to be refomatted to input style or they will be left out"
   ]
  },
  {
   "cell_type": "code",
   "execution_count": null,
   "metadata": {},
   "outputs": [
    {
     "data": {
      "text/plain": [
       "Index(['Butanol', '425 %Al', 'DI55152', 'FC55003', 'DI55102', 'FC55569',\n",
       "       'AYC55580', 'FC42428', 'TC55552', 'FC55009', 'FC55576', 'FFC55553',\n",
       "       'LC55553', 'LC55555', 'TC55555', 'TI55023', 'LC55557', 'FYC55553',\n",
       "       'TI55021', 'FFC55555', 'FC55555', 'FC55552', 'DI55580', 'TI55017',\n",
       "       'TC55553', 'FC55102', 'FC55152', 'LC55568', 'TI55013', 'TI55015',\n",
       "       'TI55014', 'TI55016', 'Date', 'Decanol'],\n",
       "      dtype='object')"
      ]
     },
     "execution_count": 15,
     "metadata": {},
     "output_type": "execute_result"
    }
   ],
   "source": [
    "df_CDCO.columns\n",
    "# Data Visualization:\n",
    "\n",
    "# Create various plots (histograms, bar charts, scatter plots, etc.) to visualize the distribution of data and relationships between variables.\n",
    "# Use libraries like Matplotlib or Seaborn for data visualization."
   ]
  },
  {
   "cell_type": "code",
   "execution_count": null,
   "metadata": {},
   "outputs": [
    {
     "name": "stdout",
     "output_type": "stream",
     "text": [
      "Number of features: 34\n"
     ]
    }
   ],
   "source": [
    "num_columns = df_CDCO.shape[1]\n",
    "print(\"Number of features:\", num_columns)"
   ]
  }
 ],
 "metadata": {
  "kernelspec": {
   "display_name": "Python 3",
   "language": "python",
   "name": "python3"
  },
  "language_info": {
   "codemirror_mode": {
    "name": "ipython",
    "version": 3
   },
   "file_extension": ".py",
   "mimetype": "text/x-python",
   "name": "python",
   "nbconvert_exporter": "python",
   "pygments_lexer": "ipython3",
   "version": "3.10.9"
  }
 },
 "nbformat": 4,
 "nbformat_minor": 2
}
