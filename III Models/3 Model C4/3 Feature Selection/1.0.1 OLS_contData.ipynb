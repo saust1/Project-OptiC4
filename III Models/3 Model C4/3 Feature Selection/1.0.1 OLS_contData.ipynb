{
  "cells": [
    {
      "cell_type": "code",
      "execution_count": 1,
      "metadata": {
        "tags": [],
        "trusted": true
      },
      "outputs": [
        {
          "name": "stderr",
          "output_type": "stream",
          "text": [
            "C:\\Users\\austinsh\\AppData\\Local\\Temp\\ipykernel_12684\\3619633928.py:2: DeprecationWarning: \n",
            "Pyarrow will become a required dependency of pandas in the next major release of pandas (pandas 3.0),\n",
            "(to allow more performant data types, such as the Arrow string type, and better interoperability with other libraries)\n",
            "but was not found to be installed on your system.\n",
            "If this would cause problems for you,\n",
            "please provide us feedback at https://github.com/pandas-dev/pandas/issues/54466\n",
            "        \n",
            "  import pandas as pd\n"
          ]
        }
      ],
      "source": [
        "# Import necessary libraries\n",
        "import pandas as pd\n",
        "from statsmodels.formula.api import ols\n",
        "import statsmodels.api as sm\n",
        "from sklearn.model_selection import train_test_split"
      ]
    },
    {
      "cell_type": "code",
      "execution_count": 2,
      "metadata": {},
      "outputs": [],
      "source": [
        "# url_df_All_1 = 'https://github.com/saust1/Project-OptiC4/blob/e358d5172ac0b8fbb6fba776c0fe0a2b523b8b5c/3%20Feature%20Selection/contData_all_Avg%20-%201o2.csv?raw=true'\n",
        "# url_df_All_2 = 'https://github.com/saust1/Project-OptiC4/blob/e358d5172ac0b8fbb6fba776c0fe0a2b523b8b5c/3%20Feature%20Selection/contData_all_Avg%20-%202o2.csv?raw=true'\n",
        "\n",
        "# df_All_1 = pd.read_csv(url_df_All_1, index_col=0)\n",
        "# df_All_2 = pd.read_csv(url_df_All_2, index_col=0)"
      ]
    },
    {
      "cell_type": "code",
      "execution_count": 3,
      "metadata": {},
      "outputs": [],
      "source": [
        "# df_All_1 = pd.read_csv(r'C:\\Users\\saust\\OneDrive\\Desktop\\GitRepo\\Project-OptiC4\\1 Preprocess\\Merge Data\\contData_all_Avg_1o2.csv')\n",
        "# df_All_2 = pd.read_csv(r'C:\\Users\\saust\\OneDrive\\Desktop\\GitRepo\\Project-OptiC4\\1 Preprocess\\Merge Data\\contData_all_Avg_2o2.csv')\n",
        "# # Concatenate (union) the dataframes\n",
        "# df_All = pd.concat([df_All_1, df_All_2], ignore_index=True)\n",
        "\n",
        "# print(df_All.head())"
      ]
    },
    {
      "cell_type": "code",
      "execution_count": 4,
      "metadata": {},
      "outputs": [
        {
          "name": "stdout",
          "output_type": "stream",
          "text": [
            "                  Date  425_pct_Al     Al2O3  M_Value  C4_pct_Eth  C4_pct_H2O  \\\n",
            "0  2012-05-17 09:00:00    6.319560  11.41670  3.50773    2.554580     22.0531   \n",
            "1  2012-05-17 10:00:00    6.319915  11.40835  3.50797    2.555935     22.0557   \n",
            "2  2012-05-17 12:00:00    6.320970  11.39165  3.50869    2.560005     22.0636   \n",
            "3  2012-05-18 08:00:00    6.328690  11.39165  3.51401    2.540370     22.0604   \n",
            "4  2012-05-18 09:00:00    6.336060  11.40500  3.51910    2.514430     22.0484   \n",
            "\n",
            "   HydWtr_pct_Ammonia  C4_pct_Hex  HydWtr_Na2O  Butanol  ...   LC55568  \\\n",
            "0            0.867508    0.670721     3.354160  30.3662  ...  40.25250   \n",
            "1            0.864729    0.671059     3.306475  30.3662  ...  40.25250   \n",
            "2            0.856391    0.672071     3.163420  30.6785  ...  40.25250   \n",
            "3            0.811652    0.674174     2.238130  32.6454  ...  39.88364   \n",
            "4            0.773793    0.675408     1.391475  32.6454  ...  39.88364   \n",
            "\n",
            "     LC90366   LC90368   PI55004   PI55020   TC55552   TC55553   TC55555  \\\n",
            "0  15.449150  49.26750  1.236360 -0.389406  179.0115  213.9375  179.9940   \n",
            "1  15.449150  49.26750  1.236360 -0.389406  179.0115  213.9375  179.9940   \n",
            "2  15.449150  49.26750  1.236360 -0.389406  179.0115  213.9375  179.9940   \n",
            "3   8.759814  48.51306  1.190342 -0.318266  180.7166  201.0680  179.9338   \n",
            "4   8.759814  48.51306  1.190342 -0.318266  180.7166  201.0680  179.9338   \n",
            "\n",
            "    TI40050   TI55021  \n",
            "0  82.96565  213.8740  \n",
            "1  82.96565  213.8740  \n",
            "2  82.96565  213.8740  \n",
            "3  82.41662  214.5402  \n",
            "4  82.41662  214.5402  \n",
            "\n",
            "[5 rows x 32 columns]\n"
          ]
        }
      ],
      "source": [
        "df_All = pd.read_csv(r'C:\\Users\\austinsh\\Project-OptiC4\\III Models\\3 Model C4\\3 Feature Selection\\filtered-out_5-9_corr.csv')\n",
        "\n",
        "print(df_All.head())"
      ]
    },
    {
      "cell_type": "code",
      "execution_count": 5,
      "metadata": {},
      "outputs": [
        {
          "data": {
            "text/plain": [
              "Index(['Date', '425_pct_Al', 'Al2O3', 'M_Value', 'C4_pct_Eth', 'C4_pct_H2O',\n",
              "       'HydWtr_pct_Ammonia', 'C4_pct_Hex', 'HydWtr_Na2O', 'Butanol', 'DI55102',\n",
              "       'DI55152', 'DI55580', 'FC55003', 'FC55552', 'FC55569', 'FC55576',\n",
              "       'FFC55553', 'FFC55555', 'LC52572', 'LC55553', 'LC55557', 'LC55568',\n",
              "       'LC90366', 'LC90368', 'PI55004', 'PI55020', 'TC55552', 'TC55553',\n",
              "       'TC55555', 'TI40050', 'TI55021'],\n",
              "      dtype='object')"
            ]
          },
          "execution_count": 5,
          "metadata": {},
          "output_type": "execute_result"
        }
      ],
      "source": [
        "df_All.columns"
      ]
    },
    {
      "cell_type": "code",
      "execution_count": 6,
      "metadata": {
        "trusted": true
      },
      "outputs": [],
      "source": [
        "# Set max columns to display\n",
        "pd.set_option('display.max_columns', None)"
      ]
    },
    {
      "cell_type": "code",
      "execution_count": 7,
      "metadata": {},
      "outputs": [],
      "source": [
        "# # List of columns to exclude to run XGboost feature selection\n",
        "# exclude_columns = ['Octanol', 'Hexanol', 'Ethanol', 'Decanol',\n",
        "       \n",
        "#        'TI52014', 'TI55013', 'TI55014', 'TI55015', 'TI55016', 'TI55017', 'TI55021', 'TI55023',\n",
        "#        'TC52015', 'FC52018', 'II52554', 'TI40050', 'VI52558B'\n",
        "#                    ]\n",
        "\n",
        "# # Create a new DataFrame without the excluded columnsd\n",
        "# df_All = df_All.drop(columns=exclude_columns)"
      ]
    },
    {
      "cell_type": "code",
      "execution_count": 8,
      "metadata": {},
      "outputs": [],
      "source": [
        "# df_All = df_All[df_All['Date'] > '2022-06-15 00:00:00']"
      ]
    },
    {
      "cell_type": "markdown",
      "metadata": {},
      "source": [
        "# Remaining Features after Correlation Analysis"
      ]
    },
    {
      "cell_type": "code",
      "execution_count": 9,
      "metadata": {},
      "outputs": [],
      "source": [
        "\n",
        "# selected_columns = ['425 %Al', 'Butanol', 'DI55102', 'DI55152', 'DI55580', 'FC42428',\n",
        "#        'FC55003', 'FC55552', 'FC55569', 'FC55576', 'FFC55553', 'FFC55555',\n",
        "#        'LC52572', 'LC55553', 'LC55555', 'LC55557', 'LC55568', 'LC90366',\n",
        "#        'LC90368', 'PI55004', 'PI55020', 'TC55552', 'TC55553', 'TC55555'\n",
        "#                    ]\n",
        "\n",
        "# existing_columns = [col for col in selected_columns if col in df_All.columns]\n",
        "# df_All = df_All[existing_columns]"
      ]
    },
    {
      "cell_type": "code",
      "execution_count": 10,
      "metadata": {},
      "outputs": [],
      "source": [
        "# First Iteration\n",
        "# selected_columns = ['Butanol PPM', '425 SAO Al', 'FC42428', 'FC55003', 'FC55102', 'FC55152', 'FFC55555',\n",
        "#        'LC55553', 'LC55557', 'LC55568', 'LC90366', 'TC55555']\n",
        "\n",
        "\n"
      ]
    },
    {
      "cell_type": "code",
      "execution_count": 11,
      "metadata": {},
      "outputs": [
        {
          "data": {
            "text/plain": [
              "Index(['Date', '425_pct_Al', 'Al2O3', 'M_Value', 'C4_pct_Eth', 'C4_pct_H2O',\n",
              "       'HydWtr_pct_Ammonia', 'C4_pct_Hex', 'HydWtr_Na2O', 'Butanol', 'DI55102',\n",
              "       'DI55152', 'DI55580', 'FC55003', 'FC55552', 'FC55569', 'FC55576',\n",
              "       'FFC55553', 'FFC55555', 'LC52572', 'LC55553', 'LC55557', 'LC55568',\n",
              "       'LC90366', 'LC90368', 'PI55004', 'PI55020', 'TC55552', 'TC55553',\n",
              "       'TC55555', 'TI40050', 'TI55021'],\n",
              "      dtype='object')"
            ]
          },
          "execution_count": 11,
          "metadata": {},
          "output_type": "execute_result"
        }
      ],
      "source": [
        "df_All.columns"
      ]
    },
    {
      "cell_type": "code",
      "execution_count": 12,
      "metadata": {},
      "outputs": [],
      "source": [
        "# Splitting into train and test\n",
        "X = df_All.drop(['Butanol', 'Date'], axis=1)  # Assuming 'target' is your target column\n",
        "y = df_All['Butanol']\n",
        "X_train, X_test, y_train, y_test = train_test_split(X, y, test_size=0.2, random_state=42)"
      ]
    },
    {
      "cell_type": "code",
      "execution_count": 13,
      "metadata": {},
      "outputs": [],
      "source": [
        "# # Ensure all columns are numeric and handle missing values\n",
        "# # For example, to fill missing values with the mean of each column:\n",
        "# X = X.apply(lambda col: pd.to_numeric(col, errors='coerce')).fillna(X.mean())\n",
        "# y = pd.to_numeric(y, errors='coerce').fillna(y.mean())\n",
        "\n",
        "# Adding a constant to the model (if you haven't already)\n",
        "X = sm.add_constant(X)\n",
        "\n",
        "# Now, split your dataset into train and test again to ensure clean separation\n",
        "X_train, X_test, y_train, y_test = train_test_split(X, y, test_size=0.2, random_state=42)\n"
      ]
    },
    {
      "cell_type": "code",
      "execution_count": 14,
      "metadata": {},
      "outputs": [
        {
          "name": "stdout",
          "output_type": "stream",
          "text": [
            "                            OLS Regression Results                            \n",
            "==============================================================================\n",
            "Dep. Variable:                Butanol   R-squared:                       0.242\n",
            "Model:                            OLS   Adj. R-squared:                  0.241\n",
            "Method:                 Least Squares   F-statistic:                     426.7\n",
            "Date:                Mon, 06 May 2024   Prob (F-statistic):               0.00\n",
            "Time:                        21:04:07   Log-Likelihood:            -1.3877e+05\n",
            "No. Observations:               40127   AIC:                         2.776e+05\n",
            "Df Residuals:                   40096   BIC:                         2.779e+05\n",
            "Df Model:                          30                                         \n",
            "Covariance Type:            nonrobust                                         \n",
            "======================================================================================\n",
            "                         coef    std err          t      P>|t|      [0.025      0.975]\n",
            "--------------------------------------------------------------------------------------\n",
            "const                -71.8092      6.477    -11.087      0.000     -84.504     -59.115\n",
            "425_pct_Al             1.2881      0.201      6.401      0.000       0.894       1.682\n",
            "Al2O3                 -1.0714      0.108     -9.923      0.000      -1.283      -0.860\n",
            "M_Value               -0.4629      0.249     -1.862      0.063      -0.950       0.024\n",
            "C4_pct_Eth            -1.7305      0.087    -19.819      0.000      -1.902      -1.559\n",
            "C4_pct_H2O             0.2797      0.022     12.756      0.000       0.237       0.323\n",
            "HydWtr_pct_Ammonia     3.0035      0.278     10.801      0.000       2.458       3.549\n",
            "C4_pct_Hex            -2.4522      0.184    -13.356      0.000      -2.812      -2.092\n",
            "HydWtr_Na2O           -1.0049      0.058    -17.320      0.000      -1.119      -0.891\n",
            "DI55102               25.2537      1.117     22.616      0.000      23.065      27.442\n",
            "DI55152                6.5235      2.426      2.689      0.007       1.768      11.278\n",
            "DI55580                5.3974      1.122      4.810      0.000       3.198       7.597\n",
            "FC55003               -0.0017   7.13e-05    -23.549      0.000      -0.002      -0.002\n",
            "FC55552                0.0004   1.13e-05     37.529      0.000       0.000       0.000\n",
            "FC55569               -0.0020      0.000    -12.046      0.000      -0.002      -0.002\n",
            "FC55576                0.0040      0.000     18.344      0.000       0.004       0.004\n",
            "FFC55553              14.5797      1.311     11.124      0.000      12.011      17.148\n",
            "FFC55555             -28.6680      2.061    -13.913      0.000     -32.707     -24.629\n",
            "LC52572                0.1473      0.019      7.904      0.000       0.111       0.184\n",
            "LC55553               -0.1845      0.008    -24.243      0.000      -0.199      -0.170\n",
            "LC55557               -0.2629      0.021    -12.765      0.000      -0.303      -0.223\n",
            "LC55568                0.3641      0.036     10.119      0.000       0.294       0.435\n",
            "LC90366               -0.0256      0.002    -16.419      0.000      -0.029      -0.023\n",
            "LC90368                0.0165      0.002      6.816      0.000       0.012       0.021\n",
            "PI55004               -0.0776      0.052     -1.478      0.139      -0.180       0.025\n",
            "PI55020                1.5062      0.053     28.689      0.000       1.403       1.609\n",
            "TC55552                0.0449      0.003     15.401      0.000       0.039       0.051\n",
            "TC55553                0.0322      0.002     15.543      0.000       0.028       0.036\n",
            "TC55555                0.4280      0.030     14.162      0.000       0.369       0.487\n",
            "TI40050               -0.0572      0.003    -16.560      0.000      -0.064      -0.050\n",
            "TI55021               -0.0786      0.006    -13.213      0.000      -0.090      -0.067\n",
            "==============================================================================\n",
            "Omnibus:                    18051.837   Durbin-Watson:                   0.053\n",
            "Prob(Omnibus):                  0.000   Jarque-Bera (JB):            93420.634\n",
            "Skew:                           2.171   Prob(JB):                         0.00\n",
            "Kurtosis:                       9.084   Cond. No.                     6.40e+06\n",
            "==============================================================================\n",
            "\n",
            "Notes:\n",
            "[1] Standard Errors assume that the covariance matrix of the errors is correctly specified.\n",
            "[2] The condition number is large, 6.4e+06. This might indicate that there are\n",
            "strong multicollinearity or other numerical problems.\n"
          ]
        }
      ],
      "source": [
        "#=============================================\n",
        "# TRAIN & EVALUATE REGRESSION MODEL\n",
        "#=============================================\n",
        "\n",
        "#fit simple linear regression model\n",
        "model = sm.OLS(y, X).fit()\n",
        "print(model.summary())"
      ]
    },
    {
      "cell_type": "code",
      "execution_count": 15,
      "metadata": {},
      "outputs": [
        {
          "name": "stdout",
          "output_type": "stream",
          "text": [
            "['M_Value', 'PI55004']\n"
          ]
        }
      ],
      "source": [
        "# Convert summary to DataFrame\n",
        "summary_table = model.summary().tables[1]\n",
        "summary_df = pd.DataFrame(summary_table.data[1:], columns=summary_table.data[0])\n",
        "\n",
        "# Convert necessary columns to numeric\n",
        "numeric_cols = ['coef', 'std err', 't', 'P>|t|', '[0.025', '0.975]']\n",
        "summary_df[numeric_cols] = summary_df[numeric_cols].apply(pd.to_numeric, errors='coerce')\n",
        "\n",
        "# Apply the filter for insignificance and CI crossing zero\n",
        "threshold = 0.05\n",
        "filtered_df = summary_df[(summary_df['P>|t|'] > threshold) & ((summary_df['[0.025'] < 0) & (summary_df['0.975]'] > 0))]\n",
        "\n",
        "# Extracting the feature names\n",
        "insignificant_features = filtered_df.iloc[:, 0].tolist()  # First column contains feature names\n",
        "print(insignificant_features)\n"
      ]
    },
    {
      "cell_type": "code",
      "execution_count": 16,
      "metadata": {},
      "outputs": [
        {
          "name": "stdout",
          "output_type": "stream",
          "text": [
            "               coef  std err      t  P>|t|  [0.025  0.975]\n",
            "3   M_Value -0.4629    0.249 -1.862  0.063   -0.95   0.024\n",
            "24  PI55004 -0.0776    0.052 -1.478  0.139   -0.18   0.025\n"
          ]
        }
      ],
      "source": [
        "print(filtered_df)"
      ]
    },
    {
      "cell_type": "code",
      "execution_count": 17,
      "metadata": {},
      "outputs": [
        {
          "name": "stdout",
          "output_type": "stream",
          "text": [
            "\n",
            "Significant Features:\n",
            "['const', '425_pct_Al', 'Al2O3', 'C4_pct_Eth', 'C4_pct_H2O', 'HydWtr_pct_Ammonia', 'C4_pct_Hex', 'HydWtr_Na2O', 'DI55102', 'DI55152', 'DI55580', 'FC55003', 'FC55569', 'FC55576', 'FFC55553', 'FFC55555', 'LC52572', 'LC55553', 'LC55557', 'LC55568', 'LC90366', 'LC90368', 'PI55020', 'TC55552', 'TC55553', 'TC55555', 'TI40050', 'TI55021']\n"
          ]
        }
      ],
      "source": [
        "# Filter for significant features\n",
        "significant_df = summary_df[(summary_df['P>|t|'] <= threshold) & ((summary_df['[0.025'] > 0) | (summary_df['0.975]'] < 0))]\n",
        "significant_features = significant_df.iloc[:, 0].tolist()\n",
        "print(\"\\nSignificant Features:\")\n",
        "print(significant_features)"
      ]
    },
    {
      "cell_type": "code",
      "execution_count": 18,
      "metadata": {},
      "outputs": [
        {
          "name": "stdout",
          "output_type": "stream",
          "text": [
            "2024-05-06 21:04:07.231077\n"
          ]
        }
      ],
      "source": [
        "from datetime import datetime\n",
        "\n",
        "# Get the current date and time\n",
        "current_date_time = datetime.now()\n",
        "\n",
        "# Print the current date and time\n",
        "print(current_date_time)\n"
      ]
    }
  ],
  "metadata": {
    "kernelspec": {
      "display_name": "Python 3 (ipykernel)",
      "language": "python",
      "name": "python3"
    },
    "language_info": {
      "codemirror_mode": {
        "name": "ipython",
        "version": 3
      },
      "file_extension": ".py",
      "mimetype": "text/x-python",
      "name": "python",
      "nbconvert_exporter": "python",
      "pygments_lexer": "ipython3",
      "version": "3.12.1"
    }
  },
  "nbformat": 4,
  "nbformat_minor": 4
}
