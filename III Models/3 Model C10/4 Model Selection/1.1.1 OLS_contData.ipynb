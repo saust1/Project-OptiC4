{
  "cells": [
    {
      "cell_type": "code",
      "execution_count": 14,
      "metadata": {
        "tags": [],
        "trusted": true
      },
      "outputs": [],
      "source": [
        "# Import necessary libraries\n",
        "import pandas as pd\n",
        "from statsmodels.formula.api import ols\n",
        "import statsmodels.api as sm\n",
        "from sklearn.model_selection import train_test_split"
      ]
    },
    {
      "cell_type": "code",
      "execution_count": 15,
      "metadata": {},
      "outputs": [],
      "source": [
        "# url_df_All_1 = 'https://github.com/saust1/Project-OptiC4/blob/e358d5172ac0b8fbb6fba776c0fe0a2b523b8b5c/3%20Feature%20Selection/contData_all_Avg%20-%201o2.csv?raw=true'\n",
        "# url_df_All_2 = 'https://github.com/saust1/Project-OptiC4/blob/e358d5172ac0b8fbb6fba776c0fe0a2b523b8b5c/3%20Feature%20Selection/contData_all_Avg%20-%202o2.csv?raw=true'\n",
        "\n",
        "# df_All_1 = pd.read_csv(url_df_All_1, index_col=0)\n",
        "# df_All_2 = pd.read_csv(url_df_All_2, index_col=0)"
      ]
    },
    {
      "cell_type": "code",
      "execution_count": 16,
      "metadata": {},
      "outputs": [
        {
          "name": "stdout",
          "output_type": "stream",
          "text": [
            "                  Date  425_pct_Al     Al2O3  M_Value  C4_pct_Eth  C4_pct_H2O  \\\n",
            "0  2012-05-17 09:00:00    6.319560  11.41670  3.50773    2.554580     22.0531   \n",
            "1  2012-05-17 10:00:00    6.319915  11.40835  3.50797    2.555935     22.0557   \n",
            "2  2012-05-17 12:00:00    6.320970  11.39165  3.50869    2.560005     22.0636   \n",
            "3  2012-05-18 08:00:00    6.328690  11.39165  3.51401    2.540370     22.0604   \n",
            "4  2012-05-18 09:00:00    6.336060  11.40500  3.51910    2.514430     22.0484   \n",
            "\n",
            "   HydWtr_pct_Ammonia  C4_pct_Hex  HydWtr_Na2O  Butanol   DI55102   DI55152  \\\n",
            "0            0.867508    0.670721     3.354160  30.3662  0.965043  0.924515   \n",
            "1            0.864729    0.671059     3.306475  30.3662  0.965043  0.924515   \n",
            "2            0.856391    0.672071     3.163420  30.6785  0.965043  0.924515   \n",
            "3            0.811652    0.674174     2.238130  32.6454  0.971625  0.933431   \n",
            "4            0.773793    0.675408     1.391475  32.6454  0.971625  0.933431   \n",
            "\n",
            "    DI55580   FC55003   FC55552   FC55569  FC55576  FFC55553  FFC55555  \\\n",
            "0  1.014885  5308.885  40409.25  6924.645  322.177  1.049540  0.751183   \n",
            "1  1.014885  5308.885  40409.25  6924.645  322.177  1.049540  0.751183   \n",
            "2  1.014885  5308.885  40409.25  6924.645  322.177  1.049540  0.751183   \n",
            "3  1.015146  5297.320  40866.28  6918.194  329.701  1.050092  0.764579   \n",
            "4  1.015146  5297.320  40866.28  6918.194  329.701  1.050092  0.764579   \n",
            "\n",
            "    LC52572   LC55553   LC55557   LC55568    LC90366   LC90368   PI55004  \\\n",
            "0  66.52320  62.92105  66.31395  40.25250  15.449150  49.26750  1.236360   \n",
            "1  66.52320  62.92105  66.31395  40.25250  15.449150  49.26750  1.236360   \n",
            "2  66.52320  62.92105  66.31395  40.25250  15.449150  49.26750  1.236360   \n",
            "3  66.50016  62.23534  65.92560  39.88364   8.759814  48.51306  1.190342   \n",
            "4  66.50016  62.23534  65.92560  39.88364   8.759814  48.51306  1.190342   \n",
            "\n",
            "    PI55020   TC55552   TC55553   TC55555   TI40050   TI55021   TI55023  \n",
            "0 -0.389406  179.0115  213.9375  179.9940  82.96565  213.8740  212.3085  \n",
            "1 -0.389406  179.0115  213.9375  179.9940  82.96565  213.8740  212.3085  \n",
            "2 -0.389406  179.0115  213.9375  179.9940  82.96565  213.8740  212.3085  \n",
            "3 -0.318266  180.7166  201.0680  179.9338  82.41662  214.5402  212.9866  \n",
            "4 -0.318266  180.7166  201.0680  179.9338  82.41662  214.5402  212.9866  \n"
          ]
        }
      ],
      "source": [
        "\n",
        "# df_All_1 = pd.read_csv(r'C:\\Users\\saust\\OneDrive\\Desktop\\GitRepo\\Project-OptiC4\\3 Feature Selection\\contData_all_Avg - 1o2.csv')\n",
        "# df_All_2 = pd.read_csv(r'C:\\Users\\saust\\OneDrive\\Desktop\\GitRepo\\Project-OptiC4\\3 Feature Selection\\contData_all_Avg - 2o2.csv')\n",
        "# # Concatenate (union) the dataframes\n",
        "# df_All = pd.concat([df_All_1, df_All_2], ignore_index=True)\n",
        "\n",
        "df_All = pd.read_csv(r'C:\\Users\\austinsh\\Project-OptiC4\\III Models\\3 Model C4\\3 Feature Selection\\filtered-out_5-9_corr.csv')\n",
        "\n",
        "print(df_All.head())"
      ]
    },
    {
      "cell_type": "code",
      "execution_count": 17,
      "metadata": {},
      "outputs": [
        {
          "data": {
            "text/plain": [
              "Index(['Date', '425_pct_Al', 'Al2O3', 'M_Value', 'C4_pct_Eth', 'C4_pct_H2O',\n",
              "       'HydWtr_pct_Ammonia', 'C4_pct_Hex', 'HydWtr_Na2O', 'Butanol', 'DI55102',\n",
              "       'DI55152', 'DI55580', 'FC55003', 'FC55552', 'FC55569', 'FC55576',\n",
              "       'FFC55553', 'FFC55555', 'LC52572', 'LC55553', 'LC55557', 'LC55568',\n",
              "       'LC90366', 'LC90368', 'PI55004', 'PI55020', 'TC55552', 'TC55553',\n",
              "       'TC55555', 'TI40050', 'TI55021', 'TI55023'],\n",
              "      dtype='object')"
            ]
          },
          "execution_count": 17,
          "metadata": {},
          "output_type": "execute_result"
        }
      ],
      "source": [
        "df_All.columns"
      ]
    },
    {
      "cell_type": "code",
      "execution_count": 18,
      "metadata": {
        "trusted": true
      },
      "outputs": [],
      "source": [
        "# Set max columns to display\n",
        "pd.set_option('display.max_columns', None)"
      ]
    },
    {
      "cell_type": "code",
      "execution_count": 19,
      "metadata": {},
      "outputs": [],
      "source": [
        "# # List of columns to exclude to run XGboost feature selection\n",
        "# exclude_columns = ['Octanol', 'Hexanol', 'Ethanol', 'Decanol',\n",
        "       \n",
        "#        'TI52014', 'TI55013', 'TI55014', 'TI55015', 'TI55016', 'TI55017', 'TI55021', 'TI55023',\n",
        "#        'TC52015', 'FC52018', 'II52554', 'TI40050', 'VI52558B'\n",
        "#                    ]\n",
        "\n",
        "# # Create a new DataFrame without the excluded columnsd\n",
        "# df_All = df_All.drop(columns=exclude_columns)"
      ]
    },
    {
      "cell_type": "code",
      "execution_count": 20,
      "metadata": {},
      "outputs": [],
      "source": [
        "# df_All = df_All[df_All['Date'] > '2022-06-15 00:00:00']"
      ]
    },
    {
      "cell_type": "markdown",
      "metadata": {},
      "source": [
        "# Remaining Features after Correlation Analysis"
      ]
    },
    {
      "cell_type": "code",
      "execution_count": 21,
      "metadata": {},
      "outputs": [],
      "source": [
        "\n",
        "# selected_columns = ['Butanol', \n",
        "#                     'FC55569',\n",
        "#                     'DI55152',\n",
        "#                     '425 %Al',\n",
        "#                     'TC55552',\n",
        "#                     'FC55003',\n",
        "#                     'LC55555',\n",
        "#                     'FFC55553',\n",
        "#                     'FFC55555',\n",
        "#                     'TC55555',\n",
        "#                     'TI55021',\n",
        "#                     'PI55004',\n",
        "#                     'FC55552'\n",
        "#                     ]\n",
        "# existing_columns = [col for col in selected_columns if col in df_All.columns]\n",
        "# df_All = df_All[existing_columns]"
      ]
    },
    {
      "cell_type": "code",
      "execution_count": 22,
      "metadata": {},
      "outputs": [],
      "source": [
        "# # List of columns to exclude from the XGboost feature selection results\n",
        "exclude_columns = [\n",
        "                     'LC55553',\n",
        "                     'TC55555',\n",
        "                     'PI55020',\n",
        "                     'TC55553',\n",
        "                     'TI55021',\n",
        "                     'LC55553',\n",
        "                     'LC55568',\n",
        "                     'TI40050',\n",
        "                     'TI55023',\n",
        "                     'PI55004',\n",
        "                     'M_Value',\n",
        "                     'FFC55553',\n",
        "                     'DI55580',\n",
        "                     'Al2O3',\n",
        "                     'C4_pct_Hex',\n",
        "                     'LC52572'\n",
        "\n",
        "#                  'Date',\n",
        "#                  'C4_pct_Hex', 'HydWtr_Na2O',\n",
        "#                  'TC55555'  \n",
        "                   ]\n",
        "\n",
        "# # Create a new DataFrame without the excluded columnsd\n",
        "df_All = df_All.drop(columns=exclude_columns)"
      ]
    },
    {
      "cell_type": "code",
      "execution_count": 23,
      "metadata": {},
      "outputs": [],
      "source": [
        "# First Iteration\n",
        "# selected_columns = ['Butanol PPM', '425 SAO Al', 'FC42428', 'FC55003', 'FC55102', 'FC55152', 'FFC55555',\n",
        "#        'LC55553', 'LC55557', 'LC55568', 'LC90366', 'TC55555']\n",
        "\n",
        "\n"
      ]
    },
    {
      "cell_type": "code",
      "execution_count": 24,
      "metadata": {},
      "outputs": [
        {
          "data": {
            "text/plain": [
              "Index(['Date', '425_pct_Al', 'C4_pct_Eth', 'C4_pct_H2O', 'HydWtr_pct_Ammonia',\n",
              "       'HydWtr_Na2O', 'Butanol', 'DI55102', 'DI55152', 'FC55003', 'FC55552',\n",
              "       'FC55569', 'FC55576', 'FFC55555', 'LC55557', 'LC90366', 'LC90368',\n",
              "       'TC55552'],\n",
              "      dtype='object')"
            ]
          },
          "execution_count": 24,
          "metadata": {},
          "output_type": "execute_result"
        }
      ],
      "source": [
        "df_All.columns"
      ]
    },
    {
      "cell_type": "code",
      "execution_count": 25,
      "metadata": {},
      "outputs": [],
      "source": [
        "# Splitting into train and test\n",
        "X = df_All.drop(['Butanol', 'Date'], axis=1)  # Assuming 'target' is your target column\n",
        "y = df_All['Butanol']\n",
        "X_train, X_test, y_train, y_test = train_test_split(X, y, test_size=0.2, random_state=42)"
      ]
    },
    {
      "cell_type": "code",
      "execution_count": 26,
      "metadata": {},
      "outputs": [
        {
          "name": "stdout",
          "output_type": "stream",
          "text": [
            "                                 OLS Regression Results                                \n",
            "=======================================================================================\n",
            "Dep. Variable:                Butanol   R-squared (uncentered):                   0.607\n",
            "Model:                            OLS   Adj. R-squared (uncentered):              0.607\n",
            "Method:                 Least Squares   F-statistic:                              3877.\n",
            "Date:                Thu, 21 Mar 2024   Prob (F-statistic):                        0.00\n",
            "Time:                        00:51:38   Log-Likelihood:                     -1.4037e+05\n",
            "No. Observations:               40127   AIC:                                  2.808e+05\n",
            "Df Residuals:                   40111   BIC:                                  2.809e+05\n",
            "Df Model:                          16                                                  \n",
            "Covariance Type:            nonrobust                                                  \n",
            "======================================================================================\n",
            "                         coef    std err          t      P>|t|      [0.025      0.975]\n",
            "--------------------------------------------------------------------------------------\n",
            "425_pct_Al             2.4903      0.168     14.805      0.000       2.161       2.820\n",
            "C4_pct_Eth            -1.1522      0.078    -14.758      0.000      -1.305      -0.999\n",
            "C4_pct_H2O             0.2651      0.018     15.142      0.000       0.231       0.299\n",
            "HydWtr_pct_Ammonia     2.1511      0.283      7.603      0.000       1.597       2.706\n",
            "HydWtr_Na2O           -1.0365      0.059    -17.503      0.000      -1.153      -0.920\n",
            "DI55102               23.4893      0.996     23.578      0.000      21.537      25.442\n",
            "DI55152               -3.9393      1.735     -2.270      0.023      -7.340      -0.539\n",
            "FC55003               -0.0008   6.19e-05    -12.477      0.000      -0.001      -0.001\n",
            "FC55552                0.0004   1.06e-05     37.057      0.000       0.000       0.000\n",
            "FC55569               -0.0024      0.000    -17.252      0.000      -0.003      -0.002\n",
            "FC55576                0.0060      0.000     33.036      0.000       0.006       0.006\n",
            "FFC55555             -29.0346      1.720    -16.882      0.000     -32.406     -25.664\n",
            "LC55557               -0.2380      0.018    -13.285      0.000      -0.273      -0.203\n",
            "LC90366               -0.0275      0.001    -18.437      0.000      -0.030      -0.025\n",
            "LC90368                0.0240      0.002     10.750      0.000       0.020       0.028\n",
            "TC55552                0.0794      0.003     29.673      0.000       0.074       0.085\n",
            "==============================================================================\n",
            "Omnibus:                    18444.065   Durbin-Watson:                   0.048\n",
            "Prob(Omnibus):                  0.000   Jarque-Bera (JB):            93275.351\n",
            "Skew:                           2.241   Prob(JB):                         0.00\n",
            "Kurtosis:                       8.974   Cond. No.                     1.85e+06\n",
            "==============================================================================\n",
            "\n",
            "Notes:\n",
            "[1] R² is computed without centering (uncentered) since the model does not contain a constant.\n",
            "[2] Standard Errors assume that the covariance matrix of the errors is correctly specified.\n",
            "[3] The condition number is large, 1.85e+06. This might indicate that there are\n",
            "strong multicollinearity or other numerical problems.\n"
          ]
        }
      ],
      "source": [
        "#=============================================\n",
        "# TRAIN & EVALUATE REGRESSION MODEL\n",
        "#=============================================\n",
        "\n",
        "#fit simple linear regression model\n",
        "model = sm.OLS(y, X).fit()\n",
        "print(model.summary())"
      ]
    },
    {
      "cell_type": "code",
      "execution_count": 27,
      "metadata": {},
      "outputs": [
        {
          "name": "stdout",
          "output_type": "stream",
          "text": [
            "[]\n"
          ]
        }
      ],
      "source": [
        "# Convert summary to DataFrame\n",
        "summary_table = model.summary().tables[1]\n",
        "summary_df = pd.DataFrame(summary_table.data[1:], columns=summary_table.data[0])\n",
        "\n",
        "# Convert necessary columns to numeric\n",
        "numeric_cols = ['coef', 'std err', 't', 'P>|t|', '[0.025', '0.975]']\n",
        "summary_df[numeric_cols] = summary_df[numeric_cols].apply(pd.to_numeric, errors='coerce')\n",
        "\n",
        "# Apply the filter for insignificance and CI crossing zero\n",
        "threshold = 0.05\n",
        "filtered_df = summary_df[(summary_df['P>|t|'] > threshold) & ((summary_df['[0.025'] < 0) & (summary_df['0.975]'] > 0))]\n",
        "\n",
        "# Extracting the feature names\n",
        "insignificant_features = filtered_df.iloc[:, 0].tolist()  # First column contains feature names\n",
        "print(insignificant_features)\n"
      ]
    },
    {
      "cell_type": "code",
      "execution_count": 28,
      "metadata": {},
      "outputs": [
        {
          "name": "stdout",
          "output_type": "stream",
          "text": [
            "Empty DataFrame\n",
            "Columns: [, coef, std err, t, P>|t|, [0.025, 0.975]]\n",
            "Index: []\n"
          ]
        }
      ],
      "source": [
        "print(filtered_df)"
      ]
    },
    {
      "cell_type": "code",
      "execution_count": 29,
      "metadata": {},
      "outputs": [
        {
          "name": "stdout",
          "output_type": "stream",
          "text": [
            "\n",
            "Significant Features:\n",
            "['425_pct_Al', 'C4_pct_Eth', 'C4_pct_H2O', 'HydWtr_pct_Ammonia', 'HydWtr_Na2O', 'DI55102', 'DI55152', 'FC55003', 'FC55569', 'FC55576', 'FFC55555', 'LC55557', 'LC90366', 'LC90368', 'TC55552']\n"
          ]
        }
      ],
      "source": [
        "# Filter for significant features\n",
        "significant_df = summary_df[(summary_df['P>|t|'] <= threshold) & ((summary_df['[0.025'] > 0) | (summary_df['0.975]'] < 0))]\n",
        "significant_features = significant_df.iloc[:, 0].tolist()\n",
        "print(\"\\nSignificant Features:\")\n",
        "print(significant_features)"
      ]
    }
  ],
  "metadata": {
    "kernelspec": {
      "display_name": "Python 3 (ipykernel)",
      "language": "python",
      "name": "python3"
    },
    "language_info": {
      "codemirror_mode": {
        "name": "ipython",
        "version": 3
      },
      "file_extension": ".py",
      "mimetype": "text/x-python",
      "name": "python",
      "nbconvert_exporter": "python",
      "pygments_lexer": "ipython3",
      "version": "3.12.1"
    }
  },
  "nbformat": 4,
  "nbformat_minor": 4
}
