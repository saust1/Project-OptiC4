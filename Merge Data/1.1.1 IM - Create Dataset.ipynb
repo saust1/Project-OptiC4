{
  "cells": [
    {
      "cell_type": "code",
      "execution_count": 49,
      "metadata": {
        "tags": [],
        "trusted": true
      },
      "outputs": [],
      "source": [
        "import pandas as pd\n",
        "# Set max columns to display\n",
        "pd.set_option('display.max_columns', None)\n",
        "\n",
        "import numpy as np\n",
        "from sklearn import preprocessing as pre\n",
        "import matplotlib.pyplot as plt\n",
        "from scipy import stats\n",
        "import statsmodels.api as sm\n",
        "from sklearn.model_selection import train_test_split\n",
        "from sklearn.metrics import mean_squared_error, r2_score\n",
        "\n"
      ]
    },
    {
      "cell_type": "code",
      "execution_count": 50,
      "metadata": {
        "tags": [],
        "trusted": true
      },
      "outputs": [],
      "source": [
        "# Importing CSV files\n",
        "df_CDunit = pd.read_csv('continuous_unitData_clean.csv')\n",
        "df_AlCon = pd.read_csv('df_AlCon.csv')\n",
        "df_FB554 = pd.read_csv('df_FB554.csv')\n",
        "\n",
        "# df_CDunit = pd.read_csv(r\"C:\\Users\\saust\\OneDrive - Sasol\\1 Project rC4\\Jupyter Notebooks\\1 Preprocess\\Continuous Data\\continuous_unitData_clean.csv\")\n",
        "# df_AlCon = pd.read_csv(r\"C:\\Users\\saust\\OneDrive - Sasol\\1 Project rC4\\Jupyter Notebooks\\1 Preprocess\\Lab Data\\df_AlCon.csv\")\n",
        "# df_FB554 = pd.read_csv(r\"C:\\Users\\saust\\OneDrive - Sasol\\1 Project rC4\\Jupyter Notebooks\\1 Preprocess\\Lab Data\\df_FB554.csv\")\n"
      ]
    },
    {
      "cell_type": "code",
      "execution_count": 51,
      "metadata": {
        "tags": [],
        "trusted": true
      },
      "outputs": [
        {
          "name": "stdout",
          "output_type": "stream",
          "text": [
            "           AYC55580       DI55102       DI55152       DI55580       FC42428  \\\n",
            "count  49239.000000  49239.000000  49239.000000  49239.000000  49239.000000   \n",
            "mean      11.266268      0.929918      0.941470      0.997989  35926.808144   \n",
            "std        4.622232      0.067214      0.039545      0.049746   5103.120658   \n",
            "min       -2.825930      0.794541      0.818505      0.844666  16906.900000   \n",
            "25%        9.714050      0.892178      0.915156      0.966571  33984.800000   \n",
            "50%       10.767700      0.940556      0.937905      0.997402  37734.700000   \n",
            "75%       13.391700      0.980936      0.961704      1.032280  39364.100000   \n",
            "max       25.133700      1.068230      1.063430      1.135600  49959.600000   \n",
            "\n",
            "            FC52018       FC55003       FC55009       FC55102       FC55152  \\\n",
            "count  49239.000000  49239.000000  49239.000000  49239.000000  49239.000000   \n",
            "mean   32706.413168   5961.217965    869.257900  44691.095554  40539.984571   \n",
            "std     6023.684555    832.099515    608.120131   6069.205066   5242.871651   \n",
            "min    12957.700000   2882.880000      0.000000  20954.800000  19729.300000   \n",
            "25%    29052.100000   5439.800000    376.011500  41476.350000  38707.150000   \n",
            "50%    32731.400000   5979.580000    865.565000  45986.900000  41626.600000   \n",
            "75%    36282.350000   6523.615000   1342.055000  48688.300000  43796.100000   \n",
            "max    50000.000000   9009.590000   2671.660000  62848.200000  57371.200000   \n",
            "\n",
            "            FC55552       FC55555       FC55569       FC55576      FFC55553  \\\n",
            "count  49239.000000  49239.000000  49239.000000  49239.000000  49239.000000   \n",
            "mean   36376.409801  28172.182126   6597.565752    370.795627      0.993804   \n",
            "std     4087.826711   3318.572614    359.033969    255.208069      0.039461   \n",
            "min    19431.600000  14723.300000   5167.950000      0.000000      0.814458   \n",
            "25%    35226.250000  27386.850000   6376.420000    197.528000      0.970079   \n",
            "50%    37942.800000  29250.800000   6572.330000    342.974000      0.991878   \n",
            "75%    38995.350000  30212.000000   6802.945000    525.286000      1.012520   \n",
            "max    46356.900000  34638.100000   8014.950000   1156.400000      1.169830   \n",
            "\n",
            "           FFC55555      FYC55553       II52554       LC52572       LC55553  \\\n",
            "count  49239.000000  49239.000000  49239.000000  49239.000000  49239.000000   \n",
            "mean       0.774196  36113.889577    171.133600     63.061658     63.507590   \n",
            "std        0.022952   4033.459794     28.161559      2.543381      6.895367   \n",
            "min        0.697063  18810.000000     81.084500     53.812500     42.445600   \n",
            "25%        0.759486  34630.350000    151.348000     61.733100     60.102750   \n",
            "50%        0.778021  37388.300000    168.624000     63.298600     65.378700   \n",
            "75%        0.789994  38765.900000    189.566500     64.897300     68.112450   \n",
            "max        0.850169  46156.700000    259.451000     72.093800     82.753500   \n",
            "\n",
            "            LC55555       LC55557       LC55568       LC90366       LC90368  \\\n",
            "count  49239.000000  49239.000000  49239.000000  49239.000000  49239.000000   \n",
            "mean      57.984959     69.792690     41.094363     47.201355     38.308711   \n",
            "std       10.572684      3.033162      1.486204     28.048134     20.243559   \n",
            "min       27.970000     60.183500     32.425100      0.000000      0.006367   \n",
            "25%       49.635700     67.946550     40.593800     23.386400     23.243750   \n",
            "50%       60.017100     70.125000     41.208500     49.816400     43.977700   \n",
            "75%       66.908700     71.902350     41.580900     73.613150     53.482550   \n",
            "max       82.809000     79.319900     49.070100     87.901600     81.210800   \n",
            "\n",
            "            PI55004       PI55020       PI55560       TC52015       TC55552  \\\n",
            "count  49239.000000  49239.000000  49239.000000  49239.000000  49239.000000   \n",
            "mean       2.224592     -1.479523      1.001525     75.091381    168.734102   \n",
            "std        1.170256      1.105188      0.977671     16.558697     15.298685   \n",
            "min        0.001366     -4.808760     -2.094890     27.143100    120.611000   \n",
            "25%        1.286425     -2.317740      0.231558     64.254700    156.048000   \n",
            "50%        2.000880     -1.462750      0.792035     76.003800    172.474000   \n",
            "75%        3.009200     -0.498625      1.679370     84.912350    180.928500   \n",
            "max        6.299380      1.895150      4.442870    121.783000    207.426000   \n",
            "\n",
            "            TC55553       TC55555       TC55566       TI40050       TI52014  \\\n",
            "count  49239.000000  49239.000000  49239.000000  49239.000000  49239.000000   \n",
            "mean     182.710330    180.979494    196.952255     73.786672    129.984184   \n",
            "std       27.958602      1.478328     12.864912     15.274405     12.201610   \n",
            "min      110.534000    175.958000    156.727000     27.582300     96.720000   \n",
            "25%      162.713000    179.967000    185.816500     63.131900    121.371000   \n",
            "50%      176.777000    180.124000    199.969000     76.939900    130.516000   \n",
            "75%      201.303500    181.988000    205.058000     85.300900    139.365500   \n",
            "max      261.360000    186.263000    227.835000    118.700000    164.186000   \n",
            "\n",
            "            TI55013       TI55014       TI55015       TI55016       TI55017  \\\n",
            "count  49239.000000  49239.000000  49239.000000  49239.000000  49239.000000   \n",
            "mean     201.839939    197.779209    195.492283    190.596412    186.470068   \n",
            "std       17.740798     13.729117     13.604437      9.182114      9.686494   \n",
            "min      161.963000    169.311000    166.079000    171.047000    159.702000   \n",
            "25%      187.861000    187.105000    185.019500    183.475000    179.121500   \n",
            "50%      199.896000    196.421000    194.148000    189.374000    185.547000   \n",
            "75%      214.156000    206.994000    204.484500    196.705500    192.840500   \n",
            "max      248.095000    232.105000    230.897000    214.243000    211.069000   \n",
            "\n",
            "            TI55021       TI55023      VI52558B  \n",
            "count  49239.000000  49239.000000  49239.000000  \n",
            "mean     223.102354    218.562016      2.798626  \n",
            "std        9.224274      3.761215      0.953890  \n",
            "min      207.365000    206.266000      0.242948  \n",
            "25%      217.672000    215.586000      2.127005  \n",
            "50%      220.707000    217.880000      2.631580  \n",
            "75%      224.423500    221.263000      3.278840  \n",
            "max      256.842000    231.571000      6.393180  \n",
            "        425 SAO Al\n",
            "count  2770.000000\n",
            "mean      6.055103\n",
            "std       0.482111\n",
            "min       0.037000\n",
            "25%       5.963000\n",
            "50%       6.107000\n",
            "75%       6.237000\n",
            "max       8.058000\n",
            "       Octanol PPM   Hexanol PPM   Ethanol PPM   Dodecanol PPM   Decanol PPM   \\\n",
            "count  14017.000000  14017.000000  14017.000000    14017.000000  14017.000000   \n",
            "mean       5.343145      6.048903     40.523980        2.678687      4.888581   \n",
            "std       30.781399     35.155027    145.779946       32.492896     42.022916   \n",
            "min        0.000000      0.000000      0.000000        0.000000      0.000000   \n",
            "25%        1.990000      1.710000      5.670000        0.470000      1.480000   \n",
            "50%        3.670000      3.030000     14.210000        0.890000      2.670000   \n",
            "75%        5.540000      4.840000     34.070000        1.560000      4.180000   \n",
            "max     2747.000000   2008.000000   8041.000000     2694.000000   3064.000000   \n",
            "\n",
            "        Butanol PPM        %nC8OH        %nC6OH      %nC12OH      %nC10OH   \\\n",
            "count  14017.000000  14017.000000  14017.000000  14017.00000  14017.000000   \n",
            "mean      95.371019      3.978212      3.967594      1.24981      3.120723   \n",
            "std      742.390582      4.627916     13.559662      2.05057      5.830448   \n",
            "min        0.000000      0.000000      0.000000      0.00000      0.000000   \n",
            "25%        3.780000      1.800000      1.540000      0.44000      1.340000   \n",
            "50%        6.480000      3.470000      2.880000      0.83000      2.520000   \n",
            "75%       17.330000      5.310000      4.690000      1.45000      3.990000   \n",
            "max    36301.200000    304.100000   1358.000000    145.60000    598.400000   \n",
            "\n",
            "          %Al2O3_bM  \n",
            "count  14017.000000  \n",
            "mean      10.578390  \n",
            "std        0.909849  \n",
            "min        0.000000  \n",
            "25%       10.180000  \n",
            "50%       10.660000  \n",
            "75%       11.081000  \n",
            "max       19.427000  \n"
          ]
        }
      ],
      "source": [
        "print(df_CDunit.describe())\n",
        "print(df_AlCon.describe())\n",
        "print(df_FB554.describe())\n"
      ]
    },
    {
      "cell_type": "code",
      "execution_count": 52,
      "metadata": {},
      "outputs": [
        {
          "name": "stdout",
          "output_type": "stream",
          "text": [
            "Data type for 'Date' column in df_CDunit: object\n",
            "Data type for 'Date' column in df_FB554: object\n",
            "Data type for 'Date' column in df_AlCon: object\n"
          ]
        }
      ],
      "source": [
        "print(\"Data type for 'Date' column in df_CDunit:\", df_CDunit['Date'].dtypes)\n",
        "print(\"Data type for 'Date' column in df_FB554:\", df_FB554['Date'].dtypes)\n",
        "print(\"Data type for 'Date' column in df_AlCon:\", df_AlCon['Date'].dtypes)\n"
      ]
    },
    {
      "cell_type": "code",
      "execution_count": 53,
      "metadata": {},
      "outputs": [],
      "source": [
        "df_CDunit['Date'] = pd.to_datetime(df_CDunit['Date'], errors='coerce')\n",
        "df_FB554['Date'] = pd.to_datetime(df_FB554['Date'], errors='coerce')\n",
        "df_AlCon['Date'] = pd.to_datetime(df_AlCon['Date'], errors='coerce')\n"
      ]
    },
    {
      "cell_type": "code",
      "execution_count": 54,
      "metadata": {},
      "outputs": [
        {
          "name": "stdout",
          "output_type": "stream",
          "text": [
            "Data type for 'Date' column in df_CDunit: datetime64[ns]\n",
            "Data type for 'Date' column in df_FB554: datetime64[ns]\n",
            "Data type for 'Date' column in df_AlCon: datetime64[ns]\n"
          ]
        }
      ],
      "source": [
        "print(\"Data type for 'Date' column in df_CDunit:\", df_CDunit['Date'].dtypes)\n",
        "print(\"Data type for 'Date' column in df_FB554:\", df_FB554['Date'].dtypes)\n",
        "print(\"Data type for 'Date' column in df_AlCon:\", df_AlCon['Date'].dtypes)\n"
      ]
    },
    {
      "cell_type": "code",
      "execution_count": 55,
      "metadata": {},
      "outputs": [
        {
          "name": "stdout",
          "output_type": "stream",
          "text": [
            "Index(['Date', 'AYC55580', 'DI55102', 'DI55152', 'DI55580', 'FC42428',\n",
            "       'FC52018', 'FC55003', 'FC55009', 'FC55102', 'FC55152', 'FC55552',\n",
            "       'FC55555', 'FC55569', 'FC55576', 'FFC55553', 'FFC55555', 'FYC55553',\n",
            "       'II52554', 'LC52572', 'LC55553', 'LC55555', 'LC55557', 'LC55568',\n",
            "       'LC90366', 'LC90368', 'PI55004', 'PI55020', 'PI55560', 'TC52015',\n",
            "       'TC55552', 'TC55553', 'TC55555', 'TC55566', 'TI40050', 'TI52014',\n",
            "       'TI55013', 'TI55014', 'TI55015', 'TI55016', 'TI55017', 'TI55021',\n",
            "       'TI55023', 'VI52558B'],\n",
            "      dtype='object')\n",
            "Index(['Date', 'Octanol PPM ', 'Hexanol PPM ', 'Ethanol PPM ',\n",
            "       'Dodecanol PPM ', 'Decanol PPM ', 'Butanol PPM', '%nC8OH', '%nC6OH',\n",
            "       '%nC12OH', '%nC10OH ', '%Al2O3_bM'],\n",
            "      dtype='object')\n",
            "Index(['Date', '425 SAO Al'], dtype='object')\n"
          ]
        }
      ],
      "source": [
        "print(df_CDunit.columns)\n",
        "print(df_FB554.columns)\n",
        "print(df_AlCon.columns)\n"
      ]
    },
    {
      "cell_type": "code",
      "execution_count": 56,
      "metadata": {},
      "outputs": [],
      "source": [
        "def apply_rolling_average_to_df(df, rolling_size):\n",
        "    # Ensure 'Date' is the index if it's not already\n",
        "    if df.index.name != 'Date':\n",
        "        df = df.set_index('Date')\n",
        "\n",
        "    # Apply rolling average to all columns\n",
        "    rolled_df = df.rolling(window=rolling_size, min_periods=1).mean()\n",
        "\n",
        "    # Reset index to make 'Date' a column again\n",
        "    rolled_df = rolled_df.reset_index()\n",
        "\n",
        "    return rolled_df\n",
        "\n"
      ]
    },
    {
      "cell_type": "code",
      "execution_count": 57,
      "metadata": {},
      "outputs": [],
      "source": [
        "def apply_time_shift_by_hours(df, shift_hours):\n",
        "    \"\"\"\n",
        "    Shifts the DataFrame's datetime index by the specified number of hours.\n",
        "\n",
        "    :param df: DataFrame with 'Date' as its datetime index or column.\n",
        "    :param shift_hours: Number of hours to shift. Can be positive (forward) or negative (backward).\n",
        "    :return: Shifted DataFrame.\n",
        "    \"\"\"\n",
        "    # Convert 'Date' to datetime and set as index if it's not already\n",
        "    if df.index.name != 'Date':\n",
        "        df['Date'] = pd.to_datetime(df['Date'], errors='coerce')\n",
        "        df = df.set_index('Date')\n",
        "\n",
        "    # Ensure the index is a DatetimeIndex\n",
        "    df.index = pd.to_datetime(df.index)\n",
        "\n",
        "    # Shift the DataFrame's index by the specified number of hours\n",
        "    df.index = df.index + pd.Timedelta(hours=shift_hours)\n",
        "\n",
        "    return df"
      ]
    },
    {
      "cell_type": "code",
      "execution_count": 58,
      "metadata": {},
      "outputs": [],
      "source": [
        "# # Usage Examples\n",
        "# shift_hours_AlCon = 1  # Negative shift for df_AlCon (e.g., -5 hours backward)\n",
        "# shift_hours_FB554 = 5   # Positive shift for df_FB554 (e.g., 5 hours forward)\n",
        "\n",
        "# shifted_df_AlCon = apply_time_shift_by_hours(df_AlCon, shift_hours_AlCon)\n",
        "# print(\"Shifted df_AlCon:\")\n",
        "# print(shifted_df_AlCon.head())\n",
        "\n",
        "# shifted_df_FB554 = apply_time_shift_by_hours(df_FB554, shift_hours_FB554)\n",
        "# print(\"\\nShifted df_FB554:\")\n",
        "# print(shifted_df_FB554.head())"
      ]
    },
    {
      "cell_type": "code",
      "execution_count": 59,
      "metadata": {},
      "outputs": [],
      "source": [
        "def join_df_FB554_to_df_CDunit(df_CDunit, df_FB554):\n",
        "    # Ensure 'Date' columns are datetime objects and sort DataFrames\n",
        "    df_CDunit['Date'] = pd.to_datetime(df_CDunit['Date'], errors='coerce')\n",
        "    df_FB554['Date'] = pd.to_datetime(df_FB554['Date'], errors='coerce')\n",
        "\n",
        "    df_CDunit = df_CDunit.dropna(subset=['Date']).sort_values('Date')\n",
        "    df_FB554 = df_FB554.dropna(subset=['Date']).sort_values('Date')\n",
        "\n",
        "    # Perform merge_asof\n",
        "    combined_df = pd.merge_asof(df_FB554, df_CDunit, on='Date', direction='nearest')\n",
        "\n",
        "    return combined_df\n",
        "\n",
        "def join_df_AlCon_to_combined_df(combined_df, df_AlCon):\n",
        "    # Ensure 'Date' columns are datetime objects and sort DataFrames\n",
        "    combined_df['Date'] = pd.to_datetime(combined_df['Date'], errors='coerce')\n",
        "    df_AlCon['Date'] = pd.to_datetime(df_AlCon['Date'], errors='coerce')\n",
        "\n",
        "    combined_df = combined_df.dropna(subset=['Date']).sort_values('Date')\n",
        "    df_AlCon = df_AlCon.dropna(subset=['Date']).sort_values('Date')\n",
        "\n",
        "    # Perform merge_asof\n",
        "    combined_df_all = pd.merge_asof(df_AlCon, combined_df, on='Date', direction='nearest')\n",
        "    \n",
        "    return combined_df_all\n"
      ]
    },
    {
      "cell_type": "code",
      "execution_count": 60,
      "metadata": {},
      "outputs": [
        {
          "name": "stdout",
          "output_type": "stream",
          "text": [
            "Data type for 'Date' column in df_CDunit: datetime64[ns]\n",
            "Data type for 'Date' column in df_FB554: datetime64[ns]\n",
            "Data type for 'Date' column in df_AlCon: datetime64[ns]\n"
          ]
        }
      ],
      "source": [
        "print(\"Data type for 'Date' column in df_CDunit:\", df_CDunit['Date'].dtypes)\n",
        "print(\"Data type for 'Date' column in df_FB554:\", df_FB554['Date'].dtypes)\n",
        "print(\"Data type for 'Date' column in df_AlCon:\", df_AlCon['Date'].dtypes)\n",
        "\n"
      ]
    },
    {
      "cell_type": "code",
      "execution_count": 61,
      "metadata": {},
      "outputs": [
        {
          "name": "stdout",
          "output_type": "stream",
          "text": [
            "Iteration: 1\n"
          ]
        }
      ],
      "source": [
        "def apply_negative_shift_hours(shift_hours):\n",
        "    return [-hour for hour in shift_hours]\n",
        "\n",
        "# Rolling sizes ranges\n",
        "rolling_size_CDunit = [8]  # Even rolling sizes from 4 to 10 range(4, 11, 2)\n",
        "rolling_size_FB554 = [4]  # Even rolling sizes from 4 to 10 range(4, 11, 2)\n",
        "rolling_size_AlCon = [2]  # Even rolling sizes from 2 to 30 range(2, 31, 2) \n",
        "\n",
        "# Shift hours ranges\n",
        "shift_hours_AlCon = [0]  # Negative shifts from -2 to -8 apply_negative_shift_hours (range(2, 9, 2))\n",
        "shift_hours_FB554 = [0]   # Positive shifts from 2 to 8 range(2, 9, 2)\n",
        "\n",
        "# Precompute rolling averages for each DataFrame and each rolling size\n",
        "precomputed_rolls = {\n",
        "    \"CDunit\": {size: apply_rolling_average_to_df(df_CDunit, size) for size in rolling_size_CDunit},\n",
        "    \"FB554\": {size: apply_rolling_average_to_df(df_FB554, size) for size in rolling_size_FB554},\n",
        "    \"AlCon\": {size: apply_rolling_average_to_df(df_AlCon, size) for size in rolling_size_AlCon}\n",
        "}\n",
        "\n",
        "\n",
        "## Modified process_data function\n",
        "def process_data():\n",
        "    iteration_count = 0\n",
        "    results = pd.DataFrame(columns=['Iteration', 'Rolling Sizes CDunit', 'Rolling Sizes FB554', 'Rolling Sizes AlCon',\n",
        "                                    'Shift Hours AlCon', 'Shift Hours FB554', 'R-squared', 'Adj R-Squared', \n",
        "                                    'F-statistic', 'Prob (F-statistic)'])\n",
        "   \n",
        "    merged_dfs = {}  # Dictionary to store merged DataFrames\n",
        "\n",
        "    for size_CDunit in rolling_size_CDunit:\n",
        "        for size_FB554 in rolling_size_FB554:\n",
        "            for size_AlCon in rolling_size_AlCon:\n",
        "                for shift_hour_AlCon in shift_hours_AlCon:\n",
        "                    for shift_hour_FB554 in shift_hours_FB554:\n",
        "                        iteration_count += 1\n",
        "\n",
        "                        # Retrieve rolled dataframes\n",
        "                        rolled_df_CDunit = precomputed_rolls[\"CDunit\"][size_CDunit]\n",
        "                        rolled_df_FB554 = precomputed_rolls[\"FB554\"][size_FB554]\n",
        "                        rolled_df_AlCon = precomputed_rolls[\"AlCon\"][size_AlCon]\n",
        "\n",
        "                        # Combine df_CDunit and df_FB554 to create combined_df\n",
        "                        combined_df = join_df_FB554_to_df_CDunit(rolled_df_CDunit, rolled_df_FB554)\n",
        "\n",
        "                        # Combine combined_df with rolled_df_AlCon to create combined_df_all\n",
        "                        combined_df_all = join_df_AlCon_to_combined_df(combined_df, rolled_df_AlCon)\n",
        "\n",
        "                        # Drop 'Date' column before modeling\n",
        "                        combined_df_all = combined_df_all.drop(columns=['Date'], errors='ignore')\n",
        "\n",
        "                        merged_dfs[iteration_count] = combined_df_all\n",
        "\n",
        "                        # Splitting into train and test\n",
        "                        X = combined_df_all.drop('Butanol PPM', axis=1)\n",
        "                        y = combined_df_all['Butanol PPM']\n",
        "                        X_train, X_test, y_train, y_test = train_test_split(X, y, test_size=0.2, random_state=42)\n",
        "\n",
        "                        # Train model\n",
        "                        model = sm.OLS(y_train, X_train).fit()\n",
        "\n",
        "                        # Store the results instead of printing\n",
        "                        iteration_results = {\n",
        "                            'Iteration': iteration_count,\n",
        "                            'Rolling Sizes CDunit': size_CDunit,\n",
        "                            'Rolling Sizes FB554': size_FB554,\n",
        "                            'Rolling Sizes AlCon': size_AlCon,\n",
        "                            'Shift Hours AlCon': shift_hour_AlCon,\n",
        "                            'Shift Hours FB554': shift_hour_FB554,\n",
        "                            'R-squared': model.rsquared,\n",
        "                            'Adj R-Squared': model.rsquared_adj,\n",
        "                            'F-statistic': model.fvalue,\n",
        "                            'Prob (F-statistic)': model.f_pvalue\n",
        "                        }\n",
        "                        results = iteration_results\n",
        "                        # results = results.append(iteration_results, ignore_index=True)\n",
        "\n",
        "                        # Print only the iteration count\n",
        "                        print(f\"Iteration: {iteration_count}\")\n",
        "\n",
        "    return results, merged_dfs\n",
        "\n",
        "# Call the function to process and evaluate the data\n",
        "model_results, all_merged_dfs = process_data()"
      ]
    },
    {
      "cell_type": "code",
      "execution_count": 62,
      "metadata": {},
      "outputs": [],
      "source": [
        "# Accessing a specific merged DataFrame\n",
        "iteration_to_access = 1\n",
        "specific_df = all_merged_dfs[iteration_to_access]\n",
        "\n"
      ]
    },
    {
      "cell_type": "code",
      "execution_count": null,
      "metadata": {},
      "outputs": [],
      "source": []
    },
    {
      "cell_type": "code",
      "execution_count": 66,
      "metadata": {},
      "outputs": [
        {
          "name": "stdout",
          "output_type": "stream",
          "text": [
            "/workspaces/Project-OptiC4\n"
          ]
        }
      ],
      "source": [
        "import os\n",
        "print(os.getcwd())\n"
      ]
    },
    {
      "cell_type": "code",
      "execution_count": 71,
      "metadata": {},
      "outputs": [],
      "source": [
        "\n",
        "# Save DataFrame to CSV file in the same directory as the Jupyter Notebook\n",
        "specific_df.to_csv('/workspaces/Project-OptiC4/df_Join_all.csv', index=False)"
      ]
    },
    {
      "cell_type": "code",
      "execution_count": null,
      "metadata": {},
      "outputs": [],
      "source": []
    },
    {
      "cell_type": "code",
      "execution_count": null,
      "metadata": {},
      "outputs": [],
      "source": []
    },
    {
      "cell_type": "code",
      "execution_count": null,
      "metadata": {},
      "outputs": [],
      "source": []
    }
  ],
  "metadata": {
    "kernelspec": {
      "display_name": "Python 3 (ipykernel)",
      "language": "python",
      "name": "python3"
    },
    "language_info": {
      "codemirror_mode": {
        "name": "ipython",
        "version": 3
      },
      "file_extension": ".py",
      "mimetype": "text/x-python",
      "name": "python",
      "nbconvert_exporter": "python",
      "pygments_lexer": "ipython3",
      "version": "3.10.13"
    }
  },
  "nbformat": 4,
  "nbformat_minor": 4
}
