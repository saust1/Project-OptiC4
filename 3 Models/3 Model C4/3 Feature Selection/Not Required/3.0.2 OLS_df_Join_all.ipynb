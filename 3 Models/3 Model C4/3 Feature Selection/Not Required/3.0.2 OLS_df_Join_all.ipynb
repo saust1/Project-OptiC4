{
  "cells": [
    {
      "cell_type": "code",
      "execution_count": 6,
      "metadata": {
        "tags": [],
        "trusted": true
      },
      "outputs": [],
      "source": [
        "# Import necessary libraries\n",
        "import pandas as pd\n",
        "import seaborn as sns\n",
        "import matplotlib.pyplot as plt\n",
        "from statsmodels.formula.api import ols\n",
        "import statsmodels.api as sm\n",
        "from sklearn.model_selection import train_test_split"
      ]
    },
    {
      "cell_type": "code",
      "execution_count": 7,
      "metadata": {},
      "outputs": [],
      "source": [
        "#df_All = pd.read_csv(r\"C:\\Users\\saust\\OneDrive - Sasol\\1 Project rC4\\Jupyter Notebooks\\Report 10-20-23 No Fluff\\df_All_Avg.csv\")\n",
        "\n",
        "# df_All = pd.read_csv('3 Feature Selection/df_Join_all.csv')\n",
        "\n",
        "df_All_1o2 = pd.read_csv('3 Feature Selection/contData_all_Avg - 1o2.csv')\n",
        "df_All_1o2 = pd.read_csv('3 Feature Selection/contData_all_Avg - 2o2.csv')\n",
        "\n",
        "\n",
        "#df_All = pd.read_csv(r\"C:\\Users\\saust\\OneDrive\\Desktop\\CodeSpace DLs\\102423\\Project rC4\\3 Final Machine Butanol\\df_CDCA6.csv\")\n"
      ]
    },
    {
      "cell_type": "code",
      "execution_count": 8,
      "metadata": {},
      "outputs": [
        {
          "name": "stdout",
          "output_type": "stream",
          "text": [
            "    425 %Al  Butanol   Decanol    Ethanol   Hexanol   Octanol  AYC55580  \\\n",
            "0  6.466835    8.950  3.271667  29.233325  5.862082  5.912500  9.708929   \n",
            "1  6.479165    8.750  3.261668  29.233325  5.832917  5.870832  9.647859   \n",
            "2  6.491500    8.525  3.310000  28.950000  5.767500  5.790000  9.592980   \n",
            "3  6.503835    8.275  3.416667  28.383325  5.665832  5.670000  9.572995   \n",
            "4  6.516165    8.025  3.523332  27.816675  5.564167  5.550000  9.586615   \n",
            "\n",
            "    DI55102   DI55152   DI55580     FC42428     FC52018    FC55003   FC55009  \\\n",
            "0  1.016935  0.974092  0.991364  35877.8500  40100.8500  5104.3775  4.327409   \n",
            "1  1.017048  0.973535  0.991012  35918.5000  39930.9125  5044.2400  4.164241   \n",
            "2  1.017505  0.973474  0.990783  35846.3625  39750.2750  5017.0425  3.969549   \n",
            "3  1.017742  0.974004  0.990838  35773.5750  39566.3375  5044.1475  3.773128   \n",
            "4  1.017679  0.974445  0.991013  35957.7750  39322.9000  5032.6700  3.599091   \n",
            "\n",
            "      FC55102     FC55152     FC55552     FC55555     FC55569     FC55576  \\\n",
            "0  45774.8250  41949.2500  36152.9125  27411.2875  6692.99750  335.393875   \n",
            "1  45896.7250  42190.4625  36102.1625  27360.5500  6692.51375  335.086250   \n",
            "2  45934.3250  42394.5750  36054.5250  27324.3250  6693.02375  333.750625   \n",
            "3  45861.9125  42172.8125  35995.3375  27270.6750  6693.60375  333.531000   \n",
            "4  46090.1625  42015.5750  35163.0000  27460.9875  6692.00500  333.166625   \n",
            "\n",
            "   FFC55553  FFC55555    FYC55553     II52554    LC52572    LC55553  \\\n",
            "0  1.061881  0.782158  36954.2625  212.121750  65.069163  62.836188   \n",
            "1  1.061501  0.781963  36888.8125  211.089875  64.944000  62.824388   \n",
            "2  1.061643  0.781611  36840.5875  210.311750  64.873875  62.721913   \n",
            "3  1.061466  0.781280  36771.7000  209.266875  64.845600  62.724063   \n",
            "4  1.053309  0.780657  37038.6000  208.395125  64.821988  62.897800   \n",
            "\n",
            "     LC55555    LC55557    LC55568    LC90366    LC90368   PI55004   PI55020  \\\n",
            "0  58.128287  61.927975  46.373300  76.159662  35.263825  0.558457 -1.977079   \n",
            "1  58.118350  61.975575  46.412400  76.493912  35.208650  0.474736 -2.070434   \n",
            "2  58.013350  61.948425  46.375625  76.820662  35.160000  0.382505 -2.182060   \n",
            "3  58.004188  61.866825  46.310975  77.154162  35.120050  0.312072 -2.271114   \n",
            "4  58.017450  61.964987  46.392787  77.489375  35.085175  0.271697 -2.304190   \n",
            "\n",
            "    PI55560    TC52015     TC55552     TC55553     TC55555     TC55566  \\\n",
            "0 -0.303142  70.040238  177.576875  176.011000  180.137375  202.832750   \n",
            "1 -0.388821  69.128888  177.658625  174.266625  180.103250  202.664000   \n",
            "2 -0.491859  68.380750  177.750750  171.898875  180.109750  202.436125   \n",
            "3 -0.576153  67.589637  177.884750  171.282750  180.168875  202.232375   \n",
            "4 -0.599667  66.796475  178.011000  171.279625  179.976375  202.159250   \n",
            "\n",
            "     TI40050     TI52014     TI55013     TI55014     TI55015     TI55016  \\\n",
            "0  74.705737  134.922750  204.003375  197.780625  193.192500  190.510125   \n",
            "1  74.042025  134.517750  203.384625  197.444250  192.960750  190.375875   \n",
            "2  73.626350  134.084875  202.217250  196.611375  192.210250  189.874750   \n",
            "3  73.203325  133.625625  201.412625  195.868875  191.353125  189.309125   \n",
            "4  72.900725  133.217250  201.149500  195.536625  190.952000  188.985875   \n",
            "\n",
            "      TI55017     TI55021     TI55023  VI52558B  \n",
            "0  188.871625  216.306750  213.595750  3.970054  \n",
            "1  188.838375  216.041375  213.364500  4.009966  \n",
            "2  188.452250  215.747250  213.030000  4.011081  \n",
            "3  187.879500  215.486500  212.716750  3.979564  \n",
            "4  187.550375  215.377250  212.599375  3.901986  \n"
          ]
        }
      ],
      "source": [
        "# Concatenate (union) the dataframes\n",
        "df_All = pd.concat([df_All_1o2, df_All_1o2], ignore_index=True)\n",
        "\n",
        "print(df_All.head())"
      ]
    },
    {
      "cell_type": "code",
      "execution_count": 9,
      "metadata": {
        "trusted": true
      },
      "outputs": [],
      "source": [
        "# Set max columns to display\n",
        "pd.set_option('display.max_columns', None)"
      ]
    },
    {
      "cell_type": "code",
      "execution_count": 10,
      "metadata": {},
      "outputs": [],
      "source": [
        "# List of columns to exclude to run XGboost feature selection\n",
        "exclude_columns = ['Octanol', 'Hexanol', 'Ethanol', 'Decanol',\n",
        "       \n",
        "       'TI52014', 'TI55013', 'TI55014', 'TI55015', 'TI55016', 'TI55017', 'TI55021', 'TI55023',\n",
        "       'TC52015', 'FC52018', 'II52554', 'TI40050', 'VI52558B'\n",
        "                   ]\n",
        "\n",
        "# Create a new DataFrame without the excluded columnsd\n",
        "df_All = df_All.drop(columns=exclude_columns)"
      ]
    },
    {
      "cell_type": "code",
      "execution_count": 27,
      "metadata": {},
      "outputs": [],
      "source": [
        "# df_All = df_All[df_All['Date'] > '2022-06-15 00:00:00']"
      ]
    },
    {
      "cell_type": "code",
      "execution_count": 12,
      "metadata": {},
      "outputs": [],
      "source": [
        "\n",
        "# selected_columns = ['Butanol', # '425 %Al', 'TC55552', 'DI55102', 'FC55569', 'DI55152',\n",
        "# #        'FC55576', 'TI55017', 'FC42428', 'AYC55580', 'LC55555', 'TI55023',\n",
        "# #        'FFC55553', 'FC55555', 'FC55009', 'LC55557', 'LC55553', 'FC55003',\n",
        "# #        'FFC55555'\n",
        "# # #                      ^^^^ From XGB with all variables as continous ^^^^\n",
        "\n",
        "# 'Butanol PPM',\n",
        "#                     '425 SAO Al', 'FFC55555', 'FC55003', 'FC55569',\t\n",
        "#                     'TC55555', 'LC55568', 'DI55152',\t\n",
        "#                     'FC55009', 'FC55102',\t\n",
        "#                     'LC55553', 'LC55557', 'LC90366'\n",
        "#                     ]\n",
        "\n",
        "# existing_columns = [col for col in selected_columns if col in df_All.columns]\n",
        "# df_All = df_All[existing_columns]"
      ]
    },
    {
      "cell_type": "code",
      "execution_count": 29,
      "metadata": {},
      "outputs": [],
      "source": [
        "# First Iteration\n",
        "# selected_columns = ['Butanol PPM', '425 SAO Al', 'FC42428', 'FC55003', 'FC55102', 'FC55152', 'FFC55555',\n",
        "#        'LC55553', 'LC55557', 'LC55568', 'LC90366', 'TC55555']\n",
        "\n",
        "\n"
      ]
    },
    {
      "cell_type": "code",
      "execution_count": 11,
      "metadata": {},
      "outputs": [
        {
          "data": {
            "text/plain": [
              "Index(['425 %Al', 'Butanol', 'AYC55580', 'DI55102', 'DI55152', 'DI55580',\n",
              "       'FC42428', 'FC55003', 'FC55009', 'FC55102', 'FC55152', 'FC55552',\n",
              "       'FC55555', 'FC55569', 'FC55576', 'FFC55553', 'FFC55555', 'FYC55553',\n",
              "       'LC52572', 'LC55553', 'LC55555', 'LC55557', 'LC55568', 'LC90366',\n",
              "       'LC90368', 'PI55004', 'PI55020', 'PI55560', 'TC55552', 'TC55553',\n",
              "       'TC55555', 'TC55566'],\n",
              "      dtype='object')"
            ]
          },
          "execution_count": 11,
          "metadata": {},
          "output_type": "execute_result"
        }
      ],
      "source": [
        "df_All.columns"
      ]
    },
    {
      "cell_type": "code",
      "execution_count": 13,
      "metadata": {},
      "outputs": [],
      "source": [
        "# Splitting into train and test\n",
        "X = df_All.drop('Butanol', axis=1)  # Assuming 'target' is your target column\n",
        "y = df_All['Butanol']\n",
        "X_train, X_test, y_train, y_test = train_test_split(X, y, test_size=0.2, random_state=42)"
      ]
    },
    {
      "cell_type": "code",
      "execution_count": 14,
      "metadata": {},
      "outputs": [
        {
          "name": "stdout",
          "output_type": "stream",
          "text": [
            "                                 OLS Regression Results                                \n",
            "=======================================================================================\n",
            "Dep. Variable:                Butanol   R-squared (uncentered):                   0.622\n",
            "Model:                            OLS   Adj. R-squared (uncentered):              0.622\n",
            "Method:                 Least Squares   F-statistic:                              2613.\n",
            "Date:                Fri, 01 Dec 2023   Prob (F-statistic):                        0.00\n",
            "Time:                        00:05:30   Log-Likelihood:                     -1.7469e+05\n",
            "No. Observations:               49240   AIC:                                  3.494e+05\n",
            "Df Residuals:                   49209   BIC:                                  3.497e+05\n",
            "Df Model:                          31                                                  \n",
            "Covariance Type:            nonrobust                                                  \n",
            "==============================================================================\n",
            "                 coef    std err          t      P>|t|      [0.025      0.975]\n",
            "------------------------------------------------------------------------------\n",
            "425 %Al        0.1337      0.158      0.847      0.397      -0.176       0.443\n",
            "AYC55580       0.1183      0.123      0.962      0.336      -0.123       0.360\n",
            "DI55102       18.5711      1.040     17.853      0.000      16.532      20.610\n",
            "DI55152      -12.3765      1.678     -7.375      0.000     -15.666      -9.087\n",
            "DI55580       26.6142     14.223      1.871      0.061      -1.264      54.492\n",
            "FC42428       -0.0002   1.35e-05    -17.770      0.000      -0.000      -0.000\n",
            "FC55003       -0.0013    7.8e-05    -16.188      0.000      -0.001      -0.001\n",
            "FC55009        0.0014      0.000     11.908      0.000       0.001       0.002\n",
            "FC55102        0.0006   2.24e-05     25.508      0.000       0.001       0.001\n",
            "FC55152       -0.0001   3.39e-05     -4.311      0.000      -0.000   -7.97e-05\n",
            "FC55552        0.0006      0.000      1.916      0.055    -1.5e-05       0.001\n",
            "FC55555       -0.0042      0.000    -10.611      0.000      -0.005      -0.003\n",
            "FC55569       -0.0021      0.000    -13.219      0.000      -0.002      -0.002\n",
            "FC55576        0.0050      0.000     21.087      0.000       0.005       0.005\n",
            "FFC55553    -113.2734      8.971    -12.627      0.000    -130.856     -95.691\n",
            "FFC55555     168.4220     14.268     11.805      0.000     140.457     196.387\n",
            "FYC55553       0.0025      0.000     10.345      0.000       0.002       0.003\n",
            "LC52572        0.4059      0.028     14.629      0.000       0.352       0.460\n",
            "LC55553       -0.1724      0.009    -19.024      0.000      -0.190      -0.155\n",
            "LC55555        0.1556      0.013     12.177      0.000       0.131       0.181\n",
            "LC55557       -0.8427      0.019    -44.213      0.000      -0.880      -0.805\n",
            "LC55568        0.6132      0.060     10.240      0.000       0.496       0.731\n",
            "LC90366       -0.0006      0.002     -0.283      0.778      -0.005       0.004\n",
            "LC90368        0.0166      0.002      7.098      0.000       0.012       0.021\n",
            "PI55004        1.3967      0.131     10.658      0.000       1.140       1.654\n",
            "PI55020        1.7100      0.056     30.751      0.000       1.601       1.819\n",
            "PI55560       -0.8344      0.164     -5.095      0.000      -1.155      -0.513\n",
            "TC55552        0.0319      0.004      7.791      0.000       0.024       0.040\n",
            "TC55553       -0.0227      0.003     -7.218      0.000      -0.029      -0.017\n",
            "TC55555       -0.1998      0.036     -5.587      0.000      -0.270      -0.130\n",
            "TC55566        0.0523      0.006      8.690      0.000       0.041       0.064\n",
            "==============================================================================\n",
            "Omnibus:                    20073.971   Durbin-Watson:                   0.040\n",
            "Prob(Omnibus):                  0.000   Jarque-Bera (JB):            83511.557\n",
            "Skew:                           2.028   Prob(JB):                         0.00\n",
            "Kurtosis:                       7.925   Cond. No.                     4.32e+07\n",
            "==============================================================================\n",
            "\n",
            "Notes:\n",
            "[1] R² is computed without centering (uncentered) since the model does not contain a constant.\n",
            "[2] Standard Errors assume that the covariance matrix of the errors is correctly specified.\n",
            "[3] The condition number is large, 4.32e+07. This might indicate that there are\n",
            "strong multicollinearity or other numerical problems.\n"
          ]
        }
      ],
      "source": [
        "#=============================================\n",
        "# TRAIN & EVALUATE REGRESSION MODEL\n",
        "#=============================================\n",
        "\n",
        "#fit simple linear regression model\n",
        "model = sm.OLS(y, X).fit()\n",
        "print(model.summary())"
      ]
    },
    {
      "cell_type": "code",
      "execution_count": 15,
      "metadata": {},
      "outputs": [
        {
          "name": "stdout",
          "output_type": "stream",
          "text": [
            "['425 %Al', 'AYC55580', 'DI55580', 'FC55552', 'LC90366']\n"
          ]
        }
      ],
      "source": [
        "# Convert summary to DataFrame\n",
        "summary_table = model.summary().tables[1]\n",
        "summary_df = pd.DataFrame(summary_table.data[1:], columns=summary_table.data[0])\n",
        "\n",
        "# Convert necessary columns to numeric\n",
        "numeric_cols = ['coef', 'std err', 't', 'P>|t|', '[0.025', '0.975]']\n",
        "summary_df[numeric_cols] = summary_df[numeric_cols].apply(pd.to_numeric, errors='coerce')\n",
        "\n",
        "# Apply the filter for insignificance and CI crossing zero\n",
        "threshold = 0.05\n",
        "filtered_df = summary_df[(summary_df['P>|t|'] > threshold) & ((summary_df['[0.025'] < 0) & (summary_df['0.975]'] > 0))]\n",
        "\n",
        "# Extracting the feature names\n",
        "insignificant_features = filtered_df.iloc[:, 0].tolist()  # First column contains feature names\n",
        "print(insignificant_features)\n"
      ]
    },
    {
      "cell_type": "code",
      "execution_count": 16,
      "metadata": {},
      "outputs": [
        {
          "name": "stdout",
          "output_type": "stream",
          "text": [
            "                 coef  std err      t  P>|t|    [0.025  0.975]\n",
            "0    425 %Al   0.1337    0.158  0.847  0.397 -0.176000   0.443\n",
            "1   AYC55580   0.1183    0.123  0.962  0.336 -0.123000   0.360\n",
            "4    DI55580  26.6142   14.223  1.871  0.061 -1.264000  54.492\n",
            "10   FC55552   0.0006    0.000  1.916  0.055 -0.000015   0.001\n",
            "22   LC90366  -0.0006    0.002 -0.283  0.778 -0.005000   0.004\n"
          ]
        }
      ],
      "source": [
        "print(filtered_df)"
      ]
    },
    {
      "cell_type": "code",
      "execution_count": 17,
      "metadata": {},
      "outputs": [
        {
          "name": "stdout",
          "output_type": "stream",
          "text": [
            "\n",
            "Significant Features:\n",
            "['DI55102', 'DI55152', 'FC55003', 'FC55009', 'FC55102', 'FC55152', 'FC55555', 'FC55569', 'FC55576', 'FFC55553', 'FFC55555', 'FYC55553', 'LC52572', 'LC55553', 'LC55555', 'LC55557', 'LC55568', 'LC90368', 'PI55004', 'PI55020', 'PI55560', 'TC55552', 'TC55553', 'TC55555', 'TC55566']\n"
          ]
        }
      ],
      "source": [
        "# Filter for significant features\n",
        "significant_df = summary_df[(summary_df['P>|t|'] <= threshold) & ((summary_df['[0.025'] > 0) | (summary_df['0.975]'] < 0))]\n",
        "significant_features = significant_df.iloc[:, 0].tolist()\n",
        "print(\"\\nSignificant Features:\")\n",
        "print(significant_features)"
      ]
    }
  ],
  "metadata": {
    "kernelspec": {
      "display_name": "Python 3 (ipykernel)",
      "language": "python",
      "name": "python3"
    }
  },
  "nbformat": 4,
  "nbformat_minor": 4
}
