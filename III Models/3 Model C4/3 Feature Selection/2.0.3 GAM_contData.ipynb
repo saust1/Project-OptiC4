{
  "cells": [
    {
      "cell_type": "code",
      "execution_count": 1,
      "metadata": {},
      "outputs": [
        {
          "name": "stdout",
          "output_type": "stream",
          "text": [
            "Requirement already satisfied: pygam in c:\\users\\saust\\appdata\\roaming\\python\\python310\\site-packages (0.9.0)\n",
            "Requirement already satisfied: progressbar2<5.0.0,>=4.2.0 in c:\\users\\saust\\appdata\\roaming\\python\\python310\\site-packages (from pygam) (4.2.0)\n",
            "Requirement already satisfied: scipy<2.0.0,>=1.10.1 in c:\\users\\saust\\appdata\\roaming\\python\\python310\\site-packages (from pygam) (1.11.4)\n",
            "Requirement already satisfied: numpy<2.0.0,>=1.24.2 in c:\\users\\saust\\anaconda3\\lib\\site-packages (from pygam) (1.26.2)\n",
            "Requirement already satisfied: python-utils>=3.0.0 in c:\\users\\saust\\anaconda3\\lib\\site-packages (from progressbar2<5.0.0,>=4.2.0->pygam) (3.8.1)\n",
            "Requirement already satisfied: typing-extensions>3.10.0.2 in c:\\users\\saust\\anaconda3\\lib\\site-packages (from python-utils>=3.0.0->progressbar2<5.0.0,>=4.2.0->pygam) (4.4.0)\n",
            "Note: you may need to restart the kernel to use updated packages.\n",
            "Note: you may need to restart the kernel to use updated packages.\n"
          ]
        }
      ],
      "source": [
        "%pip install pygam --user\n",
        "%pip install FuzzyTM>=0.4.0 --user\n"
      ]
    },
    {
      "cell_type": "code",
      "execution_count": 2,
      "metadata": {
        "tags": [],
        "trusted": true
      },
      "outputs": [],
      "source": [
        "# Import necessary libraries\n",
        "import pandas as pd\n",
        "from pygam import LinearGAM, s\n",
        "from sklearn.model_selection import train_test_split\n"
      ]
    },
    {
      "cell_type": "code",
      "execution_count": 3,
      "metadata": {},
      "outputs": [],
      "source": [
        "# url_df_All_1 = 'https://github.com/saust1/Project-OptiC4/blob/e358d5172ac0b8fbb6fba776c0fe0a2b523b8b5c/3%20Feature%20Selection/contData_all_Avg%20-%201o2.csv?raw=true'\n",
        "# url_df_All_2 = 'https://github.com/saust1/Project-OptiC4/blob/e358d5172ac0b8fbb6fba776c0fe0a2b523b8b5c/3%20Feature%20Selection/contData_all_Avg%20-%202o2.csv?raw=true'\n",
        "\n",
        "# df_All_1 = pd.read_csv(url_df_All_1, index_col=0)\n",
        "# df_All_2 = pd.read_csv(url_df_All_2, index_col=0)"
      ]
    },
    {
      "cell_type": "code",
      "execution_count": 4,
      "metadata": {},
      "outputs": [
        {
          "name": "stdout",
          "output_type": "stream",
          "text": [
            "    425 %Al    Butanol   Decanol    Ethanol   Hexanol   Octanol   AYC55580  \\\n",
            "0  6.319560  30.366200  1.030260  88.289900  1.365840  1.492120  18.297300   \n",
            "1  6.319915  30.678500  1.063260  89.685450  1.397135  1.548230  18.040650   \n",
            "2  6.328340  32.399333  1.647950  88.677200  1.994413  2.454430  16.637633   \n",
            "3  6.336760  32.845950  1.928805  87.080875  2.288335  2.897523  15.779400   \n",
            "4  6.337460  33.387025  2.352595  84.489175  2.734682  3.571185  15.199680   \n",
            "\n",
            "    DI55102   DI55152   DI55580  ...    TI40050   TI52014     TI55013  \\\n",
            "0  0.963347  0.924879  1.017340  ...  81.156900  131.0990  236.672000   \n",
            "1  0.965043  0.924515  1.014885  ...  82.965650  132.3490  230.501000   \n",
            "2  0.968107  0.929955  1.015593  ...  82.461167  133.0350  223.885667   \n",
            "3  0.969573  0.932388  1.014703  ...  83.676300  134.0690  219.719750   \n",
            "4  0.971022  0.934531  1.014094  ...  85.328040  134.8424  217.253200   \n",
            "\n",
            "      TI55014     TI55015   TI55016    TI55017  TI55021     TI55023  VI52558B  \n",
            "0  223.704000  216.905000  207.7370  205.81700  213.813  212.301000  4.969810  \n",
            "1  220.794000  216.033500  207.2460  205.70300  213.874  212.308500  4.616265  \n",
            "2  214.879667  209.812667  202.7230  201.16400  214.433  212.926667  4.741457  \n",
            "3  211.567250  206.503250  200.5075  199.00025  214.639  213.051250  4.436797  \n",
            "4  209.326600  204.214800  198.6922  197.25440  214.733  213.071400  4.304762  \n",
            "\n",
            "[5 rows x 49 columns]\n"
          ]
        }
      ],
      "source": [
        "\n",
        "df_All_1 = pd.read_csv(r'C:\\Users\\saust\\OneDrive\\Desktop\\GitRepo\\Project-OptiC4\\3 Feature Selection\\contData_all_Avg - 1o2.csv')\n",
        "df_All_2 = pd.read_csv(r'C:\\Users\\saust\\OneDrive\\Desktop\\GitRepo\\Project-OptiC4\\3 Feature Selection\\contData_all_Avg - 2o2.csv')\n",
        "# Concatenate (union) the dataframes\n",
        "df_All = pd.concat([df_All_1, df_All_2], ignore_index=True)\n",
        "\n",
        "print(df_All.head())"
      ]
    },
    {
      "cell_type": "code",
      "execution_count": 5,
      "metadata": {},
      "outputs": [
        {
          "data": {
            "text/plain": [
              "Index(['425 %Al', 'Butanol', 'Decanol', 'Ethanol', 'Hexanol', 'Octanol',\n",
              "       'AYC55580', 'DI55102', 'DI55152', 'DI55580', 'FC42428', 'FC52018',\n",
              "       'FC55003', 'FC55009', 'FC55102', 'FC55152', 'FC55552', 'FC55555',\n",
              "       'FC55569', 'FC55576', 'FFC55553', 'FFC55555', 'FYC55553', 'II52554',\n",
              "       'LC52572', 'LC55553', 'LC55555', 'LC55557', 'LC55568', 'LC90366',\n",
              "       'LC90368', 'PI55004', 'PI55020', 'PI55560', 'TC52015', 'TC55552',\n",
              "       'TC55553', 'TC55555', 'TC55566', 'TI40050', 'TI52014', 'TI55013',\n",
              "       'TI55014', 'TI55015', 'TI55016', 'TI55017', 'TI55021', 'TI55023',\n",
              "       'VI52558B'],\n",
              "      dtype='object')"
            ]
          },
          "execution_count": 5,
          "metadata": {},
          "output_type": "execute_result"
        }
      ],
      "source": [
        "df_All.columns"
      ]
    },
    {
      "cell_type": "code",
      "execution_count": 6,
      "metadata": {
        "trusted": true
      },
      "outputs": [],
      "source": [
        "# Set max columns to display\n",
        "pd.set_option('display.max_columns', None)"
      ]
    },
    {
      "cell_type": "code",
      "execution_count": 7,
      "metadata": {},
      "outputs": [],
      "source": [
        "# # List of columns to exclude to run XGboost feature selection\n",
        "# exclude_columns = ['Octanol', 'Hexanol', 'Ethanol', 'Decanol',\n",
        "       \n",
        "#        'TI52014', 'TI55013', 'TI55014', 'TI55015', 'TI55016', 'TI55017', 'TI55021', 'TI55023',\n",
        "#        'TC52015', 'FC52018', 'II52554', 'TI40050', 'VI52558B'\n",
        "#                    ]\n",
        "\n",
        "# # Create a new DataFrame without the excluded columnsd\n",
        "# df_All = df_All.drop(columns=exclude_columns)"
      ]
    },
    {
      "cell_type": "code",
      "execution_count": 8,
      "metadata": {},
      "outputs": [],
      "source": [
        "# df_All = df_All[df_All['Date'] > '2022-06-15 00:00:00']"
      ]
    },
    {
      "cell_type": "markdown",
      "metadata": {},
      "source": [
        "# Remaining Features after Correlation Analysis"
      ]
    },
    {
      "cell_type": "code",
      "execution_count": 9,
      "metadata": {},
      "outputs": [],
      "source": [
        "\n",
        "selected_columns = ['425 %Al', 'Butanol', 'DI55102', 'DI55152', 'DI55580', 'FC42428',\n",
        "       'FC55003', 'FC55552', 'FC55569', 'FC55576', 'FFC55553', 'FFC55555',\n",
        "       'LC52572', 'LC55553', 'LC55555', 'LC55557', 'LC55568', 'LC90366',\n",
        "       'LC90368', 'PI55004', 'PI55020', 'TC55552', 'TC55553', 'TC55555'\n",
        "                   ]\n",
        "\n",
        "existing_columns = [col for col in selected_columns if col in df_All.columns]\n",
        "df_All = df_All[existing_columns]"
      ]
    },
    {
      "cell_type": "code",
      "execution_count": 10,
      "metadata": {},
      "outputs": [],
      "source": [
        "# First Iteration\n",
        "# selected_columns = ['Butanol PPM', '425 SAO Al', 'FC42428', 'FC55003', 'FC55102', 'FC55152', 'FFC55555',\n",
        "#        'LC55553', 'LC55557', 'LC55568', 'LC90366', 'TC55555']\n",
        "\n",
        "\n"
      ]
    },
    {
      "cell_type": "code",
      "execution_count": 11,
      "metadata": {},
      "outputs": [
        {
          "data": {
            "text/plain": [
              "Index(['425 %Al', 'Butanol', 'DI55102', 'DI55152', 'DI55580', 'FC42428',\n",
              "       'FC55003', 'FC55552', 'FC55569', 'FC55576', 'FFC55553', 'FFC55555',\n",
              "       'LC52572', 'LC55553', 'LC55555', 'LC55557', 'LC55568', 'LC90366',\n",
              "       'LC90368', 'PI55004', 'PI55020', 'TC55552', 'TC55553', 'TC55555'],\n",
              "      dtype='object')"
            ]
          },
          "execution_count": 11,
          "metadata": {},
          "output_type": "execute_result"
        }
      ],
      "source": [
        "df_All.columns"
      ]
    },
    {
      "cell_type": "code",
      "execution_count": 12,
      "metadata": {},
      "outputs": [
        {
          "name": "stdout",
          "output_type": "stream",
          "text": [
            "LinearGAM                                                                                                 \n",
            "=============================================== ==========================================================\n",
            "Distribution:                        NormalDist Effective DoF:                                     49.1345\n",
            "Link Function:                     IdentityLink Log Likelihood:                               -206011.7987\n",
            "Number of Samples:                        39391 AIC:                                           412123.8666\n",
            "                                                AICc:                                          412123.9969\n",
            "                                                GCV:                                               74.1791\n",
            "                                                Scale:                                             74.0126\n",
            "                                                Pseudo R-Squared:                                    0.038\n",
            "==========================================================================================================\n",
            "Feature Function                  Lambda               Rank         EDoF         P > x        Sig. Code   \n",
            "================================= ==================== ============ ============ ============ ============\n",
            "s(0)                              [0.6]                20           17.1         1.11e-16     ***         \n",
            "s(2)                              [0.6]                20           16.6         1.11e-16     ***         \n",
            "s(22)                             [0.6]                20           15.5         1.11e-16     ***         \n",
            "intercept                                              1            0.0          1.11e-16     ***         \n",
            "==========================================================================================================\n",
            "Significance codes:  0 '***' 0.001 '**' 0.01 '*' 0.05 '.' 0.1 ' ' 1\n",
            "\n",
            "WARNING: Fitting splines and a linear function to a feature introduces a model identifiability problem\n",
            "         which can cause p-values to appear significant when they are not.\n",
            "\n",
            "WARNING: p-values calculated in this manner behave correctly for un-penalized models or models with\n",
            "         known smoothing parameters, but when smoothing parameters have been estimated, the p-values\n",
            "         are typically lower than they should be, meaning that the tests reject the null too readily.\n",
            "None\n"
          ]
        },
        {
          "name": "stderr",
          "output_type": "stream",
          "text": [
            "C:\\Users\\saust\\AppData\\Local\\Temp\\ipykernel_41644\\4130909567.py:18: UserWarning: KNOWN BUG: p-values computed in this summary are likely much smaller than they should be. \n",
            " \n",
            "Please do not make inferences based on these values! \n",
            "\n",
            "Collaborate on a solution, and stay up to date at: \n",
            "github.com/dswah/pyGAM/issues/163 \n",
            "\n",
            "  print(gam.summary())\n"
          ]
        }
      ],
      "source": [
        "# Assuming df_All is your DataFrame and 'Butanol' is your target column\n",
        "\n",
        "# Splitting into train and test\n",
        "X = df_All.drop('Butanol', axis=1)\n",
        "y = df_All['Butanol']\n",
        "X_train, X_test, y_train, y_test = train_test_split(X, y, test_size=0.2, random_state=42)\n",
        "\n",
        "# Get the indices of the specific features\n",
        "feature_indices = [X_train.columns.get_loc(feature) for feature in ['425 %Al', 'DI55152', 'TC55555']]\n",
        "\n",
        "# Create a GAM with splines for the specified features\n",
        "gam = LinearGAM(s(feature_indices[0]) + s(feature_indices[1]) + s(feature_indices[2]))\n",
        "\n",
        "# Fit the GAM model\n",
        "gam.fit(X_train, y_train)\n",
        "\n",
        "# Evaluate the model\n",
        "print(gam.summary())\n"
      ]
    },
    {
      "cell_type": "code",
      "execution_count": null,
      "metadata": {},
      "outputs": [],
      "source": [
        "from datetime import datetime\n",
        "\n",
        "# Get the current date and time\n",
        "current_date_time = datetime.now()\n",
        "\n",
        "# Print the current date and time\n",
        "print(current_date_time)\n"
      ]
    }
  ],
  "metadata": {
    "kernelspec": {
      "display_name": "Python 3 (ipykernel)",
      "language": "python",
      "name": "python3"
    },
    "language_info": {
      "codemirror_mode": {
        "name": "ipython",
        "version": 3
      },
      "file_extension": ".py",
      "mimetype": "text/x-python",
      "name": "python",
      "nbconvert_exporter": "python",
      "pygments_lexer": "ipython3",
      "version": "3.10.9"
    }
  },
  "nbformat": 4,
  "nbformat_minor": 4
}
