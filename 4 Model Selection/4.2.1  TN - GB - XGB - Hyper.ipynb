{
  "cells": [
    {
      "cell_type": "code",
      "execution_count": 56,
      "metadata": {
        "tags": [],
        "trusted": true
      },
      "outputs": [],
      "source": [
        "import numpy as np\n",
        "import xgboost as xgb\n",
        "from sklearn.model_selection import train_test_split\n",
        "from sklearn.metrics import mean_squared_error\n",
        "import pandas as pd\n",
        "import matplotlib.pyplot as plt\n",
        "from sklearn.metrics import r2_score\n",
        "from sklearn.model_selection import cross_val_score, KFold\n"
      ]
    },
    {
      "cell_type": "code",
      "execution_count": 57,
      "metadata": {},
      "outputs": [],
      "source": [
        "#df_All = pd.read_csv(r\"C:\\Users\\saust\\OneDrive - Sasol\\1 Project rC4\\Jupyter Notebooks\\Report 10-20-23 No Fluff\\df_All_Avg.csv\")\n",
        "\n",
        "#df_All = pd.read_csv(r\"C:\\Users\\saust\\OneDrive\\Desktop\\CodeSpace DLs\\102423\\Project rC4\\5 Engineered Features\\3 - EF - Feature Selection\\df_CDCA.csv\")\n",
        "# df_All = pd.read_csv('/workspaces/codespaces-jupyter/ProjectrC4/df_AlConCD554.csv')\n",
        "\n",
        "df_All = pd.read_csv('df_Join_all.csv')"
      ]
    },
    {
      "cell_type": "code",
      "execution_count": 58,
      "metadata": {
        "trusted": true
      },
      "outputs": [],
      "source": [
        "# Set max columns to display\n",
        "pd.set_option('display.max_columns', None)"
      ]
    },
    {
      "cell_type": "code",
      "execution_count": 59,
      "metadata": {},
      "outputs": [],
      "source": [
        "selected_columns = ['Butanol PPM',\n",
        "                    '425 SAO Al', 'FFC55555', 'FC55003', 'FC55569',\t\n",
        "                    'TC55555', 'LC52572', 'LC55568', 'DI55152',\t\n",
        "                    'FC55009', 'FC55102',\t\n",
        "                    'LC55553', 'LC55557', 'LC90366'\n",
        "                    ]\n",
        "\n",
        "existing_columns = [col for col in selected_columns if col in df_All.columns]\n",
        "df_All = df_All[existing_columns]"
      ]
    },
    {
      "cell_type": "code",
      "execution_count": 60,
      "metadata": {},
      "outputs": [],
      "source": [
        "# # List of columns to exclude to run XGboost feature selection\n",
        "# exclude_columns = [#'Date', \n",
        "#                    #'FFC55553' ,'LC55555', 'FC55003', 'LC55557', 'FFC55555','LC55553', \n",
        "#                    'TI55021', 'TC55555', 'Decanol'\n",
        "                   \n",
        "#                    ]\n",
        "\n",
        "# # Create a new DataFrame without the excluded columnsd\n",
        "# df_All = df_All.drop(columns=exclude_columns)"
      ]
    },
    {
      "cell_type": "code",
      "execution_count": 61,
      "metadata": {},
      "outputs": [
        {
          "data": {
            "text/plain": [
              "Index(['Butanol PPM', '425 SAO Al', 'FFC55555', 'FC55003', 'FC55569',\n",
              "       'TC55555', 'LC52572', 'LC55568', 'DI55152', 'FC55009', 'FC55102',\n",
              "       'LC55553', 'LC55557', 'LC90366'],\n",
              "      dtype='object')"
            ]
          },
          "execution_count": 61,
          "metadata": {},
          "output_type": "execute_result"
        }
      ],
      "source": [
        "df_All.columns"
      ]
    },
    {
      "cell_type": "code",
      "execution_count": 62,
      "metadata": {},
      "outputs": [],
      "source": [
        "# df_All = df_All[df_All['Date'] > '2020-06-15 00:00:00']"
      ]
    },
    {
      "cell_type": "code",
      "execution_count": 63,
      "metadata": {},
      "outputs": [],
      "source": [
        "# df_All.drop('Date', axis=1, inplace=True)\n",
        "\n",
        "\n"
      ]
    },
    {
      "cell_type": "code",
      "execution_count": 64,
      "metadata": {},
      "outputs": [
        {
          "name": "stdout",
          "output_type": "stream",
          "text": [
            "        Butanol PPM   425 SAO Al     FFC55555      FC55003      FC55569  \\\n",
            "count   2770.000000  2770.000000  2770.000000  2770.000000  2770.000000   \n",
            "mean      89.373723     6.055094     0.772392  5909.749722  6486.136773   \n",
            "std      530.626827     0.403590     0.020359   735.856515   399.279854   \n",
            "min        0.830000     0.076500     0.709107  3136.851250  5227.756250   \n",
            "25%        4.259375     5.955125     0.759830  5515.635000  6152.820000   \n",
            "50%        7.718750     6.100500     0.770109  5827.464375  6485.268125   \n",
            "75%       26.450000     6.228000     0.787740  6391.205625  6735.920937   \n",
            "max    19164.850000     7.155000     0.849209  8639.055000  7930.877500   \n",
            "\n",
            "           TC55555      LC52572      LC55568      DI55152      FC55009  \\\n",
            "count  2770.000000  2770.000000  2770.000000  2770.000000  2770.000000   \n",
            "mean    181.318706    63.271666    41.165360     0.944699   794.858406   \n",
            "std       1.618512     2.072075     1.085430     0.038329   595.333107   \n",
            "min     179.080125    54.137087    35.809300     0.860670     0.000000   \n",
            "25%     179.973281    62.075784    40.499425     0.916701   216.215213   \n",
            "50%     180.121500    63.437331    41.230506     0.946350   763.366313   \n",
            "75%     183.038406    64.817262    41.484587     0.960541  1270.028750   \n",
            "max     185.970750    70.473325    48.247125     1.062742  2569.603750   \n",
            "\n",
            "            FC55102      LC55553      LC55557      LC90366  \n",
            "count   2770.000000  2770.000000  2770.000000  2770.000000  \n",
            "mean   43363.994165    63.844911    69.529576    48.702143  \n",
            "std     6255.218725     7.097452     2.964287    25.469515  \n",
            "min    23534.700000    43.051437    60.865488     0.000000  \n",
            "25%    38206.465625    59.907500    67.782500    31.910447  \n",
            "50%    44981.125000    65.876006    69.975969    55.068650  \n",
            "75%    47937.962500    69.500700    71.887441    66.167950  \n",
            "max    59076.937500    77.901363    79.048800    87.881700  \n"
          ]
        }
      ],
      "source": [
        "print(df_All.describe())"
      ]
    },
    {
      "cell_type": "code",
      "execution_count": 65,
      "metadata": {},
      "outputs": [],
      "source": [
        "# Assuming your data is in filtered_df and you want to predict 'target_column_name'\n",
        "X = df_All.drop('Butanol PPM', axis=1)  # Replace 'target_column_name' with your target column's name\n",
        "y = df_All['Butanol PPM']"
      ]
    },
    {
      "cell_type": "code",
      "execution_count": 66,
      "metadata": {},
      "outputs": [],
      "source": [
        "# Split the data into training and testing sets\n",
        "X_train, X_test, y_train, y_test = train_test_split(X, y, test_size=0.2, random_state=42)"
      ]
    },
    {
      "cell_type": "code",
      "execution_count": 67,
      "metadata": {},
      "outputs": [
        {
          "data": {
            "text/html": [
              "<style>#sk-container-id-14 {color: black;}#sk-container-id-14 pre{padding: 0;}#sk-container-id-14 div.sk-toggleable {background-color: white;}#sk-container-id-14 label.sk-toggleable__label {cursor: pointer;display: block;width: 100%;margin-bottom: 0;padding: 0.3em;box-sizing: border-box;text-align: center;}#sk-container-id-14 label.sk-toggleable__label-arrow:before {content: \"▸\";float: left;margin-right: 0.25em;color: #696969;}#sk-container-id-14 label.sk-toggleable__label-arrow:hover:before {color: black;}#sk-container-id-14 div.sk-estimator:hover label.sk-toggleable__label-arrow:before {color: black;}#sk-container-id-14 div.sk-toggleable__content {max-height: 0;max-width: 0;overflow: hidden;text-align: left;background-color: #f0f8ff;}#sk-container-id-14 div.sk-toggleable__content pre {margin: 0.2em;color: black;border-radius: 0.25em;background-color: #f0f8ff;}#sk-container-id-14 input.sk-toggleable__control:checked~div.sk-toggleable__content {max-height: 200px;max-width: 100%;overflow: auto;}#sk-container-id-14 input.sk-toggleable__control:checked~label.sk-toggleable__label-arrow:before {content: \"▾\";}#sk-container-id-14 div.sk-estimator input.sk-toggleable__control:checked~label.sk-toggleable__label {background-color: #d4ebff;}#sk-container-id-14 div.sk-label input.sk-toggleable__control:checked~label.sk-toggleable__label {background-color: #d4ebff;}#sk-container-id-14 input.sk-hidden--visually {border: 0;clip: rect(1px 1px 1px 1px);clip: rect(1px, 1px, 1px, 1px);height: 1px;margin: -1px;overflow: hidden;padding: 0;position: absolute;width: 1px;}#sk-container-id-14 div.sk-estimator {font-family: monospace;background-color: #f0f8ff;border: 1px dotted black;border-radius: 0.25em;box-sizing: border-box;margin-bottom: 0.5em;}#sk-container-id-14 div.sk-estimator:hover {background-color: #d4ebff;}#sk-container-id-14 div.sk-parallel-item::after {content: \"\";width: 100%;border-bottom: 1px solid gray;flex-grow: 1;}#sk-container-id-14 div.sk-label:hover label.sk-toggleable__label {background-color: #d4ebff;}#sk-container-id-14 div.sk-serial::before {content: \"\";position: absolute;border-left: 1px solid gray;box-sizing: border-box;top: 0;bottom: 0;left: 50%;z-index: 0;}#sk-container-id-14 div.sk-serial {display: flex;flex-direction: column;align-items: center;background-color: white;padding-right: 0.2em;padding-left: 0.2em;position: relative;}#sk-container-id-14 div.sk-item {position: relative;z-index: 1;}#sk-container-id-14 div.sk-parallel {display: flex;align-items: stretch;justify-content: center;background-color: white;position: relative;}#sk-container-id-14 div.sk-item::before, #sk-container-id-14 div.sk-parallel-item::before {content: \"\";position: absolute;border-left: 1px solid gray;box-sizing: border-box;top: 0;bottom: 0;left: 50%;z-index: -1;}#sk-container-id-14 div.sk-parallel-item {display: flex;flex-direction: column;z-index: 1;position: relative;background-color: white;}#sk-container-id-14 div.sk-parallel-item:first-child::after {align-self: flex-end;width: 50%;}#sk-container-id-14 div.sk-parallel-item:last-child::after {align-self: flex-start;width: 50%;}#sk-container-id-14 div.sk-parallel-item:only-child::after {width: 0;}#sk-container-id-14 div.sk-dashed-wrapped {border: 1px dashed gray;margin: 0 0.4em 0.5em 0.4em;box-sizing: border-box;padding-bottom: 0.4em;background-color: white;}#sk-container-id-14 div.sk-label label {font-family: monospace;font-weight: bold;display: inline-block;line-height: 1.2em;}#sk-container-id-14 div.sk-label-container {text-align: center;}#sk-container-id-14 div.sk-container {/* jupyter's `normalize.less` sets `[hidden] { display: none; }` but bootstrap.min.css set `[hidden] { display: none !important; }` so we also need the `!important` here to be able to override the default hidden behavior on the sphinx rendered scikit-learn.org. See: https://github.com/scikit-learn/scikit-learn/issues/21755 */display: inline-block !important;position: relative;}#sk-container-id-14 div.sk-text-repr-fallback {display: none;}</style><div id=\"sk-container-id-14\" class=\"sk-top-container\"><div class=\"sk-text-repr-fallback\"><pre>XGBRegressor(alpha=0.1, base_score=None, booster=None, callbacks=None,\n",
              "             colsample_bylevel=0.8, colsample_bynode=0.7, colsample_bytree=0.8,\n",
              "             device=None, early_stopping_rounds=None, enable_categorical=False,\n",
              "             eval_metric=None, feature_types=None, gamma=0.5, grow_policy=None,\n",
              "             importance_type=None, interaction_constraints=None,\n",
              "             learning_rate=0.03, max_bin=None, max_cat_threshold=None,\n",
              "             max_cat_to_onehot=None, max_delta_step=None, max_depth=9,\n",
              "             max_leaves=None, min_child_weight=None, missing=nan,\n",
              "             monotone_constraints=None, multi_strategy=None, n_estimators=800,\n",
              "             n_jobs=None, num_parallel_tree=None, ...)</pre><b>In a Jupyter environment, please rerun this cell to show the HTML representation or trust the notebook. <br />On GitHub, the HTML representation is unable to render, please try loading this page with nbviewer.org.</b></div><div class=\"sk-container\" hidden><div class=\"sk-item\"><div class=\"sk-estimator sk-toggleable\"><input class=\"sk-toggleable__control sk-hidden--visually\" id=\"sk-estimator-id-14\" type=\"checkbox\" checked><label for=\"sk-estimator-id-14\" class=\"sk-toggleable__label sk-toggleable__label-arrow\">XGBRegressor</label><div class=\"sk-toggleable__content\"><pre>XGBRegressor(alpha=0.1, base_score=None, booster=None, callbacks=None,\n",
              "             colsample_bylevel=0.8, colsample_bynode=0.7, colsample_bytree=0.8,\n",
              "             device=None, early_stopping_rounds=None, enable_categorical=False,\n",
              "             eval_metric=None, feature_types=None, gamma=0.5, grow_policy=None,\n",
              "             importance_type=None, interaction_constraints=None,\n",
              "             learning_rate=0.03, max_bin=None, max_cat_threshold=None,\n",
              "             max_cat_to_onehot=None, max_delta_step=None, max_depth=9,\n",
              "             max_leaves=None, min_child_weight=None, missing=nan,\n",
              "             monotone_constraints=None, multi_strategy=None, n_estimators=800,\n",
              "             n_jobs=None, num_parallel_tree=None, ...)</pre></div></div></div></div></div>"
            ],
            "text/plain": [
              "XGBRegressor(alpha=0.1, base_score=None, booster=None, callbacks=None,\n",
              "             colsample_bylevel=0.8, colsample_bynode=0.7, colsample_bytree=0.8,\n",
              "             device=None, early_stopping_rounds=None, enable_categorical=False,\n",
              "             eval_metric=None, feature_types=None, gamma=0.5, grow_policy=None,\n",
              "             importance_type=None, interaction_constraints=None,\n",
              "             learning_rate=0.03, max_bin=None, max_cat_threshold=None,\n",
              "             max_cat_to_onehot=None, max_delta_step=None, max_depth=9,\n",
              "             max_leaves=None, min_child_weight=None, missing=nan,\n",
              "             monotone_constraints=None, multi_strategy=None, n_estimators=800,\n",
              "             n_jobs=None, num_parallel_tree=None, ...)"
            ]
          },
          "execution_count": 67,
          "metadata": {},
          "output_type": "execute_result"
        }
      ],
      "source": [
        "# Initialize and train the XGBoost Regressor\n",
        "xgb_model = xgb.XGBRegressor(\n",
        "    objective ='reg:squarederror', \n",
        "    learning_rate=0.03,\n",
        "    n_estimators=800,\n",
        "    max_depth=9,\n",
        "    subsample=0.9,\n",
        "    colsample_bytree=0.8,\n",
        "    gamma=0.5,\n",
        "    alpha=0.1,\n",
        "    reg_lambda=1,\n",
        "    colsample_bylevel=0.8,\n",
        "    colsample_bynode=0.7\n",
        ")\n",
        "xgb_model.fit(X_train, y_train)"
      ]
    },
    {
      "cell_type": "code",
      "execution_count": 68,
      "metadata": {},
      "outputs": [
        {
          "name": "stdout",
          "output_type": "stream",
          "text": [
            "Mean Squared Error on Training Data: 3471.6200545046413\n",
            "Mean Squared Error on the Testing Data: 54286.54310219775\n"
          ]
        }
      ],
      "source": [
        "# Predict on training data\n",
        "y_train_pred = xgb_model.predict(X_train)\n",
        "\n",
        "# Evaluate the model on training data\n",
        "mse_train = mean_squared_error(y_train, y_train_pred)\n",
        "print(f\"Mean Squared Error on Training Data: {mse_train}\")\n",
        "\n",
        "\n",
        "\n",
        "# Predict on the test set\n",
        "y_pred = xgb_model.predict(X_test)\n",
        "\n",
        "# Evaluate the model\n",
        "mse = mean_squared_error(y_test, y_pred)\n",
        "print(f\"Mean Squared Error on the Testing Data: {mse}\")"
      ]
    },
    {
      "cell_type": "code",
      "execution_count": 69,
      "metadata": {},
      "outputs": [
        {
          "name": "stdout",
          "output_type": "stream",
          "text": [
            "Root Mean Squared Error on Training Data: 58.920455314811015\n",
            "Root Mean Squared Error on the Testing Data: 232.99472762746746\n"
          ]
        }
      ],
      "source": [
        "rmse_train = np.sqrt(mse_train)\n",
        "print(f\"Root Mean Squared Error on Training Data: {rmse_train}\")\n",
        "\n",
        "\n",
        "rmse = np.sqrt(mse)\n",
        "print(f\"Root Mean Squared Error on the Testing Data: {rmse}\")\n"
      ]
    },
    {
      "cell_type": "code",
      "execution_count": 41,
      "metadata": {},
      "outputs": [
        {
          "name": "stdout",
          "output_type": "stream",
          "text": [
            "R-squared value on Training Data:: 0.99\n",
            "R-squared value on the Testing Data: -0.52\n"
          ]
        }
      ],
      "source": [
        "# Calculate R-squared\n",
        "r2_train = r2_score(y_train, y_train_pred)\n",
        "print(f\"R-squared value on Training Data:: {r2_train:.2f}\")\n",
        "\n",
        "\n",
        "# Calculate R-squared\n",
        "r2 = r2_score(y_test, y_pred)\n",
        "print(f\"R-squared value on the Testing Data: {r2:.2f}\")"
      ]
    },
    {
      "cell_type": "code",
      "execution_count": 25,
      "metadata": {},
      "outputs": [
        {
          "name": "stdout",
          "output_type": "stream",
          "text": [
            "Adjusted R^2 value: -0.47353388565718424\n"
          ]
        }
      ],
      "source": [
        "current_features = X.columns.tolist()\n",
        "\n",
        "# Calculate Adjusted R-squared\n",
        "def adjusted_r2(r2, n, k):\n",
        "    \"\"\"\n",
        "    Compute the adjusted R^2 from R^2, number of samples (n) and number of predictors (k).\n",
        "    \n",
        "    Args:\n",
        "    - r2 (float): R^2 value\n",
        "    - n (int): number of samples\n",
        "    - k (int): number of predictors\n",
        "\n",
        "    Returns:\n",
        "    - float: adjusted R^2 value\n",
        "    \"\"\"\n",
        "    return 1 - (1 - r2) * (n - 1) / (n - k - 1)\n",
        "\n",
        "\n",
        "adj_r2 = adjusted_r2(r2, len(y_test), len(current_features))\n",
        "\n",
        "print(f\"Adjusted R^2 value: {adj_r2}\")"
      ]
    },
    {
      "cell_type": "code",
      "execution_count": 26,
      "metadata": {},
      "outputs": [
        {
          "data": {
            "image/png": "[encoded data removed]",
            "text/plain": [
              "<Figure size 640x480 with 1 Axes>"
            ]
          },
          "metadata": {},
          "output_type": "display_data"
        }
      ],
      "source": [
        "plt.scatter(y_test, y_pred)\n",
        "plt.xlabel('Actual Values')\n",
        "plt.ylabel('Predicted Values')\n",
        "plt.title('Actual vs. Predicted')\n",
        "plt.show()\n"
      ]
    },
    {
      "cell_type": "code",
      "execution_count": 20,
      "metadata": {},
      "outputs": [
        {
          "data": {
            "image/png": "[encoded data removed]",
            "text/plain": [
              "<Figure size 640x480 with 1 Axes>"
            ]
          },
          "metadata": {},
          "output_type": "display_data"
        }
      ],
      "source": [
        "residuals = y_test - y_pred\n",
        "plt.scatter(y_pred, residuals)\n",
        "plt.xlabel('Predicted Values')\n",
        "plt.ylabel('Residuals')\n",
        "plt.title('Residual Plot')\n",
        "plt.show()\n"
      ]
    },
    {
      "cell_type": "code",
      "execution_count": 613,
      "metadata": {},
      "outputs": [],
      "source": [
        "num_rows = df_All.shape[0]\n",
        "\n",
        "splits = num_rows//10000\n",
        "\n",
        "if splits < 5:\n",
        "    splits = 5"
      ]
    },
    {
      "cell_type": "code",
      "execution_count": 614,
      "metadata": {},
      "outputs": [],
      "source": [
        "# # Define the K-fold cross validator\n",
        "# kfold = KFold(n_splits=splits, shuffle=True, random_state=42)\n",
        "\n",
        "# # Perform K-fold cross-validation\n",
        "# scores = cross_val_score(xgb_model, X_train, y_train, cv=kfold, scoring='neg_mean_squared_error')\n",
        "\n",
        "# # Take the square root of the scores to get the RMSE\n",
        "# rmse_scores = np.sqrt(-scores)\n",
        "\n",
        "# # Print out the results\n",
        "# print(f'Scores for each fold are: {rmse_scores}')\n",
        "# print(f'Average RMSE: {np.mean(rmse_scores)}')\n",
        "# print(f'Standard deviation of RMSE: {np.std(rmse_scores)}')"
      ]
    },
    {
      "cell_type": "code",
      "execution_count": 615,
      "metadata": {},
      "outputs": [
        {
          "data": {
            "text/plain": [
              "Index(['Butanol', '425 %Al', 'TC55552', 'DI55102', 'FC55569', 'DI55152',\n",
              "       'FC55576', 'TI55017', 'FC42428', 'AYC55580', 'LC55555', 'TI55023',\n",
              "       'FFC55553', 'FC55555', 'FC55009', 'LC55557', 'LC55553', 'FC55003',\n",
              "       'FFC55555'],\n",
              "      dtype='object')"
            ]
          },
          "execution_count": 615,
          "metadata": {},
          "output_type": "execute_result"
        }
      ],
      "source": [
        "df_All.columns"
      ]
    }
  ],
  "metadata": {
    "kernelspec": {
      "display_name": "Python 3 (ipykernel)",
      "language": "python",
      "name": "python3"
    },
    "language_info": {
      "codemirror_mode": {
        "name": "ipython",
        "version": 3
      },
      "file_extension": ".py",
      "mimetype": "text/x-python",
      "name": "python",
      "nbconvert_exporter": "python",
      "pygments_lexer": "ipython3",
      "version": "3.10.13"
    }
  },
  "nbformat": 4,
  "nbformat_minor": 4
}
