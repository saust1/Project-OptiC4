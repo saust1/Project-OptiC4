{
  "cells": [
    {
      "cell_type": "code",
      "execution_count": 1,
      "metadata": {
        "tags": [],
        "trusted": true
      },
      "outputs": [],
      "source": [
        "import numpy as np\n",
        "import xgboost as xgb\n",
        "from sklearn.model_selection import train_test_split\n",
        "from sklearn.metrics import mean_squared_error\n",
        "import pandas as pd\n",
        "import matplotlib.pyplot as plt\n",
        "from sklearn.metrics import r2_score\n",
        "from sklearn.model_selection import cross_val_score, KFold\n",
        "from xgboost import DMatrix\n"
      ]
    },
    {
      "cell_type": "markdown",
      "metadata": {},
      "source": [
        "### Input Data - Cleaned Dataset All"
      ]
    },
    {
      "cell_type": "code",
      "execution_count": 2,
      "metadata": {},
      "outputs": [
        {
          "name": "stdout",
          "output_type": "stream",
          "text": [
            "                  Date  425_pct_Al   M_Value  C4_pct_Eth  C4_pct_H2O  \\\n",
            "0  2012-05-14 07:00:00     6.26763  3.551350    2.353670    21.66280   \n",
            "1  2012-05-14 08:00:00     6.26798  3.551080    2.355025    21.66545   \n",
            "2  2012-05-14 09:00:00     6.26868  3.550545    2.357740    21.67070   \n",
            "3  2012-05-14 10:00:00     6.26938  3.550010    2.360455    21.67595   \n",
            "4  2012-05-14 11:00:00     6.27008  3.549475    2.363170    21.68125   \n",
            "\n",
            "   HydWtr_pct_Ammonia  C4_pct_Hex  HydWtr_Na2O   Decanol      FC55003  \\\n",
            "0            0.519068    0.620812     1.088680  0.959336  6332.030000   \n",
            "1            0.553096    0.621150     1.084100  0.959336  6332.030000   \n",
            "2            0.621152    0.621824     1.074945  0.959336  6332.030000   \n",
            "3            0.667952    0.622498     1.065790  0.933602  6191.103333   \n",
            "4            0.693497    0.623173     1.056635  0.907868  6081.507500   \n",
            "\n",
            "     FC55009       FC55552      FC55569  FFC55553  FFC55555    LC90366  \\\n",
            "0  2512.3700  41080.000000  6432.660000  1.000685  0.749378  82.124700   \n",
            "1  2512.3700  41080.000000  6432.660000  1.000685  0.749378  82.124700   \n",
            "2  2512.3700  41080.000000  6432.660000  1.000685  0.749378  82.124700   \n",
            "3  2329.9600  40980.433333  6438.553333  1.003990  0.749920  82.121367   \n",
            "4  2202.0825  40679.700000  6438.767500  1.001643  0.750051  82.119700   \n",
            "\n",
            "     LC90368   PI55020    TC55552     TI55021  \n",
            "0  60.124100  0.013269  146.99950  215.650000  \n",
            "1  60.124100  0.013269  146.99950  215.650000  \n",
            "2  60.124100  0.013269  146.99950  215.650000  \n",
            "3  60.174033  0.018791  148.86200  215.774333  \n",
            "4  60.230450 -0.021408  150.50375  215.404500  \n"
          ]
        }
      ],
      "source": [
        "\n",
        "# df_TagDesc = pd.read_csv(r'C:\\Users\\saust\\OneDrive\\Desktop\\GitRepo\\Project-OptiC4\\CSV\\Not for Processing\\TagDesc.csv')\n",
        "\n",
        "# df_All_1 = pd.read_csv(r'C:\\Users\\saust\\OneDrive\\Desktop\\GitRepo\\Project-OptiC4\\1 Preprocess\\Merge Data\\contData_all_Avg_1o2.csv')\n",
        "# df_All_2 = pd.read_csv(r'C:\\Users\\saust\\OneDrive\\Desktop\\GitRepo\\Project-OptiC4\\1 Preprocess\\Merge Data\\contData_all_Avg_2o2.csv')\n",
        "# # Concatenate (union) the dataframes\n",
        "# df_All = pd.concat([df_All_1, df_All_2], ignore_index=True)\n",
        "\n",
        "df_All = pd.read_csv(r'C:\\Users\\steve\\OneDrive\\1. BAIUTEK\\Project-OptiC4\\III Models\\3 Model C10\\5 Preprocessing - Slecected Features\\Merge Data\\merged_data.csv')\n",
        "\n",
        "print(df_All.head())\n"
      ]
    },
    {
      "cell_type": "code",
      "execution_count": 3,
      "metadata": {
        "trusted": true
      },
      "outputs": [],
      "source": [
        "# Set max columns to display\n",
        "pd.set_option('display.max_columns', None)"
      ]
    },
    {
      "cell_type": "code",
      "execution_count": 4,
      "metadata": {},
      "outputs": [],
      "source": [
        "# # # List of columns to exclude from the XGboost feature selection results\n",
        "# exclude_columns = [\n",
        "#                     'TI40050',\n",
        "#                     'TC55555',\n",
        "#                     'LC55568',\n",
        "#                     'LC55557',\n",
        "#                     'Al2O3',\n",
        "#                     'LC55553',\n",
        "#                     'M_Value',\n",
        "#                     'FFC55553',\n",
        "#                     'DI55580',\n",
        "#                     'Al2O3',\n",
        "#                     'C4_pct_Hex',\n",
        "#                     'LC52572',\n",
        "\n",
        "# #                  'Date',\n",
        "# #                  'C4_pct_Hex', 'HydWtr_Na2O',\n",
        "# #                  'TC55555'  \n",
        "#                    ]\n",
        "\n",
        "# # # Create a new DataFrame without the excluded columnsd\n",
        "# df_All = df_All.drop(columns=exclude_columns)"
      ]
    },
    {
      "cell_type": "code",
      "execution_count": 5,
      "metadata": {},
      "outputs": [
        {
          "data": {
            "text/plain": [
              "Index(['Date', '425_pct_Al', 'M_Value', 'C4_pct_Eth', 'C4_pct_H2O',\n",
              "       'HydWtr_pct_Ammonia', 'C4_pct_Hex', 'HydWtr_Na2O', 'Decanol', 'FC55003',\n",
              "       'FC55009', 'FC55552', 'FC55569', 'FFC55553', 'FFC55555', 'LC90366',\n",
              "       'LC90368', 'PI55020', 'TC55552', 'TI55021'],\n",
              "      dtype='object')"
            ]
          },
          "execution_count": 5,
          "metadata": {},
          "output_type": "execute_result"
        }
      ],
      "source": [
        "df_All.columns"
      ]
    },
    {
      "cell_type": "code",
      "execution_count": 6,
      "metadata": {},
      "outputs": [],
      "source": [
        "# df_All = df_All[df_All['Date'] > '2020-06-15 00:00:00']"
      ]
    },
    {
      "cell_type": "code",
      "execution_count": 7,
      "metadata": {},
      "outputs": [],
      "source": [
        "# df_All.drop('Date', axis=1, inplace=True)\n",
        "\n",
        "\n"
      ]
    },
    {
      "cell_type": "code",
      "execution_count": 8,
      "metadata": {},
      "outputs": [
        {
          "name": "stdout",
          "output_type": "stream",
          "text": [
            "         425_pct_Al       M_Value    C4_pct_Eth    C4_pct_H2O  \\\n",
            "count  52974.000000  52974.000000  52974.000000  52974.000000   \n",
            "mean       6.145939      3.590823      1.204019     21.209348   \n",
            "std        0.254677      0.176865      0.689281      2.735901   \n",
            "min        5.167535      1.347070      0.080626      7.932310   \n",
            "25%        6.004946      3.500930      0.623279     18.876100   \n",
            "50%        6.141118      3.586043      1.097525     21.481425   \n",
            "75%        6.289489      3.678295      1.664852     23.292687   \n",
            "max        7.131650      5.827565     11.732650     35.028700   \n",
            "\n",
            "       HydWtr_pct_Ammonia    C4_pct_Hex   HydWtr_Na2O       Decanol  \\\n",
            "count        52974.000000  52974.000000  52974.000000  52974.000000   \n",
            "mean             0.971848      0.460162      0.813779      3.179127   \n",
            "std              0.152671      0.237337      0.709024      1.636934   \n",
            "min              0.369965      0.000006      0.002854      0.087500   \n",
            "25%              0.877023      0.340993      0.452738      1.916325   \n",
            "50%              0.942503      0.439093      0.666539      3.040976   \n",
            "75%              1.036690      0.537751      0.982595      4.210779   \n",
            "max              1.606555      3.120225     12.426050      8.477515   \n",
            "\n",
            "            FC55003       FC55009       FC55552       FC55569      FFC55553  \\\n",
            "count  52974.000000  52974.000000  52974.000000  52974.000000  52974.000000   \n",
            "mean    5971.720295    838.573875  35716.148030   6589.949303      1.001764   \n",
            "std      783.827533    592.454001   5083.676810    387.058571      0.037657   \n",
            "min     2867.497500      0.000000  17933.787500   5131.707500      0.816592   \n",
            "25%     5505.252812    309.870750  34247.728125   6351.761875      0.978389   \n",
            "50%     5992.184375    821.183313  37921.218750   6574.126250      0.999285   \n",
            "75%     6502.563437   1314.482813  38994.818750   6805.324375      1.020363   \n",
            "max     8786.106250   2627.221250  41922.012500   8087.635000      1.180976   \n",
            "\n",
            "           FFC55555       LC90366       LC90368       PI55020       TC55552  \\\n",
            "count  52974.000000  52974.000000  52974.000000  52974.000000  52974.000000   \n",
            "mean       0.771660     46.216076     36.772910     -1.463113    168.910495   \n",
            "std        0.023094     28.956952     20.135427      1.104103     15.002941   \n",
            "min        0.698679      0.000000      0.118033     -4.676100    121.008625   \n",
            "25%        0.758703     21.287050     20.505078     -2.331670    156.103281   \n",
            "50%        0.772270     47.423763     42.073588     -1.470759    172.709563   \n",
            "75%        0.788535     76.979859     52.036959     -0.452136    180.735656   \n",
            "max        0.859546     87.901600     81.166888      1.515791    199.818125   \n",
            "\n",
            "            TI55021  \n",
            "count  52974.000000  \n",
            "mean     223.091531  \n",
            "std        9.396658  \n",
            "min      210.479125  \n",
            "25%      217.598594  \n",
            "50%      220.332562  \n",
            "75%      224.057625  \n",
            "max      257.890750  \n"
          ]
        }
      ],
      "source": [
        "print(df_All.describe())"
      ]
    },
    {
      "cell_type": "code",
      "execution_count": 9,
      "metadata": {},
      "outputs": [],
      "source": [
        "# # Assuming your data is in filtered_df and you want to predict 'target_column_name'\n",
        "# df = df_All.drop(['Butanol', 'FC55009', 'PI55004', 'PI55020','TI55021'], axis=1)  # Replace 'target_column_name' with your target column's name\n",
        "# # y = df_All['Decanol']"
      ]
    },
    {
      "cell_type": "code",
      "execution_count": 10,
      "metadata": {},
      "outputs": [],
      "source": [
        "# # Keep only rows with specified IDs\n",
        "# feature_names = [\n",
        "# '425_pct_Al',\n",
        "# 'C4_pct_Eth',\n",
        "# 'C4_pct_H2O',\n",
        "# 'HydWtr_pct_Ammonia',\n",
        "# 'HydWtr_Na2O',\n",
        "# 'DI55102',\n",
        "# 'DI55152',\n",
        "# 'FC55003',\n",
        "# 'FC55009',\n",
        "# 'FC55552',\n",
        "# 'FC55569',\n",
        "# 'FC55576',\n",
        "# 'FFC55555',\n",
        "# 'LC90366',\n",
        "# 'LC90368',\n",
        "# 'PI55004',\n",
        "# 'PI55020',\n",
        "# 'TC55552',\n",
        "# 'TI55021'\n",
        "# ]\n",
        "    "
      ]
    },
    {
      "cell_type": "code",
      "execution_count": 11,
      "metadata": {},
      "outputs": [
        {
          "ename": "KeyError",
          "evalue": "\"['DI55102', 'DI55152', 'FC55576', 'LC55557'] not in index\"",
          "output_type": "error",
          "traceback": [
            "\u001b[1;31m---------------------------------------------------------------------------\u001b[0m",
            "\u001b[1;31mKeyError\u001b[0m                                  Traceback (most recent call last)",
            "Cell \u001b[1;32mIn[11], line 72\u001b[0m\n\u001b[0;32m     69\u001b[0m     df_All\u001b[38;5;241m.\u001b[39mat[index, \u001b[38;5;124m'\u001b[39m\u001b[38;5;124mDecanol_adj\u001b[39m\u001b[38;5;124m'\u001b[39m] \u001b[38;5;241m=\u001b[39m predict_value(c10_model, row_for_prediction, decanol_feature_names)\n\u001b[0;32m     71\u001b[0m     \u001b[38;5;66;03m# Process record through model C4 for Butanol\u001b[39;00m\n\u001b[1;32m---> 72\u001b[0m     df_All\u001b[38;5;241m.\u001b[39mat[index, \u001b[38;5;124m'\u001b[39m\u001b[38;5;124mButanol_adj\u001b[39m\u001b[38;5;124m'\u001b[39m] \u001b[38;5;241m=\u001b[39m \u001b[43mpredict_value\u001b[49m\u001b[43m(\u001b[49m\u001b[43mc4_model\u001b[49m\u001b[43m,\u001b[49m\u001b[43m \u001b[49m\u001b[43mrow_for_prediction\u001b[49m\u001b[43m,\u001b[49m\u001b[43m \u001b[49m\u001b[43mbutanol_feature_names\u001b[49m\u001b[43m)\u001b[49m\n\u001b[0;32m     75\u001b[0m \u001b[38;5;66;03m# Initialize the starting value_rC4\u001b[39;00m\n\u001b[0;32m     76\u001b[0m value_rC4 \u001b[38;5;241m=\u001b[39m \u001b[38;5;241m0.68\u001b[39m\n",
            "Cell \u001b[1;32mIn[11], line 31\u001b[0m, in \u001b[0;36mpredict_value\u001b[1;34m(model, row, feature_names)\u001b[0m\n\u001b[0;32m     29\u001b[0m \u001b[38;5;28;01mdef\u001b[39;00m \u001b[38;5;21mpredict_value\u001b[39m(model, row, feature_names):\n\u001b[0;32m     30\u001b[0m     \u001b[38;5;66;03m# Ensure 'row' is prepared correctly for your model\u001b[39;00m\n\u001b[1;32m---> 31\u001b[0m     data_for_prediction \u001b[38;5;241m=\u001b[39m \u001b[43mrow\u001b[49m\u001b[43m[\u001b[49m\u001b[43mfeature_names\u001b[49m\u001b[43m]\u001b[49m\u001b[38;5;241m.\u001b[39mvalues\u001b[38;5;241m.\u001b[39mreshape(\u001b[38;5;241m1\u001b[39m, \u001b[38;5;241m-\u001b[39m\u001b[38;5;241m1\u001b[39m)\n\u001b[0;32m     32\u001b[0m     prediction \u001b[38;5;241m=\u001b[39m model\u001b[38;5;241m.\u001b[39mpredict(data_for_prediction)[\u001b[38;5;241m0\u001b[39m]\n\u001b[0;32m     33\u001b[0m     \u001b[38;5;28;01mreturn\u001b[39;00m prediction\n",
            "File \u001b[1;32mc:\\Users\\steve\\AppData\\Local\\Programs\\Python\\Python312\\Lib\\site-packages\\pandas\\core\\series.py:1153\u001b[0m, in \u001b[0;36mSeries.__getitem__\u001b[1;34m(self, key)\u001b[0m\n\u001b[0;32m   1150\u001b[0m     key \u001b[38;5;241m=\u001b[39m np\u001b[38;5;241m.\u001b[39masarray(key, dtype\u001b[38;5;241m=\u001b[39m\u001b[38;5;28mbool\u001b[39m)\n\u001b[0;32m   1151\u001b[0m     \u001b[38;5;28;01mreturn\u001b[39;00m \u001b[38;5;28mself\u001b[39m\u001b[38;5;241m.\u001b[39m_get_rows_with_mask(key)\n\u001b[1;32m-> 1153\u001b[0m \u001b[38;5;28;01mreturn\u001b[39;00m \u001b[38;5;28;43mself\u001b[39;49m\u001b[38;5;241;43m.\u001b[39;49m\u001b[43m_get_with\u001b[49m\u001b[43m(\u001b[49m\u001b[43mkey\u001b[49m\u001b[43m)\u001b[49m\n",
            "File \u001b[1;32mc:\\Users\\steve\\AppData\\Local\\Programs\\Python\\Python312\\Lib\\site-packages\\pandas\\core\\series.py:1194\u001b[0m, in \u001b[0;36mSeries._get_with\u001b[1;34m(self, key)\u001b[0m\n\u001b[0;32m   1191\u001b[0m         \u001b[38;5;28;01mreturn\u001b[39;00m \u001b[38;5;28mself\u001b[39m\u001b[38;5;241m.\u001b[39miloc[key]\n\u001b[0;32m   1193\u001b[0m \u001b[38;5;66;03m# handle the dup indexing case GH#4246\u001b[39;00m\n\u001b[1;32m-> 1194\u001b[0m \u001b[38;5;28;01mreturn\u001b[39;00m \u001b[38;5;28;43mself\u001b[39;49m\u001b[38;5;241;43m.\u001b[39;49m\u001b[43mloc\u001b[49m\u001b[43m[\u001b[49m\u001b[43mkey\u001b[49m\u001b[43m]\u001b[49m\n",
            "File \u001b[1;32mc:\\Users\\steve\\AppData\\Local\\Programs\\Python\\Python312\\Lib\\site-packages\\pandas\\core\\indexing.py:1191\u001b[0m, in \u001b[0;36m_LocationIndexer.__getitem__\u001b[1;34m(self, key)\u001b[0m\n\u001b[0;32m   1189\u001b[0m maybe_callable \u001b[38;5;241m=\u001b[39m com\u001b[38;5;241m.\u001b[39mapply_if_callable(key, \u001b[38;5;28mself\u001b[39m\u001b[38;5;241m.\u001b[39mobj)\n\u001b[0;32m   1190\u001b[0m maybe_callable \u001b[38;5;241m=\u001b[39m \u001b[38;5;28mself\u001b[39m\u001b[38;5;241m.\u001b[39m_check_deprecated_callable_usage(key, maybe_callable)\n\u001b[1;32m-> 1191\u001b[0m \u001b[38;5;28;01mreturn\u001b[39;00m \u001b[38;5;28;43mself\u001b[39;49m\u001b[38;5;241;43m.\u001b[39;49m\u001b[43m_getitem_axis\u001b[49m\u001b[43m(\u001b[49m\u001b[43mmaybe_callable\u001b[49m\u001b[43m,\u001b[49m\u001b[43m \u001b[49m\u001b[43maxis\u001b[49m\u001b[38;5;241;43m=\u001b[39;49m\u001b[43maxis\u001b[49m\u001b[43m)\u001b[49m\n",
            "File \u001b[1;32mc:\\Users\\steve\\AppData\\Local\\Programs\\Python\\Python312\\Lib\\site-packages\\pandas\\core\\indexing.py:1420\u001b[0m, in \u001b[0;36m_LocIndexer._getitem_axis\u001b[1;34m(self, key, axis)\u001b[0m\n\u001b[0;32m   1417\u001b[0m     \u001b[38;5;28;01mif\u001b[39;00m \u001b[38;5;28mhasattr\u001b[39m(key, \u001b[38;5;124m\"\u001b[39m\u001b[38;5;124mndim\u001b[39m\u001b[38;5;124m\"\u001b[39m) \u001b[38;5;129;01mand\u001b[39;00m key\u001b[38;5;241m.\u001b[39mndim \u001b[38;5;241m>\u001b[39m \u001b[38;5;241m1\u001b[39m:\n\u001b[0;32m   1418\u001b[0m         \u001b[38;5;28;01mraise\u001b[39;00m \u001b[38;5;167;01mValueError\u001b[39;00m(\u001b[38;5;124m\"\u001b[39m\u001b[38;5;124mCannot index with multidimensional key\u001b[39m\u001b[38;5;124m\"\u001b[39m)\n\u001b[1;32m-> 1420\u001b[0m     \u001b[38;5;28;01mreturn\u001b[39;00m \u001b[38;5;28;43mself\u001b[39;49m\u001b[38;5;241;43m.\u001b[39;49m\u001b[43m_getitem_iterable\u001b[49m\u001b[43m(\u001b[49m\u001b[43mkey\u001b[49m\u001b[43m,\u001b[49m\u001b[43m \u001b[49m\u001b[43maxis\u001b[49m\u001b[38;5;241;43m=\u001b[39;49m\u001b[43maxis\u001b[49m\u001b[43m)\u001b[49m\n\u001b[0;32m   1422\u001b[0m \u001b[38;5;66;03m# nested tuple slicing\u001b[39;00m\n\u001b[0;32m   1423\u001b[0m \u001b[38;5;28;01mif\u001b[39;00m is_nested_tuple(key, labels):\n",
            "File \u001b[1;32mc:\\Users\\steve\\AppData\\Local\\Programs\\Python\\Python312\\Lib\\site-packages\\pandas\\core\\indexing.py:1360\u001b[0m, in \u001b[0;36m_LocIndexer._getitem_iterable\u001b[1;34m(self, key, axis)\u001b[0m\n\u001b[0;32m   1357\u001b[0m \u001b[38;5;28mself\u001b[39m\u001b[38;5;241m.\u001b[39m_validate_key(key, axis)\n\u001b[0;32m   1359\u001b[0m \u001b[38;5;66;03m# A collection of keys\u001b[39;00m\n\u001b[1;32m-> 1360\u001b[0m keyarr, indexer \u001b[38;5;241m=\u001b[39m \u001b[38;5;28;43mself\u001b[39;49m\u001b[38;5;241;43m.\u001b[39;49m\u001b[43m_get_listlike_indexer\u001b[49m\u001b[43m(\u001b[49m\u001b[43mkey\u001b[49m\u001b[43m,\u001b[49m\u001b[43m \u001b[49m\u001b[43maxis\u001b[49m\u001b[43m)\u001b[49m\n\u001b[0;32m   1361\u001b[0m \u001b[38;5;28;01mreturn\u001b[39;00m \u001b[38;5;28mself\u001b[39m\u001b[38;5;241m.\u001b[39mobj\u001b[38;5;241m.\u001b[39m_reindex_with_indexers(\n\u001b[0;32m   1362\u001b[0m     {axis: [keyarr, indexer]}, copy\u001b[38;5;241m=\u001b[39m\u001b[38;5;28;01mTrue\u001b[39;00m, allow_dups\u001b[38;5;241m=\u001b[39m\u001b[38;5;28;01mTrue\u001b[39;00m\n\u001b[0;32m   1363\u001b[0m )\n",
            "File \u001b[1;32mc:\\Users\\steve\\AppData\\Local\\Programs\\Python\\Python312\\Lib\\site-packages\\pandas\\core\\indexing.py:1558\u001b[0m, in \u001b[0;36m_LocIndexer._get_listlike_indexer\u001b[1;34m(self, key, axis)\u001b[0m\n\u001b[0;32m   1555\u001b[0m ax \u001b[38;5;241m=\u001b[39m \u001b[38;5;28mself\u001b[39m\u001b[38;5;241m.\u001b[39mobj\u001b[38;5;241m.\u001b[39m_get_axis(axis)\n\u001b[0;32m   1556\u001b[0m axis_name \u001b[38;5;241m=\u001b[39m \u001b[38;5;28mself\u001b[39m\u001b[38;5;241m.\u001b[39mobj\u001b[38;5;241m.\u001b[39m_get_axis_name(axis)\n\u001b[1;32m-> 1558\u001b[0m keyarr, indexer \u001b[38;5;241m=\u001b[39m \u001b[43max\u001b[49m\u001b[38;5;241;43m.\u001b[39;49m\u001b[43m_get_indexer_strict\u001b[49m\u001b[43m(\u001b[49m\u001b[43mkey\u001b[49m\u001b[43m,\u001b[49m\u001b[43m \u001b[49m\u001b[43maxis_name\u001b[49m\u001b[43m)\u001b[49m\n\u001b[0;32m   1560\u001b[0m \u001b[38;5;28;01mreturn\u001b[39;00m keyarr, indexer\n",
            "File \u001b[1;32mc:\\Users\\steve\\AppData\\Local\\Programs\\Python\\Python312\\Lib\\site-packages\\pandas\\core\\indexes\\base.py:6200\u001b[0m, in \u001b[0;36mIndex._get_indexer_strict\u001b[1;34m(self, key, axis_name)\u001b[0m\n\u001b[0;32m   6197\u001b[0m \u001b[38;5;28;01melse\u001b[39;00m:\n\u001b[0;32m   6198\u001b[0m     keyarr, indexer, new_indexer \u001b[38;5;241m=\u001b[39m \u001b[38;5;28mself\u001b[39m\u001b[38;5;241m.\u001b[39m_reindex_non_unique(keyarr)\n\u001b[1;32m-> 6200\u001b[0m \u001b[38;5;28;43mself\u001b[39;49m\u001b[38;5;241;43m.\u001b[39;49m\u001b[43m_raise_if_missing\u001b[49m\u001b[43m(\u001b[49m\u001b[43mkeyarr\u001b[49m\u001b[43m,\u001b[49m\u001b[43m \u001b[49m\u001b[43mindexer\u001b[49m\u001b[43m,\u001b[49m\u001b[43m \u001b[49m\u001b[43maxis_name\u001b[49m\u001b[43m)\u001b[49m\n\u001b[0;32m   6202\u001b[0m keyarr \u001b[38;5;241m=\u001b[39m \u001b[38;5;28mself\u001b[39m\u001b[38;5;241m.\u001b[39mtake(indexer)\n\u001b[0;32m   6203\u001b[0m \u001b[38;5;28;01mif\u001b[39;00m \u001b[38;5;28misinstance\u001b[39m(key, Index):\n\u001b[0;32m   6204\u001b[0m     \u001b[38;5;66;03m# GH 42790 - Preserve name from an Index\u001b[39;00m\n",
            "File \u001b[1;32mc:\\Users\\steve\\AppData\\Local\\Programs\\Python\\Python312\\Lib\\site-packages\\pandas\\core\\indexes\\base.py:6252\u001b[0m, in \u001b[0;36mIndex._raise_if_missing\u001b[1;34m(self, key, indexer, axis_name)\u001b[0m\n\u001b[0;32m   6249\u001b[0m     \u001b[38;5;28;01mraise\u001b[39;00m \u001b[38;5;167;01mKeyError\u001b[39;00m(\u001b[38;5;124mf\u001b[39m\u001b[38;5;124m\"\u001b[39m\u001b[38;5;124mNone of [\u001b[39m\u001b[38;5;132;01m{\u001b[39;00mkey\u001b[38;5;132;01m}\u001b[39;00m\u001b[38;5;124m] are in the [\u001b[39m\u001b[38;5;132;01m{\u001b[39;00maxis_name\u001b[38;5;132;01m}\u001b[39;00m\u001b[38;5;124m]\u001b[39m\u001b[38;5;124m\"\u001b[39m)\n\u001b[0;32m   6251\u001b[0m not_found \u001b[38;5;241m=\u001b[39m \u001b[38;5;28mlist\u001b[39m(ensure_index(key)[missing_mask\u001b[38;5;241m.\u001b[39mnonzero()[\u001b[38;5;241m0\u001b[39m]]\u001b[38;5;241m.\u001b[39munique())\n\u001b[1;32m-> 6252\u001b[0m \u001b[38;5;28;01mraise\u001b[39;00m \u001b[38;5;167;01mKeyError\u001b[39;00m(\u001b[38;5;124mf\u001b[39m\u001b[38;5;124m\"\u001b[39m\u001b[38;5;132;01m{\u001b[39;00mnot_found\u001b[38;5;132;01m}\u001b[39;00m\u001b[38;5;124m not in index\u001b[39m\u001b[38;5;124m\"\u001b[39m)\n",
            "\u001b[1;31mKeyError\u001b[0m: \"['DI55102', 'DI55152', 'FC55576', 'LC55557'] not in index\""
          ]
        }
      ],
      "source": [
        "import pickle\n",
        "\n",
        "# Work\n",
        "# # Load the trained XGBoost models\n",
        "# with open(r'C:\\Users\\austinsh\\Project-OptiC4\\III Models\\3 Model C10\\5 Preprocessing - Slecected Features\\Updated Model\\C10_xgb_model.sav', 'rb') as model_file:\n",
        "#     c10_model = pickle.load(model_file)\n",
        "# with open(r'C:\\Users\\austinsh\\Project-OptiC4\\III Models\\3 Model C4\\5 Preprocessing - Slecected Features\\Updated Model\\C4_xgb_model.sav', 'rb') as model_file:\n",
        "#     c4_model = pickle.load(model_file)\n",
        "# with open(r'C:\\Users\\austinsh\\Project-OptiC4\\III Models\\3 Model STEAM - FC55569\\5 Preprocessing - Slecected Features\\Updated Model\\STEAM_xgb_model.sav', 'rb') as model_file:\n",
        "#     steam_model = pickle.load(model_file)\n",
        "\n",
        "# Home\n",
        "# Load the trained XGBoost models\n",
        "with open(r'C:\\Users\\steve\\OneDrive\\1. BAIUTEK\\Project-OptiC4\\III Models\\3 Model C10\\5 Preprocessing - Slecected Features\\Updated Model\\C10_xgb_model.sav', 'rb') as model_file:\n",
        "    c10_model = pickle.load(model_file)\n",
        "\n",
        "with open(r'C:\\Users\\steve\\OneDrive\\1. BAIUTEK\\Project-OptiC4\\III Models\\3 Model C4\\5 Preprocessing - Slecected Features\\Updated Model\\C4_xgb_model.sav', 'rb') as model_file:               \n",
        "    c4_model = pickle.load(model_file)\n",
        "\n",
        "with open(r'C:\\Users\\steve\\OneDrive\\1. BAIUTEK\\Project-OptiC4\\III Models\\3 Model STEAM - FC55569\\5 Preprocessing - Slecected Features\\Updated Model\\STEAM_xgb_model.sav', 'rb') as model_file:\n",
        "    steam_model = pickle.load(model_file)\n",
        "\n",
        "# Initialize the new columns in the original df\n",
        "df_All['FFC55555_adj'] = df_All['FFC55555']\n",
        "df_All['Decanol_adj'] = None  # Using None as a placeholder\n",
        "df_All['Butanol_adj'] = None  # Using None as a placeholder\n",
        "df_All['FC55569_adj'] = None  # Using None as a placeholder\n",
        "\n",
        "def predict_value(model, row, feature_names):\n",
        "    # Ensure 'row' is prepared correctly for your model\n",
        "    data_for_prediction = row[feature_names].values.reshape(1, -1)\n",
        "    prediction = model.predict(data_for_prediction)[0]\n",
        "    return prediction\n",
        "\n",
        "# Assume 'decanol_feature_names' and 'butanol_feature_names' are defined\n",
        "# You should define these lists based on the features your models expect\n",
        "\n",
        "decanol_feature_names = ['425_pct_Al', 'M_Value', 'C4_pct_Eth', 'C4_pct_H2O',\n",
        "       'HydWtr_pct_Ammonia', 'C4_pct_Hex', 'HydWtr_Na2O', 'FC55003',\n",
        "       'FC55009', 'FC55552', 'FC55569', 'FFC55553', 'FFC55555', 'LC90366',\n",
        "       'LC90368', 'PI55020', 'TC55552', 'TI55021']  \n",
        "butanol_feature_names = ['425_pct_Al', 'C4_pct_Eth', 'C4_pct_H2O', 'HydWtr_pct_Ammonia',\n",
        "       'C4_pct_Hex', 'HydWtr_Na2O', 'DI55102', 'DI55152', 'FC55552',\n",
        "       'FC55569', 'FC55576', 'FFC55553', 'FFC55555', 'LC55557', 'LC90366',\n",
        "       'LC90368', 'TC55552']\n",
        "steam_feature_names = ['425_pct_Al', 'Al2O3', 'C4_pct_Eth', 'C4_pct_H2O', 'C4_pct_Hex',\n",
        "       'DI55102', 'DI55152', 'DI55580', 'FC55003', 'FC55576',\n",
        "       'FFC55555', 'LC90366', 'PI55020']\n",
        "\n",
        "# decanol_feature_names = ['425_pct_Al', 'M_Value', 'C4_pct_Eth', 'C4_pct_H2O',\n",
        "#        'HydWtr_pct_Ammonia', 'C4_pct_Hex', 'HydWtr_Na2O', 'FC55003',\n",
        "#        'FC55009', 'FC55552', 'FC55569', 'FFC55553', 'FFC55555', 'LC90366',\n",
        "#        'LC90368', 'PI55020', 'TC55552', 'TI55021']  \n",
        "# butanol_feature_names = ['425_pct_Al', 'C4_pct_Eth', 'C4_pct_H2O', 'HydWtr_pct_Ammonia',\n",
        "#        'C4_pct_Hex', 'HydWtr_Na2O', 'DI55102', 'DI55152', 'FC55552',\n",
        "#        'FC55569', 'FC55576', 'FFC55553', 'FFC55555', 'LC55557', 'LC90366',\n",
        "#        'LC90368', 'TC55552']\n",
        "# steam_feature_names = ['425_pct_Al', 'Al2O3', 'C4_pct_Eth', 'C4_pct_H2O', 'C4_pct_Hex',\n",
        "#        'DI55102', 'DI55152', 'DI55580', 'FC55003', 'FC55576',\n",
        "#        'FFC55555', 'LC90366', 'PI55020']\n",
        "\n",
        "# Your prediction and adjustment loop\n",
        "for index, row in df_All.iterrows():\n",
        "    # Adjust row for prediction if necessary\n",
        "    row_for_prediction = row.copy()\n",
        "    row_for_prediction['FFC55555'] = row_for_prediction['FFC55555_adj']\n",
        "    \n",
        "    # Process record through model C10 for Decanol\n",
        "    df_All.at[index, 'Decanol_adj'] = predict_value(c10_model, row_for_prediction, decanol_feature_names)\n",
        "    \n",
        "    # Process record through model C4 for Butanol\n",
        "    df_All.at[index, 'Butanol_adj'] = predict_value(c4_model, row_for_prediction, butanol_feature_names)\n",
        "\n",
        "    \n",
        "# Initialize the starting value_rC4\n",
        "value_rC4 = 0.68\n",
        "\n",
        "# Specify the target_rC4 value_rC4\n",
        "target_rC4 = 0.80\n",
        "\n",
        "# Loop until value_rC4 reaches the target_rC4\n",
        "while value_rC4 < target_rC4:\n",
        "    print(f'Current value_rC4: {value_rC4:.2f}')\n",
        "    value_rC4 += 0.01\n",
        "\n",
        "    # Process record through Optimization Logic\n",
        "    while True:\n",
        "        decanol = df_All.at[index, 'Decanol_adj']\n",
        "        butanol = df_All.at[index, 'Butanol_adj']\n",
        "        ffc_adjusted = df_All.at[index, 'FFC55555_adj']\n",
        "\n",
        "        if decanol < 0.01:\n",
        "            if ffc_adjusted >= value_rC4: # Can be adjusted to the lowest rC4 desired (desired -0.01)\n",
        "                df_All.at[index, 'FFC55555_adj'] -= 0.01\n",
        "            else:\n",
        "                break  # Next Record\n",
        "        else:\n",
        "            while decanol >= 0.01:\n",
        "                if df_All.at[index, 'FFC55555'] >= ffc_adjusted:\n",
        "                    break  # Next Record\n",
        "                else:\n",
        "                    if ffc_adjusted <= 1.19: # Can be adjusted to the highest rC4 desired\n",
        "                        df_All.at[index, 'FFC55555_adj'] += 0.01\n",
        "                    else:\n",
        "                        break\n",
        "            break\n",
        "\n",
        "        # Update predictions after adjustment\n",
        "        row_for_prediction['FFC55555'] = df_All.at[index, 'FFC55555_adj']\n",
        "        df_All.at[index, 'Decanol_adj'] = predict_value(c10_model, row_for_prediction, decanol_feature_names)\n",
        "        \n",
        "\n",
        "    # Update the FC55569_adj column with the output from the steam model\n",
        "    df_All.at[index, 'Butanol_adj'] = predict_value(c4_model, row_for_prediction, butanol_feature_names)\n",
        "    df_All.at[index, 'FC55569_adj'] = predict_value(steam_model, row_for_prediction, steam_feature_names)"
      ]
    },
    {
      "cell_type": "code",
      "execution_count": null,
      "metadata": {},
      "outputs": [],
      "source": []
    },
    {
      "cell_type": "code",
      "execution_count": null,
      "metadata": {},
      "outputs": [],
      "source": [
        "df_All.head()"
      ]
    },
    {
      "cell_type": "code",
      "execution_count": null,
      "metadata": {},
      "outputs": [],
      "source": [
        "\n",
        "df_steam = df_All[['Date', 'FC55569', 'FC55569_adj']]\n",
        "\n",
        "df_steam['df_steam_diff'] = df_steam['FC55569'] - df_steam['FC55569_adj']\n",
        "\n",
        "df_steam"
      ]
    },
    {
      "cell_type": "code",
      "execution_count": null,
      "metadata": {},
      "outputs": [],
      "source": [
        "# Sum each column\n",
        "column_sums = df_steam.sum()\n",
        "\n",
        "# Convert the sums into a DataFrame\n",
        "sum_row = pd.DataFrame(column_sums).transpose()\n",
        "\n",
        "# Add a label to the sum row\n",
        "sum_row['Date'] = 'Sum'\n",
        "\n",
        "# Append the sum row to the original DataFrame\n",
        "df_steam_with_sum = pd.concat([df_steam, sum_row], ignore_index=True)\n",
        "\n",
        "# Display the result\n",
        "df_steam_with_sum\n"
      ]
    },
    {
      "cell_type": "markdown",
      "metadata": {},
      "source": [
        "That might be more steam, but How much alcohol is saved?????????"
      ]
    },
    {
      "cell_type": "code",
      "execution_count": null,
      "metadata": {},
      "outputs": [],
      "source": [
        "df_C10 = df_All[['Date', 'Decanol', 'Decanol_adj']]\n",
        "\n",
        "df_C10['Decanol_diff'] = df_C10['Decanol'] - df_C10['Decanol_adj']\n",
        "\n",
        "df_C10"
      ]
    },
    {
      "cell_type": "code",
      "execution_count": null,
      "metadata": {},
      "outputs": [],
      "source": [
        "# Sum each column\n",
        "column_sums = df_C10.sum()\n",
        "\n",
        "# Convert the sums into a DataFrame\n",
        "sum_row = pd.DataFrame(column_sums).transpose()\n",
        "\n",
        "# Add a label to the sum row\n",
        "sum_row['Date'] = 'Sum'\n",
        "\n",
        "# Append the sum row to the original DataFrame\n",
        "df_C10_with_sum = pd.concat([df_C10, sum_row], ignore_index=True)\n",
        "\n",
        "# Display the result\n",
        "df_C10_with_sum\n"
      ]
    },
    {
      "cell_type": "code",
      "execution_count": null,
      "metadata": {},
      "outputs": [],
      "source": [
        "df_C4 = df_All[['Date', 'Butanol', 'Butanol_adj']]\n",
        "\n",
        "df_C4['Butanol_diff'] = df_C4['Butanol'] - df_C4['Butanol_adj']\n",
        "\n",
        "df_C4"
      ]
    },
    {
      "cell_type": "code",
      "execution_count": null,
      "metadata": {},
      "outputs": [],
      "source": [
        "# Sum each column\n",
        "column_sums = df_C4.sum()\n",
        "\n",
        "# Convert the sums into a DataFrame\n",
        "sum_row = pd.DataFrame(column_sums).transpose()\n",
        "\n",
        "# Add a label to the sum row\n",
        "sum_row['Date'] = 'Sum'\n",
        "\n",
        "# Append the sum row to the original DataFrame\n",
        "df_C4_with_sum = pd.concat([df_C4, sum_row], ignore_index=True)\n",
        "\n",
        "# Display the result\n",
        "df_C4_with_sum\n"
      ]
    }
  ],
  "metadata": {
    "kernelspec": {
      "display_name": "Python 3 (ipykernel)",
      "language": "python",
      "name": "python3"
    },
    "language_info": {
      "codemirror_mode": {
        "name": "ipython",
        "version": 3
      },
      "file_extension": ".py",
      "mimetype": "text/x-python",
      "name": "python",
      "nbconvert_exporter": "python",
      "pygments_lexer": "ipython3",
      "version": "3.12.1"
    }
  },
  "nbformat": 4,
  "nbformat_minor": 4
}
