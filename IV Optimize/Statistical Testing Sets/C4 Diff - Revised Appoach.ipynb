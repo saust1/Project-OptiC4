{
  "cells": [
    {
      "cell_type": "code",
      "execution_count": 1,
      "metadata": {
        "metadata": {}
      },
      "outputs": [],
      "source": [
        "# %pip install sklearn"
      ]
    },
    {
      "cell_type": "code",
      "execution_count": 2,
      "metadata": {
        "metadata": {},
        "tags": [],
        "trusted": true
      },
      "outputs": [],
      "source": [
        "import numpy as np\n",
        "import xgboost as xgb\n",
        "# from sklearn.model_selection import train_test_split\n",
        "# from sklearn.metrics import mean_squared_error\n",
        "import pandas as pd\n",
        "import matplotlib.pyplot as plt\n",
        "# from sklearn.metrics import r2_score\n",
        "# from sklearn.model_selection import cross_val_score, KFold\n",
        "from xgboost import DMatrix\n"
      ]
    },
    {
      "cell_type": "markdown",
      "metadata": {},
      "source": [
        "### Input Data - Cleaned Dataset All"
      ]
    },
    {
      "cell_type": "code",
      "execution_count": 3,
      "metadata": {
        "metadata": {}
      },
      "outputs": [],
      "source": [
        "\n",
        "# df_TagDesc = pd.read_csv(r'C:\\Users\\saust\\OneDrive\\Desktop\\GitRepo\\Project-OptiC4\\CSV\\Not for Processing\\TagDesc.csv')\n",
        "\n",
        "# df_All_1 = pd.read_csv(r'C:\\Users\\saust\\OneDrive\\Desktop\\GitRepo\\Project-OptiC4\\1 Preprocess\\Merge Data\\contData_all_Avg_1o2.csv')\n",
        "# df_All_2 = pd.read_csv(r'C:\\Users\\saust\\OneDrive\\Desktop\\GitRepo\\Project-OptiC4\\1 Preprocess\\Merge Data\\contData_all_Avg_2o2.csv')\n",
        "# # Concatenate (union) the dataframes\n",
        "# df_All = pd.concat([df_All_1, df_All_2], ignore_index=True)\n",
        "\n",
        "# df_rC4_1_75 = pd.read_csv(r'C:\\Users\\steve\\OneDrive\\1. BAIUTEK\\Project-OptiC4\\IV Optimize\\Statistical Testing Sets\\rC4_1_75.csv')\n",
        "# df_rC4_5_75 = pd.read_csv(r'C:\\Users\\steve\\OneDrive\\1. BAIUTEK\\Project-OptiC4\\IV Optimize\\Statistical Testing Sets\\rC4_5_75.csv')\n",
        "\n",
        "df_rC4_1_75 = pd.read_csv(r'C:\\Users\\austinsh\\Project-OptiC4\\IV Optimize\\Statistical Testing Sets\\rC4_1_75.csv')\n",
        "df_rC4_5_75 = pd.read_csv(r'C:\\Users\\austinsh\\Project-OptiC4\\IV Optimize\\Statistical Testing Sets\\rC4_5_75.csv')\n",
        "\n",
        "\n",
        "# Set display options\n",
        "pd.set_option('display.float_format', lambda x: '%.2f' % x)"
      ]
    },
    {
      "cell_type": "code",
      "execution_count": 4,
      "metadata": {},
      "outputs": [],
      "source": [
        "# Assuming the 'Date' column is a string, you can convert it to datetime\n",
        "df_rC4_1_75['Date'] = pd.to_datetime(df_rC4_1_75['Date'])\n",
        "# Assuming the 'Date' column is a string, you can convert it to datetime\n",
        "df_rC4_5_75['Date'] = pd.to_datetime(df_rC4_5_75['Date'])"
      ]
    },
    {
      "cell_type": "code",
      "execution_count": 5,
      "metadata": {
        "metadata": {}
      },
      "outputs": [
        {
          "name": "stdout",
          "output_type": "stream",
          "text": [
            "<class 'pandas.core.frame.DataFrame'>\n",
            "RangeIndex: 47882 entries, 0 to 47881\n",
            "Data columns (total 26 columns):\n",
            " #   Column              Non-Null Count  Dtype         \n",
            "---  ------              --------------  -----         \n",
            " 0   Date                47882 non-null  datetime64[ns]\n",
            " 1   425_pct_Al          47882 non-null  float64       \n",
            " 2   C4_pct_Eth          47882 non-null  float64       \n",
            " 3   C4_pct_H2O          47882 non-null  float64       \n",
            " 4   HydWtr_pct_Ammonia  47882 non-null  float64       \n",
            " 5   HydWtr_Na2O         47882 non-null  float64       \n",
            " 6   Butanol             47882 non-null  float64       \n",
            " 7   Decanol             47882 non-null  float64       \n",
            " 8   DI55102             47882 non-null  float64       \n",
            " 9   DI55152             47882 non-null  float64       \n",
            " 10  FC55003             47882 non-null  float64       \n",
            " 11  FC55009             47882 non-null  float64       \n",
            " 12  FC55552             47882 non-null  float64       \n",
            " 13  FC55569             47882 non-null  float64       \n",
            " 14  FC55576             47882 non-null  float64       \n",
            " 15  FFC55555            47882 non-null  float64       \n",
            " 16  LC55557             47882 non-null  float64       \n",
            " 17  LC90366             47882 non-null  float64       \n",
            " 18  LC90368             47882 non-null  float64       \n",
            " 19  PI55004             47882 non-null  float64       \n",
            " 20  PI55020             47882 non-null  float64       \n",
            " 21  TC55552             47882 non-null  float64       \n",
            " 22  TI55021             47882 non-null  float64       \n",
            " 23  FFC55555_adj        47882 non-null  float64       \n",
            " 24  Decanol_adj         47882 non-null  float64       \n",
            " 25  Butanol_adj         47882 non-null  float64       \n",
            "dtypes: datetime64[ns](1), float64(25)\n",
            "memory usage: 9.5 MB\n",
            "None\n",
            "<class 'pandas.core.frame.DataFrame'>\n",
            "RangeIndex: 47882 entries, 0 to 47881\n",
            "Data columns (total 26 columns):\n",
            " #   Column              Non-Null Count  Dtype         \n",
            "---  ------              --------------  -----         \n",
            " 0   Date                47882 non-null  datetime64[ns]\n",
            " 1   425_pct_Al          47882 non-null  float64       \n",
            " 2   C4_pct_Eth          47882 non-null  float64       \n",
            " 3   C4_pct_H2O          47882 non-null  float64       \n",
            " 4   HydWtr_pct_Ammonia  47882 non-null  float64       \n",
            " 5   HydWtr_Na2O         47882 non-null  float64       \n",
            " 6   Butanol             47882 non-null  float64       \n",
            " 7   Decanol             47882 non-null  float64       \n",
            " 8   DI55102             47882 non-null  float64       \n",
            " 9   DI55152             47882 non-null  float64       \n",
            " 10  FC55003             47882 non-null  float64       \n",
            " 11  FC55009             47882 non-null  float64       \n",
            " 12  FC55552             47882 non-null  float64       \n",
            " 13  FC55569             47882 non-null  float64       \n",
            " 14  FC55576             47882 non-null  float64       \n",
            " 15  FFC55555            47882 non-null  float64       \n",
            " 16  LC55557             47882 non-null  float64       \n",
            " 17  LC90366             47882 non-null  float64       \n",
            " 18  LC90368             47882 non-null  float64       \n",
            " 19  PI55004             47882 non-null  float64       \n",
            " 20  PI55020             47882 non-null  float64       \n",
            " 21  TC55552             47882 non-null  float64       \n",
            " 22  TI55021             47882 non-null  float64       \n",
            " 23  FFC55555_adj        47882 non-null  float64       \n",
            " 24  Decanol_adj         47882 non-null  float64       \n",
            " 25  Butanol_adj         47882 non-null  float64       \n",
            "dtypes: datetime64[ns](1), float64(25)\n",
            "memory usage: 9.5 MB\n",
            "None\n"
          ]
        }
      ],
      "source": [
        "print(df_rC4_1_75.info())\n",
        "print(df_rC4_5_75.info())"
      ]
    },
    {
      "cell_type": "code",
      "execution_count": 6,
      "metadata": {
        "metadata": {}
      },
      "outputs": [
        {
          "name": "stdout",
          "output_type": "stream",
          "text": [
            "                 Date  425_pct_Al  C4_pct_Eth  C4_pct_H2O  HydWtr_pct_Ammonia  \\\n",
            "0 2012-05-16 16:00:00        6.31        2.51       21.96                0.91   \n",
            "1 2012-05-16 18:00:00        6.31        2.51       21.97                0.91   \n",
            "2 2012-05-16 19:00:00        6.31        2.52       21.98                0.91   \n",
            "3 2012-05-16 20:00:00        6.31        2.52       21.98                0.90   \n",
            "4 2012-05-16 21:00:00        6.31        2.52       21.99                0.90   \n",
            "\n",
            "   HydWtr_Na2O  Butanol  Decanol  DI55102  DI55152  ...  LC55557  LC90366  \\\n",
            "0         2.71    54.86     0.72     0.97     0.93  ...    65.87    61.01   \n",
            "1         2.81    54.86     0.72     0.97     0.93  ...    65.87    61.01   \n",
            "2         2.95    54.86     0.72     0.97     0.93  ...    65.87    61.01   \n",
            "3         3.04    51.19     0.73     0.97     0.92  ...    65.96    56.69   \n",
            "4         3.13    48.74     0.74     0.97     0.92  ...    65.97    55.18   \n",
            "\n",
            "   LC90368  PI55004  PI55020  TC55552  TI55021  FFC55555_adj  Decanol_adj  \\\n",
            "0    51.23     1.31    -0.61   177.19   212.86          0.75         1.13   \n",
            "1    51.23     1.31    -0.61   177.19   212.86          0.75         1.13   \n",
            "2    51.23     1.31    -0.61   177.19   212.86          0.75         1.12   \n",
            "3    50.87     1.22    -0.63   177.42   212.82          0.75         1.09   \n",
            "4    50.74     1.21    -0.63   177.46   212.80          0.75         1.08   \n",
            "\n",
            "   Butanol_adj  \n",
            "0        56.40  \n",
            "1        55.23  \n",
            "2        54.98  \n",
            "3        48.96  \n",
            "4        48.61  \n",
            "\n",
            "[5 rows x 26 columns]\n",
            "                 Date  425_pct_Al  C4_pct_Eth  C4_pct_H2O  HydWtr_pct_Ammonia  \\\n",
            "0 2012-05-16 16:00:00        6.31        2.51       21.96                0.91   \n",
            "1 2012-05-16 18:00:00        6.31        2.51       21.97                0.91   \n",
            "2 2012-05-16 19:00:00        6.31        2.52       21.98                0.91   \n",
            "3 2012-05-16 20:00:00        6.31        2.52       21.98                0.90   \n",
            "4 2012-05-16 21:00:00        6.31        2.52       21.99                0.90   \n",
            "\n",
            "   HydWtr_Na2O  Butanol  Decanol  DI55102  DI55152  ...  LC55557  LC90366  \\\n",
            "0         2.71    54.86     0.72     0.97     0.93  ...    65.87    61.01   \n",
            "1         2.81    54.86     0.72     0.97     0.93  ...    65.87    61.01   \n",
            "2         2.95    54.86     0.72     0.97     0.93  ...    65.87    61.01   \n",
            "3         3.04    51.19     0.73     0.97     0.92  ...    65.96    56.69   \n",
            "4         3.13    48.74     0.74     0.97     0.92  ...    65.97    55.18   \n",
            "\n",
            "   LC90368  PI55004  PI55020  TC55552  TI55021  FFC55555_adj  Decanol_adj  \\\n",
            "0    51.23     1.31    -0.61   177.19   212.86          0.75         1.13   \n",
            "1    51.23     1.31    -0.61   177.19   212.86          0.75         1.13   \n",
            "2    51.23     1.31    -0.61   177.19   212.86          0.75         1.12   \n",
            "3    50.87     1.22    -0.63   177.42   212.82          0.75         1.09   \n",
            "4    50.74     1.21    -0.63   177.46   212.80          0.75         1.08   \n",
            "\n",
            "   Butanol_adj  \n",
            "0        56.40  \n",
            "1        55.23  \n",
            "2        54.98  \n",
            "3        48.96  \n",
            "4        48.61  \n",
            "\n",
            "[5 rows x 26 columns]\n"
          ]
        }
      ],
      "source": [
        "print(df_rC4_1_75.head())\n",
        "print(df_rC4_5_75.head())"
      ]
    },
    {
      "cell_type": "code",
      "execution_count": 7,
      "metadata": {},
      "outputs": [
        {
          "name": "stdout",
          "output_type": "stream",
          "text": [
            "   Year  Count  %Year\n",
            "0  2012   2445  27.91\n",
            "1  2013   6471  73.87\n",
            "2  2014   5952  67.95\n",
            "3  2015   5807  66.29\n",
            "4  2016   6222  71.03\n",
            "5  2017   6348  72.47\n",
            "6  2018   6128  69.95\n",
            "7  2019   4920  56.16\n",
            "8  2020   3178  36.28\n",
            "9  2022    411   4.69\n"
          ]
        }
      ],
      "source": [
        "# Assuming the 'Date' column is already a datetime object\n",
        "df_rC4_1_75['Year'] = df_rC4_1_75['Date'].dt.year\n",
        "\n",
        "# Count the records for each year\n",
        "record_counts_by_year_1_75 = df_rC4_1_75['Year'].value_counts().sort_index()\n",
        "\n",
        "# Create a DataFrame from the value counts\n",
        "result_df = pd.DataFrame({\n",
        "    'Year': record_counts_by_year_1_75.index,\n",
        "    'Count': record_counts_by_year_1_75.values\n",
        "})\n",
        "\n",
        "# Calculate the %Year column\n",
        "result_df['%Year'] = (result_df['Count'] / (24 * 365))*100\n",
        "\n",
        "# Output the results\n",
        "print(result_df)\n"
      ]
    },
    {
      "cell_type": "markdown",
      "metadata": {},
      "source": [
        "# 1 75"
      ]
    },
    {
      "cell_type": "code",
      "execution_count": 8,
      "metadata": {
        "metadata": {}
      },
      "outputs": [],
      "source": [
        "# Calculate the differences and create new columns\n",
        "df_rC4_1_75['FFC55555_diff'] = df_rC4_1_75['FFC55555'] - df_rC4_1_75['FFC55555_adj']\n",
        "df_rC4_1_75['Butanol_diff'] = df_rC4_1_75['Butanol'] - df_rC4_1_75['Butanol_adj']\n",
        "df_rC4_1_75['Decanol_diff'] = df_rC4_1_75['Decanol'] - df_rC4_1_75['Decanol_adj']\n",
        "\n",
        "\n",
        "df_rC4_1_75['rC4_diff'] = (df_rC4_1_75['FFC55555']*df_rC4_1_75['FC55552'])-(df_rC4_1_75['FFC55555_adj']*df_rC4_1_75['FC55552'])"
      ]
    },
    {
      "cell_type": "code",
      "execution_count": 9,
      "metadata": {
        "metadata": {}
      },
      "outputs": [],
      "source": [
        "\n",
        "df_rC4_1_75.set_index('Date', inplace=True)\n"
      ]
    },
    {
      "cell_type": "code",
      "execution_count": 10,
      "metadata": {
        "metadata": {}
      },
      "outputs": [],
      "source": [
        "# Sum up the hourly data to get daily totals for each component\n",
        "daily_totals_1_75 = df_rC4_1_75[['FFC55555_diff','Butanol_diff', 'Decanol_diff', 'rC4_diff']].resample('D').sum()\n",
        "\n",
        "# Group by year and sum up daily data for each year\n",
        "daily_totals_by_year_1_75 = df_rC4_1_75[['FFC55555_diff','Butanol_diff', 'Decanol_diff', 'rC4_diff']].groupby(df_rC4_1_75.index.year).resample('D').sum()\n"
      ]
    },
    {
      "cell_type": "code",
      "execution_count": 11,
      "metadata": {},
      "outputs": [
        {
          "data": {
            "text/html": [
              "<div>\n",
              "<style scoped>\n",
              "    .dataframe tbody tr th:only-of-type {\n",
              "        vertical-align: middle;\n",
              "    }\n",
              "\n",
              "    .dataframe tbody tr th {\n",
              "        vertical-align: top;\n",
              "    }\n",
              "\n",
              "    .dataframe thead th {\n",
              "        text-align: right;\n",
              "    }\n",
              "</style>\n",
              "<table border=\"1\" class=\"dataframe\">\n",
              "  <thead>\n",
              "    <tr style=\"text-align: right;\">\n",
              "      <th></th>\n",
              "      <th>FFC55555_diff</th>\n",
              "      <th>Butanol_diff</th>\n",
              "      <th>Decanol_diff</th>\n",
              "      <th>rC4_diff</th>\n",
              "    </tr>\n",
              "    <tr>\n",
              "      <th>Date</th>\n",
              "      <th></th>\n",
              "      <th></th>\n",
              "      <th></th>\n",
              "      <th></th>\n",
              "    </tr>\n",
              "  </thead>\n",
              "  <tbody>\n",
              "    <tr>\n",
              "      <th>2012</th>\n",
              "      <td>11.31</td>\n",
              "      <td>-972.16</td>\n",
              "      <td>-193.91</td>\n",
              "      <td>378578.34</td>\n",
              "    </tr>\n",
              "    <tr>\n",
              "      <th>2013</th>\n",
              "      <td>13.17</td>\n",
              "      <td>-570.83</td>\n",
              "      <td>-68.91</td>\n",
              "      <td>491051.11</td>\n",
              "    </tr>\n",
              "    <tr>\n",
              "      <th>2014</th>\n",
              "      <td>5.25</td>\n",
              "      <td>-468.31</td>\n",
              "      <td>-117.13</td>\n",
              "      <td>192716.20</td>\n",
              "    </tr>\n",
              "    <tr>\n",
              "      <th>2015</th>\n",
              "      <td>10.65</td>\n",
              "      <td>-72.40</td>\n",
              "      <td>-160.44</td>\n",
              "      <td>377288.31</td>\n",
              "    </tr>\n",
              "    <tr>\n",
              "      <th>2016</th>\n",
              "      <td>4.08</td>\n",
              "      <td>-238.11</td>\n",
              "      <td>-144.39</td>\n",
              "      <td>144389.56</td>\n",
              "    </tr>\n",
              "    <tr>\n",
              "      <th>2017</th>\n",
              "      <td>2.71</td>\n",
              "      <td>-354.27</td>\n",
              "      <td>-156.57</td>\n",
              "      <td>96017.18</td>\n",
              "    </tr>\n",
              "    <tr>\n",
              "      <th>2018</th>\n",
              "      <td>0.17</td>\n",
              "      <td>-450.71</td>\n",
              "      <td>-194.78</td>\n",
              "      <td>6000.78</td>\n",
              "    </tr>\n",
              "    <tr>\n",
              "      <th>2019</th>\n",
              "      <td>4.82</td>\n",
              "      <td>-1019.49</td>\n",
              "      <td>-204.87</td>\n",
              "      <td>183830.20</td>\n",
              "    </tr>\n",
              "    <tr>\n",
              "      <th>2020</th>\n",
              "      <td>1.88</td>\n",
              "      <td>-299.50</td>\n",
              "      <td>-102.23</td>\n",
              "      <td>66500.48</td>\n",
              "    </tr>\n",
              "    <tr>\n",
              "      <th>2021</th>\n",
              "      <td>0.00</td>\n",
              "      <td>0.00</td>\n",
              "      <td>0.00</td>\n",
              "      <td>0.00</td>\n",
              "    </tr>\n",
              "    <tr>\n",
              "      <th>2022</th>\n",
              "      <td>10.30</td>\n",
              "      <td>-1301.83</td>\n",
              "      <td>-67.46</td>\n",
              "      <td>369021.23</td>\n",
              "    </tr>\n",
              "  </tbody>\n",
              "</table>\n",
              "</div>"
            ],
            "text/plain": [
              "      FFC55555_diff  Butanol_diff  Decanol_diff  rC4_diff\n",
              "Date                                                     \n",
              "2012          11.31       -972.16       -193.91 378578.34\n",
              "2013          13.17       -570.83        -68.91 491051.11\n",
              "2014           5.25       -468.31       -117.13 192716.20\n",
              "2015          10.65        -72.40       -160.44 377288.31\n",
              "2016           4.08       -238.11       -144.39 144389.56\n",
              "2017           2.71       -354.27       -156.57  96017.18\n",
              "2018           0.17       -450.71       -194.78   6000.78\n",
              "2019           4.82      -1019.49       -204.87 183830.20\n",
              "2020           1.88       -299.50       -102.23  66500.48\n",
              "2021           0.00          0.00          0.00      0.00\n",
              "2022          10.30      -1301.83        -67.46 369021.23"
            ]
          },
          "execution_count": 11,
          "metadata": {},
          "output_type": "execute_result"
        }
      ],
      "source": [
        "# Sum up the hourly data to get daily totals for each component\n",
        "daily_totals_1_75 = df_rC4_1_75[['FFC55555_diff', 'Butanol_diff', 'Decanol_diff', 'rC4_diff']].resample('D').sum()\n",
        "\n",
        "# Group by year and sum up daily data for each year\n",
        "daily_totals_by_year_1_75 = daily_totals_1_75.groupby(daily_totals_1_75.index.year).sum()\n",
        "\n",
        "daily_totals_by_year_1_75\n"
      ]
    },
    {
      "cell_type": "markdown",
      "metadata": {},
      "source": [
        "# 5 75"
      ]
    },
    {
      "cell_type": "code",
      "execution_count": 12,
      "metadata": {
        "metadata": {}
      },
      "outputs": [],
      "source": [
        "# Calculate the differences and create new columns\n",
        "df_rC4_5_75['FFC55555_diff'] = df_rC4_5_75['FFC55555'] - df_rC4_5_75['FFC55555_adj']\n",
        "df_rC4_5_75['Butanol_diff'] = df_rC4_5_75['Butanol'] - df_rC4_5_75['Butanol_adj']\n",
        "df_rC4_5_75['Decanol_diff'] = df_rC4_5_75['Decanol'] - df_rC4_5_75['Decanol_adj']\n",
        "\n",
        "df_rC4_5_75['rC4_diff'] = (df_rC4_5_75['FFC55555']*df_rC4_5_75['FC55552'])-(df_rC4_5_75['FFC55555_adj']*df_rC4_5_75['FC55552'])"
      ]
    },
    {
      "cell_type": "code",
      "execution_count": 13,
      "metadata": {
        "metadata": {}
      },
      "outputs": [],
      "source": [
        "df_rC4_5_75.set_index('Date', inplace=True)\n"
      ]
    },
    {
      "cell_type": "code",
      "execution_count": 14,
      "metadata": {
        "metadata": {}
      },
      "outputs": [],
      "source": [
        "# Sum up the hourly data to get daily totals for each component\n",
        "daily_totals_5_75 = df_rC4_5_75[['FFC55555_diff','Butanol_diff', 'Decanol_diff', 'rC4_diff']].resample('D').sum()\n",
        "\n",
        "# Group by year and sum up daily data for each year\n",
        "daily_totals_by_year_5_75 = df_rC4_5_75[['FFC55555_diff','Butanol_diff', 'Decanol_diff', 'rC4_diff']].groupby(df_rC4_5_75.index.year).resample('D').sum()"
      ]
    },
    {
      "cell_type": "code",
      "execution_count": 15,
      "metadata": {},
      "outputs": [
        {
          "data": {
            "text/html": [
              "<div>\n",
              "<style scoped>\n",
              "    .dataframe tbody tr th:only-of-type {\n",
              "        vertical-align: middle;\n",
              "    }\n",
              "\n",
              "    .dataframe tbody tr th {\n",
              "        vertical-align: top;\n",
              "    }\n",
              "\n",
              "    .dataframe thead th {\n",
              "        text-align: right;\n",
              "    }\n",
              "</style>\n",
              "<table border=\"1\" class=\"dataframe\">\n",
              "  <thead>\n",
              "    <tr style=\"text-align: right;\">\n",
              "      <th></th>\n",
              "      <th>FFC55555_diff</th>\n",
              "      <th>Butanol_diff</th>\n",
              "      <th>Decanol_diff</th>\n",
              "      <th>rC4_diff</th>\n",
              "    </tr>\n",
              "    <tr>\n",
              "      <th>Date</th>\n",
              "      <th></th>\n",
              "      <th></th>\n",
              "      <th></th>\n",
              "      <th></th>\n",
              "    </tr>\n",
              "  </thead>\n",
              "  <tbody>\n",
              "    <tr>\n",
              "      <th>2012</th>\n",
              "      <td>68.38</td>\n",
              "      <td>-3498.03</td>\n",
              "      <td>-152.43</td>\n",
              "      <td>2380522.01</td>\n",
              "    </tr>\n",
              "    <tr>\n",
              "      <th>2013</th>\n",
              "      <td>132.17</td>\n",
              "      <td>-3723.13</td>\n",
              "      <td>43.63</td>\n",
              "      <td>4745483.90</td>\n",
              "    </tr>\n",
              "    <tr>\n",
              "      <th>2014</th>\n",
              "      <td>143.32</td>\n",
              "      <td>-8778.80</td>\n",
              "      <td>58.37</td>\n",
              "      <td>5372815.02</td>\n",
              "    </tr>\n",
              "    <tr>\n",
              "      <th>2015</th>\n",
              "      <td>130.87</td>\n",
              "      <td>-8454.70</td>\n",
              "      <td>-273.76</td>\n",
              "      <td>4849572.76</td>\n",
              "    </tr>\n",
              "    <tr>\n",
              "      <th>2016</th>\n",
              "      <td>129.06</td>\n",
              "      <td>-10143.55</td>\n",
              "      <td>-253.48</td>\n",
              "      <td>4535407.49</td>\n",
              "    </tr>\n",
              "    <tr>\n",
              "      <th>2017</th>\n",
              "      <td>154.34</td>\n",
              "      <td>-8551.44</td>\n",
              "      <td>-558.51</td>\n",
              "      <td>5582820.74</td>\n",
              "    </tr>\n",
              "    <tr>\n",
              "      <th>2018</th>\n",
              "      <td>16.15</td>\n",
              "      <td>-1841.50</td>\n",
              "      <td>-264.90</td>\n",
              "      <td>548295.22</td>\n",
              "    </tr>\n",
              "    <tr>\n",
              "      <th>2019</th>\n",
              "      <td>25.53</td>\n",
              "      <td>-3792.79</td>\n",
              "      <td>-259.97</td>\n",
              "      <td>937712.75</td>\n",
              "    </tr>\n",
              "    <tr>\n",
              "      <th>2020</th>\n",
              "      <td>50.12</td>\n",
              "      <td>-6573.67</td>\n",
              "      <td>-177.28</td>\n",
              "      <td>1800929.00</td>\n",
              "    </tr>\n",
              "    <tr>\n",
              "      <th>2021</th>\n",
              "      <td>0.00</td>\n",
              "      <td>0.00</td>\n",
              "      <td>0.00</td>\n",
              "      <td>0.00</td>\n",
              "    </tr>\n",
              "    <tr>\n",
              "      <th>2022</th>\n",
              "      <td>13.02</td>\n",
              "      <td>-1492.76</td>\n",
              "      <td>-71.83</td>\n",
              "      <td>469506.92</td>\n",
              "    </tr>\n",
              "  </tbody>\n",
              "</table>\n",
              "</div>"
            ],
            "text/plain": [
              "      FFC55555_diff  Butanol_diff  Decanol_diff   rC4_diff\n",
              "Date                                                      \n",
              "2012          68.38      -3498.03       -152.43 2380522.01\n",
              "2013         132.17      -3723.13         43.63 4745483.90\n",
              "2014         143.32      -8778.80         58.37 5372815.02\n",
              "2015         130.87      -8454.70       -273.76 4849572.76\n",
              "2016         129.06     -10143.55       -253.48 4535407.49\n",
              "2017         154.34      -8551.44       -558.51 5582820.74\n",
              "2018          16.15      -1841.50       -264.90  548295.22\n",
              "2019          25.53      -3792.79       -259.97  937712.75\n",
              "2020          50.12      -6573.67       -177.28 1800929.00\n",
              "2021           0.00          0.00          0.00       0.00\n",
              "2022          13.02      -1492.76        -71.83  469506.92"
            ]
          },
          "execution_count": 15,
          "metadata": {},
          "output_type": "execute_result"
        }
      ],
      "source": [
        "# Sum up the hourly data to get daily totals for each component\n",
        "daily_totals_5_75 = df_rC4_5_75[['FFC55555_diff', 'Butanol_diff', 'Decanol_diff', 'rC4_diff']].resample('D').sum()\n",
        "\n",
        "# Group by year and sum up daily data for each year\n",
        "daily_totals_by_year_5_75 = daily_totals_5_75.groupby(daily_totals_5_75.index.year).sum()\n",
        "\n",
        "\n",
        "\n",
        "daily_totals_by_year_5_75"
      ]
    }
  ],
  "metadata": {
    "kernelspec": {
      "display_name": "Python 3 (ipykernel)",
      "language": "python",
      "name": "python3"
    },
    "language_info": {
      "codemirror_mode": {
        "name": "ipython",
        "version": 3
      },
      "file_extension": ".py",
      "mimetype": "text/x-python",
      "name": "python",
      "nbconvert_exporter": "python",
      "pygments_lexer": "ipython3",
      "version": "3.12.1"
    }
  },
  "nbformat": 4,
  "nbformat_minor": 4
}
