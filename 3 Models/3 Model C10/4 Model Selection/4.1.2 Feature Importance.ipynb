{
  "cells": [
    {
      "cell_type": "code",
      "execution_count": 99,
      "metadata": {
        "tags": [],
        "trusted": true
      },
      "outputs": [],
      "source": [
        "import xgboost as xgb\n",
        "from sklearn.model_selection import train_test_split\n",
        "from sklearn.metrics import mean_squared_error\n",
        "import matplotlib.pyplot as plt\n",
        "import pandas as pd\n",
        "\n"
      ]
    },
    {
      "cell_type": "code",
      "execution_count": 100,
      "metadata": {},
      "outputs": [],
      "source": [
        "#df_CDFS = pd.read_csv(r\"C:\\Users\\saust\\OneDrive - Sasol\\1 Project rC4\\Jupyter Notebooks\\Report 10-19-23\\df_AlConCD554.csv\")\n",
        "\n",
        "df_CDFS = pd.read_csv(r\"C:\\Users\\saust\\OneDrive\\Desktop\\CodeSpace DLs\\102423\\Project rC4\\5 Engineered Features\\3 - EF - Feature Selection\\df_CDCA.csv\")\n",
        "# df_CDFS = pd.read_csv('/workspaces/codespaces-jupyter/Final Machine/Interpolated LIMS/df_CDOH.csv')\n"
      ]
    },
    {
      "cell_type": "code",
      "execution_count": 101,
      "metadata": {
        "trusted": true
      },
      "outputs": [],
      "source": [
        "# Set max columns to display\n",
        "pd.set_option('display.max_columns', None)"
      ]
    },
    {
      "cell_type": "code",
      "execution_count": 102,
      "metadata": {},
      "outputs": [],
      "source": [
        "# List of columns to exclude to run XGboost feature selection\n",
        "exclude_columns = [#'Date', \n",
        "                   #'FFC55553' ,'LC55555', 'FC55003', 'LC55557', 'FFC55555','LC55553', \n",
        "                   'TI55021', 'TC55555'\n",
        "                   \n",
        "                   ]\n",
        "\n",
        "# Create a new DataFrame without the excluded columnsd\n",
        "df_CDFS = df_CDFS.drop(columns=exclude_columns)"
      ]
    },
    {
      "cell_type": "code",
      "execution_count": 103,
      "metadata": {},
      "outputs": [
        {
          "data": {
            "text/html": [
              "<div>\n",
              "<style scoped>\n",
              "    .dataframe tbody tr th:only-of-type {\n",
              "        vertical-align: middle;\n",
              "    }\n",
              "\n",
              "    .dataframe tbody tr th {\n",
              "        vertical-align: top;\n",
              "    }\n",
              "\n",
              "    .dataframe thead th {\n",
              "        text-align: right;\n",
              "    }\n",
              "</style>\n",
              "<table border=\"1\" class=\"dataframe\">\n",
              "  <thead>\n",
              "    <tr style=\"text-align: right;\">\n",
              "      <th></th>\n",
              "      <th>Butanol</th>\n",
              "      <th>425 %Al</th>\n",
              "      <th>TC55552</th>\n",
              "      <th>DI55102</th>\n",
              "      <th>FC55569</th>\n",
              "      <th>DI55152</th>\n",
              "      <th>FC55576</th>\n",
              "      <th>TI55017</th>\n",
              "      <th>FC42428</th>\n",
              "      <th>AYC55580</th>\n",
              "      <th>LC55555</th>\n",
              "      <th>TI55023</th>\n",
              "      <th>FFC55553</th>\n",
              "      <th>FC55555</th>\n",
              "      <th>FC55009</th>\n",
              "      <th>LC55557</th>\n",
              "      <th>LC55553</th>\n",
              "      <th>FC55003</th>\n",
              "      <th>FFC55555</th>\n",
              "    </tr>\n",
              "  </thead>\n",
              "  <tbody>\n",
              "    <tr>\n",
              "      <th>count</th>\n",
              "      <td>56692.000000</td>\n",
              "      <td>56692.000000</td>\n",
              "      <td>56692.000000</td>\n",
              "      <td>56692.000000</td>\n",
              "      <td>56692.000000</td>\n",
              "      <td>56692.000000</td>\n",
              "      <td>56692.000000</td>\n",
              "      <td>56692.000000</td>\n",
              "      <td>56692.000000</td>\n",
              "      <td>56692.000000</td>\n",
              "      <td>56692.000000</td>\n",
              "      <td>56692.000000</td>\n",
              "      <td>56692.000000</td>\n",
              "      <td>56692.000000</td>\n",
              "      <td>5.669200e+04</td>\n",
              "      <td>56692.000000</td>\n",
              "      <td>56692.000000</td>\n",
              "      <td>56692.000000</td>\n",
              "      <td>56692.000000</td>\n",
              "    </tr>\n",
              "    <tr>\n",
              "      <th>mean</th>\n",
              "      <td>10.159097</td>\n",
              "      <td>6.102568</td>\n",
              "      <td>167.848708</td>\n",
              "      <td>0.929183</td>\n",
              "      <td>6542.683482</td>\n",
              "      <td>0.948213</td>\n",
              "      <td>423.616848</td>\n",
              "      <td>186.704144</td>\n",
              "      <td>34949.282507</td>\n",
              "      <td>11.190763</td>\n",
              "      <td>59.583652</td>\n",
              "      <td>218.923414</td>\n",
              "      <td>0.983235</td>\n",
              "      <td>27838.228893</td>\n",
              "      <td>8.642095e+02</td>\n",
              "      <td>69.335227</td>\n",
              "      <td>63.743198</td>\n",
              "      <td>5943.587725</td>\n",
              "      <td>0.774375</td>\n",
              "    </tr>\n",
              "    <tr>\n",
              "      <th>std</th>\n",
              "      <td>10.766912</td>\n",
              "      <td>0.307167</td>\n",
              "      <td>15.014702</td>\n",
              "      <td>0.066439</td>\n",
              "      <td>380.329468</td>\n",
              "      <td>0.043248</td>\n",
              "      <td>260.435270</td>\n",
              "      <td>9.778964</td>\n",
              "      <td>5665.289174</td>\n",
              "      <td>4.140405</td>\n",
              "      <td>10.709861</td>\n",
              "      <td>4.063504</td>\n",
              "      <td>0.056070</td>\n",
              "      <td>3535.683915</td>\n",
              "      <td>5.951287e+02</td>\n",
              "      <td>3.271572</td>\n",
              "      <td>6.403442</td>\n",
              "      <td>836.963231</td>\n",
              "      <td>0.021944</td>\n",
              "    </tr>\n",
              "    <tr>\n",
              "      <th>min</th>\n",
              "      <td>0.010000</td>\n",
              "      <td>4.573810</td>\n",
              "      <td>119.869000</td>\n",
              "      <td>0.794535</td>\n",
              "      <td>5096.080000</td>\n",
              "      <td>0.820425</td>\n",
              "      <td>0.000548</td>\n",
              "      <td>159.702000</td>\n",
              "      <td>14573.800000</td>\n",
              "      <td>0.000862</td>\n",
              "      <td>27.970000</td>\n",
              "      <td>206.472000</td>\n",
              "      <td>0.265390</td>\n",
              "      <td>14214.900000</td>\n",
              "      <td>3.150000e-18</td>\n",
              "      <td>59.038000</td>\n",
              "      <td>43.548000</td>\n",
              "      <td>2925.430000</td>\n",
              "      <td>0.694477</td>\n",
              "    </tr>\n",
              "    <tr>\n",
              "      <th>25%</th>\n",
              "      <td>3.725195</td>\n",
              "      <td>5.969493</td>\n",
              "      <td>156.235000</td>\n",
              "      <td>0.889793</td>\n",
              "      <td>6295.522500</td>\n",
              "      <td>0.917749</td>\n",
              "      <td>244.604000</td>\n",
              "      <td>179.370000</td>\n",
              "      <td>31670.025000</td>\n",
              "      <td>9.382740</td>\n",
              "      <td>49.938100</td>\n",
              "      <td>215.731000</td>\n",
              "      <td>0.959998</td>\n",
              "      <td>26770.325000</td>\n",
              "      <td>4.091148e+02</td>\n",
              "      <td>66.227375</td>\n",
              "      <td>61.246825</td>\n",
              "      <td>5425.580000</td>\n",
              "      <td>0.759903</td>\n",
              "    </tr>\n",
              "    <tr>\n",
              "      <th>50%</th>\n",
              "      <td>5.920780</td>\n",
              "      <td>6.120565</td>\n",
              "      <td>170.625000</td>\n",
              "      <td>0.938533</td>\n",
              "      <td>6529.010000</td>\n",
              "      <td>0.942326</td>\n",
              "      <td>379.134000</td>\n",
              "      <td>185.770500</td>\n",
              "      <td>37037.650000</td>\n",
              "      <td>10.709550</td>\n",
              "      <td>61.884700</td>\n",
              "      <td>218.255500</td>\n",
              "      <td>0.988710</td>\n",
              "      <td>28947.000000</td>\n",
              "      <td>8.416325e+02</td>\n",
              "      <td>69.966300</td>\n",
              "      <td>65.277550</td>\n",
              "      <td>5963.340000</td>\n",
              "      <td>0.778141</td>\n",
              "    </tr>\n",
              "    <tr>\n",
              "      <th>75%</th>\n",
              "      <td>11.642100</td>\n",
              "      <td>6.267622</td>\n",
              "      <td>179.313000</td>\n",
              "      <td>0.979955</td>\n",
              "      <td>6767.337500</td>\n",
              "      <td>0.974824</td>\n",
              "      <td>617.744000</td>\n",
              "      <td>193.388250</td>\n",
              "      <td>39151.750000</td>\n",
              "      <td>12.928750</td>\n",
              "      <td>68.106400</td>\n",
              "      <td>221.765000</td>\n",
              "      <td>1.010652</td>\n",
              "      <td>30036.300000</td>\n",
              "      <td>1.317453e+03</td>\n",
              "      <td>71.768800</td>\n",
              "      <td>67.964225</td>\n",
              "      <td>6506.837500</td>\n",
              "      <td>0.789695</td>\n",
              "    </tr>\n",
              "    <tr>\n",
              "      <th>max</th>\n",
              "      <td>60.346700</td>\n",
              "      <td>7.571230</td>\n",
              "      <td>207.426000</td>\n",
              "      <td>1.068230</td>\n",
              "      <td>8014.950000</td>\n",
              "      <td>1.065410</td>\n",
              "      <td>1206.820000</td>\n",
              "      <td>212.051000</td>\n",
              "      <td>49372.900000</td>\n",
              "      <td>23.835600</td>\n",
              "      <td>85.261600</td>\n",
              "      <td>232.208000</td>\n",
              "      <td>1.475490</td>\n",
              "      <td>34638.100000</td>\n",
              "      <td>2.655410e+03</td>\n",
              "      <td>79.508200</td>\n",
              "      <td>82.753500</td>\n",
              "      <td>8973.580000</td>\n",
              "      <td>0.853283</td>\n",
              "    </tr>\n",
              "  </tbody>\n",
              "</table>\n",
              "</div>"
            ],
            "text/plain": [
              "            Butanol       425 %Al       TC55552       DI55102       FC55569  \\\n",
              "count  56692.000000  56692.000000  56692.000000  56692.000000  56692.000000   \n",
              "mean      10.159097      6.102568    167.848708      0.929183   6542.683482   \n",
              "std       10.766912      0.307167     15.014702      0.066439    380.329468   \n",
              "min        0.010000      4.573810    119.869000      0.794535   5096.080000   \n",
              "25%        3.725195      5.969493    156.235000      0.889793   6295.522500   \n",
              "50%        5.920780      6.120565    170.625000      0.938533   6529.010000   \n",
              "75%       11.642100      6.267622    179.313000      0.979955   6767.337500   \n",
              "max       60.346700      7.571230    207.426000      1.068230   8014.950000   \n",
              "\n",
              "            DI55152       FC55576       TI55017       FC42428      AYC55580  \\\n",
              "count  56692.000000  56692.000000  56692.000000  56692.000000  56692.000000   \n",
              "mean       0.948213    423.616848    186.704144  34949.282507     11.190763   \n",
              "std        0.043248    260.435270      9.778964   5665.289174      4.140405   \n",
              "min        0.820425      0.000548    159.702000  14573.800000      0.000862   \n",
              "25%        0.917749    244.604000    179.370000  31670.025000      9.382740   \n",
              "50%        0.942326    379.134000    185.770500  37037.650000     10.709550   \n",
              "75%        0.974824    617.744000    193.388250  39151.750000     12.928750   \n",
              "max        1.065410   1206.820000    212.051000  49372.900000     23.835600   \n",
              "\n",
              "            LC55555       TI55023      FFC55553       FC55555       FC55009  \\\n",
              "count  56692.000000  56692.000000  56692.000000  56692.000000  5.669200e+04   \n",
              "mean      59.583652    218.923414      0.983235  27838.228893  8.642095e+02   \n",
              "std       10.709861      4.063504      0.056070   3535.683915  5.951287e+02   \n",
              "min       27.970000    206.472000      0.265390  14214.900000  3.150000e-18   \n",
              "25%       49.938100    215.731000      0.959998  26770.325000  4.091148e+02   \n",
              "50%       61.884700    218.255500      0.988710  28947.000000  8.416325e+02   \n",
              "75%       68.106400    221.765000      1.010652  30036.300000  1.317453e+03   \n",
              "max       85.261600    232.208000      1.475490  34638.100000  2.655410e+03   \n",
              "\n",
              "            LC55557       LC55553       FC55003      FFC55555  \n",
              "count  56692.000000  56692.000000  56692.000000  56692.000000  \n",
              "mean      69.335227     63.743198   5943.587725      0.774375  \n",
              "std        3.271572      6.403442    836.963231      0.021944  \n",
              "min       59.038000     43.548000   2925.430000      0.694477  \n",
              "25%       66.227375     61.246825   5425.580000      0.759903  \n",
              "50%       69.966300     65.277550   5963.340000      0.778141  \n",
              "75%       71.768800     67.964225   6506.837500      0.789695  \n",
              "max       79.508200     82.753500   8973.580000      0.853283  "
            ]
          },
          "execution_count": 103,
          "metadata": {},
          "output_type": "execute_result"
        }
      ],
      "source": [
        "df_CDFS.describe()"
      ]
    },
    {
      "cell_type": "code",
      "execution_count": 104,
      "metadata": {},
      "outputs": [
        {
          "name": "stdout",
          "output_type": "stream",
          "text": [
            "19\n"
          ]
        }
      ],
      "source": [
        "column_counts = df_CDFS.columns.value_counts()\n",
        "total_counts = column_counts.sum()\n",
        "print(total_counts)"
      ]
    },
    {
      "cell_type": "code",
      "execution_count": 105,
      "metadata": {},
      "outputs": [],
      "source": [
        "\n",
        "# # List of columns to exclude to run XGboost feature selection\n",
        "# exclude_columns = [\"Date\", \"Decanol\"]\n",
        "\n",
        "# # Temporarily save the excluded columns\n",
        "# temp_exclude = df_CDFS1[exclude_columns]\n",
        "\n",
        "# # Create a new DataFrame without the excluded columnsd\n",
        "# df_CDFS = df_CDFS1.drop(columns=exclude_columns)\n",
        "\n"
      ]
    },
    {
      "cell_type": "code",
      "execution_count": 106,
      "metadata": {},
      "outputs": [],
      "source": [
        "# # List of columns to exclude\n",
        "# columns_to_exclude = [\n",
        "#     'FC52018_1dAvg', 'FC55003_1dAvg', 'FC55009_1dAvg', 'FC55102_1dAvg',\n",
        "#     'FC55152_1dAvg', 'FC55552_1dAvg', 'FC55569_1dAvg', 'FC55576_1dAvg',\n",
        "#     'FFC55553_1dAvg', 'FFC55555_1dAvg', 'FYC55553_1dAvg', 'LC52572_1dAvg',\n",
        "#     'LC55553_1dAvg', 'LC55555_1dAvg', 'LC55557_1dAvg', 'LC55568_1dAvg',\n",
        "#     'LC90366_1dAvg', 'LC90368_1dAvg', 'TC52015_1dAvg', 'TC55552_1dAvg',\n",
        "#     'TC55553_1dAvg', 'TC55555_1dAvg', 'TC55566_1dAvg', 'TI40050_1dAvg',\n",
        "#     'PI55004_1dAvg', 'PI55020_1dAvg', 'TI52014_1dAvg', 'VI52558B_1dAvg',\n",
        "#     'PI55004', 'PI55020', 'PI55560', 'TI40050', 'FC55009'\n",
        "# ]\n",
        "\n",
        "# # Filter columns based on exclusion list\n",
        "# columns_to_include = [col for col in df_CDFS_noStr.columns if col not in columns_to_exclude]\n",
        "\n",
        "# # Create a new DataFrame with included columns\n",
        "# df_CDFS_noAvg = df_CDFS_noStr[columns_to_include]\n",
        "\n",
        "# # Print descriptive statistics for df_CDFS\n",
        "# print(df_CDFS_noAvg.describe())\n",
        "\n"
      ]
    },
    {
      "cell_type": "code",
      "execution_count": 107,
      "metadata": {},
      "outputs": [],
      "source": [
        "# print(df_CDFS_noAvg.columns)\n",
        "\n",
        "# # Save DataFrame to CSV file in the same directory as the Jupyter Notebook\n",
        "# df_CDFS_noAvg.to_csv('df_CDFS_noAvg.csv', index=False)\n"
      ]
    },
    {
      "cell_type": "code",
      "execution_count": 108,
      "metadata": {},
      "outputs": [],
      "source": [
        "X = df_CDFS.drop('Butanol', axis=1)  # Replace 'target' with the actual name of your target column\n",
        "y = df_CDFS['Butanol']  # Replace 'target' with the actual name of your target column\n"
      ]
    },
    {
      "cell_type": "code",
      "execution_count": 109,
      "metadata": {},
      "outputs": [],
      "source": [
        "X_train, X_test, y_train, y_test = train_test_split(X, y, test_size=0.2, random_state=42)\n"
      ]
    },
    {
      "cell_type": "code",
      "execution_count": 110,
      "metadata": {},
      "outputs": [
        {
          "data": {
            "text/html": [
              "<style>#sk-container-id-6 {color: black;background-color: white;}#sk-container-id-6 pre{padding: 0;}#sk-container-id-6 div.sk-toggleable {background-color: white;}#sk-container-id-6 label.sk-toggleable__label {cursor: pointer;display: block;width: 100%;margin-bottom: 0;padding: 0.3em;box-sizing: border-box;text-align: center;}#sk-container-id-6 label.sk-toggleable__label-arrow:before {content: \"▸\";float: left;margin-right: 0.25em;color: #696969;}#sk-container-id-6 label.sk-toggleable__label-arrow:hover:before {color: black;}#sk-container-id-6 div.sk-estimator:hover label.sk-toggleable__label-arrow:before {color: black;}#sk-container-id-6 div.sk-toggleable__content {max-height: 0;max-width: 0;overflow: hidden;text-align: left;background-color: #f0f8ff;}#sk-container-id-6 div.sk-toggleable__content pre {margin: 0.2em;color: black;border-radius: 0.25em;background-color: #f0f8ff;}#sk-container-id-6 input.sk-toggleable__control:checked~div.sk-toggleable__content {max-height: 200px;max-width: 100%;overflow: auto;}#sk-container-id-6 input.sk-toggleable__control:checked~label.sk-toggleable__label-arrow:before {content: \"▾\";}#sk-container-id-6 div.sk-estimator input.sk-toggleable__control:checked~label.sk-toggleable__label {background-color: #d4ebff;}#sk-container-id-6 div.sk-label input.sk-toggleable__control:checked~label.sk-toggleable__label {background-color: #d4ebff;}#sk-container-id-6 input.sk-hidden--visually {border: 0;clip: rect(1px 1px 1px 1px);clip: rect(1px, 1px, 1px, 1px);height: 1px;margin: -1px;overflow: hidden;padding: 0;position: absolute;width: 1px;}#sk-container-id-6 div.sk-estimator {font-family: monospace;background-color: #f0f8ff;border: 1px dotted black;border-radius: 0.25em;box-sizing: border-box;margin-bottom: 0.5em;}#sk-container-id-6 div.sk-estimator:hover {background-color: #d4ebff;}#sk-container-id-6 div.sk-parallel-item::after {content: \"\";width: 100%;border-bottom: 1px solid gray;flex-grow: 1;}#sk-container-id-6 div.sk-label:hover label.sk-toggleable__label {background-color: #d4ebff;}#sk-container-id-6 div.sk-serial::before {content: \"\";position: absolute;border-left: 1px solid gray;box-sizing: border-box;top: 0;bottom: 0;left: 50%;z-index: 0;}#sk-container-id-6 div.sk-serial {display: flex;flex-direction: column;align-items: center;background-color: white;padding-right: 0.2em;padding-left: 0.2em;position: relative;}#sk-container-id-6 div.sk-item {position: relative;z-index: 1;}#sk-container-id-6 div.sk-parallel {display: flex;align-items: stretch;justify-content: center;background-color: white;position: relative;}#sk-container-id-6 div.sk-item::before, #sk-container-id-6 div.sk-parallel-item::before {content: \"\";position: absolute;border-left: 1px solid gray;box-sizing: border-box;top: 0;bottom: 0;left: 50%;z-index: -1;}#sk-container-id-6 div.sk-parallel-item {display: flex;flex-direction: column;z-index: 1;position: relative;background-color: white;}#sk-container-id-6 div.sk-parallel-item:first-child::after {align-self: flex-end;width: 50%;}#sk-container-id-6 div.sk-parallel-item:last-child::after {align-self: flex-start;width: 50%;}#sk-container-id-6 div.sk-parallel-item:only-child::after {width: 0;}#sk-container-id-6 div.sk-dashed-wrapped {border: 1px dashed gray;margin: 0 0.4em 0.5em 0.4em;box-sizing: border-box;padding-bottom: 0.4em;background-color: white;}#sk-container-id-6 div.sk-label label {font-family: monospace;font-weight: bold;display: inline-block;line-height: 1.2em;}#sk-container-id-6 div.sk-label-container {text-align: center;}#sk-container-id-6 div.sk-container {/* jupyter's `normalize.less` sets `[hidden] { display: none; }` but bootstrap.min.css set `[hidden] { display: none !important; }` so we also need the `!important` here to be able to override the default hidden behavior on the sphinx rendered scikit-learn.org. See: https://github.com/scikit-learn/scikit-learn/issues/21755 */display: inline-block !important;position: relative;}#sk-container-id-6 div.sk-text-repr-fallback {display: none;}</style><div id=\"sk-container-id-6\" class=\"sk-top-container\"><div class=\"sk-text-repr-fallback\"><pre>XGBRegressor(base_score=None, booster=None, callbacks=None,\n",
              "             colsample_bylevel=None, colsample_bynode=None,\n",
              "             colsample_bytree=None, device=None, early_stopping_rounds=None,\n",
              "             enable_categorical=False, eval_metric=None, feature_types=None,\n",
              "             gamma=None, grow_policy=None, importance_type=None,\n",
              "             interaction_constraints=None, learning_rate=None, max_bin=None,\n",
              "             max_cat_threshold=None, max_cat_to_onehot=None,\n",
              "             max_delta_step=None, max_depth=None, max_leaves=None,\n",
              "             min_child_weight=None, missing=nan, monotone_constraints=None,\n",
              "             multi_strategy=None, n_estimators=None, n_jobs=None,\n",
              "             num_parallel_tree=None, random_state=None, ...)</pre><b>In a Jupyter environment, please rerun this cell to show the HTML representation or trust the notebook. <br />On GitHub, the HTML representation is unable to render, please try loading this page with nbviewer.org.</b></div><div class=\"sk-container\" hidden><div class=\"sk-item\"><div class=\"sk-estimator sk-toggleable\"><input class=\"sk-toggleable__control sk-hidden--visually\" id=\"sk-estimator-id-6\" type=\"checkbox\" checked><label for=\"sk-estimator-id-6\" class=\"sk-toggleable__label sk-toggleable__label-arrow\">XGBRegressor</label><div class=\"sk-toggleable__content\"><pre>XGBRegressor(base_score=None, booster=None, callbacks=None,\n",
              "             colsample_bylevel=None, colsample_bynode=None,\n",
              "             colsample_bytree=None, device=None, early_stopping_rounds=None,\n",
              "             enable_categorical=False, eval_metric=None, feature_types=None,\n",
              "             gamma=None, grow_policy=None, importance_type=None,\n",
              "             interaction_constraints=None, learning_rate=None, max_bin=None,\n",
              "             max_cat_threshold=None, max_cat_to_onehot=None,\n",
              "             max_delta_step=None, max_depth=None, max_leaves=None,\n",
              "             min_child_weight=None, missing=nan, monotone_constraints=None,\n",
              "             multi_strategy=None, n_estimators=None, n_jobs=None,\n",
              "             num_parallel_tree=None, random_state=None, ...)</pre></div></div></div></div></div>"
            ],
            "text/plain": [
              "XGBRegressor(base_score=None, booster=None, callbacks=None,\n",
              "             colsample_bylevel=None, colsample_bynode=None,\n",
              "             colsample_bytree=None, device=None, early_stopping_rounds=None,\n",
              "             enable_categorical=False, eval_metric=None, feature_types=None,\n",
              "             gamma=None, grow_policy=None, importance_type=None,\n",
              "             interaction_constraints=None, learning_rate=None, max_bin=None,\n",
              "             max_cat_threshold=None, max_cat_to_onehot=None,\n",
              "             max_delta_step=None, max_depth=None, max_leaves=None,\n",
              "             min_child_weight=None, missing=nan, monotone_constraints=None,\n",
              "             multi_strategy=None, n_estimators=None, n_jobs=None,\n",
              "             num_parallel_tree=None, random_state=None, ...)"
            ]
          },
          "execution_count": 110,
          "metadata": {},
          "output_type": "execute_result"
        }
      ],
      "source": [
        "model = xgb.XGBRegressor(objective ='reg:squarederror')\n",
        "model.fit(X_train, y_train)\n"
      ]
    },
    {
      "cell_type": "code",
      "execution_count": 111,
      "metadata": {},
      "outputs": [
        {
          "name": "stdout",
          "output_type": "stream",
          "text": [
            "Mean Squared Error: 30.921767569041588\n"
          ]
        }
      ],
      "source": [
        "y_pred = model.predict(X_test)\n",
        "mse = mean_squared_error(y_test, y_pred)\n",
        "print(f\"Mean Squared Error: {mse}\")\n",
        "\n"
      ]
    },
    {
      "cell_type": "code",
      "execution_count": 112,
      "metadata": {},
      "outputs": [
        {
          "data": {
            "image/png": "[encoded data removed]",
            "text/plain": [
              "<Figure size 640x480 with 1 Axes>"
            ]
          },
          "metadata": {},
          "output_type": "display_data"
        }
      ],
      "source": [
        "xgb.plot_importance(model)\n",
        "plt.title(\"XGBoost Feature Importance\")\n",
        "plt.show()\n"
      ]
    },
    {
      "cell_type": "code",
      "execution_count": 113,
      "metadata": {},
      "outputs": [],
      "source": [
        "\n",
        "# Extract feature importances from the model\n",
        "feature_importances = model.get_booster().get_score(importance_type=\"weight\")\n",
        "\n",
        "# Convert the dictionary to a DataFrame and sort by importance\n",
        "df_importance = pd.DataFrame(list(feature_importances.items()), columns=['Feature', 'Importance']).sort_values(by='Importance', ascending=False)\n",
        "\n",
        "\n",
        "\n",
        "df_importance.to_csv('FScore_on_Butanol.csv', index=False)"
      ]
    },
    {
      "cell_type": "code",
      "execution_count": 114,
      "metadata": {},
      "outputs": [
        {
          "name": "stdout",
          "output_type": "stream",
          "text": [
            "Number of rows: 18\n"
          ]
        }
      ],
      "source": [
        "num_columns = df_importance.shape[0]\n",
        "print(\"Number of rows:\", num_columns)"
      ]
    },
    {
      "cell_type": "code",
      "execution_count": 115,
      "metadata": {},
      "outputs": [
        {
          "data": {
            "text/html": [
              "<div>\n",
              "<style scoped>\n",
              "    .dataframe tbody tr th:only-of-type {\n",
              "        vertical-align: middle;\n",
              "    }\n",
              "\n",
              "    .dataframe tbody tr th {\n",
              "        vertical-align: top;\n",
              "    }\n",
              "\n",
              "    .dataframe thead th {\n",
              "        text-align: right;\n",
              "    }\n",
              "</style>\n",
              "<table border=\"1\" class=\"dataframe\">\n",
              "  <thead>\n",
              "    <tr style=\"text-align: right;\">\n",
              "      <th></th>\n",
              "      <th>Feature</th>\n",
              "      <th>Importance</th>\n",
              "    </tr>\n",
              "  </thead>\n",
              "  <tbody>\n",
              "    <tr>\n",
              "      <th>0</th>\n",
              "      <td>425 %Al</td>\n",
              "      <td>596.0</td>\n",
              "    </tr>\n",
              "    <tr>\n",
              "      <th>1</th>\n",
              "      <td>TC55552</td>\n",
              "      <td>471.0</td>\n",
              "    </tr>\n",
              "    <tr>\n",
              "      <th>2</th>\n",
              "      <td>DI55102</td>\n",
              "      <td>374.0</td>\n",
              "    </tr>\n",
              "    <tr>\n",
              "      <th>3</th>\n",
              "      <td>FC55569</td>\n",
              "      <td>371.0</td>\n",
              "    </tr>\n",
              "    <tr>\n",
              "      <th>6</th>\n",
              "      <td>TI55017</td>\n",
              "      <td>326.0</td>\n",
              "    </tr>\n",
              "    <tr>\n",
              "      <th>8</th>\n",
              "      <td>AYC55580</td>\n",
              "      <td>309.0</td>\n",
              "    </tr>\n",
              "    <tr>\n",
              "      <th>4</th>\n",
              "      <td>DI55152</td>\n",
              "      <td>308.0</td>\n",
              "    </tr>\n",
              "    <tr>\n",
              "      <th>5</th>\n",
              "      <td>FC55576</td>\n",
              "      <td>300.0</td>\n",
              "    </tr>\n",
              "    <tr>\n",
              "      <th>10</th>\n",
              "      <td>TI55023</td>\n",
              "      <td>263.0</td>\n",
              "    </tr>\n",
              "    <tr>\n",
              "      <th>12</th>\n",
              "      <td>FC55555</td>\n",
              "      <td>262.0</td>\n",
              "    </tr>\n",
              "    <tr>\n",
              "      <th>7</th>\n",
              "      <td>FC42428</td>\n",
              "      <td>258.0</td>\n",
              "    </tr>\n",
              "    <tr>\n",
              "      <th>11</th>\n",
              "      <td>FFC55553</td>\n",
              "      <td>253.0</td>\n",
              "    </tr>\n",
              "    <tr>\n",
              "      <th>9</th>\n",
              "      <td>LC55555</td>\n",
              "      <td>227.0</td>\n",
              "    </tr>\n",
              "    <tr>\n",
              "      <th>13</th>\n",
              "      <td>FC55009</td>\n",
              "      <td>219.0</td>\n",
              "    </tr>\n",
              "    <tr>\n",
              "      <th>15</th>\n",
              "      <td>LC55553</td>\n",
              "      <td>203.0</td>\n",
              "    </tr>\n",
              "    <tr>\n",
              "      <th>14</th>\n",
              "      <td>LC55557</td>\n",
              "      <td>199.0</td>\n",
              "    </tr>\n",
              "    <tr>\n",
              "      <th>16</th>\n",
              "      <td>FC55003</td>\n",
              "      <td>173.0</td>\n",
              "    </tr>\n",
              "    <tr>\n",
              "      <th>17</th>\n",
              "      <td>FFC55555</td>\n",
              "      <td>145.0</td>\n",
              "    </tr>\n",
              "  </tbody>\n",
              "</table>\n",
              "</div>"
            ],
            "text/plain": [
              "     Feature  Importance\n",
              "0    425 %Al       596.0\n",
              "1    TC55552       471.0\n",
              "2    DI55102       374.0\n",
              "3    FC55569       371.0\n",
              "6    TI55017       326.0\n",
              "8   AYC55580       309.0\n",
              "4    DI55152       308.0\n",
              "5    FC55576       300.0\n",
              "10   TI55023       263.0\n",
              "12   FC55555       262.0\n",
              "7    FC42428       258.0\n",
              "11  FFC55553       253.0\n",
              "9    LC55555       227.0\n",
              "13   FC55009       219.0\n",
              "15   LC55553       203.0\n",
              "14   LC55557       199.0\n",
              "16   FC55003       173.0\n",
              "17  FFC55555       145.0"
            ]
          },
          "execution_count": 115,
          "metadata": {},
          "output_type": "execute_result"
        }
      ],
      "source": [
        "# Display the DataFrame\n",
        "df_importance"
      ]
    },
    {
      "cell_type": "code",
      "execution_count": 117,
      "metadata": {},
      "outputs": [],
      "source": [
        "# # Extract the feature names you want to keep from df_importance\n",
        "# features_to_keep = df_importance['Feature'].tolist()\n",
        "\n",
        "# # Filter df_CDFS using these features\n",
        "# df_CDFS = df_CDFS[features_to_keep]\n",
        "\n",
        "# # Add back the excluded columns to df_CDFS\n",
        "# df_CDFS = pd.concat([y, df_CDFS, temp_exclude], axis=1)"
      ]
    },
    {
      "cell_type": "code",
      "execution_count": 118,
      "metadata": {},
      "outputs": [
        {
          "name": "stdout",
          "output_type": "stream",
          "text": [
            "Removing columns with importance values below 100...\n",
            "Columns dropped due to low importance: \n",
            "Total number of columns dropped: 0\n",
            "Filtered data saved to 'filtered_FScore_on_Butanol.csv'\n"
          ]
        }
      ],
      "source": [
        "# Extract feature importances from the model\n",
        "feature_importances = model.get_booster().get_score(importance_type=\"weight\")\n",
        "\n",
        "# Convert the dictionary to a DataFrame and sort by importance\n",
        "df_importance = pd.DataFrame(list(feature_importances.items()), columns=['Feature', 'Importance']).sort_values(by='Importance', ascending=False)\n",
        "\n",
        "# Capture all the feature names before filtering\n",
        "all_features = set(df_importance['Feature'])\n",
        "\n",
        "# Define a threshold for feature importance\n",
        "threshold = 100  # Adjust this threshold as needed\n",
        "\n",
        "# Prompt to remove columns with importance values below the threshold\n",
        "print(f\"Removing columns with importance values below {threshold}...\")\n",
        "\n",
        "# Filter the DataFrame to keep only columns with importance values above the threshold\n",
        "df_importance = df_importance[df_importance['Importance'] >= threshold]\n",
        "\n",
        "# Capture the feature names after filtering\n",
        "remaining_features = set(df_importance['Feature'])\n",
        "\n",
        "# Find the features that were dropped\n",
        "dropped_features = all_features - remaining_features\n",
        "\n",
        "# Print the dropped features\n",
        "print(f\"Columns dropped due to low importance: {', '.join(dropped_features)}\")\n",
        "print(f\"Total number of columns dropped: {len(dropped_features)}\")\n",
        "\n",
        "# Save the filtered DataFrame to a CSV file\n",
        "df_importance.to_csv('filtered_FScore_on_Butanol.csv', index=False)\n",
        "\n",
        "print(\"Filtered data saved to 'filtered_FScore_on_Butanol.csv'\")\n"
      ]
    },
    {
      "cell_type": "markdown",
      "metadata": {},
      "source": [
        "# REPLACE NECESSARY FEATURES"
      ]
    },
    {
      "cell_type": "code",
      "execution_count": null,
      "metadata": {},
      "outputs": [],
      "source": [
        "# # Check if 'FFC5555' is missing in df_CDFS columns\n",
        "# if 'FFC5555' not in df_CDFS.columns:\n",
        "#     # Add the 'FFC5555' column from df_CDFS1 to df_CDFS\n",
        "#     df_CDFS['FFC5555'] = df_CDFS1['FC55555']\n"
      ]
    },
    {
      "cell_type": "code",
      "execution_count": null,
      "metadata": {},
      "outputs": [],
      "source": [
        "# Saving only the column names of df_CDFS to a .csv file\n",
        "with open('df_CDFSI_columns.csv', 'w') as file:\n",
        "    for column in df_CDFS.columns:\n",
        "        file.write(f\"{column}\\n\")\n"
      ]
    },
    {
      "cell_type": "code",
      "execution_count": 119,
      "metadata": {},
      "outputs": [
        {
          "name": "stdout",
          "output_type": "stream",
          "text": [
            "18\n",
            "18\n"
          ]
        }
      ],
      "source": [
        "column_counts = df_CDFS.columns.value_counts()\n",
        "total_counts = column_counts.sum()\n",
        "print(total_counts)\n",
        "\n",
        "column_counts = df_CDFS.columns.value_counts()\n",
        "total_counts = column_counts.sum()\n",
        "print(total_counts)\n"
      ]
    }
  ],
  "metadata": {
    "kernelspec": {
      "display_name": "base",
      "language": "python",
      "name": "python3"
    },
    "language_info": {
      "codemirror_mode": {
        "name": "ipython",
        "version": 3
      },
      "file_extension": ".py",
      "mimetype": "text/x-python",
      "name": "python",
      "nbconvert_exporter": "python",
      "pygments_lexer": "ipython3",
      "version": "3.10.9"
    }
  },
  "nbformat": 4,
  "nbformat_minor": 4
}
