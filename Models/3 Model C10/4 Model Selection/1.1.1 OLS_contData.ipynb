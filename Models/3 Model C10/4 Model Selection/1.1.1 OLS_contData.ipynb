{
  "cells": [
    {
      "cell_type": "code",
      "execution_count": 1,
      "metadata": {
        "tags": [],
        "trusted": true
      },
      "outputs": [],
      "source": [
        "# Import necessary libraries\n",
        "import pandas as pd\n",
        "from statsmodels.formula.api import ols\n",
        "import statsmodels.api as sm\n",
        "from sklearn.model_selection import train_test_split"
      ]
    },
    {
      "cell_type": "code",
      "execution_count": 2,
      "metadata": {},
      "outputs": [],
      "source": [
        "# url_df_All_1 = 'https://github.com/saust1/Project-OptiC4/blob/e358d5172ac0b8fbb6fba776c0fe0a2b523b8b5c/3%20Feature%20Selection/contData_all_Avg%20-%201o2.csv?raw=true'\n",
        "# url_df_All_2 = 'https://github.com/saust1/Project-OptiC4/blob/e358d5172ac0b8fbb6fba776c0fe0a2b523b8b5c/3%20Feature%20Selection/contData_all_Avg%20-%202o2.csv?raw=true'\n",
        "\n",
        "# df_All_1 = pd.read_csv(url_df_All_1, index_col=0)\n",
        "# df_All_2 = pd.read_csv(url_df_All_2, index_col=0)"
      ]
    },
    {
      "cell_type": "code",
      "execution_count": 3,
      "metadata": {},
      "outputs": [
        {
          "name": "stdout",
          "output_type": "stream",
          "text": [
            "    425 %Al    Butanol   Decanol    Ethanol   Hexanol   Octanol   AYC55580  \\\n",
            "0  6.319560  30.366200  1.030260  88.289900  1.365840  1.492120  18.297300   \n",
            "1  6.319915  30.678500  1.063260  89.685450  1.397135  1.548230  18.040650   \n",
            "2  6.328340  32.399333  1.647950  88.677200  1.994413  2.454430  16.637633   \n",
            "3  6.336760  32.845950  1.928805  87.080875  2.288335  2.897523  15.779400   \n",
            "4  6.337460  33.387025  2.352595  84.489175  2.734682  3.571185  15.199680   \n",
            "\n",
            "    DI55102   DI55152   DI55580  ...    TI40050   TI52014     TI55013  \\\n",
            "0  0.963347  0.924879  1.017340  ...  81.156900  131.0990  236.672000   \n",
            "1  0.965043  0.924515  1.014885  ...  82.965650  132.3490  230.501000   \n",
            "2  0.968107  0.929955  1.015593  ...  82.461167  133.0350  223.885667   \n",
            "3  0.969573  0.932388  1.014703  ...  83.676300  134.0690  219.719750   \n",
            "4  0.971022  0.934531  1.014094  ...  85.328040  134.8424  217.253200   \n",
            "\n",
            "      TI55014     TI55015   TI55016    TI55017  TI55021     TI55023  VI52558B  \n",
            "0  223.704000  216.905000  207.7370  205.81700  213.813  212.301000  4.969810  \n",
            "1  220.794000  216.033500  207.2460  205.70300  213.874  212.308500  4.616265  \n",
            "2  214.879667  209.812667  202.7230  201.16400  214.433  212.926667  4.741457  \n",
            "3  211.567250  206.503250  200.5075  199.00025  214.639  213.051250  4.436797  \n",
            "4  209.326600  204.214800  198.6922  197.25440  214.733  213.071400  4.304762  \n",
            "\n",
            "[5 rows x 49 columns]\n"
          ]
        }
      ],
      "source": [
        "\n",
        "df_All_1 = pd.read_csv(r'C:\\Users\\saust\\OneDrive\\Desktop\\GitRepo\\Project-OptiC4\\3 Feature Selection\\contData_all_Avg - 1o2.csv')\n",
        "df_All_2 = pd.read_csv(r'C:\\Users\\saust\\OneDrive\\Desktop\\GitRepo\\Project-OptiC4\\3 Feature Selection\\contData_all_Avg - 2o2.csv')\n",
        "# Concatenate (union) the dataframes\n",
        "df_All = pd.concat([df_All_1, df_All_2], ignore_index=True)\n",
        "\n",
        "print(df_All.head())"
      ]
    },
    {
      "cell_type": "code",
      "execution_count": 4,
      "metadata": {},
      "outputs": [
        {
          "data": {
            "text/plain": [
              "Index(['425 %Al', 'Butanol', 'Decanol', 'Ethanol', 'Hexanol', 'Octanol',\n",
              "       'AYC55580', 'DI55102', 'DI55152', 'DI55580', 'FC42428', 'FC52018',\n",
              "       'FC55003', 'FC55009', 'FC55102', 'FC55152', 'FC55552', 'FC55555',\n",
              "       'FC55569', 'FC55576', 'FFC55553', 'FFC55555', 'FYC55553', 'II52554',\n",
              "       'LC52572', 'LC55553', 'LC55555', 'LC55557', 'LC55568', 'LC90366',\n",
              "       'LC90368', 'PI55004', 'PI55020', 'PI55560', 'TC52015', 'TC55552',\n",
              "       'TC55553', 'TC55555', 'TC55566', 'TI40050', 'TI52014', 'TI55013',\n",
              "       'TI55014', 'TI55015', 'TI55016', 'TI55017', 'TI55021', 'TI55023',\n",
              "       'VI52558B'],\n",
              "      dtype='object')"
            ]
          },
          "execution_count": 4,
          "metadata": {},
          "output_type": "execute_result"
        }
      ],
      "source": [
        "df_All.columns"
      ]
    },
    {
      "cell_type": "code",
      "execution_count": 5,
      "metadata": {
        "trusted": true
      },
      "outputs": [],
      "source": [
        "# Set max columns to display\n",
        "pd.set_option('display.max_columns', None)"
      ]
    },
    {
      "cell_type": "code",
      "execution_count": 6,
      "metadata": {},
      "outputs": [],
      "source": [
        "# # List of columns to exclude to run XGboost feature selection\n",
        "# exclude_columns = ['Octanol', 'Hexanol', 'Ethanol', 'Decanol',\n",
        "       \n",
        "#        'TI52014', 'TI55013', 'TI55014', 'TI55015', 'TI55016', 'TI55017', 'TI55021', 'TI55023',\n",
        "#        'TC52015', 'FC52018', 'II52554', 'TI40050', 'VI52558B'\n",
        "#                    ]\n",
        "\n",
        "# # Create a new DataFrame without the excluded columnsd\n",
        "# df_All = df_All.drop(columns=exclude_columns)"
      ]
    },
    {
      "cell_type": "code",
      "execution_count": 7,
      "metadata": {},
      "outputs": [],
      "source": [
        "# df_All = df_All[df_All['Date'] > '2022-06-15 00:00:00']"
      ]
    },
    {
      "cell_type": "markdown",
      "metadata": {},
      "source": [
        "# Remaining Features after Correlation Analysis"
      ]
    },
    {
      "cell_type": "code",
      "execution_count": 8,
      "metadata": {},
      "outputs": [],
      "source": [
        "\n",
        "selected_columns = ['Butanol', \n",
        "                    'FC55569',\n",
        "                    'DI55152',\n",
        "                    '425 %Al',\n",
        "                    'TC55552',\n",
        "                    'FC55003',\n",
        "                    'LC55555',\n",
        "                    'FFC55553',\n",
        "                    'FFC55555',\n",
        "                    'TC55555',\n",
        "                    'TI55021',\n",
        "                    'PI55004',\n",
        "                    'FC55552'\n",
        "                    ]\n",
        "existing_columns = [col for col in selected_columns if col in df_All.columns]\n",
        "df_All = df_All[existing_columns]"
      ]
    },
    {
      "cell_type": "code",
      "execution_count": 9,
      "metadata": {},
      "outputs": [],
      "source": [
        "# First Iteration\n",
        "# selected_columns = ['Butanol PPM', '425 SAO Al', 'FC42428', 'FC55003', 'FC55102', 'FC55152', 'FFC55555',\n",
        "#        'LC55553', 'LC55557', 'LC55568', 'LC90366', 'TC55555']\n",
        "\n",
        "\n"
      ]
    },
    {
      "cell_type": "code",
      "execution_count": 10,
      "metadata": {},
      "outputs": [
        {
          "data": {
            "text/plain": [
              "Index(['Butanol', 'FC55569', 'DI55152', '425 %Al', 'TC55552', 'FC55003',\n",
              "       'LC55555', 'FFC55553', 'FFC55555', 'TC55555', 'TI55021', 'PI55004',\n",
              "       'FC55552'],\n",
              "      dtype='object')"
            ]
          },
          "execution_count": 10,
          "metadata": {},
          "output_type": "execute_result"
        }
      ],
      "source": [
        "df_All.columns"
      ]
    },
    {
      "cell_type": "code",
      "execution_count": 11,
      "metadata": {},
      "outputs": [],
      "source": [
        "# Splitting into train and test\n",
        "X = df_All.drop('Butanol', axis=1)  # Assuming 'target' is your target column\n",
        "y = df_All['Butanol']\n",
        "X_train, X_test, y_train, y_test = train_test_split(X, y, test_size=0.2, random_state=42)"
      ]
    },
    {
      "cell_type": "code",
      "execution_count": 12,
      "metadata": {},
      "outputs": [
        {
          "name": "stdout",
          "output_type": "stream",
          "text": [
            "                                 OLS Regression Results                                \n",
            "=======================================================================================\n",
            "Dep. Variable:                Butanol   R-squared (uncentered):                   0.571\n",
            "Model:                            OLS   Adj. R-squared (uncentered):              0.571\n",
            "Method:                 Least Squares   F-statistic:                              5463.\n",
            "Date:                Sat, 02 Dec 2023   Prob (F-statistic):                        0.00\n",
            "Time:                        16:18:04   Log-Likelihood:                     -1.7345e+05\n",
            "No. Observations:               49239   AIC:                                  3.469e+05\n",
            "Df Residuals:                   49227   BIC:                                  3.470e+05\n",
            "Df Model:                          12                                                  \n",
            "Covariance Type:            nonrobust                                                  \n",
            "==============================================================================\n",
            "                 coef    std err          t      P>|t|      [0.025      0.975]\n",
            "------------------------------------------------------------------------------\n",
            "FC55569       -0.0043      0.000    -38.342      0.000      -0.005      -0.004\n",
            "DI55152        1.2161      1.172      1.038      0.299      -1.080       3.512\n",
            "425 %Al       -1.1250      0.143     -7.874      0.000      -1.405      -0.845\n",
            "TC55552        0.0295      0.003     11.474      0.000       0.024       0.035\n",
            "FC55003       -0.0005   5.16e-05    -10.314      0.000      -0.001      -0.000\n",
            "LC55555        0.1073      0.004     25.585      0.000       0.099       0.115\n",
            "FFC55553      24.3331      1.022     23.819      0.000      22.331      26.335\n",
            "FFC55555     -63.7459      1.756    -36.303      0.000     -67.188     -60.304\n",
            "TC55555        0.3832      0.012     30.821      0.000       0.359       0.408\n",
            "TI55021       -0.1146      0.005    -22.769      0.000      -0.124      -0.105\n",
            "PI55004       -0.2403      0.035     -6.774      0.000      -0.310      -0.171\n",
            "FC55552        0.0005      1e-05     46.957      0.000       0.000       0.000\n",
            "==============================================================================\n",
            "Omnibus:                    23106.578   Durbin-Watson:                   0.036\n",
            "Prob(Omnibus):                  0.000   Jarque-Bera (JB):           117556.563\n",
            "Skew:                           2.298   Prob(JB):                         0.00\n",
            "Kurtosis:                       9.015   Cond. No.                     1.88e+06\n",
            "==============================================================================\n",
            "\n",
            "Notes:\n",
            "[1] R² is computed without centering (uncentered) since the model does not contain a constant.\n",
            "[2] Standard Errors assume that the covariance matrix of the errors is correctly specified.\n",
            "[3] The condition number is large, 1.88e+06. This might indicate that there are\n",
            "strong multicollinearity or other numerical problems.\n"
          ]
        }
      ],
      "source": [
        "#=============================================\n",
        "# TRAIN & EVALUATE REGRESSION MODEL\n",
        "#=============================================\n",
        "\n",
        "#fit simple linear regression model\n",
        "model = sm.OLS(y, X).fit()\n",
        "print(model.summary())"
      ]
    },
    {
      "cell_type": "code",
      "execution_count": 13,
      "metadata": {},
      "outputs": [
        {
          "name": "stdout",
          "output_type": "stream",
          "text": [
            "['DI55152']\n"
          ]
        }
      ],
      "source": [
        "# Convert summary to DataFrame\n",
        "summary_table = model.summary().tables[1]\n",
        "summary_df = pd.DataFrame(summary_table.data[1:], columns=summary_table.data[0])\n",
        "\n",
        "# Convert necessary columns to numeric\n",
        "numeric_cols = ['coef', 'std err', 't', 'P>|t|', '[0.025', '0.975]']\n",
        "summary_df[numeric_cols] = summary_df[numeric_cols].apply(pd.to_numeric, errors='coerce')\n",
        "\n",
        "# Apply the filter for insignificance and CI crossing zero\n",
        "threshold = 0.05\n",
        "filtered_df = summary_df[(summary_df['P>|t|'] > threshold) & ((summary_df['[0.025'] < 0) & (summary_df['0.975]'] > 0))]\n",
        "\n",
        "# Extracting the feature names\n",
        "insignificant_features = filtered_df.iloc[:, 0].tolist()  # First column contains feature names\n",
        "print(insignificant_features)\n"
      ]
    },
    {
      "cell_type": "code",
      "execution_count": 14,
      "metadata": {},
      "outputs": [
        {
          "name": "stdout",
          "output_type": "stream",
          "text": [
            "              coef  std err      t  P>|t|  [0.025  0.975]\n",
            "1  DI55152  1.2161    1.172  1.038  0.299   -1.08   3.512\n"
          ]
        }
      ],
      "source": [
        "print(filtered_df)"
      ]
    },
    {
      "cell_type": "code",
      "execution_count": 15,
      "metadata": {},
      "outputs": [
        {
          "name": "stdout",
          "output_type": "stream",
          "text": [
            "\n",
            "Significant Features:\n",
            "['FC55569', '425 %Al', 'TC55552', 'LC55555', 'FFC55553', 'FFC55555', 'TC55555', 'TI55021', 'PI55004']\n"
          ]
        }
      ],
      "source": [
        "# Filter for significant features\n",
        "significant_df = summary_df[(summary_df['P>|t|'] <= threshold) & ((summary_df['[0.025'] > 0) | (summary_df['0.975]'] < 0))]\n",
        "significant_features = significant_df.iloc[:, 0].tolist()\n",
        "print(\"\\nSignificant Features:\")\n",
        "print(significant_features)"
      ]
    }
  ],
  "metadata": {
    "kernelspec": {
      "display_name": "Python 3 (ipykernel)",
      "language": "python",
      "name": "python3"
    },
    "language_info": {
      "codemirror_mode": {
        "name": "ipython",
        "version": 3
      },
      "file_extension": ".py",
      "mimetype": "text/x-python",
      "name": "python",
      "nbconvert_exporter": "python",
      "pygments_lexer": "ipython3",
      "version": "3.10.9"
    }
  },
  "nbformat": 4,
  "nbformat_minor": 4
}
