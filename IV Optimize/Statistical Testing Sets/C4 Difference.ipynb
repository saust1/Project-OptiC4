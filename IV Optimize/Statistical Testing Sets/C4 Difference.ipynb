{
  "cells": [
    {
      "cell_type": "code",
      "execution_count": 14,
      "metadata": {
        "metadata": {}
      },
      "outputs": [],
      "source": [
        "# %pip install sklearn"
      ]
    },
    {
      "cell_type": "code",
      "execution_count": 15,
      "metadata": {
        "metadata": {},
        "tags": [],
        "trusted": true
      },
      "outputs": [],
      "source": [
        "import numpy as np\n",
        "import xgboost as xgb\n",
        "# from sklearn.model_selection import train_test_split\n",
        "# from sklearn.metrics import mean_squared_error\n",
        "import pandas as pd\n",
        "import matplotlib.pyplot as plt\n",
        "# from sklearn.metrics import r2_score\n",
        "# from sklearn.model_selection import cross_val_score, KFold\n",
        "from xgboost import DMatrix\n"
      ]
    },
    {
      "cell_type": "markdown",
      "metadata": {},
      "source": [
        "### Input Data - Cleaned Dataset All"
      ]
    },
    {
      "cell_type": "code",
      "execution_count": 16,
      "metadata": {
        "metadata": {}
      },
      "outputs": [],
      "source": [
        "\n",
        "# df_TagDesc = pd.read_csv(r'C:\\Users\\saust\\OneDrive\\Desktop\\GitRepo\\Project-OptiC4\\CSV\\Not for Processing\\TagDesc.csv')\n",
        "\n",
        "# df_All_1 = pd.read_csv(r'C:\\Users\\saust\\OneDrive\\Desktop\\GitRepo\\Project-OptiC4\\1 Preprocess\\Merge Data\\contData_all_Avg_1o2.csv')\n",
        "# df_All_2 = pd.read_csv(r'C:\\Users\\saust\\OneDrive\\Desktop\\GitRepo\\Project-OptiC4\\1 Preprocess\\Merge Data\\contData_all_Avg_2o2.csv')\n",
        "# # Concatenate (union) the dataframes\n",
        "# df_All = pd.concat([df_All_1, df_All_2], ignore_index=True)\n",
        "\n",
        "# df_rC4_1_75 = pd.read_csv(r'C:\\Users\\steve\\OneDrive\\1. BAIUTEK\\Project-OptiC4\\IV Optimize\\Statistical Testing Sets\\rC4_1_75.csv')\n",
        "# df_rC4_5_75 = pd.read_csv(r'C:\\Users\\steve\\OneDrive\\1. BAIUTEK\\Project-OptiC4\\IV Optimize\\Statistical Testing Sets\\rC4_5_75.csv')\n",
        "\n",
        "df_rC4_1_75 = pd.read_csv(r'C:\\Users\\austinsh\\Project-OptiC4\\IV Optimize\\Statistical Testing Sets\\rC4_1_75.csv')\n",
        "df_rC4_5_75 = pd.read_csv(r'C:\\Users\\austinsh\\Project-OptiC4\\IV Optimize\\Statistical Testing Sets\\rC4_5_75.csv')\n",
        "\n",
        "\n"
      ]
    },
    {
      "cell_type": "code",
      "execution_count": 17,
      "metadata": {
        "metadata": {}
      },
      "outputs": [
        {
          "name": "stdout",
          "output_type": "stream",
          "text": [
            "<class 'pandas.core.frame.DataFrame'>\n",
            "RangeIndex: 47882 entries, 0 to 47881\n",
            "Data columns (total 26 columns):\n",
            " #   Column              Non-Null Count  Dtype  \n",
            "---  ------              --------------  -----  \n",
            " 0   Date                47882 non-null  object \n",
            " 1   425_pct_Al          47882 non-null  float64\n",
            " 2   C4_pct_Eth          47882 non-null  float64\n",
            " 3   C4_pct_H2O          47882 non-null  float64\n",
            " 4   HydWtr_pct_Ammonia  47882 non-null  float64\n",
            " 5   HydWtr_Na2O         47882 non-null  float64\n",
            " 6   Butanol             47882 non-null  float64\n",
            " 7   Decanol             47882 non-null  float64\n",
            " 8   DI55102             47882 non-null  float64\n",
            " 9   DI55152             47882 non-null  float64\n",
            " 10  FC55003             47882 non-null  float64\n",
            " 11  FC55009             47882 non-null  float64\n",
            " 12  FC55552             47882 non-null  float64\n",
            " 13  FC55569             47882 non-null  float64\n",
            " 14  FC55576             47882 non-null  float64\n",
            " 15  FFC55555            47882 non-null  float64\n",
            " 16  LC55557             47882 non-null  float64\n",
            " 17  LC90366             47882 non-null  float64\n",
            " 18  LC90368             47882 non-null  float64\n",
            " 19  PI55004             47882 non-null  float64\n",
            " 20  PI55020             47882 non-null  float64\n",
            " 21  TC55552             47882 non-null  float64\n",
            " 22  TI55021             47882 non-null  float64\n",
            " 23  FFC55555_adj        47882 non-null  float64\n",
            " 24  Decanol_adj         47882 non-null  float64\n",
            " 25  Butanol_adj         47882 non-null  float64\n",
            "dtypes: float64(25), object(1)\n",
            "memory usage: 9.5+ MB\n",
            "None\n",
            "<class 'pandas.core.frame.DataFrame'>\n",
            "RangeIndex: 47882 entries, 0 to 47881\n",
            "Data columns (total 26 columns):\n",
            " #   Column              Non-Null Count  Dtype  \n",
            "---  ------              --------------  -----  \n",
            " 0   Date                47882 non-null  object \n",
            " 1   425_pct_Al          47882 non-null  float64\n",
            " 2   C4_pct_Eth          47882 non-null  float64\n",
            " 3   C4_pct_H2O          47882 non-null  float64\n",
            " 4   HydWtr_pct_Ammonia  47882 non-null  float64\n",
            " 5   HydWtr_Na2O         47882 non-null  float64\n",
            " 6   Butanol             47882 non-null  float64\n",
            " 7   Decanol             47882 non-null  float64\n",
            " 8   DI55102             47882 non-null  float64\n",
            " 9   DI55152             47882 non-null  float64\n",
            " 10  FC55003             47882 non-null  float64\n",
            " 11  FC55009             47882 non-null  float64\n",
            " 12  FC55552             47882 non-null  float64\n",
            " 13  FC55569             47882 non-null  float64\n",
            " 14  FC55576             47882 non-null  float64\n",
            " 15  FFC55555            47882 non-null  float64\n",
            " 16  LC55557             47882 non-null  float64\n",
            " 17  LC90366             47882 non-null  float64\n",
            " 18  LC90368             47882 non-null  float64\n",
            " 19  PI55004             47882 non-null  float64\n",
            " 20  PI55020             47882 non-null  float64\n",
            " 21  TC55552             47882 non-null  float64\n",
            " 22  TI55021             47882 non-null  float64\n",
            " 23  FFC55555_adj        47882 non-null  float64\n",
            " 24  Decanol_adj         47882 non-null  float64\n",
            " 25  Butanol_adj         47882 non-null  float64\n",
            "dtypes: float64(25), object(1)\n",
            "memory usage: 9.5+ MB\n",
            "None\n"
          ]
        }
      ],
      "source": [
        "print(df_rC4_1_75.info())\n",
        "print(df_rC4_5_75.info())"
      ]
    },
    {
      "cell_type": "code",
      "execution_count": 18,
      "metadata": {
        "metadata": {}
      },
      "outputs": [
        {
          "name": "stdout",
          "output_type": "stream",
          "text": [
            "                  Date  425_pct_Al  C4_pct_Eth  C4_pct_H2O  \\\n",
            "0  2012-05-16 16:00:00    6.307630    2.508420    21.96340   \n",
            "1  2012-05-16 18:00:00    6.308335    2.511135    21.96865   \n",
            "2  2012-05-16 19:00:00    6.309390    2.515210    21.97655   \n",
            "3  2012-05-16 20:00:00    6.310090    2.517925    21.98185   \n",
            "4  2012-05-16 21:00:00    6.310790    2.520640    21.98715   \n",
            "\n",
            "   HydWtr_pct_Ammonia  HydWtr_Na2O    Butanol   Decanol   DI55102   DI55152  \\\n",
            "0            0.908765     2.712180  54.858300  0.722511  0.970496  0.925255   \n",
            "1            0.907643     2.805415  54.858300  0.722511  0.970496  0.925255   \n",
            "2            0.905959     2.945270  54.858300  0.722511  0.970496  0.925255   \n",
            "3            0.904837     3.038505  51.190050  0.733904  0.970653  0.923773   \n",
            "4            0.903715     3.131740  48.744567  0.741499  0.970307  0.924103   \n",
            "\n",
            "   ...    LC55557    LC90366    LC90368   PI55004   PI55020  TC55552  \\\n",
            "0  ...  65.873400  61.011100  51.234400  1.306310 -0.607993  177.188   \n",
            "1  ...  65.873400  61.011100  51.234400  1.306310 -0.607993  177.188   \n",
            "2  ...  65.873400  61.011100  51.234400  1.306310 -0.607993  177.188   \n",
            "3  ...  65.957600  56.694400  50.868167  1.216603 -0.626386  177.417   \n",
            "4  ...  65.966425  55.181525  50.740225  1.206718 -0.632433  177.459   \n",
            "\n",
            "      TI55021  FFC55555_adj  Decanol_adj  Butanol_adj  \n",
            "0  212.861000      0.751501     1.126204    56.398544  \n",
            "1  212.861000      0.751501     1.126828    55.225777  \n",
            "2  212.861000      0.751501     1.121570    54.979150  \n",
            "3  212.822333      0.750505     1.085587    48.963017  \n",
            "4  212.799750      0.750325     1.081224    48.607920  \n",
            "\n",
            "[5 rows x 26 columns]\n",
            "                  Date  425_pct_Al  C4_pct_Eth  C4_pct_H2O  \\\n",
            "0  2012-05-16 16:00:00    6.307630    2.508420    21.96340   \n",
            "1  2012-05-16 18:00:00    6.308335    2.511135    21.96865   \n",
            "2  2012-05-16 19:00:00    6.309390    2.515210    21.97655   \n",
            "3  2012-05-16 20:00:00    6.310090    2.517925    21.98185   \n",
            "4  2012-05-16 21:00:00    6.310790    2.520640    21.98715   \n",
            "\n",
            "   HydWtr_pct_Ammonia  HydWtr_Na2O    Butanol   Decanol   DI55102   DI55152  \\\n",
            "0            0.908765     2.712180  54.858300  0.722511  0.970496  0.925255   \n",
            "1            0.907643     2.805415  54.858300  0.722511  0.970496  0.925255   \n",
            "2            0.905959     2.945270  54.858300  0.722511  0.970496  0.925255   \n",
            "3            0.904837     3.038505  51.190050  0.733904  0.970653  0.923773   \n",
            "4            0.903715     3.131740  48.744567  0.741499  0.970307  0.924103   \n",
            "\n",
            "   ...    LC55557    LC90366    LC90368   PI55004   PI55020  TC55552  \\\n",
            "0  ...  65.873400  61.011100  51.234400  1.306310 -0.607993  177.188   \n",
            "1  ...  65.873400  61.011100  51.234400  1.306310 -0.607993  177.188   \n",
            "2  ...  65.873400  61.011100  51.234400  1.306310 -0.607993  177.188   \n",
            "3  ...  65.957600  56.694400  50.868167  1.216603 -0.626386  177.417   \n",
            "4  ...  65.966425  55.181525  50.740225  1.206718 -0.632433  177.459   \n",
            "\n",
            "      TI55021  FFC55555_adj  Decanol_adj  Butanol_adj  \n",
            "0  212.861000      0.751501     1.126204    56.398544  \n",
            "1  212.861000      0.751501     1.126828    55.225777  \n",
            "2  212.861000      0.751501     1.121570    54.979150  \n",
            "3  212.822333      0.750505     1.085587    48.963017  \n",
            "4  212.799750      0.750325     1.081224    48.607920  \n",
            "\n",
            "[5 rows x 26 columns]\n"
          ]
        }
      ],
      "source": [
        "print(df_rC4_1_75.head())\n",
        "print(df_rC4_5_75.head())"
      ]
    },
    {
      "cell_type": "markdown",
      "metadata": {},
      "source": [
        "# 1 75"
      ]
    },
    {
      "cell_type": "code",
      "execution_count": 19,
      "metadata": {
        "metadata": {}
      },
      "outputs": [],
      "source": [
        "# Calculate the differences and create new columns\n",
        "df_rC4_1_75['FFC55555_diff'] = df_rC4_1_75['FFC55555'] - df_rC4_1_75['FFC55555_adj']\n",
        "df_rC4_1_75['Butanol_diff'] = df_rC4_1_75['Butanol'] - df_rC4_1_75['Butanol_adj']\n",
        "df_rC4_1_75['Decanol_diff'] = df_rC4_1_75['Decanol'] - df_rC4_1_75['Decanol_adj']\n",
        "\n",
        "\n",
        "df_rC4_1_75['rC4_diff'] = (df_rC4_1_75['FFC55555']*df_rC4_1_75['FC55552'])-(df_rC4_1_75['FFC55555_adj']*df_rC4_1_75['FC55552'])"
      ]
    },
    {
      "cell_type": "markdown",
      "metadata": {},
      "source": [
        "## ^^^^^^ That's the number to solve for ^^^^^^^"
      ]
    },
    {
      "cell_type": "code",
      "execution_count": 20,
      "metadata": {
        "metadata": {}
      },
      "outputs": [],
      "source": [
        "\n",
        "df_rC4_1_75['Date'] = pd.to_datetime(df_rC4_1_75['Date'])\n",
        "df_rC4_1_75.set_index('Date', inplace=True)\n"
      ]
    },
    {
      "cell_type": "code",
      "execution_count": 21,
      "metadata": {
        "metadata": {}
      },
      "outputs": [],
      "source": [
        "# Sum up the hourly data to get daily totals for each component\n",
        "daily_totals_1_75 = df_rC4_1_75[['FFC55555_diff','Butanol_diff', 'Decanol_diff', 'rC4_diff']].resample('D').sum()\n",
        "\n",
        "# Group by year and sum up daily data for each year\n",
        "daily_totals_by_year_1_75 = df_rC4_1_75[['FFC55555_diff','Butanol_diff', 'Decanol_diff', 'rC4_diff']].groupby(df_rC4_1_75.index.year).resample('D').sum()\n"
      ]
    },
    {
      "cell_type": "code",
      "execution_count": 22,
      "metadata": {
        "metadata": {}
      },
      "outputs": [
        {
          "name": "stdout",
          "output_type": "stream",
          "text": [
            "Year 2012:\n",
            "  Estimated Annual Production for FFC55555_diff: 11.310000000000011\n",
            "  Estimated Annual Production for Butanol_diff: -972.1568279333324\n",
            "  Estimated Annual Production for Decanol_diff: -193.90538045999924\n",
            "  Estimated Annual Production for rC4_diff: 378578.3373750003\n",
            "Year 2013:\n",
            "  Estimated Annual Production for FFC55555_diff: 13.170000000000009\n",
            "  Estimated Annual Production for Butanol_diff: -570.8263937000012\n",
            "  Estimated Annual Production for Decanol_diff: -68.90767924999939\n",
            "  Estimated Annual Production for rC4_diff: 491051.11237500043\n",
            "Year 2014:\n",
            "  Estimated Annual Production for FFC55555_diff: 5.250000000000004\n",
            "  Estimated Annual Production for Butanol_diff: -468.30548340000047\n",
            "  Estimated Annual Production for Decanol_diff: -117.12876973099984\n",
            "  Estimated Annual Production for rC4_diff: 192716.19787500016\n",
            "Year 2015:\n",
            "  Estimated Annual Production for FFC55555_diff: 10.650000000000006\n",
            "  Estimated Annual Production for Butanol_diff: -72.39918870002506\n",
            "  Estimated Annual Production for Decanol_diff: -160.44445202500137\n",
            "  Estimated Annual Production for rC4_diff: 377288.3117500003\n",
            "Year 2016:\n",
            "  Estimated Annual Production for FFC55555_diff: 4.080000000000004\n",
            "  Estimated Annual Production for Butanol_diff: -238.10571050000738\n",
            "  Estimated Annual Production for Decanol_diff: -144.3860514400032\n",
            "  Estimated Annual Production for rC4_diff: 144389.55737500015\n",
            "Year 2017:\n",
            "  Estimated Annual Production for FFC55555_diff: 2.7100000000000026\n",
            "  Estimated Annual Production for Butanol_diff: -354.2747859000098\n",
            "  Estimated Annual Production for Decanol_diff: -156.57033976000255\n",
            "  Estimated Annual Production for rC4_diff: 96017.18325000007\n",
            "Year 2018:\n",
            "  Estimated Annual Production for FFC55555_diff: 0.17000000000000015\n",
            "  Estimated Annual Production for Butanol_diff: -450.7095081000074\n",
            "  Estimated Annual Production for Decanol_diff: -194.77872093000204\n",
            "  Estimated Annual Production for rC4_diff: 6000.778000000005\n",
            "Year 2019:\n",
            "  Estimated Annual Production for FFC55555_diff: 4.820000000000003\n",
            "  Estimated Annual Production for Butanol_diff: -1019.4879001499794\n",
            "  Estimated Annual Production for Decanol_diff: -204.87137067000336\n",
            "  Estimated Annual Production for rC4_diff: 183830.20350000018\n",
            "Year 2020:\n",
            "  Estimated Annual Production for FFC55555_diff: 1.8800000000000017\n",
            "  Estimated Annual Production for Butanol_diff: -299.49815069997703\n",
            "  Estimated Annual Production for Decanol_diff: -102.23371725000118\n",
            "  Estimated Annual Production for rC4_diff: 66500.48300000007\n",
            "Year 2022:\n",
            "  Estimated Annual Production for FFC55555_diff: 10.30000000000001\n",
            "  Estimated Annual Production for Butanol_diff: -1301.8312923499968\n",
            "  Estimated Annual Production for Decanol_diff: -67.45813060000017\n",
            "  Estimated Annual Production for rC4_diff: 369021.23450000037\n"
          ]
        }
      ],
      "source": [
        "# Initialize a dictionary to store the annual production values for each year\n",
        "annual_production_1_75 = {}\n",
        "\n",
        "# Loop through each group (each year) in the daily totals\n",
        "for year, group in daily_totals_by_year_1_75.groupby(level=0):  # level=0 refers to the 'year' group\n",
        "    # Calculate the average daily totals for the year\n",
        "    average_daily_totals_1_75 = group.mean()\n",
        "    \n",
        "    # Count the actual days with data in that year\n",
        "    actual_days_with_data_1_75 = group.dropna().shape[0]\n",
        "    \n",
        "    # Calculate the estimated annual production based on actual days with data\n",
        "    estimated_annual_production_FFC55555_1_75 = average_daily_totals_1_75['FFC55555_diff'] * actual_days_with_data_1_75\n",
        "    estimated_annual_production_butanol_1_75 = average_daily_totals_1_75['Butanol_diff'] * actual_days_with_data_1_75\n",
        "    estimated_annual_production_decanol_1_75 = average_daily_totals_1_75['Decanol_diff'] * actual_days_with_data_1_75\n",
        "\n",
        "    estimated_annual_production_rC4_1_75 = average_daily_totals_1_75['rC4_diff'] * actual_days_with_data_1_75\n",
        "    \n",
        "    # Store results in dictionary\n",
        "    annual_production_1_75[year] = {\n",
        "        'FFC55555_diff': estimated_annual_production_FFC55555_1_75,\n",
        "        'Butanol_diff': estimated_annual_production_butanol_1_75,\n",
        "        'Decanol_diff': estimated_annual_production_decanol_1_75,\n",
        "        'rC4_diff': estimated_annual_production_rC4_1_75\n",
        "    }\n",
        "\n",
        "# Output the results\n",
        "for year in annual_production_1_75:\n",
        "    print(f\"Year {year}:\")\n",
        "    print(f\"  Estimated Annual Production for FFC55555_diff: {annual_production_1_75[year]['FFC55555_diff']}\")\n",
        "    print(f\"  Estimated Annual Production for Butanol_diff: {annual_production_1_75[year]['Butanol_diff']}\")\n",
        "    print(f\"  Estimated Annual Production for Decanol_diff: {annual_production_1_75[year]['Decanol_diff']}\")\n",
        "    print(f\"  Estimated Annual Production for rC4_diff: {annual_production_1_75[year]['rC4_diff']}\")\n"
      ]
    },
    {
      "cell_type": "markdown",
      "metadata": {},
      "source": [
        "# 5 75"
      ]
    },
    {
      "cell_type": "code",
      "execution_count": 23,
      "metadata": {
        "metadata": {}
      },
      "outputs": [],
      "source": [
        "# Calculate the differences and create new columns\n",
        "df_rC4_5_75['FFC55555_diff'] = df_rC4_5_75['FFC55555'] - df_rC4_5_75['FFC55555_adj']\n",
        "df_rC4_5_75['Butanol_diff'] = df_rC4_5_75['Butanol'] - df_rC4_5_75['Butanol_adj']\n",
        "df_rC4_5_75['Decanol_diff'] = df_rC4_5_75['Decanol'] - df_rC4_5_75['Decanol_adj']\n",
        "\n",
        "df_rC4_5_75['rC4_diff'] = (df_rC4_5_75['FFC55555']*df_rC4_5_75['FC55552'])-(df_rC4_5_75['FFC55555_adj']*df_rC4_5_75['FC55552'])"
      ]
    },
    {
      "cell_type": "code",
      "execution_count": 24,
      "metadata": {
        "metadata": {}
      },
      "outputs": [],
      "source": [
        "df_rC4_5_75['Date'] = pd.to_datetime(df_rC4_5_75['Date'])\n",
        "df_rC4_5_75.set_index('Date', inplace=True)\n",
        "\n"
      ]
    },
    {
      "cell_type": "code",
      "execution_count": 25,
      "metadata": {
        "metadata": {}
      },
      "outputs": [],
      "source": [
        "# Sum up the hourly data to get daily totals for each component\n",
        "daily_totals = df_rC4_5_75[['FFC55555_diff','Butanol_diff', 'Decanol_diff', 'rC4_diff']].resample('D').sum()\n",
        "\n",
        "# Group by year and sum up daily data for each year\n",
        "daily_totals_by_year_5_75 = df_rC4_5_75[['FFC55555_diff','Butanol_diff', 'Decanol_diff', 'rC4_diff']].groupby(df_rC4_5_75.index.year).resample('D').sum()\n"
      ]
    },
    {
      "cell_type": "code",
      "execution_count": 26,
      "metadata": {},
      "outputs": [
        {
          "name": "stdout",
          "output_type": "stream",
          "text": [
            "Year 2012:\n",
            "  Estimated Annual Production for FFC55555_diff: 68.38000000000012\n",
            "  Estimated Annual Production for Butanol_diff: -3498.0317270333326\n",
            "  Estimated Annual Production for Decanol_diff: -152.43169980999917\n",
            "  Estimated Annual Production for rC4_diff: 2380522.0060000024\n",
            "Year 2013:\n",
            "  Estimated Annual Production for FFC55555_diff: 132.17000000000016\n",
            "  Estimated Annual Production for Butanol_diff: -3723.1329483000004\n",
            "  Estimated Annual Production for Decanol_diff: 43.63221600000063\n",
            "  Estimated Annual Production for rC4_diff: 4745483.903250002\n",
            "Year 2014:\n",
            "  Estimated Annual Production for FFC55555_diff: 143.3200000000002\n",
            "  Estimated Annual Production for Butanol_diff: -8778.798418299997\n",
            "  Estimated Annual Production for Decanol_diff: 58.367250789000195\n",
            "  Estimated Annual Production for rC4_diff: 5372815.018000004\n",
            "Year 2015:\n",
            "  Estimated Annual Production for FFC55555_diff: 130.87000000000023\n",
            "  Estimated Annual Production for Butanol_diff: -8454.699985400028\n",
            "  Estimated Annual Production for Decanol_diff: -273.7606339950016\n",
            "  Estimated Annual Production for rC4_diff: 4849572.757875008\n",
            "Year 2016:\n",
            "  Estimated Annual Production for FFC55555_diff: 129.06000000000012\n",
            "  Estimated Annual Production for Butanol_diff: -10143.55029800001\n",
            "  Estimated Annual Production for Decanol_diff: -253.47513181000306\n",
            "  Estimated Annual Production for rC4_diff: 4535407.487625007\n",
            "Year 2017:\n",
            "  Estimated Annual Production for FFC55555_diff: 154.34000000000015\n",
            "  Estimated Annual Production for Butanol_diff: -8551.43747360001\n",
            "  Estimated Annual Production for Decanol_diff: -558.5149017300023\n",
            "  Estimated Annual Production for rC4_diff: 5582820.738875001\n",
            "Year 2018:\n",
            "  Estimated Annual Production for FFC55555_diff: 16.150000000000016\n",
            "  Estimated Annual Production for Butanol_diff: -1841.4962096000063\n",
            "  Estimated Annual Production for Decanol_diff: -264.896271830002\n",
            "  Estimated Annual Production for rC4_diff: 548295.2230000003\n",
            "Year 2019:\n",
            "  Estimated Annual Production for FFC55555_diff: 25.530000000000033\n",
            "  Estimated Annual Production for Butanol_diff: -3792.786291949982\n",
            "  Estimated Annual Production for Decanol_diff: -259.96728177000335\n",
            "  Estimated Annual Production for rC4_diff: 937712.7545000006\n",
            "Year 2020:\n",
            "  Estimated Annual Production for FFC55555_diff: 50.12000000000005\n",
            "  Estimated Annual Production for Butanol_diff: -6573.667089399978\n",
            "  Estimated Annual Production for Decanol_diff: -177.28357680000107\n",
            "  Estimated Annual Production for rC4_diff: 1800929.0018750017\n",
            "Year 2022:\n",
            "  Estimated Annual Production for FFC55555_diff: 13.02000000000001\n",
            "  Estimated Annual Production for Butanol_diff: -1492.7627568499963\n",
            "  Estimated Annual Production for Decanol_diff: -71.8347400000002\n",
            "  Estimated Annual Production for rC4_diff: 469506.92100000044\n"
          ]
        },
        {
          "ename": "KeyError",
          "evalue": "'Date'",
          "output_type": "error",
          "traceback": [
            "\u001b[1;31m---------------------------------------------------------------------------\u001b[0m",
            "\u001b[1;31mKeyError\u001b[0m                                  Traceback (most recent call last)",
            "Cell \u001b[1;32mIn[26], line 41\u001b[0m\n\u001b[0;32m     33\u001b[0m     \u001b[38;5;28mprint\u001b[39m(\u001b[38;5;124mf\u001b[39m\u001b[38;5;124m\"\u001b[39m\u001b[38;5;124m  Estimated Annual Production for rC4_diff: \u001b[39m\u001b[38;5;132;01m{\u001b[39;00mannual_production_5_75[year][\u001b[38;5;124m'\u001b[39m\u001b[38;5;124mrC4_diff\u001b[39m\u001b[38;5;124m'\u001b[39m]\u001b[38;5;132;01m}\u001b[39;00m\u001b[38;5;124m\"\u001b[39m)\n\u001b[0;32m     37\u001b[0m \u001b[38;5;66;03m# Assuming the 'Date' column is a string, you can extract the year using the str accessor\u001b[39;00m\n\u001b[0;32m     38\u001b[0m \u001b[38;5;66;03m# annual_production_5_75['Year'] = annual_production_5_75['Date'].str[:4]\u001b[39;00m\n\u001b[0;32m     39\u001b[0m \n\u001b[0;32m     40\u001b[0m \u001b[38;5;66;03m# Alternatively, if the 'Date' column is already a datetime object, you can extract the year directly\u001b[39;00m\n\u001b[1;32m---> 41\u001b[0m annual_production_5_75[\u001b[38;5;124m'\u001b[39m\u001b[38;5;124mYear\u001b[39m\u001b[38;5;124m'\u001b[39m] \u001b[38;5;241m=\u001b[39m \u001b[43mannual_production_5_75\u001b[49m\u001b[43m[\u001b[49m\u001b[38;5;124;43m'\u001b[39;49m\u001b[38;5;124;43mDate\u001b[39;49m\u001b[38;5;124;43m'\u001b[39;49m\u001b[43m]\u001b[49m\u001b[38;5;241m.\u001b[39mdt\u001b[38;5;241m.\u001b[39myear\n\u001b[0;32m     43\u001b[0m \u001b[38;5;66;03m# Now count the records for each year\u001b[39;00m\n\u001b[0;32m     44\u001b[0m record_counts_by_year \u001b[38;5;241m=\u001b[39m annual_production_5_75[\u001b[38;5;124m'\u001b[39m\u001b[38;5;124mYear\u001b[39m\u001b[38;5;124m'\u001b[39m]\u001b[38;5;241m.\u001b[39mvalue_counts()\u001b[38;5;241m.\u001b[39msort_index()\n",
            "\u001b[1;31mKeyError\u001b[0m: 'Date'"
          ]
        }
      ],
      "source": [
        "# Initialize a dictionary to store the annual production values for each year\n",
        "annual_production_5_75 = {}\n",
        "\n",
        "# Loop through each group (each year) in the daily totals\n",
        "for year, group in daily_totals_by_year_5_75.groupby(level=0):  # level=0 refers to the 'year' group\n",
        "    # Calculate the average daily totals for the year\n",
        "    average_daily_totals_5_75 = group.mean()\n",
        "    \n",
        "    # Count the actual days with data in that year\n",
        "    actual_days_with_data_5_75 = group.dropna().shape[0]\n",
        "    \n",
        "    # Calculate the estimated annual production based on actual days with data\n",
        "    estimated_annual_production_FFC55555_5_75 = average_daily_totals_5_75['FFC55555_diff'] * actual_days_with_data_5_75\n",
        "    estimated_annual_production_butanol_5_75 = average_daily_totals_5_75['Butanol_diff'] * actual_days_with_data_5_75\n",
        "    estimated_annual_production_decanol_5_75 = average_daily_totals_5_75['Decanol_diff'] * actual_days_with_data_5_75\n",
        "\n",
        "    estimated_annual_production_rC4_5_75 = average_daily_totals_5_75['rC4_diff'] * actual_days_with_data_5_75\n",
        "    \n",
        "    # Store results in dictionary\n",
        "    annual_production_5_75[year] = {\n",
        "        'FFC55555_diff': estimated_annual_production_FFC55555_5_75,\n",
        "        'Butanol_diff': estimated_annual_production_butanol_5_75,\n",
        "        'Decanol_diff': estimated_annual_production_decanol_5_75,\n",
        "        'rC4_diff': estimated_annual_production_rC4_5_75\n",
        "    }\n",
        "\n",
        "# Output the results\n",
        "for year in annual_production_5_75:\n",
        "    print(f\"Year {year}:\")\n",
        "    print(f\"  Estimated Annual Production for FFC55555_diff: {annual_production_5_75[year]['FFC55555_diff']}\")\n",
        "    print(f\"  Estimated Annual Production for Butanol_diff: {annual_production_5_75[year]['Butanol_diff']}\")\n",
        "    print(f\"  Estimated Annual Production for Decanol_diff: {annual_production_5_75[year]['Decanol_diff']}\")\n",
        "    print(f\"  Estimated Annual Production for rC4_diff: {annual_production_5_75[year]['rC4_diff']}\")\n",
        "\n",
        "\n",
        "\n",
        "# Assuming the 'Date' column is a string, you can extract the year using the str accessor\n",
        "# annual_production_5_75['Year'] = annual_production_5_75['Date'].str[:4]\n",
        "\n",
        "# Alternatively, if the 'Date' column is already a datetime object, you can extract the year directly\n",
        "annual_production_5_75['Year'] = annual_production_5_75['Date'].dt.year\n",
        "\n",
        "# Now count the records for each year\n",
        "record_counts_by_year = annual_production_5_75['Year'].value_counts().sort_index()\n",
        "\n",
        "# Output the results\n",
        "print(record_counts_by_year)\n"
      ]
    },
    {
      "cell_type": "code",
      "execution_count": null,
      "metadata": {
        "metadata": {}
      },
      "outputs": [],
      "source": [
        "# Initialize a dictionary to store the annual production values for each year\n",
        "annual_production = {}\n",
        "\n",
        "# Loop through each group (each year) in the daily totals\n",
        "for year, group in daily_totals_by_year.groupby(level=0):  # level=0 refers to the 'year' group\n",
        "    # Calculate the average daily totals for the year\n",
        "    average_daily_totals = group.mean()\n",
        "    \n",
        "    # Count the actual days with data in that year\n",
        "    actual_days_with_data = group.dropna().shape[0]\n",
        "    \n",
        "    # Calculate the estimated annual production based on actual days with data\n",
        "    estimated_annual_production_butanol = average_daily_totals['Butanol_diff'] * actual_days_with_data\n",
        "    estimated_annual_production_decanol = average_daily_totals['Decanol_diff'] * actual_days_with_data\n",
        "    \n",
        "    # Store results in dictionary\n",
        "    annual_production[year] = {\n",
        "        'Butanol_diff': estimated_annual_production_butanol,\n",
        "        'Decanol_diff': estimated_annual_production_decanol\n",
        "    }\n",
        "\n",
        "# Output the results\n",
        "for year in annual_production:\n",
        "    print(f\"Year {year}:\")\n",
        "    print(f\"  Estimated Annual Production for Butanol_diff: {annual_production[year]['Butanol_diff']}\")\n",
        "    print(f\"  Estimated Annual Production for Decanol_diff: {annual_production[year]['Decanol_diff']}\")\n"
      ]
    },
    {
      "cell_type": "code",
      "execution_count": null,
      "metadata": {
        "metadata": {}
      },
      "outputs": [],
      "source": [
        "print(df_rC4_1_75['FFC55555'].describe())\n",
        "print(df_rC4_5_75['FFC55555'].describe())\n",
        "\n",
        "print(df_rC4_1_75['FFC55555_adj'].describe())\n",
        "print(df_rC4_5_75['FFC55555_adj'].describe())"
      ]
    }
  ],
  "metadata": {
    "kernelspec": {
      "display_name": "Python 3 (ipykernel)",
      "language": "python",
      "name": "python3"
    },
    "language_info": {
      "codemirror_mode": {
        "name": "ipython",
        "version": 3
      },
      "file_extension": ".py",
      "mimetype": "text/x-python",
      "name": "python",
      "nbconvert_exporter": "python",
      "pygments_lexer": "ipython3",
      "version": "3.12.1"
    }
  },
  "nbformat": 4,
  "nbformat_minor": 4
}
