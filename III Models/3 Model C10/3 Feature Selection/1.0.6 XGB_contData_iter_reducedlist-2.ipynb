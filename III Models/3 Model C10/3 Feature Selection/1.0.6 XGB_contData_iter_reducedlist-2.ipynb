{
  "cells": [
    {
      "cell_type": "code",
      "execution_count": 30,
      "metadata": {},
      "outputs": [],
      "source": [
        "# %pip install statsmodels\n",
        "# %pip install mlxtend\n",
        "# %pip install xgboost"
      ]
    },
    {
      "cell_type": "code",
      "execution_count": 31,
      "metadata": {
        "tags": [],
        "trusted": true
      },
      "outputs": [],
      "source": [
        "# Import necessary libraries\n",
        "import pandas as pd\n",
        "import seaborn as sns\n",
        "import matplotlib.pyplot as plt\n",
        "from statsmodels.formula.api import ols\n",
        "import statsmodels.api as sm\n",
        "from sklearn.linear_model import LinearRegression\n",
        "from mlxtend.feature_selection import SequentialFeatureSelector as SFS\n",
        "from sklearn.model_selection import train_test_split\n",
        "import itertools\n",
        "import random\n",
        "from sklearn.metrics import r2_score, mean_squared_error, mean_absolute_error\n",
        "import xgboost as xgb\n",
        "from sklearn.model_selection import train_test_split\n",
        "import random\n",
        "import pandas as pd"
      ]
    },
    {
      "cell_type": "code",
      "execution_count": 32,
      "metadata": {},
      "outputs": [
        {
          "name": "stdout",
          "output_type": "stream",
          "text": [
            "                  Date  425_pct_Al     Al2O3  M_Value  C4_pct_Eth  C4_pct_H2O  \\\n",
            "0  2012-05-17 09:00:00    6.319560  11.41670  3.50773    2.554580     22.0531   \n",
            "1  2012-05-17 10:00:00    6.319915  11.40835  3.50797    2.555935     22.0557   \n",
            "2  2012-05-17 12:00:00    6.320970  11.39165  3.50869    2.560005     22.0636   \n",
            "3  2012-05-18 08:00:00    6.328690  11.39165  3.51401    2.540370     22.0604   \n",
            "4  2012-05-18 09:00:00    6.336060  11.40500  3.51910    2.514430     22.0484   \n",
            "\n",
            "   HydWtr_pct_Ammonia  C4_pct_Hex  HydWtr_Na2O  Decanol   DI55102   DI55152  \\\n",
            "0            0.867508    0.670721     3.354160  1.03026  0.965043  0.924515   \n",
            "1            0.864729    0.671059     3.306475  1.03026  0.965043  0.924515   \n",
            "2            0.856391    0.672071     3.163420  1.06326  0.965043  0.924515   \n",
            "3            0.811652    0.674174     2.238130  1.51850  0.971625  0.933431   \n",
            "4            0.773793    0.675408     1.391475  1.51850  0.971625  0.933431   \n",
            "\n",
            "    DI55580   FC55003    FC55009   FC55552   FC55569  FC55576  FFC55553  \\\n",
            "0  1.014885  5308.885  1182.3935  40409.25  6924.645  322.177  1.049540   \n",
            "1  1.014885  5308.885  1182.3935  40409.25  6924.645  322.177  1.049540   \n",
            "2  1.014885  5308.885  1182.3935  40409.25  6924.645  322.177  1.049540   \n",
            "3  1.015146  5297.320   966.1866  40866.28  6918.194  329.701  1.050092   \n",
            "4  1.015146  5297.320   966.1866  40866.28  6918.194  329.701  1.050092   \n",
            "\n",
            "   FFC55555   LC52572   LC55553   LC55557   LC55568    LC90366   LC90368  \\\n",
            "0  0.751183  66.52320  62.92105  66.31395  40.25250  15.449150  49.26750   \n",
            "1  0.751183  66.52320  62.92105  66.31395  40.25250  15.449150  49.26750   \n",
            "2  0.751183  66.52320  62.92105  66.31395  40.25250  15.449150  49.26750   \n",
            "3  0.764579  66.50016  62.23534  65.92560  39.88364   8.759814  48.51306   \n",
            "4  0.764579  66.50016  62.23534  65.92560  39.88364   8.759814  48.51306   \n",
            "\n",
            "    PI55004   PI55020   TC55552   TC55555   TI40050   TI55021  \n",
            "0  1.236360 -0.389406  179.0115  179.9940  82.96565  213.8740  \n",
            "1  1.236360 -0.389406  179.0115  179.9940  82.96565  213.8740  \n",
            "2  1.236360 -0.389406  179.0115  179.9940  82.96565  213.8740  \n",
            "3  1.190342 -0.318266  180.7166  179.9338  82.41662  214.5402  \n",
            "4  1.190342 -0.318266  180.7166  179.9338  82.41662  214.5402  \n"
          ]
        }
      ],
      "source": [
        "# df_All_1 = pd.read_csv(r'C:\\Users\\saust\\OneDrive\\Desktop\\GitRepo\\Project-OptiC4\\1 Preprocess\\Merge Data\\contData_all_Avg_1o2.csv')\n",
        "# df_All_2 = pd.read_csv(r'C:\\Users\\saust\\OneDrive\\Desktop\\GitRepo\\Project-OptiC4\\1 Preprocess\\Merge Data\\contData_all_Avg_2o2.csv')\n",
        "# # Concatenate (union) the dataframes\n",
        "# df_All = pd.concat([df_All_1, df_All_2], ignore_index=True)\n",
        "\n",
        "df_All = pd.read_csv(r'C:\\Users\\austinsh\\Project-OptiC4\\III Models\\3 Model C10\\3 Feature Selection\\filtered-out_5-9_corr.csv')\n",
        "print(df_All.head())\n",
        "\n",
        "df_TagDesc = pd.read_csv(r'C:\\Users\\austinsh\\Project-OptiC4\\II Data\\1 Collection\\CSV\\Not for Processing\\TagDesc.csv')\n"
      ]
    },
    {
      "cell_type": "code",
      "execution_count": 33,
      "metadata": {
        "trusted": true
      },
      "outputs": [],
      "source": [
        "# Set max columns to display\n",
        "pd.set_option('display.max_columns', None)"
      ]
    },
    {
      "cell_type": "code",
      "execution_count": 34,
      "metadata": {},
      "outputs": [],
      "source": [
        "# df_All = df_All[df_All['Date'] > '2022-06-15 00:00:00']"
      ]
    },
    {
      "cell_type": "code",
      "execution_count": 35,
      "metadata": {},
      "outputs": [],
      "source": [
        "# selected_columns = ['Butanol', \n",
        "#                     'FC55569',\n",
        "#                     'DI55152',\n",
        "#                     '425 %Al',\n",
        "#                     'TC55552',\n",
        "#                     'FC55003',\n",
        "#                     'LC55555',\n",
        "#                     'FFC55553',\n",
        "#                     'FFC55555',\n",
        "#                     'TC55555',\n",
        "#                     'TI55021',\n",
        "#                     'PI55004',\n",
        "#                     'FC55552'\n",
        "#                     ]\n",
        "# existing_columns = [col for col in selected_columns if col in df_All.columns]\n",
        "# df_All = df_All[existing_columns]\n"
      ]
    },
    {
      "cell_type": "code",
      "execution_count": 36,
      "metadata": {},
      "outputs": [
        {
          "name": "stdout",
          "output_type": "stream",
          "text": [
            "                  Date  425_pct_Al  M_Value  C4_pct_Eth  C4_pct_H2O  \\\n",
            "0  2012-05-17 09:00:00    6.319560  3.50773    2.554580     22.0531   \n",
            "1  2012-05-17 10:00:00    6.319915  3.50797    2.555935     22.0557   \n",
            "2  2012-05-17 12:00:00    6.320970  3.50869    2.560005     22.0636   \n",
            "3  2012-05-18 08:00:00    6.328690  3.51401    2.540370     22.0604   \n",
            "4  2012-05-18 09:00:00    6.336060  3.51910    2.514430     22.0484   \n",
            "\n",
            "   HydWtr_pct_Ammonia  C4_pct_Hex  HydWtr_Na2O  Decanol   DI55102   DI55152  \\\n",
            "0            0.867508    0.670721     3.354160  1.03026  0.965043  0.924515   \n",
            "1            0.864729    0.671059     3.306475  1.03026  0.965043  0.924515   \n",
            "2            0.856391    0.672071     3.163420  1.06326  0.965043  0.924515   \n",
            "3            0.811652    0.674174     2.238130  1.51850  0.971625  0.933431   \n",
            "4            0.773793    0.675408     1.391475  1.51850  0.971625  0.933431   \n",
            "\n",
            "    FC55003    FC55009   FC55552   FC55569  FFC55553  FFC55555    LC90366  \\\n",
            "0  5308.885  1182.3935  40409.25  6924.645  1.049540  0.751183  15.449150   \n",
            "1  5308.885  1182.3935  40409.25  6924.645  1.049540  0.751183  15.449150   \n",
            "2  5308.885  1182.3935  40409.25  6924.645  1.049540  0.751183  15.449150   \n",
            "3  5297.320   966.1866  40866.28  6918.194  1.050092  0.764579   8.759814   \n",
            "4  5297.320   966.1866  40866.28  6918.194  1.050092  0.764579   8.759814   \n",
            "\n",
            "    LC90368   PI55020   TC55552   TI55021  \n",
            "0  49.26750 -0.389406  179.0115  213.8740  \n",
            "1  49.26750 -0.389406  179.0115  213.8740  \n",
            "2  49.26750 -0.389406  179.0115  213.8740  \n",
            "3  48.51306 -0.318266  180.7166  214.5402  \n",
            "4  48.51306 -0.318266  180.7166  214.5402  \n"
          ]
        }
      ],
      "source": [
        "# # List of columns to exclude to run XGboost feature selection\n",
        "exclude_columns = [\n",
        "                # Round 1\n",
        "                'TI40050',\n",
        "                'TC55555',\n",
        "                'LC55568',\n",
        "                'LC55557',\n",
        "                'Al2O3',\n",
        "                'LC55553',\n",
        "\n",
        "                # Round 2\n",
        "                'FC55576',\n",
        "                'PI55004',\n",
        "\n",
        "                # Round 3 - Excluding this one because OLS and FSF agree, but it wasn't captured by XGB-FS\n",
        "                'DI55580',\n",
        "\n",
        "                #Round 4 - Round 3 dropped another in XGB-FS\n",
        "                'LC52572'\n",
        "                \n",
        "                # 'M_Value',\n",
        "                # 'FFC55553',\n",
        "                # 'DI55580',\n",
        "                # 'Al2O3',\n",
        "                # 'C4_pct_Hex',\n",
        "                # 'LC52572'\n",
        "\n",
        "                   ]\n",
        "\n",
        "# # Create a new DataFrame without the excluded columnsd\n",
        "df_All = df_All.drop(columns=exclude_columns)\n",
        "\n",
        "print(df_All.head())"
      ]
    },
    {
      "cell_type": "code",
      "execution_count": 22,
      "metadata": {},
      "outputs": [
        {
          "data": {
            "text/plain": [
              "Index(['Date', '425_pct_Al', 'M_Value', 'C4_pct_Eth', 'C4_pct_H2O',\n",
              "       'HydWtr_pct_Ammonia', 'C4_pct_Hex', 'HydWtr_Na2O', 'Decanol', 'DI55102',\n",
              "       'DI55152', 'FC55003', 'FC55009', 'FC55552', 'FC55569', 'FFC55553',\n",
              "       'FFC55555', 'LC90366', 'LC90368', 'PI55020', 'TC55552', 'TI55021'],\n",
              "      dtype='object')"
            ]
          },
          "execution_count": 22,
          "metadata": {},
          "output_type": "execute_result"
        }
      ],
      "source": [
        "df_All.columns"
      ]
    },
    {
      "cell_type": "code",
      "execution_count": 23,
      "metadata": {},
      "outputs": [],
      "source": [
        "# # Splitting into train and test\n",
        "# X = df_All.drop('Butanol', axis=1)  # Assuming 'target' is your target column\n",
        "# y = df_All['Butanol']\n",
        "# X_train, X_test, y_train, y_test = train_test_split(X, y, test_size=0.2, random_state=42)"
      ]
    },
    {
      "cell_type": "code",
      "execution_count": 24,
      "metadata": {},
      "outputs": [],
      "source": [
        "def iterate_feature_rotations(df_all, target_column, test_size=0.2, random_state=42, num_random_iterations=30):\n",
        "    results = []\n",
        "    columns = [col for col in df_all.columns if col != target_column and col != 'Date']\n",
        "    random.seed(random_state)  # for reproducibility\n",
        "\n",
        "    for feature in columns:\n",
        "        for _ in range(num_random_iterations):\n",
        "            # Randomly order the remaining features\n",
        "            remaining_features = [f for f in columns if f != feature]\n",
        "            random.shuffle(remaining_features)\n",
        "\n",
        "            # Create a new ordered list of features\n",
        "            ordered_features = [feature] + remaining_features\n",
        "\n",
        "            reordered_df = df_all[ordered_features + [target_column]]\n",
        "\n",
        "            # Splitting into train and test for each permutation\n",
        "            X = reordered_df.drop(target_column, axis=1)\n",
        "            y = reordered_df[target_column]\n",
        "            X_train, X_test, y_train, y_test = train_test_split(X, y, test_size=test_size, random_state=random_state)\n",
        "\n",
        "            # Create and fit the XGBoost model\n",
        "            model = xgb.XGBRegressor(objective='reg:squarederror')\n",
        "            model.fit(X_train, y_train)\n",
        "\n",
        "            # Extract feature importances\n",
        "            feature_importances = model.get_booster().get_score(importance_type=\"weight\")\n",
        "\n",
        "            # Store the result with the permutation order and feature importances\n",
        "            results.append((ordered_features, feature_importances))\n",
        "\n",
        "    return results\n",
        "\n",
        "\n",
        "results = iterate_feature_rotations(df_All, 'Decanol')\n",
        "\n",
        "# Convert results to a DataFrame\n",
        "flattened_results = []\n",
        "for ordered_features, importances in results:\n",
        "    for feature, importance in importances.items():\n",
        "        flattened_results.append({\n",
        "            'Feature Rotation': ordered_features,\n",
        "            'Feature': feature,\n",
        "            'Importance': importance\n",
        "        })\n",
        "\n",
        "results_df = pd.DataFrame(flattened_results)\n"
      ]
    },
    {
      "cell_type": "code",
      "execution_count": 25,
      "metadata": {},
      "outputs": [
        {
          "name": "stdout",
          "output_type": "stream",
          "text": [
            "                                        Feature Rotation      Feature  \\\n",
            "0      [425_pct_Al, LC90366, FFC55555, C4_pct_Hex, FC...   425_pct_Al   \n",
            "1      [425_pct_Al, LC90366, FFC55555, C4_pct_Hex, FC...      LC90366   \n",
            "2      [425_pct_Al, LC90366, FFC55555, C4_pct_Hex, FC...     FFC55555   \n",
            "3      [425_pct_Al, LC90366, FFC55555, C4_pct_Hex, FC...   C4_pct_Hex   \n",
            "4      [425_pct_Al, LC90366, FFC55555, C4_pct_Hex, FC...      FC55009   \n",
            "...                                                  ...          ...   \n",
            "11995  [TI55021, 425_pct_Al, C4_pct_H2O, FC55569, C4_...      DI55102   \n",
            "11996  [TI55021, 425_pct_Al, C4_pct_H2O, FC55569, C4_...  HydWtr_Na2O   \n",
            "11997  [TI55021, 425_pct_Al, C4_pct_H2O, FC55569, C4_...   C4_pct_Hex   \n",
            "11998  [TI55021, 425_pct_Al, C4_pct_H2O, FC55569, C4_...      M_Value   \n",
            "11999  [TI55021, 425_pct_Al, C4_pct_H2O, FC55569, C4_...      FC55009   \n",
            "\n",
            "       Importance  \n",
            "0           530.0  \n",
            "1           313.0  \n",
            "2           264.0  \n",
            "3           285.0  \n",
            "4           344.0  \n",
            "...           ...  \n",
            "11995       228.0  \n",
            "11996       234.0  \n",
            "11997       220.0  \n",
            "11998       230.0  \n",
            "11999       288.0  \n",
            "\n",
            "[12000 rows x 3 columns]\n"
          ]
        }
      ],
      "source": [
        "print(results_df)"
      ]
    },
    {
      "cell_type": "code",
      "execution_count": 26,
      "metadata": {},
      "outputs": [],
      "source": [
        "# Group by 'Feature' and calculate the average importance\n",
        "average_importances = results_df.groupby('Feature')['Importance'].mean()\n",
        "\n",
        "# Convert the Series to a DataFrame\n",
        "average_importances_df = average_importances.reset_index()\n",
        "\n",
        "# Rename the columns for clarity\n",
        "average_importances_df.columns = ['Feature', 'Average Importance']\n",
        "\n",
        "# Sort the DataFrame by 'Average Importance' in descending order\n",
        "average_importances_df = average_importances_df.sort_values(by='Average Importance', ascending=False)\n",
        "\n",
        "# Display or save the DataFrame\n",
        "# print(average_importances_df)\n",
        "# Or save it to a CSV file\n",
        "# average_importances_df.to_csv('average_feature_importances.csv', index=False)\n"
      ]
    },
    {
      "cell_type": "code",
      "execution_count": 27,
      "metadata": {},
      "outputs": [
        {
          "name": "stdout",
          "output_type": "stream",
          "text": [
            "               Feature  Average Importance               Description\n",
            "0              FC55009          326.885000   STM TO PA-551  RING HTR\n",
            "1              DI55152          326.408333    2ND STG SEPR TO FA-560\n",
            "2              TC55552          308.183333  DC-551 ALKOX  FD PREHEAT\n",
            "3           425_pct_Al          296.993333                       NaN\n",
            "4           C4_pct_H2O          295.088333                       NaN\n",
            "5              LC90368          292.270000      FB-658 ALKOXIDE TANK\n",
            "6   HydWtr_pct_Ammonia          281.583333                       NaN\n",
            "7              TI55021          277.866667            STEAM TO DA554\n",
            "8              FC55569          276.081667    30# STM TO C4 STRIPPER\n",
            "9          HydWtr_Na2O          273.793333                       NaN\n",
            "10            FFC55553          267.140000  DC551 H2O/ALKOXIDE RATIO\n",
            "11             M_Value          261.436667                       NaN\n",
            "12          C4_pct_Hex          260.455000                       NaN\n",
            "13             PI55020          260.306667       DA-554 TOP PRESSURE\n",
            "14             FC55552          257.906667  ALK FD TO HYDR RX DC-551\n",
            "15             DI55102          255.855000          HYDROL RX OUTLET\n",
            "16             LC90366          251.251667        FB-657 SAO STORAGE\n",
            "17             FC55003          246.315000  DA-551 O/H H2O TO DC-551\n",
            "18          C4_pct_Eth          233.368333                       NaN\n",
            "19            FFC55555          219.811667  RECYC BUT/ALKOX FD RATIO\n"
          ]
        },
        {
          "name": "stderr",
          "output_type": "stream",
          "text": [
            "C:\\Users\\austinsh\\AppData\\Local\\Temp\\ipykernel_39308\\3091506829.py:9: SettingWithCopyWarning: \n",
            "A value is trying to be set on a copy of a slice from a DataFrame\n",
            "\n",
            "See the caveats in the documentation: https://pandas.pydata.org/pandas-docs/stable/user_guide/indexing.html#returning-a-view-versus-a-copy\n",
            "  final_df.rename(columns={'DESCRIPTION': 'Description'}, inplace=True)\n"
          ]
        }
      ],
      "source": [
        "# Merge the average_importances_df with df_TagDesc\n",
        "# Assuming 'ID' in df_TagDesc corresponds to 'Feature' in average_importances_df\n",
        "merged_df = average_importances_df.merge(df_TagDesc, left_on='Feature', right_on='ID', how='left')\n",
        "\n",
        "# Select only the required columns\n",
        "final_df = merged_df[['Feature', 'Average Importance', 'DESCRIPTION']]\n",
        "\n",
        "# Rename the 'DESCRIPTION' column to 'Description'\n",
        "final_df.rename(columns={'DESCRIPTION': 'Description'}, inplace=True)\n",
        "\n",
        "# Display or save the DataFrame\n",
        "print(final_df)\n",
        "# Or save it to a CSV file\n",
        "# final_df.to_csv('average_feature_importances_with_descriptions.csv', index=False)\n"
      ]
    },
    {
      "cell_type": "code",
      "execution_count": 28,
      "metadata": {},
      "outputs": [
        {
          "name": "stdout",
          "output_type": "stream",
          "text": [
            "2024-05-06 00:18:53.367891\n"
          ]
        }
      ],
      "source": [
        "from datetime import datetime\n",
        "\n",
        "# Get the current date and time\n",
        "current_date_time = datetime.now()\n",
        "\n",
        "# Print the current date and time\n",
        "print(current_date_time)\n"
      ]
    }
  ],
  "metadata": {
    "kernelspec": {
      "display_name": "Python 3 (ipykernel)",
      "language": "python",
      "name": "python3"
    },
    "language_info": {
      "codemirror_mode": {
        "name": "ipython",
        "version": 3
      },
      "file_extension": ".py",
      "mimetype": "text/x-python",
      "name": "python",
      "nbconvert_exporter": "python",
      "pygments_lexer": "ipython3",
      "version": "3.12.1"
    }
  },
  "nbformat": 4,
  "nbformat_minor": 4
}
