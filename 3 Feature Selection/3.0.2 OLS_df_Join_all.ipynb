{
  "cells": [
    {
      "cell_type": "code",
      "execution_count": 23,
      "metadata": {
        "tags": [],
        "trusted": true
      },
      "outputs": [],
      "source": [
        "# Import necessary libraries\n",
        "import pandas as pd\n",
        "import seaborn as sns\n",
        "import matplotlib.pyplot as plt\n",
        "from statsmodels.formula.api import ols\n",
        "import statsmodels.api as sm\n",
        "from sklearn.model_selection import train_test_split"
      ]
    },
    {
      "cell_type": "code",
      "execution_count": 24,
      "metadata": {},
      "outputs": [],
      "source": [
        "#df_All = pd.read_csv(r\"C:\\Users\\saust\\OneDrive - Sasol\\1 Project rC4\\Jupyter Notebooks\\Report 10-20-23 No Fluff\\df_All_Avg.csv\")\n",
        "\n",
        "df_All = pd.read_csv('df_Join_all.csv')\n",
        "\n",
        "\n",
        "#df_All = pd.read_csv(r\"C:\\Users\\saust\\OneDrive\\Desktop\\CodeSpace DLs\\102423\\Project rC4\\3 Final Machine Butanol\\df_CDCA6.csv\")\n"
      ]
    },
    {
      "cell_type": "code",
      "execution_count": 25,
      "metadata": {
        "trusted": true
      },
      "outputs": [],
      "source": [
        "# Set max columns to display\n",
        "pd.set_option('display.max_columns', None)"
      ]
    },
    {
      "cell_type": "code",
      "execution_count": 26,
      "metadata": {},
      "outputs": [],
      "source": [
        "# # List of columns to exclude to run XGboost feature selection\n",
        "# exclude_columns = ['Unnamed: 0', '%Al2O3_bM', 'Octanol PPM ', 'Hexanol PPM ',\n",
        "#        'Ethanol PPM ', 'Dodecanol PPM ', 'Decanol PPM ', '%nC8OH', '%nC6OH', '%nC12OH', '%nC10OH ',\n",
        "       \n",
        "#        'TI52014', 'TI55013', 'TI55014', 'TI55015', 'TI55016', 'TI55017', 'TI55021', 'TI55023',\n",
        "#        'TC52015', 'FC52018', 'II52554', 'TI40050', 'VI52558B'\n",
        "#                    ]\n",
        "\n",
        "# # Create a new DataFrame without the excluded columnsd\n",
        "# df_All = df_All.drop(columns=exclude_columns)"
      ]
    },
    {
      "cell_type": "code",
      "execution_count": 27,
      "metadata": {},
      "outputs": [],
      "source": [
        "# df_All = df_All[df_All['Date'] > '2022-06-15 00:00:00']"
      ]
    },
    {
      "cell_type": "code",
      "execution_count": 28,
      "metadata": {},
      "outputs": [],
      "source": [
        "\n",
        "selected_columns = ['Butanol PPM', '425 %Al', 'TC55552', 'DI55102', 'FC55569', 'DI55152',\n",
        "       'FC55576', 'TI55017', 'FC42428', 'AYC55580', 'LC55555', 'TI55023',\n",
        "       'FFC55553', 'FC55555', 'FC55009', 'LC55557', 'LC55553', 'FC55003',\n",
        "       'FFC55555'\n",
        "#                      ^^^^ From XGB with all variables as continous ^^^^\n",
        "\n",
        "#'Butanol PPM', <- Actuals ->\n",
        "#                     '425 SAO Al', 'FFC55555', 'FC55003', 'FC55569',\t\n",
        "#                     'TC55555', 'LC55568', 'DI55152',\t\n",
        "#                     'FC55009', 'FC55102',\t\n",
        "#                     'LC55553', 'LC55557', 'LC90366'\n",
        "                    ]\n",
        "\n",
        "existing_columns = [col for col in selected_columns if col in df_All.columns]\n",
        "df_All = df_All[existing_columns]"
      ]
    },
    {
      "cell_type": "code",
      "execution_count": 29,
      "metadata": {},
      "outputs": [],
      "source": [
        "# First Iteration\n",
        "# selected_columns = ['Butanol PPM', '425 SAO Al', 'FC42428', 'FC55003', 'FC55102', 'FC55152', 'FFC55555',\n",
        "#        'LC55553', 'LC55557', 'LC55568', 'LC90366', 'TC55555']\n",
        "\n",
        "\n"
      ]
    },
    {
      "cell_type": "code",
      "execution_count": 30,
      "metadata": {},
      "outputs": [
        {
          "data": {
            "text/plain": [
              "Index(['Butanol PPM', 'TC55552', 'DI55102', 'FC55569', 'DI55152', 'FC55576',\n",
              "       'TI55017', 'FC42428', 'AYC55580', 'LC55555', 'TI55023', 'FFC55553',\n",
              "       'FC55555', 'FC55009', 'LC55557', 'LC55553', 'FC55003', 'FFC55555'],\n",
              "      dtype='object')"
            ]
          },
          "execution_count": 30,
          "metadata": {},
          "output_type": "execute_result"
        }
      ],
      "source": [
        "df_All.columns"
      ]
    },
    {
      "cell_type": "code",
      "execution_count": 31,
      "metadata": {},
      "outputs": [],
      "source": [
        "# Splitting into train and test\n",
        "X = df_All.drop('Butanol PPM', axis=1)  # Assuming 'target' is your target column\n",
        "y = df_All['Butanol PPM']\n",
        "X_train, X_test, y_train, y_test = train_test_split(X, y, test_size=0.2, random_state=42)"
      ]
    },
    {
      "cell_type": "code",
      "execution_count": 32,
      "metadata": {},
      "outputs": [
        {
          "name": "stdout",
          "output_type": "stream",
          "text": [
            "                                 OLS Regression Results                                \n",
            "=======================================================================================\n",
            "Dep. Variable:            Butanol PPM   R-squared (uncentered):                   0.047\n",
            "Model:                            OLS   Adj. R-squared (uncentered):              0.041\n",
            "Method:                 Least Squares   F-statistic:                              8.009\n",
            "Date:                Thu, 30 Nov 2023   Prob (F-statistic):                    4.43e-20\n",
            "Time:                        09:19:05   Log-Likelihood:                         -21281.\n",
            "No. Observations:                2770   AIC:                                  4.260e+04\n",
            "Df Residuals:                    2753   BIC:                                  4.270e+04\n",
            "Df Model:                          17                                                  \n",
            "Covariance Type:            nonrobust                                                  \n",
            "==============================================================================\n",
            "                 coef    std err          t      P>|t|      [0.025      0.975]\n",
            "------------------------------------------------------------------------------\n",
            "TC55552       -1.2761      1.008     -1.265      0.206      -3.253       0.701\n",
            "DI55102      165.5401    203.581      0.813      0.416    -233.647     564.728\n",
            "FC55569        0.0483      0.034      1.432      0.152      -0.018       0.115\n",
            "DI55152       56.5175    360.657      0.157      0.875    -650.668     763.703\n",
            "FC55576        0.0518      0.048      1.082      0.279      -0.042       0.146\n",
            "TI55017       -0.3527      1.730     -0.204      0.838      -3.745       3.039\n",
            "FC42428        0.0004      0.004      0.111      0.912      -0.007       0.008\n",
            "AYC55580       1.5350      2.400      0.640      0.522      -3.170       6.240\n",
            "LC55555        3.8148      1.330      2.868      0.004       1.206       6.423\n",
            "TI55023        0.4212      2.273      0.185      0.853      -4.035       4.878\n",
            "FFC55553     424.3005    322.428      1.316      0.188    -207.924    1056.525\n",
            "FC55555        0.0005      0.006      0.080      0.937      -0.011       0.012\n",
            "FC55009        0.0122      0.024      0.499      0.618      -0.036       0.060\n",
            "LC55557        7.9824      4.542      1.758      0.079      -0.923      16.888\n",
            "LC55553       -3.4861      1.718     -2.029      0.043      -6.855      -0.117\n",
            "FC55003       -0.0733      0.016     -4.487      0.000      -0.105      -0.041\n",
            "FFC55555   -1128.0375    603.887     -1.868      0.062   -2312.154      56.079\n",
            "==============================================================================\n",
            "Omnibus:                     6428.253   Durbin-Watson:                   1.608\n",
            "Prob(Omnibus):                  0.000   Jarque-Bera (JB):         53178925.566\n",
            "Skew:                          22.227   Prob(JB):                         0.00\n",
            "Kurtosis:                     680.333   Cond. No.                     2.78e+06\n",
            "==============================================================================\n",
            "\n",
            "Notes:\n",
            "[1] R² is computed without centering (uncentered) since the model does not contain a constant.\n",
            "[2] Standard Errors assume that the covariance matrix of the errors is correctly specified.\n",
            "[3] The condition number is large, 2.78e+06. This might indicate that there are\n",
            "strong multicollinearity or other numerical problems.\n"
          ]
        }
      ],
      "source": [
        "#=============================================\n",
        "# TRAIN & EVALUATE REGRESSION MODEL\n",
        "#=============================================\n",
        "\n",
        "#fit simple linear regression model\n",
        "model = sm.OLS(y, X).fit()\n",
        "print(model.summary())"
      ]
    },
    {
      "cell_type": "code",
      "execution_count": 33,
      "metadata": {},
      "outputs": [
        {
          "name": "stdout",
          "output_type": "stream",
          "text": [
            "['TC55552', 'DI55102', 'FC55569', 'DI55152', 'FC55576', 'TI55017', 'FC42428', 'AYC55580', 'TI55023', 'FFC55553', 'FC55555', 'FC55009', 'LC55557', 'FFC55555']\n"
          ]
        }
      ],
      "source": [
        "# Convert summary to DataFrame\n",
        "summary_table = model.summary().tables[1]\n",
        "summary_df = pd.DataFrame(summary_table.data[1:], columns=summary_table.data[0])\n",
        "\n",
        "# Convert necessary columns to numeric\n",
        "numeric_cols = ['coef', 'std err', 't', 'P>|t|', '[0.025', '0.975]']\n",
        "summary_df[numeric_cols] = summary_df[numeric_cols].apply(pd.to_numeric, errors='coerce')\n",
        "\n",
        "# Apply the filter for insignificance and CI crossing zero\n",
        "threshold = 0.05\n",
        "filtered_df = summary_df[(summary_df['P>|t|'] > threshold) & ((summary_df['[0.025'] < 0) & (summary_df['0.975]'] > 0))]\n",
        "\n",
        "# Extracting the feature names\n",
        "insignificant_features = filtered_df.iloc[:, 0].tolist()  # First column contains feature names\n",
        "print(insignificant_features)\n"
      ]
    },
    {
      "cell_type": "code",
      "execution_count": 34,
      "metadata": {},
      "outputs": [
        {
          "name": "stdout",
          "output_type": "stream",
          "text": [
            "                   coef  std err      t  P>|t|    [0.025    0.975]\n",
            "0    TC55552    -1.2761    1.008 -1.265  0.206    -3.253     0.701\n",
            "1    DI55102   165.5401  203.581  0.813  0.416  -233.647   564.728\n",
            "2    FC55569     0.0483    0.034  1.432  0.152    -0.018     0.115\n",
            "3    DI55152    56.5175  360.657  0.157  0.875  -650.668   763.703\n",
            "4    FC55576     0.0518    0.048  1.082  0.279    -0.042     0.146\n",
            "5    TI55017    -0.3527    1.730 -0.204  0.838    -3.745     3.039\n",
            "6    FC42428     0.0004    0.004  0.111  0.912    -0.007     0.008\n",
            "7   AYC55580     1.5350    2.400  0.640  0.522    -3.170     6.240\n",
            "9    TI55023     0.4212    2.273  0.185  0.853    -4.035     4.878\n",
            "10  FFC55553   424.3005  322.428  1.316  0.188  -207.924  1056.525\n",
            "11   FC55555     0.0005    0.006  0.080  0.937    -0.011     0.012\n",
            "12   FC55009     0.0122    0.024  0.499  0.618    -0.036     0.060\n",
            "13   LC55557     7.9824    4.542  1.758  0.079    -0.923    16.888\n",
            "16  FFC55555 -1128.0375  603.887 -1.868  0.062 -2312.154    56.079\n"
          ]
        }
      ],
      "source": [
        "print(filtered_df)"
      ]
    },
    {
      "cell_type": "code",
      "execution_count": 35,
      "metadata": {},
      "outputs": [
        {
          "name": "stdout",
          "output_type": "stream",
          "text": [
            "\n",
            "Significant Features:\n",
            "['LC55555', 'LC55553', 'FC55003']\n"
          ]
        }
      ],
      "source": [
        "# Filter for significant features\n",
        "significant_df = summary_df[(summary_df['P>|t|'] <= threshold) & ((summary_df['[0.025'] > 0) | (summary_df['0.975]'] < 0))]\n",
        "significant_features = significant_df.iloc[:, 0].tolist()\n",
        "print(\"\\nSignificant Features:\")\n",
        "print(significant_features)"
      ]
    }
  ],
  "metadata": {
    "kernelspec": {
      "display_name": "Python 3 (ipykernel)",
      "language": "python",
      "name": "python3"
    },
    "language_info": {
      "codemirror_mode": {
        "name": "ipython",
        "version": 3
      },
      "file_extension": ".py",
      "mimetype": "text/x-python",
      "name": "python",
      "nbconvert_exporter": "python",
      "pygments_lexer": "ipython3",
      "version": "3.10.13"
    }
  },
  "nbformat": 4,
  "nbformat_minor": 4
}
