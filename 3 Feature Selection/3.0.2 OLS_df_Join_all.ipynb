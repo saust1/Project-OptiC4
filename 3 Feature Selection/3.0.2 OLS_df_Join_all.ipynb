{
  "cells": [
    {
      "cell_type": "code",
      "execution_count": 1,
      "metadata": {
        "tags": [],
        "trusted": true
      },
      "outputs": [],
      "source": [
        "# Import necessary libraries\n",
        "import pandas as pd\n",
        "import seaborn as sns\n",
        "import matplotlib.pyplot as plt\n",
        "from statsmodels.formula.api import ols\n",
        "import statsmodels.api as sm\n",
        "from sklearn.model_selection import train_test_split"
      ]
    },
    {
      "cell_type": "code",
      "execution_count": 2,
      "metadata": {},
      "outputs": [],
      "source": [
        "#df_All = pd.read_csv(r\"C:\\Users\\saust\\OneDrive - Sasol\\1 Project rC4\\Jupyter Notebooks\\Report 10-20-23 No Fluff\\df_All_Avg.csv\")\n",
        "\n",
        "df_All = pd.read_csv('df_Join_all.csv')\n",
        "\n",
        "\n",
        "#df_All = pd.read_csv(r\"C:\\Users\\saust\\OneDrive\\Desktop\\CodeSpace DLs\\102423\\Project rC4\\3 Final Machine Butanol\\df_CDCA6.csv\")\n"
      ]
    },
    {
      "cell_type": "code",
      "execution_count": 3,
      "metadata": {
        "trusted": true
      },
      "outputs": [],
      "source": [
        "# Set max columns to display\n",
        "pd.set_option('display.max_columns', None)"
      ]
    },
    {
      "cell_type": "code",
      "execution_count": 4,
      "metadata": {},
      "outputs": [],
      "source": [
        "# # List of columns to exclude to run XGboost feature selection\n",
        "# exclude_columns = ['Unnamed: 0', '%Al2O3_bM', 'Octanol PPM ', 'Hexanol PPM ',\n",
        "#        'Ethanol PPM ', 'Dodecanol PPM ', 'Decanol PPM ', '%nC8OH', '%nC6OH', '%nC12OH', '%nC10OH ',\n",
        "       \n",
        "#        'TI52014', 'TI55013', 'TI55014', 'TI55015', 'TI55016', 'TI55017', 'TI55021', 'TI55023',\n",
        "#        'TC52015', 'FC52018', 'II52554', 'TI40050', 'VI52558B'\n",
        "#                    ]\n",
        "\n",
        "# # Create a new DataFrame without the excluded columnsd\n",
        "# df_All = df_All.drop(columns=exclude_columns)"
      ]
    },
    {
      "cell_type": "code",
      "execution_count": 5,
      "metadata": {},
      "outputs": [],
      "source": [
        "# df_All = df_All[df_All['Date'] > '2022-06-15 00:00:00']"
      ]
    },
    {
      "cell_type": "code",
      "execution_count": 6,
      "metadata": {},
      "outputs": [],
      "source": [
        "\n",
        "selected_columns = ['Butanol PPM',\n",
        "                    '425 SAO Al', 'FFC55555', 'FC55003', 'FC55569',\t\n",
        "                    'TC55555', 'LC52572', 'LC55568', 'DI55152',\t\n",
        "                    'FC55009', 'FC55102',\t\n",
        "                    'LC55553', 'LC55557', 'LC90366'\n",
        "                    ]\n",
        "\n",
        "existing_columns = [col for col in selected_columns if col in df_All.columns]\n",
        "df_All = df_All[existing_columns]"
      ]
    },
    {
      "cell_type": "code",
      "execution_count": 7,
      "metadata": {},
      "outputs": [],
      "source": [
        "# First Iteration\n",
        "# selected_columns = ['Butanol PPM', '425 SAO Al', 'FC42428', 'FC55003', 'FC55102', 'FC55152', 'FFC55555',\n",
        "#        'LC55553', 'LC55557', 'LC55568', 'LC90366', 'TC55555']\n",
        "\n",
        "\n"
      ]
    },
    {
      "cell_type": "code",
      "execution_count": 8,
      "metadata": {},
      "outputs": [
        {
          "data": {
            "text/plain": [
              "Index(['Butanol PPM', '425 SAO Al', 'FFC55555', 'FC55003', 'FC55569',\n",
              "       'TC55555', 'LC52572', 'LC55568', 'DI55152', 'FC55009', 'FC55102',\n",
              "       'LC55553', 'LC55557', 'LC90366'],\n",
              "      dtype='object')"
            ]
          },
          "execution_count": 8,
          "metadata": {},
          "output_type": "execute_result"
        }
      ],
      "source": [
        "df_All.columns"
      ]
    },
    {
      "cell_type": "code",
      "execution_count": 9,
      "metadata": {},
      "outputs": [],
      "source": [
        "# Splitting into train and test\n",
        "X = df_All.drop('Butanol PPM', axis=1)  # Assuming 'target' is your target column\n",
        "y = df_All['Butanol PPM']\n",
        "X_train, X_test, y_train, y_test = train_test_split(X, y, test_size=0.2, random_state=42)"
      ]
    },
    {
      "cell_type": "code",
      "execution_count": 10,
      "metadata": {},
      "outputs": [
        {
          "name": "stdout",
          "output_type": "stream",
          "text": [
            "                                 OLS Regression Results                                \n",
            "=======================================================================================\n",
            "Dep. Variable:            Butanol PPM   R-squared (uncentered):                   0.045\n",
            "Model:                            OLS   Adj. R-squared (uncentered):              0.040\n",
            "Method:                 Least Squares   F-statistic:                              9.949\n",
            "Date:                Thu, 30 Nov 2023   Prob (F-statistic):                    9.70e-21\n",
            "Time:                        08:05:11   Log-Likelihood:                         -21284.\n",
            "No. Observations:                2770   AIC:                                  4.259e+04\n",
            "Df Residuals:                    2757   BIC:                                  4.267e+04\n",
            "Df Model:                          13                                                  \n",
            "Covariance Type:            nonrobust                                                  \n",
            "==============================================================================\n",
            "                 coef    std err          t      P>|t|      [0.025      0.975]\n",
            "------------------------------------------------------------------------------\n",
            "425 SAO Al    13.5043     25.311      0.534      0.594     -36.126      63.135\n",
            "FFC55555   -1539.1139    548.455     -2.806      0.005   -2614.538    -463.690\n",
            "FC55003       -0.0807      0.015     -5.208      0.000      -0.111      -0.050\n",
            "FC55569        0.0238      0.032      0.748      0.455      -0.039       0.086\n",
            "TC55555        1.4469      3.394      0.426      0.670      -5.208       8.102\n",
            "LC52572        3.2490      5.089      0.638      0.523      -6.729      13.227\n",
            "LC55568       10.8908      9.381      1.161      0.246      -7.503      29.285\n",
            "DI55152      745.7469    303.797      2.455      0.014     150.055    1341.439\n",
            "FC55009        0.0175      0.019      0.904      0.366      -0.020       0.055\n",
            "FC55102       -0.0003      0.002     -0.134      0.893      -0.004       0.003\n",
            "LC55553       -2.7127      1.589     -1.708      0.088      -5.828       0.402\n",
            "LC55557        1.5276      4.011      0.381      0.703      -6.338       9.393\n",
            "LC90366       -0.7700      0.411     -1.875      0.061      -1.575       0.035\n",
            "==============================================================================\n",
            "Omnibus:                     6441.359   Durbin-Watson:                   1.605\n",
            "Prob(Omnibus):                  0.000   Jarque-Bera (JB):         54008667.565\n",
            "Skew:                          22.334   Prob(JB):                         0.00\n",
            "Kurtosis:                     685.605   Cond. No.                     2.47e+06\n",
            "==============================================================================\n",
            "\n",
            "Notes:\n",
            "[1] R² is computed without centering (uncentered) since the model does not contain a constant.\n",
            "[2] Standard Errors assume that the covariance matrix of the errors is correctly specified.\n",
            "[3] The condition number is large, 2.47e+06. This might indicate that there are\n",
            "strong multicollinearity or other numerical problems.\n"
          ]
        }
      ],
      "source": [
        "#=============================================\n",
        "# TRAIN & EVALUATE REGRESSION MODEL\n",
        "#=============================================\n",
        "\n",
        "#fit simple linear regression model\n",
        "model = sm.OLS(y, X).fit()\n",
        "print(model.summary())"
      ]
    },
    {
      "cell_type": "code",
      "execution_count": 11,
      "metadata": {},
      "outputs": [
        {
          "name": "stdout",
          "output_type": "stream",
          "text": [
            "['425 SAO Al', 'FC55569', 'TC55555', 'LC52572', 'LC55568', 'FC55009', 'FC55102', 'LC55553', 'LC55557', 'LC90366']\n"
          ]
        }
      ],
      "source": [
        "# Convert summary to DataFrame\n",
        "summary_table = model.summary().tables[1]\n",
        "summary_df = pd.DataFrame(summary_table.data[1:], columns=summary_table.data[0])\n",
        "\n",
        "# Convert necessary columns to numeric\n",
        "numeric_cols = ['coef', 'std err', 't', 'P>|t|', '[0.025', '0.975]']\n",
        "summary_df[numeric_cols] = summary_df[numeric_cols].apply(pd.to_numeric, errors='coerce')\n",
        "\n",
        "# Apply the filter for insignificance and CI crossing zero\n",
        "threshold = 0.05\n",
        "filtered_df = summary_df[(summary_df['P>|t|'] > threshold) & ((summary_df['[0.025'] < 0) & (summary_df['0.975]'] > 0))]\n",
        "\n",
        "# Extracting the feature names\n",
        "insignificant_features = filtered_df.iloc[:, 0].tolist()  # First column contains feature names\n",
        "print(insignificant_features)\n"
      ]
    },
    {
      "cell_type": "code",
      "execution_count": 12,
      "metadata": {},
      "outputs": [
        {
          "name": "stdout",
          "output_type": "stream",
          "text": [
            "                   coef  std err      t  P>|t|  [0.025  0.975]\n",
            "0   425 SAO Al  13.5043   25.311  0.534  0.594 -36.126  63.135\n",
            "3      FC55569   0.0238    0.032  0.748  0.455  -0.039   0.086\n",
            "4      TC55555   1.4469    3.394  0.426  0.670  -5.208   8.102\n",
            "5      LC52572   3.2490    5.089  0.638  0.523  -6.729  13.227\n",
            "6      LC55568  10.8908    9.381  1.161  0.246  -7.503  29.285\n",
            "8      FC55009   0.0175    0.019  0.904  0.366  -0.020   0.055\n",
            "9      FC55102  -0.0003    0.002 -0.134  0.893  -0.004   0.003\n",
            "10     LC55553  -2.7127    1.589 -1.708  0.088  -5.828   0.402\n",
            "11     LC55557   1.5276    4.011  0.381  0.703  -6.338   9.393\n",
            "12     LC90366  -0.7700    0.411 -1.875  0.061  -1.575   0.035\n"
          ]
        }
      ],
      "source": [
        "print(filtered_df)"
      ]
    },
    {
      "cell_type": "code",
      "execution_count": 13,
      "metadata": {},
      "outputs": [
        {
          "name": "stdout",
          "output_type": "stream",
          "text": [
            "\n",
            "Significant Features:\n",
            "['FFC55555', 'FC55003', 'DI55152']\n"
          ]
        }
      ],
      "source": [
        "# Filter for significant features\n",
        "significant_df = summary_df[(summary_df['P>|t|'] <= threshold) & ((summary_df['[0.025'] > 0) | (summary_df['0.975]'] < 0))]\n",
        "significant_features = significant_df.iloc[:, 0].tolist()\n",
        "print(\"\\nSignificant Features:\")\n",
        "print(significant_features)"
      ]
    }
  ],
  "metadata": {
    "kernelspec": {
      "display_name": "Python 3 (ipykernel)",
      "language": "python",
      "name": "python3"
    },
    "language_info": {
      "codemirror_mode": {
        "name": "ipython",
        "version": 3
      },
      "file_extension": ".py",
      "mimetype": "text/x-python",
      "name": "python",
      "nbconvert_exporter": "python",
      "pygments_lexer": "ipython3",
      "version": "3.10.13"
    }
  },
  "nbformat": 4,
  "nbformat_minor": 4
}
