{
  "cells": [
    {
      "cell_type": "code",
      "execution_count": 1,
      "metadata": {},
      "outputs": [],
      "source": [
        "# %pip install pygam --user\n",
        "# %pip install FuzzyTM>=0.4.0 --user\n"
      ]
    },
    {
      "cell_type": "code",
      "execution_count": 2,
      "metadata": {
        "tags": [],
        "trusted": true
      },
      "outputs": [
        {
          "name": "stderr",
          "output_type": "stream",
          "text": [
            "C:\\Users\\austinsh\\AppData\\Local\\Temp\\ipykernel_18056\\3656989879.py:2: DeprecationWarning: \n",
            "Pyarrow will become a required dependency of pandas in the next major release of pandas (pandas 3.0),\n",
            "(to allow more performant data types, such as the Arrow string type, and better interoperability with other libraries)\n",
            "but was not found to be installed on your system.\n",
            "If this would cause problems for you,\n",
            "please provide us feedback at https://github.com/pandas-dev/pandas/issues/54466\n",
            "        \n",
            "  import pandas as pd\n"
          ]
        }
      ],
      "source": [
        "# Import necessary libraries\n",
        "import pandas as pd\n",
        "from pygam import LinearGAM, s\n",
        "from sklearn.model_selection import train_test_split\n"
      ]
    },
    {
      "cell_type": "code",
      "execution_count": 3,
      "metadata": {},
      "outputs": [],
      "source": [
        "# url_df_All_1 = 'https://github.com/saust1/Project-OptiC4/blob/e358d5172ac0b8fbb6fba776c0fe0a2b523b8b5c/3%20Feature%20Selection/contData_all_Avg%20-%201o2.csv?raw=true'\n",
        "# url_df_All_2 = 'https://github.com/saust1/Project-OptiC4/blob/e358d5172ac0b8fbb6fba776c0fe0a2b523b8b5c/3%20Feature%20Selection/contData_all_Avg%20-%202o2.csv?raw=true'\n",
        "\n",
        "# df_All_1 = pd.read_csv(url_df_All_1, index_col=0)\n",
        "# df_All_2 = pd.read_csv(url_df_All_2, index_col=0)"
      ]
    },
    {
      "cell_type": "code",
      "execution_count": 5,
      "metadata": {},
      "outputs": [
        {
          "name": "stdout",
          "output_type": "stream",
          "text": [
            "                  Date  425_pct_Al     Al2O3  M_Value  C4_pct_Eth  C4_pct_H2O  \\\n",
            "0  2012-05-17 09:00:00    6.319560  11.41670  3.50773    2.554580     22.0531   \n",
            "1  2012-05-17 10:00:00    6.319915  11.40835  3.50797    2.555935     22.0557   \n",
            "2  2012-05-17 12:00:00    6.320970  11.39165  3.50869    2.560005     22.0636   \n",
            "3  2012-05-18 08:00:00    6.328690  11.39165  3.51401    2.540370     22.0604   \n",
            "4  2012-05-18 09:00:00    6.336060  11.40500  3.51910    2.514430     22.0484   \n",
            "\n",
            "   HydWtr_pct_Ammonia  C4_pct_Hex  HydWtr_Na2O  Butanol  ...    LC90366  \\\n",
            "0            0.867508    0.670721     3.354160  30.3662  ...  15.449150   \n",
            "1            0.864729    0.671059     3.306475  30.3662  ...  15.449150   \n",
            "2            0.856391    0.672071     3.163420  30.6785  ...  15.449150   \n",
            "3            0.811652    0.674174     2.238130  32.6454  ...   8.759814   \n",
            "4            0.773793    0.675408     1.391475  32.6454  ...   8.759814   \n",
            "\n",
            "    LC90368   PI55004   PI55020   TC55552   TC55553   TC55555   TI40050  \\\n",
            "0  49.26750  1.236360 -0.389406  179.0115  213.9375  179.9940  82.96565   \n",
            "1  49.26750  1.236360 -0.389406  179.0115  213.9375  179.9940  82.96565   \n",
            "2  49.26750  1.236360 -0.389406  179.0115  213.9375  179.9940  82.96565   \n",
            "3  48.51306  1.190342 -0.318266  180.7166  201.0680  179.9338  82.41662   \n",
            "4  48.51306  1.190342 -0.318266  180.7166  201.0680  179.9338  82.41662   \n",
            "\n",
            "    TI55021   TI55023  \n",
            "0  213.8740  212.3085  \n",
            "1  213.8740  212.3085  \n",
            "2  213.8740  212.3085  \n",
            "3  214.5402  212.9866  \n",
            "4  214.5402  212.9866  \n",
            "\n",
            "[5 rows x 33 columns]\n"
          ]
        }
      ],
      "source": [
        "\n",
        "# df_All_1 = pd.read_csv(r'C:\\Users\\saust\\OneDrive\\Desktop\\GitRepo\\Project-OptiC4\\3 Feature Selection\\contData_all_Avg - 1o2.csv')\n",
        "# df_All_2 = pd.read_csv(r'C:\\Users\\saust\\OneDrive\\Desktop\\GitRepo\\Project-OptiC4\\3 Feature Selection\\contData_all_Avg - 2o2.csv')\n",
        "# Concatenate (union) the dataframes\n",
        "df_All = pd.read_csv(r'C:\\Users\\austinsh\\Project-OptiC4\\III Models\\3 Model C4\\3 Feature Selection\\filtered-out_5-9_corr.csv')\n",
        "\n",
        "# df_All = pd.concat([df_All_1, df_All_2], ignore_index=True)\n",
        "\n",
        "print(df_All.head())"
      ]
    },
    {
      "cell_type": "code",
      "execution_count": 6,
      "metadata": {},
      "outputs": [
        {
          "data": {
            "text/plain": [
              "Index(['Date', '425_pct_Al', 'Al2O3', 'M_Value', 'C4_pct_Eth', 'C4_pct_H2O',\n",
              "       'HydWtr_pct_Ammonia', 'C4_pct_Hex', 'HydWtr_Na2O', 'Butanol', 'DI55102',\n",
              "       'DI55152', 'DI55580', 'FC55003', 'FC55552', 'FC55569', 'FC55576',\n",
              "       'FFC55553', 'FFC55555', 'LC52572', 'LC55553', 'LC55557', 'LC55568',\n",
              "       'LC90366', 'LC90368', 'PI55004', 'PI55020', 'TC55552', 'TC55553',\n",
              "       'TC55555', 'TI40050', 'TI55021', 'TI55023'],\n",
              "      dtype='object')"
            ]
          },
          "execution_count": 6,
          "metadata": {},
          "output_type": "execute_result"
        }
      ],
      "source": [
        "df_All.columns"
      ]
    },
    {
      "cell_type": "code",
      "execution_count": 7,
      "metadata": {
        "trusted": true
      },
      "outputs": [],
      "source": [
        "# Set max columns to display\n",
        "pd.set_option('display.max_columns', None)"
      ]
    },
    {
      "cell_type": "code",
      "execution_count": 8,
      "metadata": {},
      "outputs": [],
      "source": [
        "# # List of columns to exclude to run XGboost feature selection\n",
        "# exclude_columns = ['Octanol', 'Hexanol', 'Ethanol', 'Decanol',\n",
        "       \n",
        "#        'TI52014', 'TI55013', 'TI55014', 'TI55015', 'TI55016', 'TI55017', 'TI55021', 'TI55023',\n",
        "#        'TC52015', 'FC52018', 'II52554', 'TI40050', 'VI52558B'\n",
        "#                    ]\n",
        "\n",
        "# # Create a new DataFrame without the excluded columnsd\n",
        "# df_All = df_All.drop(columns=exclude_columns)"
      ]
    },
    {
      "cell_type": "code",
      "execution_count": 9,
      "metadata": {},
      "outputs": [],
      "source": [
        "# df_All = df_All[df_All['Date'] > '2022-06-15 00:00:00']"
      ]
    },
    {
      "cell_type": "markdown",
      "metadata": {},
      "source": [
        "# Remaining Features after Correlation Analysis"
      ]
    },
    {
      "cell_type": "code",
      "execution_count": 10,
      "metadata": {},
      "outputs": [],
      "source": [
        "\n",
        "# selected_columns = ['425 %Al', 'Butanol', 'DI55102', 'DI55152', 'DI55580', 'FC42428',\n",
        "#        'FC55003', 'FC55552', 'FC55569', 'FC55576', 'FFC55553', 'FFC55555',\n",
        "#        'LC52572', 'LC55553', 'LC55555', 'LC55557', 'LC55568', 'LC90366',\n",
        "#        'LC90368', 'PI55004', 'PI55020', 'TC55552', 'TC55553', 'TC55555'\n",
        "#                    ]\n",
        "\n",
        "# existing_columns = [col for col in selected_columns if col in df_All.columns]\n",
        "# df_All = df_All[existing_columns]"
      ]
    },
    {
      "cell_type": "code",
      "execution_count": 11,
      "metadata": {},
      "outputs": [],
      "source": [
        "# First Iteration\n",
        "# selected_columns = ['Butanol PPM', '425 SAO Al', 'FC42428', 'FC55003', 'FC55102', 'FC55152', 'FFC55555',\n",
        "#        'LC55553', 'LC55557', 'LC55568', 'LC90366', 'TC55555']\n",
        "\n",
        "\n"
      ]
    },
    {
      "cell_type": "code",
      "execution_count": 12,
      "metadata": {},
      "outputs": [
        {
          "data": {
            "text/plain": [
              "Index(['Date', '425_pct_Al', 'Al2O3', 'M_Value', 'C4_pct_Eth', 'C4_pct_H2O',\n",
              "       'HydWtr_pct_Ammonia', 'C4_pct_Hex', 'HydWtr_Na2O', 'Butanol', 'DI55102',\n",
              "       'DI55152', 'DI55580', 'FC55003', 'FC55552', 'FC55569', 'FC55576',\n",
              "       'FFC55553', 'FFC55555', 'LC52572', 'LC55553', 'LC55557', 'LC55568',\n",
              "       'LC90366', 'LC90368', 'PI55004', 'PI55020', 'TC55552', 'TC55553',\n",
              "       'TC55555', 'TI40050', 'TI55021', 'TI55023'],\n",
              "      dtype='object')"
            ]
          },
          "execution_count": 12,
          "metadata": {},
          "output_type": "execute_result"
        }
      ],
      "source": [
        "df_All.columns"
      ]
    },
    {
      "cell_type": "code",
      "execution_count": 15,
      "metadata": {},
      "outputs": [
        {
          "name": "stdout",
          "output_type": "stream",
          "text": [
            "LinearGAM                                                                                                 \n",
            "=============================================== ==========================================================\n",
            "Distribution:                        NormalDist Effective DoF:                                     48.3694\n",
            "Link Function:                     IdentityLink Log Likelihood:                               -168466.6126\n",
            "Number of Samples:                        32101 AIC:                                           337031.9639\n",
            "                                                AICc:                                          337032.1191\n",
            "                                                GCV:                                               75.5784\n",
            "                                                Scale:                                             75.3735\n",
            "                                                Pseudo R-Squared:                                   0.0383\n",
            "==========================================================================================================\n",
            "Feature Function                  Lambda               Rank         EDoF         P > x        Sig. Code   \n",
            "================================= ==================== ============ ============ ============ ============\n",
            "s(0)                              [0.6]                20           16.9         1.11e-16     ***         \n",
            "s(9)                              [0.6]                20           16.2         1.11e-16     ***         \n",
            "s(27)                             [0.6]                20           15.3         1.11e-16     ***         \n",
            "intercept                                              1            0.0          1.11e-16     ***         \n",
            "==========================================================================================================\n",
            "Significance codes:  0 '***' 0.001 '**' 0.01 '*' 0.05 '.' 0.1 ' ' 1\n",
            "\n",
            "WARNING: Fitting splines and a linear function to a feature introduces a model identifiability problem\n",
            "         which can cause p-values to appear significant when they are not.\n",
            "\n",
            "WARNING: p-values calculated in this manner behave correctly for un-penalized models or models with\n",
            "         known smoothing parameters, but when smoothing parameters have been estimated, the p-values\n",
            "         are typically lower than they should be, meaning that the tests reject the null too readily.\n",
            "None\n"
          ]
        },
        {
          "name": "stderr",
          "output_type": "stream",
          "text": [
            "C:\\Users\\austinsh\\AppData\\Local\\Temp\\ipykernel_18056\\2366905469.py:18: UserWarning: KNOWN BUG: p-values computed in this summary are likely much smaller than they should be. \n",
            " \n",
            "Please do not make inferences based on these values! \n",
            "\n",
            "Collaborate on a solution, and stay up to date at: \n",
            "github.com/dswah/pyGAM/issues/163 \n",
            "\n",
            "  print(gam.summary())\n"
          ]
        }
      ],
      "source": [
        "# Assuming df_All is your DataFrame and 'Butanol' is your target column\n",
        "\n",
        "# Splitting into train and test\n",
        "X = df_All.drop(['Butanol', 'Date'], axis=1)\n",
        "y = df_All['Butanol']\n",
        "X_train, X_test, y_train, y_test = train_test_split(X, y, test_size=0.2, random_state=42)\n",
        "\n",
        "# Get the indices of the specific features\n",
        "feature_indices = [X_train.columns.get_loc(feature) for feature in ['425_pct_Al', 'DI55152', 'TC55555']]\n",
        "\n",
        "# Create a GAM with splines for the specified features\n",
        "gam = LinearGAM(s(feature_indices[0]) + s(feature_indices[1]) + s(feature_indices[2]))\n",
        "\n",
        "# Fit the GAM model\n",
        "gam.fit(X_train, y_train)\n",
        "\n",
        "# Evaluate the model\n",
        "print(gam.summary())\n"
      ]
    },
    {
      "cell_type": "code",
      "execution_count": null,
      "metadata": {},
      "outputs": [],
      "source": [
        "from datetime import datetime\n",
        "\n",
        "# Get the current date and time\n",
        "current_date_time = datetime.now()\n",
        "\n",
        "# Print the current date and time\n",
        "print(current_date_time)\n"
      ]
    }
  ],
  "metadata": {
    "kernelspec": {
      "display_name": "Python 3 (ipykernel)",
      "language": "python",
      "name": "python3"
    },
    "language_info": {
      "codemirror_mode": {
        "name": "ipython",
        "version": 3
      },
      "file_extension": ".py",
      "mimetype": "text/x-python",
      "name": "python",
      "nbconvert_exporter": "python",
      "pygments_lexer": "ipython3",
      "version": "3.12.1"
    }
  },
  "nbformat": 4,
  "nbformat_minor": 4
}
