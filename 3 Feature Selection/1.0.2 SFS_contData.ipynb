{
  "cells": [
    {
      "cell_type": "markdown",
      "metadata": {},
      "source": []
    },
    {
      "cell_type": "code",
      "execution_count": 1,
      "metadata": {
        "tags": [],
        "trusted": true
      },
      "outputs": [],
      "source": [
        "# Import necessary libraries\n",
        "import pandas as pd\n",
        "from sklearn.linear_model import LinearRegression\n",
        "from mlxtend.feature_selection import SequentialFeatureSelector as SFS\n",
        "from sklearn.model_selection import train_test_split"
      ]
    },
    {
      "cell_type": "code",
      "execution_count": 2,
      "metadata": {
        "trusted": true
      },
      "outputs": [],
      "source": [
        "# Set max columns to display\n",
        "pd.set_option('display.max_columns', None)"
      ]
    },
    {
      "cell_type": "code",
      "execution_count": 3,
      "metadata": {},
      "outputs": [],
      "source": [
        "# df_All = df_All[df_All['Date'] > '2022-06-15 00:00:00']"
      ]
    },
    {
      "cell_type": "code",
      "execution_count": 4,
      "metadata": {},
      "outputs": [
        {
          "name": "stdout",
          "output_type": "stream",
          "text": [
            "   425_pct_Al  M_Value  C4_pct_Eth  C4_pct_H2O  C4_pct_Hex  \\\n",
            "0    6.307630  3.50893    2.508420    21.96340    0.659256   \n",
            "1    6.308335  3.50863    2.511135    21.96865    0.659930   \n",
            "2    6.309390  3.50818    2.515210    21.97655    0.660942   \n",
            "3    6.310090  3.50788    2.517925    21.98185    0.661616   \n",
            "4    6.310790  3.50758    2.520640    21.98715    0.662291   \n",
            "\n",
            "   HydWtr_pct_Ammonia  HydWtr_Na2O   DI55152   FC55003       FC55552  \\\n",
            "0            0.908765     2.712180  0.925255  4919.290  41564.100000   \n",
            "1            0.907643     2.805415  0.924281  5039.445  41558.250000   \n",
            "2            0.905959     2.945270  0.923773  5268.620  41524.066667   \n",
            "3            0.904837     3.038505  0.924103  5349.320  41500.275000   \n",
            "4            0.903715     3.131740  0.924258  5563.165  41466.625000   \n",
            "\n",
            "       FC55569  FFC55553  FFC55555    LC55555   PI55004   TC55552     TC55555  \\\n",
            "0  6918.110000  0.996975  0.751501  59.968800  1.306310  177.1880  180.125000   \n",
            "1  6919.960000  0.998847  0.750588  59.932300  1.181220  177.2505  180.053000   \n",
            "2  6916.486667  0.998648  0.750505  60.002433  1.216603  177.4170  180.001667   \n",
            "3  6918.470000  1.000349  0.750325  60.015925  1.206718  177.4590  180.010750   \n",
            "4  6915.790000  1.000862  0.750021  60.020500  1.163892  177.5490  179.939500   \n",
            "\n",
            "      TI55021    Butanol  \n",
            "0  212.861000  54.858300  \n",
            "1  212.699000  51.190050  \n",
            "2  212.822333  48.744567  \n",
            "3  212.799750  46.604750  \n",
            "4  212.853000  44.587220  \n"
          ]
        }
      ],
      "source": [
        "df_All_1 = pd.read_csv(r'C:\\Users\\saust\\OneDrive\\Desktop\\GitRepo\\Project-OptiC4\\1 Preprocess\\Merge Data\\contData_all_Avg_1o2.csv')\n",
        "df_All_2 = pd.read_csv(r'C:\\Users\\saust\\OneDrive\\Desktop\\GitRepo\\Project-OptiC4\\1 Preprocess\\Merge Data\\contData_all_Avg_2o2.csv')\n",
        "# Concatenate (union) the dataframes\n",
        "df_All = pd.concat([df_All_1, df_All_2], ignore_index=True)\n",
        "\n",
        "print(df_All.head())"
      ]
    },
    {
      "cell_type": "code",
      "execution_count": 5,
      "metadata": {},
      "outputs": [],
      "source": [
        "# # List of columns to exclude to run XGboost feature selection\n",
        "# exclude_columns = ['Octanol', 'Hexanol', 'Ethanol', 'Decanol',\n",
        "       \n",
        "#        'TI52014', 'TI55013', 'TI55014', 'TI55015', 'TI55016', 'TI55017', 'TI55021', 'TI55023',\n",
        "#        'TC52015', 'FC52018', 'II52554', 'TI40050', 'VI52558B'\n",
        "#                    ]\n",
        "\n",
        "# # Create a new DataFrame without the excluded columnsd\n",
        "# df_All = df_All.drop(columns=exclude_columns)"
      ]
    },
    {
      "cell_type": "code",
      "execution_count": 6,
      "metadata": {},
      "outputs": [],
      "source": [
        "# selected_columns = ['425 %Al', 'Butanol', 'DI55102', 'DI55152', 'DI55580', 'FC42428',\n",
        "#        'FC55003', 'FC55552', 'FC55569', 'FC55576', 'FFC55553', 'FFC55555',\n",
        "#        'LC52572', 'LC55553', 'LC55555', 'LC55557', 'LC55568', 'LC90366',\n",
        "#        'LC90368', 'PI55004', 'PI55020', 'TC55552', 'TC55553', 'TC55555'\n",
        "#                    ]\n",
        "\n",
        "# existing_columns = [col for col in selected_columns if col in df_All.columns]\n",
        "# df_All = df_All[existing_columns]"
      ]
    },
    {
      "cell_type": "code",
      "execution_count": 7,
      "metadata": {},
      "outputs": [
        {
          "data": {
            "text/plain": [
              "Index(['425_pct_Al', 'M_Value', 'C4_pct_Eth', 'C4_pct_H2O', 'C4_pct_Hex',\n",
              "       'HydWtr_pct_Ammonia', 'HydWtr_Na2O', 'DI55152', 'FC55003', 'FC55552',\n",
              "       'FC55569', 'FFC55553', 'FFC55555', 'LC55555', 'PI55004', 'TC55552',\n",
              "       'TC55555', 'TI55021', 'Butanol'],\n",
              "      dtype='object')"
            ]
          },
          "execution_count": 7,
          "metadata": {},
          "output_type": "execute_result"
        }
      ],
      "source": [
        "df_All.columns"
      ]
    },
    {
      "cell_type": "code",
      "execution_count": 8,
      "metadata": {},
      "outputs": [],
      "source": [
        "# Splitting into train and test\n",
        "X = df_All.drop('Butanol', axis=1)  # Assuming 'target' is your target column\n",
        "y = df_All['Butanol']\n",
        "X_train, X_test, y_train, y_test = train_test_split(X, y, test_size=0.2, random_state=42)"
      ]
    },
    {
      "cell_type": "code",
      "execution_count": 9,
      "metadata": {},
      "outputs": [],
      "source": [
        "# Create a linear regression model\n",
        "linreg = LinearRegression()\n",
        "\n",
        "# Create a SequentialFeatureSelector object\n",
        "sfs = SFS(linreg, \n",
        "          k_features='best', \n",
        "          forward=True, \n",
        "          floating=True, \n",
        "          scoring='r2',\n",
        "          cv=5)\n",
        "\n",
        "# Fit the model\n",
        "sfs = sfs.fit(X_train, y_train)\n",
        "\n",
        "# Get the selected feature names\n",
        "selected_features = X_train.columns[list(sfs.k_feature_idx_)]\n",
        "\n",
        "# Build the final model using selected features\n",
        "final_model = linreg.fit(X_train[selected_features], y_train)\n",
        "\n",
        "# Optionally, evaluate the model on the test set\n",
        "y_pred = final_model.predict(X_test[selected_features])"
      ]
    },
    {
      "cell_type": "code",
      "execution_count": 10,
      "metadata": {},
      "outputs": [
        {
          "name": "stdout",
          "output_type": "stream",
          "text": [
            "Selected Features:\n",
            "Index(['425_pct_Al', 'M_Value', 'C4_pct_Eth', 'C4_pct_H2O', 'C4_pct_Hex',\n",
            "       'HydWtr_Na2O', 'DI55152', 'FC55003', 'FC55552', 'FC55569', 'FFC55553',\n",
            "       'FFC55555', 'LC55555', 'PI55004', 'TC55552', 'TC55555', 'TI55021'],\n",
            "      dtype='object')\n",
            "\n",
            "Model Coefficients:\n",
            "425_pct_Al: 0.24241357844598496\n",
            "M_Value: -1.3614677752608468\n",
            "C4_pct_Eth: -0.5679399700555137\n",
            "C4_pct_H2O: 0.38547905606320193\n",
            "C4_pct_Hex: -2.3029961886607415\n",
            "HydWtr_Na2O: -0.6319778947478415\n",
            "DI55152: 16.27794384832723\n",
            "FC55003: -0.0011796168184368978\n",
            "FC55552: 0.0004517492207993062\n",
            "FC55569: -0.00343546336845222\n",
            "FFC55553: 31.67255745457808\n",
            "FFC55555: -53.06691692221332\n",
            "LC55555: 0.037291351392160436\n",
            "PI55004: 0.22898638978286537\n",
            "TC55552: 0.05414439399315018\n",
            "TC55555: 0.8580650369730227\n",
            "TI55021: -0.15171046358218665\n",
            "\n",
            "R-squared on Training Set: 0.1446555029457367\n",
            "R-squared on Test Set: 0.1437920050852457\n"
          ]
        }
      ],
      "source": [
        "# Get the selected feature names\n",
        "selected_features = X_train.columns[list(sfs.k_feature_idx_)]\n",
        "print(\"Selected Features:\")\n",
        "print(selected_features)\n",
        "\n",
        "# Display the coefficients of the final model\n",
        "print(\"\\nModel Coefficients:\")\n",
        "for i, feature in enumerate(selected_features):\n",
        "    print(f\"{feature}: {final_model.coef_[i]}\")\n",
        "\n",
        "# Display the R-squared value for the training set\n",
        "r_squared_train = final_model.score(X_train[selected_features], y_train)\n",
        "print(f\"\\nR-squared on Training Set: {r_squared_train}\")\n",
        "\n",
        "# Optionally, if you evaluated the model on a test set\n",
        "r_squared_test = final_model.score(X_test[selected_features], y_test)\n",
        "print(f\"R-squared on Test Set: {r_squared_test}\")\n"
      ]
    }
  ],
  "metadata": {
    "kernelspec": {
      "display_name": "Python 3 (ipykernel)",
      "language": "python",
      "name": "python3"
    },
    "language_info": {
      "codemirror_mode": {
        "name": "ipython",
        "version": 3
      },
      "file_extension": ".py",
      "mimetype": "text/x-python",
      "name": "python",
      "nbconvert_exporter": "python",
      "pygments_lexer": "ipython3",
      "version": "3.10.9"
    }
  },
  "nbformat": 4,
  "nbformat_minor": 4
}
