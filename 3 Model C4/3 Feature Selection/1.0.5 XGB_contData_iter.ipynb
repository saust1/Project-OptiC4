{
  "cells": [
    {
      "cell_type": "code",
      "execution_count": 1,
      "metadata": {},
      "outputs": [],
      "source": [
        "# %pip install statsmodels\n",
        "# %pip install mlxtend\n",
        "# %pip install xgboost"
      ]
    },
    {
      "cell_type": "code",
      "execution_count": 2,
      "metadata": {
        "tags": [],
        "trusted": true
      },
      "outputs": [],
      "source": [
        "# Import necessary libraries\n",
        "import pandas as pd\n",
        "import seaborn as sns\n",
        "import matplotlib.pyplot as plt\n",
        "from statsmodels.formula.api import ols\n",
        "import statsmodels.api as sm\n",
        "from sklearn.linear_model import LinearRegression\n",
        "from mlxtend.feature_selection import SequentialFeatureSelector as SFS\n",
        "from sklearn.model_selection import train_test_split\n",
        "import itertools\n",
        "import random\n",
        "from sklearn.metrics import r2_score, mean_squared_error, mean_absolute_error\n",
        "import xgboost as xgb\n",
        "from sklearn.model_selection import train_test_split\n",
        "import random\n",
        "import pandas as pd"
      ]
    },
    {
      "cell_type": "code",
      "execution_count": 13,
      "metadata": {},
      "outputs": [
        {
          "name": "stdout",
          "output_type": "stream",
          "text": [
            "    425 %Al    Butanol   Decanol    Ethanol   Hexanol   Octanol   AYC55580  \\\n",
            "0  6.319560  30.366200  1.030260  88.289900  1.365840  1.492120  18.297300   \n",
            "1  6.319915  30.678500  1.063260  89.685450  1.397135  1.548230  18.040650   \n",
            "2  6.328340  32.399333  1.647950  88.677200  1.994413  2.454430  16.637633   \n",
            "3  6.336760  32.845950  1.928805  87.080875  2.288335  2.897523  15.779400   \n",
            "4  6.337460  33.387025  2.352595  84.489175  2.734682  3.571185  15.199680   \n",
            "\n",
            "    DI55102   DI55152   DI55580      FC42428      FC52018    FC55003  \\\n",
            "0  0.963347  0.924879  1.017340  40773.90000  42583.40000  5622.8300   \n",
            "1  0.965043  0.924515  1.014885  40816.90000  44547.30000  5308.8850   \n",
            "2  0.968107  0.929955  1.015593  41080.96667  45105.73333  5489.7400   \n",
            "3  0.969573  0.932388  1.014703  41606.60000  45413.77500  5709.1825   \n",
            "4  0.971022  0.934531  1.014094  41722.12000  45547.02000  5653.1640   \n",
            "\n",
            "       FC55009      FC55102      FC55152   FC55552      FC55555      FC55569  \\\n",
            "0  1770.180000  54668.30000  48447.40000  40424.10  30465.70000  6928.310000   \n",
            "1  1182.393500  56315.80000  51242.20000  40409.25  30406.75000  6924.645000   \n",
            "2   988.753333  55482.66667  50152.73333  40606.30  30908.93333  6925.813333   \n",
            "3   862.683250  53522.02500  48242.85000  39171.20  29965.95000  6920.290000   \n",
            "4   794.212400  52775.74000  47829.90000  39099.64  30056.26000  6916.018000   \n",
            "\n",
            "    FC55576  FFC55553  FFC55555     FYC55553     II52554    LC52572  \\\n",
            "0  329.7610  1.045930  0.752379  42478.80000  228.724000  66.534100   \n",
            "1  322.1770  1.049540  0.751183  42511.25000  237.562000  66.523200   \n",
            "2  324.9680  1.050217  0.761243  42628.66667  240.325333  66.500500   \n",
            "3  331.7720  1.050780  0.766600  41075.47500  241.663250  66.336525   \n",
            "4  336.2358  1.051672  0.770305  40994.10000  242.179800  65.981980   \n",
            "\n",
            "     LC55553    LC55555    LC55557    LC55568    LC90366    LC90368   PI55004  \\\n",
            "0  62.176800  60.362200  65.484000  40.136500  16.706900  49.278800  1.044590   \n",
            "1  62.921050  60.446750  66.313950  40.252500  15.449150  49.267500  1.236360   \n",
            "2  62.651867  60.350800  66.212233  40.059967  10.931340  48.643200  1.189883   \n",
            "3  62.526325  60.118475  65.893675  39.835675   8.674930  48.382975  1.343838   \n",
            "4  62.293540  60.150020  66.212620  40.179880   7.325074  48.332800  1.535224   \n",
            "\n",
            "    PI55020   PI55560    TC52015     TC55552     TC55553   TC55555   TC55566  \\\n",
            "0 -0.437499 -0.264240  74.632500  178.773000  235.047000  179.6930  211.7810   \n",
            "1 -0.389406 -0.279771  78.195800  179.011500  213.937500  179.9940  211.7810   \n",
            "2 -0.377156 -0.106293  77.691633  180.276667  205.221667  180.0530  212.3670   \n",
            "3 -0.366302 -0.057496  79.090850  180.993250  198.353500  180.5790  212.4105   \n",
            "4 -0.327278 -0.047609  81.854140  181.511000  195.641600  180.2476  212.4664   \n",
            "\n",
            "     TI40050   TI52014     TI55013     TI55014     TI55015   TI55016  \\\n",
            "0  81.156900  131.0990  236.672000  223.704000  216.905000  207.7370   \n",
            "1  82.965650  132.3490  230.501000  220.794000  216.033500  207.2460   \n",
            "2  82.461167  133.0350  223.885667  214.879667  209.812667  202.7230   \n",
            "3  83.676300  134.0690  219.719750  211.567250  206.503250  200.5075   \n",
            "4  85.328040  134.8424  217.253200  209.326600  204.214800  198.6922   \n",
            "\n",
            "     TI55017  TI55021     TI55023  VI52558B  \n",
            "0  205.81700  213.813  212.301000  4.969810  \n",
            "1  205.70300  213.874  212.308500  4.616265  \n",
            "2  201.16400  214.433  212.926667  4.741457  \n",
            "3  199.00025  214.639  213.051250  4.436797  \n",
            "4  197.25440  214.733  213.071400  4.304762  \n"
          ]
        }
      ],
      "source": [
        "\n",
        "df_All_1 = pd.read_csv(r'C:\\Users\\saust\\OneDrive\\Desktop\\GitRepo\\Project-OptiC4\\1 Preprocess\\Merge Data\\contData_all_Avg_1o2.csv')\n",
        "df_All_2 = pd.read_csv(r'C:\\Users\\saust\\OneDrive\\Desktop\\GitRepo\\Project-OptiC4\\1 Preprocess\\Merge Data\\contData_all_Avg_2o2.csv')\n",
        "# Concatenate (union) the dataframes\n",
        "df_All = pd.concat([df_All_1, df_All_2], ignore_index=True)\n",
        "\n",
        "print(df_All.head())\n",
        "\n",
        "df_TagDesc = pd.read_csv(r'C:\\Users\\saust\\OneDrive\\Desktop\\GitRepo\\Project-OptiC4\\CSV\\Not for Processing\\TagDesc.csv')\n"
      ]
    },
    {
      "cell_type": "code",
      "execution_count": 4,
      "metadata": {
        "trusted": true
      },
      "outputs": [],
      "source": [
        "# Set max columns to display\n",
        "pd.set_option('display.max_columns', None)"
      ]
    },
    {
      "cell_type": "code",
      "execution_count": 5,
      "metadata": {},
      "outputs": [],
      "source": [
        "# df_All = df_All[df_All['Date'] > '2022-06-15 00:00:00']"
      ]
    },
    {
      "cell_type": "code",
      "execution_count": 6,
      "metadata": {},
      "outputs": [],
      "source": [
        "selected_columns = ['Butanol', \n",
        "                    'FC55569',\n",
        "                    'DI55152',\n",
        "                    '425 %Al',\n",
        "                    'TC55552',\n",
        "                    'FC55003',\n",
        "                    'LC55555',\n",
        "                    'FFC55553',\n",
        "                    'FFC55555',\n",
        "                    'TC55555',\n",
        "                    'TI55021',\n",
        "                    'PI55004',\n",
        "                    'FC55552'\n",
        "                    ]\n",
        "existing_columns = [col for col in selected_columns if col in df_All.columns]\n",
        "df_All = df_All[existing_columns]\n"
      ]
    },
    {
      "cell_type": "code",
      "execution_count": 7,
      "metadata": {},
      "outputs": [],
      "source": [
        "# # List of columns to exclude to run XGboost feature selection\n",
        "# exclude_columns = ['Octanol', 'Hexanol',\n",
        "#        'Ethanol', 'Decanol',\n",
        "       \n",
        "#        'TI52014', 'TI55013', 'TI55014', 'TI55015', 'TI55016', 'TI55017', 'TI55021', 'TI55023',\n",
        "#        'TC52015', 'FC52018', 'II52554', 'TI40050', 'VI52558B'\n",
        "\n",
        "#        # 'FC55102', 'FC55152', 'LC55557', 'LC55568', 'TC55555',\n",
        "\n",
        "#        # '425 SAO Al', 'FFC55553', 'LC52572', 'LC90366',\n",
        "\n",
        "#        # 'FC42428', 'LC55553',\n",
        "\n",
        "#        # 'FC55009'\n",
        "#                    ]\n",
        "\n",
        "# # Create a new DataFrame without the excluded columnsd\n",
        "# df_All = df_All.drop(columns=exclude_columns)"
      ]
    },
    {
      "cell_type": "code",
      "execution_count": 8,
      "metadata": {},
      "outputs": [
        {
          "data": {
            "text/plain": [
              "Index(['Butanol', 'FC55569', 'DI55152', '425 %Al', 'TC55552', 'FC55003',\n",
              "       'LC55555', 'FFC55553', 'FFC55555', 'TC55555', 'TI55021', 'PI55004',\n",
              "       'FC55552'],\n",
              "      dtype='object')"
            ]
          },
          "execution_count": 8,
          "metadata": {},
          "output_type": "execute_result"
        }
      ],
      "source": [
        "df_All.columns"
      ]
    },
    {
      "cell_type": "code",
      "execution_count": 9,
      "metadata": {},
      "outputs": [],
      "source": [
        "# # Splitting into train and test\n",
        "# X = df_All.drop('Butanol', axis=1)  # Assuming 'target' is your target column\n",
        "# y = df_All['Butanol']\n",
        "# X_train, X_test, y_train, y_test = train_test_split(X, y, test_size=0.2, random_state=42)"
      ]
    },
    {
      "cell_type": "code",
      "execution_count": 10,
      "metadata": {},
      "outputs": [],
      "source": [
        "def iterate_feature_rotations(df_all, target_column, test_size=0.2, random_state=42, num_random_iterations=30):\n",
        "    results = []\n",
        "    columns = [col for col in df_all.columns if col != target_column]\n",
        "    random.seed(random_state)  # for reproducibility\n",
        "\n",
        "    for feature in columns:\n",
        "        for _ in range(num_random_iterations):\n",
        "            # Randomly order the remaining features\n",
        "            remaining_features = [f for f in columns if f != feature]\n",
        "            random.shuffle(remaining_features)\n",
        "\n",
        "            # Create a new ordered list of features\n",
        "            ordered_features = [feature] + remaining_features\n",
        "\n",
        "            reordered_df = df_all[ordered_features + [target_column]]\n",
        "\n",
        "            # Splitting into train and test for each permutation\n",
        "            X = reordered_df.drop(target_column, axis=1)\n",
        "            y = reordered_df[target_column]\n",
        "            X_train, X_test, y_train, y_test = train_test_split(X, y, test_size=test_size, random_state=random_state)\n",
        "\n",
        "            # Create and fit the XGBoost model\n",
        "            model = xgb.XGBRegressor(objective='reg:squarederror')\n",
        "            model.fit(X_train, y_train)\n",
        "\n",
        "            # Extract feature importances\n",
        "            feature_importances = model.get_booster().get_score(importance_type=\"weight\")\n",
        "\n",
        "            # Store the result with the permutation order and feature importances\n",
        "            results.append((ordered_features, feature_importances))\n",
        "\n",
        "    return results\n",
        "\n",
        "\n",
        "results = iterate_feature_rotations(df_All, 'Butanol')\n",
        "\n",
        "# Convert results to a DataFrame\n",
        "flattened_results = []\n",
        "for ordered_features, importances in results:\n",
        "    for feature, importance in importances.items():\n",
        "        flattened_results.append({\n",
        "            'Feature Rotation': ordered_features,\n",
        "            'Feature': feature,\n",
        "            'Importance': importance\n",
        "        })\n",
        "\n",
        "results_df = pd.DataFrame(flattened_results)\n"
      ]
    },
    {
      "cell_type": "code",
      "execution_count": 11,
      "metadata": {},
      "outputs": [
        {
          "name": "stdout",
          "output_type": "stream",
          "text": [
            "                                       Feature Rotation   Feature  Importance\n",
            "0     [FC55569, TC55555, FC55003, TC55552, TI55021, ...   FC55569       739.0\n",
            "1     [FC55569, TC55555, FC55003, TC55552, TI55021, ...   TC55555       442.0\n",
            "2     [FC55569, TC55555, FC55003, TC55552, TI55021, ...   FC55003       405.0\n",
            "3     [FC55569, TC55555, FC55003, TC55552, TI55021, ...   TC55552       499.0\n",
            "4     [FC55569, TC55555, FC55003, TC55552, TI55021, ...   TI55021       371.0\n",
            "...                                                 ...       ...         ...\n",
            "4315  [FC55552, PI55004, TC55552, FFC55553, LC55555,...   TC55555       345.0\n",
            "4316  [FC55552, PI55004, TC55552, FFC55553, LC55555,...   DI55152       507.0\n",
            "4317  [FC55552, PI55004, TC55552, FFC55553, LC55555,...   FC55569       483.0\n",
            "4318  [FC55552, PI55004, TC55552, FFC55553, LC55555,...  FFC55555       389.0\n",
            "4319  [FC55552, PI55004, TC55552, FFC55553, LC55555,...   425 %Al       450.0\n",
            "\n",
            "[4320 rows x 3 columns]\n"
          ]
        }
      ],
      "source": [
        "print(results_df)"
      ]
    },
    {
      "cell_type": "code",
      "execution_count": 15,
      "metadata": {},
      "outputs": [],
      "source": [
        "# Group by 'Feature' and calculate the average importance\n",
        "average_importances = results_df.groupby('Feature')['Importance'].mean()\n",
        "\n",
        "# Convert the Series to a DataFrame\n",
        "average_importances_df = average_importances.reset_index()\n",
        "\n",
        "# Rename the columns for clarity\n",
        "average_importances_df.columns = ['Feature', 'Average Importance']\n",
        "\n",
        "# Sort the DataFrame by 'Average Importance' in descending order\n",
        "average_importances_df = average_importances_df.sort_values(by='Average Importance', ascending=False)\n",
        "\n",
        "# Display or save the DataFrame\n",
        "# print(average_importances_df)\n",
        "# Or save it to a CSV file\n",
        "# average_importances_df.to_csv('average_feature_importances.csv', index=False)\n"
      ]
    },
    {
      "cell_type": "code",
      "execution_count": 14,
      "metadata": {},
      "outputs": [
        {
          "name": "stdout",
          "output_type": "stream",
          "text": [
            "     Feature  Average Importance               Description\n",
            "0    DI55152          548.102778    2ND STG SEPR TO FA-560\n",
            "1    FC55569          541.147222    30# STM TO C4 STRIPPER\n",
            "2   FFC55553          504.575000  DC551 H2O/ALKOXIDE RATIO\n",
            "3    425 %Al          500.916667                       NaN\n",
            "4    TC55552          486.583333  DC-551 ALKOX  FD PREHEAT\n",
            "5    LC55555          473.583333   FA-552 1ST STG SEP SLRY\n",
            "6    FC55552          451.541667  ALK FD TO HYDR RX DC-551\n",
            "7   FFC55555          433.130556  RECYC BUT/ALKOX FD RATIO\n",
            "8    PI55004          405.016667    DA-554 BOTTOM PRESSURE\n",
            "9    FC55003          392.819444  DA-551 O/H H2O TO DC-551\n",
            "10   TC55555          375.847222       EA-552 OUT  RECY C4\n",
            "11   TI55021          374.736111            STEAM TO DA554\n"
          ]
        },
        {
          "name": "stderr",
          "output_type": "stream",
          "text": [
            "C:\\Users\\saust\\AppData\\Local\\Temp\\ipykernel_100528\\3091506829.py:9: SettingWithCopyWarning: \n",
            "A value is trying to be set on a copy of a slice from a DataFrame\n",
            "\n",
            "See the caveats in the documentation: https://pandas.pydata.org/pandas-docs/stable/user_guide/indexing.html#returning-a-view-versus-a-copy\n",
            "  final_df.rename(columns={'DESCRIPTION': 'Description'}, inplace=True)\n"
          ]
        }
      ],
      "source": [
        "# Merge the average_importances_df with df_TagDesc\n",
        "# Assuming 'ID' in df_TagDesc corresponds to 'Feature' in average_importances_df\n",
        "merged_df = average_importances_df.merge(df_TagDesc, left_on='Feature', right_on='ID', how='left')\n",
        "\n",
        "# Select only the required columns\n",
        "final_df = merged_df[['Feature', 'Average Importance', 'DESCRIPTION']]\n",
        "\n",
        "# Rename the 'DESCRIPTION' column to 'Description'\n",
        "final_df.rename(columns={'DESCRIPTION': 'Description'}, inplace=True)\n",
        "\n",
        "# Display or save the DataFrame\n",
        "print(final_df)\n",
        "# Or save it to a CSV file\n",
        "# final_df.to_csv('average_feature_importances_with_descriptions.csv', index=False)\n"
      ]
    }
  ],
  "metadata": {
    "kernelspec": {
      "display_name": "Python 3 (ipykernel)",
      "language": "python",
      "name": "python3"
    },
    "language_info": {
      "codemirror_mode": {
        "name": "ipython",
        "version": 3
      },
      "file_extension": ".py",
      "mimetype": "text/x-python",
      "name": "python",
      "nbconvert_exporter": "python",
      "pygments_lexer": "ipython3",
      "version": "3.10.9"
    }
  },
  "nbformat": 4,
  "nbformat_minor": 4
}
