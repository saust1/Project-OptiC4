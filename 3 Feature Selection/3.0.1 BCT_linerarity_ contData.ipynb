{
  "cells": [
    {
      "cell_type": "markdown",
      "metadata": {},
      "source": [
        "# Box-Cox Test for Linerarity"
      ]
    },
    {
      "cell_type": "code",
      "execution_count": 13,
      "metadata": {
        "tags": [],
        "trusted": true
      },
      "outputs": [],
      "source": [
        "# Import necessary libraries\n",
        "import pandas as pd\n",
        "import seaborn as sns\n",
        "import matplotlib.pyplot as plt\n",
        "from statsmodels.formula.api import ols\n",
        "import statsmodels.api as sm\n",
        "from sklearn.linear_model import LinearRegression\n",
        "from mlxtend.feature_selection import SequentialFeatureSelector as SFS\n",
        "from sklearn.model_selection import train_test_split\n",
        "import itertools\n",
        "import random\n",
        "from sklearn.metrics import r2_score, mean_squared_error, mean_absolute_error\n",
        "3 Feature Selection/4.0.0 SFS_df_Join_all.ipynb"
      ]
    },
    {
      "cell_type": "code",
      "execution_count": 5,
      "metadata": {},
      "outputs": [],
      "source": [
        "#df_All = pd.read_csv(r\"C:\\Users\\saust\\OneDrive - Sasol\\1 Project rC4\\Jupyter Notebooks\\Report 10-20-23 No Fluff\\df_All_Avg.csv\")\n",
        "\n",
        "df_All_1o2 = pd.read_csv('3 Feature Selection/contData_all_Avg - 1o2.csv')\n",
        "df_All_1o2 = pd.read_csv('3 Feature Selection/contData_all_Avg - 2o2.csv')\n",
        "\n",
        "#df_All = pd.read_csv(r\"C:\\Users\\saust\\OneDrive\\Desktop\\CodeSpace DLs\\102423\\Project rC4\\3 Final Machine Butanol\\df_CDCA6.csv\")\n"
      ]
    },
    {
      "cell_type": "code",
      "execution_count": 6,
      "metadata": {},
      "outputs": [
        {
          "name": "stdout",
          "output_type": "stream",
          "text": [
            "    425 %Al  Butanol   Decanol    Ethanol   Hexanol   Octanol  AYC55580  \\\n",
            "0  6.466835    8.950  3.271667  29.233325  5.862082  5.912500  9.708929   \n",
            "1  6.479165    8.750  3.261668  29.233325  5.832917  5.870832  9.647859   \n",
            "2  6.491500    8.525  3.310000  28.950000  5.767500  5.790000  9.592980   \n",
            "3  6.503835    8.275  3.416667  28.383325  5.665832  5.670000  9.572995   \n",
            "4  6.516165    8.025  3.523332  27.816675  5.564167  5.550000  9.586615   \n",
            "\n",
            "    DI55102   DI55152   DI55580  ...    TI40050     TI52014     TI55013  \\\n",
            "0  1.016935  0.974092  0.991364  ...  74.705737  134.922750  204.003375   \n",
            "1  1.017048  0.973535  0.991012  ...  74.042025  134.517750  203.384625   \n",
            "2  1.017505  0.973474  0.990783  ...  73.626350  134.084875  202.217250   \n",
            "3  1.017742  0.974004  0.990838  ...  73.203325  133.625625  201.412625   \n",
            "4  1.017679  0.974445  0.991013  ...  72.900725  133.217250  201.149500   \n",
            "\n",
            "      TI55014     TI55015     TI55016     TI55017     TI55021     TI55023  \\\n",
            "0  197.780625  193.192500  190.510125  188.871625  216.306750  213.595750   \n",
            "1  197.444250  192.960750  190.375875  188.838375  216.041375  213.364500   \n",
            "2  196.611375  192.210250  189.874750  188.452250  215.747250  213.030000   \n",
            "3  195.868875  191.353125  189.309125  187.879500  215.486500  212.716750   \n",
            "4  195.536625  190.952000  188.985875  187.550375  215.377250  212.599375   \n",
            "\n",
            "   VI52558B  \n",
            "0  3.970054  \n",
            "1  4.009966  \n",
            "2  4.011081  \n",
            "3  3.979564  \n",
            "4  3.901986  \n",
            "\n",
            "[5 rows x 49 columns]\n"
          ]
        }
      ],
      "source": [
        "# Concatenate (union) the dataframes\n",
        "df_All = pd.concat([df_All_1o2, df_All_1o2], ignore_index=True)\n",
        "\n",
        "print(df_All.head())"
      ]
    },
    {
      "cell_type": "code",
      "execution_count": 7,
      "metadata": {
        "trusted": true
      },
      "outputs": [],
      "source": [
        "# Set max columns to display\n",
        "pd.set_option('display.max_columns', None)"
      ]
    },
    {
      "cell_type": "code",
      "execution_count": 8,
      "metadata": {},
      "outputs": [],
      "source": [
        "# df_All = df_All[df_All['Date'] > '2022-06-15 00:00:00']"
      ]
    },
    {
      "cell_type": "code",
      "execution_count": 9,
      "metadata": {},
      "outputs": [],
      "source": [
        "# List of columns to exclude to run XGboost feature selection\n",
        "exclude_columns = ['Octanol', 'Hexanol',\n",
        "       'Ethanol', 'Decanol',\n",
        "       \n",
        "       'TI52014', 'TI55013', 'TI55014', 'TI55015', 'TI55016', 'TI55017', 'TI55021', 'TI55023',\n",
        "       'TC52015', 'FC52018', 'II52554', 'TI40050', 'VI52558B'\n",
        "\n",
        "       # 'FC55102', 'FC55152', 'LC55557', 'LC55568', 'TC55555',\n",
        "\n",
        "       # '425 SAO Al', 'FFC55553', 'LC52572', 'LC90366',\n",
        "\n",
        "       # 'FC42428', 'LC55553',\n",
        "\n",
        "       # 'FC55009'\n",
        "                   ]\n",
        "\n",
        "# Create a new DataFrame without the excluded columnsd\n",
        "df_All = df_All.drop(columns=exclude_columns)"
      ]
    },
    {
      "cell_type": "code",
      "execution_count": 10,
      "metadata": {},
      "outputs": [
        {
          "data": {
            "text/plain": [
              "Index(['425 %Al', 'Butanol', 'AYC55580', 'DI55102', 'DI55152', 'DI55580',\n",
              "       'FC42428', 'FC55003', 'FC55009', 'FC55102', 'FC55152', 'FC55552',\n",
              "       'FC55555', 'FC55569', 'FC55576', 'FFC55553', 'FFC55555', 'FYC55553',\n",
              "       'LC52572', 'LC55553', 'LC55555', 'LC55557', 'LC55568', 'LC90366',\n",
              "       'LC90368', 'PI55004', 'PI55020', 'PI55560', 'TC55552', 'TC55553',\n",
              "       'TC55555', 'TC55566'],\n",
              "      dtype='object')"
            ]
          },
          "execution_count": 10,
          "metadata": {},
          "output_type": "execute_result"
        }
      ],
      "source": [
        "df_All.columns"
      ]
    }
  ],
  "metadata": {
    "kernelspec": {
      "display_name": "Python 3 (ipykernel)",
      "language": "python",
      "name": "python3"
    }
  },
  "nbformat": 4,
  "nbformat_minor": 4
}
