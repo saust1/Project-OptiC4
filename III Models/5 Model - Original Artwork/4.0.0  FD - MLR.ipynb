{
  "cells": [
    {
      "cell_type": "code",
      "execution_count": 6,
      "metadata": {
        "tags": [],
        "trusted": true
      },
      "outputs": [],
      "source": [
        "# Import necessary libraries\n",
        "import numpy as np\n",
        "import pandas as pd\n",
        "from sklearn.model_selection import train_test_split\n",
        "from sklearn.preprocessing import StandardScaler\n",
        "from sklearn.svm import SVR\n",
        "from sklearn.metrics import mean_squared_error\n",
        "import matplotlib.pyplot as plt\n",
        "from sklearn.linear_model import LinearRegression"
      ]
    },
    {
      "cell_type": "code",
      "execution_count": 7,
      "metadata": {},
      "outputs": [],
      "source": [
        "#df_All = pd.read_csv(r\"C:\\Users\\saust\\OneDrive - Sasol\\1 Project rC4\\Jupyter Notebooks\\Report 10-20-23 No Fluff\\df_All_Avg.csv\")\n",
        "\n",
        "df_All = pd.read_csv(r\"C:\\Users\\saust\\OneDrive\\Desktop\\CodeSpace DLs\\102423\\Project rC4\\3 Final Machine Butanol\\df_CDCA6.csv\")\n"
      ]
    },
    {
      "cell_type": "code",
      "execution_count": 8,
      "metadata": {
        "trusted": true
      },
      "outputs": [],
      "source": [
        "# Set max columns to display\n",
        "pd.set_option('display.max_columns', None)"
      ]
    },
    {
      "cell_type": "code",
      "execution_count": 9,
      "metadata": {},
      "outputs": [],
      "source": [
        "# List of columns to exclude to run XGboost feature selection\n",
        "exclude_columns = ['Date', 'FFC55553' ,'LC55555', 'FC55003', 'LC55557', 'TI55021', 'LC55553', 'FFC55555']\n",
        "\n",
        "# Create a new DataFrame without the excluded columnsd\n",
        "df_All = df_All.drop(columns=exclude_columns)"
      ]
    },
    {
      "cell_type": "code",
      "execution_count": 11,
      "metadata": {},
      "outputs": [
        {
          "name": "stdout",
          "output_type": "stream",
          "text": [
            "                                               features         MSE       MAE  \\\n",
            "0                                            (425 %Al,)  122.039916  7.720195   \n",
            "1                                            (TC55552,)  122.100894  7.685724   \n",
            "2                                            (DI55152,)  122.165036  7.714083   \n",
            "3                                            (DI55102,)  119.072606  7.564526   \n",
            "4                                           (AYC55580,)  120.814576  7.630051   \n",
            "...                                                 ...         ...       ...   \n",
            "1018  (425 %Al, TC55552, DI55152, AYC55580, FC55569,...  113.068369  7.257062   \n",
            "1019  (425 %Al, TC55552, DI55102, AYC55580, FC55569,...  108.768810  7.042425   \n",
            "1020  (425 %Al, DI55152, DI55102, AYC55580, FC55569,...  109.184072  7.085697   \n",
            "1021  (TC55552, DI55152, DI55102, AYC55580, FC55569,...  108.601693  7.035629   \n",
            "1022  (425 %Al, TC55552, DI55152, DI55102, AYC55580,...  108.593800  7.037421   \n",
            "\n",
            "           R^2  Adjusted R^2       RMSE  \n",
            "0     0.000850      0.000768  11.047168  \n",
            "1     0.000351      0.000269  11.049927  \n",
            "2    -0.000174     -0.000256  11.052829  \n",
            "3     0.025144      0.025064  10.912039  \n",
            "4     0.010882      0.010801  10.991568  \n",
            "...        ...           ...        ...  \n",
            "1018  0.074301      0.073615  10.633361  \n",
            "1019  0.109502      0.108842  10.429229  \n",
            "1020  0.106102      0.105440  10.449118  \n",
            "1021  0.110870      0.110211  10.421214  \n",
            "1022  0.110934      0.110203  10.420835  \n",
            "\n",
            "[1023 rows x 6 columns]\n"
          ]
        }
      ],
      "source": [
        "import pandas as pd\n",
        "import numpy as np\n",
        "from itertools import chain, combinations\n",
        "from sklearn.linear_model import LinearRegression\n",
        "from sklearn.metrics import mean_squared_error, mean_absolute_error, r2_score\n",
        "from sklearn.model_selection import train_test_split\n",
        "\n",
        "# Sample dataset\n",
        "data = df_All  # Replace with your data source\n",
        "\n",
        "# Splitting into train and test\n",
        "X = data.drop('Butanol', axis=1)  # Assuming 'target' is your target column\n",
        "y = data['Butanol']\n",
        "X_train, X_test, y_train, y_test = train_test_split(X, y, test_size=0.2, random_state=42)\n",
        "\n",
        "def adjusted_r2(r2, n, k):\n",
        "    return 1 - ((1 - r2) * (n - 1) / (n - k - 1))\n",
        "\n",
        "# Get all possible feature combinations\n",
        "features = X.columns\n",
        "all_combinations = list(chain(*map(lambda i: combinations(features, i), range(1, len(features)+1))))\n",
        "\n",
        "results = []\n",
        "\n",
        "for combo in all_combinations:\n",
        "    X_train_subset = X_train[list(combo)]\n",
        "    X_test_subset = X_test[list(combo)]\n",
        "    \n",
        "    lr = LinearRegression()\n",
        "    lr.fit(X_train_subset, y_train)\n",
        "    y_pred = lr.predict(X_test_subset)\n",
        "    \n",
        "    mse = mean_squared_error(y_test, y_pred)\n",
        "    mae = mean_absolute_error(y_test, y_pred)\n",
        "    r2 = r2_score(y_test, y_pred)\n",
        "    adj_r2 = adjusted_r2(r2, X_test_subset.shape[0], X_test_subset.shape[1])\n",
        "    rmse = np.sqrt(mse)\n",
        "    \n",
        "    results.append({\n",
        "        'features': combo,\n",
        "        'MSE': mse,\n",
        "        'MAE': mae,\n",
        "        'R^2': r2,\n",
        "        'Adjusted R^2': adj_r2,\n",
        "        'RMSE': rmse\n",
        "    })\n",
        "\n",
        "results_IMR_700 = pd.DataFrame(results)\n",
        "print(results_IMR_700)\n"
      ]
    },
    {
      "cell_type": "code",
      "execution_count": 13,
      "metadata": {},
      "outputs": [],
      "source": [
        "# If you want to save df_CDFI to a .csv file:\n",
        "results_IMR_700.to_csv('results_IMR_700.csv', index=False)"
      ]
    }
  ],
  "metadata": {
    "kernelspec": {
      "display_name": "base",
      "language": "python",
      "name": "python3"
    },
    "language_info": {
      "codemirror_mode": {
        "name": "ipython",
        "version": 3
      },
      "file_extension": ".py",
      "mimetype": "text/x-python",
      "name": "python",
      "nbconvert_exporter": "python",
      "pygments_lexer": "ipython3",
      "version": "3.10.9"
    }
  },
  "nbformat": 4,
  "nbformat_minor": 4
}
