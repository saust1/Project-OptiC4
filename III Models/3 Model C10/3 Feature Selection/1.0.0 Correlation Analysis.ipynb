{
 "cells": [
  {
   "cell_type": "code",
   "execution_count": 1,
   "metadata": {},
   "outputs": [],
   "source": [
    "# %pip install plotly\n",
    "# %pip install nbformat"
   ]
  },
  {
   "cell_type": "code",
   "execution_count": 2,
   "metadata": {},
   "outputs": [],
   "source": [
    "# pip list"
   ]
  },
  {
   "cell_type": "code",
   "execution_count": 3,
   "metadata": {},
   "outputs": [],
   "source": [
    "# import sys\n",
    "# print(sys.executable)\n"
   ]
  },
  {
   "cell_type": "code",
   "execution_count": 4,
   "metadata": {},
   "outputs": [
    {
     "name": "stderr",
     "output_type": "stream",
     "text": [
      "C:\\Users\\austinsh\\AppData\\Local\\Temp\\ipykernel_40632\\3105638231.py:1: DeprecationWarning: \n",
      "Pyarrow will become a required dependency of pandas in the next major release of pandas (pandas 3.0),\n",
      "(to allow more performant data types, such as the Arrow string type, and better interoperability with other libraries)\n",
      "but was not found to be installed on your system.\n",
      "If this would cause problems for you,\n",
      "please provide us feedback at https://github.com/pandas-dev/pandas/issues/54466\n",
      "        \n",
      "  import pandas as pd\n"
     ]
    }
   ],
   "source": [
    "import pandas as pd\n",
    "# Set max columns to display\n",
    "pd.set_option('display.max_columns', None)\n",
    "\n",
    "import numpy as np\n",
    "from sklearn import preprocessing as pre\n",
    "import matplotlib.pyplot as plt\n",
    "from scipy import stats\n",
    "import seaborn as sns\n",
    "import plotly.express as px\n",
    "import nbformat"
   ]
  },
  {
   "cell_type": "code",
   "execution_count": 5,
   "metadata": {},
   "outputs": [
    {
     "data": {
      "text/html": [
       "<div>\n",
       "<style scoped>\n",
       "    .dataframe tbody tr th:only-of-type {\n",
       "        vertical-align: middle;\n",
       "    }\n",
       "\n",
       "    .dataframe tbody tr th {\n",
       "        vertical-align: top;\n",
       "    }\n",
       "\n",
       "    .dataframe thead th {\n",
       "        text-align: right;\n",
       "    }\n",
       "</style>\n",
       "<table border=\"1\" class=\"dataframe\">\n",
       "  <thead>\n",
       "    <tr style=\"text-align: right;\">\n",
       "      <th></th>\n",
       "      <th>425_pct_Al</th>\n",
       "      <th>Al2O3</th>\n",
       "      <th>M_Value</th>\n",
       "      <th>C4_pct_Eth</th>\n",
       "      <th>C4_pct_H2O</th>\n",
       "      <th>HydWtr_pct_Ammonia</th>\n",
       "      <th>C4_pct_Hex</th>\n",
       "      <th>HydWtr_Na2O</th>\n",
       "      <th>Butanol</th>\n",
       "      <th>Decanol</th>\n",
       "      <th>Ethanol</th>\n",
       "      <th>Hexanol</th>\n",
       "      <th>Octanol</th>\n",
       "      <th>AYC55580</th>\n",
       "      <th>DI55102</th>\n",
       "      <th>DI55152</th>\n",
       "      <th>DI55580</th>\n",
       "      <th>FC42428</th>\n",
       "      <th>FC52018</th>\n",
       "      <th>FC55003</th>\n",
       "      <th>FC55009</th>\n",
       "      <th>FC55102</th>\n",
       "      <th>FC55152</th>\n",
       "      <th>FC55552</th>\n",
       "      <th>FC55555</th>\n",
       "      <th>FC55569</th>\n",
       "      <th>FC55576</th>\n",
       "      <th>FFC55553</th>\n",
       "      <th>FFC55555</th>\n",
       "      <th>FYC55553</th>\n",
       "      <th>II52554</th>\n",
       "      <th>LC52572</th>\n",
       "      <th>LC55553</th>\n",
       "      <th>LC55555</th>\n",
       "      <th>LC55557</th>\n",
       "      <th>LC55568</th>\n",
       "      <th>LC90366</th>\n",
       "      <th>LC90368</th>\n",
       "      <th>PI55004</th>\n",
       "      <th>PI55020</th>\n",
       "      <th>PI55560</th>\n",
       "      <th>TC52015</th>\n",
       "      <th>TC55552</th>\n",
       "      <th>TC55553</th>\n",
       "      <th>TC55555</th>\n",
       "      <th>TC55566</th>\n",
       "      <th>TI40050</th>\n",
       "      <th>TI52014</th>\n",
       "      <th>TI55013</th>\n",
       "      <th>TI55014</th>\n",
       "      <th>TI55015</th>\n",
       "      <th>TI55016</th>\n",
       "      <th>TI55017</th>\n",
       "      <th>TI55021</th>\n",
       "      <th>TI55023</th>\n",
       "      <th>VI52558B</th>\n",
       "    </tr>\n",
       "  </thead>\n",
       "  <tbody>\n",
       "    <tr>\n",
       "      <th>count</th>\n",
       "      <td>40127.000000</td>\n",
       "      <td>40127.000000</td>\n",
       "      <td>40127.000000</td>\n",
       "      <td>40127.000000</td>\n",
       "      <td>40127.000000</td>\n",
       "      <td>40127.000000</td>\n",
       "      <td>40127.000000</td>\n",
       "      <td>40127.000000</td>\n",
       "      <td>40127.000000</td>\n",
       "      <td>40127.000000</td>\n",
       "      <td>40127.000000</td>\n",
       "      <td>40127.000000</td>\n",
       "      <td>40127.000000</td>\n",
       "      <td>40127.000000</td>\n",
       "      <td>40127.000000</td>\n",
       "      <td>40127.000000</td>\n",
       "      <td>40127.000000</td>\n",
       "      <td>40127.000000</td>\n",
       "      <td>40127.000000</td>\n",
       "      <td>40127.000000</td>\n",
       "      <td>40127.000000</td>\n",
       "      <td>40127.000000</td>\n",
       "      <td>40127.000000</td>\n",
       "      <td>40127.000000</td>\n",
       "      <td>40127.000000</td>\n",
       "      <td>40127.000000</td>\n",
       "      <td>40127.000000</td>\n",
       "      <td>40127.000000</td>\n",
       "      <td>40127.000000</td>\n",
       "      <td>40127.000000</td>\n",
       "      <td>40127.000000</td>\n",
       "      <td>40127.000000</td>\n",
       "      <td>40127.000000</td>\n",
       "      <td>40127.000000</td>\n",
       "      <td>40127.000000</td>\n",
       "      <td>40127.000000</td>\n",
       "      <td>40127.000000</td>\n",
       "      <td>40127.000000</td>\n",
       "      <td>40127.000000</td>\n",
       "      <td>40127.000000</td>\n",
       "      <td>40127.000000</td>\n",
       "      <td>40127.000000</td>\n",
       "      <td>40127.000000</td>\n",
       "      <td>40127.000000</td>\n",
       "      <td>40127.000000</td>\n",
       "      <td>40127.000000</td>\n",
       "      <td>40127.000000</td>\n",
       "      <td>40127.000000</td>\n",
       "      <td>40127.000000</td>\n",
       "      <td>40127.000000</td>\n",
       "      <td>40127.000000</td>\n",
       "      <td>40127.000000</td>\n",
       "      <td>40127.000000</td>\n",
       "      <td>40127.000000</td>\n",
       "      <td>40127.000000</td>\n",
       "      <td>40127.000000</td>\n",
       "    </tr>\n",
       "    <tr>\n",
       "      <th>mean</th>\n",
       "      <td>6.133716</td>\n",
       "      <td>11.382607</td>\n",
       "      <td>3.597077</td>\n",
       "      <td>1.213887</td>\n",
       "      <td>21.178645</td>\n",
       "      <td>0.967938</td>\n",
       "      <td>0.471411</td>\n",
       "      <td>0.789919</td>\n",
       "      <td>9.218873</td>\n",
       "      <td>3.118667</td>\n",
       "      <td>19.434009</td>\n",
       "      <td>3.668212</td>\n",
       "      <td>4.271534</td>\n",
       "      <td>11.109746</td>\n",
       "      <td>0.944657</td>\n",
       "      <td>0.932500</td>\n",
       "      <td>0.995820</td>\n",
       "      <td>36807.354517</td>\n",
       "      <td>32867.723665</td>\n",
       "      <td>5994.093426</td>\n",
       "      <td>845.283665</td>\n",
       "      <td>44798.257579</td>\n",
       "      <td>40467.172730</td>\n",
       "      <td>36486.326412</td>\n",
       "      <td>28202.745752</td>\n",
       "      <td>6599.626128</td>\n",
       "      <td>370.858532</td>\n",
       "      <td>0.998780</td>\n",
       "      <td>0.772735</td>\n",
       "      <td>36395.799103</td>\n",
       "      <td>170.603490</td>\n",
       "      <td>63.161834</td>\n",
       "      <td>62.999504</td>\n",
       "      <td>56.451590</td>\n",
       "      <td>69.400947</td>\n",
       "      <td>41.197351</td>\n",
       "      <td>47.675871</td>\n",
       "      <td>35.828095</td>\n",
       "      <td>2.183178</td>\n",
       "      <td>-1.492794</td>\n",
       "      <td>1.018734</td>\n",
       "      <td>74.556544</td>\n",
       "      <td>168.666435</td>\n",
       "      <td>180.861603</td>\n",
       "      <td>180.991888</td>\n",
       "      <td>197.346839</td>\n",
       "      <td>73.007114</td>\n",
       "      <td>128.878433</td>\n",
       "      <td>200.615753</td>\n",
       "      <td>196.840228</td>\n",
       "      <td>194.529954</td>\n",
       "      <td>189.883049</td>\n",
       "      <td>185.808842</td>\n",
       "      <td>223.377472</td>\n",
       "      <td>218.165845</td>\n",
       "      <td>2.830073</td>\n",
       "    </tr>\n",
       "    <tr>\n",
       "      <th>std</th>\n",
       "      <td>0.228800</td>\n",
       "      <td>0.547831</td>\n",
       "      <td>0.179868</td>\n",
       "      <td>0.691779</td>\n",
       "      <td>2.750323</td>\n",
       "      <td>0.146452</td>\n",
       "      <td>0.241196</td>\n",
       "      <td>0.686560</td>\n",
       "      <td>8.828021</td>\n",
       "      <td>1.500695</td>\n",
       "      <td>18.439162</td>\n",
       "      <td>1.935795</td>\n",
       "      <td>2.127392</td>\n",
       "      <td>4.075023</td>\n",
       "      <td>0.051564</td>\n",
       "      <td>0.028840</td>\n",
       "      <td>0.045932</td>\n",
       "      <td>4126.302050</td>\n",
       "      <td>5622.155610</td>\n",
       "      <td>742.541657</td>\n",
       "      <td>589.508802</td>\n",
       "      <td>5638.687833</td>\n",
       "      <td>4970.860077</td>\n",
       "      <td>3951.334785</td>\n",
       "      <td>3206.344459</td>\n",
       "      <td>367.014122</td>\n",
       "      <td>257.837941</td>\n",
       "      <td>0.035477</td>\n",
       "      <td>0.021626</td>\n",
       "      <td>3815.862342</td>\n",
       "      <td>27.168697</td>\n",
       "      <td>2.445296</td>\n",
       "      <td>7.240906</td>\n",
       "      <td>9.977764</td>\n",
       "      <td>2.824132</td>\n",
       "      <td>1.335602</td>\n",
       "      <td>28.705725</td>\n",
       "      <td>20.352599</td>\n",
       "      <td>1.114439</td>\n",
       "      <td>1.099024</td>\n",
       "      <td>0.953394</td>\n",
       "      <td>14.818489</td>\n",
       "      <td>15.387186</td>\n",
       "      <td>27.170376</td>\n",
       "      <td>1.504697</td>\n",
       "      <td>12.662718</td>\n",
       "      <td>14.326188</td>\n",
       "      <td>10.850042</td>\n",
       "      <td>17.395681</td>\n",
       "      <td>13.458787</td>\n",
       "      <td>13.351385</td>\n",
       "      <td>8.954439</td>\n",
       "      <td>9.509806</td>\n",
       "      <td>9.921505</td>\n",
       "      <td>3.336449</td>\n",
       "      <td>0.880438</td>\n",
       "    </tr>\n",
       "    <tr>\n",
       "      <th>min</th>\n",
       "      <td>5.270185</td>\n",
       "      <td>9.740945</td>\n",
       "      <td>1.255950</td>\n",
       "      <td>0.030786</td>\n",
       "      <td>7.714985</td>\n",
       "      <td>0.374388</td>\n",
       "      <td>0.000327</td>\n",
       "      <td>0.002854</td>\n",
       "      <td>0.361524</td>\n",
       "      <td>0.172500</td>\n",
       "      <td>0.335808</td>\n",
       "      <td>0.081717</td>\n",
       "      <td>0.113905</td>\n",
       "      <td>0.000000</td>\n",
       "      <td>0.800589</td>\n",
       "      <td>0.838533</td>\n",
       "      <td>0.856118</td>\n",
       "      <td>19373.687500</td>\n",
       "      <td>16165.612500</td>\n",
       "      <td>3139.415000</td>\n",
       "      <td>0.000000</td>\n",
       "      <td>21746.912500</td>\n",
       "      <td>19643.937500</td>\n",
       "      <td>19012.625000</td>\n",
       "      <td>14811.862500</td>\n",
       "      <td>5131.707500</td>\n",
       "      <td>0.000000</td>\n",
       "      <td>0.816592</td>\n",
       "      <td>0.699112</td>\n",
       "      <td>18773.612500</td>\n",
       "      <td>107.367625</td>\n",
       "      <td>53.787775</td>\n",
       "      <td>41.586562</td>\n",
       "      <td>39.513463</td>\n",
       "      <td>60.807113</td>\n",
       "      <td>32.715563</td>\n",
       "      <td>0.000000</td>\n",
       "      <td>0.118033</td>\n",
       "      <td>0.059388</td>\n",
       "      <td>-4.676100</td>\n",
       "      <td>-1.102547</td>\n",
       "      <td>28.410837</td>\n",
       "      <td>120.962000</td>\n",
       "      <td>131.925000</td>\n",
       "      <td>178.587875</td>\n",
       "      <td>163.814250</td>\n",
       "      <td>28.821487</td>\n",
       "      <td>99.525463</td>\n",
       "      <td>165.014125</td>\n",
       "      <td>171.810125</td>\n",
       "      <td>168.970375</td>\n",
       "      <td>173.222000</td>\n",
       "      <td>160.909750</td>\n",
       "      <td>210.532500</td>\n",
       "      <td>210.407000</td>\n",
       "      <td>1.000542</td>\n",
       "    </tr>\n",
       "    <tr>\n",
       "      <th>25%</th>\n",
       "      <td>6.003510</td>\n",
       "      <td>11.095875</td>\n",
       "      <td>3.502715</td>\n",
       "      <td>0.621701</td>\n",
       "      <td>18.843125</td>\n",
       "      <td>0.877260</td>\n",
       "      <td>0.353947</td>\n",
       "      <td>0.450232</td>\n",
       "      <td>3.868730</td>\n",
       "      <td>1.982286</td>\n",
       "      <td>5.969784</td>\n",
       "      <td>2.142500</td>\n",
       "      <td>2.608680</td>\n",
       "      <td>9.962310</td>\n",
       "      <td>0.911283</td>\n",
       "      <td>0.913298</td>\n",
       "      <td>0.966101</td>\n",
       "      <td>35749.800000</td>\n",
       "      <td>29330.031250</td>\n",
       "      <td>5543.570000</td>\n",
       "      <td>316.396094</td>\n",
       "      <td>42293.356250</td>\n",
       "      <td>38659.287500</td>\n",
       "      <td>35368.618750</td>\n",
       "      <td>27284.256250</td>\n",
       "      <td>6369.194375</td>\n",
       "      <td>177.667663</td>\n",
       "      <td>0.975473</td>\n",
       "      <td>0.759625</td>\n",
       "      <td>35163.537500</td>\n",
       "      <td>150.688125</td>\n",
       "      <td>61.891900</td>\n",
       "      <td>58.817194</td>\n",
       "      <td>46.447688</td>\n",
       "      <td>66.885913</td>\n",
       "      <td>41.040700</td>\n",
       "      <td>23.434044</td>\n",
       "      <td>19.092894</td>\n",
       "      <td>1.309336</td>\n",
       "      <td>-2.355557</td>\n",
       "      <td>0.262791</td>\n",
       "      <td>64.624250</td>\n",
       "      <td>154.973562</td>\n",
       "      <td>162.379687</td>\n",
       "      <td>179.973750</td>\n",
       "      <td>186.976687</td>\n",
       "      <td>63.021206</td>\n",
       "      <td>121.292687</td>\n",
       "      <td>186.878500</td>\n",
       "      <td>186.300313</td>\n",
       "      <td>184.288875</td>\n",
       "      <td>182.820000</td>\n",
       "      <td>178.753875</td>\n",
       "      <td>217.527125</td>\n",
       "      <td>215.577938</td>\n",
       "      <td>2.240479</td>\n",
       "    </tr>\n",
       "    <tr>\n",
       "      <th>50%</th>\n",
       "      <td>6.135865</td>\n",
       "      <td>11.495850</td>\n",
       "      <td>3.588030</td>\n",
       "      <td>1.103350</td>\n",
       "      <td>21.462900</td>\n",
       "      <td>0.939660</td>\n",
       "      <td>0.447077</td>\n",
       "      <td>0.646534</td>\n",
       "      <td>5.850000</td>\n",
       "      <td>3.039602</td>\n",
       "      <td>13.188825</td>\n",
       "      <td>3.424310</td>\n",
       "      <td>4.163750</td>\n",
       "      <td>10.778100</td>\n",
       "      <td>0.949640</td>\n",
       "      <td>0.932261</td>\n",
       "      <td>0.997270</td>\n",
       "      <td>38124.875000</td>\n",
       "      <td>33068.187500</td>\n",
       "      <td>6012.696250</td>\n",
       "      <td>837.068500</td>\n",
       "      <td>46020.475000</td>\n",
       "      <td>41621.250000</td>\n",
       "      <td>37979.250000</td>\n",
       "      <td>29245.575000</td>\n",
       "      <td>6579.400000</td>\n",
       "      <td>339.463375</td>\n",
       "      <td>0.998639</td>\n",
       "      <td>0.774398</td>\n",
       "      <td>37580.600000</td>\n",
       "      <td>167.890000</td>\n",
       "      <td>63.617663</td>\n",
       "      <td>65.116775</td>\n",
       "      <td>59.950075</td>\n",
       "      <td>70.045363</td>\n",
       "      <td>41.301412</td>\n",
       "      <td>49.579687</td>\n",
       "      <td>41.075650</td>\n",
       "      <td>1.940014</td>\n",
       "      <td>-1.513371</td>\n",
       "      <td>0.799554</td>\n",
       "      <td>75.942463</td>\n",
       "      <td>172.836625</td>\n",
       "      <td>175.305250</td>\n",
       "      <td>180.053625</td>\n",
       "      <td>200.052500</td>\n",
       "      <td>76.228938</td>\n",
       "      <td>129.250500</td>\n",
       "      <td>198.956125</td>\n",
       "      <td>195.777625</td>\n",
       "      <td>193.347875</td>\n",
       "      <td>188.933875</td>\n",
       "      <td>184.905500</td>\n",
       "      <td>220.254750</td>\n",
       "      <td>217.536125</td>\n",
       "      <td>2.667845</td>\n",
       "    </tr>\n",
       "    <tr>\n",
       "      <th>75%</th>\n",
       "      <td>6.265830</td>\n",
       "      <td>11.719825</td>\n",
       "      <td>3.682920</td>\n",
       "      <td>1.687807</td>\n",
       "      <td>23.275925</td>\n",
       "      <td>1.028358</td>\n",
       "      <td>0.546428</td>\n",
       "      <td>0.961125</td>\n",
       "      <td>10.471721</td>\n",
       "      <td>4.110000</td>\n",
       "      <td>27.041038</td>\n",
       "      <td>4.966154</td>\n",
       "      <td>5.739167</td>\n",
       "      <td>13.182569</td>\n",
       "      <td>0.983945</td>\n",
       "      <td>0.951508</td>\n",
       "      <td>1.028886</td>\n",
       "      <td>39445.300000</td>\n",
       "      <td>36432.968750</td>\n",
       "      <td>6500.732500</td>\n",
       "      <td>1315.969375</td>\n",
       "      <td>48397.031250</td>\n",
       "      <td>43516.850000</td>\n",
       "      <td>39005.593750</td>\n",
       "      <td>30239.325000</td>\n",
       "      <td>6807.156250</td>\n",
       "      <td>554.508625</td>\n",
       "      <td>1.019374</td>\n",
       "      <td>0.789170</td>\n",
       "      <td>38828.531250</td>\n",
       "      <td>190.121812</td>\n",
       "      <td>64.966194</td>\n",
       "      <td>68.040581</td>\n",
       "      <td>64.976587</td>\n",
       "      <td>71.845200</td>\n",
       "      <td>41.528963</td>\n",
       "      <td>78.100662</td>\n",
       "      <td>51.454206</td>\n",
       "      <td>2.914896</td>\n",
       "      <td>-0.473816</td>\n",
       "      <td>1.676001</td>\n",
       "      <td>84.450650</td>\n",
       "      <td>180.844688</td>\n",
       "      <td>194.200688</td>\n",
       "      <td>182.000500</td>\n",
       "      <td>205.010375</td>\n",
       "      <td>84.056694</td>\n",
       "      <td>137.111250</td>\n",
       "      <td>209.763125</td>\n",
       "      <td>203.351687</td>\n",
       "      <td>201.357438</td>\n",
       "      <td>194.298000</td>\n",
       "      <td>191.088562</td>\n",
       "      <td>223.953937</td>\n",
       "      <td>220.503062</td>\n",
       "      <td>3.299891</td>\n",
       "    </tr>\n",
       "    <tr>\n",
       "      <th>max</th>\n",
       "      <td>7.026215</td>\n",
       "      <td>12.879900</td>\n",
       "      <td>5.827565</td>\n",
       "      <td>9.466675</td>\n",
       "      <td>34.151950</td>\n",
       "      <td>1.615295</td>\n",
       "      <td>3.075880</td>\n",
       "      <td>13.207450</td>\n",
       "      <td>55.772500</td>\n",
       "      <td>7.937500</td>\n",
       "      <td>96.704600</td>\n",
       "      <td>10.565000</td>\n",
       "      <td>10.640000</td>\n",
       "      <td>19.956688</td>\n",
       "      <td>1.050968</td>\n",
       "      <td>1.018905</td>\n",
       "      <td>1.097149</td>\n",
       "      <td>45369.437500</td>\n",
       "      <td>48561.587500</td>\n",
       "      <td>8672.510000</td>\n",
       "      <td>2613.463750</td>\n",
       "      <td>60699.412500</td>\n",
       "      <td>53072.575000</td>\n",
       "      <td>41922.012500</td>\n",
       "      <td>33639.625000</td>\n",
       "      <td>8022.138750</td>\n",
       "      <td>1052.260000</td>\n",
       "      <td>1.157945</td>\n",
       "      <td>0.846776</td>\n",
       "      <td>45980.450000</td>\n",
       "      <td>250.944625</td>\n",
       "      <td>71.376250</td>\n",
       "      <td>78.009637</td>\n",
       "      <td>76.369550</td>\n",
       "      <td>76.002050</td>\n",
       "      <td>49.011063</td>\n",
       "      <td>87.901600</td>\n",
       "      <td>81.156950</td>\n",
       "      <td>6.154050</td>\n",
       "      <td>1.227351</td>\n",
       "      <td>4.468376</td>\n",
       "      <td>114.153375</td>\n",
       "      <td>198.487625</td>\n",
       "      <td>240.911875</td>\n",
       "      <td>186.167625</td>\n",
       "      <td>227.095750</td>\n",
       "      <td>101.330587</td>\n",
       "      <td>158.635750</td>\n",
       "      <td>240.395750</td>\n",
       "      <td>226.824250</td>\n",
       "      <td>224.466750</td>\n",
       "      <td>211.581875</td>\n",
       "      <td>210.300750</td>\n",
       "      <td>258.600375</td>\n",
       "      <td>229.082625</td>\n",
       "      <td>6.097294</td>\n",
       "    </tr>\n",
       "  </tbody>\n",
       "</table>\n",
       "</div>"
      ],
      "text/plain": [
       "         425_pct_Al         Al2O3       M_Value    C4_pct_Eth    C4_pct_H2O  \\\n",
       "count  40127.000000  40127.000000  40127.000000  40127.000000  40127.000000   \n",
       "mean       6.133716     11.382607      3.597077      1.213887     21.178645   \n",
       "std        0.228800      0.547831      0.179868      0.691779      2.750323   \n",
       "min        5.270185      9.740945      1.255950      0.030786      7.714985   \n",
       "25%        6.003510     11.095875      3.502715      0.621701     18.843125   \n",
       "50%        6.135865     11.495850      3.588030      1.103350     21.462900   \n",
       "75%        6.265830     11.719825      3.682920      1.687807     23.275925   \n",
       "max        7.026215     12.879900      5.827565      9.466675     34.151950   \n",
       "\n",
       "       HydWtr_pct_Ammonia    C4_pct_Hex   HydWtr_Na2O       Butanol  \\\n",
       "count        40127.000000  40127.000000  40127.000000  40127.000000   \n",
       "mean             0.967938      0.471411      0.789919      9.218873   \n",
       "std              0.146452      0.241196      0.686560      8.828021   \n",
       "min              0.374388      0.000327      0.002854      0.361524   \n",
       "25%              0.877260      0.353947      0.450232      3.868730   \n",
       "50%              0.939660      0.447077      0.646534      5.850000   \n",
       "75%              1.028358      0.546428      0.961125     10.471721   \n",
       "max              1.615295      3.075880     13.207450     55.772500   \n",
       "\n",
       "            Decanol       Ethanol       Hexanol       Octanol      AYC55580  \\\n",
       "count  40127.000000  40127.000000  40127.000000  40127.000000  40127.000000   \n",
       "mean       3.118667     19.434009      3.668212      4.271534     11.109746   \n",
       "std        1.500695     18.439162      1.935795      2.127392      4.075023   \n",
       "min        0.172500      0.335808      0.081717      0.113905      0.000000   \n",
       "25%        1.982286      5.969784      2.142500      2.608680      9.962310   \n",
       "50%        3.039602     13.188825      3.424310      4.163750     10.778100   \n",
       "75%        4.110000     27.041038      4.966154      5.739167     13.182569   \n",
       "max        7.937500     96.704600     10.565000     10.640000     19.956688   \n",
       "\n",
       "            DI55102       DI55152       DI55580       FC42428       FC52018  \\\n",
       "count  40127.000000  40127.000000  40127.000000  40127.000000  40127.000000   \n",
       "mean       0.944657      0.932500      0.995820  36807.354517  32867.723665   \n",
       "std        0.051564      0.028840      0.045932   4126.302050   5622.155610   \n",
       "min        0.800589      0.838533      0.856118  19373.687500  16165.612500   \n",
       "25%        0.911283      0.913298      0.966101  35749.800000  29330.031250   \n",
       "50%        0.949640      0.932261      0.997270  38124.875000  33068.187500   \n",
       "75%        0.983945      0.951508      1.028886  39445.300000  36432.968750   \n",
       "max        1.050968      1.018905      1.097149  45369.437500  48561.587500   \n",
       "\n",
       "            FC55003       FC55009       FC55102       FC55152       FC55552  \\\n",
       "count  40127.000000  40127.000000  40127.000000  40127.000000  40127.000000   \n",
       "mean    5994.093426    845.283665  44798.257579  40467.172730  36486.326412   \n",
       "std      742.541657    589.508802   5638.687833   4970.860077   3951.334785   \n",
       "min     3139.415000      0.000000  21746.912500  19643.937500  19012.625000   \n",
       "25%     5543.570000    316.396094  42293.356250  38659.287500  35368.618750   \n",
       "50%     6012.696250    837.068500  46020.475000  41621.250000  37979.250000   \n",
       "75%     6500.732500   1315.969375  48397.031250  43516.850000  39005.593750   \n",
       "max     8672.510000   2613.463750  60699.412500  53072.575000  41922.012500   \n",
       "\n",
       "            FC55555       FC55569       FC55576      FFC55553      FFC55555  \\\n",
       "count  40127.000000  40127.000000  40127.000000  40127.000000  40127.000000   \n",
       "mean   28202.745752   6599.626128    370.858532      0.998780      0.772735   \n",
       "std     3206.344459    367.014122    257.837941      0.035477      0.021626   \n",
       "min    14811.862500   5131.707500      0.000000      0.816592      0.699112   \n",
       "25%    27284.256250   6369.194375    177.667663      0.975473      0.759625   \n",
       "50%    29245.575000   6579.400000    339.463375      0.998639      0.774398   \n",
       "75%    30239.325000   6807.156250    554.508625      1.019374      0.789170   \n",
       "max    33639.625000   8022.138750   1052.260000      1.157945      0.846776   \n",
       "\n",
       "           FYC55553       II52554       LC52572       LC55553       LC55555  \\\n",
       "count  40127.000000  40127.000000  40127.000000  40127.000000  40127.000000   \n",
       "mean   36395.799103    170.603490     63.161834     62.999504     56.451590   \n",
       "std     3815.862342     27.168697      2.445296      7.240906      9.977764   \n",
       "min    18773.612500    107.367625     53.787775     41.586562     39.513463   \n",
       "25%    35163.537500    150.688125     61.891900     58.817194     46.447688   \n",
       "50%    37580.600000    167.890000     63.617663     65.116775     59.950075   \n",
       "75%    38828.531250    190.121812     64.966194     68.040581     64.976587   \n",
       "max    45980.450000    250.944625     71.376250     78.009637     76.369550   \n",
       "\n",
       "            LC55557       LC55568       LC90366       LC90368       PI55004  \\\n",
       "count  40127.000000  40127.000000  40127.000000  40127.000000  40127.000000   \n",
       "mean      69.400947     41.197351     47.675871     35.828095      2.183178   \n",
       "std        2.824132      1.335602     28.705725     20.352599      1.114439   \n",
       "min       60.807113     32.715563      0.000000      0.118033      0.059388   \n",
       "25%       66.885913     41.040700     23.434044     19.092894      1.309336   \n",
       "50%       70.045363     41.301412     49.579687     41.075650      1.940014   \n",
       "75%       71.845200     41.528963     78.100662     51.454206      2.914896   \n",
       "max       76.002050     49.011063     87.901600     81.156950      6.154050   \n",
       "\n",
       "            PI55020       PI55560       TC52015       TC55552       TC55553  \\\n",
       "count  40127.000000  40127.000000  40127.000000  40127.000000  40127.000000   \n",
       "mean      -1.492794      1.018734     74.556544    168.666435    180.861603   \n",
       "std        1.099024      0.953394     14.818489     15.387186     27.170376   \n",
       "min       -4.676100     -1.102547     28.410837    120.962000    131.925000   \n",
       "25%       -2.355557      0.262791     64.624250    154.973562    162.379687   \n",
       "50%       -1.513371      0.799554     75.942463    172.836625    175.305250   \n",
       "75%       -0.473816      1.676001     84.450650    180.844688    194.200688   \n",
       "max        1.227351      4.468376    114.153375    198.487625    240.911875   \n",
       "\n",
       "            TC55555       TC55566       TI40050       TI52014       TI55013  \\\n",
       "count  40127.000000  40127.000000  40127.000000  40127.000000  40127.000000   \n",
       "mean     180.991888    197.346839     73.007114    128.878433    200.615753   \n",
       "std        1.504697     12.662718     14.326188     10.850042     17.395681   \n",
       "min      178.587875    163.814250     28.821487     99.525463    165.014125   \n",
       "25%      179.973750    186.976687     63.021206    121.292687    186.878500   \n",
       "50%      180.053625    200.052500     76.228938    129.250500    198.956125   \n",
       "75%      182.000500    205.010375     84.056694    137.111250    209.763125   \n",
       "max      186.167625    227.095750    101.330587    158.635750    240.395750   \n",
       "\n",
       "            TI55014       TI55015       TI55016       TI55017       TI55021  \\\n",
       "count  40127.000000  40127.000000  40127.000000  40127.000000  40127.000000   \n",
       "mean     196.840228    194.529954    189.883049    185.808842    223.377472   \n",
       "std       13.458787     13.351385      8.954439      9.509806      9.921505   \n",
       "min      171.810125    168.970375    173.222000    160.909750    210.532500   \n",
       "25%      186.300313    184.288875    182.820000    178.753875    217.527125   \n",
       "50%      195.777625    193.347875    188.933875    184.905500    220.254750   \n",
       "75%      203.351687    201.357438    194.298000    191.088562    223.953937   \n",
       "max      226.824250    224.466750    211.581875    210.300750    258.600375   \n",
       "\n",
       "            TI55023      VI52558B  \n",
       "count  40127.000000  40127.000000  \n",
       "mean     218.165845      2.830073  \n",
       "std        3.336449      0.880438  \n",
       "min      210.407000      1.000542  \n",
       "25%      215.577938      2.240479  \n",
       "50%      217.536125      2.667845  \n",
       "75%      220.503062      3.299891  \n",
       "max      229.082625      6.097294  "
      ]
     },
     "execution_count": 5,
     "metadata": {},
     "output_type": "execute_result"
    }
   ],
   "source": [
    "\n",
    "# df_All_1 = pd.read_csv(r'C:\\Users\\saust\\OneDrive\\Desktop\\GitRepo\\Project-OptiC4\\1 Preprocess\\Merge Data\\contData_all_Avg_1o2.csv')\n",
    "# df_All_2 = pd.read_csv(r'C:\\Users\\saust\\OneDrive\\Desktop\\GitRepo\\Project-OptiC4\\1 Preprocess\\Merge Data\\contData_all_Avg_2o2.csv')\n",
    "# # Concatenate (union) the dataframes\n",
    "# df_All = pd.concat([df_All_1, df_All_2], ignore_index=True)\n",
    "\n",
    "# print(df_All.head())\n",
    "\n",
    "df_All = pd.read_csv(r\"C:\\Users\\austinsh\\Project-OptiC4\\II Data\\2 Preprocessing\\Merge Data\\merged_data.csv\")\n",
    "# Print descriptive statistics for df_All\n",
    "df_All.describe()"
   ]
  },
  {
   "cell_type": "code",
   "execution_count": 6,
   "metadata": {},
   "outputs": [],
   "source": [
    "\n",
    "TagDesc = pd.read_csv(r\"C:\\Users\\austinsh\\Project-OptiC4\\II Data\\1 Collection\\CSV\\Not for Processing\\TagDesc.csv\")\n",
    "# df_All = pd.read_csv(r\"C:\\Users\\saust\\OneDrive - Sasol\\1 Project rC4\\Jupyter Notebooks\\Report 10-19-23\\df_AlConCD554.csv\")\n",
    "#df_All = pd.read_csv(r\"C:\\Users\\saust\\OneDrive\\Desktop\\CodeSpace DLs\\102423\\Project rC4\\5 Engineered Features\\3 - EF - Feature Selection\\df_CDFI.csv\")\n",
    "\n",
    "\n",
    "# FScore = pd.read_csv(r\"C:\\Users\\saust\\OneDrive\\Desktop\\CodeSpace DLs\\102423\\Project rC4\\5 Engineered Features\\3 - EF - Feature Selection\\FScore_on_Butanol_310.csv\")\n",
    "\n",
    "# df_All = pd.read_csv('/workspaces/codespaces-jupyter/ProjectrC4/df_AlConCD554.csv')"
   ]
  },
  {
   "cell_type": "code",
   "execution_count": 7,
   "metadata": {},
   "outputs": [],
   "source": [
    "# List of columns to exclude to run XGboost feature selection\n",
    "exclude_columns = [\n",
    "       \n",
    "       # Sample data of the same time defeats the purpose of Virtual Analyzer\n",
    "       # The point is to predict in lieu of continual sampling\n",
    "       'Octanol', \n",
    "       'Hexanol', \n",
    "       'Ethanol', \n",
    "       'Butanol',\n",
    "\n",
    "       # Niro Functions\n",
    "       'FC52018', \n",
    "       'II52554', \n",
    "       'VI52558B',\n",
    "\n",
    "       # .9 Correlations\n",
    "       'TI52014',   # \"Normally the Exctraction temperature is run within a few degrees of the hydrolysis temperature.\"(Alumina Unit Effect p10) \n",
    "       'TI55013', \n",
    "       'TI55014', \n",
    "       'TI55015', \n",
    "       'TI55016', \n",
    "       'TI55017',\n",
    "       'TC52015',    # - This one was removed from service. If ambient temp is beneficial, then the one still in service will be needed.\n",
    "       'FC55555',   # First Drop - Highest correlated variable    #Almost 1 with FC55552 - as determined by Ratio controller    \n",
    "       'PI55560',   # Exlude middle pressure - Include -> PI5500: btm pressure \n",
    "       'FYC55553',  # Calculates by other varibales (inherently correlated) - Include -> FC55552 - leading influecner \n",
    "       'FC55152',   # deritive of FC55552 since is maintains level of 2nd stage separator\n",
    "       'TI55023',    # Stripper Bottoms has a coreelation to 'PI55004', \n",
    " \n",
    "       # # .8 Correlations\n",
    "       'FC55102', # Rx Slurry out is likely a derivative of its correlation alkoxide feed\n",
    "       'FC42428', # SAO to Storage is a buffer to unit, unit feed more imparative\n",
    "\n",
    "       # # .7 Correlations\n",
    "       'AYC55580',  # Is calculated - DI55580 measures the process directly  \n",
    "\n",
    "       # # .6 Correlations\n",
    "       'TC55566',  # Slurry coolers are a Downstream requirement - TC55552 occurs upstream (DC-551 ALKOX  FD PREHEAT)\n",
    "       'LC55555',  # Seems less influential than its correlation of percent C2 in rC4\n",
    "       'TC55553',  # Correlates to Decanol - This is a Decoanl model so it stays\n",
    "\n",
    "       # # .5 Correlations\n",
    "       # 'FC55009' # Receives its SP from TC55553\n",
    " \n",
    "\n",
    "\n",
    "#          \n",
    "#        # Stripper Steam\n",
    "#          'TI55021',\n",
    "\n",
    "#        # .7 Correlations - Original Processing Actual .8 in this iteration\n",
    "#        # FC55552 --> FC42428 = 0.70526 / not comfortable droping either at this time\n",
    "\n",
    "\n",
    "                   ]\n",
    "\n",
    "# Create a new DataFrame without the excluded columnsd\n",
    "df_All = df_All.drop(columns=exclude_columns)"
   ]
  },
  {
   "cell_type": "markdown",
   "metadata": {},
   "source": [
    "# Check Basic Information:"
   ]
  },
  {
   "cell_type": "code",
   "execution_count": 8,
   "metadata": {},
   "outputs": [
    {
     "name": "stdout",
     "output_type": "stream",
     "text": [
      "<class 'pandas.core.frame.DataFrame'>\n",
      "RangeIndex: 40127 entries, 0 to 40126\n",
      "Data columns (total 32 columns):\n",
      " #   Column              Non-Null Count  Dtype  \n",
      "---  ------              --------------  -----  \n",
      " 0   Date                40127 non-null  object \n",
      " 1   425_pct_Al          40127 non-null  float64\n",
      " 2   Al2O3               40127 non-null  float64\n",
      " 3   M_Value             40127 non-null  float64\n",
      " 4   C4_pct_Eth          40127 non-null  float64\n",
      " 5   C4_pct_H2O          40127 non-null  float64\n",
      " 6   HydWtr_pct_Ammonia  40127 non-null  float64\n",
      " 7   C4_pct_Hex          40127 non-null  float64\n",
      " 8   HydWtr_Na2O         40127 non-null  float64\n",
      " 9   Decanol             40127 non-null  float64\n",
      " 10  DI55102             40127 non-null  float64\n",
      " 11  DI55152             40127 non-null  float64\n",
      " 12  DI55580             40127 non-null  float64\n",
      " 13  FC55003             40127 non-null  float64\n",
      " 14  FC55009             40127 non-null  float64\n",
      " 15  FC55552             40127 non-null  float64\n",
      " 16  FC55569             40127 non-null  float64\n",
      " 17  FC55576             40127 non-null  float64\n",
      " 18  FFC55553            40127 non-null  float64\n",
      " 19  FFC55555            40127 non-null  float64\n",
      " 20  LC52572             40127 non-null  float64\n",
      " 21  LC55553             40127 non-null  float64\n",
      " 22  LC55557             40127 non-null  float64\n",
      " 23  LC55568             40127 non-null  float64\n",
      " 24  LC90366             40127 non-null  float64\n",
      " 25  LC90368             40127 non-null  float64\n",
      " 26  PI55004             40127 non-null  float64\n",
      " 27  PI55020             40127 non-null  float64\n",
      " 28  TC55552             40127 non-null  float64\n",
      " 29  TC55555             40127 non-null  float64\n",
      " 30  TI40050             40127 non-null  float64\n",
      " 31  TI55021             40127 non-null  float64\n",
      "dtypes: float64(31), object(1)\n",
      "memory usage: 9.8+ MB\n"
     ]
    },
    {
     "data": {
      "text/html": [
       "<div>\n",
       "<style scoped>\n",
       "    .dataframe tbody tr th:only-of-type {\n",
       "        vertical-align: middle;\n",
       "    }\n",
       "\n",
       "    .dataframe tbody tr th {\n",
       "        vertical-align: top;\n",
       "    }\n",
       "\n",
       "    .dataframe thead th {\n",
       "        text-align: right;\n",
       "    }\n",
       "</style>\n",
       "<table border=\"1\" class=\"dataframe\">\n",
       "  <thead>\n",
       "    <tr style=\"text-align: right;\">\n",
       "      <th></th>\n",
       "      <th>Date</th>\n",
       "      <th>425_pct_Al</th>\n",
       "      <th>Al2O3</th>\n",
       "      <th>M_Value</th>\n",
       "      <th>C4_pct_Eth</th>\n",
       "      <th>C4_pct_H2O</th>\n",
       "      <th>HydWtr_pct_Ammonia</th>\n",
       "      <th>C4_pct_Hex</th>\n",
       "      <th>HydWtr_Na2O</th>\n",
       "      <th>Decanol</th>\n",
       "      <th>DI55102</th>\n",
       "      <th>DI55152</th>\n",
       "      <th>DI55580</th>\n",
       "      <th>FC55003</th>\n",
       "      <th>FC55009</th>\n",
       "      <th>FC55552</th>\n",
       "      <th>FC55569</th>\n",
       "      <th>FC55576</th>\n",
       "      <th>FFC55553</th>\n",
       "      <th>FFC55555</th>\n",
       "      <th>LC52572</th>\n",
       "      <th>LC55553</th>\n",
       "      <th>LC55557</th>\n",
       "      <th>LC55568</th>\n",
       "      <th>LC90366</th>\n",
       "      <th>LC90368</th>\n",
       "      <th>PI55004</th>\n",
       "      <th>PI55020</th>\n",
       "      <th>TC55552</th>\n",
       "      <th>TC55555</th>\n",
       "      <th>TI40050</th>\n",
       "      <th>TI55021</th>\n",
       "    </tr>\n",
       "  </thead>\n",
       "  <tbody>\n",
       "    <tr>\n",
       "      <th>0</th>\n",
       "      <td>2012-05-17 09:00:00</td>\n",
       "      <td>6.319560</td>\n",
       "      <td>11.41670</td>\n",
       "      <td>3.50773</td>\n",
       "      <td>2.554580</td>\n",
       "      <td>22.0531</td>\n",
       "      <td>0.867508</td>\n",
       "      <td>0.670721</td>\n",
       "      <td>3.354160</td>\n",
       "      <td>1.03026</td>\n",
       "      <td>0.965043</td>\n",
       "      <td>0.924515</td>\n",
       "      <td>1.014885</td>\n",
       "      <td>5308.885</td>\n",
       "      <td>1182.3935</td>\n",
       "      <td>40409.25</td>\n",
       "      <td>6924.645</td>\n",
       "      <td>322.177</td>\n",
       "      <td>1.049540</td>\n",
       "      <td>0.751183</td>\n",
       "      <td>66.52320</td>\n",
       "      <td>62.92105</td>\n",
       "      <td>66.31395</td>\n",
       "      <td>40.25250</td>\n",
       "      <td>15.449150</td>\n",
       "      <td>49.26750</td>\n",
       "      <td>1.236360</td>\n",
       "      <td>-0.389406</td>\n",
       "      <td>179.0115</td>\n",
       "      <td>179.9940</td>\n",
       "      <td>82.96565</td>\n",
       "      <td>213.8740</td>\n",
       "    </tr>\n",
       "    <tr>\n",
       "      <th>1</th>\n",
       "      <td>2012-05-17 10:00:00</td>\n",
       "      <td>6.319915</td>\n",
       "      <td>11.40835</td>\n",
       "      <td>3.50797</td>\n",
       "      <td>2.555935</td>\n",
       "      <td>22.0557</td>\n",
       "      <td>0.864729</td>\n",
       "      <td>0.671059</td>\n",
       "      <td>3.306475</td>\n",
       "      <td>1.03026</td>\n",
       "      <td>0.965043</td>\n",
       "      <td>0.924515</td>\n",
       "      <td>1.014885</td>\n",
       "      <td>5308.885</td>\n",
       "      <td>1182.3935</td>\n",
       "      <td>40409.25</td>\n",
       "      <td>6924.645</td>\n",
       "      <td>322.177</td>\n",
       "      <td>1.049540</td>\n",
       "      <td>0.751183</td>\n",
       "      <td>66.52320</td>\n",
       "      <td>62.92105</td>\n",
       "      <td>66.31395</td>\n",
       "      <td>40.25250</td>\n",
       "      <td>15.449150</td>\n",
       "      <td>49.26750</td>\n",
       "      <td>1.236360</td>\n",
       "      <td>-0.389406</td>\n",
       "      <td>179.0115</td>\n",
       "      <td>179.9940</td>\n",
       "      <td>82.96565</td>\n",
       "      <td>213.8740</td>\n",
       "    </tr>\n",
       "    <tr>\n",
       "      <th>2</th>\n",
       "      <td>2012-05-17 12:00:00</td>\n",
       "      <td>6.320970</td>\n",
       "      <td>11.39165</td>\n",
       "      <td>3.50869</td>\n",
       "      <td>2.560005</td>\n",
       "      <td>22.0636</td>\n",
       "      <td>0.856391</td>\n",
       "      <td>0.672071</td>\n",
       "      <td>3.163420</td>\n",
       "      <td>1.06326</td>\n",
       "      <td>0.965043</td>\n",
       "      <td>0.924515</td>\n",
       "      <td>1.014885</td>\n",
       "      <td>5308.885</td>\n",
       "      <td>1182.3935</td>\n",
       "      <td>40409.25</td>\n",
       "      <td>6924.645</td>\n",
       "      <td>322.177</td>\n",
       "      <td>1.049540</td>\n",
       "      <td>0.751183</td>\n",
       "      <td>66.52320</td>\n",
       "      <td>62.92105</td>\n",
       "      <td>66.31395</td>\n",
       "      <td>40.25250</td>\n",
       "      <td>15.449150</td>\n",
       "      <td>49.26750</td>\n",
       "      <td>1.236360</td>\n",
       "      <td>-0.389406</td>\n",
       "      <td>179.0115</td>\n",
       "      <td>179.9940</td>\n",
       "      <td>82.96565</td>\n",
       "      <td>213.8740</td>\n",
       "    </tr>\n",
       "    <tr>\n",
       "      <th>3</th>\n",
       "      <td>2012-05-18 08:00:00</td>\n",
       "      <td>6.328690</td>\n",
       "      <td>11.39165</td>\n",
       "      <td>3.51401</td>\n",
       "      <td>2.540370</td>\n",
       "      <td>22.0604</td>\n",
       "      <td>0.811652</td>\n",
       "      <td>0.674174</td>\n",
       "      <td>2.238130</td>\n",
       "      <td>1.51850</td>\n",
       "      <td>0.971625</td>\n",
       "      <td>0.933431</td>\n",
       "      <td>1.015146</td>\n",
       "      <td>5297.320</td>\n",
       "      <td>966.1866</td>\n",
       "      <td>40866.28</td>\n",
       "      <td>6918.194</td>\n",
       "      <td>329.701</td>\n",
       "      <td>1.050092</td>\n",
       "      <td>0.764579</td>\n",
       "      <td>66.50016</td>\n",
       "      <td>62.23534</td>\n",
       "      <td>65.92560</td>\n",
       "      <td>39.88364</td>\n",
       "      <td>8.759814</td>\n",
       "      <td>48.51306</td>\n",
       "      <td>1.190342</td>\n",
       "      <td>-0.318266</td>\n",
       "      <td>180.7166</td>\n",
       "      <td>179.9338</td>\n",
       "      <td>82.41662</td>\n",
       "      <td>214.5402</td>\n",
       "    </tr>\n",
       "    <tr>\n",
       "      <th>4</th>\n",
       "      <td>2012-05-18 09:00:00</td>\n",
       "      <td>6.336060</td>\n",
       "      <td>11.40500</td>\n",
       "      <td>3.51910</td>\n",
       "      <td>2.514430</td>\n",
       "      <td>22.0484</td>\n",
       "      <td>0.773793</td>\n",
       "      <td>0.675408</td>\n",
       "      <td>1.391475</td>\n",
       "      <td>1.51850</td>\n",
       "      <td>0.971625</td>\n",
       "      <td>0.933431</td>\n",
       "      <td>1.015146</td>\n",
       "      <td>5297.320</td>\n",
       "      <td>966.1866</td>\n",
       "      <td>40866.28</td>\n",
       "      <td>6918.194</td>\n",
       "      <td>329.701</td>\n",
       "      <td>1.050092</td>\n",
       "      <td>0.764579</td>\n",
       "      <td>66.50016</td>\n",
       "      <td>62.23534</td>\n",
       "      <td>65.92560</td>\n",
       "      <td>39.88364</td>\n",
       "      <td>8.759814</td>\n",
       "      <td>48.51306</td>\n",
       "      <td>1.190342</td>\n",
       "      <td>-0.318266</td>\n",
       "      <td>180.7166</td>\n",
       "      <td>179.9338</td>\n",
       "      <td>82.41662</td>\n",
       "      <td>214.5402</td>\n",
       "    </tr>\n",
       "  </tbody>\n",
       "</table>\n",
       "</div>"
      ],
      "text/plain": [
       "                  Date  425_pct_Al     Al2O3  M_Value  C4_pct_Eth  C4_pct_H2O  \\\n",
       "0  2012-05-17 09:00:00    6.319560  11.41670  3.50773    2.554580     22.0531   \n",
       "1  2012-05-17 10:00:00    6.319915  11.40835  3.50797    2.555935     22.0557   \n",
       "2  2012-05-17 12:00:00    6.320970  11.39165  3.50869    2.560005     22.0636   \n",
       "3  2012-05-18 08:00:00    6.328690  11.39165  3.51401    2.540370     22.0604   \n",
       "4  2012-05-18 09:00:00    6.336060  11.40500  3.51910    2.514430     22.0484   \n",
       "\n",
       "   HydWtr_pct_Ammonia  C4_pct_Hex  HydWtr_Na2O  Decanol   DI55102   DI55152  \\\n",
       "0            0.867508    0.670721     3.354160  1.03026  0.965043  0.924515   \n",
       "1            0.864729    0.671059     3.306475  1.03026  0.965043  0.924515   \n",
       "2            0.856391    0.672071     3.163420  1.06326  0.965043  0.924515   \n",
       "3            0.811652    0.674174     2.238130  1.51850  0.971625  0.933431   \n",
       "4            0.773793    0.675408     1.391475  1.51850  0.971625  0.933431   \n",
       "\n",
       "    DI55580   FC55003    FC55009   FC55552   FC55569  FC55576  FFC55553  \\\n",
       "0  1.014885  5308.885  1182.3935  40409.25  6924.645  322.177  1.049540   \n",
       "1  1.014885  5308.885  1182.3935  40409.25  6924.645  322.177  1.049540   \n",
       "2  1.014885  5308.885  1182.3935  40409.25  6924.645  322.177  1.049540   \n",
       "3  1.015146  5297.320   966.1866  40866.28  6918.194  329.701  1.050092   \n",
       "4  1.015146  5297.320   966.1866  40866.28  6918.194  329.701  1.050092   \n",
       "\n",
       "   FFC55555   LC52572   LC55553   LC55557   LC55568    LC90366   LC90368  \\\n",
       "0  0.751183  66.52320  62.92105  66.31395  40.25250  15.449150  49.26750   \n",
       "1  0.751183  66.52320  62.92105  66.31395  40.25250  15.449150  49.26750   \n",
       "2  0.751183  66.52320  62.92105  66.31395  40.25250  15.449150  49.26750   \n",
       "3  0.764579  66.50016  62.23534  65.92560  39.88364   8.759814  48.51306   \n",
       "4  0.764579  66.50016  62.23534  65.92560  39.88364   8.759814  48.51306   \n",
       "\n",
       "    PI55004   PI55020   TC55552   TC55555   TI40050   TI55021  \n",
       "0  1.236360 -0.389406  179.0115  179.9940  82.96565  213.8740  \n",
       "1  1.236360 -0.389406  179.0115  179.9940  82.96565  213.8740  \n",
       "2  1.236360 -0.389406  179.0115  179.9940  82.96565  213.8740  \n",
       "3  1.190342 -0.318266  180.7166  179.9338  82.41662  214.5402  \n",
       "4  1.190342 -0.318266  180.7166  179.9338  82.41662  214.5402  "
      ]
     },
     "execution_count": 8,
     "metadata": {},
     "output_type": "execute_result"
    }
   ],
   "source": [
    "\n",
    "\n",
    "df_All.info() #to check the data types, non-null counts, and memory usage.\n",
    "df_All.head() #to examine the first few rows of the dataset."
   ]
  },
  {
   "cell_type": "markdown",
   "metadata": {},
   "source": [
    "# Summary Statistics:"
   ]
  },
  {
   "cell_type": "code",
   "execution_count": 9,
   "metadata": {},
   "outputs": [
    {
     "data": {
      "text/html": [
       "<div>\n",
       "<style scoped>\n",
       "    .dataframe tbody tr th:only-of-type {\n",
       "        vertical-align: middle;\n",
       "    }\n",
       "\n",
       "    .dataframe tbody tr th {\n",
       "        vertical-align: top;\n",
       "    }\n",
       "\n",
       "    .dataframe thead th {\n",
       "        text-align: right;\n",
       "    }\n",
       "</style>\n",
       "<table border=\"1\" class=\"dataframe\">\n",
       "  <thead>\n",
       "    <tr style=\"text-align: right;\">\n",
       "      <th></th>\n",
       "      <th>425_pct_Al</th>\n",
       "      <th>Al2O3</th>\n",
       "      <th>M_Value</th>\n",
       "      <th>C4_pct_Eth</th>\n",
       "      <th>C4_pct_H2O</th>\n",
       "      <th>HydWtr_pct_Ammonia</th>\n",
       "      <th>C4_pct_Hex</th>\n",
       "      <th>HydWtr_Na2O</th>\n",
       "      <th>Decanol</th>\n",
       "      <th>DI55102</th>\n",
       "      <th>DI55152</th>\n",
       "      <th>DI55580</th>\n",
       "      <th>FC55003</th>\n",
       "      <th>FC55009</th>\n",
       "      <th>FC55552</th>\n",
       "      <th>FC55569</th>\n",
       "      <th>FC55576</th>\n",
       "      <th>FFC55553</th>\n",
       "      <th>FFC55555</th>\n",
       "      <th>LC52572</th>\n",
       "      <th>LC55553</th>\n",
       "      <th>LC55557</th>\n",
       "      <th>LC55568</th>\n",
       "      <th>LC90366</th>\n",
       "      <th>LC90368</th>\n",
       "      <th>PI55004</th>\n",
       "      <th>PI55020</th>\n",
       "      <th>TC55552</th>\n",
       "      <th>TC55555</th>\n",
       "      <th>TI40050</th>\n",
       "      <th>TI55021</th>\n",
       "    </tr>\n",
       "  </thead>\n",
       "  <tbody>\n",
       "    <tr>\n",
       "      <th>count</th>\n",
       "      <td>40127.000000</td>\n",
       "      <td>40127.000000</td>\n",
       "      <td>40127.000000</td>\n",
       "      <td>40127.000000</td>\n",
       "      <td>40127.000000</td>\n",
       "      <td>40127.000000</td>\n",
       "      <td>40127.000000</td>\n",
       "      <td>40127.000000</td>\n",
       "      <td>40127.000000</td>\n",
       "      <td>40127.000000</td>\n",
       "      <td>40127.000000</td>\n",
       "      <td>40127.000000</td>\n",
       "      <td>40127.000000</td>\n",
       "      <td>40127.000000</td>\n",
       "      <td>40127.000000</td>\n",
       "      <td>40127.000000</td>\n",
       "      <td>40127.000000</td>\n",
       "      <td>40127.000000</td>\n",
       "      <td>40127.000000</td>\n",
       "      <td>40127.000000</td>\n",
       "      <td>40127.000000</td>\n",
       "      <td>40127.000000</td>\n",
       "      <td>40127.000000</td>\n",
       "      <td>40127.000000</td>\n",
       "      <td>40127.000000</td>\n",
       "      <td>40127.000000</td>\n",
       "      <td>40127.000000</td>\n",
       "      <td>40127.000000</td>\n",
       "      <td>40127.000000</td>\n",
       "      <td>40127.000000</td>\n",
       "      <td>40127.000000</td>\n",
       "    </tr>\n",
       "    <tr>\n",
       "      <th>mean</th>\n",
       "      <td>6.133716</td>\n",
       "      <td>11.382607</td>\n",
       "      <td>3.597077</td>\n",
       "      <td>1.213887</td>\n",
       "      <td>21.178645</td>\n",
       "      <td>0.967938</td>\n",
       "      <td>0.471411</td>\n",
       "      <td>0.789919</td>\n",
       "      <td>3.118667</td>\n",
       "      <td>0.944657</td>\n",
       "      <td>0.932500</td>\n",
       "      <td>0.995820</td>\n",
       "      <td>5994.093426</td>\n",
       "      <td>845.283665</td>\n",
       "      <td>36486.326412</td>\n",
       "      <td>6599.626128</td>\n",
       "      <td>370.858532</td>\n",
       "      <td>0.998780</td>\n",
       "      <td>0.772735</td>\n",
       "      <td>63.161834</td>\n",
       "      <td>62.999504</td>\n",
       "      <td>69.400947</td>\n",
       "      <td>41.197351</td>\n",
       "      <td>47.675871</td>\n",
       "      <td>35.828095</td>\n",
       "      <td>2.183178</td>\n",
       "      <td>-1.492794</td>\n",
       "      <td>168.666435</td>\n",
       "      <td>180.991888</td>\n",
       "      <td>73.007114</td>\n",
       "      <td>223.377472</td>\n",
       "    </tr>\n",
       "    <tr>\n",
       "      <th>std</th>\n",
       "      <td>0.228800</td>\n",
       "      <td>0.547831</td>\n",
       "      <td>0.179868</td>\n",
       "      <td>0.691779</td>\n",
       "      <td>2.750323</td>\n",
       "      <td>0.146452</td>\n",
       "      <td>0.241196</td>\n",
       "      <td>0.686560</td>\n",
       "      <td>1.500695</td>\n",
       "      <td>0.051564</td>\n",
       "      <td>0.028840</td>\n",
       "      <td>0.045932</td>\n",
       "      <td>742.541657</td>\n",
       "      <td>589.508802</td>\n",
       "      <td>3951.334785</td>\n",
       "      <td>367.014122</td>\n",
       "      <td>257.837941</td>\n",
       "      <td>0.035477</td>\n",
       "      <td>0.021626</td>\n",
       "      <td>2.445296</td>\n",
       "      <td>7.240906</td>\n",
       "      <td>2.824132</td>\n",
       "      <td>1.335602</td>\n",
       "      <td>28.705725</td>\n",
       "      <td>20.352599</td>\n",
       "      <td>1.114439</td>\n",
       "      <td>1.099024</td>\n",
       "      <td>15.387186</td>\n",
       "      <td>1.504697</td>\n",
       "      <td>14.326188</td>\n",
       "      <td>9.921505</td>\n",
       "    </tr>\n",
       "    <tr>\n",
       "      <th>min</th>\n",
       "      <td>5.270185</td>\n",
       "      <td>9.740945</td>\n",
       "      <td>1.255950</td>\n",
       "      <td>0.030786</td>\n",
       "      <td>7.714985</td>\n",
       "      <td>0.374388</td>\n",
       "      <td>0.000327</td>\n",
       "      <td>0.002854</td>\n",
       "      <td>0.172500</td>\n",
       "      <td>0.800589</td>\n",
       "      <td>0.838533</td>\n",
       "      <td>0.856118</td>\n",
       "      <td>3139.415000</td>\n",
       "      <td>0.000000</td>\n",
       "      <td>19012.625000</td>\n",
       "      <td>5131.707500</td>\n",
       "      <td>0.000000</td>\n",
       "      <td>0.816592</td>\n",
       "      <td>0.699112</td>\n",
       "      <td>53.787775</td>\n",
       "      <td>41.586562</td>\n",
       "      <td>60.807113</td>\n",
       "      <td>32.715563</td>\n",
       "      <td>0.000000</td>\n",
       "      <td>0.118033</td>\n",
       "      <td>0.059388</td>\n",
       "      <td>-4.676100</td>\n",
       "      <td>120.962000</td>\n",
       "      <td>178.587875</td>\n",
       "      <td>28.821487</td>\n",
       "      <td>210.532500</td>\n",
       "    </tr>\n",
       "    <tr>\n",
       "      <th>25%</th>\n",
       "      <td>6.003510</td>\n",
       "      <td>11.095875</td>\n",
       "      <td>3.502715</td>\n",
       "      <td>0.621701</td>\n",
       "      <td>18.843125</td>\n",
       "      <td>0.877260</td>\n",
       "      <td>0.353947</td>\n",
       "      <td>0.450232</td>\n",
       "      <td>1.982286</td>\n",
       "      <td>0.911283</td>\n",
       "      <td>0.913298</td>\n",
       "      <td>0.966101</td>\n",
       "      <td>5543.570000</td>\n",
       "      <td>316.396094</td>\n",
       "      <td>35368.618750</td>\n",
       "      <td>6369.194375</td>\n",
       "      <td>177.667663</td>\n",
       "      <td>0.975473</td>\n",
       "      <td>0.759625</td>\n",
       "      <td>61.891900</td>\n",
       "      <td>58.817194</td>\n",
       "      <td>66.885913</td>\n",
       "      <td>41.040700</td>\n",
       "      <td>23.434044</td>\n",
       "      <td>19.092894</td>\n",
       "      <td>1.309336</td>\n",
       "      <td>-2.355557</td>\n",
       "      <td>154.973562</td>\n",
       "      <td>179.973750</td>\n",
       "      <td>63.021206</td>\n",
       "      <td>217.527125</td>\n",
       "    </tr>\n",
       "    <tr>\n",
       "      <th>50%</th>\n",
       "      <td>6.135865</td>\n",
       "      <td>11.495850</td>\n",
       "      <td>3.588030</td>\n",
       "      <td>1.103350</td>\n",
       "      <td>21.462900</td>\n",
       "      <td>0.939660</td>\n",
       "      <td>0.447077</td>\n",
       "      <td>0.646534</td>\n",
       "      <td>3.039602</td>\n",
       "      <td>0.949640</td>\n",
       "      <td>0.932261</td>\n",
       "      <td>0.997270</td>\n",
       "      <td>6012.696250</td>\n",
       "      <td>837.068500</td>\n",
       "      <td>37979.250000</td>\n",
       "      <td>6579.400000</td>\n",
       "      <td>339.463375</td>\n",
       "      <td>0.998639</td>\n",
       "      <td>0.774398</td>\n",
       "      <td>63.617663</td>\n",
       "      <td>65.116775</td>\n",
       "      <td>70.045363</td>\n",
       "      <td>41.301412</td>\n",
       "      <td>49.579687</td>\n",
       "      <td>41.075650</td>\n",
       "      <td>1.940014</td>\n",
       "      <td>-1.513371</td>\n",
       "      <td>172.836625</td>\n",
       "      <td>180.053625</td>\n",
       "      <td>76.228938</td>\n",
       "      <td>220.254750</td>\n",
       "    </tr>\n",
       "    <tr>\n",
       "      <th>75%</th>\n",
       "      <td>6.265830</td>\n",
       "      <td>11.719825</td>\n",
       "      <td>3.682920</td>\n",
       "      <td>1.687807</td>\n",
       "      <td>23.275925</td>\n",
       "      <td>1.028358</td>\n",
       "      <td>0.546428</td>\n",
       "      <td>0.961125</td>\n",
       "      <td>4.110000</td>\n",
       "      <td>0.983945</td>\n",
       "      <td>0.951508</td>\n",
       "      <td>1.028886</td>\n",
       "      <td>6500.732500</td>\n",
       "      <td>1315.969375</td>\n",
       "      <td>39005.593750</td>\n",
       "      <td>6807.156250</td>\n",
       "      <td>554.508625</td>\n",
       "      <td>1.019374</td>\n",
       "      <td>0.789170</td>\n",
       "      <td>64.966194</td>\n",
       "      <td>68.040581</td>\n",
       "      <td>71.845200</td>\n",
       "      <td>41.528963</td>\n",
       "      <td>78.100662</td>\n",
       "      <td>51.454206</td>\n",
       "      <td>2.914896</td>\n",
       "      <td>-0.473816</td>\n",
       "      <td>180.844688</td>\n",
       "      <td>182.000500</td>\n",
       "      <td>84.056694</td>\n",
       "      <td>223.953937</td>\n",
       "    </tr>\n",
       "    <tr>\n",
       "      <th>max</th>\n",
       "      <td>7.026215</td>\n",
       "      <td>12.879900</td>\n",
       "      <td>5.827565</td>\n",
       "      <td>9.466675</td>\n",
       "      <td>34.151950</td>\n",
       "      <td>1.615295</td>\n",
       "      <td>3.075880</td>\n",
       "      <td>13.207450</td>\n",
       "      <td>7.937500</td>\n",
       "      <td>1.050968</td>\n",
       "      <td>1.018905</td>\n",
       "      <td>1.097149</td>\n",
       "      <td>8672.510000</td>\n",
       "      <td>2613.463750</td>\n",
       "      <td>41922.012500</td>\n",
       "      <td>8022.138750</td>\n",
       "      <td>1052.260000</td>\n",
       "      <td>1.157945</td>\n",
       "      <td>0.846776</td>\n",
       "      <td>71.376250</td>\n",
       "      <td>78.009637</td>\n",
       "      <td>76.002050</td>\n",
       "      <td>49.011063</td>\n",
       "      <td>87.901600</td>\n",
       "      <td>81.156950</td>\n",
       "      <td>6.154050</td>\n",
       "      <td>1.227351</td>\n",
       "      <td>198.487625</td>\n",
       "      <td>186.167625</td>\n",
       "      <td>101.330587</td>\n",
       "      <td>258.600375</td>\n",
       "    </tr>\n",
       "  </tbody>\n",
       "</table>\n",
       "</div>"
      ],
      "text/plain": [
       "         425_pct_Al         Al2O3       M_Value    C4_pct_Eth    C4_pct_H2O  \\\n",
       "count  40127.000000  40127.000000  40127.000000  40127.000000  40127.000000   \n",
       "mean       6.133716     11.382607      3.597077      1.213887     21.178645   \n",
       "std        0.228800      0.547831      0.179868      0.691779      2.750323   \n",
       "min        5.270185      9.740945      1.255950      0.030786      7.714985   \n",
       "25%        6.003510     11.095875      3.502715      0.621701     18.843125   \n",
       "50%        6.135865     11.495850      3.588030      1.103350     21.462900   \n",
       "75%        6.265830     11.719825      3.682920      1.687807     23.275925   \n",
       "max        7.026215     12.879900      5.827565      9.466675     34.151950   \n",
       "\n",
       "       HydWtr_pct_Ammonia    C4_pct_Hex   HydWtr_Na2O       Decanol  \\\n",
       "count        40127.000000  40127.000000  40127.000000  40127.000000   \n",
       "mean             0.967938      0.471411      0.789919      3.118667   \n",
       "std              0.146452      0.241196      0.686560      1.500695   \n",
       "min              0.374388      0.000327      0.002854      0.172500   \n",
       "25%              0.877260      0.353947      0.450232      1.982286   \n",
       "50%              0.939660      0.447077      0.646534      3.039602   \n",
       "75%              1.028358      0.546428      0.961125      4.110000   \n",
       "max              1.615295      3.075880     13.207450      7.937500   \n",
       "\n",
       "            DI55102       DI55152       DI55580       FC55003       FC55009  \\\n",
       "count  40127.000000  40127.000000  40127.000000  40127.000000  40127.000000   \n",
       "mean       0.944657      0.932500      0.995820   5994.093426    845.283665   \n",
       "std        0.051564      0.028840      0.045932    742.541657    589.508802   \n",
       "min        0.800589      0.838533      0.856118   3139.415000      0.000000   \n",
       "25%        0.911283      0.913298      0.966101   5543.570000    316.396094   \n",
       "50%        0.949640      0.932261      0.997270   6012.696250    837.068500   \n",
       "75%        0.983945      0.951508      1.028886   6500.732500   1315.969375   \n",
       "max        1.050968      1.018905      1.097149   8672.510000   2613.463750   \n",
       "\n",
       "            FC55552       FC55569       FC55576      FFC55553      FFC55555  \\\n",
       "count  40127.000000  40127.000000  40127.000000  40127.000000  40127.000000   \n",
       "mean   36486.326412   6599.626128    370.858532      0.998780      0.772735   \n",
       "std     3951.334785    367.014122    257.837941      0.035477      0.021626   \n",
       "min    19012.625000   5131.707500      0.000000      0.816592      0.699112   \n",
       "25%    35368.618750   6369.194375    177.667663      0.975473      0.759625   \n",
       "50%    37979.250000   6579.400000    339.463375      0.998639      0.774398   \n",
       "75%    39005.593750   6807.156250    554.508625      1.019374      0.789170   \n",
       "max    41922.012500   8022.138750   1052.260000      1.157945      0.846776   \n",
       "\n",
       "            LC52572       LC55553       LC55557       LC55568       LC90366  \\\n",
       "count  40127.000000  40127.000000  40127.000000  40127.000000  40127.000000   \n",
       "mean      63.161834     62.999504     69.400947     41.197351     47.675871   \n",
       "std        2.445296      7.240906      2.824132      1.335602     28.705725   \n",
       "min       53.787775     41.586562     60.807113     32.715563      0.000000   \n",
       "25%       61.891900     58.817194     66.885913     41.040700     23.434044   \n",
       "50%       63.617663     65.116775     70.045363     41.301412     49.579687   \n",
       "75%       64.966194     68.040581     71.845200     41.528963     78.100662   \n",
       "max       71.376250     78.009637     76.002050     49.011063     87.901600   \n",
       "\n",
       "            LC90368       PI55004       PI55020       TC55552       TC55555  \\\n",
       "count  40127.000000  40127.000000  40127.000000  40127.000000  40127.000000   \n",
       "mean      35.828095      2.183178     -1.492794    168.666435    180.991888   \n",
       "std       20.352599      1.114439      1.099024     15.387186      1.504697   \n",
       "min        0.118033      0.059388     -4.676100    120.962000    178.587875   \n",
       "25%       19.092894      1.309336     -2.355557    154.973562    179.973750   \n",
       "50%       41.075650      1.940014     -1.513371    172.836625    180.053625   \n",
       "75%       51.454206      2.914896     -0.473816    180.844688    182.000500   \n",
       "max       81.156950      6.154050      1.227351    198.487625    186.167625   \n",
       "\n",
       "            TI40050       TI55021  \n",
       "count  40127.000000  40127.000000  \n",
       "mean      73.007114    223.377472  \n",
       "std       14.326188      9.921505  \n",
       "min       28.821487    210.532500  \n",
       "25%       63.021206    217.527125  \n",
       "50%       76.228938    220.254750  \n",
       "75%       84.056694    223.953937  \n",
       "max      101.330587    258.600375  "
      ]
     },
     "execution_count": 9,
     "metadata": {},
     "output_type": "execute_result"
    }
   ],
   "source": [
    "\n",
    "\n",
    "df_All.describe() #to get summary statistics for numeric columns.\n"
   ]
  },
  {
   "cell_type": "markdown",
   "metadata": {},
   "source": [
    "# Check for Missing Values:"
   ]
  },
  {
   "cell_type": "code",
   "execution_count": 10,
   "metadata": {},
   "outputs": [
    {
     "data": {
      "text/plain": [
       "Date                  0\n",
       "425_pct_Al            0\n",
       "Al2O3                 0\n",
       "M_Value               0\n",
       "C4_pct_Eth            0\n",
       "C4_pct_H2O            0\n",
       "HydWtr_pct_Ammonia    0\n",
       "C4_pct_Hex            0\n",
       "HydWtr_Na2O           0\n",
       "Decanol               0\n",
       "DI55102               0\n",
       "DI55152               0\n",
       "DI55580               0\n",
       "FC55003               0\n",
       "FC55009               0\n",
       "FC55552               0\n",
       "FC55569               0\n",
       "FC55576               0\n",
       "FFC55553              0\n",
       "FFC55555              0\n",
       "LC52572               0\n",
       "LC55553               0\n",
       "LC55557               0\n",
       "LC55568               0\n",
       "LC90366               0\n",
       "LC90368               0\n",
       "PI55004               0\n",
       "PI55020               0\n",
       "TC55552               0\n",
       "TC55555               0\n",
       "TI40050               0\n",
       "TI55021               0\n",
       "dtype: int64"
      ]
     },
     "execution_count": 10,
     "metadata": {},
     "output_type": "execute_result"
    }
   ],
   "source": [
    "\n",
    "\n",
    "df_All.isnull().sum() #to check the number of missing values in each column.\n"
   ]
  },
  {
   "cell_type": "markdown",
   "metadata": {},
   "source": [
    "# Correlation Analysis:"
   ]
  },
  {
   "cell_type": "code",
   "execution_count": 11,
   "metadata": {},
   "outputs": [
    {
     "data": {
      "image/png": "[encoded data removed]",
      "text/plain": [
       "<Figure size 640x480 with 2 Axes>"
      ]
     },
     "metadata": {},
     "output_type": "display_data"
    }
   ],
   "source": [
    "correlation_matrix = df_All.corr(numeric_only = True)\n",
    "\n",
    "sns.heatmap(correlation_matrix, annot=False, cmap='coolwarm', fmt=\".2f\")\n",
    "plt.show()\n",
    "# Calculate and visualize correlations between numeric variables using a correlation matrix or heatmap.\n",
    "# Identify strong positive/negative correlations."
   ]
  },
  {
   "cell_type": "code",
   "execution_count": 12,
   "metadata": {},
   "outputs": [
    {
     "data": {
      "image/png": "[encoded data removed]",
      "text/plain": [
       "<Figure size 640x480 with 2 Axes>"
      ]
     },
     "metadata": {},
     "output_type": "display_data"
    }
   ],
   "source": [
    "strong_corr = correlation_matrix[abs(correlation_matrix) > 0.5]\n",
    "\n",
    "sns.heatmap(strong_corr, annot=False, cmap='coolwarm', fmt=\".2f\")\n",
    "plt.show()"
   ]
  },
  {
   "cell_type": "code",
   "execution_count": 13,
   "metadata": {},
   "outputs": [
    {
     "data": {
      "application/vnd.plotly.v1+json": {
       "config": {
        "plotlyServerURL": "https://plot.ly"
       },
       "data": [
        {
         "coloraxis": "coloraxis",
         "hovertemplate": "Features: %{x}<br>Features: %{y}<br>Correlation: %{z}<extra></extra>",
         "name": "0",
         "type": "heatmap",
         "x": [
          "425_pct_Al",
          "Al2O3",
          "M_Value",
          "C4_pct_Eth",
          "C4_pct_H2O",
          "HydWtr_pct_Ammonia",
          "C4_pct_Hex",
          "HydWtr_Na2O",
          "Decanol",
          "DI55102",
          "DI55152",
          "DI55580",
          "FC55003",
          "FC55009",
          "FC55552",
          "FC55569",
          "FC55576",
          "FFC55553",
          "FFC55555",
          "LC52572",
          "LC55553",
          "LC55557",
          "LC55568",
          "LC90366",
          "LC90368",
          "PI55004",
          "PI55020",
          "TC55552",
          "TC55555",
          "TI40050",
          "TI55021"
         ],
         "xaxis": "x",
         "y": [
          "425_pct_Al",
          "Al2O3",
          "M_Value",
          "C4_pct_Eth",
          "C4_pct_H2O",
          "HydWtr_pct_Ammonia",
          "C4_pct_Hex",
          "HydWtr_Na2O",
          "Decanol",
          "DI55102",
          "DI55152",
          "DI55580",
          "FC55003",
          "FC55009",
          "FC55552",
          "FC55569",
          "FC55576",
          "FFC55553",
          "FFC55555",
          "LC52572",
          "LC55553",
          "LC55557",
          "LC55568",
          "LC90366",
          "LC90368",
          "PI55004",
          "PI55020",
          "TC55552",
          "TC55555",
          "TI40050",
          "TI55021"
         ],
         "yaxis": "y",
         "z": [
          [
           1,
           0,
           0,
           0,
           0,
           0,
           0,
           0,
           0,
           0,
           0,
           0,
           0,
           0,
           0,
           0,
           0,
           0,
           0,
           0,
           0,
           0,
           0,
           0,
           0,
           0,
           0,
           0,
           0,
           0,
           0
          ],
          [
           0,
           1,
           0,
           0,
           0,
           0,
           0,
           0,
           0,
           0,
           0,
           0,
           0,
           0,
           0,
           0,
           0,
           0,
           0,
           0,
           0,
           0,
           0,
           0,
           0,
           0,
           0,
           0,
           0,
           0,
           0
          ],
          [
           0,
           0,
           1,
           0,
           0,
           0,
           0,
           0,
           0,
           0,
           0,
           0,
           0,
           0,
           0,
           0,
           0,
           0,
           0,
           0,
           0,
           0,
           0,
           0,
           0,
           0,
           0,
           0,
           0,
           0,
           0
          ],
          [
           0,
           0,
           0,
           1,
           0,
           0,
           0,
           0,
           0,
           0,
           0,
           0,
           0,
           0,
           0,
           0,
           0,
           0,
           0,
           0,
           0,
           0,
           0,
           0,
           0,
           0,
           0,
           0,
           0,
           0,
           0
          ],
          [
           0,
           0,
           0,
           0,
           1,
           0,
           0,
           0,
           0,
           0,
           0,
           0,
           0,
           0,
           0,
           0,
           0,
           0,
           0,
           0,
           0,
           0,
           0,
           0,
           0,
           0,
           0,
           0,
           0,
           0,
           0
          ],
          [
           0,
           0,
           0,
           0,
           0,
           1,
           0,
           0,
           0,
           0,
           0,
           0,
           0,
           0,
           0,
           0,
           0,
           0,
           0,
           0,
           0,
           0,
           0,
           0,
           0,
           0,
           0,
           0,
           0,
           0,
           0
          ],
          [
           0,
           0,
           0,
           0,
           0,
           0,
           1,
           0,
           0,
           0,
           0,
           0,
           0,
           0,
           0,
           0,
           0,
           0,
           0,
           0,
           0,
           0,
           0,
           0,
           0,
           0,
           0,
           0,
           0,
           0,
           0
          ],
          [
           0,
           0,
           0,
           0,
           0,
           0,
           0,
           1,
           0,
           0,
           0,
           0,
           0,
           0,
           0,
           0,
           0,
           0,
           0,
           0,
           0,
           0,
           0,
           0,
           0,
           0,
           0,
           0,
           0,
           0,
           0
          ],
          [
           0,
           0,
           0,
           0,
           0,
           0,
           0,
           0,
           1,
           0,
           0,
           0,
           0,
           0,
           0,
           0,
           0,
           0,
           0,
           0,
           0,
           0,
           0,
           0,
           0,
           0,
           0,
           0,
           0,
           0,
           0
          ],
          [
           0,
           0,
           0,
           0,
           0,
           0,
           0,
           0,
           0,
           1,
           0,
           0,
           0,
           0,
           0,
           0,
           0,
           0,
           0,
           0,
           0,
           0,
           0,
           0,
           0,
           0,
           0,
           0,
           0,
           0,
           0
          ],
          [
           0,
           0,
           0,
           0,
           0,
           0,
           0,
           0,
           0,
           0,
           1,
           0,
           0,
           0,
           0,
           0,
           0,
           0,
           0,
           0,
           0,
           0,
           0,
           0,
           0,
           0,
           0,
           0,
           0,
           0,
           0
          ],
          [
           0,
           0,
           0,
           0,
           0,
           0,
           0,
           0,
           0,
           0,
           0,
           1,
           0,
           0,
           0,
           0,
           0,
           0,
           0,
           0,
           0,
           0,
           0,
           0,
           0,
           0,
           0,
           0,
           0,
           0,
           0
          ],
          [
           0,
           0,
           0,
           0,
           0,
           0,
           0,
           0,
           0,
           0,
           0,
           0,
           1,
           0,
           0,
           0,
           0,
           0,
           0,
           0,
           0,
           0,
           0,
           0,
           0,
           0,
           0,
           0,
           0,
           0,
           0
          ],
          [
           0,
           0,
           0,
           0,
           0,
           0,
           0,
           0,
           0,
           0,
           0,
           0,
           0,
           1,
           0,
           0,
           0,
           0,
           0,
           0,
           0,
           0,
           0,
           0,
           0,
           0,
           0,
           0,
           0,
           0,
           0
          ],
          [
           0,
           0,
           0,
           0,
           0,
           0,
           0,
           0,
           0,
           0,
           0,
           0,
           0,
           0,
           1,
           0,
           0,
           0,
           0,
           0,
           0,
           0,
           0,
           0,
           0,
           0,
           0,
           0,
           0,
           0,
           0
          ],
          [
           0,
           0,
           0,
           0,
           0,
           0,
           0,
           0,
           0,
           0,
           0,
           0,
           0,
           0,
           0,
           1,
           0,
           0,
           0,
           0,
           0,
           0,
           0,
           0,
           0,
           0,
           0,
           0,
           0,
           0,
           0
          ],
          [
           0,
           0,
           0,
           0,
           0,
           0,
           0,
           0,
           0,
           0,
           0,
           0,
           0,
           0,
           0,
           0,
           1,
           0,
           0,
           0,
           0,
           0,
           0,
           0,
           0,
           0,
           0,
           0,
           0,
           0,
           0
          ],
          [
           0,
           0,
           0,
           0,
           0,
           0,
           0,
           0,
           0,
           0,
           0,
           0,
           0,
           0,
           0,
           0,
           0,
           1,
           0,
           0,
           0,
           0,
           0,
           0,
           0,
           0,
           0,
           0,
           0,
           0,
           0
          ],
          [
           0,
           0,
           0,
           0,
           0,
           0,
           0,
           0,
           0,
           0,
           0,
           0,
           0,
           0,
           0,
           0,
           0,
           0,
           1,
           0,
           0,
           0,
           0,
           0,
           0,
           0,
           0,
           0,
           0,
           0,
           0
          ],
          [
           0,
           0,
           0,
           0,
           0,
           0,
           0,
           0,
           0,
           0,
           0,
           0,
           0,
           0,
           0,
           0,
           0,
           0,
           0,
           1,
           0,
           0,
           0,
           0,
           0,
           0,
           0,
           0,
           0,
           0,
           0
          ],
          [
           0,
           0,
           0,
           0,
           0,
           0,
           0,
           0,
           0,
           0,
           0,
           0,
           0,
           0,
           0,
           0,
           0,
           0,
           0,
           0,
           1,
           0,
           0,
           0,
           0,
           0,
           0,
           0,
           0,
           0,
           0
          ],
          [
           0,
           0,
           0,
           0,
           0,
           0,
           0,
           0,
           0,
           0,
           0,
           0,
           0,
           0,
           0,
           0,
           0,
           0,
           0,
           0,
           0,
           1,
           0,
           0,
           0,
           0,
           0,
           0,
           0,
           0,
           0
          ],
          [
           0,
           0,
           0,
           0,
           0,
           0,
           0,
           0,
           0,
           0,
           0,
           0,
           0,
           0,
           0,
           0,
           0,
           0,
           0,
           0,
           0,
           0,
           1,
           0,
           0,
           0,
           0,
           0,
           0,
           0,
           0
          ],
          [
           0,
           0,
           0,
           0,
           0,
           0,
           0,
           0,
           0,
           0,
           0,
           0,
           0,
           0,
           0,
           0,
           0,
           0,
           0,
           0,
           0,
           0,
           0,
           1,
           0,
           0,
           0,
           0,
           0,
           0,
           0
          ],
          [
           0,
           0,
           0,
           0,
           0,
           0,
           0,
           0,
           0,
           0,
           0,
           0,
           0,
           0,
           0,
           0,
           0,
           0,
           0,
           0,
           0,
           0,
           0,
           0,
           1,
           0,
           0,
           0,
           0,
           0,
           0
          ],
          [
           0,
           0,
           0,
           0,
           0,
           0,
           0,
           0,
           0,
           0,
           0,
           0,
           0,
           0,
           0,
           0,
           0,
           0,
           0,
           0,
           0,
           0,
           0,
           0,
           0,
           1,
           0,
           0,
           0,
           0,
           0
          ],
          [
           0,
           0,
           0,
           0,
           0,
           0,
           0,
           0,
           0,
           0,
           0,
           0,
           0,
           0,
           0,
           0,
           0,
           0,
           0,
           0,
           0,
           0,
           0,
           0,
           0,
           0,
           1,
           0,
           0,
           0,
           0
          ],
          [
           0,
           0,
           0,
           0,
           0,
           0,
           0,
           0,
           0,
           0,
           0,
           0,
           0,
           0,
           0,
           0,
           0,
           0,
           0,
           0,
           0,
           0,
           0,
           0,
           0,
           0,
           0,
           1,
           0,
           0,
           0
          ],
          [
           0,
           0,
           0,
           0,
           0,
           0,
           0,
           0,
           0,
           0,
           0,
           0,
           0,
           0,
           0,
           0,
           0,
           0,
           0,
           0,
           0,
           0,
           0,
           0,
           0,
           0,
           0,
           0,
           1,
           0,
           0
          ],
          [
           0,
           0,
           0,
           0,
           0,
           0,
           0,
           0,
           0,
           0,
           0,
           0,
           0,
           0,
           0,
           0,
           0,
           0,
           0,
           0,
           0,
           0,
           0,
           0,
           0,
           0,
           0,
           0,
           0,
           1,
           0
          ],
          [
           0,
           0,
           0,
           0,
           0,
           0,
           0,
           0,
           0,
           0,
           0,
           0,
           0,
           0,
           0,
           0,
           0,
           0,
           0,
           0,
           0,
           0,
           0,
           0,
           0,
           0,
           0,
           0,
           0,
           0,
           1
          ]
         ]
        }
       ],
       "layout": {
        "coloraxis": {
         "colorbar": {
          "title": {
           "text": "Correlation"
          }
         },
         "colorscale": [
          [
           0,
           "#440154"
          ],
          [
           0.1111111111111111,
           "#482878"
          ],
          [
           0.2222222222222222,
           "#3e4989"
          ],
          [
           0.3333333333333333,
           "#31688e"
          ],
          [
           0.4444444444444444,
           "#26828e"
          ],
          [
           0.5555555555555556,
           "#1f9e89"
          ],
          [
           0.6666666666666666,
           "#35b779"
          ],
          [
           0.7777777777777778,
           "#6ece58"
          ],
          [
           0.8888888888888888,
           "#b5de2b"
          ],
          [
           1,
           "#fde725"
          ]
         ]
        },
        "height": 800,
        "template": {
         "data": {
          "bar": [
           {
            "error_x": {
             "color": "#2a3f5f"
            },
            "error_y": {
             "color": "#2a3f5f"
            },
            "marker": {
             "line": {
              "color": "#E5ECF6",
              "width": 0.5
             },
             "pattern": {
              "fillmode": "overlay",
              "size": 10,
              "solidity": 0.2
             }
            },
            "type": "bar"
           }
          ],
          "barpolar": [
           {
            "marker": {
             "line": {
              "color": "#E5ECF6",
              "width": 0.5
             },
             "pattern": {
              "fillmode": "overlay",
              "size": 10,
              "solidity": 0.2
             }
            },
            "type": "barpolar"
           }
          ],
          "carpet": [
           {
            "aaxis": {
             "endlinecolor": "#2a3f5f",
             "gridcolor": "white",
             "linecolor": "white",
             "minorgridcolor": "white",
             "startlinecolor": "#2a3f5f"
            },
            "baxis": {
             "endlinecolor": "#2a3f5f",
             "gridcolor": "white",
             "linecolor": "white",
             "minorgridcolor": "white",
             "startlinecolor": "#2a3f5f"
            },
            "type": "carpet"
           }
          ],
          "choropleth": [
           {
            "colorbar": {
             "outlinewidth": 0,
             "ticks": ""
            },
            "type": "choropleth"
           }
          ],
          "contour": [
           {
            "colorbar": {
             "outlinewidth": 0,
             "ticks": ""
            },
            "colorscale": [
             [
              0,
              "#0d0887"
             ],
             [
              0.1111111111111111,
              "#46039f"
             ],
             [
              0.2222222222222222,
              "#7201a8"
             ],
             [
              0.3333333333333333,
              "#9c179e"
             ],
             [
              0.4444444444444444,
              "#bd3786"
             ],
             [
              0.5555555555555556,
              "#d8576b"
             ],
             [
              0.6666666666666666,
              "#ed7953"
             ],
             [
              0.7777777777777778,
              "#fb9f3a"
             ],
             [
              0.8888888888888888,
              "#fdca26"
             ],
             [
              1,
              "#f0f921"
             ]
            ],
            "type": "contour"
           }
          ],
          "contourcarpet": [
           {
            "colorbar": {
             "outlinewidth": 0,
             "ticks": ""
            },
            "type": "contourcarpet"
           }
          ],
          "heatmap": [
           {
            "colorbar": {
             "outlinewidth": 0,
             "ticks": ""
            },
            "colorscale": [
             [
              0,
              "#0d0887"
             ],
             [
              0.1111111111111111,
              "#46039f"
             ],
             [
              0.2222222222222222,
              "#7201a8"
             ],
             [
              0.3333333333333333,
              "#9c179e"
             ],
             [
              0.4444444444444444,
              "#bd3786"
             ],
             [
              0.5555555555555556,
              "#d8576b"
             ],
             [
              0.6666666666666666,
              "#ed7953"
             ],
             [
              0.7777777777777778,
              "#fb9f3a"
             ],
             [
              0.8888888888888888,
              "#fdca26"
             ],
             [
              1,
              "#f0f921"
             ]
            ],
            "type": "heatmap"
           }
          ],
          "heatmapgl": [
           {
            "colorbar": {
             "outlinewidth": 0,
             "ticks": ""
            },
            "colorscale": [
             [
              0,
              "#0d0887"
             ],
             [
              0.1111111111111111,
              "#46039f"
             ],
             [
              0.2222222222222222,
              "#7201a8"
             ],
             [
              0.3333333333333333,
              "#9c179e"
             ],
             [
              0.4444444444444444,
              "#bd3786"
             ],
             [
              0.5555555555555556,
              "#d8576b"
             ],
             [
              0.6666666666666666,
              "#ed7953"
             ],
             [
              0.7777777777777778,
              "#fb9f3a"
             ],
             [
              0.8888888888888888,
              "#fdca26"
             ],
             [
              1,
              "#f0f921"
             ]
            ],
            "type": "heatmapgl"
           }
          ],
          "histogram": [
           {
            "marker": {
             "pattern": {
              "fillmode": "overlay",
              "size": 10,
              "solidity": 0.2
             }
            },
            "type": "histogram"
           }
          ],
          "histogram2d": [
           {
            "colorbar": {
             "outlinewidth": 0,
             "ticks": ""
            },
            "colorscale": [
             [
              0,
              "#0d0887"
             ],
             [
              0.1111111111111111,
              "#46039f"
             ],
             [
              0.2222222222222222,
              "#7201a8"
             ],
             [
              0.3333333333333333,
              "#9c179e"
             ],
             [
              0.4444444444444444,
              "#bd3786"
             ],
             [
              0.5555555555555556,
              "#d8576b"
             ],
             [
              0.6666666666666666,
              "#ed7953"
             ],
             [
              0.7777777777777778,
              "#fb9f3a"
             ],
             [
              0.8888888888888888,
              "#fdca26"
             ],
             [
              1,
              "#f0f921"
             ]
            ],
            "type": "histogram2d"
           }
          ],
          "histogram2dcontour": [
           {
            "colorbar": {
             "outlinewidth": 0,
             "ticks": ""
            },
            "colorscale": [
             [
              0,
              "#0d0887"
             ],
             [
              0.1111111111111111,
              "#46039f"
             ],
             [
              0.2222222222222222,
              "#7201a8"
             ],
             [
              0.3333333333333333,
              "#9c179e"
             ],
             [
              0.4444444444444444,
              "#bd3786"
             ],
             [
              0.5555555555555556,
              "#d8576b"
             ],
             [
              0.6666666666666666,
              "#ed7953"
             ],
             [
              0.7777777777777778,
              "#fb9f3a"
             ],
             [
              0.8888888888888888,
              "#fdca26"
             ],
             [
              1,
              "#f0f921"
             ]
            ],
            "type": "histogram2dcontour"
           }
          ],
          "mesh3d": [
           {
            "colorbar": {
             "outlinewidth": 0,
             "ticks": ""
            },
            "type": "mesh3d"
           }
          ],
          "parcoords": [
           {
            "line": {
             "colorbar": {
              "outlinewidth": 0,
              "ticks": ""
             }
            },
            "type": "parcoords"
           }
          ],
          "pie": [
           {
            "automargin": true,
            "type": "pie"
           }
          ],
          "scatter": [
           {
            "fillpattern": {
             "fillmode": "overlay",
             "size": 10,
             "solidity": 0.2
            },
            "type": "scatter"
           }
          ],
          "scatter3d": [
           {
            "line": {
             "colorbar": {
              "outlinewidth": 0,
              "ticks": ""
             }
            },
            "marker": {
             "colorbar": {
              "outlinewidth": 0,
              "ticks": ""
             }
            },
            "type": "scatter3d"
           }
          ],
          "scattercarpet": [
           {
            "marker": {
             "colorbar": {
              "outlinewidth": 0,
              "ticks": ""
             }
            },
            "type": "scattercarpet"
           }
          ],
          "scattergeo": [
           {
            "marker": {
             "colorbar": {
              "outlinewidth": 0,
              "ticks": ""
             }
            },
            "type": "scattergeo"
           }
          ],
          "scattergl": [
           {
            "marker": {
             "colorbar": {
              "outlinewidth": 0,
              "ticks": ""
             }
            },
            "type": "scattergl"
           }
          ],
          "scattermapbox": [
           {
            "marker": {
             "colorbar": {
              "outlinewidth": 0,
              "ticks": ""
             }
            },
            "type": "scattermapbox"
           }
          ],
          "scatterpolar": [
           {
            "marker": {
             "colorbar": {
              "outlinewidth": 0,
              "ticks": ""
             }
            },
            "type": "scatterpolar"
           }
          ],
          "scatterpolargl": [
           {
            "marker": {
             "colorbar": {
              "outlinewidth": 0,
              "ticks": ""
             }
            },
            "type": "scatterpolargl"
           }
          ],
          "scatterternary": [
           {
            "marker": {
             "colorbar": {
              "outlinewidth": 0,
              "ticks": ""
             }
            },
            "type": "scatterternary"
           }
          ],
          "surface": [
           {
            "colorbar": {
             "outlinewidth": 0,
             "ticks": ""
            },
            "colorscale": [
             [
              0,
              "#0d0887"
             ],
             [
              0.1111111111111111,
              "#46039f"
             ],
             [
              0.2222222222222222,
              "#7201a8"
             ],
             [
              0.3333333333333333,
              "#9c179e"
             ],
             [
              0.4444444444444444,
              "#bd3786"
             ],
             [
              0.5555555555555556,
              "#d8576b"
             ],
             [
              0.6666666666666666,
              "#ed7953"
             ],
             [
              0.7777777777777778,
              "#fb9f3a"
             ],
             [
              0.8888888888888888,
              "#fdca26"
             ],
             [
              1,
              "#f0f921"
             ]
            ],
            "type": "surface"
           }
          ],
          "table": [
           {
            "cells": {
             "fill": {
              "color": "#EBF0F8"
             },
             "line": {
              "color": "white"
             }
            },
            "header": {
             "fill": {
              "color": "#C8D4E3"
             },
             "line": {
              "color": "white"
             }
            },
            "type": "table"
           }
          ]
         },
         "layout": {
          "annotationdefaults": {
           "arrowcolor": "#2a3f5f",
           "arrowhead": 0,
           "arrowwidth": 1
          },
          "autotypenumbers": "strict",
          "coloraxis": {
           "colorbar": {
            "outlinewidth": 0,
            "ticks": ""
           }
          },
          "colorscale": {
           "diverging": [
            [
             0,
             "#8e0152"
            ],
            [
             0.1,
             "#c51b7d"
            ],
            [
             0.2,
             "#de77ae"
            ],
            [
             0.3,
             "#f1b6da"
            ],
            [
             0.4,
             "#fde0ef"
            ],
            [
             0.5,
             "#f7f7f7"
            ],
            [
             0.6,
             "#e6f5d0"
            ],
            [
             0.7,
             "#b8e186"
            ],
            [
             0.8,
             "#7fbc41"
            ],
            [
             0.9,
             "#4d9221"
            ],
            [
             1,
             "#276419"
            ]
           ],
           "sequential": [
            [
             0,
             "#0d0887"
            ],
            [
             0.1111111111111111,
             "#46039f"
            ],
            [
             0.2222222222222222,
             "#7201a8"
            ],
            [
             0.3333333333333333,
             "#9c179e"
            ],
            [
             0.4444444444444444,
             "#bd3786"
            ],
            [
             0.5555555555555556,
             "#d8576b"
            ],
            [
             0.6666666666666666,
             "#ed7953"
            ],
            [
             0.7777777777777778,
             "#fb9f3a"
            ],
            [
             0.8888888888888888,
             "#fdca26"
            ],
            [
             1,
             "#f0f921"
            ]
           ],
           "sequentialminus": [
            [
             0,
             "#0d0887"
            ],
            [
             0.1111111111111111,
             "#46039f"
            ],
            [
             0.2222222222222222,
             "#7201a8"
            ],
            [
             0.3333333333333333,
             "#9c179e"
            ],
            [
             0.4444444444444444,
             "#bd3786"
            ],
            [
             0.5555555555555556,
             "#d8576b"
            ],
            [
             0.6666666666666666,
             "#ed7953"
            ],
            [
             0.7777777777777778,
             "#fb9f3a"
            ],
            [
             0.8888888888888888,
             "#fdca26"
            ],
            [
             1,
             "#f0f921"
            ]
           ]
          },
          "colorway": [
           "#636efa",
           "#EF553B",
           "#00cc96",
           "#ab63fa",
           "#FFA15A",
           "#19d3f3",
           "#FF6692",
           "#B6E880",
           "#FF97FF",
           "#FECB52"
          ],
          "font": {
           "color": "#2a3f5f"
          },
          "geo": {
           "bgcolor": "white",
           "lakecolor": "white",
           "landcolor": "#E5ECF6",
           "showlakes": true,
           "showland": true,
           "subunitcolor": "white"
          },
          "hoverlabel": {
           "align": "left"
          },
          "hovermode": "closest",
          "mapbox": {
           "style": "light"
          },
          "paper_bgcolor": "white",
          "plot_bgcolor": "#E5ECF6",
          "polar": {
           "angularaxis": {
            "gridcolor": "white",
            "linecolor": "white",
            "ticks": ""
           },
           "bgcolor": "#E5ECF6",
           "radialaxis": {
            "gridcolor": "white",
            "linecolor": "white",
            "ticks": ""
           }
          },
          "scene": {
           "xaxis": {
            "backgroundcolor": "#E5ECF6",
            "gridcolor": "white",
            "gridwidth": 2,
            "linecolor": "white",
            "showbackground": true,
            "ticks": "",
            "zerolinecolor": "white"
           },
           "yaxis": {
            "backgroundcolor": "#E5ECF6",
            "gridcolor": "white",
            "gridwidth": 2,
            "linecolor": "white",
            "showbackground": true,
            "ticks": "",
            "zerolinecolor": "white"
           },
           "zaxis": {
            "backgroundcolor": "#E5ECF6",
            "gridcolor": "white",
            "gridwidth": 2,
            "linecolor": "white",
            "showbackground": true,
            "ticks": "",
            "zerolinecolor": "white"
           }
          },
          "shapedefaults": {
           "line": {
            "color": "#2a3f5f"
           }
          },
          "ternary": {
           "aaxis": {
            "gridcolor": "white",
            "linecolor": "white",
            "ticks": ""
           },
           "baxis": {
            "gridcolor": "white",
            "linecolor": "white",
            "ticks": ""
           },
           "bgcolor": "#E5ECF6",
           "caxis": {
            "gridcolor": "white",
            "linecolor": "white",
            "ticks": ""
           }
          },
          "title": {
           "x": 0.05
          },
          "xaxis": {
           "automargin": true,
           "gridcolor": "white",
           "linecolor": "white",
           "ticks": "",
           "title": {
            "standoff": 15
           },
           "zerolinecolor": "white",
           "zerolinewidth": 2
          },
          "yaxis": {
           "automargin": true,
           "gridcolor": "white",
           "linecolor": "white",
           "ticks": "",
           "title": {
            "standoff": 15
           },
           "zerolinecolor": "white",
           "zerolinewidth": 2
          }
         }
        },
        "title": {
         "text": "Correlation Matrix"
        },
        "width": 800,
        "xaxis": {
         "anchor": "y",
         "constrain": "domain",
         "domain": [
          0,
          1
         ],
         "scaleanchor": "y",
         "side": "bottom",
         "title": {
          "text": "Features"
         }
        },
        "yaxis": {
         "anchor": "x",
         "autorange": "reversed",
         "constrain": "domain",
         "domain": [
          0,
          1
         ],
         "title": {
          "text": "Features"
         }
        }
       }
      }
     },
     "metadata": {},
     "output_type": "display_data"
    }
   ],
   "source": [
    "threshold = 0.5\n",
    "correlation_matrix = df_All.corr(numeric_only=True)\n",
    "correlation_matrix = correlation_matrix[abs(correlation_matrix) > threshold].fillna(0)\n",
    "\n",
    "\n",
    "\n",
    "fig = px.imshow(correlation_matrix, \n",
    "                color_continuous_scale='Viridis',\n",
    "                labels=dict(x=\"Features\", y=\"Features\", color=\"Correlation\"),\n",
    "                title=\"Correlation Matrix\")\n",
    "\n",
    "fig.update_xaxes(title_text='Features', side='bottom')\n",
    "fig.update_layout(width=800, height=800)\n",
    "\n",
    "fig.show()\n",
    "\n"
   ]
  },
  {
   "cell_type": "code",
   "execution_count": 14,
   "metadata": {},
   "outputs": [],
   "source": [
    "upper_triangle = np.triu(np.ones(correlation_matrix.shape), k=1).astype(bool)\n"
   ]
  },
  {
   "cell_type": "code",
   "execution_count": 15,
   "metadata": {},
   "outputs": [
    {
     "name": "stdout",
     "output_type": "stream",
     "text": [
      "Empty DataFrame\n",
      "Columns: [Pair_ID, Variable, Correlation, DESCRIPTION]\n",
      "Index: []\n"
     ]
    }
   ],
   "source": [
    "# Get indices of upper triangle where correlations are above threshold\n",
    "indices = np.where((np.abs(correlation_matrix) > threshold) & (upper_triangle))\n",
    "\n",
    "# Convert these indices to lists\n",
    "rows, cols = indices[0].tolist(), indices[1].tolist()\n",
    "\n",
    "# Construct pairs and fetch corresponding values 'DESCRIPTION'\n",
    "\n",
    "\n",
    "data = []\n",
    "correlation_id = 1  # Start the unique identifier for each correlation pair\n",
    "\n",
    "for row, col in zip(rows, cols):\n",
    "    # Ensure v1 is always lexicographically smaller than v2\n",
    "    v1, v2 = sorted([correlation_matrix.columns[row], correlation_matrix.columns[col]])\n",
    "    \n",
    "    # Skip if this pair has already been processed\n",
    "    if any(x[1] == v1 and x[2] == v2 for x in data):\n",
    "        continue\n",
    "\n",
    "    correlation_value = correlation_matrix.loc[v1, v2]\n",
    "    \n",
    "    # Fetch other required values for v1\n",
    "    # importance1 = FScore[FScore['Feature'] == v1]['Importance'].values[0] if not FScore[FScore['Feature'] == v1].empty else \"N/A\"\n",
    "    DESCRIPTION1 = TagDesc[TagDesc['ID'] == v1]['DESCRIPTION'].values[0] if not TagDesc[TagDesc['ID'] == v1].empty else \"####### UPDATE DESCRIPTION\"\n",
    "    \n",
    "    # Fetch other required values for v2\n",
    "    # importance2 = FScore[FScore['Feature'] == v2]['Importance'].values[0] if not FScore[FScore['Feature'] == v2].empty else \"N/A\"\n",
    "    DESCRIPTION2 = TagDesc[TagDesc['ID'] == v2]['DESCRIPTION'].values[0] if not TagDesc[TagDesc['ID'] == v2].empty else \"####### UPDATE DESCRIPTION\"\n",
    "    \n",
    "    # Append data for v1 and then v2\n",
    "    data.append(['c' + str(correlation_id) + 'v1', v1, correlation_value, DESCRIPTION1])#, importance1\n",
    "    data.append(['c' + str(correlation_id) + 'v2', v2, correlation_value, DESCRIPTION2])#, importance2\n",
    "    \n",
    "    correlation_id += 1  # Increment the identifier for the next unique correlation pair\n",
    "\n",
    "final_df = pd.DataFrame(data, columns=['Pair_ID', 'Variable', 'Correlation', 'DESCRIPTION'])#, 'Importance',\n",
    "\n",
    "sorted_df = final_df.sort_values(by='Pair_ID', ascending=False)\n",
    "print(sorted_df)\n"
   ]
  },
  {
   "cell_type": "code",
   "execution_count": 16,
   "metadata": {},
   "outputs": [
    {
     "name": "stdout",
     "output_type": "stream",
     "text": [
      "Empty DataFrame\n",
      "Columns: [Pair_ID, Variable, Correlation, DESCRIPTION]\n",
      "Index: []\n"
     ]
    }
   ],
   "source": [
    "print(sorted_df)"
   ]
  },
  {
   "cell_type": "code",
   "execution_count": 17,
   "metadata": {},
   "outputs": [],
   "source": [
    "# # Group by the first 3 characters of Pair_ID (i.e., cX) and sort within the groups by Importance\n",
    "# final_df['Group'] = final_df['Pair_ID'].str[:3]\n",
    "# sorted_df = final_df.groupby('Group').apply(lambda x: x.sort_values('Importance', ascending=False)).reset_index(drop=True)\n",
    "\n",
    "# # Drop the temporary 'Group' column\n",
    "# sorted_df.drop('Group', axis=1, inplace=True)\n",
    "\n",
    "# print(sorted_df)\n"
   ]
  },
  {
   "cell_type": "code",
   "execution_count": 18,
   "metadata": {},
   "outputs": [],
   "source": [
    "# sorted_df = final_df.sort_values(by='Importance', ascending=False)\n",
    "# print(sorted_df)"
   ]
  },
  {
   "cell_type": "markdown",
   "metadata": {},
   "source": [
    "### No CSV Output\n",
    "\n",
    "Next page starts will all data inputs and uses only those below\n",
    "\n",
    "LIMS data lables need to be refomatted to input style or they will be left out"
   ]
  },
  {
   "cell_type": "code",
   "execution_count": 19,
   "metadata": {},
   "outputs": [
    {
     "data": {
      "text/plain": [
       "Index(['Date', '425_pct_Al', 'Al2O3', 'M_Value', 'C4_pct_Eth', 'C4_pct_H2O',\n",
       "       'HydWtr_pct_Ammonia', 'C4_pct_Hex', 'HydWtr_Na2O', 'Decanol', 'DI55102',\n",
       "       'DI55152', 'DI55580', 'FC55003', 'FC55009', 'FC55552', 'FC55569',\n",
       "       'FC55576', 'FFC55553', 'FFC55555', 'LC52572', 'LC55553', 'LC55557',\n",
       "       'LC55568', 'LC90366', 'LC90368', 'PI55004', 'PI55020', 'TC55552',\n",
       "       'TC55555', 'TI40050', 'TI55021'],\n",
       "      dtype='object')"
      ]
     },
     "execution_count": 19,
     "metadata": {},
     "output_type": "execute_result"
    }
   ],
   "source": [
    "df_All.columns\n",
    "# Data Visualization:\n",
    "\n",
    "# Create various plots (histograms, bar charts, scatter plots, etc.) to visualize the distribution of data and relationships between variables.\n",
    "# Use libraries like Matplotlib or Seaborn for data visualization."
   ]
  },
  {
   "cell_type": "code",
   "execution_count": 20,
   "metadata": {},
   "outputs": [
    {
     "name": "stdout",
     "output_type": "stream",
     "text": [
      "Number of features: 32\n"
     ]
    }
   ],
   "source": [
    "num_columns = df_All.shape[1]\n",
    "print(\"Number of features:\", num_columns)"
   ]
  },
  {
   "cell_type": "code",
   "execution_count": 21,
   "metadata": {},
   "outputs": [],
   "source": [
    "\n",
    "df_All.to_csv('filtered-out_5-9_corr.csv', index=False)"
   ]
  },
  {
   "cell_type": "code",
   "execution_count": 22,
   "metadata": {},
   "outputs": [
    {
     "name": "stdout",
     "output_type": "stream",
     "text": [
      "2024-05-05 23:11:33.441543\n"
     ]
    }
   ],
   "source": [
    "from datetime import datetime\n",
    "\n",
    "# Get the current date and time\n",
    "current_date_time = datetime.now()\n",
    "\n",
    "# Print the current date and time\n",
    "print(current_date_time)\n"
   ]
  }
 ],
 "metadata": {
  "kernelspec": {
   "display_name": "Python 3",
   "language": "python",
   "name": "python3"
  },
  "language_info": {
   "codemirror_mode": {
    "name": "ipython",
    "version": 3
   },
   "file_extension": ".py",
   "mimetype": "text/x-python",
   "name": "python",
   "nbconvert_exporter": "python",
   "pygments_lexer": "ipython3",
   "version": "3.12.1"
  }
 },
 "nbformat": 4,
 "nbformat_minor": 2
}
