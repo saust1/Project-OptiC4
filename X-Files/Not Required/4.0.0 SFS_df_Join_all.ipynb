{
  "cells": [
    {
      "cell_type": "code",
      "execution_count": 13,
      "metadata": {
        "tags": [],
        "trusted": true
      },
      "outputs": [],
      "source": [
        "# Import necessary libraries\n",
        "import pandas as pd\n",
        "import seaborn as sns\n",
        "import matplotlib.pyplot as plt\n",
        "from statsmodels.formula.api import ols\n",
        "import statsmodels.api as sm\n",
        "from sklearn.linear_model import LinearRegression\n",
        "from mlxtend.feature_selection import SequentialFeatureSelector as SFS\n",
        "from sklearn.model_selection import train_test_split\n",
        "import itertools\n",
        "import random\n",
        "from sklearn.metrics import r2_score, mean_squared_error, mean_absolute_error\n"
      ]
    },
    {
      "cell_type": "code",
      "execution_count": 5,
      "metadata": {},
      "outputs": [],
      "source": [
        "#df_All = pd.read_csv(r\"C:\\Users\\saust\\OneDrive - Sasol\\1 Project rC4\\Jupyter Notebooks\\Report 10-20-23 No Fluff\\df_All_Avg.csv\")\n",
        "\n",
        "df_All_1o2 = pd.read_csv('3 Feature Selection/contData_all_Avg - 1o2.csv')\n",
        "df_All_1o2 = pd.read_csv('3 Feature Selection/contData_all_Avg - 2o2.csv')\n",
        "\n",
        "#df_All = pd.read_csv(r\"C:\\Users\\saust\\OneDrive\\Desktop\\CodeSpace DLs\\102423\\Project rC4\\3 Final Machine Butanol\\df_CDCA6.csv\")\n"
      ]
    },
    {
      "cell_type": "code",
      "execution_count": 6,
      "metadata": {},
      "outputs": [
        {
          "name": "stdout",
          "output_type": "stream",
          "text": [
            "    425 %Al  Butanol   Decanol    Ethanol   Hexanol   Octanol  AYC55580  \\\n",
            "0  6.466835    8.950  3.271667  29.233325  5.862082  5.912500  9.708929   \n",
            "1  6.479165    8.750  3.261668  29.233325  5.832917  5.870832  9.647859   \n",
            "2  6.491500    8.525  3.310000  28.950000  5.767500  5.790000  9.592980   \n",
            "3  6.503835    8.275  3.416667  28.383325  5.665832  5.670000  9.572995   \n",
            "4  6.516165    8.025  3.523332  27.816675  5.564167  5.550000  9.586615   \n",
            "\n",
            "    DI55102   DI55152   DI55580  ...    TI40050     TI52014     TI55013  \\\n",
            "0  1.016935  0.974092  0.991364  ...  74.705737  134.922750  204.003375   \n",
            "1  1.017048  0.973535  0.991012  ...  74.042025  134.517750  203.384625   \n",
            "2  1.017505  0.973474  0.990783  ...  73.626350  134.084875  202.217250   \n",
            "3  1.017742  0.974004  0.990838  ...  73.203325  133.625625  201.412625   \n",
            "4  1.017679  0.974445  0.991013  ...  72.900725  133.217250  201.149500   \n",
            "\n",
            "      TI55014     TI55015     TI55016     TI55017     TI55021     TI55023  \\\n",
            "0  197.780625  193.192500  190.510125  188.871625  216.306750  213.595750   \n",
            "1  197.444250  192.960750  190.375875  188.838375  216.041375  213.364500   \n",
            "2  196.611375  192.210250  189.874750  188.452250  215.747250  213.030000   \n",
            "3  195.868875  191.353125  189.309125  187.879500  215.486500  212.716750   \n",
            "4  195.536625  190.952000  188.985875  187.550375  215.377250  212.599375   \n",
            "\n",
            "   VI52558B  \n",
            "0  3.970054  \n",
            "1  4.009966  \n",
            "2  4.011081  \n",
            "3  3.979564  \n",
            "4  3.901986  \n",
            "\n",
            "[5 rows x 49 columns]\n"
          ]
        }
      ],
      "source": [
        "# Concatenate (union) the dataframes\n",
        "df_All = pd.concat([df_All_1o2, df_All_1o2], ignore_index=True)\n",
        "\n",
        "print(df_All.head())"
      ]
    },
    {
      "cell_type": "code",
      "execution_count": 7,
      "metadata": {
        "trusted": true
      },
      "outputs": [],
      "source": [
        "# Set max columns to display\n",
        "pd.set_option('display.max_columns', None)"
      ]
    },
    {
      "cell_type": "code",
      "execution_count": 8,
      "metadata": {},
      "outputs": [],
      "source": [
        "# df_All = df_All[df_All['Date'] > '2022-06-15 00:00:00']"
      ]
    },
    {
      "cell_type": "code",
      "execution_count": 9,
      "metadata": {},
      "outputs": [],
      "source": [
        "# List of columns to exclude to run XGboost feature selection\n",
        "exclude_columns = ['Octanol', 'Hexanol',\n",
        "       'Ethanol', 'Decanol',\n",
        "       \n",
        "       'TI52014', 'TI55013', 'TI55014', 'TI55015', 'TI55016', 'TI55017', 'TI55021', 'TI55023',\n",
        "       'TC52015', 'FC52018', 'II52554', 'TI40050', 'VI52558B'\n",
        "\n",
        "       # 'FC55102', 'FC55152', 'LC55557', 'LC55568', 'TC55555',\n",
        "\n",
        "       # '425 SAO Al', 'FFC55553', 'LC52572', 'LC90366',\n",
        "\n",
        "       # 'FC42428', 'LC55553',\n",
        "\n",
        "       # 'FC55009'\n",
        "                   ]\n",
        "\n",
        "# Create a new DataFrame without the excluded columnsd\n",
        "df_All = df_All.drop(columns=exclude_columns)"
      ]
    },
    {
      "cell_type": "code",
      "execution_count": 10,
      "metadata": {},
      "outputs": [
        {
          "data": {
            "text/plain": [
              "Index(['425 %Al', 'Butanol', 'AYC55580', 'DI55102', 'DI55152', 'DI55580',\n",
              "       'FC42428', 'FC55003', 'FC55009', 'FC55102', 'FC55152', 'FC55552',\n",
              "       'FC55555', 'FC55569', 'FC55576', 'FFC55553', 'FFC55555', 'FYC55553',\n",
              "       'LC52572', 'LC55553', 'LC55555', 'LC55557', 'LC55568', 'LC90366',\n",
              "       'LC90368', 'PI55004', 'PI55020', 'PI55560', 'TC55552', 'TC55553',\n",
              "       'TC55555', 'TC55566'],\n",
              "      dtype='object')"
            ]
          },
          "execution_count": 10,
          "metadata": {},
          "output_type": "execute_result"
        }
      ],
      "source": [
        "df_All.columns"
      ]
    },
    {
      "cell_type": "code",
      "execution_count": 11,
      "metadata": {},
      "outputs": [],
      "source": [
        "# # Splitting into train and test\n",
        "# X = df_All.drop('Butanol', axis=1)  # Assuming 'target' is your target column\n",
        "# y = df_All['Butanol']\n",
        "# X_train, X_test, y_train, y_test = train_test_split(X, y, test_size=0.2, random_state=42)"
      ]
    },
    {
      "cell_type": "code",
      "execution_count": 14,
      "metadata": {},
      "outputs": [],
      "source": [
        "def adjusted_r2(r_squared, num_data_points, num_predictors):\n",
        "    return 1 - (1 - r_squared) * (num_data_points - 1) / (num_data_points - num_predictors - 1)\n",
        "\n",
        "def iterate_feature_rotations(df_all, target_column, test_size=0.2, random_state=42):\n",
        "    results = []\n",
        "    columns = [col for col in df_all.columns if col != target_column]\n",
        "    random.seed(random_state)  # for reproducibility\n",
        "\n",
        "    for feature in columns:\n",
        "        # Randomly order the remaining features\n",
        "        remaining_features = [f for f in columns if f != feature]\n",
        "        random.shuffle(remaining_features)\n",
        "\n",
        "        # Create a new ordered list of features\n",
        "        ordered_features = [feature] + remaining_features\n",
        "\n",
        "        reordered_df = df_all[ordered_features + [target_column]]\n",
        "\n",
        "        # Splitting into train and test for each permutation\n",
        "        X = reordered_df.drop(target_column, axis=1)\n",
        "        y = reordered_df[target_column]\n",
        "        X_train, X_test, y_train, y_test = train_test_split(X, y, test_size=test_size, random_state=random_state)\n",
        "\n",
        "        # Create and fit the model using SFS\n",
        "        linreg = LinearRegression()\n",
        "        sfs = SFS(linreg, \n",
        "                  k_features='best', \n",
        "                  forward=True, \n",
        "                  floating=True, \n",
        "                  scoring='r2',\n",
        "                  cv=5)\n",
        "        sfs.fit(X_train, y_train)\n",
        "\n",
        "        # Get the selected features\n",
        "        selected_features = X_train.columns[list(sfs.k_feature_idx_)]\n",
        "\n",
        "        # Build the final model using selected features and evaluate it\n",
        "        final_model = linreg.fit(X_train[selected_features], y_train)\n",
        "        y_pred = final_model.predict(X_test[selected_features])\n",
        "\n",
        "        # Calculate performance metrics\n",
        "        r2 = r2_score(y_test, y_pred)\n",
        "        mse = mean_squared_error(y_test, y_pred)\n",
        "        rmse = mean_squared_error(y_test, y_pred, squared=False)\n",
        "        mae = mean_absolute_error(y_test, y_pred)\n",
        "        adj_r2 = adjusted_r2(r2, len(y_test), len(selected_features))\n",
        "\n",
        "        # Store the result with the permutation order and performance metrics\n",
        "        results.append((ordered_features, {'R2': r2, 'MSE': mse, 'RMSE': rmse, 'MAE': mae, 'Adjusted R2': adj_r2}))\n",
        "\n",
        "    return results\n",
        "\n",
        "results = iterate_feature_rotations(df_All, 'Butanol')"
      ]
    },
    {
      "cell_type": "code",
      "execution_count": null,
      "metadata": {},
      "outputs": [
        {
          "name": "stdout",
          "output_type": "stream",
          "text": [
            "Selected Features:\n",
            "Index(['DI55102', 'DI55152', 'DI55580', 'FC42428', 'FC55003', 'FC55009',\n",
            "       'FC55102', 'FC55152', 'FC55555', 'FC55569', 'FC55576', 'FFC55553',\n",
            "       'FFC55555', 'FYC55553', 'LC52572', 'LC55553', 'LC55555', 'LC55557',\n",
            "       'LC55568', 'LC90368', 'PI55004', 'PI55020', 'PI55560', 'TC55552',\n",
            "       'TC55553', 'TC55555', 'TC55566'],\n",
            "      dtype='object')\n",
            "\n",
            "Model Coefficients:\n",
            "DI55102: 19.090919963363447\n",
            "DI55152: -12.641680219534832\n",
            "DI55580: 41.934660411957395\n",
            "FC42428: -0.0002428541787248711\n",
            "FC55003: -0.0012700961037783443\n",
            "FC55009: 0.0014358376554108392\n",
            "FC55102: 0.0005645738519605126\n",
            "FC55152: -0.0001493402703343454\n",
            "FC55555: -0.003747565122712255\n",
            "FC55569: -0.002027471723134855\n",
            "FC55576: 0.00525126866687306\n",
            "FFC55553: -125.3811420169266\n",
            "FFC55555: 153.31584548368673\n",
            "FYC55553: 0.002848473944735045\n",
            "LC52572: 0.4162685690195336\n",
            "LC55553: -0.18116019927770347\n",
            "LC55555: 0.16421088111008822\n",
            "LC55557: -0.8450680583951685\n",
            "LC55568: 0.6262049400282906\n",
            "LC90368: 0.01798279769016413\n",
            "PI55004: 1.376305223156635\n",
            "PI55020: 1.7282971568819385\n",
            "PI55560: -0.7929275669900541\n",
            "TC55552: 0.03248988651043795\n",
            "TC55553: -0.022546136688865973\n",
            "TC55555: -0.2031939507011901\n",
            "TC55566: 0.05467260251556375\n",
            "\n",
            "R-squared on Training Set: 0.24085587732216918\n",
            "R-squared on Test Set: 0.2253072862695037\n"
          ]
        },
        {
          "ename": "",
          "evalue": "",
          "output_type": "error",
          "traceback": [
            "\u001b[1;31mnotebook controller is DISPOSED. \n",
            "\u001b[1;31mView Jupyter <a href='command:jupyter.viewOutput'>log</a> for further details."
          ]
        }
      ],
      "source": [
        "# Get the selected feature names\n",
        "selected_features = X_train.columns[list(sfs.k_feature_idx_)]\n",
        "print(\"Selected Features:\")\n",
        "print(selected_features)\n",
        "\n",
        "# Display the coefficients of the final model\n",
        "print(\"\\nModel Coefficients:\")\n",
        "for i, feature in enumerate(selected_features):\n",
        "    print(f\"{feature}: {final_model.coef_[i]}\")\n",
        "\n",
        "# Display the R-squared value for the training set\n",
        "r_squared_train = final_model.score(X_train[selected_features], y_train)\n",
        "print(f\"\\nR-squared on Training Set: {r_squared_train}\")\n",
        "\n",
        "# Optionally, if you evaluated the model on a test set\n",
        "r_squared_test = final_model.score(X_test[selected_features], y_test)\n",
        "print(f\"R-squared on Test Set: {r_squared_test}\")\n"
      ]
    },
    {
      "cell_type": "code",
      "execution_count": null,
      "metadata": {},
      "outputs": [
        {
          "ename": "",
          "evalue": "",
          "output_type": "error",
          "traceback": [
            "\u001b[1;31mnotebook controller is DISPOSED. \n",
            "\u001b[1;31mView Jupyter <a href='command:jupyter.viewOutput'>log</a> for further details."
          ]
        }
      ],
      "source": [
        "# Selected Features:\n",
        "\n",
        "# Inputs\n",
        "# Index(['425 SAO Al', 'Butanol PPM', 'AYC55580', 'DI55102', 'DI55152',\n",
        "#        'DI55580', 'FC42428', 'FC52018', 'FC55003', 'FC55009', 'FC55552',\n",
        "#        'FC55555', 'FC55569', 'FC55576', 'FFC55553', 'FFC55555', 'FYC55553',\n",
        "#        'II52554', 'LC52572', 'LC55553', 'LC55555', 'LC90366', 'LC90368',\n",
        "#        'PI55004', 'PI55020', 'PI55560', 'TC52015', 'TC55552', 'TC55553',\n",
        "#        'TC55566', 'TI40050', 'VI52558B'],\n",
        "#       dtype='object')\n",
        "\n",
        "\n",
        "# Outputs\n",
        "# Index(['425 SAO Al', 'DI55152', 'FC55003', 'FFC55553', 'FFC55555', 'LC52572',\n",
        "#        'LC55553', 'LC90366'],\n",
        "#       dtype='object')\n",
        "\n",
        "# Model Coefficients:\n",
        "# 425 SAO Al: 30.01864005274383\n",
        "# DI55152: 1078.681652177451\n",
        "# FC55003: -0.08189077298629854\n",
        "# FFC55553: 230.42968080660927\n",
        "# FFC55555: -1435.533507758162\n",
        "# LC52572: 5.674969686451699\n",
        "# LC55553: -4.451261642303086\n",
        "# LC90366: -0.9625483988093393\n",
        "\n",
        "# R-squared on Training Set: 0.019547345671827254\n",
        "# R-squared on Test Set: -0.1724414726438832"
      ]
    },
    {
      "cell_type": "code",
      "execution_count": null,
      "metadata": {},
      "outputs": [
        {
          "ename": "",
          "evalue": "",
          "output_type": "error",
          "traceback": [
            "\u001b[1;31mnotebook controller is DISPOSED. \n",
            "\u001b[1;31mView Jupyter <a href='command:jupyter.viewOutput'>log</a> for further details."
          ]
        }
      ],
      "source": [
        "# Selected Features:\n",
        "\n",
        "# Input\n",
        "# Index(['425 SAO Al', 'Butanol PPM', 'AYC55580', 'DI55102', 'DI55152',\n",
        "#        'DI55580', 'FC42428', 'FC52018', 'FC55003', 'FC55009', 'FC55102',\n",
        "#        'FC55152', 'FC55552', 'FC55555', 'FC55569', 'FC55576', 'FFC55553',\n",
        "#        'FFC55555', 'FYC55553', 'II52554', 'LC52572', 'LC55553', 'LC55555',\n",
        "#        'LC55557', 'LC55568', 'LC90366', 'LC90368', 'PI55004', 'PI55020',\n",
        "#        'PI55560', 'TC52015', 'TC55552', 'TC55553', 'TC55555', 'TC55566',\n",
        "#        'TI40050', 'VI52558B'],\n",
        "#       dtype='object')\n",
        "\n",
        "# Output\n",
        "# Index(['425 SAO Al', 'FC42428', 'FC55003', 'FC55102', 'FC55152', 'FFC55555',\n",
        "#        'LC55553', 'LC55557', 'LC55568', 'LC90366', 'TC55555'],\n",
        "#       dtype='object')\n",
        "\n",
        "# Model Coefficients:\n",
        "# 425 SAO Al: 25.17775577108802\n",
        "# FC42428: -0.0053502077679223785\n",
        "# FC55003: -0.08707793224835761\n",
        "# FC55102: 0.009690441504333165\n",
        "# FC55152: -0.00645465176065053\n",
        "# FFC55555: -1225.499580989331\n",
        "# LC55553: -3.790123484445094\n",
        "# LC55557: 7.708962492130608\n",
        "# LC55568: 22.260326246079796\n",
        "# LC90366: -0.9876116671266065\n",
        "# TC55555: 11.143149287396222\n",
        "\n",
        "# R-squared on Training Set: 0.019324370488962517\n",
        "# R-squared on Test Set: -0.16325654916601962"
      ]
    }
  ],
  "metadata": {
    "kernelspec": {
      "display_name": "Python 3 (ipykernel)",
      "language": "python",
      "name": "python3"
    }
  },
  "nbformat": 4,
  "nbformat_minor": 4
}
