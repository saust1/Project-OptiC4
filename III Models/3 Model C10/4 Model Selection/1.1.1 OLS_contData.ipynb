{
  "cells": [
    {
      "cell_type": "code",
      "execution_count": 13,
      "metadata": {
        "tags": [],
        "trusted": true
      },
      "outputs": [],
      "source": [
        "# Import necessary libraries\n",
        "import pandas as pd\n",
        "from statsmodels.formula.api import ols\n",
        "import statsmodels.api as sm\n",
        "from sklearn.model_selection import train_test_split"
      ]
    },
    {
      "cell_type": "code",
      "execution_count": 14,
      "metadata": {},
      "outputs": [],
      "source": [
        "# url_df_All_1 = 'https://github.com/saust1/Project-OptiC4/blob/e358d5172ac0b8fbb6fba776c0fe0a2b523b8b5c/3%20Feature%20Selection/contData_all_Avg%20-%201o2.csv?raw=true'\n",
        "# url_df_All_2 = 'https://github.com/saust1/Project-OptiC4/blob/e358d5172ac0b8fbb6fba776c0fe0a2b523b8b5c/3%20Feature%20Selection/contData_all_Avg%20-%202o2.csv?raw=true'\n",
        "\n",
        "# df_All_1 = pd.read_csv(url_df_All_1, index_col=0)\n",
        "# df_All_2 = pd.read_csv(url_df_All_2, index_col=0)"
      ]
    },
    {
      "cell_type": "code",
      "execution_count": 15,
      "metadata": {},
      "outputs": [
        {
          "name": "stdout",
          "output_type": "stream",
          "text": [
            "                  Date  425_pct_Al     Al2O3  M_Value  C4_pct_Eth  C4_pct_H2O  \\\n",
            "0  2012-05-17 09:00:00    6.319560  11.41670  3.50773    2.554580     22.0531   \n",
            "1  2012-05-17 10:00:00    6.319915  11.40835  3.50797    2.555935     22.0557   \n",
            "2  2012-05-17 12:00:00    6.320970  11.39165  3.50869    2.560005     22.0636   \n",
            "3  2012-05-18 08:00:00    6.328690  11.39165  3.51401    2.540370     22.0604   \n",
            "4  2012-05-18 09:00:00    6.336060  11.40500  3.51910    2.514430     22.0484   \n",
            "\n",
            "   HydWtr_pct_Ammonia  C4_pct_Hex  HydWtr_Na2O  Decanol   DI55102   DI55152  \\\n",
            "0            0.867508    0.670721     3.354160  1.03026  0.965043  0.924515   \n",
            "1            0.864729    0.671059     3.306475  1.03026  0.965043  0.924515   \n",
            "2            0.856391    0.672071     3.163420  1.06326  0.965043  0.924515   \n",
            "3            0.811652    0.674174     2.238130  1.51850  0.971625  0.933431   \n",
            "4            0.773793    0.675408     1.391475  1.51850  0.971625  0.933431   \n",
            "\n",
            "    DI55580   FC55003    FC55009   FC55552   FC55569  FC55576  FFC55553  \\\n",
            "0  1.014885  5308.885  1182.3935  40409.25  6924.645  322.177  1.049540   \n",
            "1  1.014885  5308.885  1182.3935  40409.25  6924.645  322.177  1.049540   \n",
            "2  1.014885  5308.885  1182.3935  40409.25  6924.645  322.177  1.049540   \n",
            "3  1.015146  5297.320   966.1866  40866.28  6918.194  329.701  1.050092   \n",
            "4  1.015146  5297.320   966.1866  40866.28  6918.194  329.701  1.050092   \n",
            "\n",
            "   FFC55555   LC52572   LC55553   LC55557   LC55568    LC90366   LC90368  \\\n",
            "0  0.751183  66.52320  62.92105  66.31395  40.25250  15.449150  49.26750   \n",
            "1  0.751183  66.52320  62.92105  66.31395  40.25250  15.449150  49.26750   \n",
            "2  0.751183  66.52320  62.92105  66.31395  40.25250  15.449150  49.26750   \n",
            "3  0.764579  66.50016  62.23534  65.92560  39.88364   8.759814  48.51306   \n",
            "4  0.764579  66.50016  62.23534  65.92560  39.88364   8.759814  48.51306   \n",
            "\n",
            "    PI55004   PI55020   TC55552   TC55555   TI40050   TI55021  \n",
            "0  1.236360 -0.389406  179.0115  179.9940  82.96565  213.8740  \n",
            "1  1.236360 -0.389406  179.0115  179.9940  82.96565  213.8740  \n",
            "2  1.236360 -0.389406  179.0115  179.9940  82.96565  213.8740  \n",
            "3  1.190342 -0.318266  180.7166  179.9338  82.41662  214.5402  \n",
            "4  1.190342 -0.318266  180.7166  179.9338  82.41662  214.5402  \n"
          ]
        }
      ],
      "source": [
        "\n",
        "# df_All_1 = pd.read_csv(r'C:\\Users\\saust\\OneDrive\\Desktop\\GitRepo\\Project-OptiC4\\3 Feature Selection\\contData_all_Avg - 1o2.csv')\n",
        "# df_All_2 = pd.read_csv(r'C:\\Users\\saust\\OneDrive\\Desktop\\GitRepo\\Project-OptiC4\\3 Feature Selection\\contData_all_Avg - 2o2.csv')\n",
        "# # Concatenate (union) the dataframes\n",
        "# df_All = pd.concat([df_All_1, df_All_2], ignore_index=True)\n",
        "\n",
        "df_All = pd.read_csv(r'C:\\Users\\austinsh\\Project-OptiC4\\III Models\\3 Model C10\\3 Feature Selection\\filtered-out_5-9_corr.csv')\n",
        "\n",
        "print(df_All.head())"
      ]
    },
    {
      "cell_type": "code",
      "execution_count": 16,
      "metadata": {},
      "outputs": [
        {
          "data": {
            "text/plain": [
              "Index(['Date', '425_pct_Al', 'Al2O3', 'M_Value', 'C4_pct_Eth', 'C4_pct_H2O',\n",
              "       'HydWtr_pct_Ammonia', 'C4_pct_Hex', 'HydWtr_Na2O', 'Decanol', 'DI55102',\n",
              "       'DI55152', 'DI55580', 'FC55003', 'FC55009', 'FC55552', 'FC55569',\n",
              "       'FC55576', 'FFC55553', 'FFC55555', 'LC52572', 'LC55553', 'LC55557',\n",
              "       'LC55568', 'LC90366', 'LC90368', 'PI55004', 'PI55020', 'TC55552',\n",
              "       'TC55555', 'TI40050', 'TI55021'],\n",
              "      dtype='object')"
            ]
          },
          "execution_count": 16,
          "metadata": {},
          "output_type": "execute_result"
        }
      ],
      "source": [
        "df_All.columns"
      ]
    },
    {
      "cell_type": "code",
      "execution_count": 17,
      "metadata": {
        "trusted": true
      },
      "outputs": [],
      "source": [
        "# Set max columns to display\n",
        "pd.set_option('display.max_columns', None)"
      ]
    },
    {
      "cell_type": "code",
      "execution_count": 18,
      "metadata": {},
      "outputs": [],
      "source": [
        "# # List of columns to exclude to run XGboost feature selection\n",
        "# exclude_columns = ['Octanol', 'Hexanol', 'Ethanol', 'Decanol',\n",
        "       \n",
        "#        'TI52014', 'TI55013', 'TI55014', 'TI55015', 'TI55016', 'TI55017', 'TI55021', 'TI55023',\n",
        "#        'TC52015', 'FC52018', 'II52554', 'TI40050', 'VI52558B'\n",
        "#                    ]\n",
        "\n",
        "# # Create a new DataFrame without the excluded columnsd\n",
        "# df_All = df_All.drop(columns=exclude_columns)"
      ]
    },
    {
      "cell_type": "code",
      "execution_count": 19,
      "metadata": {},
      "outputs": [],
      "source": [
        "# df_All = df_All[df_All['Date'] > '2022-06-15 00:00:00']"
      ]
    },
    {
      "cell_type": "markdown",
      "metadata": {},
      "source": [
        "# Remaining Features after Correlation Analysis"
      ]
    },
    {
      "cell_type": "code",
      "execution_count": 20,
      "metadata": {},
      "outputs": [],
      "source": [
        "\n",
        "# selected_columns = ['Butanol', \n",
        "#                     'FC55569',\n",
        "#                     'DI55152',\n",
        "#                     '425 %Al',\n",
        "#                     'TC55552',\n",
        "#                     'FC55003',\n",
        "#                     'LC55555',\n",
        "#                     'FFC55553',\n",
        "#                     'FFC55555',\n",
        "#                     'TC55555',\n",
        "#                     'TI55021',\n",
        "#                     'PI55004',\n",
        "#                     'FC55552'\n",
        "#                     ]\n",
        "# existing_columns = [col for col in selected_columns if col in df_All.columns]\n",
        "# df_All = df_All[existing_columns]"
      ]
    },
    {
      "cell_type": "code",
      "execution_count": 21,
      "metadata": {},
      "outputs": [
        {
          "name": "stdout",
          "output_type": "stream",
          "text": [
            "                  Date  425_pct_Al  M_Value  C4_pct_Eth  C4_pct_H2O  \\\n",
            "0  2012-05-17 09:00:00    6.319560  3.50773    2.554580     22.0531   \n",
            "1  2012-05-17 10:00:00    6.319915  3.50797    2.555935     22.0557   \n",
            "2  2012-05-17 12:00:00    6.320970  3.50869    2.560005     22.0636   \n",
            "3  2012-05-18 08:00:00    6.328690  3.51401    2.540370     22.0604   \n",
            "4  2012-05-18 09:00:00    6.336060  3.51910    2.514430     22.0484   \n",
            "\n",
            "   HydWtr_pct_Ammonia  C4_pct_Hex  HydWtr_Na2O  Decanol   DI55102   DI55152  \\\n",
            "0            0.867508    0.670721     3.354160  1.03026  0.965043  0.924515   \n",
            "1            0.864729    0.671059     3.306475  1.03026  0.965043  0.924515   \n",
            "2            0.856391    0.672071     3.163420  1.06326  0.965043  0.924515   \n",
            "3            0.811652    0.674174     2.238130  1.51850  0.971625  0.933431   \n",
            "4            0.773793    0.675408     1.391475  1.51850  0.971625  0.933431   \n",
            "\n",
            "    FC55003    FC55009   FC55552   FC55569  FFC55553  FFC55555    LC90366  \\\n",
            "0  5308.885  1182.3935  40409.25  6924.645  1.049540  0.751183  15.449150   \n",
            "1  5308.885  1182.3935  40409.25  6924.645  1.049540  0.751183  15.449150   \n",
            "2  5308.885  1182.3935  40409.25  6924.645  1.049540  0.751183  15.449150   \n",
            "3  5297.320   966.1866  40866.28  6918.194  1.050092  0.764579   8.759814   \n",
            "4  5297.320   966.1866  40866.28  6918.194  1.050092  0.764579   8.759814   \n",
            "\n",
            "    LC90368   PI55020   TC55552   TI55021  \n",
            "0  49.26750 -0.389406  179.0115  213.8740  \n",
            "1  49.26750 -0.389406  179.0115  213.8740  \n",
            "2  49.26750 -0.389406  179.0115  213.8740  \n",
            "3  48.51306 -0.318266  180.7166  214.5402  \n",
            "4  48.51306 -0.318266  180.7166  214.5402  \n"
          ]
        }
      ],
      "source": [
        "# # List of columns to exclude to run XGboost feature selection\n",
        "exclude_columns = [\n",
        "                \n",
        "                # Round 1\n",
        "                'TI40050',\n",
        "                'TC55555',\n",
        "                'LC55568',\n",
        "                'LC55557',\n",
        "                'Al2O3',\n",
        "                'LC55553',\n",
        "\n",
        "                # Round 2\n",
        "                'FC55576',\n",
        "                'PI55004',\n",
        "\n",
        "                # Round 3 - Excluding this one because OLS and FSF agree, but it wasn't captured by XGB-FS\n",
        "                'DI55580',\n",
        "\n",
        "                #Round 4 - Round 3 dropped another in XGB-FS\n",
        "                'LC52572'\n",
        "                \n",
        "                # 'M_Value',\n",
        "                # 'FFC55553',\n",
        "                # 'DI55580',\n",
        "                # 'Al2O3',\n",
        "                # 'C4_pct_Hex',\n",
        "                # 'LC52572'\n",
        "\n",
        "                   ]\n",
        "\n",
        "# # Create a new DataFrame without the excluded columnsd\n",
        "df_All = df_All.drop(columns=exclude_columns)\n",
        "\n",
        "print(df_All.head())"
      ]
    },
    {
      "cell_type": "code",
      "execution_count": 22,
      "metadata": {},
      "outputs": [],
      "source": [
        "# First Iteration\n",
        "# selected_columns = ['Butanol PPM', '425 SAO Al', 'FC42428', 'FC55003', 'FC55102', 'FC55152', 'FFC55555',\n",
        "#        'LC55553', 'LC55557', 'LC55568', 'LC90366', 'TC55555']\n",
        "\n",
        "\n"
      ]
    },
    {
      "cell_type": "code",
      "execution_count": 23,
      "metadata": {},
      "outputs": [
        {
          "data": {
            "text/plain": [
              "Index(['Date', '425_pct_Al', 'M_Value', 'C4_pct_Eth', 'C4_pct_H2O',\n",
              "       'HydWtr_pct_Ammonia', 'C4_pct_Hex', 'HydWtr_Na2O', 'Decanol', 'DI55102',\n",
              "       'DI55152', 'FC55003', 'FC55009', 'FC55552', 'FC55569', 'FFC55553',\n",
              "       'FFC55555', 'LC90366', 'LC90368', 'PI55020', 'TC55552', 'TI55021'],\n",
              "      dtype='object')"
            ]
          },
          "execution_count": 23,
          "metadata": {},
          "output_type": "execute_result"
        }
      ],
      "source": [
        "df_All.columns"
      ]
    },
    {
      "cell_type": "code",
      "execution_count": 24,
      "metadata": {},
      "outputs": [],
      "source": [
        "# Splitting into train and test\n",
        "X = df_All.drop(['Decanol', 'Date'], axis=1)  # Assuming 'target' is your target column\n",
        "y = df_All['Decanol']\n",
        "X_train, X_test, y_train, y_test = train_test_split(X, y, test_size=0.2, random_state=42)"
      ]
    },
    {
      "cell_type": "code",
      "execution_count": 25,
      "metadata": {},
      "outputs": [
        {
          "name": "stdout",
          "output_type": "stream",
          "text": [
            "                                 OLS Regression Results                                \n",
            "=======================================================================================\n",
            "Dep. Variable:                Decanol   R-squared (uncentered):                   0.895\n",
            "Model:                            OLS   Adj. R-squared (uncentered):              0.895\n",
            "Method:                 Least Squares   F-statistic:                          1.712e+04\n",
            "Date:                Mon, 06 May 2024   Prob (F-statistic):                        0.00\n",
            "Time:                        00:44:34   Log-Likelihood:                         -61512.\n",
            "No. Observations:               40127   AIC:                                  1.231e+05\n",
            "Df Residuals:                   40107   BIC:                                  1.232e+05\n",
            "Df Model:                          20                                                  \n",
            "Covariance Type:            nonrobust                                                  \n",
            "======================================================================================\n",
            "                         coef    std err          t      P>|t|      [0.025      0.975]\n",
            "--------------------------------------------------------------------------------------\n",
            "425_pct_Al             0.3007      0.024     12.392      0.000       0.253       0.348\n",
            "M_Value               -0.8728      0.032    -27.320      0.000      -0.935      -0.810\n",
            "C4_pct_Eth            -0.3237      0.011    -28.952      0.000      -0.346      -0.302\n",
            "C4_pct_H2O             0.0661      0.003     25.868      0.000       0.061       0.071\n",
            "HydWtr_pct_Ammonia    -0.3202      0.040     -8.058      0.000      -0.398      -0.242\n",
            "C4_pct_Hex             0.2870      0.026     10.962      0.000       0.236       0.338\n",
            "HydWtr_Na2O           -0.0683      0.008     -8.143      0.000      -0.085      -0.052\n",
            "DI55102                2.2198      0.135     16.449      0.000       1.955       2.484\n",
            "DI55152                4.2237      0.243     17.412      0.000       3.748       4.699\n",
            "FC55003            -8.526e-05   9.46e-06     -9.012      0.000      -0.000   -6.67e-05\n",
            "FC55009               -0.0010   1.11e-05    -91.394      0.000      -0.001      -0.001\n",
            "FC55552             7.507e-05   1.61e-06     46.595      0.000    7.19e-05    7.82e-05\n",
            "FC55569            -8.902e-05   1.87e-05     -4.762      0.000      -0.000   -5.24e-05\n",
            "FFC55553              -4.1712      0.176    -23.681      0.000      -4.516      -3.826\n",
            "FFC55555               9.0686      0.256     35.485      0.000       8.568       9.569\n",
            "LC90366               -0.0052      0.000    -24.752      0.000      -0.006      -0.005\n",
            "LC90368                0.0098      0.000     32.731      0.000       0.009       0.010\n",
            "PI55020                0.1315      0.006     22.784      0.000       0.120       0.143\n",
            "TC55552               -0.0231      0.000    -57.198      0.000      -0.024      -0.022\n",
            "TI55021               -0.0091      0.001    -14.275      0.000      -0.010      -0.008\n",
            "==============================================================================\n",
            "Omnibus:                     2774.914   Durbin-Watson:                   0.028\n",
            "Prob(Omnibus):                  0.000   Jarque-Bera (JB):             3888.435\n",
            "Skew:                           0.598   Prob(JB):                         0.00\n",
            "Kurtosis:                       3.946   Cond. No.                     1.90e+06\n",
            "==============================================================================\n",
            "\n",
            "Notes:\n",
            "[1] R² is computed without centering (uncentered) since the model does not contain a constant.\n",
            "[2] Standard Errors assume that the covariance matrix of the errors is correctly specified.\n",
            "[3] The condition number is large, 1.9e+06. This might indicate that there are\n",
            "strong multicollinearity or other numerical problems.\n"
          ]
        }
      ],
      "source": [
        "#=============================================\n",
        "# TRAIN & EVALUATE REGRESSION MODEL\n",
        "#=============================================\n",
        "\n",
        "#fit simple linear regression model\n",
        "model = sm.OLS(y, X).fit()\n",
        "print(model.summary())"
      ]
    },
    {
      "cell_type": "code",
      "execution_count": 26,
      "metadata": {},
      "outputs": [
        {
          "name": "stdout",
          "output_type": "stream",
          "text": [
            "[]\n"
          ]
        }
      ],
      "source": [
        "# Convert summary to DataFrame\n",
        "summary_table = model.summary().tables[1]\n",
        "summary_df = pd.DataFrame(summary_table.data[1:], columns=summary_table.data[0])\n",
        "\n",
        "# Convert necessary columns to numeric\n",
        "numeric_cols = ['coef', 'std err', 't', 'P>|t|', '[0.025', '0.975]']\n",
        "summary_df[numeric_cols] = summary_df[numeric_cols].apply(pd.to_numeric, errors='coerce')\n",
        "\n",
        "# Apply the filter for insignificance and CI crossing zero\n",
        "threshold = 0.05\n",
        "filtered_df = summary_df[(summary_df['P>|t|'] > threshold) & ((summary_df['[0.025'] < 0) & (summary_df['0.975]'] > 0))]\n",
        "\n",
        "# Extracting the feature names\n",
        "insignificant_features = filtered_df.iloc[:, 0].tolist()  # First column contains feature names\n",
        "print(insignificant_features)\n"
      ]
    },
    {
      "cell_type": "code",
      "execution_count": 27,
      "metadata": {},
      "outputs": [
        {
          "name": "stdout",
          "output_type": "stream",
          "text": [
            "Empty DataFrame\n",
            "Columns: [, coef, std err, t, P>|t|, [0.025, 0.975]]\n",
            "Index: []\n"
          ]
        }
      ],
      "source": [
        "print(filtered_df)"
      ]
    },
    {
      "cell_type": "code",
      "execution_count": 28,
      "metadata": {},
      "outputs": [
        {
          "name": "stdout",
          "output_type": "stream",
          "text": [
            "\n",
            "Significant Features:\n",
            "['425_pct_Al', 'M_Value', 'C4_pct_Eth', 'C4_pct_H2O', 'HydWtr_pct_Ammonia', 'C4_pct_Hex', 'HydWtr_Na2O', 'DI55102', 'DI55152', 'FC55003', 'FC55009', 'FC55552', 'FC55569', 'FFC55553', 'FFC55555', 'LC90366', 'LC90368', 'PI55020', 'TC55552', 'TI55021']\n"
          ]
        }
      ],
      "source": [
        "# Filter for significant features\n",
        "significant_df = summary_df[(summary_df['P>|t|'] <= threshold) & ((summary_df['[0.025'] > 0) | (summary_df['0.975]'] < 0))]\n",
        "significant_features = significant_df.iloc[:, 0].tolist()\n",
        "print(\"\\nSignificant Features:\")\n",
        "print(significant_features)"
      ]
    }
  ],
  "metadata": {
    "kernelspec": {
      "display_name": "Python 3 (ipykernel)",
      "language": "python",
      "name": "python3"
    },
    "language_info": {
      "codemirror_mode": {
        "name": "ipython",
        "version": 3
      },
      "file_extension": ".py",
      "mimetype": "text/x-python",
      "name": "python",
      "nbconvert_exporter": "python",
      "pygments_lexer": "ipython3",
      "version": "3.12.1"
    }
  },
  "nbformat": 4,
  "nbformat_minor": 4
}
