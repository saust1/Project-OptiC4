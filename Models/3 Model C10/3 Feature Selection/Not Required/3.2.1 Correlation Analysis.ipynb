{
 "cells": [
  {
   "cell_type": "code",
   "execution_count": 1,
   "metadata": {},
   "outputs": [],
   "source": [
    "import pandas as pd\n",
    "# Set max columns to display\n",
    "pd.set_option('display.max_columns', None)\n",
    "\n",
    "import numpy as np\n",
    "from sklearn import preprocessing as pre\n",
    "import matplotlib.pyplot as plt\n",
    "from scipy import stats\n",
    "import seaborn as sns\n",
    "import plotly.express as px"
   ]
  },
  {
   "cell_type": "code",
   "execution_count": 2,
   "metadata": {},
   "outputs": [],
   "source": [
    "\n",
    "TagDesc = pd.read_csv(r\"C:\\Users\\saust\\OneDrive\\Desktop\\CodeSpace DLs\\102423\\Project rC4\\5 Engineered Features\\1 - EF - CSV Inputs\\TagDesc.csv\")\n",
    "# df_CDCA = pd.read_csv(r\"C:\\Users\\saust\\OneDrive - Sasol\\1 Project rC4\\Jupyter Notebooks\\Report 10-19-23\\df_AlConCD554.csv\")\n",
    "df_CDCA1 = pd.read_csv(r\"C:\\Users\\saust\\OneDrive\\Desktop\\CodeSpace DLs\\102423\\Project rC4\\5 Engineered Features\\3 - EF - Feature Selection\\df_CDFII.csv\")\n",
    "\n",
    "\n",
    "FScore = pd.read_csv(r\"C:\\Users\\saust\\OneDrive\\Desktop\\CodeSpace DLs\\102423\\Project rC4\\5 Engineered Features\\3 - EF - Feature Selection\\FScore_on_Butanol_320.csv\")\n",
    "\n",
    "# df_CDCA = pd.read_csv('/workspaces/codespaces-jupyter/ProjectrC4/df_AlConCD554.csv')"
   ]
  },
  {
   "cell_type": "markdown",
   "metadata": {},
   "source": [
    "# Check Basic Information:"
   ]
  },
  {
   "cell_type": "code",
   "execution_count": 3,
   "metadata": {},
   "outputs": [
    {
     "name": "stdout",
     "output_type": "stream",
     "text": [
      "<class 'pandas.core.frame.DataFrame'>\n",
      "RangeIndex: 56692 entries, 0 to 56691\n",
      "Data columns (total 27 columns):\n",
      " #   Column    Non-Null Count  Dtype  \n",
      "---  ------    --------------  -----  \n",
      " 0   Butanol   56692 non-null  float64\n",
      " 1   425 %Al   56692 non-null  float64\n",
      " 2   TC55552   56692 non-null  float64\n",
      " 3   DI55102   56692 non-null  float64\n",
      " 4   FC55569   56692 non-null  float64\n",
      " 5   DI55152   56692 non-null  float64\n",
      " 6   FC55576   56692 non-null  float64\n",
      " 7   TI55017   56692 non-null  float64\n",
      " 8   FC42428   56692 non-null  float64\n",
      " 9   AYC55580  56692 non-null  float64\n",
      " 10  LC55555   56692 non-null  float64\n",
      " 11  TI55023   56692 non-null  float64\n",
      " 12  FFC55553  56692 non-null  float64\n",
      " 13  FC55555   56692 non-null  float64\n",
      " 14  TI55021   56692 non-null  float64\n",
      " 15  FYC55553  56692 non-null  float64\n",
      " 16  FC55009   56692 non-null  float64\n",
      " 17  LC55557   56692 non-null  float64\n",
      " 18  TC55553   56692 non-null  float64\n",
      " 19  DI55580   56692 non-null  float64\n",
      " 20  LC55553   56692 non-null  float64\n",
      " 21  FC55003   56692 non-null  float64\n",
      " 22  FC55102   56692 non-null  float64\n",
      " 23  FFC55555  56692 non-null  float64\n",
      " 24  TC55555   56692 non-null  float64\n",
      " 25  Date      56692 non-null  object \n",
      " 26  Decanol   56692 non-null  float64\n",
      "dtypes: float64(26), object(1)\n",
      "memory usage: 11.7+ MB\n"
     ]
    },
    {
     "data": {
      "text/html": [
       "<div>\n",
       "<style scoped>\n",
       "    .dataframe tbody tr th:only-of-type {\n",
       "        vertical-align: middle;\n",
       "    }\n",
       "\n",
       "    .dataframe tbody tr th {\n",
       "        vertical-align: top;\n",
       "    }\n",
       "\n",
       "    .dataframe thead th {\n",
       "        text-align: right;\n",
       "    }\n",
       "</style>\n",
       "<table border=\"1\" class=\"dataframe\">\n",
       "  <thead>\n",
       "    <tr style=\"text-align: right;\">\n",
       "      <th></th>\n",
       "      <th>Butanol</th>\n",
       "      <th>425 %Al</th>\n",
       "      <th>TC55552</th>\n",
       "      <th>DI55102</th>\n",
       "      <th>FC55569</th>\n",
       "      <th>DI55152</th>\n",
       "      <th>FC55576</th>\n",
       "      <th>TI55017</th>\n",
       "      <th>FC42428</th>\n",
       "      <th>AYC55580</th>\n",
       "      <th>LC55555</th>\n",
       "      <th>TI55023</th>\n",
       "      <th>FFC55553</th>\n",
       "      <th>FC55555</th>\n",
       "      <th>TI55021</th>\n",
       "      <th>FYC55553</th>\n",
       "      <th>FC55009</th>\n",
       "      <th>LC55557</th>\n",
       "      <th>TC55553</th>\n",
       "      <th>DI55580</th>\n",
       "      <th>LC55553</th>\n",
       "      <th>FC55003</th>\n",
       "      <th>FC55102</th>\n",
       "      <th>FFC55555</th>\n",
       "      <th>TC55555</th>\n",
       "      <th>Date</th>\n",
       "      <th>Decanol</th>\n",
       "    </tr>\n",
       "  </thead>\n",
       "  <tbody>\n",
       "    <tr>\n",
       "      <th>0</th>\n",
       "      <td>58.5265</td>\n",
       "      <td>6.30693</td>\n",
       "      <td>177.188</td>\n",
       "      <td>0.969806</td>\n",
       "      <td>6912.68</td>\n",
       "      <td>0.924181</td>\n",
       "      <td>341.221</td>\n",
       "      <td>205.694</td>\n",
       "      <td>39317.7</td>\n",
       "      <td>18.2020</td>\n",
       "      <td>59.9547</td>\n",
       "      <td>211.484</td>\n",
       "      <td>1.000020</td>\n",
       "      <td>31160.5</td>\n",
       "      <td>213.032</td>\n",
       "      <td>41313.6</td>\n",
       "      <td>1518.05</td>\n",
       "      <td>65.8159</td>\n",
       "      <td>231.718</td>\n",
       "      <td>1.01691</td>\n",
       "      <td>62.1299</td>\n",
       "      <td>5017.59</td>\n",
       "      <td>54720.8</td>\n",
       "      <td>0.750930</td>\n",
       "      <td>180.140</td>\n",
       "      <td>2012-05-16 16:00:00</td>\n",
       "      <td>0.711118</td>\n",
       "    </tr>\n",
       "    <tr>\n",
       "      <th>1</th>\n",
       "      <td>54.8583</td>\n",
       "      <td>6.30763</td>\n",
       "      <td>177.188</td>\n",
       "      <td>0.970496</td>\n",
       "      <td>6918.11</td>\n",
       "      <td>0.925255</td>\n",
       "      <td>334.948</td>\n",
       "      <td>205.700</td>\n",
       "      <td>39979.0</td>\n",
       "      <td>18.2349</td>\n",
       "      <td>59.9688</td>\n",
       "      <td>211.346</td>\n",
       "      <td>0.996975</td>\n",
       "      <td>31166.9</td>\n",
       "      <td>212.861</td>\n",
       "      <td>41342.9</td>\n",
       "      <td>1528.01</td>\n",
       "      <td>65.8734</td>\n",
       "      <td>232.537</td>\n",
       "      <td>1.01733</td>\n",
       "      <td>61.5982</td>\n",
       "      <td>4919.29</td>\n",
       "      <td>54646.6</td>\n",
       "      <td>0.751501</td>\n",
       "      <td>180.125</td>\n",
       "      <td>2012-05-16 17:00:00</td>\n",
       "      <td>0.722511</td>\n",
       "    </tr>\n",
       "    <tr>\n",
       "      <th>2</th>\n",
       "      <td>47.5218</td>\n",
       "      <td>6.30904</td>\n",
       "      <td>177.313</td>\n",
       "      <td>0.969785</td>\n",
       "      <td>6921.81</td>\n",
       "      <td>0.923308</td>\n",
       "      <td>324.050</td>\n",
       "      <td>205.491</td>\n",
       "      <td>40392.9</td>\n",
       "      <td>18.3104</td>\n",
       "      <td>59.8958</td>\n",
       "      <td>210.831</td>\n",
       "      <td>1.000720</td>\n",
       "      <td>31123.6</td>\n",
       "      <td>212.537</td>\n",
       "      <td>41517.7</td>\n",
       "      <td>1527.23</td>\n",
       "      <td>65.7718</td>\n",
       "      <td>231.454</td>\n",
       "      <td>1.01852</td>\n",
       "      <td>62.0092</td>\n",
       "      <td>5159.60</td>\n",
       "      <td>55039.2</td>\n",
       "      <td>0.749676</td>\n",
       "      <td>179.981</td>\n",
       "      <td>2012-05-16 19:00:00</td>\n",
       "      <td>0.745297</td>\n",
       "    </tr>\n",
       "    <tr>\n",
       "      <th>3</th>\n",
       "      <td>43.8536</td>\n",
       "      <td>6.30974</td>\n",
       "      <td>177.750</td>\n",
       "      <td>0.971677</td>\n",
       "      <td>6909.54</td>\n",
       "      <td>0.922757</td>\n",
       "      <td>338.418</td>\n",
       "      <td>204.892</td>\n",
       "      <td>39405.8</td>\n",
       "      <td>18.3399</td>\n",
       "      <td>60.1427</td>\n",
       "      <td>211.151</td>\n",
       "      <td>0.998250</td>\n",
       "      <td>31152.9</td>\n",
       "      <td>213.069</td>\n",
       "      <td>41475.9</td>\n",
       "      <td>1495.65</td>\n",
       "      <td>66.2276</td>\n",
       "      <td>229.980</td>\n",
       "      <td>1.01856</td>\n",
       "      <td>61.8406</td>\n",
       "      <td>5726.97</td>\n",
       "      <td>54010.4</td>\n",
       "      <td>0.750338</td>\n",
       "      <td>179.899</td>\n",
       "      <td>2012-05-16 20:00:00</td>\n",
       "      <td>0.756689</td>\n",
       "    </tr>\n",
       "    <tr>\n",
       "      <th>4</th>\n",
       "      <td>40.1853</td>\n",
       "      <td>6.31044</td>\n",
       "      <td>177.585</td>\n",
       "      <td>0.969270</td>\n",
       "      <td>6924.42</td>\n",
       "      <td>0.925092</td>\n",
       "      <td>357.119</td>\n",
       "      <td>204.576</td>\n",
       "      <td>39867.5</td>\n",
       "      <td>18.4314</td>\n",
       "      <td>60.0564</td>\n",
       "      <td>210.879</td>\n",
       "      <td>1.005450</td>\n",
       "      <td>31088.2</td>\n",
       "      <td>212.732</td>\n",
       "      <td>41741.3</td>\n",
       "      <td>1512.24</td>\n",
       "      <td>65.9929</td>\n",
       "      <td>229.427</td>\n",
       "      <td>1.01950</td>\n",
       "      <td>62.0640</td>\n",
       "      <td>5591.42</td>\n",
       "      <td>54184.4</td>\n",
       "      <td>0.749787</td>\n",
       "      <td>180.038</td>\n",
       "      <td>2012-05-16 21:00:00</td>\n",
       "      <td>0.768082</td>\n",
       "    </tr>\n",
       "  </tbody>\n",
       "</table>\n",
       "</div>"
      ],
      "text/plain": [
       "   Butanol  425 %Al  TC55552   DI55102  FC55569   DI55152  FC55576  TI55017  \\\n",
       "0  58.5265  6.30693  177.188  0.969806  6912.68  0.924181  341.221  205.694   \n",
       "1  54.8583  6.30763  177.188  0.970496  6918.11  0.925255  334.948  205.700   \n",
       "2  47.5218  6.30904  177.313  0.969785  6921.81  0.923308  324.050  205.491   \n",
       "3  43.8536  6.30974  177.750  0.971677  6909.54  0.922757  338.418  204.892   \n",
       "4  40.1853  6.31044  177.585  0.969270  6924.42  0.925092  357.119  204.576   \n",
       "\n",
       "   FC42428  AYC55580  LC55555  TI55023  FFC55553  FC55555  TI55021  FYC55553  \\\n",
       "0  39317.7   18.2020  59.9547  211.484  1.000020  31160.5  213.032   41313.6   \n",
       "1  39979.0   18.2349  59.9688  211.346  0.996975  31166.9  212.861   41342.9   \n",
       "2  40392.9   18.3104  59.8958  210.831  1.000720  31123.6  212.537   41517.7   \n",
       "3  39405.8   18.3399  60.1427  211.151  0.998250  31152.9  213.069   41475.9   \n",
       "4  39867.5   18.4314  60.0564  210.879  1.005450  31088.2  212.732   41741.3   \n",
       "\n",
       "   FC55009  LC55557  TC55553  DI55580  LC55553  FC55003  FC55102  FFC55555  \\\n",
       "0  1518.05  65.8159  231.718  1.01691  62.1299  5017.59  54720.8  0.750930   \n",
       "1  1528.01  65.8734  232.537  1.01733  61.5982  4919.29  54646.6  0.751501   \n",
       "2  1527.23  65.7718  231.454  1.01852  62.0092  5159.60  55039.2  0.749676   \n",
       "3  1495.65  66.2276  229.980  1.01856  61.8406  5726.97  54010.4  0.750338   \n",
       "4  1512.24  65.9929  229.427  1.01950  62.0640  5591.42  54184.4  0.749787   \n",
       "\n",
       "   TC55555                 Date   Decanol  \n",
       "0  180.140  2012-05-16 16:00:00  0.711118  \n",
       "1  180.125  2012-05-16 17:00:00  0.722511  \n",
       "2  179.981  2012-05-16 19:00:00  0.745297  \n",
       "3  179.899  2012-05-16 20:00:00  0.756689  \n",
       "4  180.038  2012-05-16 21:00:00  0.768082  "
      ]
     },
     "execution_count": 3,
     "metadata": {},
     "output_type": "execute_result"
    }
   ],
   "source": [
    "\n",
    "\n",
    "df_CDCA1.info() #to check the data types, non-null counts, and memory usage.\n",
    "df_CDCA1.head() #to examine the first few rows of the dataset."
   ]
  },
  {
   "cell_type": "markdown",
   "metadata": {},
   "source": [
    "# Summary Statistics:"
   ]
  },
  {
   "cell_type": "code",
   "execution_count": 4,
   "metadata": {},
   "outputs": [
    {
     "data": {
      "text/html": [
       "<div>\n",
       "<style scoped>\n",
       "    .dataframe tbody tr th:only-of-type {\n",
       "        vertical-align: middle;\n",
       "    }\n",
       "\n",
       "    .dataframe tbody tr th {\n",
       "        vertical-align: top;\n",
       "    }\n",
       "\n",
       "    .dataframe thead th {\n",
       "        text-align: right;\n",
       "    }\n",
       "</style>\n",
       "<table border=\"1\" class=\"dataframe\">\n",
       "  <thead>\n",
       "    <tr style=\"text-align: right;\">\n",
       "      <th></th>\n",
       "      <th>Butanol</th>\n",
       "      <th>425 %Al</th>\n",
       "      <th>TC55552</th>\n",
       "      <th>DI55102</th>\n",
       "      <th>FC55569</th>\n",
       "      <th>DI55152</th>\n",
       "      <th>FC55576</th>\n",
       "      <th>TI55017</th>\n",
       "      <th>FC42428</th>\n",
       "      <th>AYC55580</th>\n",
       "      <th>LC55555</th>\n",
       "      <th>TI55023</th>\n",
       "      <th>FFC55553</th>\n",
       "      <th>FC55555</th>\n",
       "      <th>TI55021</th>\n",
       "      <th>FYC55553</th>\n",
       "      <th>FC55009</th>\n",
       "      <th>LC55557</th>\n",
       "      <th>TC55553</th>\n",
       "      <th>DI55580</th>\n",
       "      <th>LC55553</th>\n",
       "      <th>FC55003</th>\n",
       "      <th>FC55102</th>\n",
       "      <th>FFC55555</th>\n",
       "      <th>TC55555</th>\n",
       "      <th>Decanol</th>\n",
       "    </tr>\n",
       "  </thead>\n",
       "  <tbody>\n",
       "    <tr>\n",
       "      <th>count</th>\n",
       "      <td>56692.000000</td>\n",
       "      <td>56692.000000</td>\n",
       "      <td>56692.000000</td>\n",
       "      <td>56692.000000</td>\n",
       "      <td>56692.000000</td>\n",
       "      <td>56692.000000</td>\n",
       "      <td>56692.000000</td>\n",
       "      <td>56692.000000</td>\n",
       "      <td>56692.000000</td>\n",
       "      <td>56692.000000</td>\n",
       "      <td>56692.000000</td>\n",
       "      <td>56692.000000</td>\n",
       "      <td>56692.000000</td>\n",
       "      <td>56692.000000</td>\n",
       "      <td>56692.000000</td>\n",
       "      <td>56692.000000</td>\n",
       "      <td>5.669200e+04</td>\n",
       "      <td>56692.000000</td>\n",
       "      <td>56692.000000</td>\n",
       "      <td>56692.000000</td>\n",
       "      <td>56692.000000</td>\n",
       "      <td>56692.000000</td>\n",
       "      <td>56692.000000</td>\n",
       "      <td>56692.000000</td>\n",
       "      <td>56692.000000</td>\n",
       "      <td>56692.000000</td>\n",
       "    </tr>\n",
       "    <tr>\n",
       "      <th>mean</th>\n",
       "      <td>10.159097</td>\n",
       "      <td>6.102568</td>\n",
       "      <td>167.848708</td>\n",
       "      <td>0.929183</td>\n",
       "      <td>6542.683482</td>\n",
       "      <td>0.948213</td>\n",
       "      <td>423.616848</td>\n",
       "      <td>186.704144</td>\n",
       "      <td>34949.282507</td>\n",
       "      <td>11.190763</td>\n",
       "      <td>59.583652</td>\n",
       "      <td>218.923414</td>\n",
       "      <td>0.983235</td>\n",
       "      <td>27838.228893</td>\n",
       "      <td>223.571121</td>\n",
       "      <td>35311.748813</td>\n",
       "      <td>8.642095e+02</td>\n",
       "      <td>69.335227</td>\n",
       "      <td>182.968327</td>\n",
       "      <td>0.998448</td>\n",
       "      <td>63.743198</td>\n",
       "      <td>5943.587725</td>\n",
       "      <td>44454.232553</td>\n",
       "      <td>0.774375</td>\n",
       "      <td>181.033535</td>\n",
       "      <td>2.783139</td>\n",
       "    </tr>\n",
       "    <tr>\n",
       "      <th>std</th>\n",
       "      <td>10.766912</td>\n",
       "      <td>0.307167</td>\n",
       "      <td>15.014702</td>\n",
       "      <td>0.066439</td>\n",
       "      <td>380.329468</td>\n",
       "      <td>0.043248</td>\n",
       "      <td>260.435270</td>\n",
       "      <td>9.778964</td>\n",
       "      <td>5665.289174</td>\n",
       "      <td>4.140405</td>\n",
       "      <td>10.709861</td>\n",
       "      <td>4.063504</td>\n",
       "      <td>0.056070</td>\n",
       "      <td>3535.683915</td>\n",
       "      <td>9.366356</td>\n",
       "      <td>4632.175030</td>\n",
       "      <td>5.951287e+02</td>\n",
       "      <td>3.271572</td>\n",
       "      <td>27.965747</td>\n",
       "      <td>0.044181</td>\n",
       "      <td>6.403442</td>\n",
       "      <td>836.963231</td>\n",
       "      <td>6565.359850</td>\n",
       "      <td>0.021944</td>\n",
       "      <td>1.495460</td>\n",
       "      <td>1.600426</td>\n",
       "    </tr>\n",
       "    <tr>\n",
       "      <th>min</th>\n",
       "      <td>0.010000</td>\n",
       "      <td>4.573810</td>\n",
       "      <td>119.869000</td>\n",
       "      <td>0.794535</td>\n",
       "      <td>5096.080000</td>\n",
       "      <td>0.820425</td>\n",
       "      <td>0.000548</td>\n",
       "      <td>159.702000</td>\n",
       "      <td>14573.800000</td>\n",
       "      <td>0.000862</td>\n",
       "      <td>27.970000</td>\n",
       "      <td>206.472000</td>\n",
       "      <td>0.265390</td>\n",
       "      <td>14214.900000</td>\n",
       "      <td>206.365000</td>\n",
       "      <td>17321.200000</td>\n",
       "      <td>3.150000e-18</td>\n",
       "      <td>59.038000</td>\n",
       "      <td>110.534000</td>\n",
       "      <td>0.860904</td>\n",
       "      <td>43.548000</td>\n",
       "      <td>2925.430000</td>\n",
       "      <td>20039.100000</td>\n",
       "      <td>0.694477</td>\n",
       "      <td>175.746000</td>\n",
       "      <td>0.000976</td>\n",
       "    </tr>\n",
       "    <tr>\n",
       "      <th>25%</th>\n",
       "      <td>3.725195</td>\n",
       "      <td>5.969493</td>\n",
       "      <td>156.235000</td>\n",
       "      <td>0.889793</td>\n",
       "      <td>6295.522500</td>\n",
       "      <td>0.917749</td>\n",
       "      <td>244.604000</td>\n",
       "      <td>179.370000</td>\n",
       "      <td>31670.025000</td>\n",
       "      <td>9.382740</td>\n",
       "      <td>49.938100</td>\n",
       "      <td>215.731000</td>\n",
       "      <td>0.959998</td>\n",
       "      <td>26770.325000</td>\n",
       "      <td>217.963000</td>\n",
       "      <td>33117.150000</td>\n",
       "      <td>4.091148e+02</td>\n",
       "      <td>66.227375</td>\n",
       "      <td>162.691750</td>\n",
       "      <td>0.967603</td>\n",
       "      <td>61.246825</td>\n",
       "      <td>5425.580000</td>\n",
       "      <td>40968.975000</td>\n",
       "      <td>0.759903</td>\n",
       "      <td>179.971000</td>\n",
       "      <td>1.493330</td>\n",
       "    </tr>\n",
       "    <tr>\n",
       "      <th>50%</th>\n",
       "      <td>5.920780</td>\n",
       "      <td>6.120565</td>\n",
       "      <td>170.625000</td>\n",
       "      <td>0.938533</td>\n",
       "      <td>6529.010000</td>\n",
       "      <td>0.942326</td>\n",
       "      <td>379.134000</td>\n",
       "      <td>185.770500</td>\n",
       "      <td>37037.650000</td>\n",
       "      <td>10.709550</td>\n",
       "      <td>61.884700</td>\n",
       "      <td>218.255500</td>\n",
       "      <td>0.988710</td>\n",
       "      <td>28947.000000</td>\n",
       "      <td>221.217000</td>\n",
       "      <td>36832.650000</td>\n",
       "      <td>8.416325e+02</td>\n",
       "      <td>69.966300</td>\n",
       "      <td>177.601500</td>\n",
       "      <td>0.995945</td>\n",
       "      <td>65.277550</td>\n",
       "      <td>5963.340000</td>\n",
       "      <td>45941.200000</td>\n",
       "      <td>0.778141</td>\n",
       "      <td>180.142000</td>\n",
       "      <td>2.560000</td>\n",
       "    </tr>\n",
       "    <tr>\n",
       "      <th>75%</th>\n",
       "      <td>11.642100</td>\n",
       "      <td>6.267622</td>\n",
       "      <td>179.313000</td>\n",
       "      <td>0.979955</td>\n",
       "      <td>6767.337500</td>\n",
       "      <td>0.974824</td>\n",
       "      <td>617.744000</td>\n",
       "      <td>193.388250</td>\n",
       "      <td>39151.750000</td>\n",
       "      <td>12.928750</td>\n",
       "      <td>68.106400</td>\n",
       "      <td>221.765000</td>\n",
       "      <td>1.010652</td>\n",
       "      <td>30036.300000</td>\n",
       "      <td>225.275000</td>\n",
       "      <td>38552.225000</td>\n",
       "      <td>1.317453e+03</td>\n",
       "      <td>71.768800</td>\n",
       "      <td>202.014250</td>\n",
       "      <td>1.027960</td>\n",
       "      <td>67.964225</td>\n",
       "      <td>6506.837500</td>\n",
       "      <td>48822.325000</td>\n",
       "      <td>0.789695</td>\n",
       "      <td>182.027000</td>\n",
       "      <td>3.863330</td>\n",
       "    </tr>\n",
       "    <tr>\n",
       "      <th>max</th>\n",
       "      <td>60.346700</td>\n",
       "      <td>7.571230</td>\n",
       "      <td>207.426000</td>\n",
       "      <td>1.068230</td>\n",
       "      <td>8014.950000</td>\n",
       "      <td>1.065410</td>\n",
       "      <td>1206.820000</td>\n",
       "      <td>212.051000</td>\n",
       "      <td>49372.900000</td>\n",
       "      <td>23.835600</td>\n",
       "      <td>85.261600</td>\n",
       "      <td>232.208000</td>\n",
       "      <td>1.475490</td>\n",
       "      <td>34638.100000</td>\n",
       "      <td>260.685000</td>\n",
       "      <td>50427.700000</td>\n",
       "      <td>2.655410e+03</td>\n",
       "      <td>79.508200</td>\n",
       "      <td>261.360000</td>\n",
       "      <td>1.125220</td>\n",
       "      <td>82.753500</td>\n",
       "      <td>8973.580000</td>\n",
       "      <td>62848.200000</td>\n",
       "      <td>0.853283</td>\n",
       "      <td>186.453000</td>\n",
       "      <td>7.923330</td>\n",
       "    </tr>\n",
       "  </tbody>\n",
       "</table>\n",
       "</div>"
      ],
      "text/plain": [
       "            Butanol       425 %Al       TC55552       DI55102       FC55569  \\\n",
       "count  56692.000000  56692.000000  56692.000000  56692.000000  56692.000000   \n",
       "mean      10.159097      6.102568    167.848708      0.929183   6542.683482   \n",
       "std       10.766912      0.307167     15.014702      0.066439    380.329468   \n",
       "min        0.010000      4.573810    119.869000      0.794535   5096.080000   \n",
       "25%        3.725195      5.969493    156.235000      0.889793   6295.522500   \n",
       "50%        5.920780      6.120565    170.625000      0.938533   6529.010000   \n",
       "75%       11.642100      6.267622    179.313000      0.979955   6767.337500   \n",
       "max       60.346700      7.571230    207.426000      1.068230   8014.950000   \n",
       "\n",
       "            DI55152       FC55576       TI55017       FC42428      AYC55580  \\\n",
       "count  56692.000000  56692.000000  56692.000000  56692.000000  56692.000000   \n",
       "mean       0.948213    423.616848    186.704144  34949.282507     11.190763   \n",
       "std        0.043248    260.435270      9.778964   5665.289174      4.140405   \n",
       "min        0.820425      0.000548    159.702000  14573.800000      0.000862   \n",
       "25%        0.917749    244.604000    179.370000  31670.025000      9.382740   \n",
       "50%        0.942326    379.134000    185.770500  37037.650000     10.709550   \n",
       "75%        0.974824    617.744000    193.388250  39151.750000     12.928750   \n",
       "max        1.065410   1206.820000    212.051000  49372.900000     23.835600   \n",
       "\n",
       "            LC55555       TI55023      FFC55553       FC55555       TI55021  \\\n",
       "count  56692.000000  56692.000000  56692.000000  56692.000000  56692.000000   \n",
       "mean      59.583652    218.923414      0.983235  27838.228893    223.571121   \n",
       "std       10.709861      4.063504      0.056070   3535.683915      9.366356   \n",
       "min       27.970000    206.472000      0.265390  14214.900000    206.365000   \n",
       "25%       49.938100    215.731000      0.959998  26770.325000    217.963000   \n",
       "50%       61.884700    218.255500      0.988710  28947.000000    221.217000   \n",
       "75%       68.106400    221.765000      1.010652  30036.300000    225.275000   \n",
       "max       85.261600    232.208000      1.475490  34638.100000    260.685000   \n",
       "\n",
       "           FYC55553       FC55009       LC55557       TC55553       DI55580  \\\n",
       "count  56692.000000  5.669200e+04  56692.000000  56692.000000  56692.000000   \n",
       "mean   35311.748813  8.642095e+02     69.335227    182.968327      0.998448   \n",
       "std     4632.175030  5.951287e+02      3.271572     27.965747      0.044181   \n",
       "min    17321.200000  3.150000e-18     59.038000    110.534000      0.860904   \n",
       "25%    33117.150000  4.091148e+02     66.227375    162.691750      0.967603   \n",
       "50%    36832.650000  8.416325e+02     69.966300    177.601500      0.995945   \n",
       "75%    38552.225000  1.317453e+03     71.768800    202.014250      1.027960   \n",
       "max    50427.700000  2.655410e+03     79.508200    261.360000      1.125220   \n",
       "\n",
       "            LC55553       FC55003       FC55102      FFC55555       TC55555  \\\n",
       "count  56692.000000  56692.000000  56692.000000  56692.000000  56692.000000   \n",
       "mean      63.743198   5943.587725  44454.232553      0.774375    181.033535   \n",
       "std        6.403442    836.963231   6565.359850      0.021944      1.495460   \n",
       "min       43.548000   2925.430000  20039.100000      0.694477    175.746000   \n",
       "25%       61.246825   5425.580000  40968.975000      0.759903    179.971000   \n",
       "50%       65.277550   5963.340000  45941.200000      0.778141    180.142000   \n",
       "75%       67.964225   6506.837500  48822.325000      0.789695    182.027000   \n",
       "max       82.753500   8973.580000  62848.200000      0.853283    186.453000   \n",
       "\n",
       "            Decanol  \n",
       "count  56692.000000  \n",
       "mean       2.783139  \n",
       "std        1.600426  \n",
       "min        0.000976  \n",
       "25%        1.493330  \n",
       "50%        2.560000  \n",
       "75%        3.863330  \n",
       "max        7.923330  "
      ]
     },
     "execution_count": 4,
     "metadata": {},
     "output_type": "execute_result"
    }
   ],
   "source": [
    "\n",
    "\n",
    "df_CDCA1.describe() #to get summary statistics for numeric columns.\n"
   ]
  },
  {
   "cell_type": "code",
   "execution_count": 6,
   "metadata": {},
   "outputs": [],
   "source": [
    "\n",
    "# List of columns to exclude to run XGboost feature selection\n",
    "exclude_columns = [\"Date\", \"Decanol\"]\n",
    "exclude_columns_all = [\"Date\", \"Decanol\", 'TC55553', 'DI55580', 'FYC55553', 'FC55102']\n",
    "\n",
    "# Temporarily save the excluded columns\n",
    "temp_exclude = df_CDCA1[exclude_columns]\n",
    "\n",
    "# Create a new DataFrame without the excluded columnsd\n",
    "df_CDCA = df_CDCA1.drop(columns=exclude_columns_all)\n",
    "\n"
   ]
  },
  {
   "cell_type": "markdown",
   "metadata": {},
   "source": [
    "# Check for Missing Values:"
   ]
  },
  {
   "cell_type": "code",
   "execution_count": 7,
   "metadata": {},
   "outputs": [
    {
     "data": {
      "text/plain": [
       "Butanol     0\n",
       "425 %Al     0\n",
       "TC55552     0\n",
       "DI55102     0\n",
       "FC55569     0\n",
       "DI55152     0\n",
       "FC55576     0\n",
       "TI55017     0\n",
       "FC42428     0\n",
       "AYC55580    0\n",
       "LC55555     0\n",
       "TI55023     0\n",
       "FFC55553    0\n",
       "FC55555     0\n",
       "TI55021     0\n",
       "FC55009     0\n",
       "LC55557     0\n",
       "LC55553     0\n",
       "FC55003     0\n",
       "FFC55555    0\n",
       "TC55555     0\n",
       "dtype: int64"
      ]
     },
     "execution_count": 7,
     "metadata": {},
     "output_type": "execute_result"
    }
   ],
   "source": [
    "\n",
    "\n",
    "df_CDCA.isnull().sum() #to check the number of missing values in each column.\n"
   ]
  },
  {
   "cell_type": "markdown",
   "metadata": {},
   "source": [
    "# Correlation Analysis:"
   ]
  },
  {
   "cell_type": "code",
   "execution_count": 8,
   "metadata": {},
   "outputs": [
    {
     "data": {
      "image/png": "[encoded data removed]",
      "text/plain": [
       "<Figure size 640x480 with 2 Axes>"
      ]
     },
     "metadata": {},
     "output_type": "display_data"
    }
   ],
   "source": [
    "correlation_matrix = df_CDCA.corr(numeric_only = True)\n",
    "\n",
    "sns.heatmap(correlation_matrix, annot=False, cmap='coolwarm', fmt=\".2f\")\n",
    "plt.show()\n",
    "# Calculate and visualize correlations between numeric variables using a correlation matrix or heatmap.\n",
    "# Identify strong positive/negative correlations."
   ]
  },
  {
   "cell_type": "code",
   "execution_count": 9,
   "metadata": {},
   "outputs": [
    {
     "data": {
      "image/png": "[encoded data removed]",
      "text/plain": [
       "<Figure size 640x480 with 2 Axes>"
      ]
     },
     "metadata": {},
     "output_type": "display_data"
    }
   ],
   "source": [
    "strong_corr = correlation_matrix[abs(correlation_matrix) > 0.6]\n",
    "\n",
    "sns.heatmap(strong_corr, annot=False, cmap='coolwarm', fmt=\".2f\")\n",
    "plt.show()"
   ]
  },
  {
   "cell_type": "code",
   "execution_count": 10,
   "metadata": {},
   "outputs": [
    {
     "data": {
      "application/vnd.plotly.v1+json": {
       "config": {
        "plotlyServerURL": "https://plot.ly"
       },
       "data": [
        {
         "coloraxis": "coloraxis",
         "hovertemplate": "Features: %{x}<br>Features: %{y}<br>Correlation: %{z}<extra></extra>",
         "name": "0",
         "type": "heatmap",
         "x": [
          "Butanol",
          "425 %Al",
          "TC55552",
          "DI55102",
          "FC55569",
          "DI55152",
          "FC55576",
          "TI55017",
          "FC42428",
          "AYC55580",
          "LC55555",
          "TI55023",
          "FFC55553",
          "FC55555",
          "TI55021",
          "FC55009",
          "LC55557",
          "LC55553",
          "FC55003",
          "FFC55555",
          "TC55555"
         ],
         "xaxis": "x",
         "y": [
          "Butanol",
          "425 %Al",
          "TC55552",
          "DI55102",
          "FC55569",
          "DI55152",
          "FC55576",
          "TI55017",
          "FC42428",
          "AYC55580",
          "LC55555",
          "TI55023",
          "FFC55553",
          "FC55555",
          "TI55021",
          "FC55009",
          "LC55557",
          "LC55553",
          "FC55003",
          "FFC55555",
          "TC55555"
         ],
         "yaxis": "y",
         "z": [
          [
           1,
           0,
           0,
           0,
           0,
           0,
           0,
           0,
           0,
           0,
           0,
           0,
           0,
           0,
           0,
           0,
           0,
           0,
           0,
           0,
           0
          ],
          [
           0,
           1,
           0,
           0,
           0,
           0,
           0,
           0,
           0,
           0,
           0,
           0,
           0,
           0,
           0,
           0,
           0,
           0,
           0,
           0,
           0
          ],
          [
           0,
           0,
           1,
           0,
           0,
           0,
           0,
           0,
           0,
           0,
           0,
           0,
           0,
           0,
           0,
           0,
           0,
           0,
           0,
           0,
           0
          ],
          [
           0,
           0,
           0,
           1,
           0,
           0,
           0,
           0,
           0,
           0,
           0,
           0,
           0,
           0,
           0,
           0,
           0,
           0,
           0,
           0,
           0
          ],
          [
           0,
           0,
           0,
           0,
           1,
           0,
           0,
           0,
           0,
           0,
           0,
           0,
           0,
           0,
           0,
           0,
           0,
           0,
           0,
           0,
           0
          ],
          [
           0,
           0,
           0,
           0,
           0,
           1,
           0,
           0,
           0,
           0,
           0,
           0,
           0,
           0,
           0,
           0,
           0,
           0,
           0,
           0,
           0
          ],
          [
           0,
           0,
           0,
           0,
           0,
           0,
           1,
           0,
           0,
           0,
           0,
           0,
           0,
           0,
           0,
           0,
           0,
           0,
           0,
           0,
           0
          ],
          [
           0,
           0,
           0,
           0,
           0,
           0,
           0,
           1,
           0,
           0,
           0,
           0,
           0,
           0,
           0,
           0,
           0,
           0,
           0,
           0,
           0
          ],
          [
           0,
           0,
           0,
           0,
           0,
           0,
           0,
           0,
           1,
           0,
           0,
           0,
           0,
           0.6160604766879353,
           0,
           0,
           0,
           0,
           0,
           0,
           0
          ],
          [
           0,
           0,
           0,
           0,
           0,
           0,
           0,
           0,
           0,
           1,
           0,
           0,
           0,
           0,
           0,
           0,
           0,
           0,
           0,
           0,
           0
          ],
          [
           0,
           0,
           0,
           0,
           0,
           0,
           0,
           0,
           0,
           0,
           1,
           0,
           0,
           0,
           0,
           0,
           0,
           0,
           0,
           0,
           0
          ],
          [
           0,
           0,
           0,
           0,
           0,
           0,
           0,
           0,
           0,
           0,
           0,
           1,
           0,
           0,
           0,
           0,
           0,
           0,
           0,
           0,
           0
          ],
          [
           0,
           0,
           0,
           0,
           0,
           0,
           0,
           0,
           0,
           0,
           0,
           0,
           1,
           0,
           0,
           0,
           0,
           0,
           0,
           0,
           0
          ],
          [
           0,
           0,
           0,
           0,
           0,
           0,
           0,
           0,
           0.6160604766879353,
           0,
           0,
           0,
           0,
           1,
           0,
           0,
           0,
           0,
           0,
           0,
           0
          ],
          [
           0,
           0,
           0,
           0,
           0,
           0,
           0,
           0,
           0,
           0,
           0,
           0,
           0,
           0,
           1,
           0,
           0,
           0,
           0,
           0,
           0
          ],
          [
           0,
           0,
           0,
           0,
           0,
           0,
           0,
           0,
           0,
           0,
           0,
           0,
           0,
           0,
           0,
           1,
           0,
           0,
           0,
           0,
           0
          ],
          [
           0,
           0,
           0,
           0,
           0,
           0,
           0,
           0,
           0,
           0,
           0,
           0,
           0,
           0,
           0,
           0,
           1,
           0,
           0,
           0,
           0
          ],
          [
           0,
           0,
           0,
           0,
           0,
           0,
           0,
           0,
           0,
           0,
           0,
           0,
           0,
           0,
           0,
           0,
           0,
           1,
           0,
           0,
           0
          ],
          [
           0,
           0,
           0,
           0,
           0,
           0,
           0,
           0,
           0,
           0,
           0,
           0,
           0,
           0,
           0,
           0,
           0,
           0,
           1,
           0,
           0
          ],
          [
           0,
           0,
           0,
           0,
           0,
           0,
           0,
           0,
           0,
           0,
           0,
           0,
           0,
           0,
           0,
           0,
           0,
           0,
           0,
           1,
           0
          ],
          [
           0,
           0,
           0,
           0,
           0,
           0,
           0,
           0,
           0,
           0,
           0,
           0,
           0,
           0,
           0,
           0,
           0,
           0,
           0,
           0,
           1
          ]
         ]
        }
       ],
       "layout": {
        "coloraxis": {
         "colorbar": {
          "title": {
           "text": "Correlation"
          }
         },
         "colorscale": [
          [
           0,
           "rgb(23, 28, 66)"
          ],
          [
           0.09090909090909091,
           "rgb(41, 58, 143)"
          ],
          [
           0.18181818181818182,
           "rgb(11, 102, 189)"
          ],
          [
           0.2727272727272727,
           "rgb(69, 144, 185)"
          ],
          [
           0.36363636363636365,
           "rgb(142, 181, 194)"
          ],
          [
           0.45454545454545453,
           "rgb(210, 216, 219)"
          ],
          [
           0.5454545454545454,
           "rgb(230, 210, 204)"
          ],
          [
           0.6363636363636364,
           "rgb(213, 157, 137)"
          ],
          [
           0.7272727272727273,
           "rgb(196, 101, 72)"
          ],
          [
           0.8181818181818182,
           "rgb(172, 43, 36)"
          ],
          [
           0.9090909090909091,
           "rgb(120, 14, 40)"
          ],
          [
           1,
           "rgb(60, 9, 17)"
          ]
         ]
        },
        "height": 800,
        "template": {
         "data": {
          "bar": [
           {
            "error_x": {
             "color": "#2a3f5f"
            },
            "error_y": {
             "color": "#2a3f5f"
            },
            "marker": {
             "line": {
              "color": "#E5ECF6",
              "width": 0.5
             },
             "pattern": {
              "fillmode": "overlay",
              "size": 10,
              "solidity": 0.2
             }
            },
            "type": "bar"
           }
          ],
          "barpolar": [
           {
            "marker": {
             "line": {
              "color": "#E5ECF6",
              "width": 0.5
             },
             "pattern": {
              "fillmode": "overlay",
              "size": 10,
              "solidity": 0.2
             }
            },
            "type": "barpolar"
           }
          ],
          "carpet": [
           {
            "aaxis": {
             "endlinecolor": "#2a3f5f",
             "gridcolor": "white",
             "linecolor": "white",
             "minorgridcolor": "white",
             "startlinecolor": "#2a3f5f"
            },
            "baxis": {
             "endlinecolor": "#2a3f5f",
             "gridcolor": "white",
             "linecolor": "white",
             "minorgridcolor": "white",
             "startlinecolor": "#2a3f5f"
            },
            "type": "carpet"
           }
          ],
          "choropleth": [
           {
            "colorbar": {
             "outlinewidth": 0,
             "ticks": ""
            },
            "type": "choropleth"
           }
          ],
          "contour": [
           {
            "colorbar": {
             "outlinewidth": 0,
             "ticks": ""
            },
            "colorscale": [
             [
              0,
              "#0d0887"
             ],
             [
              0.1111111111111111,
              "#46039f"
             ],
             [
              0.2222222222222222,
              "#7201a8"
             ],
             [
              0.3333333333333333,
              "#9c179e"
             ],
             [
              0.4444444444444444,
              "#bd3786"
             ],
             [
              0.5555555555555556,
              "#d8576b"
             ],
             [
              0.6666666666666666,
              "#ed7953"
             ],
             [
              0.7777777777777778,
              "#fb9f3a"
             ],
             [
              0.8888888888888888,
              "#fdca26"
             ],
             [
              1,
              "#f0f921"
             ]
            ],
            "type": "contour"
           }
          ],
          "contourcarpet": [
           {
            "colorbar": {
             "outlinewidth": 0,
             "ticks": ""
            },
            "type": "contourcarpet"
           }
          ],
          "heatmap": [
           {
            "colorbar": {
             "outlinewidth": 0,
             "ticks": ""
            },
            "colorscale": [
             [
              0,
              "#0d0887"
             ],
             [
              0.1111111111111111,
              "#46039f"
             ],
             [
              0.2222222222222222,
              "#7201a8"
             ],
             [
              0.3333333333333333,
              "#9c179e"
             ],
             [
              0.4444444444444444,
              "#bd3786"
             ],
             [
              0.5555555555555556,
              "#d8576b"
             ],
             [
              0.6666666666666666,
              "#ed7953"
             ],
             [
              0.7777777777777778,
              "#fb9f3a"
             ],
             [
              0.8888888888888888,
              "#fdca26"
             ],
             [
              1,
              "#f0f921"
             ]
            ],
            "type": "heatmap"
           }
          ],
          "heatmapgl": [
           {
            "colorbar": {
             "outlinewidth": 0,
             "ticks": ""
            },
            "colorscale": [
             [
              0,
              "#0d0887"
             ],
             [
              0.1111111111111111,
              "#46039f"
             ],
             [
              0.2222222222222222,
              "#7201a8"
             ],
             [
              0.3333333333333333,
              "#9c179e"
             ],
             [
              0.4444444444444444,
              "#bd3786"
             ],
             [
              0.5555555555555556,
              "#d8576b"
             ],
             [
              0.6666666666666666,
              "#ed7953"
             ],
             [
              0.7777777777777778,
              "#fb9f3a"
             ],
             [
              0.8888888888888888,
              "#fdca26"
             ],
             [
              1,
              "#f0f921"
             ]
            ],
            "type": "heatmapgl"
           }
          ],
          "histogram": [
           {
            "marker": {
             "pattern": {
              "fillmode": "overlay",
              "size": 10,
              "solidity": 0.2
             }
            },
            "type": "histogram"
           }
          ],
          "histogram2d": [
           {
            "colorbar": {
             "outlinewidth": 0,
             "ticks": ""
            },
            "colorscale": [
             [
              0,
              "#0d0887"
             ],
             [
              0.1111111111111111,
              "#46039f"
             ],
             [
              0.2222222222222222,
              "#7201a8"
             ],
             [
              0.3333333333333333,
              "#9c179e"
             ],
             [
              0.4444444444444444,
              "#bd3786"
             ],
             [
              0.5555555555555556,
              "#d8576b"
             ],
             [
              0.6666666666666666,
              "#ed7953"
             ],
             [
              0.7777777777777778,
              "#fb9f3a"
             ],
             [
              0.8888888888888888,
              "#fdca26"
             ],
             [
              1,
              "#f0f921"
             ]
            ],
            "type": "histogram2d"
           }
          ],
          "histogram2dcontour": [
           {
            "colorbar": {
             "outlinewidth": 0,
             "ticks": ""
            },
            "colorscale": [
             [
              0,
              "#0d0887"
             ],
             [
              0.1111111111111111,
              "#46039f"
             ],
             [
              0.2222222222222222,
              "#7201a8"
             ],
             [
              0.3333333333333333,
              "#9c179e"
             ],
             [
              0.4444444444444444,
              "#bd3786"
             ],
             [
              0.5555555555555556,
              "#d8576b"
             ],
             [
              0.6666666666666666,
              "#ed7953"
             ],
             [
              0.7777777777777778,
              "#fb9f3a"
             ],
             [
              0.8888888888888888,
              "#fdca26"
             ],
             [
              1,
              "#f0f921"
             ]
            ],
            "type": "histogram2dcontour"
           }
          ],
          "mesh3d": [
           {
            "colorbar": {
             "outlinewidth": 0,
             "ticks": ""
            },
            "type": "mesh3d"
           }
          ],
          "parcoords": [
           {
            "line": {
             "colorbar": {
              "outlinewidth": 0,
              "ticks": ""
             }
            },
            "type": "parcoords"
           }
          ],
          "pie": [
           {
            "automargin": true,
            "type": "pie"
           }
          ],
          "scatter": [
           {
            "fillpattern": {
             "fillmode": "overlay",
             "size": 10,
             "solidity": 0.2
            },
            "type": "scatter"
           }
          ],
          "scatter3d": [
           {
            "line": {
             "colorbar": {
              "outlinewidth": 0,
              "ticks": ""
             }
            },
            "marker": {
             "colorbar": {
              "outlinewidth": 0,
              "ticks": ""
             }
            },
            "type": "scatter3d"
           }
          ],
          "scattercarpet": [
           {
            "marker": {
             "colorbar": {
              "outlinewidth": 0,
              "ticks": ""
             }
            },
            "type": "scattercarpet"
           }
          ],
          "scattergeo": [
           {
            "marker": {
             "colorbar": {
              "outlinewidth": 0,
              "ticks": ""
             }
            },
            "type": "scattergeo"
           }
          ],
          "scattergl": [
           {
            "marker": {
             "colorbar": {
              "outlinewidth": 0,
              "ticks": ""
             }
            },
            "type": "scattergl"
           }
          ],
          "scattermapbox": [
           {
            "marker": {
             "colorbar": {
              "outlinewidth": 0,
              "ticks": ""
             }
            },
            "type": "scattermapbox"
           }
          ],
          "scatterpolar": [
           {
            "marker": {
             "colorbar": {
              "outlinewidth": 0,
              "ticks": ""
             }
            },
            "type": "scatterpolar"
           }
          ],
          "scatterpolargl": [
           {
            "marker": {
             "colorbar": {
              "outlinewidth": 0,
              "ticks": ""
             }
            },
            "type": "scatterpolargl"
           }
          ],
          "scatterternary": [
           {
            "marker": {
             "colorbar": {
              "outlinewidth": 0,
              "ticks": ""
             }
            },
            "type": "scatterternary"
           }
          ],
          "surface": [
           {
            "colorbar": {
             "outlinewidth": 0,
             "ticks": ""
            },
            "colorscale": [
             [
              0,
              "#0d0887"
             ],
             [
              0.1111111111111111,
              "#46039f"
             ],
             [
              0.2222222222222222,
              "#7201a8"
             ],
             [
              0.3333333333333333,
              "#9c179e"
             ],
             [
              0.4444444444444444,
              "#bd3786"
             ],
             [
              0.5555555555555556,
              "#d8576b"
             ],
             [
              0.6666666666666666,
              "#ed7953"
             ],
             [
              0.7777777777777778,
              "#fb9f3a"
             ],
             [
              0.8888888888888888,
              "#fdca26"
             ],
             [
              1,
              "#f0f921"
             ]
            ],
            "type": "surface"
           }
          ],
          "table": [
           {
            "cells": {
             "fill": {
              "color": "#EBF0F8"
             },
             "line": {
              "color": "white"
             }
            },
            "header": {
             "fill": {
              "color": "#C8D4E3"
             },
             "line": {
              "color": "white"
             }
            },
            "type": "table"
           }
          ]
         },
         "layout": {
          "annotationdefaults": {
           "arrowcolor": "#2a3f5f",
           "arrowhead": 0,
           "arrowwidth": 1
          },
          "autotypenumbers": "strict",
          "coloraxis": {
           "colorbar": {
            "outlinewidth": 0,
            "ticks": ""
           }
          },
          "colorscale": {
           "diverging": [
            [
             0,
             "#8e0152"
            ],
            [
             0.1,
             "#c51b7d"
            ],
            [
             0.2,
             "#de77ae"
            ],
            [
             0.3,
             "#f1b6da"
            ],
            [
             0.4,
             "#fde0ef"
            ],
            [
             0.5,
             "#f7f7f7"
            ],
            [
             0.6,
             "#e6f5d0"
            ],
            [
             0.7,
             "#b8e186"
            ],
            [
             0.8,
             "#7fbc41"
            ],
            [
             0.9,
             "#4d9221"
            ],
            [
             1,
             "#276419"
            ]
           ],
           "sequential": [
            [
             0,
             "#0d0887"
            ],
            [
             0.1111111111111111,
             "#46039f"
            ],
            [
             0.2222222222222222,
             "#7201a8"
            ],
            [
             0.3333333333333333,
             "#9c179e"
            ],
            [
             0.4444444444444444,
             "#bd3786"
            ],
            [
             0.5555555555555556,
             "#d8576b"
            ],
            [
             0.6666666666666666,
             "#ed7953"
            ],
            [
             0.7777777777777778,
             "#fb9f3a"
            ],
            [
             0.8888888888888888,
             "#fdca26"
            ],
            [
             1,
             "#f0f921"
            ]
           ],
           "sequentialminus": [
            [
             0,
             "#0d0887"
            ],
            [
             0.1111111111111111,
             "#46039f"
            ],
            [
             0.2222222222222222,
             "#7201a8"
            ],
            [
             0.3333333333333333,
             "#9c179e"
            ],
            [
             0.4444444444444444,
             "#bd3786"
            ],
            [
             0.5555555555555556,
             "#d8576b"
            ],
            [
             0.6666666666666666,
             "#ed7953"
            ],
            [
             0.7777777777777778,
             "#fb9f3a"
            ],
            [
             0.8888888888888888,
             "#fdca26"
            ],
            [
             1,
             "#f0f921"
            ]
           ]
          },
          "colorway": [
           "#636efa",
           "#EF553B",
           "#00cc96",
           "#ab63fa",
           "#FFA15A",
           "#19d3f3",
           "#FF6692",
           "#B6E880",
           "#FF97FF",
           "#FECB52"
          ],
          "font": {
           "color": "#2a3f5f"
          },
          "geo": {
           "bgcolor": "white",
           "lakecolor": "white",
           "landcolor": "#E5ECF6",
           "showlakes": true,
           "showland": true,
           "subunitcolor": "white"
          },
          "hoverlabel": {
           "align": "left"
          },
          "hovermode": "closest",
          "mapbox": {
           "style": "light"
          },
          "paper_bgcolor": "white",
          "plot_bgcolor": "#E5ECF6",
          "polar": {
           "angularaxis": {
            "gridcolor": "white",
            "linecolor": "white",
            "ticks": ""
           },
           "bgcolor": "#E5ECF6",
           "radialaxis": {
            "gridcolor": "white",
            "linecolor": "white",
            "ticks": ""
           }
          },
          "scene": {
           "xaxis": {
            "backgroundcolor": "#E5ECF6",
            "gridcolor": "white",
            "gridwidth": 2,
            "linecolor": "white",
            "showbackground": true,
            "ticks": "",
            "zerolinecolor": "white"
           },
           "yaxis": {
            "backgroundcolor": "#E5ECF6",
            "gridcolor": "white",
            "gridwidth": 2,
            "linecolor": "white",
            "showbackground": true,
            "ticks": "",
            "zerolinecolor": "white"
           },
           "zaxis": {
            "backgroundcolor": "#E5ECF6",
            "gridcolor": "white",
            "gridwidth": 2,
            "linecolor": "white",
            "showbackground": true,
            "ticks": "",
            "zerolinecolor": "white"
           }
          },
          "shapedefaults": {
           "line": {
            "color": "#2a3f5f"
           }
          },
          "ternary": {
           "aaxis": {
            "gridcolor": "white",
            "linecolor": "white",
            "ticks": ""
           },
           "baxis": {
            "gridcolor": "white",
            "linecolor": "white",
            "ticks": ""
           },
           "bgcolor": "#E5ECF6",
           "caxis": {
            "gridcolor": "white",
            "linecolor": "white",
            "ticks": ""
           }
          },
          "title": {
           "x": 0.05
          },
          "xaxis": {
           "automargin": true,
           "gridcolor": "white",
           "linecolor": "white",
           "ticks": "",
           "title": {
            "standoff": 15
           },
           "zerolinecolor": "white",
           "zerolinewidth": 2
          },
          "yaxis": {
           "automargin": true,
           "gridcolor": "white",
           "linecolor": "white",
           "ticks": "",
           "title": {
            "standoff": 15
           },
           "zerolinecolor": "white",
           "zerolinewidth": 2
          }
         }
        },
        "title": {
         "text": "Correlation Matrix"
        },
        "width": 800,
        "xaxis": {
         "anchor": "y",
         "constrain": "domain",
         "domain": [
          0,
          1
         ],
         "scaleanchor": "y",
         "side": "bottom",
         "title": {
          "text": "Features"
         }
        },
        "yaxis": {
         "anchor": "x",
         "autorange": "reversed",
         "constrain": "domain",
         "domain": [
          0,
          1
         ],
         "title": {
          "text": "Features"
         }
        }
       }
      }
     },
     "metadata": {},
     "output_type": "display_data"
    }
   ],
   "source": [
    "\n",
    "threshold = 0.6\n",
    "correlation_matrix = df_CDCA.corr(numeric_only=True)\n",
    "correlation_matrix = correlation_matrix[abs(correlation_matrix) > threshold].fillna(0)\n",
    "\n",
    "\n",
    "\n",
    "fig = px.imshow(correlation_matrix, \n",
    "                color_continuous_scale='balance',\n",
    "                labels=dict(x=\"Features\", y=\"Features\", color=\"Correlation\"),\n",
    "                title=\"Correlation Matrix\")\n",
    "\n",
    "fig.update_xaxes(title_text='Features', side='bottom')\n",
    "fig.update_layout(width=800, height=800)\n",
    "\n",
    "fig.show()\n",
    "\n"
   ]
  },
  {
   "cell_type": "code",
   "execution_count": 11,
   "metadata": {},
   "outputs": [],
   "source": [
    "upper_triangle = np.triu(np.ones(correlation_matrix.shape), k=1).astype(bool)\n"
   ]
  },
  {
   "cell_type": "code",
   "execution_count": 12,
   "metadata": {},
   "outputs": [
    {
     "name": "stdout",
     "output_type": "stream",
     "text": [
      "  Pair_ID Variable  Correlation  Importance                 DESCRIPTION\n",
      "0    c1v1  FC42428      0.61606       222.0    STRIPPED ALKOXIDE TO 658\n",
      "1    c1v2  FC55555      0.61606       183.0  ####### UPDATE DESCRIPTION\n"
     ]
    }
   ],
   "source": [
    "# Get indices of upper triangle where correlations are above threshold\n",
    "indices = np.where((np.abs(correlation_matrix) > threshold) & (upper_triangle))\n",
    "\n",
    "# Convert these indices to lists\n",
    "rows, cols = indices[0].tolist(), indices[1].tolist()\n",
    "\n",
    "# Construct pairs and fetch corresponding values 'DESCRIPTION'\n",
    "\n",
    "\n",
    "data = []\n",
    "correlation_id = 1  # Start the unique identifier for each correlation pair\n",
    "\n",
    "for row, col in zip(rows, cols):\n",
    "    # Ensure v1 is always lexicographically smaller than v2\n",
    "    v1, v2 = sorted([correlation_matrix.columns[row], correlation_matrix.columns[col]])\n",
    "    \n",
    "    # Skip if this pair has already been processed\n",
    "    if any(x[1] == v1 and x[2] == v2 for x in data):\n",
    "        continue\n",
    "\n",
    "    correlation_value = correlation_matrix.loc[v1, v2]\n",
    "    \n",
    "    # Fetch other required values for v1\n",
    "    importance1 = FScore[FScore['Feature'] == v1]['Importance'].values[0] if not FScore[FScore['Feature'] == v1].empty else \"N/A\"\n",
    "    DESCRIPTION1 = TagDesc[TagDesc['ID'] == v1]['DESCRIPTION'].values[0] if not TagDesc[TagDesc['ID'] == v1].empty else \"####### UPDATE DESCRIPTION\"\n",
    "    \n",
    "    # Fetch other required values for v2\n",
    "    importance2 = FScore[FScore['Feature'] == v2]['Importance'].values[0] if not FScore[FScore['Feature'] == v2].empty else \"N/A\"\n",
    "    DESCRIPTION2 = TagDesc[TagDesc['ID'] == v2]['DESCRIPTION'].values[0] if not TagDesc[TagDesc['ID'] == v2].empty else \"####### UPDATE DESCRIPTION\"\n",
    "    \n",
    "    # Append data for v1 and then v2\n",
    "    data.append(['c' + str(correlation_id) + 'v1', v1, correlation_value, importance1, DESCRIPTION1])\n",
    "    data.append(['c' + str(correlation_id) + 'v2', v2, correlation_value, importance2, DESCRIPTION2])\n",
    "    \n",
    "    correlation_id += 1  # Increment the identifier for the next unique correlation pair\n",
    "\n",
    "final_df = pd.DataFrame(data, columns=['Pair_ID', 'Variable', 'Correlation', 'Importance', 'DESCRIPTION'])\n",
    "print(final_df)\n"
   ]
  },
  {
   "cell_type": "code",
   "execution_count": 13,
   "metadata": {},
   "outputs": [
    {
     "name": "stdout",
     "output_type": "stream",
     "text": [
      "  Pair_ID Variable  Correlation  Importance                 DESCRIPTION\n",
      "0    c1v1  FC42428      0.61606       222.0    STRIPPED ALKOXIDE TO 658\n",
      "1    c1v2  FC55555      0.61606       183.0  ####### UPDATE DESCRIPTION\n"
     ]
    }
   ],
   "source": [
    "sorted_df = final_df.sort_values(by='Correlation', ascending=False)\n",
    "print(sorted_df)\n"
   ]
  },
  {
   "cell_type": "code",
   "execution_count": 14,
   "metadata": {},
   "outputs": [
    {
     "data": {
      "text/html": [
       "<div>\n",
       "<style scoped>\n",
       "    .dataframe tbody tr th:only-of-type {\n",
       "        vertical-align: middle;\n",
       "    }\n",
       "\n",
       "    .dataframe tbody tr th {\n",
       "        vertical-align: top;\n",
       "    }\n",
       "\n",
       "    .dataframe thead th {\n",
       "        text-align: right;\n",
       "    }\n",
       "</style>\n",
       "<table border=\"1\" class=\"dataframe\">\n",
       "  <thead>\n",
       "    <tr style=\"text-align: right;\">\n",
       "      <th></th>\n",
       "      <th>Pair_ID</th>\n",
       "      <th>Variable</th>\n",
       "      <th>Correlation</th>\n",
       "      <th>Importance</th>\n",
       "      <th>DESCRIPTION</th>\n",
       "    </tr>\n",
       "  </thead>\n",
       "  <tbody>\n",
       "    <tr>\n",
       "      <th>0</th>\n",
       "      <td>c1v1</td>\n",
       "      <td>FC42428</td>\n",
       "      <td>0.61606</td>\n",
       "      <td>222.0</td>\n",
       "      <td>STRIPPED ALKOXIDE TO 658</td>\n",
       "    </tr>\n",
       "    <tr>\n",
       "      <th>1</th>\n",
       "      <td>c1v2</td>\n",
       "      <td>FC55555</td>\n",
       "      <td>0.61606</td>\n",
       "      <td>183.0</td>\n",
       "      <td>####### UPDATE DESCRIPTION</td>\n",
       "    </tr>\n",
       "  </tbody>\n",
       "</table>\n",
       "</div>"
      ],
      "text/plain": [
       "  Pair_ID Variable  Correlation  Importance                 DESCRIPTION\n",
       "0    c1v1  FC42428      0.61606       222.0    STRIPPED ALKOXIDE TO 658\n",
       "1    c1v2  FC55555      0.61606       183.0  ####### UPDATE DESCRIPTION"
      ]
     },
     "execution_count": 14,
     "metadata": {},
     "output_type": "execute_result"
    }
   ],
   "source": [
    "sorted_df = final_df.sort_values(by='Importance', ascending=False)\n",
    "sorted_df"
   ]
  },
  {
   "cell_type": "code",
   "execution_count": 15,
   "metadata": {},
   "outputs": [],
   "source": [
    "# # Extract the feature names you want to keep from df_importance\n",
    "# features_to_keep = df_importance['Feature'].tolist()\n",
    "\n",
    "# # Filter df_CDFI using these features\n",
    "# df_CDFI = df_CDFI[features_to_keep]\n",
    "\n",
    "# # Add back the excluded columns to df_CDFI\n",
    "# df_CDFI = pd.concat([y, df_CDFI, temp_exclude], axis=1)"
   ]
  },
  {
   "cell_type": "code",
   "execution_count": 17,
   "metadata": {},
   "outputs": [],
   "source": [
    "# # List of columns to exclude to run XGboost feature selection\n",
    "# exclude_columns = [\n",
    "    \n",
    "#     \"TI55017\", \"FYC55553\"\n",
    "#     #, \"FC55152\",\n",
    "#     # , \"FC55152\", \"FC42428\",\n",
    "    \n",
    "#     ]\n",
    "\n",
    "# # Create a new DataFrame without the excluded columnsd\n",
    "# df_CDCA = df_CDCA.drop(columns=exclude_columns)\n",
    "\n",
    "\n",
    "\n",
    "\n",
    "\n",
    "\n",
    "# Add back the excluded columns to df_CDFI\n",
    "df_CDCA = pd.concat([df_CDCA, temp_exclude], axis=1)\n",
    "\n",
    "\n",
    "# If you want to save df_CDFI to a .csv file:\n",
    "df_CDCA.to_csv('df_CDCA.csv', index=False)"
   ]
  },
  {
   "cell_type": "markdown",
   "metadata": {},
   "source": [
    "### No CSV Output\n",
    "\n",
    "Next page starts will all data inputs and uses only those below\n",
    "\n",
    "LIMS data lables need to be refomatted to input style or they will be left out"
   ]
  },
  {
   "cell_type": "code",
   "execution_count": 18,
   "metadata": {},
   "outputs": [
    {
     "data": {
      "text/plain": [
       "Index(['Butanol', '425 %Al', 'TC55552', 'DI55102', 'FC55569', 'DI55152',\n",
       "       'FC55576', 'TI55017', 'FC42428', 'AYC55580', 'LC55555', 'TI55023',\n",
       "       'FFC55553', 'FC55555', 'TI55021', 'FC55009', 'LC55557', 'LC55553',\n",
       "       'FC55003', 'FFC55555', 'TC55555', 'Date', 'Decanol'],\n",
       "      dtype='object')"
      ]
     },
     "execution_count": 18,
     "metadata": {},
     "output_type": "execute_result"
    }
   ],
   "source": [
    "df_CDCA.columns\n",
    "# Data Visualization:\n",
    "\n",
    "# Create various plots (histograms, bar charts, scatter plots, etc.) to visualize the distribution of data and relationships between variables.\n",
    "# Use libraries like Matplotlib or Seaborn for data visualization."
   ]
  },
  {
   "cell_type": "code",
   "execution_count": 19,
   "metadata": {},
   "outputs": [
    {
     "name": "stdout",
     "output_type": "stream",
     "text": [
      "Number of features: 23\n"
     ]
    }
   ],
   "source": [
    "num_columns = df_CDCA.shape[1]\n",
    "print(\"Number of features:\", num_columns)"
   ]
  }
 ],
 "metadata": {
  "kernelspec": {
   "display_name": "Python 3",
   "language": "python",
   "name": "python3"
  },
  "language_info": {
   "codemirror_mode": {
    "name": "ipython",
    "version": 3
   },
   "file_extension": ".py",
   "mimetype": "text/x-python",
   "name": "python",
   "nbconvert_exporter": "python",
   "pygments_lexer": "ipython3",
   "version": "3.10.9"
  }
 },
 "nbformat": 4,
 "nbformat_minor": 2
}
